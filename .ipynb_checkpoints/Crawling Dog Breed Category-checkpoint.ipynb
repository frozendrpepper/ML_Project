{
 "cells": [
  {
   "cell_type": "markdown",
   "metadata": {},
   "source": [
    "# Since there are over 1200 dog species in the 'Breed' column, it seems unreasonable to try and apply one hot encoding for each unique species. This would most likely result in overfitting.\n",
    "\n",
    "# The strategy here is to group the species either by size or by the type/category of dog. The crawling will be done based on information on the following webpage:\n",
    "\n",
    "### http://www.dogbreedslist.info/small-dog-breeds/#.Wfxwb2i0NPY"
   ]
  },
  {
   "cell_type": "code",
   "execution_count": 1,
   "metadata": {
    "collapsed": true
   },
   "outputs": [],
   "source": [
    "import requests\n",
    "from bs4 import BeautifulSoup\n",
    "import re"
   ]
  },
  {
   "cell_type": "markdown",
   "metadata": {},
   "source": [
    "## 1) Let us first extract the dog list by size\n",
    "\n",
    "#### First up is small sized dogs"
   ]
  },
  {
   "cell_type": "code",
   "execution_count": 8,
   "metadata": {
    "collapsed": true
   },
   "outputs": [],
   "source": [
    "def dog_size_crawler(url, selector):\n",
    "    res = requests.get(url)\n",
    "    soup = BeautifulSoup(res.content, 'html.parser')\n",
    "    dog_list = soup.select(selector)\n",
    "    compile_list = []\n",
    "    for dog in dog_list:\n",
    "        compile_list.append(dog.get_text())\n",
    "    return compile_list"
   ]
  },
  {
   "cell_type": "code",
   "execution_count": 15,
   "metadata": {
    "collapsed": true
   },
   "outputs": [],
   "source": [
    "def dog_size_compile(url_list, selector):\n",
    "    list_compile = []\n",
    "    for url in url_list:\n",
    "        crawler_list = dog_size_crawler(url, selector)\n",
    "        list_compile += crawler_list\n",
    "    return list_compile"
   ]
  },
  {
   "cell_type": "markdown",
   "metadata": {},
   "source": [
    "#### Small size"
   ]
  },
  {
   "cell_type": "code",
   "execution_count": 16,
   "metadata": {
    "collapsed": true
   },
   "outputs": [],
   "source": [
    "small_url_list = ['http://www.dogbreedslist.info/small-dog-breeds/list_2_1.html#.Wfx1Mmi0NPY', \n",
    "                'http://www.dogbreedslist.info/small-dog-breeds/list_2_2.html#.Wfx1Mmi0NPY', \n",
    "                'http://www.dogbreedslist.info/small-dog-breeds/list_2_3.html#.Wfx1Mmi0NPY', \n",
    "                'http://www.dogbreedslist.info/small-dog-breeds/list_2_4.html#.Wfx1Mmi0NPY', \n",
    "                'http://www.dogbreedslist.info/small-dog-breeds/list_2_5.html#.Wfx1Mmi0NPY',\n",
    "                'http://www.dogbreedslist.info/small-dog-breeds/list_2_6.html#.Wfx1Mmi0NPY']\n",
    "\n",
    "selector = 'body > div.main > div.main-r > div > div.list-01 > div.right > div.right-t > p > a'\n",
    "small_dog_compile = dog_size_compile(small_url_list, selector)"
   ]
  },
  {
   "cell_type": "code",
   "execution_count": 18,
   "metadata": {},
   "outputs": [
    {
     "name": "stdout",
     "output_type": "stream",
     "text": [
      "104\n",
      "['Beagle', 'French Bulldog', 'Yorkshire Terrier', 'Dachshund', 'Miniature Schnauzer', 'Pembroke Welsh Corgi', 'Cavalier King Charles Spaniel', 'Shih Tzu', 'Boston Terrier', 'Pomeranian', 'Havanese', 'Shetland Sheepdog', 'Chihuahua', 'Pug', 'Maltese', 'West Highland White Terrier', 'Bichon Frise', 'Papillon', 'Scottish Terrier', 'Miniature Pinscher', 'Cardigan Welsh Corgi', 'Cairn Terrier', 'Lhasa Apso', 'Italian Greyhound', 'Chinese Crested', 'Coton De Tulear', 'Border Terrier', 'Jack Russell Terrier', 'Keeshond', 'Pekingese', 'Rat Terrier', 'Brussels Griffon', 'Silky Terrier', 'Norwich Terrier', 'American Hairless Terrier', 'Japanese Chin', 'Parson Russell Terrier', 'Welsh Terrier', 'Schipperke', 'Irish Terrier', 'Toy Fox Terrier', 'Tibetan Spaniel', 'Miniature Bull Terrier', 'American Eskimo Dog', 'Smooth Fox Terrier', 'English Toy Spaniel', 'Manchester Terrier', 'Norfolk Terrier', 'Australian Terrier', 'Bedlington Terrier', 'Xoloitzcuintli', 'Lakeland Terrier', 'Petit Basset Griffon Vendeen', 'Affenpinscher', 'Sealyham Terrier', 'Swedish Vallhund', 'Dandie Dinmont Terrier', 'Lowchen', 'Sussex Spaniel', 'Skye Terrier', 'Glen of Imaal Terrier', 'Cesky Terrier', 'Norwegian Lundehund', 'Miniature Poodle', 'Toy Poodle', 'Miniature Shar Pei', 'Basset Bleu de Gascogne', 'Basset Fauve de Bretagne', 'Brazilian Terrier', 'Cockapoo', 'Danish-Swedish Farmdog', 'Drever', 'Dutch Smoushond', 'Jagdterrier', 'Goldendoodle', 'Japanese Spitz', 'Japanese Terrier', 'Lancashire Heeler', 'Miniature Bulldog', 'Patterdale Terrier', 'Plummer Terrier', 'Prazsky Krysarik', 'Russian Spaniel', 'Russian Toy', 'Karst Shepherd', 'Volpino Italiano', 'Alopekis', 'Basset Artesien Normand', 'Beaglier', 'Bolognese dog', 'Mountain Feist', 'Chizer', 'Cotonese', 'Taco Terrier', 'Cairmal', 'Kyi-Leo', 'Chorkie', 'Dorgi', 'Dorkie', 'Lucas Terrier', 'Mal-Shi', 'Shichon', 'Puggle', 'Russian Tsvetnaya Bolonka']\n"
     ]
    }
   ],
   "source": [
    "print(len(small_dog_compile))\n",
    "print(small_dog_compile)"
   ]
  },
  {
   "cell_type": "markdown",
   "metadata": {},
   "source": [
    "#### Medium size"
   ]
  },
  {
   "cell_type": "code",
   "execution_count": 19,
   "metadata": {
    "collapsed": true
   },
   "outputs": [],
   "source": [
    "medium_url_list = ['http://www.dogbreedslist.info/medium-dog-breeds/list_3_1.html#.Wfx3bmi0NPY',\n",
    "                   'http://www.dogbreedslist.info/medium-dog-breeds/list_3_2.html#.Wfx3bmi0NPY',\n",
    "                   'http://www.dogbreedslist.info/medium-dog-breeds/list_3_3.html#.Wfx3bmi0NPY', \n",
    "                   'http://www.dogbreedslist.info/medium-dog-breeds/list_3_4.html#.Wfx3bmi0NPY',\n",
    "                   'http://www.dogbreedslist.info/medium-dog-breeds/list_3_5.html#.Wfx3bmi0NPY',\n",
    "                   'http://www.dogbreedslist.info/medium-dog-breeds/list_3_6.html#.Wfx3bmi0NPY']\n",
    "\n",
    "selector = 'body > div.main > div.main-r > div > div.list-01 > div.right > div.right-t > p > a'\n",
    "medium_dog_compile = dog_size_compile(medium_url_list, selector)"
   ]
  },
  {
   "cell_type": "code",
   "execution_count": 20,
   "metadata": {},
   "outputs": [
    {
     "name": "stdout",
     "output_type": "stream",
     "text": [
      "120\n",
      "['Labrador Retriever', 'Bulldog', 'Poodle', 'Boxer', 'Siberian Husky', 'Australian Shepherd', 'Brittany', 'English Springer Spaniel', 'American Cocker Spaniel', 'Vizsla', 'Weimaraner', 'Miniature American Shepherd', 'Border Collie', 'Basset Hound', 'Shiba Inu', 'Belgian Malinois', 'Soft Coated Wheaten Terrier', 'Portuguese Water Dog', 'Australian Cattle Dog', 'Airedale Terrier', 'English Cocker Spaniel', 'Bull Terrier', 'Whippet', 'Shar-Pei', 'German Wirehaired Pointer', 'Samoyed', 'Wirehaired Pointing Griffon', 'Chow Chow', 'American Staffordshire Terrier', 'Staffordshire Bull Terrier', 'Standard Schnauzer', 'Nova Scotia Duck Tolling Retriever', 'Basenji', 'Tibetan Terrier', 'Norwegian Elkhound', 'Wire Fox Terrier', 'Belgian Tervuren', 'Boykin Spaniel', 'Lagotto Romagnolo', 'Pointer', 'American Eskimo Dog', 'Welsh Springer Spaniel', 'Bearded Collie', 'Kerry Blue Terrier', 'Treeing Walker Coonhound', 'Berger Picard', 'Redbone Coonhound', 'Clumber Spaniel', 'German Pinscher', 'Field Spaniel', 'Irish Water Spaniel', 'Icelandic Sheepdog', 'American Water Spaniel', 'Wirehaired Vizsla', 'Plott Hound', 'Puli', 'Portuguese Podengo Pequeno', 'Entlebucher Mountain Dog', 'Spanish Water Dog', 'Pharaoh Hound', 'Polish Lowland Sheepdog', 'American English Coonhound', 'Finnish Lapphund', 'Norwegian Buhund', 'Pyrenean Shepherd', 'Finnish Spitz', 'Canaan Dog', 'Cirneco dell’Etna', 'Harrier', 'English Foxhound', 'Africanis', 'Aidi', 'Alaskan Klee Kai', 'American Pit Bull Terrier', 'American White Shepherd', 'Appenzeller Sennenhund', 'Ariegeois', 'Australian Bulldog', 'Australian Kelpie', 'Australian Stumpy Tail Cattle Dog', 'Austrian Black and Tan Hound', 'Austrian Pinscher', 'Barbet', 'Bavarian Mountain Hound', 'Belgian Shepherd Laekenois', 'Black Mouth Cur', 'Black Norwegian Elkhound', 'Blue Lacy', 'Bohemian Shepherd', 'Bouvier des Ardennes', 'Braque du Bourbonnais', 'Briquet Griffon Vendeen', 'Cão da Serra de Aires', 'Carolina Dog', 'Catahoula Bulldog', 'Catahoula Leopard Dog', 'Catalan Sheepdog', 'Cesky Fousek', 'Croatian Sheepdog', 'Deutsche Bracke', 'Dingo', 'Drentse Patrijshond', 'Dunker', 'English Shepherd', 'Eurasier', 'Fila Brasileiro', 'Finnish Hound', 'French Spaniel', 'Polish Hunting Dog', 'Grand Basset Griffon Vendeen', 'Griffon bleu de Gascogne', 'Hamilton Hound', 'Hokkaido Dog', 'Hovawart', 'Jämthund', 'Korean Jindo', 'Karelian Bear Dog', 'Kishu Ken', 'Kooikerhondje', 'Koolie']\n"
     ]
    }
   ],
   "source": [
    "print(len(medium_dog_compile))\n",
    "print(medium_dog_compile)"
   ]
  },
  {
   "cell_type": "markdown",
   "metadata": {},
   "source": [
    "#### Large size"
   ]
  },
  {
   "cell_type": "code",
   "execution_count": 21,
   "metadata": {
    "collapsed": true
   },
   "outputs": [],
   "source": [
    "large_url_list = ['http://www.dogbreedslist.info/large-dog-breeds/list_4_1.html#.Wfx9nWi0NPY',\n",
    "                   'http://www.dogbreedslist.info/large-dog-breeds/list_4_2.html#.Wfx9nWi0NPY',\n",
    "                   'http://www.dogbreedslist.info/large-dog-breeds/list_4_3.html#.Wfx9nWi0NPY', \n",
    "                   'http://www.dogbreedslist.info/large-dog-breeds/list_4_4.html#.Wfx9nWi0NPY',\n",
    "                   'http://www.dogbreedslist.info/large-dog-breeds/list_4_5.html#.Wfx9nWi0NPY',\n",
    "                   'http://www.dogbreedslist.info/large-dog-breeds/list_4_6.html#.Wfx9nWi0NPY']\n",
    "\n",
    "selector = 'body > div.main > div.main-r > div > div.list-01 > div.right > div.right-t > p > a'\n",
    "large_dog_compile = dog_size_compile(large_url_list, selector)"
   ]
  },
  {
   "cell_type": "code",
   "execution_count": 22,
   "metadata": {},
   "outputs": [
    {
     "name": "stdout",
     "output_type": "stream",
     "text": [
      "93\n",
      "['German Shepherd', 'Golden Retriever', 'Rottweiler', 'German Shorthaired Pointer', 'Doberman Pinscher', 'Bernese Mountain Dog', 'Collie', 'Cane Corso', 'Rhodesian Ridgeback', 'Chesapeake Bay Retriever', 'Akita', 'Bullmastiff', 'Bloodhound', 'Alaskan Malamute', 'Dogue de Bordeaux', 'Dalmatian', 'Old English Sheepdog', 'Irish Setter', 'Greater Swiss Mountain Dog', 'Bouvier des Flandres', 'Anatolian Shepherd Dog', 'Flat-Coated Retriever', 'Borzoi', 'English Setter', 'Gordon Setter', 'Spinone Italiano', 'Afghan Hound', 'Black Russian Terrier', 'Bluetick Coonhound', 'Saluki', 'Black and Tan Coonhound', 'Belgian Sheepdog', 'Boerboel', 'Briard', 'Tibetan Mastiff', 'Beauceron', 'Irish Red and White Setter', 'Ibizan Hound', 'Curly-Coated Retriever', 'Otterhound', 'Chinook', 'Komondor', 'Bergamasco', 'American Foxhound', 'Grand Bleu de Gascogne', 'Kangal Dog', 'Spanish Greyhound', 'Akbash Dog', 'Alano Espanol', 'Alapaha Blue Blood Bulldog', 'American Mastiff', 'American Staghound', 'Argentine Dogo', 'Ariege Pointer', 'Azawakh', 'Blue Picardy Spaniel', 'Bracco Italiano', 'Bukovina Sheepdog', 'Bulgarian Shepherd Dog', 'Canadian Eskimo Dog', 'Caravan Hound', 'Carpathian Sheepdog', 'Caucasian Ovcharka', 'Central Asian Ovtcharka', 'Czechoslovakian Wolfdog', 'Dutch Shepherd Dog', 'East Siberian Laika', 'East-European Shepherd', 'Francais Blanc et Noir', 'German Longhaired Pointer', 'Greenland Dog', 'Large Munsterlander', 'Northern Inuit Dog', 'Perro de Presa Canario', 'Picardy Spaniel', 'Pudelpointer', 'Rajapalayam dog', 'Saarloos wolfdog', 'Sloughi', 'South Russian Ovcharka', 'Tamaskan Dog', 'Tornjak', 'Tosa Ken', 'West Siberian Laika', 'Alaskan Husky', 'American Bulldog', 'Bull Arab', 'Majestic Tree Hound', 'Maremma Sheepdog', 'Slovensky Cuvac', 'Moscow Watchdog', 'Mountain Cur', 'Polish Tatra Sheepdog']\n"
     ]
    }
   ],
   "source": [
    "print(len(large_dog_compile))\n",
    "print(large_dog_compile)"
   ]
  },
  {
   "cell_type": "markdown",
   "metadata": {},
   "source": [
    "#### Giant size"
   ]
  },
  {
   "cell_type": "code",
   "execution_count": 23,
   "metadata": {
    "collapsed": true
   },
   "outputs": [],
   "source": [
    "giant_url_list = ['http://www.dogbreedslist.info/giant-dog-breeds/list_5_1.html#.Wfx9nWi0NPY',]\n",
    "\n",
    "selector = 'body > div.main > div.main-r > div > div.list-01 > div.right > div.right-t > p > a'\n",
    "giant_dog_compile = dog_size_compile(giant_url_list, selector)"
   ]
  },
  {
   "cell_type": "code",
   "execution_count": 24,
   "metadata": {},
   "outputs": [
    {
     "name": "stdout",
     "output_type": "stream",
     "text": [
      "18\n",
      "['Great Dane', 'Mastiff', 'Newfoundland', 'St. Bernard', 'Great Pyrenees', 'Irish Wolfhound', 'Giant Schnauzer', 'Leonberger', 'Neapolitan Mastiff', 'Greyhound', 'Scottish Deerhound', 'Kuvasz', 'Chart Polski', 'Landseer', 'Pakistani Mastiff', 'Shiloh Shepherd dog', 'Spanish Mastiff', 'King Shepherd']\n"
     ]
    }
   ],
   "source": [
    "print(len(giant_dog_compile))\n",
    "print(giant_dog_compile)"
   ]
  },
  {
   "cell_type": "markdown",
   "metadata": {},
   "source": [
    "## 2) Alternatively, we could extract the list by grouping category used by American Kennel Club\n",
    "\n",
    "### Reference: https://en.wikipedia.org/wiki/List_of_dog_breeds_recognized_by_the_American_Kennel_Club"
   ]
  },
  {
   "cell_type": "code",
   "execution_count": 25,
   "metadata": {
    "collapsed": true
   },
   "outputs": [],
   "source": [
    "def dog_type_crawler(url, selector):\n",
    "    res = requests.get(url)\n",
    "    soup = BeautifulSoup(res.content, 'html.parser')\n",
    "    dog_list = soup.select(selector)\n",
    "    compile_list = []\n",
    "    for dog in dog_list:\n",
    "        compile_list.append(dog.get_text())\n",
    "    return compile_list\n",
    "\n",
    "def dog_type_compile(url_list, selector):\n",
    "    list_compile = []\n",
    "    for url in url_list:\n",
    "        crawler_list = dog_type_crawler(url, selector)\n",
    "        list_compile += crawler_list\n",
    "    return list_compile"
   ]
  },
  {
   "cell_type": "markdown",
   "metadata": {},
   "source": [
    "#### Toy type"
   ]
  },
  {
   "cell_type": "code",
   "execution_count": 26,
   "metadata": {
    "collapsed": true
   },
   "outputs": [],
   "source": [
    "toy_url_list = ['http://www.dogbreedslist.info/toy-dog-breeds/list_6_1.html#.WfyEA2i0NPY',\n",
    "                   'http://www.dogbreedslist.info/toy-dog-breeds/list_6_2.html#.WfyEA2i0NPY']\n",
    "\n",
    "selector = 'body > div.main > div.main-r > div > div.list-01 > div.right > div.right-t > p > a'\n",
    "toy_dog_compile = dog_type_compile(toy_url_list, selector)"
   ]
  },
  {
   "cell_type": "code",
   "execution_count": 27,
   "metadata": {},
   "outputs": [
    {
     "name": "stdout",
     "output_type": "stream",
     "text": [
      "26\n",
      "['Yorkshire Terrier', 'Cavalier King Charles Spaniel', 'Shih Tzu', 'Pomeranian', 'Havanese', 'Chihuahua', 'Pug', 'Maltese', 'Bichon Frise', 'Papillon', 'Miniature Pinscher', 'Italian Greyhound', 'Chinese Crested', 'Coton De Tulear', 'Pekingese', 'Brussels Griffon', 'Silky Terrier', 'Japanese Chin', 'Toy Fox Terrier', 'English Toy Spaniel', 'Affenpinscher', 'Toy Poodle', 'Karst Shepherd', 'Beaglier', 'Bolognese dog', 'Russian Tsvetnaya Bolonka']\n"
     ]
    }
   ],
   "source": [
    "print(len(toy_dog_compile))\n",
    "print(toy_dog_compile)"
   ]
  },
  {
   "cell_type": "markdown",
   "metadata": {},
   "source": [
    "#### Sporting"
   ]
  },
  {
   "cell_type": "code",
   "execution_count": 28,
   "metadata": {
    "collapsed": true
   },
   "outputs": [],
   "source": [
    "sporting_url_list = ['http://www.dogbreedslist.info/sporting-dog-breeds/list_7_1.html#.WfyEbmi0NPY',\n",
    "                   'http://www.dogbreedslist.info/sporting-dog-breeds/list_7_2.html#.WfyEbmi0NPY']\n",
    "\n",
    "selector = 'body > div.main > div.main-r > div > div.list-01 > div.right > div.right-t > p > a'\n",
    "sporting_dog_compile = dog_type_compile(sporting_url_list, selector)"
   ]
  },
  {
   "cell_type": "code",
   "execution_count": 29,
   "metadata": {},
   "outputs": [
    {
     "name": "stdout",
     "output_type": "stream",
     "text": [
      "30\n",
      "['Labrador Retriever', 'Golden Retriever', 'German Shorthaired Pointer', 'Brittany', 'English Springer Spaniel', 'American Cocker Spaniel', 'Vizsla', 'Weimaraner', 'Chesapeake Bay Retriever', 'English Cocker Spaniel', 'German Wirehaired Pointer', 'Wirehaired Pointing Griffon', 'Irish Setter', 'Nova Scotia Duck Tolling Retriever', 'Flat-Coated Retriever', 'English Setter', 'Gordon Setter', 'Spinone Italiano', 'Boykin Spaniel', 'Pointer', 'Welsh Springer Spaniel', 'Irish Red and White Setter', 'Clumber Spaniel', 'Field Spaniel', 'American Water Spaniel', 'Wirehaired Vizsla', 'Curly-Coated Retriever', 'Sussex Spaniel', 'Barbet', 'Kooikerhondje']\n"
     ]
    }
   ],
   "source": [
    "print(len(sporting_dog_compile))\n",
    "print(sporting_dog_compile)"
   ]
  },
  {
   "cell_type": "markdown",
   "metadata": {},
   "source": [
    "#### Hound"
   ]
  },
  {
   "cell_type": "code",
   "execution_count": 30,
   "metadata": {
    "collapsed": true
   },
   "outputs": [],
   "source": [
    "hound_url_list = ['http://www.dogbreedslist.info/hound-dog-breeds/list_8_1.html#.WfyEz2i0NPY',\n",
    "                   'http://www.dogbreedslist.info/hound-dog-breeds/list_8_2.html#.WfyEz2i0NPY',\n",
    "                   'http://www.dogbreedslist.info/hound-dog-breeds/list_8_3.html#.WfyEz2i0NPY', \n",
    "                   'http://www.dogbreedslist.info/hound-dog-breeds/list_8_4.html#.WfyEz2i0NPY']\n",
    "\n",
    "selector = 'body > div.main > div.main-r > div > div.list-01 > div.right > div.right-t > p > a'\n",
    "hound_dog_compile = dog_type_compile(hound_url_list, selector)"
   ]
  },
  {
   "cell_type": "code",
   "execution_count": 31,
   "metadata": {},
   "outputs": [
    {
     "name": "stdout",
     "output_type": "stream",
     "text": [
      "65\n",
      "['Beagle', 'Dachshund', 'Basset Hound', 'Rhodesian Ridgeback', 'Bloodhound', 'Whippet', 'Irish Wolfhound', 'Basenji', 'Norwegian Elkhound', 'Borzoi', 'Afghan Hound', 'Bluetick Coonhound', 'Saluki', 'Black and Tan Coonhound', 'Treeing Walker Coonhound', 'Redbone Coonhound', 'Petit Basset Griffon Vendeen', 'Greyhound', 'Ibizan Hound', 'Scottish Deerhound', 'Plott Hound', 'Portuguese Podengo Pequeno', 'Otterhound', 'Pharaoh Hound', 'American English Coonhound', 'Finnish Spitz', 'Cirneco dell’Etna', 'Harrier', 'English Foxhound', 'American Foxhound', 'Grand Bleu de Gascogne', 'Spanish Greyhound', 'Africanis', 'Ariegeois', 'Austrian Black and Tan Hound', 'Azawakh', 'Basset Bleu de Gascogne', 'Basset Fauve de Bretagne', 'Bavarian Mountain Hound', 'Black Mouth Cur', 'Black Norwegian Elkhound', 'Blue Picardy Spaniel', 'Deutsche Bracke', 'Dingo', 'Drever', 'Dunker', 'East Siberian Laika', 'Finnish Hound', 'French Spaniel', 'Francais Blanc et Noir', 'Polish Hunting Dog', 'Grand Basset Griffon Vendeen', 'Hamilton Hound', 'Norrbottenspets', 'Peruvian Inca Orchid', 'Rajapalayam dog', 'Thai Ridgeback', 'Transylvanian Hound', 'West Siberian Laika', 'Andalusian Hound', 'Basset Artesien Normand', 'Beagle-Harrier', 'Beaglier', 'Chippiparai', 'Lurcher']\n"
     ]
    }
   ],
   "source": [
    "print(len(hound_dog_compile))\n",
    "print(hound_dog_compile)"
   ]
  },
  {
   "cell_type": "markdown",
   "metadata": {},
   "source": [
    "#### Terrier"
   ]
  },
  {
   "cell_type": "code",
   "execution_count": 32,
   "metadata": {
    "collapsed": true
   },
   "outputs": [],
   "source": [
    "terrier_url_list = ['http://www.dogbreedslist.info/terrier-dog-breeds/list_9_1.html#.WfyFRGi0NPY',\n",
    "                   'http://www.dogbreedslist.info/terrier-dog-breeds/list_9_2.html#.WfyFRGi0NPY',\n",
    "                   'http://www.dogbreedslist.info/terrier-dog-breeds/list_9_3.html#.WfyFRGi0NPY']\n",
    "\n",
    "selector = 'body > div.main > div.main-r > div > div.list-01 > div.right > div.right-t > p > a'\n",
    "terrier_dog_compile = dog_type_compile(terrier_url_list, selector)"
   ]
  },
  {
   "cell_type": "code",
   "execution_count": 33,
   "metadata": {},
   "outputs": [
    {
     "name": "stdout",
     "output_type": "stream",
     "text": [
      "42\n",
      "['Miniature Schnauzer', 'West Highland White Terrier', 'Soft Coated Wheaten Terrier', 'Airedale Terrier', 'Bull Terrier', 'Scottish Terrier', 'Cairn Terrier', 'American Staffordshire Terrier', 'Staffordshire Bull Terrier', 'Border Terrier', 'Jack Russell Terrier', 'Rat Terrier', 'Wire Fox Terrier', 'Norwich Terrier', 'American Hairless Terrier', 'Parson Russell Terrier', 'Welsh Terrier', 'Irish Terrier', 'Miniature Bull Terrier', 'Smooth Fox Terrier', 'Kerry Blue Terrier', 'Manchester Terrier', 'Norfolk Terrier', 'Australian Terrier', 'Bedlington Terrier', 'Lakeland Terrier', 'Sealyham Terrier', 'Dandie Dinmont Terrier', 'Skye Terrier', 'Glen of Imaal Terrier', 'Cesky Terrier', 'American Pit Bull Terrier', 'Austrian Pinscher', 'Braque du Bourbonnais', 'Brazilian Terrier', 'Dutch Smoushond', 'Jagdterrier', 'Japanese Terrier', 'Kromfohrlander', 'Patterdale Terrier', 'Mountain Feist', 'Lucas Terrier']\n"
     ]
    }
   ],
   "source": [
    "print(len(terrier_dog_compile))\n",
    "print(terrier_dog_compile)"
   ]
  },
  {
   "cell_type": "markdown",
   "metadata": {},
   "source": [
    "#### Working"
   ]
  },
  {
   "cell_type": "code",
   "execution_count": 34,
   "metadata": {
    "collapsed": true
   },
   "outputs": [],
   "source": [
    "working_url_list = ['http://www.dogbreedslist.info/working-dog-breeds/list_10_1.html#.WfyFsmi0NPY',\n",
    "                   'http://www.dogbreedslist.info/working-dog-breeds/list_10_2.html#.WfyFsmi0NPY',\n",
    "                   'http://www.dogbreedslist.info/working-dog-breeds/list_10_3.html#.WfyFsmi0NPY']\n",
    "\n",
    "selector = 'body > div.main > div.main-r > div > div.list-01 > div.right > div.right-t > p > a'\n",
    "working_dog_compile = dog_type_compile(working_url_list, selector)"
   ]
  },
  {
   "cell_type": "code",
   "execution_count": 35,
   "metadata": {},
   "outputs": [
    {
     "name": "stdout",
     "output_type": "stream",
     "text": [
      "50\n",
      "['Rottweiler', 'Boxer', 'Siberian Husky', 'Great Dane', 'Doberman Pinscher', 'Bernese Mountain Dog', 'Mastiff', 'Newfoundland', 'Cane Corso', 'Akita', 'Bullmastiff', 'St. Bernard', 'Portuguese Water Dog', 'Alaskan Malamute', 'Dogue de Bordeaux', 'Samoyed', 'Great Pyrenees', 'Old English Sheepdog', 'Greater Swiss Mountain Dog', 'Giant Schnauzer', 'Anatolian Shepherd Dog', 'Standard Schnauzer', 'Leonberger', 'Neapolitan Mastiff', 'Black Russian Terrier', 'Boerboel', 'Tibetan Mastiff', 'German Pinscher', 'Kuvasz', 'Chinook', 'Komondor', 'Akbash Dog', 'Alano Espanol', 'Alapaha Blue Blood Bulldog', 'American Mastiff', 'Appenzeller Sennenhund', 'Argentine Dogo', 'Ariege Pointer', 'Blue Lacy', 'Canadian Eskimo Dog', 'Fila Brasileiro', 'Perro de Presa Canario', 'Plummer Terrier', 'Seppala Siberian Sleddog', 'Tamaskan Dog', 'Wetterhoun', 'Alaskan Husky', 'Alopekis', 'Maremma Sheepdog', 'Mountain Cur']\n"
     ]
    }
   ],
   "source": [
    "print(len(working_dog_compile))\n",
    "print(working_dog_compile)"
   ]
  },
  {
   "cell_type": "markdown",
   "metadata": {},
   "source": [
    "#### Herding"
   ]
  },
  {
   "cell_type": "code",
   "execution_count": 36,
   "metadata": {
    "collapsed": true
   },
   "outputs": [],
   "source": [
    "herding_url_list = ['http://www.dogbreedslist.info/herding-dog-breeds/list_11_1.html#.WfyF9Gi0NPY',\n",
    "                   'http://www.dogbreedslist.info/herding-dog-breeds/list_11_2.html#.WfyF9Gi0NPY',\n",
    "                   'http://www.dogbreedslist.info/herding-dog-breeds/list_11_3.html#.WfyF9Gi0NPY']\n",
    "\n",
    "selector = 'body > div.main > div.main-r > div > div.list-01 > div.right > div.right-t > p > a'\n",
    "herding_dog_compile = dog_type_compile(herding_url_list, selector)"
   ]
  },
  {
   "cell_type": "code",
   "execution_count": 37,
   "metadata": {},
   "outputs": [
    {
     "name": "stdout",
     "output_type": "stream",
     "text": [
      "48\n",
      "['German Shepherd', 'Australian Shepherd', 'Pembroke Welsh Corgi', 'Shetland Sheepdog', 'Miniature American Shepherd', 'Collie', 'Border Collie', 'Belgian Malinois', 'Australian Cattle Dog', 'Cardigan Welsh Corgi', 'Bouvier des Flandres', 'Belgian Tervuren', 'Bearded Collie', 'Belgian Sheepdog', 'Briard', 'Beauceron', 'Berger Picard', 'Icelandic Sheepdog', 'Puli', 'Entlebucher Mountain Dog', 'Swedish Vallhund', 'Polish Lowland Sheepdog', 'Finnish Lapphund', 'Norwegian Buhund', 'Pyrenean Shepherd', 'Canaan Dog', 'Bergamasco', 'Kangal Dog', 'American White Shepherd', 'Australian Kelpie', 'Australian Stumpy Tail Cattle Dog', 'Belgian Shepherd Laekenois', 'Bouvier des Ardennes', 'Cão da Serra de Aires', 'Catahoula Leopard Dog', 'Catalan Sheepdog', 'Croatian Sheepdog', 'Czechoslovakian Wolfdog', 'Dutch Shepherd Dog', 'English Shepherd', 'Lancashire Heeler', 'Lapponian Herder', 'McNab', 'Mudi', 'Pumi', 'Saarloos wolfdog', 'Schapendoes', 'Polish Tatra Sheepdog']\n"
     ]
    }
   ],
   "source": [
    "print(len(herding_dog_compile))\n",
    "print(herding_dog_compile)"
   ]
  },
  {
   "cell_type": "code",
   "execution_count": null,
   "metadata": {
    "collapsed": true
   },
   "outputs": [],
   "source": []
  }
 ],
 "metadata": {
  "kernelspec": {
   "display_name": "Python 3",
   "language": "python",
   "name": "python3"
  },
  "language_info": {
   "codemirror_mode": {
    "name": "ipython",
    "version": 3
   },
   "file_extension": ".py",
   "mimetype": "text/x-python",
   "name": "python",
   "nbconvert_exporter": "python",
   "pygments_lexer": "ipython3",
   "version": "3.6.3"
  }
 },
 "nbformat": 4,
 "nbformat_minor": 2
}
