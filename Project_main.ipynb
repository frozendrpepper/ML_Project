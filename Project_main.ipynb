{
 "cells": [
  {
   "cell_type": "markdown",
   "metadata": {},
   "source": [
    "# 머신러닝 과제 발표자료\n",
    "\n",
    "# 주제: Shelter Animal Outcomes"
   ]
  },
  {
   "cell_type": "code",
   "execution_count": 1,
   "metadata": {},
   "outputs": [
    {
     "name": "stderr",
     "output_type": "stream",
     "text": [
      "C:\\Users\\cck3\\Anaconda3\\lib\\site-packages\\sklearn\\cross_validation.py:41: DeprecationWarning: This module was deprecated in version 0.18 in favor of the model_selection module into which all the refactored classes and functions are moved. Also note that the interface of the new CV iterators are different from that of this module. This module will be removed in 0.20.\n",
      "  \"This module will be removed in 0.20.\", DeprecationWarning)\n",
      "C:\\Users\\cck3\\Anaconda3\\lib\\site-packages\\statsmodels\\compat\\pandas.py:56: FutureWarning: The pandas.core.datetools module is deprecated and will be removed in a future version. Please use the pandas.tseries module instead.\n",
      "  from pandas.core import datetools\n"
     ]
    }
   ],
   "source": [
    "'''Import all the necessary packages'''\n",
    "from sklearn.preprocessing import StandardScaler\n",
    "from sklearn.model_selection import train_test_split, cross_val_score, KFold, StratifiedKFold, GridSearchCV\n",
    "from sklearn.preprocessing import Imputer, OneHotEncoder, LabelEncoder\n",
    "from sklearn.metrics import classification_report, confusion_matrix, roc_curve, accuracy_score, log_loss\n",
    "from sklearn.linear_model import LogisticRegression\n",
    "from sklearn.tree import DecisionTreeClassifier\n",
    "from sklearn.ensemble import RandomForestClassifier, ExtraTreesClassifier, AdaBoostClassifier\n",
    "import xgboost\n",
    "\n",
    "from patsy import dmatrix\n",
    "from scipy import stats\n",
    "\n",
    "import statsmodels.api as sm\n",
    "import seaborn as sns\n",
    "import numpy as np\n",
    "import pandas as pd\n",
    "import matplotlib.pylab as plt\n",
    "import requests\n",
    "from bs4 import BeautifulSoup"
   ]
  },
  {
   "cell_type": "markdown",
   "metadata": {},
   "source": [
    "## 인자설명 및 과제 목표\n",
    "\n",
    "종속변수 (y): OutcomeType -> Returned to owner, Adoption, Transfer, Euthanasia, Died\n",
    "\n",
    "독립변수 (X): AnimalID, Name, DateTime, OutcomeSubType, AnimalType, SexuponOutcome, AgeuponOutcome, Breed, Color\n",
    "\n",
    "(추가 설명 첨부 필요)\n",
    "\n",
    "주어진 종속변수를 사용하여 Shelter 애완동물의 Outcome을 예측하는 프로젝트. 예측 Outcome으로는 Returned to Owner, Transfer, Adoption, Euthanasia, Death가 있다."
   ]
  },
  {
   "cell_type": "markdown",
   "metadata": {},
   "source": [
    "## EDA & Feature Engineering"
   ]
  },
  {
   "cell_type": "code",
   "execution_count": 2,
   "metadata": {
    "collapsed": true
   },
   "outputs": [],
   "source": [
    "data_train = pd.read_csv('train.csv')\n",
    "\n",
    "'''Keep a copy of the original data for comparison'''\n",
    "data_original = data_train.copy()"
   ]
  },
  {
   "cell_type": "markdown",
   "metadata": {},
   "source": [
    "### 1) NaN값 파악"
   ]
  },
  {
   "cell_type": "code",
   "execution_count": 3,
   "metadata": {
    "collapsed": true
   },
   "outputs": [],
   "source": [
    "def graph_na(data_train):\n",
    "    plt.figure()\n",
    "    missing_data_count = data_train.isnull().sum()\n",
    "    missing_data_count.sort_values(ascending = False, inplace = True)\n",
    "    missing_data_count_filtered = missing_data_count[missing_data_count > 0]\n",
    "    missing_data_count_filtered.plot(kind = 'bar', title = 'missing data count')\n",
    "    plt.show()"
   ]
  },
  {
   "cell_type": "code",
   "execution_count": 4,
   "metadata": {},
   "outputs": [
    {
     "data": {
      "image/png": "[encoded data removed]",
      "text/plain": [
       "<matplotlib.figure.Figure at 0x19e37a52668>"
      ]
     },
     "metadata": {},
     "output_type": "display_data"
    }
   ],
   "source": [
    "graph_na(data_train)"
   ]
  },
  {
   "cell_type": "code",
   "execution_count": 5,
   "metadata": {},
   "outputs": [
    {
     "data": {
      "text/html": [
       "<div>\n",
       "<style>\n",
       "    .dataframe thead tr:only-child th {\n",
       "        text-align: right;\n",
       "    }\n",
       "\n",
       "    .dataframe thead th {\n",
       "        text-align: left;\n",
       "    }\n",
       "\n",
       "    .dataframe tbody tr th {\n",
       "        vertical-align: top;\n",
       "    }\n",
       "</style>\n",
       "<table border=\"1\" class=\"dataframe\">\n",
       "  <thead>\n",
       "    <tr style=\"text-align: right;\">\n",
       "      <th></th>\n",
       "      <th>AnimalID</th>\n",
       "      <th>Name</th>\n",
       "      <th>DateTime</th>\n",
       "      <th>OutcomeType</th>\n",
       "      <th>OutcomeSubtype</th>\n",
       "      <th>AnimalType</th>\n",
       "      <th>SexuponOutcome</th>\n",
       "      <th>AgeuponOutcome</th>\n",
       "      <th>Breed</th>\n",
       "      <th>Color</th>\n",
       "    </tr>\n",
       "  </thead>\n",
       "  <tbody>\n",
       "    <tr>\n",
       "      <th>26724</th>\n",
       "      <td>A702446</td>\n",
       "      <td>NaN</td>\n",
       "      <td>2015-05-14 11:56:00</td>\n",
       "      <td>Transfer</td>\n",
       "      <td>Partner</td>\n",
       "      <td>Cat</td>\n",
       "      <td>Intact Male</td>\n",
       "      <td>1 month</td>\n",
       "      <td>Domestic Shorthair Mix</td>\n",
       "      <td>Brown Tabby/White</td>\n",
       "    </tr>\n",
       "    <tr>\n",
       "      <th>26725</th>\n",
       "      <td>A718934</td>\n",
       "      <td>NaN</td>\n",
       "      <td>2016-01-20 18:59:00</td>\n",
       "      <td>Transfer</td>\n",
       "      <td>SCRP</td>\n",
       "      <td>Cat</td>\n",
       "      <td>Spayed Female</td>\n",
       "      <td>3 months</td>\n",
       "      <td>Domestic Shorthair Mix</td>\n",
       "      <td>Brown Tabby</td>\n",
       "    </tr>\n",
       "    <tr>\n",
       "      <th>26726</th>\n",
       "      <td>A698128</td>\n",
       "      <td>Zeus</td>\n",
       "      <td>2015-03-09 13:33:00</td>\n",
       "      <td>Adoption</td>\n",
       "      <td>NaN</td>\n",
       "      <td>Dog</td>\n",
       "      <td>Neutered Male</td>\n",
       "      <td>4 years</td>\n",
       "      <td>Old English Bulldog Mix</td>\n",
       "      <td>White/Tan</td>\n",
       "    </tr>\n",
       "    <tr>\n",
       "      <th>26727</th>\n",
       "      <td>A677478</td>\n",
       "      <td>NaN</td>\n",
       "      <td>2014-04-27 12:22:00</td>\n",
       "      <td>Transfer</td>\n",
       "      <td>Partner</td>\n",
       "      <td>Cat</td>\n",
       "      <td>Intact Male</td>\n",
       "      <td>4 weeks</td>\n",
       "      <td>Domestic Shorthair Mix</td>\n",
       "      <td>Black</td>\n",
       "    </tr>\n",
       "    <tr>\n",
       "      <th>26728</th>\n",
       "      <td>A706629</td>\n",
       "      <td>NaN</td>\n",
       "      <td>2015-07-02 09:00:00</td>\n",
       "      <td>Transfer</td>\n",
       "      <td>SCRP</td>\n",
       "      <td>Cat</td>\n",
       "      <td>Intact Male</td>\n",
       "      <td>1 year</td>\n",
       "      <td>Domestic Shorthair Mix</td>\n",
       "      <td>Brown Tabby/White</td>\n",
       "    </tr>\n",
       "  </tbody>\n",
       "</table>\n",
       "</div>"
      ],
      "text/plain": [
       "      AnimalID  Name             DateTime OutcomeType OutcomeSubtype  \\\n",
       "26724  A702446   NaN  2015-05-14 11:56:00    Transfer        Partner   \n",
       "26725  A718934   NaN  2016-01-20 18:59:00    Transfer           SCRP   \n",
       "26726  A698128  Zeus  2015-03-09 13:33:00    Adoption            NaN   \n",
       "26727  A677478   NaN  2014-04-27 12:22:00    Transfer        Partner   \n",
       "26728  A706629   NaN  2015-07-02 09:00:00    Transfer           SCRP   \n",
       "\n",
       "      AnimalType SexuponOutcome AgeuponOutcome                    Breed  \\\n",
       "26724        Cat    Intact Male        1 month   Domestic Shorthair Mix   \n",
       "26725        Cat  Spayed Female       3 months   Domestic Shorthair Mix   \n",
       "26726        Dog  Neutered Male        4 years  Old English Bulldog Mix   \n",
       "26727        Cat    Intact Male        4 weeks   Domestic Shorthair Mix   \n",
       "26728        Cat    Intact Male         1 year   Domestic Shorthair Mix   \n",
       "\n",
       "                   Color  \n",
       "26724  Brown Tabby/White  \n",
       "26725        Brown Tabby  \n",
       "26726          White/Tan  \n",
       "26727              Black  \n",
       "26728  Brown Tabby/White  "
      ]
     },
     "execution_count": 5,
     "metadata": {},
     "output_type": "execute_result"
    }
   ],
   "source": [
    "#Data 확인\n",
    "data_train.tail()"
   ]
  },
  {
   "cell_type": "markdown",
   "metadata": {},
   "source": [
    "#### Name -> Shelter에 맞겨졌을 당시 이름 유/무 사항 (이름 유/무에 따른 결과값 분석 필요)\n",
    "#### OutcomeSubtype -> OutcomeType과 직관적으로 연결된 인자 (데이터 분석에는 적용 x)\n",
    "#### AgeUponOutcome과 SexuponOutcome NaN값은 갯수가 많지 않기 때문에 제거"
   ]
  },
  {
   "cell_type": "markdown",
   "metadata": {},
   "source": [
    "### 1.2) Name -> 이름이 있을경우 'Name'으로 없을경우 No Name'으로 변환"
   ]
  },
  {
   "cell_type": "code",
   "execution_count": 6,
   "metadata": {
    "collapsed": true
   },
   "outputs": [],
   "source": [
    "def no_name_label(x):\n",
    "    '''Reference: https://github.com/JihongL/Shelter-Animal-Outcomes/blob/master/Shelter_EDA.ipynb'''\n",
    "    if type(x) == float:\n",
    "        return 'No Name'\n",
    "    else:\n",
    "        return 'Name'"
   ]
  },
  {
   "cell_type": "code",
   "execution_count": 7,
   "metadata": {
    "collapsed": true
   },
   "outputs": [],
   "source": [
    "data_train['Name'] = data_train['Name'].transform(no_name_label)"
   ]
  },
  {
   "cell_type": "markdown",
   "metadata": {},
   "source": [
    "### 1.3) OutcomeSubtype -> 없을 경우 'Unknown'으로 대체"
   ]
  },
  {
   "cell_type": "code",
   "execution_count": 8,
   "metadata": {
    "collapsed": true
   },
   "outputs": [],
   "source": [
    "data_train['OutcomeSubtype'] = data_train['OutcomeSubtype'].fillna('Unknown')"
   ]
  },
  {
   "cell_type": "code",
   "execution_count": 9,
   "metadata": {},
   "outputs": [
    {
     "data": {
      "text/html": [
       "<div>\n",
       "<style>\n",
       "    .dataframe thead tr:only-child th {\n",
       "        text-align: right;\n",
       "    }\n",
       "\n",
       "    .dataframe thead th {\n",
       "        text-align: left;\n",
       "    }\n",
       "\n",
       "    .dataframe tbody tr th {\n",
       "        vertical-align: top;\n",
       "    }\n",
       "</style>\n",
       "<table border=\"1\" class=\"dataframe\">\n",
       "  <thead>\n",
       "    <tr style=\"text-align: right;\">\n",
       "      <th></th>\n",
       "      <th>AnimalID</th>\n",
       "      <th>Name</th>\n",
       "      <th>DateTime</th>\n",
       "      <th>OutcomeType</th>\n",
       "      <th>OutcomeSubtype</th>\n",
       "      <th>AnimalType</th>\n",
       "      <th>SexuponOutcome</th>\n",
       "      <th>AgeuponOutcome</th>\n",
       "      <th>Breed</th>\n",
       "      <th>Color</th>\n",
       "    </tr>\n",
       "  </thead>\n",
       "  <tbody>\n",
       "    <tr>\n",
       "      <th>26724</th>\n",
       "      <td>A702446</td>\n",
       "      <td>No Name</td>\n",
       "      <td>2015-05-14 11:56:00</td>\n",
       "      <td>Transfer</td>\n",
       "      <td>Partner</td>\n",
       "      <td>Cat</td>\n",
       "      <td>Intact Male</td>\n",
       "      <td>1 month</td>\n",
       "      <td>Domestic Shorthair Mix</td>\n",
       "      <td>Brown Tabby/White</td>\n",
       "    </tr>\n",
       "    <tr>\n",
       "      <th>26725</th>\n",
       "      <td>A718934</td>\n",
       "      <td>No Name</td>\n",
       "      <td>2016-01-20 18:59:00</td>\n",
       "      <td>Transfer</td>\n",
       "      <td>SCRP</td>\n",
       "      <td>Cat</td>\n",
       "      <td>Spayed Female</td>\n",
       "      <td>3 months</td>\n",
       "      <td>Domestic Shorthair Mix</td>\n",
       "      <td>Brown Tabby</td>\n",
       "    </tr>\n",
       "    <tr>\n",
       "      <th>26726</th>\n",
       "      <td>A698128</td>\n",
       "      <td>Name</td>\n",
       "      <td>2015-03-09 13:33:00</td>\n",
       "      <td>Adoption</td>\n",
       "      <td>Unknown</td>\n",
       "      <td>Dog</td>\n",
       "      <td>Neutered Male</td>\n",
       "      <td>4 years</td>\n",
       "      <td>Old English Bulldog Mix</td>\n",
       "      <td>White/Tan</td>\n",
       "    </tr>\n",
       "    <tr>\n",
       "      <th>26727</th>\n",
       "      <td>A677478</td>\n",
       "      <td>No Name</td>\n",
       "      <td>2014-04-27 12:22:00</td>\n",
       "      <td>Transfer</td>\n",
       "      <td>Partner</td>\n",
       "      <td>Cat</td>\n",
       "      <td>Intact Male</td>\n",
       "      <td>4 weeks</td>\n",
       "      <td>Domestic Shorthair Mix</td>\n",
       "      <td>Black</td>\n",
       "    </tr>\n",
       "    <tr>\n",
       "      <th>26728</th>\n",
       "      <td>A706629</td>\n",
       "      <td>No Name</td>\n",
       "      <td>2015-07-02 09:00:00</td>\n",
       "      <td>Transfer</td>\n",
       "      <td>SCRP</td>\n",
       "      <td>Cat</td>\n",
       "      <td>Intact Male</td>\n",
       "      <td>1 year</td>\n",
       "      <td>Domestic Shorthair Mix</td>\n",
       "      <td>Brown Tabby/White</td>\n",
       "    </tr>\n",
       "  </tbody>\n",
       "</table>\n",
       "</div>"
      ],
      "text/plain": [
       "      AnimalID     Name             DateTime OutcomeType OutcomeSubtype  \\\n",
       "26724  A702446  No Name  2015-05-14 11:56:00    Transfer        Partner   \n",
       "26725  A718934  No Name  2016-01-20 18:59:00    Transfer           SCRP   \n",
       "26726  A698128     Name  2015-03-09 13:33:00    Adoption        Unknown   \n",
       "26727  A677478  No Name  2014-04-27 12:22:00    Transfer        Partner   \n",
       "26728  A706629  No Name  2015-07-02 09:00:00    Transfer           SCRP   \n",
       "\n",
       "      AnimalType SexuponOutcome AgeuponOutcome                    Breed  \\\n",
       "26724        Cat    Intact Male        1 month   Domestic Shorthair Mix   \n",
       "26725        Cat  Spayed Female       3 months   Domestic Shorthair Mix   \n",
       "26726        Dog  Neutered Male        4 years  Old English Bulldog Mix   \n",
       "26727        Cat    Intact Male        4 weeks   Domestic Shorthair Mix   \n",
       "26728        Cat    Intact Male         1 year   Domestic Shorthair Mix   \n",
       "\n",
       "                   Color  \n",
       "26724  Brown Tabby/White  \n",
       "26725        Brown Tabby  \n",
       "26726          White/Tan  \n",
       "26727              Black  \n",
       "26728  Brown Tabby/White  "
      ]
     },
     "execution_count": 9,
     "metadata": {},
     "output_type": "execute_result"
    }
   ],
   "source": [
    "#Data 확인\n",
    "data_train.tail()"
   ]
  },
  {
   "cell_type": "markdown",
   "metadata": {},
   "source": [
    "### 2) 날짜 데이터 분류 -> 날짜 데이터에서 년, 월, 일, 시간 자료 추출 및 계절 변수 형성"
   ]
  },
  {
   "cell_type": "code",
   "execution_count": 10,
   "metadata": {
    "collapsed": true
   },
   "outputs": [],
   "source": [
    "def datetime_str_converter(data_train):\n",
    "    '''This method converts the datetime input into year and month in\n",
    "    string format. The below method is identical except it returns numerical\n",
    "    value. The string format is used for graphing with countplot'''\n",
    "    datetime = list(data_train['DateTime'])\n",
    "    year_list, month_list, day_list, hour_list = [], [], [], []\n",
    "    for item in datetime:\n",
    "        year_list.append(item[:4])\n",
    "        month_list.append(item[5:7])\n",
    "        day_list.append(item[8:10])\n",
    "        hour_list.append(item[11:13])\n",
    "    return year_list, month_list, day_list, hour_list\n",
    "\n",
    "def season_sort(month_list):\n",
    "    '''Converts month information to season information'''\n",
    "    season_list = []\n",
    "    for item in month_list:\n",
    "        item = int(item)\n",
    "        if item == 12 or item == 1 or item == 2:\n",
    "            season_list.append('winter')\n",
    "        elif item >=3 and item <=5:\n",
    "            season_list.append('spring')\n",
    "        elif item >= 6 and item <= 8:\n",
    "            season_list.append('summer')\n",
    "        elif item >= 9 and item <= 11:\n",
    "            season_list.append('fall')\n",
    "    return season_list"
   ]
  },
  {
   "cell_type": "code",
   "execution_count": 11,
   "metadata": {
    "collapsed": true
   },
   "outputs": [],
   "source": [
    "'''Year and Month information extraction'''\n",
    "year_list, month_list, day_list, hour_list = datetime_str_converter(data_train)\n",
    "date_list = []\n",
    "for year, month in zip(year_list, month_list):\n",
    "    date_list.append(int(year + month))\n",
    "\n",
    "#Data를 년, 월, 일, 시간 그리고 년 + 월 합친 데이터로 변환\n",
    "data_train['Date'] = date_list\n",
    "data_train['OutcomeYear'], data_train['OutcomeMonth'] = year_list, month_list\n",
    "data_train['OutcomeDay'], data_train['OutcomeHour'] = day_list, hour_list\n",
    "\n",
    "#계절 데이터 형성\n",
    "season_list = season_sort(month_list)\n",
    "data_train['OutcomeSeason'] = season_list"
   ]
  },
  {
   "cell_type": "code",
   "execution_count": 12,
   "metadata": {},
   "outputs": [
    {
     "data": {
      "text/html": [
       "<div>\n",
       "<style>\n",
       "    .dataframe thead tr:only-child th {\n",
       "        text-align: right;\n",
       "    }\n",
       "\n",
       "    .dataframe thead th {\n",
       "        text-align: left;\n",
       "    }\n",
       "\n",
       "    .dataframe tbody tr th {\n",
       "        vertical-align: top;\n",
       "    }\n",
       "</style>\n",
       "<table border=\"1\" class=\"dataframe\">\n",
       "  <thead>\n",
       "    <tr style=\"text-align: right;\">\n",
       "      <th></th>\n",
       "      <th>AnimalID</th>\n",
       "      <th>Name</th>\n",
       "      <th>DateTime</th>\n",
       "      <th>OutcomeType</th>\n",
       "      <th>OutcomeSubtype</th>\n",
       "      <th>AnimalType</th>\n",
       "      <th>SexuponOutcome</th>\n",
       "      <th>AgeuponOutcome</th>\n",
       "      <th>Breed</th>\n",
       "      <th>Color</th>\n",
       "      <th>Date</th>\n",
       "      <th>OutcomeYear</th>\n",
       "      <th>OutcomeMonth</th>\n",
       "      <th>OutcomeDay</th>\n",
       "      <th>OutcomeHour</th>\n",
       "      <th>OutcomeSeason</th>\n",
       "    </tr>\n",
       "  </thead>\n",
       "  <tbody>\n",
       "    <tr>\n",
       "      <th>26724</th>\n",
       "      <td>A702446</td>\n",
       "      <td>No Name</td>\n",
       "      <td>2015-05-14 11:56:00</td>\n",
       "      <td>Transfer</td>\n",
       "      <td>Partner</td>\n",
       "      <td>Cat</td>\n",
       "      <td>Intact Male</td>\n",
       "      <td>1 month</td>\n",
       "      <td>Domestic Shorthair Mix</td>\n",
       "      <td>Brown Tabby/White</td>\n",
       "      <td>201505</td>\n",
       "      <td>2015</td>\n",
       "      <td>05</td>\n",
       "      <td>14</td>\n",
       "      <td>11</td>\n",
       "      <td>spring</td>\n",
       "    </tr>\n",
       "    <tr>\n",
       "      <th>26725</th>\n",
       "      <td>A718934</td>\n",
       "      <td>No Name</td>\n",
       "      <td>2016-01-20 18:59:00</td>\n",
       "      <td>Transfer</td>\n",
       "      <td>SCRP</td>\n",
       "      <td>Cat</td>\n",
       "      <td>Spayed Female</td>\n",
       "      <td>3 months</td>\n",
       "      <td>Domestic Shorthair Mix</td>\n",
       "      <td>Brown Tabby</td>\n",
       "      <td>201601</td>\n",
       "      <td>2016</td>\n",
       "      <td>01</td>\n",
       "      <td>20</td>\n",
       "      <td>18</td>\n",
       "      <td>winter</td>\n",
       "    </tr>\n",
       "    <tr>\n",
       "      <th>26726</th>\n",
       "      <td>A698128</td>\n",
       "      <td>Name</td>\n",
       "      <td>2015-03-09 13:33:00</td>\n",
       "      <td>Adoption</td>\n",
       "      <td>Unknown</td>\n",
       "      <td>Dog</td>\n",
       "      <td>Neutered Male</td>\n",
       "      <td>4 years</td>\n",
       "      <td>Old English Bulldog Mix</td>\n",
       "      <td>White/Tan</td>\n",
       "      <td>201503</td>\n",
       "      <td>2015</td>\n",
       "      <td>03</td>\n",
       "      <td>09</td>\n",
       "      <td>13</td>\n",
       "      <td>spring</td>\n",
       "    </tr>\n",
       "    <tr>\n",
       "      <th>26727</th>\n",
       "      <td>A677478</td>\n",
       "      <td>No Name</td>\n",
       "      <td>2014-04-27 12:22:00</td>\n",
       "      <td>Transfer</td>\n",
       "      <td>Partner</td>\n",
       "      <td>Cat</td>\n",
       "      <td>Intact Male</td>\n",
       "      <td>4 weeks</td>\n",
       "      <td>Domestic Shorthair Mix</td>\n",
       "      <td>Black</td>\n",
       "      <td>201404</td>\n",
       "      <td>2014</td>\n",
       "      <td>04</td>\n",
       "      <td>27</td>\n",
       "      <td>12</td>\n",
       "      <td>spring</td>\n",
       "    </tr>\n",
       "    <tr>\n",
       "      <th>26728</th>\n",
       "      <td>A706629</td>\n",
       "      <td>No Name</td>\n",
       "      <td>2015-07-02 09:00:00</td>\n",
       "      <td>Transfer</td>\n",
       "      <td>SCRP</td>\n",
       "      <td>Cat</td>\n",
       "      <td>Intact Male</td>\n",
       "      <td>1 year</td>\n",
       "      <td>Domestic Shorthair Mix</td>\n",
       "      <td>Brown Tabby/White</td>\n",
       "      <td>201507</td>\n",
       "      <td>2015</td>\n",
       "      <td>07</td>\n",
       "      <td>02</td>\n",
       "      <td>09</td>\n",
       "      <td>summer</td>\n",
       "    </tr>\n",
       "  </tbody>\n",
       "</table>\n",
       "</div>"
      ],
      "text/plain": [
       "      AnimalID     Name             DateTime OutcomeType OutcomeSubtype  \\\n",
       "26724  A702446  No Name  2015-05-14 11:56:00    Transfer        Partner   \n",
       "26725  A718934  No Name  2016-01-20 18:59:00    Transfer           SCRP   \n",
       "26726  A698128     Name  2015-03-09 13:33:00    Adoption        Unknown   \n",
       "26727  A677478  No Name  2014-04-27 12:22:00    Transfer        Partner   \n",
       "26728  A706629  No Name  2015-07-02 09:00:00    Transfer           SCRP   \n",
       "\n",
       "      AnimalType SexuponOutcome AgeuponOutcome                    Breed  \\\n",
       "26724        Cat    Intact Male        1 month   Domestic Shorthair Mix   \n",
       "26725        Cat  Spayed Female       3 months   Domestic Shorthair Mix   \n",
       "26726        Dog  Neutered Male        4 years  Old English Bulldog Mix   \n",
       "26727        Cat    Intact Male        4 weeks   Domestic Shorthair Mix   \n",
       "26728        Cat    Intact Male         1 year   Domestic Shorthair Mix   \n",
       "\n",
       "                   Color    Date OutcomeYear OutcomeMonth OutcomeDay  \\\n",
       "26724  Brown Tabby/White  201505        2015           05         14   \n",
       "26725        Brown Tabby  201601        2016           01         20   \n",
       "26726          White/Tan  201503        2015           03         09   \n",
       "26727              Black  201404        2014           04         27   \n",
       "26728  Brown Tabby/White  201507        2015           07         02   \n",
       "\n",
       "      OutcomeHour OutcomeSeason  \n",
       "26724          11        spring  \n",
       "26725          18        winter  \n",
       "26726          13        spring  \n",
       "26727          12        spring  \n",
       "26728          09        summer  "
      ]
     },
     "execution_count": 12,
     "metadata": {},
     "output_type": "execute_result"
    }
   ],
   "source": [
    "#Data 확인\n",
    "data_train.tail()"
   ]
  },
  {
   "cell_type": "markdown",
   "metadata": {},
   "source": [
    "### 3) 개 순종/잡종 분류"
   ]
  },
  {
   "cell_type": "code",
   "execution_count": 13,
   "metadata": {
    "collapsed": true
   },
   "outputs": [],
   "source": [
    "def dog_breed_category(data_train):\n",
    "    '''This function converts the breed into pure mix, mix or pure'''\n",
    "    breed_df = data_train[['OutcomeType', 'AnimalType', 'Breed']]\n",
    "    breed_df_dog = breed_df[breed_df.AnimalType == 'Dog'].reset_index()\n",
    "    breed_list = list(breed_df_dog['Breed'])\n",
    "    breed_compile = []\n",
    "    for item in breed_list:\n",
    "        item = item.lower()\n",
    "        if 'mix' in item:\n",
    "            breed_compile.append('pure mix')\n",
    "        elif '/' in item:\n",
    "            breed_compile.append('mix')\n",
    "        else:\n",
    "            breed_compile.append('pure')\n",
    "    breed_df_dog['Breed_dog'] = breed_compile\n",
    "    return breed_df_dog"
   ]
  },
  {
   "cell_type": "code",
   "execution_count": 14,
   "metadata": {
    "collapsed": true
   },
   "outputs": [],
   "source": [
    "breed_df_dog = dog_breed_category(data_train)"
   ]
  },
  {
   "cell_type": "markdown",
   "metadata": {},
   "source": [
    "### 4) Data Visualiation"
   ]
  },
  {
   "cell_type": "code",
   "execution_count": 15,
   "metadata": {},
   "outputs": [
    {
     "data": {
      "image/png": "[encoded data removed]",
      "text/plain": [
       "<matplotlib.figure.Figure at 0x19e380512e8>"
      ]
     },
     "metadata": {},
     "output_type": "display_data"
    }
   ],
   "source": [
    "%matplotlib inline\n",
    "#SexuponOutcome과 결과값 관게 그래프\n",
    "fig, ax = plt.subplots(figsize=(7, 5))\n",
    "sns.countplot(ax = ax, x = 'SexuponOutcome', hue = 'OutcomeType', data = data_train)\n",
    "plt.show()"
   ]
  },
  {
   "cell_type": "code",
   "execution_count": 16,
   "metadata": {},
   "outputs": [
    {
     "data": {
      "image/png": "[encoded data removed]",
      "text/plain": [
       "<matplotlib.figure.Figure at 0x19e380514e0>"
      ]
     },
     "metadata": {},
     "output_type": "display_data"
    }
   ],
   "source": [
    "#AnimalType (개 or 고양이)과 결과값 관계 그래프 \n",
    "fig, ax = plt.subplots(figsize=(7, 5))\n",
    "sns.countplot(x = 'AnimalType', hue = 'OutcomeType', data = data_train)\n",
    "plt.show()"
   ]
  },
  {
   "cell_type": "markdown",
   "metadata": {},
   "source": [
    "#### Reference: https://stackoverflow.com/questions/42528921/how-to-prevent-overlapping-x-axis-labels-in-sns-countplot"
   ]
  },
  {
   "cell_type": "code",
   "execution_count": 17,
   "metadata": {},
   "outputs": [
    {
     "data": {
      "image/png": "[encoded data removed]",
      "text/plain": [
       "<matplotlib.figure.Figure at 0x19e38b38400>"
      ]
     },
     "metadata": {},
     "output_type": "display_data"
    }
   ],
   "source": [
    "#날짜와 결과값 관계 그래프\n",
    "fig, ax = plt.subplots(figsize=(15, 7))\n",
    "ax = sns.countplot(x = 'Date', hue = 'OutcomeType', data = data_train)\n",
    "ax.set_xticklabels(ax.get_xticklabels(), rotation=40, ha=\"right\")\n",
    "plt.show()"
   ]
  },
  {
   "cell_type": "markdown",
   "metadata": {},
   "source": [
    "#### 보기 매우 피곤한 그래프이기 때문에 위 Reference에서 나온 factorplot 이용하여 새로운 plot형성"
   ]
  },
  {
   "cell_type": "code",
   "execution_count": 18,
   "metadata": {
    "scrolled": true
   },
   "outputs": [
    {
     "data": {
      "text/plain": [
       "<matplotlib.figure.Figure at 0x19e38a9d828>"
      ]
     },
     "metadata": {},
     "output_type": "display_data"
    },
    {
     "data": {
      "image/png": "[encoded data removed]",
      "text/plain": [
       "<matplotlib.figure.Figure at 0x19e38c2e8d0>"
      ]
     },
     "metadata": {},
     "output_type": "display_data"
    }
   ],
   "source": [
    "plt.figure(figsize=(20,20))\n",
    "ax2 = sns.factorplot(x = 'Date', col = 'OutcomeType', data = data_train, kind = 'count')\n",
    "ax2.set_xticklabels(ax.get_xticklabels(), rotation=90, ha=\"right\")\n",
    "plt.show()"
   ]
  },
  {
   "cell_type": "code",
   "execution_count": 19,
   "metadata": {},
   "outputs": [
    {
     "data": {
      "image/png": "[encoded data removed]",
      "text/plain": [
       "<matplotlib.figure.Figure at 0x19e3a20cd30>"
      ]
     },
     "metadata": {},
     "output_type": "display_data"
    }
   ],
   "source": [
    "#계절별 OutcomeType 관계 그래프\n",
    "sns.factorplot(x = 'OutcomeSeason', hue = 'OutcomeYear', col = 'OutcomeType', data = data_train, kind = 'count')\n",
    "plt.show()"
   ]
  },
  {
   "cell_type": "code",
   "execution_count": 20,
   "metadata": {},
   "outputs": [
    {
     "data": {
      "image/png": "[encoded data removed]",
      "text/plain": [
       "<matplotlib.figure.Figure at 0x19e3a075f28>"
      ]
     },
     "metadata": {},
     "output_type": "display_data"
    }
   ],
   "source": [
    "#이름 유/무와 OutcomeType 관계 그래프\n",
    "plt.figure(figsize = (7, 5))\n",
    "sns.countplot(x = 'Name', hue = 'OutcomeType', data = data_train)\n",
    "plt.show()"
   ]
  },
  {
   "cell_type": "code",
   "execution_count": 21,
   "metadata": {},
   "outputs": [
    {
     "data": {
      "image/png": "[encoded data removed]",
      "text/plain": [
       "<matplotlib.figure.Figure at 0x19e3ace54e0>"
      ]
     },
     "metadata": {},
     "output_type": "display_data"
    }
   ],
   "source": [
    "#OutcomeSubType과 OutcomeType 관계 그래프\n",
    "plt.figure(figsize = (20, 5))\n",
    "sns.countplot(x = 'OutcomeSubtype', hue = 'OutcomeType', data = data_train)\n",
    "plt.show()"
   ]
  },
  {
   "cell_type": "markdown",
   "metadata": {},
   "source": [
    "#### OutcomeSubtype의 경우 OutcomeType과 강한 직관성이 있는것으로 확인"
   ]
  },
  {
   "cell_type": "code",
   "execution_count": 23,
   "metadata": {},
   "outputs": [
    {
     "data": {
      "image/png": "[encoded data removed]",
      "text/plain": [
       "<matplotlib.figure.Figure at 0x19e38b58898>"
      ]
     },
     "metadata": {},
     "output_type": "display_data"
    }
   ],
   "source": [
    "#순종/잡종 개와 OutcomeType 관계 그래프\n",
    "sns.countplot(x = 'Breed_dog', hue = 'OutcomeType', data = breed_df_dog)\n",
    "plt.show()"
   ]
  },
  {
   "cell_type": "markdown",
   "metadata": {},
   "source": [
    "#### 순종견 (Pure)는 갯수가 많지 않기 때문에 Pure mix와 Pure는 같은 종으로 고려함 (타 Kaggle 분석에서도 이런식으로 진행한것 확인)"
   ]
  },
  {
   "cell_type": "markdown",
   "metadata": {},
   "source": [
    "### 5) 개종을 Size로 변환. Breed의 Unique값 분석결과 1200종이 넘는것으로 확인됨. 이러한 data를 그래로 사용할 경우 Overfitting등의 문제가 있기 때문에 2가지 방법으로 접근할 예전\n",
    "  \n",
    "1) 순종 Breed에 관해서는 Size로 변환 -> 잡종일 경우 유전적 factor에 의해서 크기 예측이 쉽지 않음. 이 작업을 수작업으로 하기에는 너무 많은 시간이 소요가 되기 때문에 방법 탐색중 순종을 크기 별로 나눠놓은 웹사이트 발견 -> Crawling\n",
    "\n",
    "Mixed Breed Reference: http://www.vetstreet.com/our-pet-experts/can-you-predict-the-adult-size-of-a-mixed-breed-puppy\n",
    "\n",
    "Size Reference : http://www.dogbreedslist.info/herding-dog-breeds/#.WgfCyMZl-iN\n",
    "\n",
    "2) 또다른 방법은 Breed를 Main breed와 Sub breed열로 나눠서 분석"
   ]
  },
  {
   "cell_type": "markdown",
   "metadata": {},
   "source": [
    "#### Size별 정보 Crawling (BeautifulSoup)"
   ]
  },
  {
   "cell_type": "code",
   "execution_count": 24,
   "metadata": {
    "collapsed": true
   },
   "outputs": [],
   "source": [
    "def size_crawler(url, selector):\n",
    "    '''This is one of the two functions used for crawlign cat/dog size'''\n",
    "    res = requests.get(url)\n",
    "    soup = BeautifulSoup(res.content, 'html.parser')\n",
    "    breed_list = soup.select(selector)\n",
    "    compile_list = []\n",
    "    for breed in breed_list:\n",
    "        compile_list.append(breed.get_text().lower())\n",
    "    return compile_list\n",
    "\n",
    "def size_compile(url_list, selector):\n",
    "    '''This is second functions used for crawlign cat/dog size'''\n",
    "    list_compile = []\n",
    "    for url in url_list:\n",
    "        crawler_list = size_crawler(url, selector)\n",
    "        list_compile += crawler_list\n",
    "    return list_compile"
   ]
  },
  {
   "cell_type": "code",
   "execution_count": 25,
   "metadata": {
    "collapsed": true
   },
   "outputs": [],
   "source": [
    "'''This section is for crawling the dog size list'''\n",
    "\n",
    "'''Extract list of dogs for different sizes'''\n",
    "small_url_list = ['http://www.dogbreedslist.info/small-dog-breeds/list_2_1.html#.Wfx1Mmi0NPY', \n",
    "                'http://www.dogbreedslist.info/small-dog-breeds/list_2_2.html#.Wfx1Mmi0NPY', \n",
    "                'http://www.dogbreedslist.info/small-dog-breeds/list_2_3.html#.Wfx1Mmi0NPY', \n",
    "                'http://www.dogbreedslist.info/small-dog-breeds/list_2_4.html#.Wfx1Mmi0NPY', \n",
    "                'http://www.dogbreedslist.info/small-dog-breeds/list_2_5.html#.Wfx1Mmi0NPY',\n",
    "                'http://www.dogbreedslist.info/small-dog-breeds/list_2_6.html#.Wfx1Mmi0NPY']\n",
    "\n",
    "selector = 'body > div.main > div.main-r > div > div.list-01 > div.right > div.right-t > p > a'\n",
    "small_dog_compile = size_compile(small_url_list, selector)\n",
    "\n",
    "medium_url_list = ['http://www.dogbreedslist.info/medium-dog-breeds/list_3_1.html#.Wfx3bmi0NPY',\n",
    "                   'http://www.dogbreedslist.info/medium-dog-breeds/list_3_2.html#.Wfx3bmi0NPY',\n",
    "                   'http://www.dogbreedslist.info/medium-dog-breeds/list_3_3.html#.Wfx3bmi0NPY', \n",
    "                   'http://www.dogbreedslist.info/medium-dog-breeds/list_3_4.html#.Wfx3bmi0NPY',\n",
    "                   'http://www.dogbreedslist.info/medium-dog-breeds/list_3_5.html#.Wfx3bmi0NPY',\n",
    "                   'http://www.dogbreedslist.info/medium-dog-breeds/list_3_6.html#.Wfx3bmi0NPY']\n",
    "\n",
    "selector = 'body > div.main > div.main-r > div > div.list-01 > div.right > div.right-t > p > a'\n",
    "medium_dog_compile = size_compile(medium_url_list, selector) + ['treeing cur', 'treeing tennesse brindle']\n",
    "\n",
    "large_url_list = ['http://www.dogbreedslist.info/large-dog-breeds/list_4_1.html#.Wfx9nWi0NPY',\n",
    "                   'http://www.dogbreedslist.info/large-dog-breeds/list_4_2.html#.Wfx9nWi0NPY',\n",
    "                   'http://www.dogbreedslist.info/large-dog-breeds/list_4_3.html#.Wfx9nWi0NPY', \n",
    "                   'http://www.dogbreedslist.info/large-dog-breeds/list_4_4.html#.Wfx9nWi0NPY',\n",
    "                   'http://www.dogbreedslist.info/large-dog-breeds/list_4_5.html#.Wfx9nWi0NPY',\n",
    "                   'http://www.dogbreedslist.info/large-dog-breeds/list_4_6.html#.Wfx9nWi0NPY']\n",
    "\n",
    "selector = 'body > div.main > div.main-r > div > div.list-01 > div.right > div.right-t > p > a'\n",
    "large_dog_compile = size_compile(large_url_list, selector) + ['schnauzer giant', 'olde english bulldogge']\n",
    "\n",
    "giant_url_list = ['http://www.dogbreedslist.info/giant-dog-breeds/list_5_1.html#.Wfx9nWi0NPY',]\n",
    "\n",
    "selector = 'body > div.main > div.main-r > div > div.list-01 > div.right > div.right-t > p > a'\n",
    "giant_dog_compile = size_compile(giant_url_list, selector)"
   ]
  },
  {
   "cell_type": "code",
   "execution_count": 26,
   "metadata": {},
   "outputs": [
    {
     "name": "stdout",
     "output_type": "stream",
     "text": [
      "['labrador retriever', 'bulldog', 'poodle', 'boxer', 'siberian husky', 'australian shepherd', 'brittany', 'english springer spaniel', 'american cocker spaniel', 'vizsla', 'weimaraner', 'miniature american shepherd', 'border collie', 'basset hound', 'shiba inu', 'belgian malinois', 'soft coated wheaten terrier', 'portuguese water dog', 'australian cattle dog', 'airedale terrier', 'english cocker spaniel', 'bull terrier', 'whippet', 'shar-pei', 'german wirehaired pointer', 'samoyed', 'wirehaired pointing griffon', 'chow chow', 'american staffordshire terrier', 'staffordshire bull terrier', 'standard schnauzer', 'nova scotia duck tolling retriever', 'basenji', 'tibetan terrier', 'norwegian elkhound', 'wire fox terrier', 'belgian tervuren', 'boykin spaniel', 'lagotto romagnolo', 'pointer', 'american eskimo dog', 'welsh springer spaniel', 'bearded collie', 'kerry blue terrier', 'treeing walker coonhound', 'berger picard', 'redbone coonhound', 'clumber spaniel', 'german pinscher', 'field spaniel', 'irish water spaniel', 'icelandic sheepdog', 'american water spaniel', 'wirehaired vizsla', 'plott hound', 'puli', 'portuguese podengo pequeno', 'entlebucher mountain dog', 'spanish water dog', 'pharaoh hound', 'polish lowland sheepdog', 'american english coonhound', 'finnish lapphund', 'norwegian buhund', 'pyrenean shepherd', 'finnish spitz', 'canaan dog', 'cirneco dell’etna', 'harrier', 'english foxhound', 'africanis', 'aidi', 'alaskan klee kai', 'american pit bull terrier', 'american white shepherd', 'appenzeller sennenhund', 'ariegeois', 'australian bulldog', 'australian kelpie', 'australian stumpy tail cattle dog', 'austrian black and tan hound', 'austrian pinscher', 'barbet', 'bavarian mountain hound', 'belgian shepherd laekenois', 'black mouth cur', 'black norwegian elkhound', 'blue lacy', 'bohemian shepherd', 'bouvier des ardennes', 'braque du bourbonnais', 'briquet griffon vendeen', 'cão da serra de aires', 'carolina dog', 'catahoula bulldog', 'catahoula leopard dog', 'catalan sheepdog', 'cesky fousek', 'croatian sheepdog', 'deutsche bracke', 'dingo', 'drentse patrijshond', 'dunker', 'english shepherd', 'eurasier', 'fila brasileiro', 'finnish hound', 'french spaniel', 'polish hunting dog', 'grand basset griffon vendeen', 'griffon bleu de gascogne', 'hamilton hound', 'hokkaido dog', 'hovawart', 'jämthund', 'korean jindo', 'karelian bear dog', 'kishu ken', 'kooikerhondje', 'koolie', 'treeing cur', 'treeing tennesse brindle']\n"
     ]
    }
   ],
   "source": [
    "print(medium_dog_compile)"
   ]
  },
  {
   "cell_type": "markdown",
   "metadata": {},
   "source": [
    "### 6) 필요없는 정보 제거작업"
   ]
  },
  {
   "cell_type": "code",
   "execution_count": 27,
   "metadata": {
    "collapsed": true
   },
   "outputs": [],
   "source": [
    "data_train.drop('AnimalID', axis = 1, inplace = True)"
   ]
  },
  {
   "cell_type": "code",
   "execution_count": 28,
   "metadata": {
    "collapsed": true
   },
   "outputs": [],
   "source": [
    "data_train.drop('DateTime', axis = 1, inplace = True)"
   ]
  },
  {
   "cell_type": "code",
   "execution_count": 29,
   "metadata": {
    "scrolled": false
   },
   "outputs": [
    {
     "data": {
      "text/html": [
       "<div>\n",
       "<style>\n",
       "    .dataframe thead tr:only-child th {\n",
       "        text-align: right;\n",
       "    }\n",
       "\n",
       "    .dataframe thead th {\n",
       "        text-align: left;\n",
       "    }\n",
       "\n",
       "    .dataframe tbody tr th {\n",
       "        vertical-align: top;\n",
       "    }\n",
       "</style>\n",
       "<table border=\"1\" class=\"dataframe\">\n",
       "  <thead>\n",
       "    <tr style=\"text-align: right;\">\n",
       "      <th></th>\n",
       "      <th>Name</th>\n",
       "      <th>OutcomeType</th>\n",
       "      <th>OutcomeSubtype</th>\n",
       "      <th>AnimalType</th>\n",
       "      <th>SexuponOutcome</th>\n",
       "      <th>AgeuponOutcome</th>\n",
       "      <th>Breed</th>\n",
       "      <th>Color</th>\n",
       "      <th>Date</th>\n",
       "      <th>OutcomeYear</th>\n",
       "      <th>OutcomeMonth</th>\n",
       "      <th>OutcomeDay</th>\n",
       "      <th>OutcomeHour</th>\n",
       "      <th>OutcomeSeason</th>\n",
       "    </tr>\n",
       "  </thead>\n",
       "  <tbody>\n",
       "    <tr>\n",
       "      <th>26724</th>\n",
       "      <td>No Name</td>\n",
       "      <td>Transfer</td>\n",
       "      <td>Partner</td>\n",
       "      <td>Cat</td>\n",
       "      <td>Intact Male</td>\n",
       "      <td>1 month</td>\n",
       "      <td>Domestic Shorthair Mix</td>\n",
       "      <td>Brown Tabby/White</td>\n",
       "      <td>201505</td>\n",
       "      <td>2015</td>\n",
       "      <td>05</td>\n",
       "      <td>14</td>\n",
       "      <td>11</td>\n",
       "      <td>spring</td>\n",
       "    </tr>\n",
       "    <tr>\n",
       "      <th>26725</th>\n",
       "      <td>No Name</td>\n",
       "      <td>Transfer</td>\n",
       "      <td>SCRP</td>\n",
       "      <td>Cat</td>\n",
       "      <td>Spayed Female</td>\n",
       "      <td>3 months</td>\n",
       "      <td>Domestic Shorthair Mix</td>\n",
       "      <td>Brown Tabby</td>\n",
       "      <td>201601</td>\n",
       "      <td>2016</td>\n",
       "      <td>01</td>\n",
       "      <td>20</td>\n",
       "      <td>18</td>\n",
       "      <td>winter</td>\n",
       "    </tr>\n",
       "    <tr>\n",
       "      <th>26726</th>\n",
       "      <td>Name</td>\n",
       "      <td>Adoption</td>\n",
       "      <td>Unknown</td>\n",
       "      <td>Dog</td>\n",
       "      <td>Neutered Male</td>\n",
       "      <td>4 years</td>\n",
       "      <td>Old English Bulldog Mix</td>\n",
       "      <td>White/Tan</td>\n",
       "      <td>201503</td>\n",
       "      <td>2015</td>\n",
       "      <td>03</td>\n",
       "      <td>09</td>\n",
       "      <td>13</td>\n",
       "      <td>spring</td>\n",
       "    </tr>\n",
       "    <tr>\n",
       "      <th>26727</th>\n",
       "      <td>No Name</td>\n",
       "      <td>Transfer</td>\n",
       "      <td>Partner</td>\n",
       "      <td>Cat</td>\n",
       "      <td>Intact Male</td>\n",
       "      <td>4 weeks</td>\n",
       "      <td>Domestic Shorthair Mix</td>\n",
       "      <td>Black</td>\n",
       "      <td>201404</td>\n",
       "      <td>2014</td>\n",
       "      <td>04</td>\n",
       "      <td>27</td>\n",
       "      <td>12</td>\n",
       "      <td>spring</td>\n",
       "    </tr>\n",
       "    <tr>\n",
       "      <th>26728</th>\n",
       "      <td>No Name</td>\n",
       "      <td>Transfer</td>\n",
       "      <td>SCRP</td>\n",
       "      <td>Cat</td>\n",
       "      <td>Intact Male</td>\n",
       "      <td>1 year</td>\n",
       "      <td>Domestic Shorthair Mix</td>\n",
       "      <td>Brown Tabby/White</td>\n",
       "      <td>201507</td>\n",
       "      <td>2015</td>\n",
       "      <td>07</td>\n",
       "      <td>02</td>\n",
       "      <td>09</td>\n",
       "      <td>summer</td>\n",
       "    </tr>\n",
       "  </tbody>\n",
       "</table>\n",
       "</div>"
      ],
      "text/plain": [
       "          Name OutcomeType OutcomeSubtype AnimalType SexuponOutcome  \\\n",
       "26724  No Name    Transfer        Partner        Cat    Intact Male   \n",
       "26725  No Name    Transfer           SCRP        Cat  Spayed Female   \n",
       "26726     Name    Adoption        Unknown        Dog  Neutered Male   \n",
       "26727  No Name    Transfer        Partner        Cat    Intact Male   \n",
       "26728  No Name    Transfer           SCRP        Cat    Intact Male   \n",
       "\n",
       "      AgeuponOutcome                    Breed              Color    Date  \\\n",
       "26724        1 month   Domestic Shorthair Mix  Brown Tabby/White  201505   \n",
       "26725       3 months   Domestic Shorthair Mix        Brown Tabby  201601   \n",
       "26726        4 years  Old English Bulldog Mix          White/Tan  201503   \n",
       "26727        4 weeks   Domestic Shorthair Mix              Black  201404   \n",
       "26728         1 year   Domestic Shorthair Mix  Brown Tabby/White  201507   \n",
       "\n",
       "      OutcomeYear OutcomeMonth OutcomeDay OutcomeHour OutcomeSeason  \n",
       "26724        2015           05         14          11        spring  \n",
       "26725        2016           01         20          18        winter  \n",
       "26726        2015           03         09          13        spring  \n",
       "26727        2014           04         27          12        spring  \n",
       "26728        2015           07         02          09        summer  "
      ]
     },
     "execution_count": 29,
     "metadata": {},
     "output_type": "execute_result"
    }
   ],
   "source": [
    "data_train.tail()"
   ]
  },
  {
   "cell_type": "markdown",
   "metadata": {
    "collapsed": true
   },
   "source": [
    "### 7) OutcomeType 심층분석?"
   ]
  },
  {
   "cell_type": "code",
   "execution_count": 30,
   "metadata": {
    "collapsed": true
   },
   "outputs": [],
   "source": [
    "def count_outcome(data_train):\n",
    "    plt.figure()\n",
    "    outcome = data_train['OutcomeType'].value_counts()\n",
    "    outcome.plot(kind = 'bar', title = 'Outcome variable count')\n",
    "    plt.show()"
   ]
  },
  {
   "cell_type": "code",
   "execution_count": 31,
   "metadata": {},
   "outputs": [
    {
     "data": {
      "image/png": "[encoded data removed]",
      "text/plain": [
       "<matplotlib.figure.Figure at 0x19e3b51fe48>"
      ]
     },
     "metadata": {},
     "output_type": "display_data"
    }
   ],
   "source": [
    "count_outcome(data_train)"
   ]
  },
  {
   "cell_type": "markdown",
   "metadata": {},
   "source": [
    "Adoption이나 Transfer대비 Euthanasia나 Died 데이터 수가 적음. 이러한 Imbalance가 모델 정확도에 영향을 줄 것으로 예상됨."
   ]
  },
  {
   "cell_type": "markdown",
   "metadata": {},
   "source": [
    "### 8) Name 인자 숫자 인코딩\n",
    "\n",
    "#### Reference: https://github.com/JihongL/Shelter-Animal-Outcomes/blob/master/Shelter_EDA.ipynb"
   ]
  },
  {
   "cell_type": "code",
   "execution_count": 32,
   "metadata": {
    "collapsed": true
   },
   "outputs": [],
   "source": [
    "def no_name_numeric_label(x):\n",
    "    '''Reference: https://github.com/JihongL/Shelter-Animal-Outcomes/blob/master/Shelter_EDA.ipynb'''\n",
    "    '''This function is used in conjunction with .transform() method to convert Name and No Name \n",
    "    to numerical values'''\n",
    "    if x == 'No Name':\n",
    "        return 0\n",
    "    else:\n",
    "        return 1"
   ]
  },
  {
   "cell_type": "code",
   "execution_count": 33,
   "metadata": {
    "collapsed": true
   },
   "outputs": [],
   "source": [
    "data_train['Name'] = data_train['Name'].transform(no_name_numeric_label)"
   ]
  },
  {
   "cell_type": "code",
   "execution_count": 34,
   "metadata": {},
   "outputs": [
    {
     "data": {
      "text/html": [
       "<div>\n",
       "<style>\n",
       "    .dataframe thead tr:only-child th {\n",
       "        text-align: right;\n",
       "    }\n",
       "\n",
       "    .dataframe thead th {\n",
       "        text-align: left;\n",
       "    }\n",
       "\n",
       "    .dataframe tbody tr th {\n",
       "        vertical-align: top;\n",
       "    }\n",
       "</style>\n",
       "<table border=\"1\" class=\"dataframe\">\n",
       "  <thead>\n",
       "    <tr style=\"text-align: right;\">\n",
       "      <th></th>\n",
       "      <th>Name</th>\n",
       "      <th>OutcomeType</th>\n",
       "      <th>OutcomeSubtype</th>\n",
       "      <th>AnimalType</th>\n",
       "      <th>SexuponOutcome</th>\n",
       "      <th>AgeuponOutcome</th>\n",
       "      <th>Breed</th>\n",
       "      <th>Color</th>\n",
       "      <th>Date</th>\n",
       "      <th>OutcomeYear</th>\n",
       "      <th>OutcomeMonth</th>\n",
       "      <th>OutcomeDay</th>\n",
       "      <th>OutcomeHour</th>\n",
       "      <th>OutcomeSeason</th>\n",
       "    </tr>\n",
       "  </thead>\n",
       "  <tbody>\n",
       "    <tr>\n",
       "      <th>26724</th>\n",
       "      <td>0</td>\n",
       "      <td>Transfer</td>\n",
       "      <td>Partner</td>\n",
       "      <td>Cat</td>\n",
       "      <td>Intact Male</td>\n",
       "      <td>1 month</td>\n",
       "      <td>Domestic Shorthair Mix</td>\n",
       "      <td>Brown Tabby/White</td>\n",
       "      <td>201505</td>\n",
       "      <td>2015</td>\n",
       "      <td>05</td>\n",
       "      <td>14</td>\n",
       "      <td>11</td>\n",
       "      <td>spring</td>\n",
       "    </tr>\n",
       "    <tr>\n",
       "      <th>26725</th>\n",
       "      <td>0</td>\n",
       "      <td>Transfer</td>\n",
       "      <td>SCRP</td>\n",
       "      <td>Cat</td>\n",
       "      <td>Spayed Female</td>\n",
       "      <td>3 months</td>\n",
       "      <td>Domestic Shorthair Mix</td>\n",
       "      <td>Brown Tabby</td>\n",
       "      <td>201601</td>\n",
       "      <td>2016</td>\n",
       "      <td>01</td>\n",
       "      <td>20</td>\n",
       "      <td>18</td>\n",
       "      <td>winter</td>\n",
       "    </tr>\n",
       "    <tr>\n",
       "      <th>26726</th>\n",
       "      <td>1</td>\n",
       "      <td>Adoption</td>\n",
       "      <td>Unknown</td>\n",
       "      <td>Dog</td>\n",
       "      <td>Neutered Male</td>\n",
       "      <td>4 years</td>\n",
       "      <td>Old English Bulldog Mix</td>\n",
       "      <td>White/Tan</td>\n",
       "      <td>201503</td>\n",
       "      <td>2015</td>\n",
       "      <td>03</td>\n",
       "      <td>09</td>\n",
       "      <td>13</td>\n",
       "      <td>spring</td>\n",
       "    </tr>\n",
       "    <tr>\n",
       "      <th>26727</th>\n",
       "      <td>0</td>\n",
       "      <td>Transfer</td>\n",
       "      <td>Partner</td>\n",
       "      <td>Cat</td>\n",
       "      <td>Intact Male</td>\n",
       "      <td>4 weeks</td>\n",
       "      <td>Domestic Shorthair Mix</td>\n",
       "      <td>Black</td>\n",
       "      <td>201404</td>\n",
       "      <td>2014</td>\n",
       "      <td>04</td>\n",
       "      <td>27</td>\n",
       "      <td>12</td>\n",
       "      <td>spring</td>\n",
       "    </tr>\n",
       "    <tr>\n",
       "      <th>26728</th>\n",
       "      <td>0</td>\n",
       "      <td>Transfer</td>\n",
       "      <td>SCRP</td>\n",
       "      <td>Cat</td>\n",
       "      <td>Intact Male</td>\n",
       "      <td>1 year</td>\n",
       "      <td>Domestic Shorthair Mix</td>\n",
       "      <td>Brown Tabby/White</td>\n",
       "      <td>201507</td>\n",
       "      <td>2015</td>\n",
       "      <td>07</td>\n",
       "      <td>02</td>\n",
       "      <td>09</td>\n",
       "      <td>summer</td>\n",
       "    </tr>\n",
       "  </tbody>\n",
       "</table>\n",
       "</div>"
      ],
      "text/plain": [
       "       Name OutcomeType OutcomeSubtype AnimalType SexuponOutcome  \\\n",
       "26724     0    Transfer        Partner        Cat    Intact Male   \n",
       "26725     0    Transfer           SCRP        Cat  Spayed Female   \n",
       "26726     1    Adoption        Unknown        Dog  Neutered Male   \n",
       "26727     0    Transfer        Partner        Cat    Intact Male   \n",
       "26728     0    Transfer           SCRP        Cat    Intact Male   \n",
       "\n",
       "      AgeuponOutcome                    Breed              Color    Date  \\\n",
       "26724        1 month   Domestic Shorthair Mix  Brown Tabby/White  201505   \n",
       "26725       3 months   Domestic Shorthair Mix        Brown Tabby  201601   \n",
       "26726        4 years  Old English Bulldog Mix          White/Tan  201503   \n",
       "26727        4 weeks   Domestic Shorthair Mix              Black  201404   \n",
       "26728         1 year   Domestic Shorthair Mix  Brown Tabby/White  201507   \n",
       "\n",
       "      OutcomeYear OutcomeMonth OutcomeDay OutcomeHour OutcomeSeason  \n",
       "26724        2015           05         14          11        spring  \n",
       "26725        2016           01         20          18        winter  \n",
       "26726        2015           03         09          13        spring  \n",
       "26727        2014           04         27          12        spring  \n",
       "26728        2015           07         02          09        summer  "
      ]
     },
     "execution_count": 34,
     "metadata": {},
     "output_type": "execute_result"
    }
   ],
   "source": [
    "data_train.tail()"
   ]
  },
  {
   "cell_type": "markdown",
   "metadata": {},
   "source": [
    "### 9) OutcomeSubtype 인코딩"
   ]
  },
  {
   "cell_type": "code",
   "execution_count": 35,
   "metadata": {},
   "outputs": [
    {
     "data": {
      "text/plain": [
       "array(['Unknown', 'Suffering', 'Foster', 'Partner', 'Offsite', 'SCRP',\n",
       "       'Aggressive', 'Behavior', 'Rabies Risk', 'Medical', 'In Kennel',\n",
       "       'In Foster', 'Barn', 'Court/Investigation', 'Enroute', 'At Vet',\n",
       "       'In Surgery'], dtype=object)"
      ]
     },
     "execution_count": 35,
     "metadata": {},
     "output_type": "execute_result"
    }
   ],
   "source": [
    "data_train['OutcomeSubtype'].unique()"
   ]
  },
  {
   "cell_type": "code",
   "execution_count": 34,
   "metadata": {
    "collapsed": true
   },
   "outputs": [],
   "source": [
    "def convert_subtype(data_train):\n",
    "    '''Convert OutcomeSubtype into numerical values'''\n",
    "    subtype_unique = list(data_train['OutcomeSubtype'].unique())\n",
    "    subtype_mapping = {}\n",
    "    for i, item in enumerate(subtype_unique):\n",
    "        if item == 0:\n",
    "            continue\n",
    "        else:\n",
    "            subtype_mapping[item] = i\n",
    "    data_train['OutcomeSubtype'] = data_train['OutcomeSubtype'].map(subtype_mapping)\n",
    "    return data_train, subtype_mapping"
   ]
  },
  {
   "cell_type": "code",
   "execution_count": 70,
   "metadata": {
    "collapsed": true
   },
   "outputs": [],
   "source": [
    "#data_train, outComeSubtype_mapping = convert_subtype(data_train)"
   ]
  },
  {
   "cell_type": "code",
   "execution_count": 71,
   "metadata": {
    "collapsed": true
   },
   "outputs": [],
   "source": [
    "#data_train['OutcomeSubtype'] = data_train['OutcomeSubtype'].fillna(0)"
   ]
  },
  {
   "cell_type": "code",
   "execution_count": 72,
   "metadata": {},
   "outputs": [],
   "source": [
    "#data_train.tail()"
   ]
  },
  {
   "cell_type": "code",
   "execution_count": 38,
   "metadata": {},
   "outputs": [
    {
     "data": {
      "text/plain": [
       "(26729, 14)"
      ]
     },
     "execution_count": 38,
     "metadata": {},
     "output_type": "execute_result"
    }
   ],
   "source": [
    "data_train.shape"
   ]
  },
  {
   "cell_type": "markdown",
   "metadata": {},
   "source": [
    "### 10) NaN값 갯수 분석 및 dropna()적용"
   ]
  },
  {
   "cell_type": "code",
   "execution_count": 36,
   "metadata": {},
   "outputs": [
    {
     "data": {
      "text/plain": [
       "Name               0\n",
       "OutcomeType        0\n",
       "OutcomeSubtype     0\n",
       "AnimalType         0\n",
       "SexuponOutcome     1\n",
       "AgeuponOutcome    18\n",
       "Breed              0\n",
       "Color              0\n",
       "Date               0\n",
       "OutcomeYear        0\n",
       "OutcomeMonth       0\n",
       "OutcomeDay         0\n",
       "OutcomeHour        0\n",
       "OutcomeSeason      0\n",
       "dtype: int64"
      ]
     },
     "execution_count": 36,
     "metadata": {},
     "output_type": "execute_result"
    }
   ],
   "source": [
    "data_train.isnull().sum()"
   ]
  },
  {
   "cell_type": "markdown",
   "metadata": {},
   "source": [
    "#### NaN값 갯수가 적기 때문에 그냥 drop하는 방향으로 결정"
   ]
  },
  {
   "cell_type": "code",
   "execution_count": 37,
   "metadata": {},
   "outputs": [
    {
     "data": {
      "text/plain": [
       "(26710, 14)"
      ]
     },
     "execution_count": 37,
     "metadata": {},
     "output_type": "execute_result"
    }
   ],
   "source": [
    "data_train = data_train.dropna()\n",
    "data_train.shape"
   ]
  },
  {
   "cell_type": "markdown",
   "metadata": {},
   "source": [
    "### 11) Animal mapping -> 개는 1, 고양이는 0으로 전처리"
   ]
  },
  {
   "cell_type": "code",
   "execution_count": 38,
   "metadata": {},
   "outputs": [
    {
     "name": "stderr",
     "output_type": "stream",
     "text": [
      "C:\\Users\\cck3\\Anaconda3\\lib\\site-packages\\ipykernel_launcher.py:2: SettingWithCopyWarning: \n",
      "A value is trying to be set on a copy of a slice from a DataFrame.\n",
      "Try using .loc[row_indexer,col_indexer] = value instead\n",
      "\n",
      "See the caveats in the documentation: http://pandas.pydata.org/pandas-docs/stable/indexing.html#indexing-view-versus-copy\n",
      "  \n"
     ]
    }
   ],
   "source": [
    "animal_type_mapping = {'Dog':1, 'Cat':0}\n",
    "data_train['AnimalType'] = data_train['AnimalType'].map(animal_type_mapping)"
   ]
  },
  {
   "cell_type": "markdown",
   "metadata": {},
   "source": [
    "### 12) 결과값 'OutcomeType' 전처리 -> Animal mapping과 동일한 방법으로 .map()함수를 이용하여 전처리 진행"
   ]
  },
  {
   "cell_type": "code",
   "execution_count": 39,
   "metadata": {},
   "outputs": [
    {
     "name": "stderr",
     "output_type": "stream",
     "text": [
      "C:\\Users\\cck3\\Anaconda3\\lib\\site-packages\\ipykernel_launcher.py:2: SettingWithCopyWarning: \n",
      "A value is trying to be set on a copy of a slice from a DataFrame.\n",
      "Try using .loc[row_indexer,col_indexer] = value instead\n",
      "\n",
      "See the caveats in the documentation: http://pandas.pydata.org/pandas-docs/stable/indexing.html#indexing-view-versus-copy\n",
      "  \n"
     ]
    }
   ],
   "source": [
    "outcome_mapping = {'Return_to_owner':1, 'Euthanasia':2, 'Adoption':3, 'Transfer':4, 'Died':5}\n",
    "data_train['OutcomeType'] = data_train['OutcomeType'].map(outcome_mapping)"
   ]
  },
  {
   "cell_type": "markdown",
   "metadata": {},
   "source": [
    "### 13) AgeUponOutcome 데이터를 모두 일(day)로 변환\n",
    "\n",
    "#### Reference: https://stackoverflow.com/questions/12851791/removing-numbers-from-string"
   ]
  },
  {
   "cell_type": "code",
   "execution_count": 40,
   "metadata": {
    "collapsed": true
   },
   "outputs": [],
   "source": [
    "def convert_Age(data_train):\n",
    "    '''Reference: https://stackoverflow.com/questions/12851791/removing-numbers-from-string'''\n",
    "    '''This function convert all the time into unit of day'''\n",
    "    age_list = list(data_train['AgeuponOutcome'])\n",
    "    age_day_compile = []\n",
    "    for item in age_list:\n",
    "        if type(item) != str:\n",
    "            age_day_compile.append(item)\n",
    "        else:\n",
    "            numeric = int(item[:2])\n",
    "            if 'year' in item:\n",
    "                age_day_compile.append(numeric * 365)\n",
    "            elif 'month' in item:\n",
    "                age_day_compile.append(numeric * 30)\n",
    "            elif 'week' in item:\n",
    "                age_day_compile.append(numeric * 7)\n",
    "            elif 'day' in item:\n",
    "                age_day_compile.append(numeric)\n",
    "    return age_day_compile "
   ]
  },
  {
   "cell_type": "code",
   "execution_count": 41,
   "metadata": {},
   "outputs": [
    {
     "name": "stdout",
     "output_type": "stream",
     "text": [
      "[' year', ' years', ' weeks', ' month', ' months', ' days', ' week', ' day']\n"
     ]
    },
    {
     "data": {
      "text/plain": [
       "'This list contains year(s), month(s), week(s), day(s)'"
      ]
     },
     "execution_count": 41,
     "metadata": {},
     "output_type": "execute_result"
    }
   ],
   "source": [
    "'''This section of the code is to check the unique string values that are present in the AgeuponOutcome column'''\n",
    "age_list_compile = []\n",
    "age_outcome_list = list(data_train['AgeuponOutcome'])\n",
    "for item in age_outcome_list:\n",
    "    if type(item) != str:\n",
    "        '''This condition is to account for NaN values'''\n",
    "        continue\n",
    "    result = ''.join(i for i in item if not i.isdigit())\n",
    "    age_list_compile.append(result)\n",
    "'''We can check unique string values in the column'''\n",
    "age_list_unique = list(pd.Series(age_list_compile).unique())\n",
    "print(age_list_unique)\n",
    "'''This list contains year(s), month(s), week(s), day(s)'''"
   ]
  },
  {
   "cell_type": "markdown",
   "metadata": {},
   "source": [
    "#### age_list_unique 리스트 확인결과 year, years, month, months, week, weeks, day, days의 유니크한 값을 가짐. 나이관련 변수 단위를 일(day)로 통일"
   ]
  },
  {
   "cell_type": "code",
   "execution_count": 42,
   "metadata": {
    "collapsed": true
   },
   "outputs": [],
   "source": [
    "def convert_Age(data_train):\n",
    "    '''Reference: https://stackoverflow.com/questions/12851791/removing-numbers-from-string'''\n",
    "    '''This function convert all the time into unit of day'''\n",
    "    age_list = list(data_train['AgeuponOutcome'])\n",
    "    age_day_compile = []\n",
    "    for item in age_list:\n",
    "        if type(item) != str:\n",
    "            age_day_compile.append(item)\n",
    "        else:\n",
    "            numeric = int(item[:2])\n",
    "            if 'year' in item:\n",
    "                age_day_compile.append(numeric * 365)\n",
    "            elif 'month' in item:\n",
    "                age_day_compile.append(numeric * 30)\n",
    "            elif 'week' in item:\n",
    "                age_day_compile.append(numeric * 7)\n",
    "            elif 'day' in item:\n",
    "                age_day_compile.append(numeric)\n",
    "    return age_day_compile "
   ]
  },
  {
   "cell_type": "code",
   "execution_count": 43,
   "metadata": {},
   "outputs": [
    {
     "name": "stderr",
     "output_type": "stream",
     "text": [
      "C:\\Users\\cck3\\Anaconda3\\lib\\site-packages\\ipykernel_launcher.py:2: SettingWithCopyWarning: \n",
      "A value is trying to be set on a copy of a slice from a DataFrame.\n",
      "Try using .loc[row_indexer,col_indexer] = value instead\n",
      "\n",
      "See the caveats in the documentation: http://pandas.pydata.org/pandas-docs/stable/indexing.html#indexing-view-versus-copy\n",
      "  \n"
     ]
    }
   ],
   "source": [
    "age_day_compile = convert_Age(data_train)\n",
    "data_train['AgeuponOutcome'] = age_day_compile"
   ]
  },
  {
   "cell_type": "markdown",
   "metadata": {
    "collapsed": true
   },
   "source": [
    "### 14) 순종 Mix와 순종을 같은 Breed로 설정"
   ]
  },
  {
   "cell_type": "code",
   "execution_count": 44,
   "metadata": {
    "collapsed": true
   },
   "outputs": [],
   "source": [
    "def remove_mix(data_train):\n",
    "    '''This function removes the keyword mix from breed list. The result from\n",
    "    this method is used when converting breed into different categories'''\n",
    "    breed_list = list(data_train['Breed'])\n",
    "    breed_compile = []\n",
    "    for item in breed_list:\n",
    "        item = item.lower()\n",
    "        if 'mix' in item:\n",
    "            item = item[:-4]\n",
    "        breed_compile.append(item)\n",
    "    return breed_compile"
   ]
  },
  {
   "cell_type": "code",
   "execution_count": 45,
   "metadata": {
    "collapsed": true
   },
   "outputs": [],
   "source": [
    "breed_remove_mix = remove_mix(data_train)"
   ]
  },
  {
   "cell_type": "markdown",
   "metadata": {},
   "source": [
    "### 15) train.csv에 있는 모든 견종이 Crawling한 list에 존재하나 줄임말 또는 표기법이 달라서 인식이 안되는 종이 30종 정도 있는것으로 확인하였음 . 종이 그렇게 많지 않기 때문에 노가다 작업진행"
   ]
  },
  {
   "cell_type": "code",
   "execution_count": 46,
   "metadata": {
    "collapsed": true
   },
   "outputs": [],
   "source": [
    "for index, item in enumerate(breed_remove_mix):\n",
    "    if item == 'chihuahua shorthair':\n",
    "        breed_remove_mix[index] = 'chihuahua'\n",
    "    elif item == 'collie smooth':\n",
    "        breed_remove_mix[index] = 'collie'\n",
    "    elif item == 'anatol shepherd':\n",
    "        breed_remove_mix[index] = 'anatolian shepherd dog'\n",
    "    elif item == 'port water dog':\n",
    "        breed_remove_mix[index] = 'portuguese water dog'\n",
    "    elif item == 'flat coat retriever':\n",
    "        breed_remove_mix[index] = 'flat-coated retriever'\n",
    "    elif item == 'pbgv':\n",
    "        breed_remove_mix[index] = 'petit basset griffon vendeen'\n",
    "    elif item == 'bruss griffon':\n",
    "        breed_remove_mix[index] = 'brussels griffon'\n",
    "    elif item == 'bluetick hound':\n",
    "        breed_remove_mix[index] = 'bluetick coonhound'\n",
    "    elif item == 'wire hair fox terrier':\n",
    "        breed_remove_mix[index] = 'wire fox terrier'\n",
    "    elif item == 'dachshund wirehair':\n",
    "        breed_remove_mix[index] = 'dachshund'\n",
    "    elif item == 'rhod ridgeback':\n",
    "        breed_remove_mix[index] = 'rhodesian ridgeback'\n",
    "    elif item == 'picardy sheepdog':\n",
    "        breed_remove_mix[index] = 'berger picard'\n",
    "    elif item == 'st. bernard rough coat':\n",
    "        breed_remove_mix[index] = 'st. bernard'\n",
    "    elif item == 'old english bulldog':\n",
    "        breed_remove_mix[index] = 'olde english bulldogge'\n",
    "    elif item == 'english bulldog':\n",
    "        breed_remove_mix[index] = 'olde english bulldogge'\n",
    "    elif item == 'chesa bay retr':\n",
    "        breed_remove_mix[index] = 'chesapeake bay retriever'\n",
    "    elif item == 'dachshund longhair':\n",
    "        breed_remove_mix[index] = 'dachshund'\n",
    "    elif item == 'chihuahua longhair':\n",
    "        breed_remove_mix[index] = 'chihuahua'\n",
    "    elif item == 'chinese sharpei':\n",
    "        breed_remove_mix[index] = 'shar-pei'\n",
    "    elif item == 'standard poodle':\n",
    "        breed_remove_mix[index] = 'poodle'\n",
    "    elif item == 'bull terrier miniature':\n",
    "        breed_remove_mix[index] = 'miniature bull terrier'\n",
    "    elif item =='st. bernard smooth coat':\n",
    "        breed_remove_mix[index] = 'st. bernard'\n",
    "    elif item =='redbone hound':\n",
    "        breed_remove_mix[index] = 'redbone coonhound'\n",
    "    elif item == 'cavalier span':\n",
    "        breed_remove_mix[index] = 'cavalier king charles spaniel'\n",
    "    elif item == 'collie rough':\n",
    "        breed_remove_mix[index] = 'collie'\n",
    "    elif item == 'german shorthair pointer':\n",
    "        breed_remove_mix[index] = 'german shorthaired pointer'\n",
    "    elif item == 'english pointer':\n",
    "        breed_remove_mix[index] = 'pointer'\n",
    "    elif item == 'mexican hairless':\n",
    "        breed_remove_mix[index] = 'xoloitzcuintli'\n",
    "    elif item =='dogo argentino':\n",
    "        breed_remove_mix[index] = 'argentine dogo'\n",
    "    elif item == 'queensland heeler':\n",
    "        breed_remove_mix[index] = 'australian cattle dog'"
   ]
  },
  {
   "cell_type": "markdown",
   "metadata": {},
   "source": [
    "### 16) 고양이 사이즈 -> 고양이는 종류가 강아지만큼 다양하지 않기 때문에 수작업 전처리 진행"
   ]
  },
  {
   "cell_type": "code",
   "execution_count": 47,
   "metadata": {
    "collapsed": true
   },
   "outputs": [],
   "source": [
    "small_cat_list = ['munchkin longhair']\n",
    "medium_cat_list = ['exotic shorthair', 'persian', 'abyssinian', 'sphynx', 'siamese',\n",
    "                   'cornish rex', 'devon rex', 'burmese', 'tonkinese', 'russian blue', \n",
    "                   'manx', 'japanese bobtail', 'balinese', 'bombay', 'havana brown',\n",
    "                   'bengal', 'cymric', 'himalayan', 'snowshoe', 'javanese', 'havana brown', 'angora']\n",
    "large_cat_list = ['american shorthair', 'british shorthair', 'norwegian forest cat', 'ocicat',\n",
    "                  'turkish van', 'pixiebob shorthair', 'maine coon', 'ragdoll']\n",
    "domestic = ['domestic longhair', 'domestic medium hair', 'domestic shorthair']"
   ]
  },
  {
   "cell_type": "markdown",
   "metadata": {},
   "source": [
    "고양이종에 domestic이 붙은 종은 북미지역에 서식하는 잡종 고양이를 뜻함. train 데이터에서도 압도적으로 많은 고양이들이 domestic 종이고 실제로도 북미지역 애완 고양이는 높은 비율로 domestic 잡종인것을 아래 참조 자료를 통해 확인하였음. 잡종인 만큼 size를 예측하기 힘들기 때문에 domestic이라는 카테고리를 따로 형성함\n",
    "\n",
    "#### Reference: http://www.petguide.com/breeds/cat/domestic-longhair/"
   ]
  },
  {
   "cell_type": "markdown",
   "metadata": {},
   "source": [
    "### 17) 개/고양이 Size 인자형성\n",
    "\n",
    "#### Reference: https://stackoverflow.com/questions/16380326/check-if-substring-is-in-a-list-of-strings"
   ]
  },
  {
   "cell_type": "code",
   "execution_count": 48,
   "metadata": {
    "collapsed": true
   },
   "outputs": [],
   "source": [
    "def convert_breed(type_list, breed_list, small_list, medium_list, large_list, giant_list,\n",
    "                  small_cat_list, medium_cat_list, large_cat_list, domestic_cat_list):\n",
    "    '''Reference: https://stackoverflow.com/questions/16380326/check-if-substring-is-in-a-list-of-strings\n",
    "    that is a really smart and succinct solution for checking substring existence in a list of strings'''\n",
    "    \n",
    "    '''The incoming list a list of breeds with the keyword \"mix\" removed and converted\n",
    "    to lower case. No need for extra preprocessing. Also the dog lists are all converted\n",
    "    to lower case as well. Type list is to check whether the breed belongs to dog or cat'''\n",
    "    if len(type_list) != len(breed_list):\n",
    "        print('Two lists must have equal length!')\n",
    "        return None\n",
    "    \n",
    "    '''Convert the list into a string format for easier processing'''\n",
    "    small_combined = '\\t'.join(small_list)\n",
    "    medium_combined = '\\t'.join(medium_list)\n",
    "    large_combined = '\\t'.join(large_list)\n",
    "    giant_combined = '\\t'.join(giant_list)\n",
    "    \n",
    "    breed_compile, excluded_list, mix_breed_list, cat_breed_list = [], [], [], []\n",
    "    for animal_type, breed in zip(type_list, breed_list):\n",
    "        if '/' in breed: #Mixed type categorization\n",
    "            mix_breed_list.append(breed)\n",
    "            breed_compile.append('mix')\n",
    "        elif animal_type == 0: #Cat breed categorization\n",
    "            cat_breed_list.append(breed)\n",
    "            if breed in small_cat_list:\n",
    "                breed_compile.append('small_cat')\n",
    "            elif breed in medium_cat_list:\n",
    "                breed_compile.append('medium_cat')\n",
    "            elif breed in large_cat_list:\n",
    "                breed_compile.append('large_cat')\n",
    "            elif breed in domestic_cat_list:\n",
    "                breed_compile.append('domestic')\n",
    "        elif animal_type == 1: #Dog breed categorization\n",
    "            if breed in small_combined:\n",
    "                breed_compile.append('small')\n",
    "            elif breed in medium_combined:\n",
    "                breed_compile.append('medium')\n",
    "            elif breed in large_combined:\n",
    "                breed_compile.append('large')\n",
    "            elif breed in giant_combined:\n",
    "                breed_compile.append('giant')\n",
    "            else:\n",
    "                excluded_list.append(breed)\n",
    "                breed_compile.append('unknown')\n",
    "    return breed_compile, excluded_list, mix_breed_list, cat_breed_list"
   ]
  },
  {
   "cell_type": "code",
   "execution_count": 49,
   "metadata": {},
   "outputs": [
    {
     "name": "stdout",
     "output_type": "stream",
     "text": [
      "['unknown']\n"
     ]
    }
   ],
   "source": [
    "'''Compare the breed in the data to crawled size lists and create a list indicating\n",
    "the size of each breed. By zipping two lists, we can also ignore species that\n",
    "belong to cats. Some breed names were manually modified to fit the crawled list'''\n",
    "type_list = list(data_train['AnimalType'])\n",
    "\n",
    "convert_list, excluded_list_dog, mix_breed_list_dog, cat_breed_list = convert_breed(type_list, \n",
    "                                     breed_remove_mix, small_dog_compile, \n",
    "                                     medium_dog_compile, large_dog_compile, giant_dog_compile,\n",
    "                                     small_cat_list, medium_cat_list, large_cat_list, domestic)\n",
    "\n",
    "'''With the manual correction to dog breed, this list should only contain unknown values'''\n",
    "excluded_unique_dog = list(set(excluded_list_dog))\n",
    "print(excluded_unique_dog)"
   ]
  },
  {
   "cell_type": "code",
   "execution_count": 50,
   "metadata": {},
   "outputs": [
    {
     "name": "stderr",
     "output_type": "stream",
     "text": [
      "C:\\Users\\cck3\\Anaconda3\\lib\\site-packages\\ipykernel_launcher.py:2: SettingWithCopyWarning: \n",
      "A value is trying to be set on a copy of a slice from a DataFrame.\n",
      "Try using .loc[row_indexer,col_indexer] = value instead\n",
      "\n",
      "See the caveats in the documentation: http://pandas.pydata.org/pandas-docs/stable/indexing.html#indexing-view-versus-copy\n",
      "  \n"
     ]
    },
    {
     "data": {
      "text/html": [
       "<div>\n",
       "<style>\n",
       "    .dataframe thead tr:only-child th {\n",
       "        text-align: right;\n",
       "    }\n",
       "\n",
       "    .dataframe thead th {\n",
       "        text-align: left;\n",
       "    }\n",
       "\n",
       "    .dataframe tbody tr th {\n",
       "        vertical-align: top;\n",
       "    }\n",
       "</style>\n",
       "<table border=\"1\" class=\"dataframe\">\n",
       "  <thead>\n",
       "    <tr style=\"text-align: right;\">\n",
       "      <th></th>\n",
       "      <th>Name</th>\n",
       "      <th>OutcomeType</th>\n",
       "      <th>OutcomeSubtype</th>\n",
       "      <th>AnimalType</th>\n",
       "      <th>SexuponOutcome</th>\n",
       "      <th>AgeuponOutcome</th>\n",
       "      <th>Breed</th>\n",
       "      <th>Color</th>\n",
       "      <th>Date</th>\n",
       "      <th>OutcomeYear</th>\n",
       "      <th>OutcomeMonth</th>\n",
       "      <th>OutcomeDay</th>\n",
       "      <th>OutcomeHour</th>\n",
       "      <th>OutcomeSeason</th>\n",
       "      <th>Size</th>\n",
       "    </tr>\n",
       "  </thead>\n",
       "  <tbody>\n",
       "    <tr>\n",
       "      <th>26724</th>\n",
       "      <td>0</td>\n",
       "      <td>4</td>\n",
       "      <td>Partner</td>\n",
       "      <td>0</td>\n",
       "      <td>Intact Male</td>\n",
       "      <td>30</td>\n",
       "      <td>Domestic Shorthair Mix</td>\n",
       "      <td>Brown Tabby/White</td>\n",
       "      <td>201505</td>\n",
       "      <td>2015</td>\n",
       "      <td>05</td>\n",
       "      <td>14</td>\n",
       "      <td>11</td>\n",
       "      <td>spring</td>\n",
       "      <td>domestic</td>\n",
       "    </tr>\n",
       "    <tr>\n",
       "      <th>26725</th>\n",
       "      <td>0</td>\n",
       "      <td>4</td>\n",
       "      <td>SCRP</td>\n",
       "      <td>0</td>\n",
       "      <td>Spayed Female</td>\n",
       "      <td>90</td>\n",
       "      <td>Domestic Shorthair Mix</td>\n",
       "      <td>Brown Tabby</td>\n",
       "      <td>201601</td>\n",
       "      <td>2016</td>\n",
       "      <td>01</td>\n",
       "      <td>20</td>\n",
       "      <td>18</td>\n",
       "      <td>winter</td>\n",
       "      <td>domestic</td>\n",
       "    </tr>\n",
       "    <tr>\n",
       "      <th>26726</th>\n",
       "      <td>1</td>\n",
       "      <td>3</td>\n",
       "      <td>Unknown</td>\n",
       "      <td>1</td>\n",
       "      <td>Neutered Male</td>\n",
       "      <td>1460</td>\n",
       "      <td>Old English Bulldog Mix</td>\n",
       "      <td>White/Tan</td>\n",
       "      <td>201503</td>\n",
       "      <td>2015</td>\n",
       "      <td>03</td>\n",
       "      <td>09</td>\n",
       "      <td>13</td>\n",
       "      <td>spring</td>\n",
       "      <td>large</td>\n",
       "    </tr>\n",
       "    <tr>\n",
       "      <th>26727</th>\n",
       "      <td>0</td>\n",
       "      <td>4</td>\n",
       "      <td>Partner</td>\n",
       "      <td>0</td>\n",
       "      <td>Intact Male</td>\n",
       "      <td>28</td>\n",
       "      <td>Domestic Shorthair Mix</td>\n",
       "      <td>Black</td>\n",
       "      <td>201404</td>\n",
       "      <td>2014</td>\n",
       "      <td>04</td>\n",
       "      <td>27</td>\n",
       "      <td>12</td>\n",
       "      <td>spring</td>\n",
       "      <td>domestic</td>\n",
       "    </tr>\n",
       "    <tr>\n",
       "      <th>26728</th>\n",
       "      <td>0</td>\n",
       "      <td>4</td>\n",
       "      <td>SCRP</td>\n",
       "      <td>0</td>\n",
       "      <td>Intact Male</td>\n",
       "      <td>365</td>\n",
       "      <td>Domestic Shorthair Mix</td>\n",
       "      <td>Brown Tabby/White</td>\n",
       "      <td>201507</td>\n",
       "      <td>2015</td>\n",
       "      <td>07</td>\n",
       "      <td>02</td>\n",
       "      <td>09</td>\n",
       "      <td>summer</td>\n",
       "      <td>domestic</td>\n",
       "    </tr>\n",
       "  </tbody>\n",
       "</table>\n",
       "</div>"
      ],
      "text/plain": [
       "       Name  OutcomeType OutcomeSubtype  AnimalType SexuponOutcome  \\\n",
       "26724     0            4        Partner           0    Intact Male   \n",
       "26725     0            4           SCRP           0  Spayed Female   \n",
       "26726     1            3        Unknown           1  Neutered Male   \n",
       "26727     0            4        Partner           0    Intact Male   \n",
       "26728     0            4           SCRP           0    Intact Male   \n",
       "\n",
       "       AgeuponOutcome                    Breed              Color    Date  \\\n",
       "26724              30   Domestic Shorthair Mix  Brown Tabby/White  201505   \n",
       "26725              90   Domestic Shorthair Mix        Brown Tabby  201601   \n",
       "26726            1460  Old English Bulldog Mix          White/Tan  201503   \n",
       "26727              28   Domestic Shorthair Mix              Black  201404   \n",
       "26728             365   Domestic Shorthair Mix  Brown Tabby/White  201507   \n",
       "\n",
       "      OutcomeYear OutcomeMonth OutcomeDay OutcomeHour OutcomeSeason      Size  \n",
       "26724        2015           05         14          11        spring  domestic  \n",
       "26725        2016           01         20          18        winter  domestic  \n",
       "26726        2015           03         09          13        spring     large  \n",
       "26727        2014           04         27          12        spring  domestic  \n",
       "26728        2015           07         02          09        summer  domestic  "
      ]
     },
     "execution_count": 50,
     "metadata": {},
     "output_type": "execute_result"
    }
   ],
   "source": [
    "'''Whew finally add the cleansed convert_dog_list to our data_train DataFrame'''\n",
    "data_train['Size'] = convert_list\n",
    "data_train.tail()"
   ]
  },
  {
   "cell_type": "code",
   "execution_count": 51,
   "metadata": {
    "collapsed": true
   },
   "outputs": [],
   "source": [
    "'''Confirm that only expected values small, medium, large, giant, unknown and domestic\n",
    "are present in the Size column'''\n",
    "size_check_list = list(data_train['Size'].unique())"
   ]
  },
  {
   "cell_type": "code",
   "execution_count": 52,
   "metadata": {},
   "outputs": [
    {
     "name": "stdout",
     "output_type": "stream",
     "text": [
      "['small', 'domestic', 'medium', 'mix', 'giant', 'medium_cat', 'large', 'large_cat', 'unknown', 'small_cat']\n"
     ]
    }
   ],
   "source": [
    "print(size_check_list)"
   ]
  },
  {
   "cell_type": "code",
   "execution_count": 53,
   "metadata": {
    "scrolled": true
   },
   "outputs": [
    {
     "data": {
      "text/plain": [
       "<seaborn.axisgrid.FacetGrid at 0x19e3a010048>"
      ]
     },
     "execution_count": 53,
     "metadata": {},
     "output_type": "execute_result"
    },
    {
     "data": {
      "image/png": "[encoded data removed]",
      "text/plain": [
       "<matplotlib.figure.Figure at 0x19e39f73e80>"
      ]
     },
     "metadata": {},
     "output_type": "display_data"
    }
   ],
   "source": [
    "sns.factorplot(x = 'AnimalType', hue = 'Size', col = 'OutcomeType', data = data_train, kind = 'count')"
   ]
  },
  {
   "cell_type": "markdown",
   "metadata": {},
   "source": [
    "#### 고양이 경우 앞서 말했듯이 domestic종이 다른 종에 비해 압도적으로 많은 것으로 확인됨. 따라서 차후 머신러닝 알고리즘 적용시 고양이와 개의 분류는 AnimalType에 의해서 이루어 질지 아니면 domestic이라는 종에 의해서 이루어 질지 확인해볼 필요가 있음\n",
    "\n",
    "#### 완변하진 않지만 각각 결과값에 따른 애완견 사이즈별 비율이 비슷한 형태를 하고 있는것으로 판단됨. 어쩌면 size가 생각보다 중요하지 않은 인자일수도? "
   ]
  },
  {
   "cell_type": "markdown",
   "metadata": {},
   "source": [
    "### 18) Breed와 Color를 Main과 Sub 그룹으로 각각 나누는 작업\n",
    "\n",
    "#### 우선 잡종중에서 3개 이상의 종이 섞인 케이스가 몇개인지 판단"
   ]
  },
  {
   "cell_type": "code",
   "execution_count": 54,
   "metadata": {},
   "outputs": [
    {
     "name": "stdout",
     "output_type": "stream",
     "text": [
      "10\n"
     ]
    }
   ],
   "source": [
    "check_breed = list(data_train['Breed'])\n",
    "count = 0\n",
    "for item in check_breed:\n",
    "    if item.count('/') == 2:\n",
    "        count += 1\n",
    "print(count)"
   ]
  },
  {
   "cell_type": "markdown",
   "metadata": {},
   "source": [
    "#### 10개밖에 없기때문에 잡종일 경우 main과 sub로만 분리 (원래 계획은 sub1, sub2로 나눌 계획이었음)"
   ]
  },
  {
   "cell_type": "code",
   "execution_count": 55,
   "metadata": {
    "collapsed": true
   },
   "outputs": [],
   "source": [
    "def breed_separator(breed_remove_mix):\n",
    "    '''This function separates the breed into main and sub breed columns'''\n",
    "    main_breed, sub_breed = [], []\n",
    "    for breed in breed_remove_mix:\n",
    "        if breed.count('/') == 0:\n",
    "            main_breed.append(breed)\n",
    "            sub_breed.append('NA')\n",
    "        elif breed.count('/') == 1 or breed.count('/') == 2:\n",
    "            temp_breed_list = breed.split('/')\n",
    "            main_breed.append(temp_breed_list[0])\n",
    "            sub_breed.append(temp_breed_list[1])\n",
    "    return main_breed, sub_breed"
   ]
  },
  {
   "cell_type": "code",
   "execution_count": 56,
   "metadata": {},
   "outputs": [
    {
     "name": "stderr",
     "output_type": "stream",
     "text": [
      "C:\\Users\\cck3\\Anaconda3\\lib\\site-packages\\ipykernel_launcher.py:2: SettingWithCopyWarning: \n",
      "A value is trying to be set on a copy of a slice from a DataFrame.\n",
      "Try using .loc[row_indexer,col_indexer] = value instead\n",
      "\n",
      "See the caveats in the documentation: http://pandas.pydata.org/pandas-docs/stable/indexing.html#indexing-view-versus-copy\n",
      "  \n"
     ]
    }
   ],
   "source": [
    "main_breed, sub_breed = breed_separator(breed_remove_mix)\n",
    "data_train['Main_Breed'], data_train['Sub_Breed'] = main_breed, sub_breed"
   ]
  },
  {
   "cell_type": "code",
   "execution_count": 57,
   "metadata": {
    "collapsed": true
   },
   "outputs": [],
   "source": [
    "def color_separator(color_list):\n",
    "    '''The function separates color into main and sub colors'''\n",
    "    main_color, sub_color = [], []\n",
    "    for color in color_list:\n",
    "        if color.count('/') == 0:\n",
    "            main_color.append(color)\n",
    "            sub_color.append('NA')\n",
    "        elif color.count('/') == 1:\n",
    "            temp_color_list = color.split('/')\n",
    "            main_color.append(temp_color_list[0])\n",
    "            sub_color.append(temp_color_list[1])\n",
    "    return main_color, sub_color"
   ]
  },
  {
   "cell_type": "code",
   "execution_count": 58,
   "metadata": {},
   "outputs": [
    {
     "name": "stderr",
     "output_type": "stream",
     "text": [
      "C:\\Users\\cck3\\Anaconda3\\lib\\site-packages\\ipykernel_launcher.py:3: SettingWithCopyWarning: \n",
      "A value is trying to be set on a copy of a slice from a DataFrame.\n",
      "Try using .loc[row_indexer,col_indexer] = value instead\n",
      "\n",
      "See the caveats in the documentation: http://pandas.pydata.org/pandas-docs/stable/indexing.html#indexing-view-versus-copy\n",
      "  This is separate from the ipykernel package so we can avoid doing imports until\n"
     ]
    }
   ],
   "source": [
    "color_list = list(data_train['Color'])\n",
    "main_color, sub_color = color_separator(color_list)\n",
    "data_train['Main_Color'], data_train['Sub_Color'] = main_color, sub_color"
   ]
  },
  {
   "cell_type": "markdown",
   "metadata": {},
   "source": [
    "#### 생각해 보니 그냥 main_sub_separator라는 동일 함수를 작성하면 되는거였는데..........."
   ]
  },
  {
   "cell_type": "code",
   "execution_count": 59,
   "metadata": {},
   "outputs": [
    {
     "data": {
      "text/html": [
       "<div>\n",
       "<style>\n",
       "    .dataframe thead tr:only-child th {\n",
       "        text-align: right;\n",
       "    }\n",
       "\n",
       "    .dataframe thead th {\n",
       "        text-align: left;\n",
       "    }\n",
       "\n",
       "    .dataframe tbody tr th {\n",
       "        vertical-align: top;\n",
       "    }\n",
       "</style>\n",
       "<table border=\"1\" class=\"dataframe\">\n",
       "  <thead>\n",
       "    <tr style=\"text-align: right;\">\n",
       "      <th></th>\n",
       "      <th>Name</th>\n",
       "      <th>OutcomeType</th>\n",
       "      <th>OutcomeSubtype</th>\n",
       "      <th>AnimalType</th>\n",
       "      <th>SexuponOutcome</th>\n",
       "      <th>AgeuponOutcome</th>\n",
       "      <th>Breed</th>\n",
       "      <th>Color</th>\n",
       "      <th>Date</th>\n",
       "      <th>OutcomeYear</th>\n",
       "      <th>OutcomeMonth</th>\n",
       "      <th>OutcomeDay</th>\n",
       "      <th>OutcomeHour</th>\n",
       "      <th>OutcomeSeason</th>\n",
       "      <th>Size</th>\n",
       "      <th>Main_Breed</th>\n",
       "      <th>Sub_Breed</th>\n",
       "      <th>Main_Color</th>\n",
       "      <th>Sub_Color</th>\n",
       "    </tr>\n",
       "  </thead>\n",
       "  <tbody>\n",
       "    <tr>\n",
       "      <th>26724</th>\n",
       "      <td>0</td>\n",
       "      <td>4</td>\n",
       "      <td>Partner</td>\n",
       "      <td>0</td>\n",
       "      <td>Intact Male</td>\n",
       "      <td>30</td>\n",
       "      <td>Domestic Shorthair Mix</td>\n",
       "      <td>Brown Tabby/White</td>\n",
       "      <td>201505</td>\n",
       "      <td>2015</td>\n",
       "      <td>05</td>\n",
       "      <td>14</td>\n",
       "      <td>11</td>\n",
       "      <td>spring</td>\n",
       "      <td>domestic</td>\n",
       "      <td>domestic shorthair</td>\n",
       "      <td>NA</td>\n",
       "      <td>Brown Tabby</td>\n",
       "      <td>White</td>\n",
       "    </tr>\n",
       "    <tr>\n",
       "      <th>26725</th>\n",
       "      <td>0</td>\n",
       "      <td>4</td>\n",
       "      <td>SCRP</td>\n",
       "      <td>0</td>\n",
       "      <td>Spayed Female</td>\n",
       "      <td>90</td>\n",
       "      <td>Domestic Shorthair Mix</td>\n",
       "      <td>Brown Tabby</td>\n",
       "      <td>201601</td>\n",
       "      <td>2016</td>\n",
       "      <td>01</td>\n",
       "      <td>20</td>\n",
       "      <td>18</td>\n",
       "      <td>winter</td>\n",
       "      <td>domestic</td>\n",
       "      <td>domestic shorthair</td>\n",
       "      <td>NA</td>\n",
       "      <td>Brown Tabby</td>\n",
       "      <td>NA</td>\n",
       "    </tr>\n",
       "    <tr>\n",
       "      <th>26726</th>\n",
       "      <td>1</td>\n",
       "      <td>3</td>\n",
       "      <td>Unknown</td>\n",
       "      <td>1</td>\n",
       "      <td>Neutered Male</td>\n",
       "      <td>1460</td>\n",
       "      <td>Old English Bulldog Mix</td>\n",
       "      <td>White/Tan</td>\n",
       "      <td>201503</td>\n",
       "      <td>2015</td>\n",
       "      <td>03</td>\n",
       "      <td>09</td>\n",
       "      <td>13</td>\n",
       "      <td>spring</td>\n",
       "      <td>large</td>\n",
       "      <td>olde english bulldogge</td>\n",
       "      <td>NA</td>\n",
       "      <td>White</td>\n",
       "      <td>Tan</td>\n",
       "    </tr>\n",
       "    <tr>\n",
       "      <th>26727</th>\n",
       "      <td>0</td>\n",
       "      <td>4</td>\n",
       "      <td>Partner</td>\n",
       "      <td>0</td>\n",
       "      <td>Intact Male</td>\n",
       "      <td>28</td>\n",
       "      <td>Domestic Shorthair Mix</td>\n",
       "      <td>Black</td>\n",
       "      <td>201404</td>\n",
       "      <td>2014</td>\n",
       "      <td>04</td>\n",
       "      <td>27</td>\n",
       "      <td>12</td>\n",
       "      <td>spring</td>\n",
       "      <td>domestic</td>\n",
       "      <td>domestic shorthair</td>\n",
       "      <td>NA</td>\n",
       "      <td>Black</td>\n",
       "      <td>NA</td>\n",
       "    </tr>\n",
       "    <tr>\n",
       "      <th>26728</th>\n",
       "      <td>0</td>\n",
       "      <td>4</td>\n",
       "      <td>SCRP</td>\n",
       "      <td>0</td>\n",
       "      <td>Intact Male</td>\n",
       "      <td>365</td>\n",
       "      <td>Domestic Shorthair Mix</td>\n",
       "      <td>Brown Tabby/White</td>\n",
       "      <td>201507</td>\n",
       "      <td>2015</td>\n",
       "      <td>07</td>\n",
       "      <td>02</td>\n",
       "      <td>09</td>\n",
       "      <td>summer</td>\n",
       "      <td>domestic</td>\n",
       "      <td>domestic shorthair</td>\n",
       "      <td>NA</td>\n",
       "      <td>Brown Tabby</td>\n",
       "      <td>White</td>\n",
       "    </tr>\n",
       "  </tbody>\n",
       "</table>\n",
       "</div>"
      ],
      "text/plain": [
       "       Name  OutcomeType OutcomeSubtype  AnimalType SexuponOutcome  \\\n",
       "26724     0            4        Partner           0    Intact Male   \n",
       "26725     0            4           SCRP           0  Spayed Female   \n",
       "26726     1            3        Unknown           1  Neutered Male   \n",
       "26727     0            4        Partner           0    Intact Male   \n",
       "26728     0            4           SCRP           0    Intact Male   \n",
       "\n",
       "       AgeuponOutcome                    Breed              Color    Date  \\\n",
       "26724              30   Domestic Shorthair Mix  Brown Tabby/White  201505   \n",
       "26725              90   Domestic Shorthair Mix        Brown Tabby  201601   \n",
       "26726            1460  Old English Bulldog Mix          White/Tan  201503   \n",
       "26727              28   Domestic Shorthair Mix              Black  201404   \n",
       "26728             365   Domestic Shorthair Mix  Brown Tabby/White  201507   \n",
       "\n",
       "      OutcomeYear OutcomeMonth OutcomeDay OutcomeHour OutcomeSeason      Size  \\\n",
       "26724        2015           05         14          11        spring  domestic   \n",
       "26725        2016           01         20          18        winter  domestic   \n",
       "26726        2015           03         09          13        spring     large   \n",
       "26727        2014           04         27          12        spring  domestic   \n",
       "26728        2015           07         02          09        summer  domestic   \n",
       "\n",
       "                   Main_Breed Sub_Breed   Main_Color Sub_Color  \n",
       "26724      domestic shorthair        NA  Brown Tabby     White  \n",
       "26725      domestic shorthair        NA  Brown Tabby        NA  \n",
       "26726  olde english bulldogge        NA        White       Tan  \n",
       "26727      domestic shorthair        NA        Black        NA  \n",
       "26728      domestic shorthair        NA  Brown Tabby     White  "
      ]
     },
     "execution_count": 59,
     "metadata": {},
     "output_type": "execute_result"
    }
   ],
   "source": [
    "# 데이터 확인\n",
    "data_train.tail()"
   ]
  },
  {
   "cell_type": "markdown",
   "metadata": {},
   "source": [
    "### 19) get_dummies를 이용한 one hot encoding\n",
    "\n",
    "#### pandas의 get_dummies 함수를 사용하면 string값으로 되어있는 데이터를 one hot encoding 해줄뿐만 아니라 column name까지 깔끔하게 처리해준다!"
   ]
  },
  {
   "cell_type": "code",
   "execution_count": 60,
   "metadata": {
    "collapsed": true
   },
   "outputs": [],
   "source": [
    "main_color_le = pd.get_dummies(data_train[['Main_Color']])\n",
    "sub_color_le = pd.get_dummies(data_train[['Sub_Color']])\n",
    "main_breed_le = pd.get_dummies(data_train[['Main_Breed']])\n",
    "sub_breed_le = pd.get_dummies(data_train[['Sub_Breed']])\n",
    "year_le = pd.get_dummies(data_train[['OutcomeYear']])\n",
    "month_le = pd.get_dummies(data_train[['OutcomeMonth']])\n",
    "day_le = pd.get_dummies(data_train[['OutcomeDay']])\n",
    "hour_le = pd.get_dummies(data_train[['OutcomeHour']])\n",
    "size_le = pd.get_dummies(data_train['Size'])\n",
    "sex_le = pd.get_dummies(data_train['SexuponOutcome'])\n",
    "season_le = pd.get_dummies(data_train[['OutcomeSeason']])\n",
    "outcomesubtype_le = pd.get_dummies(data_train[['OutcomeSubtype']])"
   ]
  },
  {
   "cell_type": "code",
   "execution_count": 61,
   "metadata": {},
   "outputs": [
    {
     "data": {
      "text/html": [
       "<div>\n",
       "<style>\n",
       "    .dataframe thead tr:only-child th {\n",
       "        text-align: right;\n",
       "    }\n",
       "\n",
       "    .dataframe thead th {\n",
       "        text-align: left;\n",
       "    }\n",
       "\n",
       "    .dataframe tbody tr th {\n",
       "        vertical-align: top;\n",
       "    }\n",
       "</style>\n",
       "<table border=\"1\" class=\"dataframe\">\n",
       "  <thead>\n",
       "    <tr style=\"text-align: right;\">\n",
       "      <th></th>\n",
       "      <th>OutcomeYear_2013</th>\n",
       "      <th>OutcomeYear_2014</th>\n",
       "      <th>OutcomeYear_2015</th>\n",
       "      <th>OutcomeYear_2016</th>\n",
       "    </tr>\n",
       "  </thead>\n",
       "  <tbody>\n",
       "    <tr>\n",
       "      <th>0</th>\n",
       "      <td>0</td>\n",
       "      <td>1</td>\n",
       "      <td>0</td>\n",
       "      <td>0</td>\n",
       "    </tr>\n",
       "    <tr>\n",
       "      <th>1</th>\n",
       "      <td>1</td>\n",
       "      <td>0</td>\n",
       "      <td>0</td>\n",
       "      <td>0</td>\n",
       "    </tr>\n",
       "    <tr>\n",
       "      <th>2</th>\n",
       "      <td>0</td>\n",
       "      <td>0</td>\n",
       "      <td>1</td>\n",
       "      <td>0</td>\n",
       "    </tr>\n",
       "    <tr>\n",
       "      <th>3</th>\n",
       "      <td>0</td>\n",
       "      <td>1</td>\n",
       "      <td>0</td>\n",
       "      <td>0</td>\n",
       "    </tr>\n",
       "    <tr>\n",
       "      <th>4</th>\n",
       "      <td>1</td>\n",
       "      <td>0</td>\n",
       "      <td>0</td>\n",
       "      <td>0</td>\n",
       "    </tr>\n",
       "  </tbody>\n",
       "</table>\n",
       "</div>"
      ],
      "text/plain": [
       "   OutcomeYear_2013  OutcomeYear_2014  OutcomeYear_2015  OutcomeYear_2016\n",
       "0                 0                 1                 0                 0\n",
       "1                 1                 0                 0                 0\n",
       "2                 0                 0                 1                 0\n",
       "3                 0                 1                 0                 0\n",
       "4                 1                 0                 0                 0"
      ]
     },
     "execution_count": 61,
     "metadata": {},
     "output_type": "execute_result"
    }
   ],
   "source": [
    "year_le.head()"
   ]
  },
  {
   "cell_type": "code",
   "execution_count": 62,
   "metadata": {},
   "outputs": [
    {
     "data": {
      "text/html": [
       "<div>\n",
       "<style>\n",
       "    .dataframe thead tr:only-child th {\n",
       "        text-align: right;\n",
       "    }\n",
       "\n",
       "    .dataframe thead th {\n",
       "        text-align: left;\n",
       "    }\n",
       "\n",
       "    .dataframe tbody tr th {\n",
       "        vertical-align: top;\n",
       "    }\n",
       "</style>\n",
       "<table border=\"1\" class=\"dataframe\">\n",
       "  <thead>\n",
       "    <tr style=\"text-align: right;\">\n",
       "      <th></th>\n",
       "      <th>domestic</th>\n",
       "      <th>giant</th>\n",
       "      <th>large</th>\n",
       "      <th>large_cat</th>\n",
       "      <th>medium</th>\n",
       "      <th>medium_cat</th>\n",
       "      <th>mix</th>\n",
       "      <th>small</th>\n",
       "      <th>small_cat</th>\n",
       "      <th>unknown</th>\n",
       "    </tr>\n",
       "  </thead>\n",
       "  <tbody>\n",
       "    <tr>\n",
       "      <th>0</th>\n",
       "      <td>0</td>\n",
       "      <td>0</td>\n",
       "      <td>0</td>\n",
       "      <td>0</td>\n",
       "      <td>0</td>\n",
       "      <td>0</td>\n",
       "      <td>0</td>\n",
       "      <td>1</td>\n",
       "      <td>0</td>\n",
       "      <td>0</td>\n",
       "    </tr>\n",
       "    <tr>\n",
       "      <th>1</th>\n",
       "      <td>1</td>\n",
       "      <td>0</td>\n",
       "      <td>0</td>\n",
       "      <td>0</td>\n",
       "      <td>0</td>\n",
       "      <td>0</td>\n",
       "      <td>0</td>\n",
       "      <td>0</td>\n",
       "      <td>0</td>\n",
       "      <td>0</td>\n",
       "    </tr>\n",
       "    <tr>\n",
       "      <th>2</th>\n",
       "      <td>0</td>\n",
       "      <td>0</td>\n",
       "      <td>0</td>\n",
       "      <td>0</td>\n",
       "      <td>1</td>\n",
       "      <td>0</td>\n",
       "      <td>0</td>\n",
       "      <td>0</td>\n",
       "      <td>0</td>\n",
       "      <td>0</td>\n",
       "    </tr>\n",
       "    <tr>\n",
       "      <th>3</th>\n",
       "      <td>1</td>\n",
       "      <td>0</td>\n",
       "      <td>0</td>\n",
       "      <td>0</td>\n",
       "      <td>0</td>\n",
       "      <td>0</td>\n",
       "      <td>0</td>\n",
       "      <td>0</td>\n",
       "      <td>0</td>\n",
       "      <td>0</td>\n",
       "    </tr>\n",
       "    <tr>\n",
       "      <th>4</th>\n",
       "      <td>0</td>\n",
       "      <td>0</td>\n",
       "      <td>0</td>\n",
       "      <td>0</td>\n",
       "      <td>0</td>\n",
       "      <td>0</td>\n",
       "      <td>1</td>\n",
       "      <td>0</td>\n",
       "      <td>0</td>\n",
       "      <td>0</td>\n",
       "    </tr>\n",
       "  </tbody>\n",
       "</table>\n",
       "</div>"
      ],
      "text/plain": [
       "   domestic  giant  large  large_cat  medium  medium_cat  mix  small  \\\n",
       "0         0      0      0          0       0           0    0      1   \n",
       "1         1      0      0          0       0           0    0      0   \n",
       "2         0      0      0          0       1           0    0      0   \n",
       "3         1      0      0          0       0           0    0      0   \n",
       "4         0      0      0          0       0           0    1      0   \n",
       "\n",
       "   small_cat  unknown  \n",
       "0          0        0  \n",
       "1          0        0  \n",
       "2          0        0  \n",
       "3          0        0  \n",
       "4          0        0  "
      ]
     },
     "execution_count": 62,
     "metadata": {},
     "output_type": "execute_result"
    }
   ],
   "source": [
    "size_le.head()"
   ]
  },
  {
   "cell_type": "code",
   "execution_count": 63,
   "metadata": {},
   "outputs": [
    {
     "data": {
      "text/html": [
       "<div>\n",
       "<style>\n",
       "    .dataframe thead tr:only-child th {\n",
       "        text-align: right;\n",
       "    }\n",
       "\n",
       "    .dataframe thead th {\n",
       "        text-align: left;\n",
       "    }\n",
       "\n",
       "    .dataframe tbody tr th {\n",
       "        vertical-align: top;\n",
       "    }\n",
       "</style>\n",
       "<table border=\"1\" class=\"dataframe\">\n",
       "  <thead>\n",
       "    <tr style=\"text-align: right;\">\n",
       "      <th></th>\n",
       "      <th>Intact Female</th>\n",
       "      <th>Intact Male</th>\n",
       "      <th>Neutered Male</th>\n",
       "      <th>Spayed Female</th>\n",
       "      <th>Unknown</th>\n",
       "    </tr>\n",
       "  </thead>\n",
       "  <tbody>\n",
       "    <tr>\n",
       "      <th>0</th>\n",
       "      <td>0</td>\n",
       "      <td>0</td>\n",
       "      <td>1</td>\n",
       "      <td>0</td>\n",
       "      <td>0</td>\n",
       "    </tr>\n",
       "    <tr>\n",
       "      <th>1</th>\n",
       "      <td>0</td>\n",
       "      <td>0</td>\n",
       "      <td>0</td>\n",
       "      <td>1</td>\n",
       "      <td>0</td>\n",
       "    </tr>\n",
       "    <tr>\n",
       "      <th>2</th>\n",
       "      <td>0</td>\n",
       "      <td>0</td>\n",
       "      <td>1</td>\n",
       "      <td>0</td>\n",
       "      <td>0</td>\n",
       "    </tr>\n",
       "    <tr>\n",
       "      <th>3</th>\n",
       "      <td>0</td>\n",
       "      <td>1</td>\n",
       "      <td>0</td>\n",
       "      <td>0</td>\n",
       "      <td>0</td>\n",
       "    </tr>\n",
       "    <tr>\n",
       "      <th>4</th>\n",
       "      <td>0</td>\n",
       "      <td>0</td>\n",
       "      <td>1</td>\n",
       "      <td>0</td>\n",
       "      <td>0</td>\n",
       "    </tr>\n",
       "  </tbody>\n",
       "</table>\n",
       "</div>"
      ],
      "text/plain": [
       "   Intact Female  Intact Male  Neutered Male  Spayed Female  Unknown\n",
       "0              0            0              1              0        0\n",
       "1              0            0              0              1        0\n",
       "2              0            0              1              0        0\n",
       "3              0            1              0              0        0\n",
       "4              0            0              1              0        0"
      ]
     },
     "execution_count": 63,
     "metadata": {},
     "output_type": "execute_result"
    }
   ],
   "source": [
    "sex_le.head()"
   ]
  },
  {
   "cell_type": "code",
   "execution_count": 64,
   "metadata": {},
   "outputs": [
    {
     "data": {
      "text/html": [
       "<div>\n",
       "<style>\n",
       "    .dataframe thead tr:only-child th {\n",
       "        text-align: right;\n",
       "    }\n",
       "\n",
       "    .dataframe thead th {\n",
       "        text-align: left;\n",
       "    }\n",
       "\n",
       "    .dataframe tbody tr th {\n",
       "        vertical-align: top;\n",
       "    }\n",
       "</style>\n",
       "<table border=\"1\" class=\"dataframe\">\n",
       "  <thead>\n",
       "    <tr style=\"text-align: right;\">\n",
       "      <th></th>\n",
       "      <th>OutcomeSubtype_Aggressive</th>\n",
       "      <th>OutcomeSubtype_At Vet</th>\n",
       "      <th>OutcomeSubtype_Barn</th>\n",
       "      <th>OutcomeSubtype_Behavior</th>\n",
       "      <th>OutcomeSubtype_Court/Investigation</th>\n",
       "      <th>OutcomeSubtype_Enroute</th>\n",
       "      <th>OutcomeSubtype_Foster</th>\n",
       "      <th>OutcomeSubtype_In Foster</th>\n",
       "      <th>OutcomeSubtype_In Kennel</th>\n",
       "      <th>OutcomeSubtype_In Surgery</th>\n",
       "      <th>OutcomeSubtype_Medical</th>\n",
       "      <th>OutcomeSubtype_Offsite</th>\n",
       "      <th>OutcomeSubtype_Partner</th>\n",
       "      <th>OutcomeSubtype_Rabies Risk</th>\n",
       "      <th>OutcomeSubtype_SCRP</th>\n",
       "      <th>OutcomeSubtype_Suffering</th>\n",
       "      <th>OutcomeSubtype_Unknown</th>\n",
       "    </tr>\n",
       "  </thead>\n",
       "  <tbody>\n",
       "    <tr>\n",
       "      <th>0</th>\n",
       "      <td>0</td>\n",
       "      <td>0</td>\n",
       "      <td>0</td>\n",
       "      <td>0</td>\n",
       "      <td>0</td>\n",
       "      <td>0</td>\n",
       "      <td>0</td>\n",
       "      <td>0</td>\n",
       "      <td>0</td>\n",
       "      <td>0</td>\n",
       "      <td>0</td>\n",
       "      <td>0</td>\n",
       "      <td>0</td>\n",
       "      <td>0</td>\n",
       "      <td>0</td>\n",
       "      <td>0</td>\n",
       "      <td>1</td>\n",
       "    </tr>\n",
       "    <tr>\n",
       "      <th>1</th>\n",
       "      <td>0</td>\n",
       "      <td>0</td>\n",
       "      <td>0</td>\n",
       "      <td>0</td>\n",
       "      <td>0</td>\n",
       "      <td>0</td>\n",
       "      <td>0</td>\n",
       "      <td>0</td>\n",
       "      <td>0</td>\n",
       "      <td>0</td>\n",
       "      <td>0</td>\n",
       "      <td>0</td>\n",
       "      <td>0</td>\n",
       "      <td>0</td>\n",
       "      <td>0</td>\n",
       "      <td>1</td>\n",
       "      <td>0</td>\n",
       "    </tr>\n",
       "    <tr>\n",
       "      <th>2</th>\n",
       "      <td>0</td>\n",
       "      <td>0</td>\n",
       "      <td>0</td>\n",
       "      <td>0</td>\n",
       "      <td>0</td>\n",
       "      <td>0</td>\n",
       "      <td>1</td>\n",
       "      <td>0</td>\n",
       "      <td>0</td>\n",
       "      <td>0</td>\n",
       "      <td>0</td>\n",
       "      <td>0</td>\n",
       "      <td>0</td>\n",
       "      <td>0</td>\n",
       "      <td>0</td>\n",
       "      <td>0</td>\n",
       "      <td>0</td>\n",
       "    </tr>\n",
       "    <tr>\n",
       "      <th>3</th>\n",
       "      <td>0</td>\n",
       "      <td>0</td>\n",
       "      <td>0</td>\n",
       "      <td>0</td>\n",
       "      <td>0</td>\n",
       "      <td>0</td>\n",
       "      <td>0</td>\n",
       "      <td>0</td>\n",
       "      <td>0</td>\n",
       "      <td>0</td>\n",
       "      <td>0</td>\n",
       "      <td>0</td>\n",
       "      <td>1</td>\n",
       "      <td>0</td>\n",
       "      <td>0</td>\n",
       "      <td>0</td>\n",
       "      <td>0</td>\n",
       "    </tr>\n",
       "    <tr>\n",
       "      <th>4</th>\n",
       "      <td>0</td>\n",
       "      <td>0</td>\n",
       "      <td>0</td>\n",
       "      <td>0</td>\n",
       "      <td>0</td>\n",
       "      <td>0</td>\n",
       "      <td>0</td>\n",
       "      <td>0</td>\n",
       "      <td>0</td>\n",
       "      <td>0</td>\n",
       "      <td>0</td>\n",
       "      <td>0</td>\n",
       "      <td>1</td>\n",
       "      <td>0</td>\n",
       "      <td>0</td>\n",
       "      <td>0</td>\n",
       "      <td>0</td>\n",
       "    </tr>\n",
       "  </tbody>\n",
       "</table>\n",
       "</div>"
      ],
      "text/plain": [
       "   OutcomeSubtype_Aggressive  OutcomeSubtype_At Vet  OutcomeSubtype_Barn  \\\n",
       "0                          0                      0                    0   \n",
       "1                          0                      0                    0   \n",
       "2                          0                      0                    0   \n",
       "3                          0                      0                    0   \n",
       "4                          0                      0                    0   \n",
       "\n",
       "   OutcomeSubtype_Behavior  OutcomeSubtype_Court/Investigation  \\\n",
       "0                        0                                   0   \n",
       "1                        0                                   0   \n",
       "2                        0                                   0   \n",
       "3                        0                                   0   \n",
       "4                        0                                   0   \n",
       "\n",
       "   OutcomeSubtype_Enroute  OutcomeSubtype_Foster  OutcomeSubtype_In Foster  \\\n",
       "0                       0                      0                         0   \n",
       "1                       0                      0                         0   \n",
       "2                       0                      1                         0   \n",
       "3                       0                      0                         0   \n",
       "4                       0                      0                         0   \n",
       "\n",
       "   OutcomeSubtype_In Kennel  OutcomeSubtype_In Surgery  \\\n",
       "0                         0                          0   \n",
       "1                         0                          0   \n",
       "2                         0                          0   \n",
       "3                         0                          0   \n",
       "4                         0                          0   \n",
       "\n",
       "   OutcomeSubtype_Medical  OutcomeSubtype_Offsite  OutcomeSubtype_Partner  \\\n",
       "0                       0                       0                       0   \n",
       "1                       0                       0                       0   \n",
       "2                       0                       0                       0   \n",
       "3                       0                       0                       1   \n",
       "4                       0                       0                       1   \n",
       "\n",
       "   OutcomeSubtype_Rabies Risk  OutcomeSubtype_SCRP  OutcomeSubtype_Suffering  \\\n",
       "0                           0                    0                         0   \n",
       "1                           0                    0                         1   \n",
       "2                           0                    0                         0   \n",
       "3                           0                    0                         0   \n",
       "4                           0                    0                         0   \n",
       "\n",
       "   OutcomeSubtype_Unknown  \n",
       "0                       1  \n",
       "1                       0  \n",
       "2                       0  \n",
       "3                       0  \n",
       "4                       0  "
      ]
     },
     "execution_count": 64,
     "metadata": {},
     "output_type": "execute_result"
    }
   ],
   "source": [
    "outcomesubtype_le.head()"
   ]
  },
  {
   "cell_type": "markdown",
   "metadata": {},
   "source": [
    "## Feature Selection\n",
    "\n",
    "#### Feature Preprocessing 마침. 생각보다 간단한 데이터 구조였슴에도 불구하고 데이터 전처리가 어마어마한 분량을 차지하고 있다."
   ]
  },
  {
   "cell_type": "code",
   "execution_count": 66,
   "metadata": {
    "collapsed": true
   },
   "outputs": [],
   "source": [
    "def greedy_selector(dfX_list, dfY):\n",
    "    '''This function performs greedy feature selection. dfX_list contains various combinations of features that will be used'''\n",
    "    train_compile, test_compile, logLoss_compile = [], [], []\n",
    "    \n",
    "    for dfX in dfX_list:\n",
    "        dfX_train, dfX_test, dfY_train, dfY_test = train_test_split(dfX, dfY, test_size = 0.25, random_state=0)\n",
    "        '''nthread parameter is the paralleization parameter. This forces XGBoost to utilize all the CPU power available'''\n",
    "        model_xgb = xgboost.XGBClassifier(n_estimators = 100, max_depth = 2, nthread = -1)\n",
    "        model_xgb.fit(dfX_train, dfY_train)\n",
    "\n",
    "        '''Let us save train and test accuracy along with log loss'''\n",
    "        y_pred_train = model_xgb.predict(dfX_train)\n",
    "        train_accuracy = accuracy_score(dfY_train, y_pred_train)\n",
    "        train_compile.append(train_accuracy)\n",
    "\n",
    "        y_pred_test = model_xgb.predict(dfX_test)\n",
    "        test_accuracy = accuracy_score(dfY_test, y_pred_test)\n",
    "        test_compile.append(test_accuracy)\n",
    "\n",
    "        y_proba = model_xgb.predict_proba(dfX_test)\n",
    "        logLoss = log_loss(dfY_test, y_proba)\n",
    "        logLoss_compile.append(logLoss)\n",
    "        \n",
    "    return train_compile, test_compile, logLoss_compile"
   ]
  },
  {
   "cell_type": "markdown",
   "metadata": {},
   "source": [
    "Feature Selection은 원래 feature_importance할 예정이었으나 위에 get_dummies method를 통해 본 결과 인자수가 어마어마 하다는것을 알수있다 (대략 530개 정도). 또한 인자끼리 관계도 또한 무시할수 없기 때문에 고민하던중, 우선 XGBoost를 이용해서 Greedy 한 방식으로 feature selection을 진행하기로 했다. 정식대로라면 사용하려는 feature마다 모델 최적화를 하면서 결과값을 비교하는것이 정상이지만 그렇게 할려하니 시간도 오래 걸리고 해서 차선책으로 Greedy방식으로 진행 해보기로 했다."
   ]
  },
  {
   "cell_type": "code",
   "execution_count": 67,
   "metadata": {
    "collapsed": true
   },
   "outputs": [],
   "source": [
    "%%time\n",
    "'''dfY is always fixed'''\n",
    "dfY = data_train['OutcomeType']\n",
    "\n",
    "dummy_cont = data_train[['Name', 'AnimalType', 'AgeuponOutcome']]\n",
    "\n",
    "dfX = pd.concat([dummy_cont, main_breed_le, main_color_le, month_le, year_le, sex_le], axis = 1)\n",
    "dfX2 = pd.concat([dummy_cont, main_breed_le, sub_breed_le, main_color_le, sub_color_le, month_le, year_le, sex_le], axis = 1)\n",
    "dfX3 = pd.concat([dummy_cont, size_le, main_color_le, sub_color_le, month_le, year_le, sex_le], axis = 1)\n",
    "dfX4 = pd.concat([dummy_cont, size_le, main_breed_le, sub_breed_le, main_color_le, sub_color_le, month_le, year_le, sex_le], axis = 1)\n",
    "dfX5 = pd.concat([dummy_cont, main_breed_le, sub_breed_le, main_color_le, sub_color_le, season_le, sex_le], axis = 1)\n",
    "dfX6 = pd.concat([dummy_cont, size_le, main_breed_le, sub_breed_le, main_color_le, sub_color_le, \n",
    "                 year_le, month_le, day_le, hour_le, sex_le], axis = 1)\n",
    "dfX7 = pd.concat([dummy_cont, size_le, main_breed_le, sub_breed_le, main_color_le, sub_color_le, \n",
    "                 year_le, month_le, day_le, hour_le, sex_le, outcomesubtype_le], axis = 1)\n",
    "\n",
    "dfX_list = [dfX, dfX2, dfX3, dfX4, dfX5, dfX6, dfX7]\n",
    "train_compile, test_compile, logLoss_compile = greedy_selector(dfX_list, dfY)"
   ]
  },
  {
   "cell_type": "code",
   "execution_count": 68,
   "metadata": {},
   "outputs": [
    {
     "data": {
      "text/plain": [
       "Text(0.5,1,'Greedy Feature Selection Result')"
      ]
     },
     "execution_count": 68,
     "metadata": {},
     "output_type": "execute_result"
    },
    {
     "data": {
      "image/png": "[encoded data removed]",
      "text/plain": [
       "<matplotlib.figure.Figure at 0x19e3ae28a58>"
      ]
     },
     "metadata": {},
     "output_type": "display_data"
    }
   ],
   "source": [
    "plt.plot(range(1, 8), train_compile, label = 'train_accuracy')\n",
    "plt.plot(range(1, 8), test_compile, label = 'test_accuracy')\n",
    "plt.legend()\n",
    "plt.xlabel('Feature Cases')\n",
    "plt.ylabel('Accuracy %')\n",
    "plt.title('Greedy Feature Selection Result')"
   ]
  },
  {
   "cell_type": "code",
   "execution_count": 69,
   "metadata": {},
   "outputs": [
    {
     "data": {
      "text/plain": [
       "Text(0.5,1,'Greedy Feature Selection Result')"
      ]
     },
     "execution_count": 69,
     "metadata": {},
     "output_type": "execute_result"
    },
    {
     "data": {
      "image/png": "[encoded data removed]",
      "text/plain": [
       "<matplotlib.figure.Figure at 0x19e3a3e14a8>"
      ]
     },
     "metadata": {},
     "output_type": "display_data"
    }
   ],
   "source": [
    "plt.plot(range(1, 8), logLoss_compile)\n",
    "plt.xlabel('Feature Cases')\n",
    "plt.ylabel('Log Loss')\n",
    "plt.title('Greedy Feature Selection Result')"
   ]
  },
  {
   "cell_type": "markdown",
   "metadata": {},
   "source": [
    "#### OutcomeSubtype 첨부시 모델 정확도가 급증가 하는것으로 파악됨. 모델 최적화 없이도 Kaggle점수 2등 수준의 점수가 나오지만 test.csv에는 OutcomeSubtype이 없으며 실제 결과와 너무 직관적으로 연관된 인자라 사용 X\n",
    "\n",
    "#### 나머지 인자 비교시, 다른 인자보다 DateTime의 Day, Hour정보 첨부시 정확도와 log loss 값이 많이 올라가는것이 보임 (Case 6번)"
   ]
  },
  {
   "cell_type": "markdown",
   "metadata": {},
   "source": [
    "## XGBoost Model Optimization\n",
    "\n",
    "#### Max depth와 n_estimator를 한번에 최적화 할려 했으나 실행속도가 너무 오래 걸려서 우선 각각 분석진행후 Greedy한 방식으로 최적조건 도출"
   ]
  },
  {
   "cell_type": "code",
   "execution_count": 73,
   "metadata": {
    "collapsed": true
   },
   "outputs": [],
   "source": [
    "def xgboost_optimizer_estimator(dfX, dfY):\n",
    "    '''This function is used to optimize the xgboost parameters using GridSearchCV from Scikit-learn'''\n",
    "    model_xgb = xgboost.XGBClassifier(nthread = -1)\n",
    "    parameters = {'max_depth': [5, 6, 7, 8, 9], 'n_estimators': [100, 300, 500, 1000]}\n",
    "    \n",
    "    gs = GridSearchCV(estimator = model_xgb, param_grid = parameters, scoring = 'neg_log_loss', cv = 4, n_jobs = -1)\n",
    "    %time gs = gs.fit(dfX, dfY)\n",
    "    return gs"
   ]
  },
  {
   "cell_type": "code",
   "execution_count": 74,
   "metadata": {},
   "outputs": [
    {
     "ename": "KeyboardInterrupt",
     "evalue": "",
     "output_type": "error",
     "traceback": [
      "\u001b[1;31m---------------------------------------------------------------------------\u001b[0m",
      "\u001b[1;31mKeyboardInterrupt\u001b[0m                         Traceback (most recent call last)",
      "\u001b[1;32m<timed exec>\u001b[0m in \u001b[0;36m<module>\u001b[1;34m()\u001b[0m\n",
      "\u001b[1;32m~\\Anaconda3\\lib\\site-packages\\sklearn\\model_selection\\_search.py\u001b[0m in \u001b[0;36mfit\u001b[1;34m(self, X, y, groups, **fit_params)\u001b[0m\n\u001b[0;32m    637\u001b[0m                                   error_score=self.error_score)\n\u001b[0;32m    638\u001b[0m           for parameters, (train, test) in product(candidate_params,\n\u001b[1;32m--> 639\u001b[1;33m                                                    cv.split(X, y, groups)))\n\u001b[0m\u001b[0;32m    640\u001b[0m \u001b[1;33m\u001b[0m\u001b[0m\n\u001b[0;32m    641\u001b[0m         \u001b[1;31m# if one choose to see train score, \"out\" will contain train score info\u001b[0m\u001b[1;33m\u001b[0m\u001b[1;33m\u001b[0m\u001b[0m\n",
      "\u001b[1;32m~\\Anaconda3\\lib\\site-packages\\sklearn\\externals\\joblib\\parallel.py\u001b[0m in \u001b[0;36m__call__\u001b[1;34m(self, iterable)\u001b[0m\n\u001b[0;32m    787\u001b[0m                 \u001b[1;31m# consumption.\u001b[0m\u001b[1;33m\u001b[0m\u001b[1;33m\u001b[0m\u001b[0m\n\u001b[0;32m    788\u001b[0m                 \u001b[0mself\u001b[0m\u001b[1;33m.\u001b[0m\u001b[0m_iterating\u001b[0m \u001b[1;33m=\u001b[0m \u001b[1;32mFalse\u001b[0m\u001b[1;33m\u001b[0m\u001b[0m\n\u001b[1;32m--> 789\u001b[1;33m             \u001b[0mself\u001b[0m\u001b[1;33m.\u001b[0m\u001b[0mretrieve\u001b[0m\u001b[1;33m(\u001b[0m\u001b[1;33m)\u001b[0m\u001b[1;33m\u001b[0m\u001b[0m\n\u001b[0m\u001b[0;32m    790\u001b[0m             \u001b[1;31m# Make sure that we get a last message telling us we are done\u001b[0m\u001b[1;33m\u001b[0m\u001b[1;33m\u001b[0m\u001b[0m\n\u001b[0;32m    791\u001b[0m             \u001b[0melapsed_time\u001b[0m \u001b[1;33m=\u001b[0m \u001b[0mtime\u001b[0m\u001b[1;33m.\u001b[0m\u001b[0mtime\u001b[0m\u001b[1;33m(\u001b[0m\u001b[1;33m)\u001b[0m \u001b[1;33m-\u001b[0m \u001b[0mself\u001b[0m\u001b[1;33m.\u001b[0m\u001b[0m_start_time\u001b[0m\u001b[1;33m\u001b[0m\u001b[0m\n",
      "\u001b[1;32m~\\Anaconda3\\lib\\site-packages\\sklearn\\externals\\joblib\\parallel.py\u001b[0m in \u001b[0;36mretrieve\u001b[1;34m(self)\u001b[0m\n\u001b[0;32m    697\u001b[0m             \u001b[1;32mtry\u001b[0m\u001b[1;33m:\u001b[0m\u001b[1;33m\u001b[0m\u001b[0m\n\u001b[0;32m    698\u001b[0m                 \u001b[1;32mif\u001b[0m \u001b[0mgetattr\u001b[0m\u001b[1;33m(\u001b[0m\u001b[0mself\u001b[0m\u001b[1;33m.\u001b[0m\u001b[0m_backend\u001b[0m\u001b[1;33m,\u001b[0m \u001b[1;34m'supports_timeout'\u001b[0m\u001b[1;33m,\u001b[0m \u001b[1;32mFalse\u001b[0m\u001b[1;33m)\u001b[0m\u001b[1;33m:\u001b[0m\u001b[1;33m\u001b[0m\u001b[0m\n\u001b[1;32m--> 699\u001b[1;33m                     \u001b[0mself\u001b[0m\u001b[1;33m.\u001b[0m\u001b[0m_output\u001b[0m\u001b[1;33m.\u001b[0m\u001b[0mextend\u001b[0m\u001b[1;33m(\u001b[0m\u001b[0mjob\u001b[0m\u001b[1;33m.\u001b[0m\u001b[0mget\u001b[0m\u001b[1;33m(\u001b[0m\u001b[0mtimeout\u001b[0m\u001b[1;33m=\u001b[0m\u001b[0mself\u001b[0m\u001b[1;33m.\u001b[0m\u001b[0mtimeout\u001b[0m\u001b[1;33m)\u001b[0m\u001b[1;33m)\u001b[0m\u001b[1;33m\u001b[0m\u001b[0m\n\u001b[0m\u001b[0;32m    700\u001b[0m                 \u001b[1;32melse\u001b[0m\u001b[1;33m:\u001b[0m\u001b[1;33m\u001b[0m\u001b[0m\n\u001b[0;32m    701\u001b[0m                     \u001b[0mself\u001b[0m\u001b[1;33m.\u001b[0m\u001b[0m_output\u001b[0m\u001b[1;33m.\u001b[0m\u001b[0mextend\u001b[0m\u001b[1;33m(\u001b[0m\u001b[0mjob\u001b[0m\u001b[1;33m.\u001b[0m\u001b[0mget\u001b[0m\u001b[1;33m(\u001b[0m\u001b[1;33m)\u001b[0m\u001b[1;33m)\u001b[0m\u001b[1;33m\u001b[0m\u001b[0m\n",
      "\u001b[1;32m~\\Anaconda3\\lib\\multiprocessing\\pool.py\u001b[0m in \u001b[0;36mget\u001b[1;34m(self, timeout)\u001b[0m\n\u001b[0;32m    636\u001b[0m \u001b[1;33m\u001b[0m\u001b[0m\n\u001b[0;32m    637\u001b[0m     \u001b[1;32mdef\u001b[0m \u001b[0mget\u001b[0m\u001b[1;33m(\u001b[0m\u001b[0mself\u001b[0m\u001b[1;33m,\u001b[0m \u001b[0mtimeout\u001b[0m\u001b[1;33m=\u001b[0m\u001b[1;32mNone\u001b[0m\u001b[1;33m)\u001b[0m\u001b[1;33m:\u001b[0m\u001b[1;33m\u001b[0m\u001b[0m\n\u001b[1;32m--> 638\u001b[1;33m         \u001b[0mself\u001b[0m\u001b[1;33m.\u001b[0m\u001b[0mwait\u001b[0m\u001b[1;33m(\u001b[0m\u001b[0mtimeout\u001b[0m\u001b[1;33m)\u001b[0m\u001b[1;33m\u001b[0m\u001b[0m\n\u001b[0m\u001b[0;32m    639\u001b[0m         \u001b[1;32mif\u001b[0m \u001b[1;32mnot\u001b[0m \u001b[0mself\u001b[0m\u001b[1;33m.\u001b[0m\u001b[0mready\u001b[0m\u001b[1;33m(\u001b[0m\u001b[1;33m)\u001b[0m\u001b[1;33m:\u001b[0m\u001b[1;33m\u001b[0m\u001b[0m\n\u001b[0;32m    640\u001b[0m             \u001b[1;32mraise\u001b[0m \u001b[0mTimeoutError\u001b[0m\u001b[1;33m\u001b[0m\u001b[0m\n",
      "\u001b[1;32m~\\Anaconda3\\lib\\multiprocessing\\pool.py\u001b[0m in \u001b[0;36mwait\u001b[1;34m(self, timeout)\u001b[0m\n\u001b[0;32m    633\u001b[0m \u001b[1;33m\u001b[0m\u001b[0m\n\u001b[0;32m    634\u001b[0m     \u001b[1;32mdef\u001b[0m \u001b[0mwait\u001b[0m\u001b[1;33m(\u001b[0m\u001b[0mself\u001b[0m\u001b[1;33m,\u001b[0m \u001b[0mtimeout\u001b[0m\u001b[1;33m=\u001b[0m\u001b[1;32mNone\u001b[0m\u001b[1;33m)\u001b[0m\u001b[1;33m:\u001b[0m\u001b[1;33m\u001b[0m\u001b[0m\n\u001b[1;32m--> 635\u001b[1;33m         \u001b[0mself\u001b[0m\u001b[1;33m.\u001b[0m\u001b[0m_event\u001b[0m\u001b[1;33m.\u001b[0m\u001b[0mwait\u001b[0m\u001b[1;33m(\u001b[0m\u001b[0mtimeout\u001b[0m\u001b[1;33m)\u001b[0m\u001b[1;33m\u001b[0m\u001b[0m\n\u001b[0m\u001b[0;32m    636\u001b[0m \u001b[1;33m\u001b[0m\u001b[0m\n\u001b[0;32m    637\u001b[0m     \u001b[1;32mdef\u001b[0m \u001b[0mget\u001b[0m\u001b[1;33m(\u001b[0m\u001b[0mself\u001b[0m\u001b[1;33m,\u001b[0m \u001b[0mtimeout\u001b[0m\u001b[1;33m=\u001b[0m\u001b[1;32mNone\u001b[0m\u001b[1;33m)\u001b[0m\u001b[1;33m:\u001b[0m\u001b[1;33m\u001b[0m\u001b[0m\n",
      "\u001b[1;32m~\\Anaconda3\\lib\\threading.py\u001b[0m in \u001b[0;36mwait\u001b[1;34m(self, timeout)\u001b[0m\n\u001b[0;32m    549\u001b[0m             \u001b[0msignaled\u001b[0m \u001b[1;33m=\u001b[0m \u001b[0mself\u001b[0m\u001b[1;33m.\u001b[0m\u001b[0m_flag\u001b[0m\u001b[1;33m\u001b[0m\u001b[0m\n\u001b[0;32m    550\u001b[0m             \u001b[1;32mif\u001b[0m \u001b[1;32mnot\u001b[0m \u001b[0msignaled\u001b[0m\u001b[1;33m:\u001b[0m\u001b[1;33m\u001b[0m\u001b[0m\n\u001b[1;32m--> 551\u001b[1;33m                 \u001b[0msignaled\u001b[0m \u001b[1;33m=\u001b[0m \u001b[0mself\u001b[0m\u001b[1;33m.\u001b[0m\u001b[0m_cond\u001b[0m\u001b[1;33m.\u001b[0m\u001b[0mwait\u001b[0m\u001b[1;33m(\u001b[0m\u001b[0mtimeout\u001b[0m\u001b[1;33m)\u001b[0m\u001b[1;33m\u001b[0m\u001b[0m\n\u001b[0m\u001b[0;32m    552\u001b[0m             \u001b[1;32mreturn\u001b[0m \u001b[0msignaled\u001b[0m\u001b[1;33m\u001b[0m\u001b[0m\n\u001b[0;32m    553\u001b[0m \u001b[1;33m\u001b[0m\u001b[0m\n",
      "\u001b[1;32m~\\Anaconda3\\lib\\threading.py\u001b[0m in \u001b[0;36mwait\u001b[1;34m(self, timeout)\u001b[0m\n\u001b[0;32m    293\u001b[0m         \u001b[1;32mtry\u001b[0m\u001b[1;33m:\u001b[0m    \u001b[1;31m# restore state no matter what (e.g., KeyboardInterrupt)\u001b[0m\u001b[1;33m\u001b[0m\u001b[0m\n\u001b[0;32m    294\u001b[0m             \u001b[1;32mif\u001b[0m \u001b[0mtimeout\u001b[0m \u001b[1;32mis\u001b[0m \u001b[1;32mNone\u001b[0m\u001b[1;33m:\u001b[0m\u001b[1;33m\u001b[0m\u001b[0m\n\u001b[1;32m--> 295\u001b[1;33m                 \u001b[0mwaiter\u001b[0m\u001b[1;33m.\u001b[0m\u001b[0macquire\u001b[0m\u001b[1;33m(\u001b[0m\u001b[1;33m)\u001b[0m\u001b[1;33m\u001b[0m\u001b[0m\n\u001b[0m\u001b[0;32m    296\u001b[0m                 \u001b[0mgotit\u001b[0m \u001b[1;33m=\u001b[0m \u001b[1;32mTrue\u001b[0m\u001b[1;33m\u001b[0m\u001b[0m\n\u001b[0;32m    297\u001b[0m             \u001b[1;32melse\u001b[0m\u001b[1;33m:\u001b[0m\u001b[1;33m\u001b[0m\u001b[0m\n",
      "\u001b[1;31mKeyboardInterrupt\u001b[0m: "
     ]
    }
   ],
   "source": [
    "dfX_train, dfX_test, dfY_train, dfY_test = train_test_split(dfX6, dfY, test_size = 0.25, random_state=0)\n",
    "gs_estimator = xgboost_optimizer_estimator(dfX_train, dfY_train)"
   ]
  },
  {
   "cell_type": "code",
   "execution_count": 75,
   "metadata": {},
   "outputs": [
    {
     "ename": "AttributeError",
     "evalue": "'GridSearchCV' object has no attribute 'cv_results_'",
     "output_type": "error",
     "traceback": [
      "\u001b[1;31m---------------------------------------------------------------------------\u001b[0m",
      "\u001b[1;31mAttributeError\u001b[0m                            Traceback (most recent call last)",
      "\u001b[1;32m<ipython-input-75-2f5a425010c0>\u001b[0m in \u001b[0;36m<module>\u001b[1;34m()\u001b[0m\n\u001b[1;32m----> 1\u001b[1;33m \u001b[0mgs_estimator\u001b[0m\u001b[1;33m.\u001b[0m\u001b[0mcv_results_\u001b[0m\u001b[1;33m[\u001b[0m\u001b[1;34m\"mean_test_score\"\u001b[0m\u001b[1;33m]\u001b[0m\u001b[1;33m\u001b[0m\u001b[0m\n\u001b[0m",
      "\u001b[1;31mAttributeError\u001b[0m: 'GridSearchCV' object has no attribute 'cv_results_'"
     ]
    }
   ],
   "source": [
    "gs_estimator.cv_results_[\"mean_test_score\"]"
   ]
  },
  {
   "cell_type": "code",
   "execution_count": null,
   "metadata": {},
   "outputs": [],
   "source": [
    "plt.plot([100, 300, 500, 1000], -1 * gs_estimator.cv_results_[\"mean_test_score\"])\n",
    "plt.xlabel('n_estimators')\n",
    "plt.ylabel('log-loss')\n",
    "plt.title('XGBoost GridSearch with respect to n_estimators')"
   ]
  },
  {
   "cell_type": "code",
   "execution_count": 94,
   "metadata": {
    "collapsed": true
   },
   "outputs": [],
   "source": [
    "def xgboost_optimizer_depth(dfX, dfY):\n",
    "    '''This function is used to optimize the xgboost parameters using GridSearchCV from Scikit-learn'''\n",
    "    model_xgb = xgboost.XGBClassifier(nthread = -1)\n",
    "    parameters = {'max_depth': [5, 6, 7, 8, 9], 'n_estimators': [100]}\n",
    "    \n",
    "    gs = GridSearchCV(estimator = model_xgb, param_grid = parameters, scoring = 'neg_log_loss', cv = 15, n_jobs = -1)\n",
    "    %time gs = gs.fit(dfX, dfY)\n",
    "    return gs"
   ]
  },
  {
   "cell_type": "code",
   "execution_count": 95,
   "metadata": {},
   "outputs": [
    {
     "name": "stdout",
     "output_type": "stream",
     "text": [
      "Wall time: 11min 58s\n"
     ]
    }
   ],
   "source": [
    "gs_depth = xgboost_optimizer_depth(dfX_train, dfY_train)"
   ]
  },
  {
   "cell_type": "code",
   "execution_count": 96,
   "metadata": {},
   "outputs": [
    {
     "data": {
      "text/plain": [
       "array([-0.78944781, -0.7858255 , -0.78429159, -0.78545497, -0.78711078])"
      ]
     },
     "execution_count": 96,
     "metadata": {},
     "output_type": "execute_result"
    }
   ],
   "source": [
    "gs_depth.cv_results_[\"mean_test_score\"]"
   ]
  },
  {
   "cell_type": "code",
   "execution_count": 97,
   "metadata": {},
   "outputs": [
    {
     "data": {
      "text/plain": [
       "Text(0.5,1,'XGBoost GridSearch with respect to max_depth')"
      ]
     },
     "execution_count": 97,
     "metadata": {},
     "output_type": "execute_result"
    },
    {
     "data": {
      "image/png": "[encoded data removed]",
      "text/plain": [
       "<matplotlib.figure.Figure at 0x27317aad240>"
      ]
     },
     "metadata": {},
     "output_type": "display_data"
    }
   ],
   "source": [
    "plt.plot([5, 6, 7, 8, 9], -1 * gs_depth.cv_results_[\"mean_test_score\"])\n",
    "plt.xlabel('max_depth')\n",
    "plt.ylabel('log-loss')\n",
    "plt.title('XGBoost GridSearch with respect to max_depth')"
   ]
  },
  {
   "cell_type": "markdown",
   "metadata": {},
   "source": [
    "#### 위 두개 결과를 바탕으로 max_depth = 7, n_estimator = 500으로 설정하요 XGBoost실행"
   ]
  },
  {
   "cell_type": "code",
   "execution_count": 98,
   "metadata": {},
   "outputs": [
    {
     "name": "stdout",
     "output_type": "stream",
     "text": [
      "Wall time: 5min 39s\n"
     ]
    }
   ],
   "source": [
    "%%time\n",
    "model_xgb = xgboost.XGBClassifier(max_depth = 7, n_estimators = 500, nthread = -1)\n",
    "model_xgb.fit(dfX_train, dfY_train)\n",
    "\n",
    "y_pred_train = model_xgb.predict(dfX_train)\n",
    "train_accuracy = accuracy_score(dfY_train, y_pred_train)\n",
    "\n",
    "y_pred_test = model_xgb.predict(dfX_test)\n",
    "test_accuracy = accuracy_score(dfY_test, y_pred_test)\n",
    "\n",
    "y_proba = model_xgb.predict_proba(dfX_test)\n",
    "performance = log_loss(dfY_test, y_proba)"
   ]
  },
  {
   "cell_type": "code",
   "execution_count": 99,
   "metadata": {},
   "outputs": [
    {
     "name": "stdout",
     "output_type": "stream",
     "text": [
      "Training accuracy: 0.805611,  Test accuracy: 0.686733,  log_loos:  0.756453\n"
     ]
    }
   ],
   "source": [
    "print('Training accuracy: %f,  Test accuracy: %f,  log_loos:  %f' % (train_accuracy, test_accuracy, performance))"
   ]
  },
  {
   "cell_type": "code",
   "execution_count": 115,
   "metadata": {},
   "outputs": [
    {
     "name": "stdout",
     "output_type": "stream",
     "text": [
      "             precision    recall  f1-score   support\n",
      "\n",
      "          1       0.52      0.49      0.50      1176\n",
      "          2       0.56      0.26      0.36       388\n",
      "          3       0.70      0.82      0.75      2729\n",
      "          4       0.77      0.72      0.74      2342\n",
      "          5       0.56      0.12      0.19        43\n",
      "\n",
      "avg / total       0.68      0.69      0.68      6678\n",
      "\n"
     ]
    }
   ],
   "source": [
    "print(classification_report(dfY_test, y_pred_test))"
   ]
  },
  {
   "cell_type": "markdown",
   "metadata": {},
   "source": [
    "Kaggle Leaderboard에서 476등 점수 확보 (총 참가팀 1604팀). 하지만 Leaderboard를 보면 알수 있듯이 상위 랭커와 큰 점수차는 없는것으로 판단 (log loss 0.7점 받은 팀이 53등). 또한  아랫부분 Kaggle 결과값 논란 부분에서 언급하겠지만 많은 팀들이 Kaggle에서 주어진 데이터 이외에 외부 데이터를 가지고 와서 분석한것으로 판단됨."
   ]
  },
  {
   "cell_type": "markdown",
   "metadata": {},
   "source": [
    "### Feature importance 분석"
   ]
  },
  {
   "cell_type": "code",
   "execution_count": 114,
   "metadata": {},
   "outputs": [
    {
     "name": "stdout",
     "output_type": "stream",
     "text": [
      " 1 AgeuponOutcome                 0.112245\n",
      " 2 Name                           0.039031\n",
      " 3 Intact Female                  0.031077\n",
      " 4 Spayed Female                  0.030352\n",
      " 5 Neutered Male                  0.028309\n",
      " 6 Intact Male                    0.027326\n",
      " 7 OutcomeYear_2015               0.015664\n",
      " 8 OutcomeYear_2014               0.015548\n",
      " 9 OutcomeHour_17                 0.014253\n",
      "10 Main_Color_Black               0.013967\n",
      "11 OutcomeHour_18                 0.013755\n",
      "12 Sub_Color_NA                   0.013451\n",
      "13 Sub_Color_White                0.012798\n",
      "14 AnimalType                     0.010711\n",
      "15 OutcomeHour_09                 0.010421\n",
      "16 OutcomeMonth_12                0.010200\n",
      "17 OutcomeMonth_11                0.010033\n",
      "18 OutcomeMonth_10                0.009931\n",
      "19 Main_Breed_domestic shorthair  0.009805\n",
      "20 domestic                       0.009731\n",
      "21 OutcomeHour_14                 0.009666\n",
      "22 Unknown                        0.009337\n",
      "23 OutcomeHour_15                 0.008921\n",
      "24 OutcomeHour_12                 0.008916\n",
      "25 OutcomeHour_16                 0.008892\n",
      "26 OutcomeHour_13                 0.008765\n",
      "27 OutcomeMonth_01                0.008703\n",
      "28 OutcomeHour_11                 0.008649\n",
      "29 OutcomeMonth_06                0.008381\n",
      "30 OutcomeMonth_07                0.008346\n"
     ]
    },
    {
     "data": {
      "image/png": "[encoded data removed]",
      "text/plain": [
       "<matplotlib.figure.Figure at 0x2731c669f60>"
      ]
     },
     "metadata": {},
     "output_type": "display_data"
    }
   ],
   "source": [
    "'''Feature importance analysis code'''\n",
    "'''Reference: Python Machine Learning'''\n",
    "feat_labels = np.array(dfX6.columns)\n",
    "forest = RandomForestClassifier(n_estimators=1000, random_state=0, n_jobs = -1)\n",
    "forest.fit(dfX_train, dfY_train)\n",
    "\n",
    "importances = forest.feature_importances_\n",
    "indices = np.argsort(importances)[::-1]\n",
    "indices = indices[:30]\n",
    "\n",
    "for f in range(len(indices)):\n",
    "    print(\"%2d %-*s %f\" % (f + 1, 30, feat_labels[indices[f]], importances[indices[f]] ))\n",
    "\n",
    "plt.figure(figsize = (7, 7))\n",
    "plt.title(\"Feature importances\")\n",
    "plt.bar(range(len(indices)), importances[indices])\n",
    "plt.xticks(range(len(indices)), feat_labels[indices], rotation=90)\n",
    "plt.tight_layout()\n",
    "plt.show()"
   ]
  },
  {
   "cell_type": "markdown",
   "metadata": {},
   "source": [
    "다른 Kaggle참가자들과 비슷하게 DateTime에서 Year, Month, Day, Hour 결과를 적용할 경우 Breed와 Color인자보다 시간인자들이 더 중요하게 나오는 기이한 현상을 발견할수 있다.  밑에 Kaggle 결과값 논란 부분에서 더 자세하게 언급."
   ]
  },
  {
   "cell_type": "markdown",
   "metadata": {
    "collapsed": true
   },
   "source": [
    "### ROC Curve"
   ]
  },
  {
   "cell_type": "markdown",
   "metadata": {},
   "source": [
    "### 이 부분에 Logistic Regression, Random Forest, ExtremeForest 모델 최적화 부분 추가. ROC curve또한 추가"
   ]
  },
  {
   "cell_type": "markdown",
   "metadata": {
    "collapsed": true
   },
   "source": [
    "## Logistic Regression Model Optimization"
   ]
  },
  {
   "cell_type": "code",
   "execution_count": null,
   "metadata": {
    "collapsed": true
   },
   "outputs": [],
   "source": []
  },
  {
   "cell_type": "code",
   "execution_count": null,
   "metadata": {
    "collapsed": true
   },
   "outputs": [],
   "source": []
  },
  {
   "cell_type": "code",
   "execution_count": null,
   "metadata": {
    "collapsed": true
   },
   "outputs": [],
   "source": []
  },
  {
   "cell_type": "code",
   "execution_count": null,
   "metadata": {
    "collapsed": true
   },
   "outputs": [],
   "source": []
  },
  {
   "cell_type": "code",
   "execution_count": null,
   "metadata": {
    "collapsed": true
   },
   "outputs": [],
   "source": []
  },
  {
   "cell_type": "markdown",
   "metadata": {
    "collapsed": true
   },
   "source": [
    "## Random Forest Model Optimization"
   ]
  },
  {
   "cell_type": "code",
   "execution_count": null,
   "metadata": {
    "collapsed": true
   },
   "outputs": [],
   "source": [
    "def forest_optimizer_estimator(dfX, dfY):\n",
    "    '''This function is used to optimize the xgboost parameters using GridSearchCV from Scikit-learn'''\n",
    "    model_forest = RandomForestClassifier(n_jobs = -1)\n",
    "    parameters = {'max_depth': [5, 6, 7, 8, 9], 'n_estimators': [100, 300, 500, 700]}\n",
    "    \n",
    "    gs = GridSearchCV(estimator = model_forest, param_grid = parameters, scoring = 'neg_log_loss', cv = 4, n_jobs = -1)\n",
    "    %time gs = gs.fit(dfX, dfY)\n",
    "    return gs"
   ]
  },
  {
   "cell_type": "code",
   "execution_count": null,
   "metadata": {
    "collapsed": true
   },
   "outputs": [],
   "source": [
    "gs_estimator = forest_optimizer_estimator(dfX_train, dfY_train)"
   ]
  },
  {
   "cell_type": "code",
   "execution_count": null,
   "metadata": {
    "collapsed": true
   },
   "outputs": [],
   "source": [
    "print(gs.best_score_)\n",
    "print(gs.best_params_)"
   ]
  },
  {
   "cell_type": "code",
   "execution_count": null,
   "metadata": {
    "collapsed": true
   },
   "outputs": [],
   "source": [
    "model_forest = RandomForestClassifier(max_depth=4, n_estimators = 100)\n",
    "model_forest.fit(dfX_train, dfY_train)\n",
    "\n",
    "y_pred_train = model_forest.predict(dfX_train)\n",
    "train_accuracy = accuracy_score(dfY_train, y_pred_train)\n",
    "\n",
    "y_pred_test = model_forest.predict(dfX_test)\n",
    "test_accuracy = accuracy_score(dfY_test, y_pred_test)\n",
    "\n",
    "y_proba = model_forest.predict_proba(dfX_test)\n",
    "performance = log_loss(dfY_test, y_proba)"
   ]
  },
  {
   "cell_type": "code",
   "execution_count": null,
   "metadata": {
    "collapsed": true
   },
   "outputs": [],
   "source": [
    "print('Training accuracy: %f,  Test accuracy: %f,  log_loos:  %f' % (train_accuracy, test_accuracy, performance))"
   ]
  },
  {
   "cell_type": "code",
   "execution_count": null,
   "metadata": {
    "collapsed": true
   },
   "outputs": [],
   "source": [
    "print(classification_report(dfY_test, y_pred_test))"
   ]
  },
  {
   "cell_type": "markdown",
   "metadata": {},
   "source": [
    "## Extreme Forest Optimization"
   ]
  },
  {
   "cell_type": "code",
   "execution_count": null,
   "metadata": {
    "collapsed": true
   },
   "outputs": [],
   "source": [
    "def exforest_optimizer_estimator(dfX, dfY):\n",
    "    '''This function is used to optimize the xgboost parameters using GridSearchCV from Scikit-learn'''\n",
    "    model_forest = ExtraTreesClassifier(n_jobs = -1)\n",
    "    parameters = {'max_depth': [5, 6, 7, 8, 9], 'n_estimators': [100, 300, 500, 700]}\n",
    "    \n",
    "    gs = GridSearchCV(estimator = model_forest, param_grid = parameters, scoring = 'neg_log_loss', cv = 4, n_jobs = -1)\n",
    "    %time gs = gs.fit(dfX, dfY)\n",
    "    return gs"
   ]
  },
  {
   "cell_type": "code",
   "execution_count": null,
   "metadata": {
    "collapsed": true
   },
   "outputs": [],
   "source": [
    "gs_estimator = forest_optimizer_estimator(dfX_train, dfY_train)"
   ]
  },
  {
   "cell_type": "code",
   "execution_count": null,
   "metadata": {
    "collapsed": true
   },
   "outputs": [],
   "source": [
    "print(gs.best_score_)\n",
    "print(gs.best_params_)"
   ]
  },
  {
   "cell_type": "code",
   "execution_count": null,
   "metadata": {
    "collapsed": true
   },
   "outputs": [],
   "source": [
    "model_exforest = ExtraTreesClassifier(n_jobs = -1)\n",
    "model_exforest.fit(dfX_train, dfY_train)\n",
    "\n",
    "y_pred_train = model_exforest.predict(dfX_train)\n",
    "train_accuracy = accuracy_score(dfY_train, y_pred_train)\n",
    "\n",
    "y_pred_test = model_exforest.predict(dfX_test)\n",
    "test_accuracy = accuracy_score(dfY_test, y_pred_test)\n",
    "\n",
    "y_proba = model_exforest.predict_proba(dfX_test)\n",
    "performance = log_loss(dfY_test, y_proba)"
   ]
  },
  {
   "cell_type": "markdown",
   "metadata": {},
   "source": [
    "## Kernel SVM Optimization"
   ]
  },
  {
   "cell_type": "code",
   "execution_count": null,
   "metadata": {
    "collapsed": true
   },
   "outputs": [],
   "source": []
  },
  {
   "cell_type": "code",
   "execution_count": null,
   "metadata": {
    "collapsed": true
   },
   "outputs": [],
   "source": []
  },
  {
   "cell_type": "code",
   "execution_count": null,
   "metadata": {
    "collapsed": true
   },
   "outputs": [],
   "source": []
  },
  {
   "cell_type": "code",
   "execution_count": null,
   "metadata": {
    "collapsed": true
   },
   "outputs": [],
   "source": []
  },
  {
   "cell_type": "markdown",
   "metadata": {},
   "source": [
    "## Ensemble Classifier Optimization\n",
    "\n",
    "#### 앙상블 기법은 predict_proba가 없는 관계로 log_loss는 구할수 없지만, 개개인 모델 대비 정확도 측면에서 성능 개선이 있었는지 확인차 분석 진행함."
   ]
  },
  {
   "cell_type": "code",
   "execution_count": null,
   "metadata": {
    "collapsed": true
   },
   "outputs": [],
   "source": []
  },
  {
   "cell_type": "code",
   "execution_count": null,
   "metadata": {
    "collapsed": true
   },
   "outputs": [],
   "source": []
  },
  {
   "cell_type": "code",
   "execution_count": null,
   "metadata": {
    "collapsed": true
   },
   "outputs": [],
   "source": []
  },
  {
   "cell_type": "code",
   "execution_count": null,
   "metadata": {
    "collapsed": true
   },
   "outputs": [],
   "source": []
  },
  {
   "cell_type": "markdown",
   "metadata": {},
   "source": [
    "## Kaggle 결과값 논란"
   ]
  },
  {
   "cell_type": "markdown",
   "metadata": {},
   "source": [
    "#### References:\n",
    "\n",
    "- http://blog.kaggle.com/2016/08/05/predicting-shelter-animal-outcomes-team-kaggle-for-the-paws-andras-zsom/\n",
    "- https://www.kaggle.com/c/shelter-animal-outcomes/discussion/22119\n",
    "- https://www.kaggle.com/c/shelter-animal-outcomes/discussion/19867\n"
   ]
  },
  {
   "cell_type": "markdown",
   "metadata": {},
   "source": [
    "Kaggle Train에 주어진 DataTime인자를 사용하는것은 형평성에 어긋난다는 지적이 있다. 왜냐하면 DateTime에 있는 day와 hour정보까지 사용하면, transfer같은 경우 같은날 같은시간에 대량으로 이루어 지는 경우가 있기 때문에 애완견의 특징이나 정보가 아닌 결과가 이루어진 특정 시간을 모델이 학습을 하면서 결과값은 좋아지지만 미래에 사용할 경우 말도 안되는 결과가 나오는 모델이 구성되게 된다. \n",
    "\n",
    "실제로 Kaggle 상위권 점수를 획득한 팀에서 분석해본 결과, train.csv에 있는 애완견의 특징만 가지고 분석을 했을경우 Log Loss값 0.8정도가 한계치라는 결론을 내렸다. \n",
    "\n",
    "추가로, https://data.austintexas.gov/ 홈페이지에 가면 Kaggle에 사용된 train.csv의 원본을 찾을수 있다. 심지어 제일 최근 (2017년 11월)까지 업데이트 된 정보를 얻을수 있으며 결과값 까지도 얻을수 있다. Kaggle에서 Log Loss 0.0으로 1등한 팀은 아마 모델을 돌린것이 아니라 이 결과값을 test.csv와 매칭해서 얻은 결과가 아닐까 생각된다.\n",
    "\n",
    "일부 Kaggle Discussion Board에서는 train.csv원본에 포함된 intake condition과 intake type인자를 Kaggle Data에 올려서 예측하는것이 더 공정하고 Kaggle에서 원래 의도했던 애완견의 특징에 따른 예측모델을 구성하는데 더 도움이 됐을꺼라는 의견이 있었다.\n",
    "\n",
    "https://data.austintexas.gov/ 에서 가지고온 Animal_Intake 자료와 Outcome자료를 참고로 한번 출력해 보겠다."
   ]
  },
  {
   "cell_type": "code",
   "execution_count": 100,
   "metadata": {
    "collapsed": true
   },
   "outputs": [],
   "source": [
    "intake = pd.read_csv('intake.csv')\n",
    "outcome = pd.read_csv('outcome.csv')"
   ]
  },
  {
   "cell_type": "code",
   "execution_count": 101,
   "metadata": {},
   "outputs": [
    {
     "data": {
      "text/html": [
       "<div>\n",
       "<style>\n",
       "    .dataframe thead tr:only-child th {\n",
       "        text-align: right;\n",
       "    }\n",
       "\n",
       "    .dataframe thead th {\n",
       "        text-align: left;\n",
       "    }\n",
       "\n",
       "    .dataframe tbody tr th {\n",
       "        vertical-align: top;\n",
       "    }\n",
       "</style>\n",
       "<table border=\"1\" class=\"dataframe\">\n",
       "  <thead>\n",
       "    <tr style=\"text-align: right;\">\n",
       "      <th></th>\n",
       "      <th>Animal ID</th>\n",
       "      <th>Name</th>\n",
       "      <th>DateTime</th>\n",
       "      <th>MonthYear</th>\n",
       "      <th>Found Location</th>\n",
       "      <th>Intake Type</th>\n",
       "      <th>Intake Condition</th>\n",
       "      <th>Animal Type</th>\n",
       "      <th>Sex upon Intake</th>\n",
       "      <th>Age upon Intake</th>\n",
       "      <th>Breed</th>\n",
       "      <th>Color</th>\n",
       "    </tr>\n",
       "  </thead>\n",
       "  <tbody>\n",
       "    <tr>\n",
       "      <th>0</th>\n",
       "      <td>A748291</td>\n",
       "      <td>*Madison</td>\n",
       "      <td>05/01/2017 02:26:00 PM</td>\n",
       "      <td>05/01/2017 02:26:00 PM</td>\n",
       "      <td>S Pleasant Valley Rd And E Riverside Dr in Aus...</td>\n",
       "      <td>Stray</td>\n",
       "      <td>Normal</td>\n",
       "      <td>Dog</td>\n",
       "      <td>Intact Female</td>\n",
       "      <td>10 months</td>\n",
       "      <td>Pit Bull Mix</td>\n",
       "      <td>Black</td>\n",
       "    </tr>\n",
       "    <tr>\n",
       "      <th>1</th>\n",
       "      <td>A750529</td>\n",
       "      <td>NaN</td>\n",
       "      <td>05/28/2017 01:22:00 PM</td>\n",
       "      <td>05/28/2017 01:22:00 PM</td>\n",
       "      <td>8312 North Ih 35 in Austin (TX)</td>\n",
       "      <td>Stray</td>\n",
       "      <td>Normal</td>\n",
       "      <td>Dog</td>\n",
       "      <td>Intact Female</td>\n",
       "      <td>5 months</td>\n",
       "      <td>Miniature Schnauzer Mix</td>\n",
       "      <td>White/Cream</td>\n",
       "    </tr>\n",
       "    <tr>\n",
       "      <th>2</th>\n",
       "      <td>A730601</td>\n",
       "      <td>NaN</td>\n",
       "      <td>07/07/2016 12:11:00 PM</td>\n",
       "      <td>07/07/2016 12:11:00 PM</td>\n",
       "      <td>1109 Shady Ln in Austin (TX)</td>\n",
       "      <td>Stray</td>\n",
       "      <td>Normal</td>\n",
       "      <td>Cat</td>\n",
       "      <td>Intact Male</td>\n",
       "      <td>7 months</td>\n",
       "      <td>Domestic Shorthair Mix</td>\n",
       "      <td>Blue Tabby</td>\n",
       "    </tr>\n",
       "    <tr>\n",
       "      <th>3</th>\n",
       "      <td>A748238</td>\n",
       "      <td>NaN</td>\n",
       "      <td>05/01/2017 10:53:00 AM</td>\n",
       "      <td>05/01/2017 10:53:00 AM</td>\n",
       "      <td>Airport Blvd And Oak Springs Dr in Austin (TX)</td>\n",
       "      <td>Stray</td>\n",
       "      <td>Normal</td>\n",
       "      <td>Dog</td>\n",
       "      <td>Intact Male</td>\n",
       "      <td>3 years</td>\n",
       "      <td>Bichon Frise Mix</td>\n",
       "      <td>White</td>\n",
       "    </tr>\n",
       "    <tr>\n",
       "      <th>4</th>\n",
       "      <td>A683644</td>\n",
       "      <td>*Zoey</td>\n",
       "      <td>07/13/2014 11:02:00 AM</td>\n",
       "      <td>07/13/2014 11:02:00 AM</td>\n",
       "      <td>Austin (TX)</td>\n",
       "      <td>Owner Surrender</td>\n",
       "      <td>Nursing</td>\n",
       "      <td>Dog</td>\n",
       "      <td>Intact Female</td>\n",
       "      <td>4 weeks</td>\n",
       "      <td>Border Collie Mix</td>\n",
       "      <td>Brown/White</td>\n",
       "    </tr>\n",
       "  </tbody>\n",
       "</table>\n",
       "</div>"
      ],
      "text/plain": [
       "  Animal ID      Name                DateTime               MonthYear  \\\n",
       "0   A748291  *Madison  05/01/2017 02:26:00 PM  05/01/2017 02:26:00 PM   \n",
       "1   A750529       NaN  05/28/2017 01:22:00 PM  05/28/2017 01:22:00 PM   \n",
       "2   A730601       NaN  07/07/2016 12:11:00 PM  07/07/2016 12:11:00 PM   \n",
       "3   A748238       NaN  05/01/2017 10:53:00 AM  05/01/2017 10:53:00 AM   \n",
       "4   A683644     *Zoey  07/13/2014 11:02:00 AM  07/13/2014 11:02:00 AM   \n",
       "\n",
       "                                      Found Location      Intake Type  \\\n",
       "0  S Pleasant Valley Rd And E Riverside Dr in Aus...            Stray   \n",
       "1                    8312 North Ih 35 in Austin (TX)            Stray   \n",
       "2                       1109 Shady Ln in Austin (TX)            Stray   \n",
       "3     Airport Blvd And Oak Springs Dr in Austin (TX)            Stray   \n",
       "4                                        Austin (TX)  Owner Surrender   \n",
       "\n",
       "  Intake Condition Animal Type Sex upon Intake Age upon Intake  \\\n",
       "0           Normal         Dog   Intact Female       10 months   \n",
       "1           Normal         Dog   Intact Female        5 months   \n",
       "2           Normal         Cat     Intact Male        7 months   \n",
       "3           Normal         Dog     Intact Male         3 years   \n",
       "4          Nursing         Dog   Intact Female         4 weeks   \n",
       "\n",
       "                     Breed        Color  \n",
       "0             Pit Bull Mix        Black  \n",
       "1  Miniature Schnauzer Mix  White/Cream  \n",
       "2   Domestic Shorthair Mix   Blue Tabby  \n",
       "3         Bichon Frise Mix        White  \n",
       "4        Border Collie Mix  Brown/White  "
      ]
     },
     "execution_count": 101,
     "metadata": {},
     "output_type": "execute_result"
    }
   ],
   "source": [
    "intake.head()"
   ]
  },
  {
   "cell_type": "code",
   "execution_count": 102,
   "metadata": {},
   "outputs": [
    {
     "data": {
      "text/html": [
       "<div>\n",
       "<style>\n",
       "    .dataframe thead tr:only-child th {\n",
       "        text-align: right;\n",
       "    }\n",
       "\n",
       "    .dataframe thead th {\n",
       "        text-align: left;\n",
       "    }\n",
       "\n",
       "    .dataframe tbody tr th {\n",
       "        vertical-align: top;\n",
       "    }\n",
       "</style>\n",
       "<table border=\"1\" class=\"dataframe\">\n",
       "  <thead>\n",
       "    <tr style=\"text-align: right;\">\n",
       "      <th></th>\n",
       "      <th>Animal ID</th>\n",
       "      <th>Name</th>\n",
       "      <th>DateTime</th>\n",
       "      <th>MonthYear</th>\n",
       "      <th>Date of Birth</th>\n",
       "      <th>Outcome Type</th>\n",
       "      <th>Outcome Subtype</th>\n",
       "      <th>Animal Type</th>\n",
       "      <th>Sex upon Outcome</th>\n",
       "      <th>Age upon Outcome</th>\n",
       "      <th>Breed</th>\n",
       "      <th>Color</th>\n",
       "    </tr>\n",
       "  </thead>\n",
       "  <tbody>\n",
       "    <tr>\n",
       "      <th>0</th>\n",
       "      <td>A741715</td>\n",
       "      <td>*Pebbles</td>\n",
       "      <td>01/11/2017 06:17:00 PM</td>\n",
       "      <td>01/11/2017 06:17:00 PM</td>\n",
       "      <td>03/07/2016</td>\n",
       "      <td>Adoption</td>\n",
       "      <td>NaN</td>\n",
       "      <td>Cat</td>\n",
       "      <td>Spayed Female</td>\n",
       "      <td>10 months</td>\n",
       "      <td>Domestic Shorthair Mix</td>\n",
       "      <td>Calico</td>\n",
       "    </tr>\n",
       "    <tr>\n",
       "      <th>1</th>\n",
       "      <td>A658751</td>\n",
       "      <td>Benji</td>\n",
       "      <td>11/13/2016 01:38:00 PM</td>\n",
       "      <td>11/13/2016 01:38:00 PM</td>\n",
       "      <td>07/14/2011</td>\n",
       "      <td>Return to Owner</td>\n",
       "      <td>NaN</td>\n",
       "      <td>Dog</td>\n",
       "      <td>Neutered Male</td>\n",
       "      <td>5 years</td>\n",
       "      <td>Border Terrier Mix</td>\n",
       "      <td>Tan</td>\n",
       "    </tr>\n",
       "    <tr>\n",
       "      <th>2</th>\n",
       "      <td>A721285</td>\n",
       "      <td>NaN</td>\n",
       "      <td>02/24/2016 02:42:00 PM</td>\n",
       "      <td>02/24/2016 02:42:00 PM</td>\n",
       "      <td>02/24/2014</td>\n",
       "      <td>Euthanasia</td>\n",
       "      <td>Suffering</td>\n",
       "      <td>Other</td>\n",
       "      <td>Unknown</td>\n",
       "      <td>2 years</td>\n",
       "      <td>Raccoon Mix</td>\n",
       "      <td>Black/Gray</td>\n",
       "    </tr>\n",
       "    <tr>\n",
       "      <th>3</th>\n",
       "      <td>A746650</td>\n",
       "      <td>Rose</td>\n",
       "      <td>04/07/2017 11:58:00 AM</td>\n",
       "      <td>04/07/2017 11:58:00 AM</td>\n",
       "      <td>04/06/2016</td>\n",
       "      <td>Return to Owner</td>\n",
       "      <td>NaN</td>\n",
       "      <td>Dog</td>\n",
       "      <td>Intact Female</td>\n",
       "      <td>1 year</td>\n",
       "      <td>Labrador Retriever/Jack Russell Terrier</td>\n",
       "      <td>Yellow</td>\n",
       "    </tr>\n",
       "    <tr>\n",
       "      <th>4</th>\n",
       "      <td>A750122</td>\n",
       "      <td>Happy Camper</td>\n",
       "      <td>05/24/2017 06:36:00 PM</td>\n",
       "      <td>05/24/2017 06:36:00 PM</td>\n",
       "      <td>04/08/2017</td>\n",
       "      <td>Transfer</td>\n",
       "      <td>Partner</td>\n",
       "      <td>Dog</td>\n",
       "      <td>Intact Male</td>\n",
       "      <td>1 month</td>\n",
       "      <td>Labrador Retriever Mix</td>\n",
       "      <td>Black</td>\n",
       "    </tr>\n",
       "  </tbody>\n",
       "</table>\n",
       "</div>"
      ],
      "text/plain": [
       "  Animal ID          Name                DateTime               MonthYear  \\\n",
       "0   A741715      *Pebbles  01/11/2017 06:17:00 PM  01/11/2017 06:17:00 PM   \n",
       "1   A658751         Benji  11/13/2016 01:38:00 PM  11/13/2016 01:38:00 PM   \n",
       "2   A721285           NaN  02/24/2016 02:42:00 PM  02/24/2016 02:42:00 PM   \n",
       "3   A746650          Rose  04/07/2017 11:58:00 AM  04/07/2017 11:58:00 AM   \n",
       "4   A750122  Happy Camper  05/24/2017 06:36:00 PM  05/24/2017 06:36:00 PM   \n",
       "\n",
       "  Date of Birth     Outcome Type Outcome Subtype Animal Type Sex upon Outcome  \\\n",
       "0    03/07/2016         Adoption             NaN         Cat    Spayed Female   \n",
       "1    07/14/2011  Return to Owner             NaN         Dog    Neutered Male   \n",
       "2    02/24/2014       Euthanasia       Suffering       Other          Unknown   \n",
       "3    04/06/2016  Return to Owner             NaN         Dog    Intact Female   \n",
       "4    04/08/2017         Transfer         Partner         Dog      Intact Male   \n",
       "\n",
       "  Age upon Outcome                                    Breed       Color  \n",
       "0        10 months                   Domestic Shorthair Mix      Calico  \n",
       "1          5 years                       Border Terrier Mix         Tan  \n",
       "2          2 years                              Raccoon Mix  Black/Gray  \n",
       "3           1 year  Labrador Retriever/Jack Russell Terrier      Yellow  \n",
       "4          1 month                   Labrador Retriever Mix       Black  "
      ]
     },
     "execution_count": 102,
     "metadata": {},
     "output_type": "execute_result"
    }
   ],
   "source": [
    "outcome.head()"
   ]
  },
  {
   "cell_type": "markdown",
   "metadata": {},
   "source": [
    "# Extra"
   ]
  },
  {
   "cell_type": "markdown",
   "metadata": {},
   "source": [
    "## intake.csv의 intake type, intake condition을 포함한 분석 (Kaggle과는 상관없이 intake.csv와 train.csv에 있는 데이터를 merge한 후 train과 test로 나눠서 분석)"
   ]
  },
  {
   "cell_type": "markdown",
   "metadata": {},
   "source": [
    "#### The intake data contains some duplicate Animal ID. So be sure to get rid of the duplicates (some information varies, so just keep the first one I suppose)"
   ]
  },
  {
   "cell_type": "code",
   "execution_count": 107,
   "metadata": {
    "collapsed": true
   },
   "outputs": [],
   "source": [
    "intake.rename(columns={'Animal ID':'AnimalID'}, inplace=True)\n",
    "temp = pd.merge(data_original, intake[['AnimalID', 'Intake Condition', 'Intake Type']], on = 'AnimalID', how = 'inner', suffixes = ('_original', '_intake'))\n",
    "temp.drop_duplicates(subset = 'AnimalID', keep='first', inplace = True)"
   ]
  },
  {
   "cell_type": "code",
   "execution_count": 108,
   "metadata": {},
   "outputs": [
    {
     "data": {
      "text/plain": [
       "(26152, 12)"
      ]
     },
     "execution_count": 108,
     "metadata": {},
     "output_type": "execute_result"
    }
   ],
   "source": [
    "temp.shape"
   ]
  },
  {
   "cell_type": "code",
   "execution_count": 109,
   "metadata": {},
   "outputs": [
    {
     "data": {
      "text/html": [
       "<div>\n",
       "<style>\n",
       "    .dataframe thead tr:only-child th {\n",
       "        text-align: right;\n",
       "    }\n",
       "\n",
       "    .dataframe thead th {\n",
       "        text-align: left;\n",
       "    }\n",
       "\n",
       "    .dataframe tbody tr th {\n",
       "        vertical-align: top;\n",
       "    }\n",
       "</style>\n",
       "<table border=\"1\" class=\"dataframe\">\n",
       "  <thead>\n",
       "    <tr style=\"text-align: right;\">\n",
       "      <th></th>\n",
       "      <th>AnimalID</th>\n",
       "      <th>Name</th>\n",
       "      <th>DateTime</th>\n",
       "      <th>OutcomeType</th>\n",
       "      <th>OutcomeSubtype</th>\n",
       "      <th>AnimalType</th>\n",
       "      <th>SexuponOutcome</th>\n",
       "      <th>AgeuponOutcome</th>\n",
       "      <th>Breed</th>\n",
       "      <th>Color</th>\n",
       "      <th>Intake Condition</th>\n",
       "      <th>Intake Type</th>\n",
       "    </tr>\n",
       "  </thead>\n",
       "  <tbody>\n",
       "    <tr>\n",
       "      <th>29346</th>\n",
       "      <td>A702446</td>\n",
       "      <td>NaN</td>\n",
       "      <td>2015-05-14 11:56:00</td>\n",
       "      <td>Transfer</td>\n",
       "      <td>Partner</td>\n",
       "      <td>Cat</td>\n",
       "      <td>Intact Male</td>\n",
       "      <td>1 month</td>\n",
       "      <td>Domestic Shorthair Mix</td>\n",
       "      <td>Brown Tabby/White</td>\n",
       "      <td>Normal</td>\n",
       "      <td>Stray</td>\n",
       "    </tr>\n",
       "    <tr>\n",
       "      <th>29347</th>\n",
       "      <td>A718934</td>\n",
       "      <td>NaN</td>\n",
       "      <td>2016-01-20 18:59:00</td>\n",
       "      <td>Transfer</td>\n",
       "      <td>SCRP</td>\n",
       "      <td>Cat</td>\n",
       "      <td>Spayed Female</td>\n",
       "      <td>3 months</td>\n",
       "      <td>Domestic Shorthair Mix</td>\n",
       "      <td>Brown Tabby</td>\n",
       "      <td>Normal</td>\n",
       "      <td>Stray</td>\n",
       "    </tr>\n",
       "    <tr>\n",
       "      <th>29348</th>\n",
       "      <td>A698128</td>\n",
       "      <td>Zeus</td>\n",
       "      <td>2015-03-09 13:33:00</td>\n",
       "      <td>Adoption</td>\n",
       "      <td>NaN</td>\n",
       "      <td>Dog</td>\n",
       "      <td>Neutered Male</td>\n",
       "      <td>4 years</td>\n",
       "      <td>Old English Bulldog Mix</td>\n",
       "      <td>White/Tan</td>\n",
       "      <td>Normal</td>\n",
       "      <td>Owner Surrender</td>\n",
       "    </tr>\n",
       "    <tr>\n",
       "      <th>29349</th>\n",
       "      <td>A677478</td>\n",
       "      <td>NaN</td>\n",
       "      <td>2014-04-27 12:22:00</td>\n",
       "      <td>Transfer</td>\n",
       "      <td>Partner</td>\n",
       "      <td>Cat</td>\n",
       "      <td>Intact Male</td>\n",
       "      <td>4 weeks</td>\n",
       "      <td>Domestic Shorthair Mix</td>\n",
       "      <td>Black</td>\n",
       "      <td>Sick</td>\n",
       "      <td>Owner Surrender</td>\n",
       "    </tr>\n",
       "    <tr>\n",
       "      <th>29350</th>\n",
       "      <td>A706629</td>\n",
       "      <td>NaN</td>\n",
       "      <td>2015-07-02 09:00:00</td>\n",
       "      <td>Transfer</td>\n",
       "      <td>SCRP</td>\n",
       "      <td>Cat</td>\n",
       "      <td>Intact Male</td>\n",
       "      <td>1 year</td>\n",
       "      <td>Domestic Shorthair Mix</td>\n",
       "      <td>Brown Tabby/White</td>\n",
       "      <td>Normal</td>\n",
       "      <td>Stray</td>\n",
       "    </tr>\n",
       "  </tbody>\n",
       "</table>\n",
       "</div>"
      ],
      "text/plain": [
       "      AnimalID  Name             DateTime OutcomeType OutcomeSubtype  \\\n",
       "29346  A702446   NaN  2015-05-14 11:56:00    Transfer        Partner   \n",
       "29347  A718934   NaN  2016-01-20 18:59:00    Transfer           SCRP   \n",
       "29348  A698128  Zeus  2015-03-09 13:33:00    Adoption            NaN   \n",
       "29349  A677478   NaN  2014-04-27 12:22:00    Transfer        Partner   \n",
       "29350  A706629   NaN  2015-07-02 09:00:00    Transfer           SCRP   \n",
       "\n",
       "      AnimalType SexuponOutcome AgeuponOutcome                    Breed  \\\n",
       "29346        Cat    Intact Male        1 month   Domestic Shorthair Mix   \n",
       "29347        Cat  Spayed Female       3 months   Domestic Shorthair Mix   \n",
       "29348        Dog  Neutered Male        4 years  Old English Bulldog Mix   \n",
       "29349        Cat    Intact Male        4 weeks   Domestic Shorthair Mix   \n",
       "29350        Cat    Intact Male         1 year   Domestic Shorthair Mix   \n",
       "\n",
       "                   Color Intake Condition      Intake Type  \n",
       "29346  Brown Tabby/White           Normal            Stray  \n",
       "29347        Brown Tabby           Normal            Stray  \n",
       "29348          White/Tan           Normal  Owner Surrender  \n",
       "29349              Black             Sick  Owner Surrender  \n",
       "29350  Brown Tabby/White           Normal            Stray  "
      ]
     },
     "execution_count": 109,
     "metadata": {},
     "output_type": "execute_result"
    }
   ],
   "source": [
    "temp.tail()"
   ]
  },
  {
   "cell_type": "code",
   "execution_count": null,
   "metadata": {
    "collapsed": true
   },
   "outputs": [],
   "source": []
  }
 ],
 "metadata": {
  "kernelspec": {
   "display_name": "Python 3",
   "language": "python",
   "name": "python3"
  },
  "language_info": {
   "codemirror_mode": {
    "name": "ipython",
    "version": 3
   },
   "file_extension": ".py",
   "mimetype": "text/x-python",
   "name": "python",
   "nbconvert_exporter": "python",
   "pygments_lexer": "ipython3",
   "version": "3.6.3"
  }
 },
 "nbformat": 4,
 "nbformat_minor": 2
}
