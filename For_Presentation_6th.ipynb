{
 "cells": [
  {
   "cell_type": "code",
   "execution_count": 329,
   "metadata": {
    "collapsed": true
   },
   "outputs": [],
   "source": [
    "'''Import all the necessary packages'''\n",
    "from sklearn.preprocessing import StandardScaler\n",
    "from sklearn.model_selection import train_test_split, cross_val_score, KFold, StratifiedKFold, GridSearchCV\n",
    "from sklearn.preprocessing import Imputer, OneHotEncoder, LabelEncoder\n",
    "from sklearn.metrics import classification_report, confusion_matrix, roc_curve, accuracy_score, log_loss\n",
    "from sklearn.linear_model import LogisticRegression\n",
    "from sklearn.tree import DecisionTreeClassifier\n",
    "from sklearn.ensemble import RandomForestClassifier, ExtraTreesClassifier, AdaBoostClassifier, BaggingClassifier\n",
    "import xgboost\n",
    "from sklearn import cross_validation as cv\n",
    "from sklearn.svm import SVC\n",
    "from sklearn.naive_bayes import GaussianNB\n",
    "\n",
    "from patsy import dmatrix\n",
    "from scipy import stats\n",
    "\n",
    "import statsmodels.api as sm\n",
    "import seaborn as sns\n",
    "import numpy as np\n",
    "import pandas as pd\n",
    "import matplotlib.pylab as plt\n",
    "import requests\n",
    "from bs4 import BeautifulSoup\n",
    "\n",
    "import seaborn as sns\n",
    "from statsmodels.graphics import utils"
   ]
  },
  {
   "cell_type": "markdown",
   "metadata": {},
   "source": [
    "# 머신러닝 팀프로젝트 과제 발표\n",
    "\n",
    "## 주제 : Shelter Animal Outcomes"
   ]
  },
  {
   "cell_type": "markdown",
   "metadata": {},
   "source": [
    "#### DataSet"
   ]
  },
  {
   "cell_type": "code",
   "execution_count": 330,
   "metadata": {
    "collapsed": true
   },
   "outputs": [],
   "source": [
    "data_train = pd.read_csv('train.csv')\n",
    "data_test = pd.read_csv('test.csv')\n",
    "\n",
    "'''Keep a copy of the original data for comparison'''\n",
    "data_original_train = data_train.copy()\n",
    "data_original_test = data_test.copy()\n"
   ]
  },
  {
   "cell_type": "code",
   "execution_count": 346,
   "metadata": {
    "collapsed": true
   },
   "outputs": [],
   "source": [
    "#Train과 Test를 합쳐서 한번에 전처리 진행\n",
    "#OutcomeSubtype은 Train에만 있는 데이터기 때문에 Drop\n",
    "dfY = data_train['OutcomeType']\n",
    "data_train_drop = data_train.drop('OutcomeSubtype', axis = 1)\n",
    "data_train_drop.drop('OutcomeType', axis = 1, inplace = True)\n",
    "\n",
    "data_test = data_test.rename(columns = {'ID':'AnimalID'})\n",
    "data_combined = pd.concat([data_train_drop, data_test], axis = 0)\n",
    "data_temp = data_combined.iloc[:26729, : ]"
   ]
  },
  {
   "cell_type": "code",
   "execution_count": 347,
   "metadata": {},
   "outputs": [
    {
     "data": {
      "text/html": [
       "<div>\n",
       "<style>\n",
       "    .dataframe thead tr:only-child th {\n",
       "        text-align: right;\n",
       "    }\n",
       "\n",
       "    .dataframe thead th {\n",
       "        text-align: left;\n",
       "    }\n",
       "\n",
       "    .dataframe tbody tr th {\n",
       "        vertical-align: top;\n",
       "    }\n",
       "</style>\n",
       "<table border=\"1\" class=\"dataframe\">\n",
       "  <thead>\n",
       "    <tr style=\"text-align: right;\">\n",
       "      <th></th>\n",
       "      <th>AnimalID</th>\n",
       "      <th>Name</th>\n",
       "      <th>DateTime</th>\n",
       "      <th>AnimalType</th>\n",
       "      <th>SexuponOutcome</th>\n",
       "      <th>AgeuponOutcome</th>\n",
       "      <th>Breed</th>\n",
       "      <th>Color</th>\n",
       "    </tr>\n",
       "  </thead>\n",
       "  <tbody>\n",
       "    <tr>\n",
       "      <th>0</th>\n",
       "      <td>A671945</td>\n",
       "      <td>Hambone</td>\n",
       "      <td>2014-02-12 18:22:00</td>\n",
       "      <td>Dog</td>\n",
       "      <td>Neutered Male</td>\n",
       "      <td>1 year</td>\n",
       "      <td>Shetland Sheepdog Mix</td>\n",
       "      <td>Brown/White</td>\n",
       "    </tr>\n",
       "    <tr>\n",
       "      <th>1</th>\n",
       "      <td>A656520</td>\n",
       "      <td>Emily</td>\n",
       "      <td>2013-10-13 12:44:00</td>\n",
       "      <td>Cat</td>\n",
       "      <td>Spayed Female</td>\n",
       "      <td>1 year</td>\n",
       "      <td>Domestic Shorthair Mix</td>\n",
       "      <td>Cream Tabby</td>\n",
       "    </tr>\n",
       "    <tr>\n",
       "      <th>2</th>\n",
       "      <td>A686464</td>\n",
       "      <td>Pearce</td>\n",
       "      <td>2015-01-31 12:28:00</td>\n",
       "      <td>Dog</td>\n",
       "      <td>Neutered Male</td>\n",
       "      <td>2 years</td>\n",
       "      <td>Pit Bull Mix</td>\n",
       "      <td>Blue/White</td>\n",
       "    </tr>\n",
       "    <tr>\n",
       "      <th>3</th>\n",
       "      <td>A683430</td>\n",
       "      <td>NaN</td>\n",
       "      <td>2014-07-11 19:09:00</td>\n",
       "      <td>Cat</td>\n",
       "      <td>Intact Male</td>\n",
       "      <td>3 weeks</td>\n",
       "      <td>Domestic Shorthair Mix</td>\n",
       "      <td>Blue Cream</td>\n",
       "    </tr>\n",
       "    <tr>\n",
       "      <th>4</th>\n",
       "      <td>A667013</td>\n",
       "      <td>NaN</td>\n",
       "      <td>2013-11-15 12:52:00</td>\n",
       "      <td>Dog</td>\n",
       "      <td>Neutered Male</td>\n",
       "      <td>2 years</td>\n",
       "      <td>Lhasa Apso/Miniature Poodle</td>\n",
       "      <td>Tan</td>\n",
       "    </tr>\n",
       "  </tbody>\n",
       "</table>\n",
       "</div>"
      ],
      "text/plain": [
       "  AnimalID     Name             DateTime AnimalType SexuponOutcome  \\\n",
       "0  A671945  Hambone  2014-02-12 18:22:00        Dog  Neutered Male   \n",
       "1  A656520    Emily  2013-10-13 12:44:00        Cat  Spayed Female   \n",
       "2  A686464   Pearce  2015-01-31 12:28:00        Dog  Neutered Male   \n",
       "3  A683430      NaN  2014-07-11 19:09:00        Cat    Intact Male   \n",
       "4  A667013      NaN  2013-11-15 12:52:00        Dog  Neutered Male   \n",
       "\n",
       "  AgeuponOutcome                        Breed        Color  \n",
       "0         1 year        Shetland Sheepdog Mix  Brown/White  \n",
       "1         1 year       Domestic Shorthair Mix  Cream Tabby  \n",
       "2        2 years                 Pit Bull Mix   Blue/White  \n",
       "3        3 weeks       Domestic Shorthair Mix   Blue Cream  \n",
       "4        2 years  Lhasa Apso/Miniature Poodle          Tan  "
      ]
     },
     "execution_count": 347,
     "metadata": {},
     "output_type": "execute_result"
    }
   ],
   "source": [
    "data_combined.head()"
   ]
  },
  {
   "cell_type": "code",
   "execution_count": 335,
   "metadata": {},
   "outputs": [
    {
     "data": {
      "text/html": [
       "<div>\n",
       "<style>\n",
       "    .dataframe thead tr:only-child th {\n",
       "        text-align: right;\n",
       "    }\n",
       "\n",
       "    .dataframe thead th {\n",
       "        text-align: left;\n",
       "    }\n",
       "\n",
       "    .dataframe tbody tr th {\n",
       "        vertical-align: top;\n",
       "    }\n",
       "</style>\n",
       "<table border=\"1\" class=\"dataframe\">\n",
       "  <thead>\n",
       "    <tr style=\"text-align: right;\">\n",
       "      <th></th>\n",
       "      <th>AnimalID</th>\n",
       "      <th>Name</th>\n",
       "      <th>DateTime</th>\n",
       "      <th>AnimalType</th>\n",
       "      <th>SexuponOutcome</th>\n",
       "      <th>AgeuponOutcome</th>\n",
       "      <th>Breed</th>\n",
       "      <th>Color</th>\n",
       "    </tr>\n",
       "  </thead>\n",
       "  <tbody>\n",
       "    <tr>\n",
       "      <th>11451</th>\n",
       "      <td>11452</td>\n",
       "      <td>NaN</td>\n",
       "      <td>2014-07-08 14:50</td>\n",
       "      <td>Cat</td>\n",
       "      <td>Neutered Male</td>\n",
       "      <td>2 months</td>\n",
       "      <td>Domestic Shorthair Mix</td>\n",
       "      <td>Black</td>\n",
       "    </tr>\n",
       "    <tr>\n",
       "      <th>11452</th>\n",
       "      <td>11453</td>\n",
       "      <td>NaN</td>\n",
       "      <td>2014-10-21 12:57</td>\n",
       "      <td>Cat</td>\n",
       "      <td>Intact Female</td>\n",
       "      <td>2 weeks</td>\n",
       "      <td>Domestic Shorthair Mix</td>\n",
       "      <td>Blue</td>\n",
       "    </tr>\n",
       "    <tr>\n",
       "      <th>11453</th>\n",
       "      <td>11454</td>\n",
       "      <td>NaN</td>\n",
       "      <td>2014-09-29 9:00</td>\n",
       "      <td>Cat</td>\n",
       "      <td>Intact Female</td>\n",
       "      <td>1 year</td>\n",
       "      <td>Domestic Shorthair Mix</td>\n",
       "      <td>Calico</td>\n",
       "    </tr>\n",
       "    <tr>\n",
       "      <th>11454</th>\n",
       "      <td>11455</td>\n",
       "      <td>Rambo</td>\n",
       "      <td>2015-09-05 17:16</td>\n",
       "      <td>Dog</td>\n",
       "      <td>Neutered Male</td>\n",
       "      <td>6 years</td>\n",
       "      <td>German Shepherd Mix</td>\n",
       "      <td>Black/Tan</td>\n",
       "    </tr>\n",
       "    <tr>\n",
       "      <th>11455</th>\n",
       "      <td>11456</td>\n",
       "      <td>Gusto</td>\n",
       "      <td>2014-07-12 18:40</td>\n",
       "      <td>Dog</td>\n",
       "      <td>Intact Male</td>\n",
       "      <td>4 years</td>\n",
       "      <td>Labrador Retriever</td>\n",
       "      <td>Cream</td>\n",
       "    </tr>\n",
       "  </tbody>\n",
       "</table>\n",
       "</div>"
      ],
      "text/plain": [
       "      AnimalID   Name          DateTime AnimalType SexuponOutcome  \\\n",
       "11451    11452    NaN  2014-07-08 14:50        Cat  Neutered Male   \n",
       "11452    11453    NaN  2014-10-21 12:57        Cat  Intact Female   \n",
       "11453    11454    NaN   2014-09-29 9:00        Cat  Intact Female   \n",
       "11454    11455  Rambo  2015-09-05 17:16        Dog  Neutered Male   \n",
       "11455    11456  Gusto  2014-07-12 18:40        Dog    Intact Male   \n",
       "\n",
       "      AgeuponOutcome                   Breed      Color  \n",
       "11451       2 months  Domestic Shorthair Mix      Black  \n",
       "11452        2 weeks  Domestic Shorthair Mix       Blue  \n",
       "11453         1 year  Domestic Shorthair Mix     Calico  \n",
       "11454        6 years     German Shepherd Mix  Black/Tan  \n",
       "11455        4 years      Labrador Retriever      Cream  "
      ]
     },
     "execution_count": 335,
     "metadata": {},
     "output_type": "execute_result"
    }
   ],
   "source": [
    "data_combined.tail()"
   ]
  },
  {
   "cell_type": "code",
   "execution_count": null,
   "metadata": {
    "collapsed": true
   },
   "outputs": [],
   "source": []
  },
  {
   "cell_type": "code",
   "execution_count": 188,
   "metadata": {},
   "outputs": [
    {
     "data": {
      "text/plain": [
       "array(['Return_to_owner', 'Euthanasia', 'Adoption', 'Transfer', 'Died'], dtype=object)"
      ]
     },
     "execution_count": 188,
     "metadata": {},
     "output_type": "execute_result"
    }
   ],
   "source": [
    "# 종속변수 Unique_Values 확인\n",
    "data_train.OutcomeType.unique()"
   ]
  },
  {
   "cell_type": "code",
   "execution_count": null,
   "metadata": {
    "collapsed": true
   },
   "outputs": [],
   "source": []
  },
  {
   "cell_type": "markdown",
   "metadata": {},
   "source": [
    "# 개요\n",
    "\n",
    "\n",
    "## 문제정의\n",
    "\n",
    "**7개의 독립변수를 활용하여 보호소에 있는 각 동물이 종속변수의 5가지 유형 중 어느 것에 해당할 것인지 분류하는 문제.**\n",
    "\n",
    "* 독립변수\n",
    " > Name : 발견당시 이름표 등에 표시되어 있던 이름. 주인이 지어준 것으로 예상됨.\n",
    "\n",
    " > DateTime : Outcome이 발생한 날짜와 시간.\n",
    "\n",
    " > AnimalType : 개와 고양이 두 종류.\n",
    "\n",
    " > SexuponOutcome : Outcome이 발생하는 시점에서의 해당 동물의 성별. 중성화 여부가 반영됨.\n",
    "\n",
    " > AgeuponOutcome : Outcome이 발생하는 시점에서의 해당 동물의 나이.\n",
    "\n",
    " > Breed : 해당 동물의 종. \n",
    "\n",
    " > Color : 해당 동물의 색. \n",
    "\n",
    "* 종속변수 (**주인 찾아감 / 안락사 / 입양 / 타기관이송 / 사망**)\n",
    "\n"
   ]
  },
  {
   "cell_type": "markdown",
   "metadata": {},
   "source": [
    "## 목표\n",
    "\n",
    "**Log-Loss 의 최소화**"
   ]
  },
  {
   "cell_type": "markdown",
   "metadata": {},
   "source": [
    "## 분석설계\n",
    "\n",
    "#### 1. EDA\n",
    "  1) Name\n",
    "\n",
    "  2) DateTime\n",
    "\n",
    "  3) AnimalType\n",
    "\n",
    "  4) SexuponOutcome\n",
    "\n",
    "  5) AgeuponOutcome\n",
    "\n",
    "  6) Breed\n",
    "\n",
    "  7) Color\n",
    "\n",
    "* One-Hot-Encoding\n",
    "\n",
    "#### 2. Feature Selection\n",
    "* Greedy Search\n",
    "\n",
    "#### 3. Modeling\n",
    "* Logistic Regression Model\n",
    "* Naive Bayesian Model\n",
    "* Random Forest Model\n",
    "* Extreme Forest Model\n",
    "* XG-boost Model\n",
    "\n",
    "#### 4. Model Selection\n",
    "* XG-boost Model\n",
    "\n",
    "#### 5. Kaggle 결과값 논란\n",
    "\n"
   ]
  },
  {
   "cell_type": "code",
   "execution_count": null,
   "metadata": {
    "collapsed": true
   },
   "outputs": [],
   "source": []
  },
  {
   "cell_type": "markdown",
   "metadata": {},
   "source": [
    "# EDA"
   ]
  },
  {
   "cell_type": "markdown",
   "metadata": {},
   "source": [
    "## Nan_value"
   ]
  },
  {
   "cell_type": "code",
   "execution_count": 337,
   "metadata": {
    "collapsed": true
   },
   "outputs": [],
   "source": [
    "def graph_na(data_train):\n",
    "    plt.figure()\n",
    "    missing_data_count = data_train.isnull().sum()\n",
    "    missing_data_count.sort_values(ascending = False, inplace = True)\n",
    "    missing_data_count_filtered = missing_data_count[missing_data_count > 0]\n",
    "    missing_data_count_filtered.plot(kind = 'bar', title = 'missing data count')\n",
    "    plt.show()"
   ]
  },
  {
   "cell_type": "code",
   "execution_count": 338,
   "metadata": {},
   "outputs": [
    {
     "data": {
      "image/png": "[encoded data removed]",
      "text/plain": [
       "<matplotlib.figure.Figure at 0x1c1d0702e8>"
      ]
     },
     "metadata": {},
     "output_type": "display_data"
    }
   ],
   "source": [
    "graph_na(data_train)"
   ]
  },
  {
   "cell_type": "code",
   "execution_count": 339,
   "metadata": {},
   "outputs": [
    {
     "data": {
      "text/plain": [
       "AnimalID              0\n",
       "Name               7691\n",
       "DateTime              0\n",
       "OutcomeType           0\n",
       "OutcomeSubtype    13612\n",
       "AnimalType            0\n",
       "SexuponOutcome        1\n",
       "AgeuponOutcome       18\n",
       "Breed                 0\n",
       "Color                 0\n",
       "dtype: int64"
      ]
     },
     "execution_count": 339,
     "metadata": {},
     "output_type": "execute_result"
    }
   ],
   "source": [
    "data_train.isnull().sum()"
   ]
  },
  {
   "cell_type": "code",
   "execution_count": 340,
   "metadata": {},
   "outputs": [
    {
     "data": {
      "text/plain": [
       "AnimalID             0\n",
       "Name              3225\n",
       "DateTime             0\n",
       "AnimalType           0\n",
       "SexuponOutcome       0\n",
       "AgeuponOutcome       6\n",
       "Breed                0\n",
       "Color                0\n",
       "dtype: int64"
      ]
     },
     "execution_count": 340,
     "metadata": {},
     "output_type": "execute_result"
    }
   ],
   "source": [
    "data_test.isnull().sum()"
   ]
  },
  {
   "cell_type": "code",
   "execution_count": 341,
   "metadata": {},
   "outputs": [
    {
     "data": {
      "text/plain": [
       "AnimalID              0\n",
       "Name              10916\n",
       "DateTime              0\n",
       "AnimalType            0\n",
       "SexuponOutcome        1\n",
       "AgeuponOutcome       24\n",
       "Breed                 0\n",
       "Color                 0\n",
       "dtype: int64"
      ]
     },
     "execution_count": 341,
     "metadata": {},
     "output_type": "execute_result"
    }
   ],
   "source": [
    "data_combined.isnull().sum()"
   ]
  },
  {
   "cell_type": "markdown",
   "metadata": {},
   "source": [
    "#### Name -> 유/무에 따라 해당 동물에 대한 주인의 애착 정도를 반영한다고 추측함. 따라서 유/무에 따른 결과값 분석 필요\n",
    "#### OutcomeSubtype -> OutcomeType과 직관적으로 연결된 인자 (데이터 분석에는 적용 x)\n",
    "#### AgeUponOutcome 의 NaN 값은 Median으로 처리\n",
    "#### SexuponOutcome 의 NaN값은 'Unknown'으로 처리"
   ]
  },
  {
   "cell_type": "code",
   "execution_count": null,
   "metadata": {
    "collapsed": true
   },
   "outputs": [],
   "source": []
  },
  {
   "cell_type": "markdown",
   "metadata": {},
   "source": [
    "## 종속변수"
   ]
  },
  {
   "cell_type": "code",
   "execution_count": 342,
   "metadata": {},
   "outputs": [
    {
     "data": {
      "image/png": "[encoded data removed]",
      "text/plain": [
       "<matplotlib.figure.Figure at 0x1c1ad4eeb8>"
      ]
     },
     "metadata": {},
     "output_type": "display_data"
    }
   ],
   "source": [
    "sns.countplot(data_train.OutcomeType, palette='Set3')\n",
    "plt.show()"
   ]
  },
  {
   "cell_type": "code",
   "execution_count": null,
   "metadata": {
    "collapsed": true
   },
   "outputs": [],
   "source": []
  },
  {
   "cell_type": "code",
   "execution_count": null,
   "metadata": {
    "collapsed": true
   },
   "outputs": [],
   "source": []
  },
  {
   "cell_type": "markdown",
   "metadata": {},
   "source": [
    "## 독립변수"
   ]
  },
  {
   "cell_type": "markdown",
   "metadata": {},
   "source": [
    "### 1. Name"
   ]
  },
  {
   "cell_type": "code",
   "execution_count": 343,
   "metadata": {},
   "outputs": [
    {
     "data": {
      "text/plain": [
       "6374"
      ]
     },
     "execution_count": 343,
     "metadata": {},
     "output_type": "execute_result"
    }
   ],
   "source": [
    "# Name 안에 있는 unique 갯수\n",
    "data_train.Name.nunique()"
   ]
  },
  {
   "cell_type": "code",
   "execution_count": 350,
   "metadata": {
    "collapsed": true
   },
   "outputs": [],
   "source": [
    "# 이름이 있는 경우 -> 'Name' / 이름이 없는 경우 -> 'No Name' 으로 변경\n",
    "\n",
    "def no_name_label(x):\n",
    "    '''Reference: https://github.com/JihongL/Shelter-Animal-Outcomes/blob/master/Shelter_EDA.ipynb'''\n",
    "    if type(x) == float:\n",
    "        return 'No Name'\n",
    "    else:\n",
    "        return 'Name'\n",
    "    \n",
    "data_combined['Name'] = data_combined['Name'].transform(no_name_label)\n",
    "data_train['Name'] = data_train['Name'].transform(no_name_label)"
   ]
  },
  {
   "cell_type": "code",
   "execution_count": 351,
   "metadata": {},
   "outputs": [
    {
     "data": {
      "image/png": "[encoded data removed]",
      "text/plain": [
       "<matplotlib.figure.Figure at 0x1c2389a128>"
      ]
     },
     "metadata": {},
     "output_type": "display_data"
    }
   ],
   "source": [
    "#이름 유/무와 OutcomeType 관계 그래프\n",
    "plt.figure(figsize = (7, 5))\n",
    "sns.countplot(x = 'Name', hue = 'OutcomeType', data = data_train)\n",
    "plt.show()"
   ]
  },
  {
   "cell_type": "markdown",
   "metadata": {},
   "source": [
    "#### 이름이 있는 경우에 주인이 찾아가는 비율이 압도적으로 높았는데, 이는 이름의 유무가 주인의 애착정도를 반영할 것이라는 애측이 타당했음을 증명한다고 보여짐.\n",
    "#### 또한 이름이 있는 경우 입양되는 비율도 높았는데, 이는 이름이 있다는 것이 입양자에게 이 애완견(묘)이 이전 주인에게 사랑받고 키워졌다는 신호로 작용했을 것이라 추측함."
   ]
  },
  {
   "cell_type": "code",
   "execution_count": null,
   "metadata": {
    "collapsed": true
   },
   "outputs": [],
   "source": []
  },
  {
   "cell_type": "markdown",
   "metadata": {},
   "source": [
    "### 2. Date Time"
   ]
  },
  {
   "cell_type": "code",
   "execution_count": 352,
   "metadata": {
    "collapsed": true
   },
   "outputs": [],
   "source": [
    "# 날짜 데이터에서 년, 월, 일, 시간 자료 추출 및 계절 변수 형성\n",
    "\n",
    "def datetime_str_converter(data_train):\n",
    "    '''This method converts the datetime input into year and month in\n",
    "    string format. The below method is identical except it returns numerical\n",
    "    value. The string format is used for graphing with countplot'''\n",
    "    datetime = list(data_train['DateTime'])\n",
    "    year_list, month_list, day_list, hour_list = [], [], [], []\n",
    "    for item in datetime:\n",
    "        year_list.append(item[:4])\n",
    "        month_list.append(item[5:7])\n",
    "        day_list.append(item[8:10])\n",
    "        hour_list.append(item[11:13])\n",
    "    return year_list, month_list, day_list, hour_list\n",
    "\n",
    "def season_sort(month_list):\n",
    "    '''Converts month information to season information'''\n",
    "    season_list = []\n",
    "    for item in month_list:\n",
    "        item = int(item)\n",
    "        if item == 12 or item == 1 or item == 2:\n",
    "            season_list.append('winter')\n",
    "        elif item >=3 and item <=5:\n",
    "            season_list.append('spring')\n",
    "        elif item >= 6 and item <= 8:\n",
    "            season_list.append('summer')\n",
    "        elif item >= 9 and item <= 11:\n",
    "            season_list.append('fall')\n",
    "    return season_list"
   ]
  },
  {
   "cell_type": "code",
   "execution_count": 354,
   "metadata": {
    "collapsed": true
   },
   "outputs": [],
   "source": [
    "'''Year and Month information extraction'''\n",
    "year_list, month_list, day_list, hour_list = datetime_str_converter(data_train)\n",
    "date_list = []\n",
    "for year, month in zip(year_list, month_list):\n",
    "    date_list.append(int(year + month))\n",
    "\n",
    "#Data를 년, 월, 일, 시간 그리고 년 + 월 합친 데이터로 변환 in train\n",
    "data_train['Date'] = date_list\n",
    "data_train['OutcomeYear'], data_train['OutcomeMonth'] = year_list, month_list\n",
    "data_train['OutcomeDay'], data_train['OutcomeHour'] = day_list, hour_list\n",
    "\n",
    "\n",
    "\n",
    "#계절 데이터 형성 in train\n",
    "season_list = season_sort(month_list)\n",
    "data_train['OutcomeSeason'] = season_list\n"
   ]
  },
  {
   "cell_type": "code",
   "execution_count": 197,
   "metadata": {},
   "outputs": [
    {
     "data": {
      "text/html": [
       "<div>\n",
       "<style>\n",
       "    .dataframe thead tr:only-child th {\n",
       "        text-align: right;\n",
       "    }\n",
       "\n",
       "    .dataframe thead th {\n",
       "        text-align: left;\n",
       "    }\n",
       "\n",
       "    .dataframe tbody tr th {\n",
       "        vertical-align: top;\n",
       "    }\n",
       "</style>\n",
       "<table border=\"1\" class=\"dataframe\">\n",
       "  <thead>\n",
       "    <tr style=\"text-align: right;\">\n",
       "      <th></th>\n",
       "      <th>AnimalID</th>\n",
       "      <th>Name</th>\n",
       "      <th>DateTime</th>\n",
       "      <th>OutcomeType</th>\n",
       "      <th>OutcomeSubtype</th>\n",
       "      <th>AnimalType</th>\n",
       "      <th>SexuponOutcome</th>\n",
       "      <th>AgeuponOutcome</th>\n",
       "      <th>Breed</th>\n",
       "      <th>Color</th>\n",
       "      <th>Date</th>\n",
       "      <th>OutcomeYear</th>\n",
       "      <th>OutcomeMonth</th>\n",
       "      <th>OutcomeDay</th>\n",
       "      <th>OutcomeHour</th>\n",
       "      <th>OutcomeSeason</th>\n",
       "    </tr>\n",
       "  </thead>\n",
       "  <tbody>\n",
       "    <tr>\n",
       "      <th>26724</th>\n",
       "      <td>A702446</td>\n",
       "      <td>No Name</td>\n",
       "      <td>2015-05-14 11:56:00</td>\n",
       "      <td>Transfer</td>\n",
       "      <td>Partner</td>\n",
       "      <td>Cat</td>\n",
       "      <td>Intact Male</td>\n",
       "      <td>1 month</td>\n",
       "      <td>Domestic Shorthair Mix</td>\n",
       "      <td>Brown Tabby/White</td>\n",
       "      <td>201505</td>\n",
       "      <td>2015</td>\n",
       "      <td>05</td>\n",
       "      <td>14</td>\n",
       "      <td>11</td>\n",
       "      <td>spring</td>\n",
       "    </tr>\n",
       "    <tr>\n",
       "      <th>26725</th>\n",
       "      <td>A718934</td>\n",
       "      <td>No Name</td>\n",
       "      <td>2016-01-20 18:59:00</td>\n",
       "      <td>Transfer</td>\n",
       "      <td>SCRP</td>\n",
       "      <td>Cat</td>\n",
       "      <td>Spayed Female</td>\n",
       "      <td>3 months</td>\n",
       "      <td>Domestic Shorthair Mix</td>\n",
       "      <td>Brown Tabby</td>\n",
       "      <td>201601</td>\n",
       "      <td>2016</td>\n",
       "      <td>01</td>\n",
       "      <td>20</td>\n",
       "      <td>18</td>\n",
       "      <td>winter</td>\n",
       "    </tr>\n",
       "    <tr>\n",
       "      <th>26726</th>\n",
       "      <td>A698128</td>\n",
       "      <td>Name</td>\n",
       "      <td>2015-03-09 13:33:00</td>\n",
       "      <td>Adoption</td>\n",
       "      <td>NaN</td>\n",
       "      <td>Dog</td>\n",
       "      <td>Neutered Male</td>\n",
       "      <td>4 years</td>\n",
       "      <td>Old English Bulldog Mix</td>\n",
       "      <td>White/Tan</td>\n",
       "      <td>201503</td>\n",
       "      <td>2015</td>\n",
       "      <td>03</td>\n",
       "      <td>09</td>\n",
       "      <td>13</td>\n",
       "      <td>spring</td>\n",
       "    </tr>\n",
       "    <tr>\n",
       "      <th>26727</th>\n",
       "      <td>A677478</td>\n",
       "      <td>No Name</td>\n",
       "      <td>2014-04-27 12:22:00</td>\n",
       "      <td>Transfer</td>\n",
       "      <td>Partner</td>\n",
       "      <td>Cat</td>\n",
       "      <td>Intact Male</td>\n",
       "      <td>4 weeks</td>\n",
       "      <td>Domestic Shorthair Mix</td>\n",
       "      <td>Black</td>\n",
       "      <td>201404</td>\n",
       "      <td>2014</td>\n",
       "      <td>04</td>\n",
       "      <td>27</td>\n",
       "      <td>12</td>\n",
       "      <td>spring</td>\n",
       "    </tr>\n",
       "    <tr>\n",
       "      <th>26728</th>\n",
       "      <td>A706629</td>\n",
       "      <td>No Name</td>\n",
       "      <td>2015-07-02 09:00:00</td>\n",
       "      <td>Transfer</td>\n",
       "      <td>SCRP</td>\n",
       "      <td>Cat</td>\n",
       "      <td>Intact Male</td>\n",
       "      <td>1 year</td>\n",
       "      <td>Domestic Shorthair Mix</td>\n",
       "      <td>Brown Tabby/White</td>\n",
       "      <td>201507</td>\n",
       "      <td>2015</td>\n",
       "      <td>07</td>\n",
       "      <td>02</td>\n",
       "      <td>09</td>\n",
       "      <td>summer</td>\n",
       "    </tr>\n",
       "  </tbody>\n",
       "</table>\n",
       "</div>"
      ],
      "text/plain": [
       "      AnimalID     Name             DateTime OutcomeType OutcomeSubtype  \\\n",
       "26724  A702446  No Name  2015-05-14 11:56:00    Transfer        Partner   \n",
       "26725  A718934  No Name  2016-01-20 18:59:00    Transfer           SCRP   \n",
       "26726  A698128     Name  2015-03-09 13:33:00    Adoption            NaN   \n",
       "26727  A677478  No Name  2014-04-27 12:22:00    Transfer        Partner   \n",
       "26728  A706629  No Name  2015-07-02 09:00:00    Transfer           SCRP   \n",
       "\n",
       "      AnimalType SexuponOutcome AgeuponOutcome                    Breed  \\\n",
       "26724        Cat    Intact Male        1 month   Domestic Shorthair Mix   \n",
       "26725        Cat  Spayed Female       3 months   Domestic Shorthair Mix   \n",
       "26726        Dog  Neutered Male        4 years  Old English Bulldog Mix   \n",
       "26727        Cat    Intact Male        4 weeks   Domestic Shorthair Mix   \n",
       "26728        Cat    Intact Male         1 year   Domestic Shorthair Mix   \n",
       "\n",
       "                   Color    Date OutcomeYear OutcomeMonth OutcomeDay  \\\n",
       "26724  Brown Tabby/White  201505        2015           05         14   \n",
       "26725        Brown Tabby  201601        2016           01         20   \n",
       "26726          White/Tan  201503        2015           03         09   \n",
       "26727              Black  201404        2014           04         27   \n",
       "26728  Brown Tabby/White  201507        2015           07         02   \n",
       "\n",
       "      OutcomeHour OutcomeSeason  \n",
       "26724          11        spring  \n",
       "26725          18        winter  \n",
       "26726          13        spring  \n",
       "26727          12        spring  \n",
       "26728          09        summer  "
      ]
     },
     "execution_count": 197,
     "metadata": {},
     "output_type": "execute_result"
    }
   ],
   "source": [
    "#Data 확인\n",
    "data_train.tail()"
   ]
  },
  {
   "cell_type": "code",
   "execution_count": 198,
   "metadata": {},
   "outputs": [
    {
     "data": {
      "image/png": "[encoded data removed]",
      "text/plain": [
       "<matplotlib.figure.Figure at 0x10df45358>"
      ]
     },
     "metadata": {},
     "output_type": "display_data"
    }
   ],
   "source": [
    "#날짜와 결과값 관계 그래프\n",
    "fig, ax = plt.subplots(figsize=(15, 7))\n",
    "ax = sns.countplot(x = 'Date', hue = 'OutcomeType', data = data_train)\n",
    "ax.set_xticklabels(ax.get_xticklabels(), rotation=40, ha=\"right\")\n",
    "plt.show()"
   ]
  },
  {
   "cell_type": "markdown",
   "metadata": {},
   "source": [
    "#### 보기 매우 피곤한 그래프이기 때문에 위 Reference에서 나온 factorplot 이용하여 새로운 plot형성"
   ]
  },
  {
   "cell_type": "code",
   "execution_count": 199,
   "metadata": {},
   "outputs": [
    {
     "data": {
      "text/plain": [
       "<matplotlib.figure.Figure at 0x1c1e163a20>"
      ]
     },
     "metadata": {},
     "output_type": "display_data"
    },
    {
     "data": {
      "image/png": "[encoded data removed]",
      "text/plain": [
       "<matplotlib.figure.Figure at 0x1c1e1637b8>"
      ]
     },
     "metadata": {},
     "output_type": "display_data"
    }
   ],
   "source": [
    "plt.figure(figsize=(20,20))\n",
    "ax2 = sns.factorplot(x = 'Date', col = 'OutcomeType', data = data_train, kind = 'count')\n",
    "ax2.set_xticklabels(ax.get_xticklabels(), rotation=90, ha=\"right\")\n",
    "plt.show()"
   ]
  },
  {
   "cell_type": "code",
   "execution_count": 200,
   "metadata": {},
   "outputs": [
    {
     "data": {
      "image/png": "[encoded data removed]",
      "text/plain": [
       "<matplotlib.figure.Figure at 0x1c1aed20f0>"
      ]
     },
     "metadata": {},
     "output_type": "display_data"
    }
   ],
   "source": [
    "#계절별 OutcomeType 관계 그래프\n",
    "sns.factorplot(x = 'OutcomeSeason', hue = 'OutcomeYear', col = 'OutcomeType', data = data_train, kind = 'count')\n",
    "plt.show()"
   ]
  },
  {
   "cell_type": "markdown",
   "metadata": {
    "collapsed": true
   },
   "source": [
    "분석을 위해 data_combined 에도 변수변환작업"
   ]
  },
  {
   "cell_type": "code",
   "execution_count": 355,
   "metadata": {
    "collapsed": true
   },
   "outputs": [],
   "source": [
    "def datetime_str_converter(data_combined):\n",
    "    '''This method converts the datetime input into year and month in\n",
    "    string format. The below method is identical except it returns numerical\n",
    "    value. The string format is used for graphing with countplot'''\n",
    "    datetime = list(data_combined['DateTime'])\n",
    "    year_list, month_list, day_list, hour_list = [], [], [], []\n",
    "    for item in datetime:\n",
    "        year_list.append(item[:4])\n",
    "        month_list.append(item[5:7])\n",
    "        day_list.append(item[8:10])\n",
    "        hour_list.append(item[11:13])\n",
    "    return year_list, month_list, day_list, hour_list\n",
    "\n",
    "def season_sort(month_list):\n",
    "    '''Converts month information to season information'''\n",
    "    season_list = []\n",
    "    for item in month_list:\n",
    "        item = int(item)\n",
    "        if item == 12 or item == 1 or item == 2:\n",
    "            season_list.append('winter')\n",
    "        elif item >=3 and item <=5:\n",
    "            season_list.append('spring')\n",
    "        elif item >= 6 and item <= 8:\n",
    "            season_list.append('summer')\n",
    "        elif item >= 9 and item <= 11:\n",
    "            season_list.append('fall')\n",
    "    return season_list"
   ]
  },
  {
   "cell_type": "code",
   "execution_count": 356,
   "metadata": {
    "collapsed": true
   },
   "outputs": [],
   "source": [
    "'''Year and Month information extraction'''\n",
    "year_list, month_list, day_list, hour_list = datetime_str_converter(data_combined)\n",
    "date_list = []\n",
    "for year, month in zip(year_list, month_list):\n",
    "    date_list.append(int(year + month))\n",
    "\n",
    "#Data를 년, 월, 일, 시간 그리고 년 + 월 합친 데이터로 변환\n",
    "data_combined['Date'] = date_list\n",
    "data_combined['OutcomeYear'], data_combined['OutcomeMonth'] = year_list, month_list\n",
    "data_combined['OutcomeDay'], data_combined['OutcomeHour'] = day_list, hour_list\n",
    "\n",
    "#계절 데이터 형성\n",
    "season_list = season_sort(month_list)\n",
    "data_combined['OutcomeSeason'] = season_list"
   ]
  },
  {
   "cell_type": "code",
   "execution_count": null,
   "metadata": {
    "collapsed": true
   },
   "outputs": [],
   "source": []
  },
  {
   "cell_type": "markdown",
   "metadata": {},
   "source": [
    "### 3. Animal Type"
   ]
  },
  {
   "cell_type": "code",
   "execution_count": 201,
   "metadata": {},
   "outputs": [
    {
     "data": {
      "image/png": "[encoded data removed]",
      "text/plain": [
       "<matplotlib.figure.Figure at 0x1c1cd1c710>"
      ]
     },
     "metadata": {},
     "output_type": "display_data"
    }
   ],
   "source": [
    "sns.countplot(data_train.AnimalType, palette='Set3')\n",
    "sns.countplot(data=data_train, x='AnimalType',hue='OutcomeType')\n",
    "plt.show()"
   ]
  },
  {
   "cell_type": "markdown",
   "metadata": {},
   "source": [
    "#### 주인이 다시 찾아가는 비율은 개가 고양이에 비해서 압도적으로 높다."
   ]
  },
  {
   "cell_type": "code",
   "execution_count": null,
   "metadata": {
    "collapsed": true
   },
   "outputs": [],
   "source": []
  },
  {
   "cell_type": "markdown",
   "metadata": {},
   "source": [
    "### 4. SexuponOutcome"
   ]
  },
  {
   "cell_type": "code",
   "execution_count": 202,
   "metadata": {},
   "outputs": [
    {
     "data": {
      "image/png": "[encoded data removed]",
      "text/plain": [
       "<matplotlib.figure.Figure at 0x1c191f29e8>"
      ]
     },
     "metadata": {},
     "output_type": "display_data"
    }
   ],
   "source": [
    "sns.countplot(data_train.SexuponOutcome, palette='Set3')\n",
    "sns.countplot(data=data_train, x='SexuponOutcome',hue='OutcomeType')\n",
    "plt.show()"
   ]
  },
  {
   "cell_type": "markdown",
   "metadata": {},
   "source": [
    "#### 중성화 수술이 된 쪽이 자연상태인 쪽보다 주인이 찾아가는 비율과 입양되는 비율이 압도적으로 높았다. \n",
    "#### 자연상태의 개와 고양이는 이관되는 비율이 압도적으로 높다."
   ]
  },
  {
   "cell_type": "code",
   "execution_count": 384,
   "metadata": {},
   "outputs": [
    {
     "data": {
      "text/plain": [
       "array(['Neutered Male', 'Spayed Female', 'Intact Male', 'Intact Female',\n",
       "       'Unknown'], dtype=object)"
      ]
     },
     "execution_count": 384,
     "metadata": {},
     "output_type": "execute_result"
    }
   ],
   "source": [
    "#SexuponOutcome은 그냥 Unknown\n",
    "data_combined['SexuponOutcome'].fillna('Unknown', inplace = True)\n",
    "data_combined['SexuponOutcome'].unique()"
   ]
  },
  {
   "cell_type": "code",
   "execution_count": null,
   "metadata": {
    "collapsed": true
   },
   "outputs": [],
   "source": []
  },
  {
   "cell_type": "code",
   "execution_count": null,
   "metadata": {
    "collapsed": true
   },
   "outputs": [],
   "source": []
  },
  {
   "cell_type": "markdown",
   "metadata": {},
   "source": [
    "### 5. AgeuponOutcome"
   ]
  },
  {
   "cell_type": "code",
   "execution_count": 363,
   "metadata": {},
   "outputs": [
    {
     "data": {
      "image/png": "[encoded data removed]",
      "text/plain": [
       "<matplotlib.figure.Figure at 0x1c4b7995c0>"
      ]
     },
     "metadata": {},
     "output_type": "display_data"
    }
   ],
   "source": [
    "sns.countplot(data_train.AgeuponOutcome, palette='Set3')\n",
    "plt.show()"
   ]
  },
  {
   "cell_type": "markdown",
   "metadata": {},
   "source": [
    "### 너무 세분화 되어 있어서 보기 어렵다. 단순화작업 진행"
   ]
  },
  {
   "cell_type": "code",
   "execution_count": 364,
   "metadata": {
    "collapsed": true
   },
   "outputs": [],
   "source": [
    "def calc_age_in_years(x):\n",
    "    x = str(x)\n",
    "    if x == 'nan': return 0\n",
    "    age = int(x.split()[0])\n",
    "    if x.find('year') > -1: return age \n",
    "    if x.find('month')> -1: return age / 12.\n",
    "    if x.find('week')> -1: return age / 52.\n",
    "    if x.find('day')> -1: return age / 365.\n",
    "    else: return 0"
   ]
  },
  {
   "cell_type": "code",
   "execution_count": 365,
   "metadata": {},
   "outputs": [
    {
     "data": {
      "image/png": "[encoded data removed]",
      "text/plain": [
       "<matplotlib.figure.Figure at 0x1c4ba8ffd0>"
      ]
     },
     "metadata": {},
     "output_type": "display_data"
    }
   ],
   "source": [
    "\n",
    "data_train1 = data_train.copy()\n",
    "data_train1['AgeuponOutcomeInYears'] = data_train1.AgeuponOutcome.apply(calc_age_in_years)\n",
    "sns.distplot(data_train1.AgeuponOutcomeInYears, bins = 20, kde=False)\n",
    "plt.show()"
   ]
  },
  {
   "cell_type": "code",
   "execution_count": 366,
   "metadata": {
    "collapsed": true
   },
   "outputs": [],
   "source": [
    "def calc_age_category(x):\n",
    "    if x < 3: return 'young'\n",
    "    if x < 5: return 'young adult'\n",
    "    if x < 10: return 'adult'\n",
    "    return 'old'\n",
    "data_train1['AgeCategory'] = data_train1.AgeuponOutcomeInYears.apply(calc_age_category)"
   ]
  },
  {
   "cell_type": "code",
   "execution_count": 367,
   "metadata": {},
   "outputs": [
    {
     "data": {
      "image/png": "[encoded data removed]",
      "text/plain": [
       "<matplotlib.figure.Figure at 0x1c20757e48>"
      ]
     },
     "metadata": {},
     "output_type": "display_data"
    }
   ],
   "source": [
    "sns.countplot(data=data_train1, x='AgeCategory',hue='OutcomeType')\n",
    "plt.show()"
   ]
  },
  {
   "cell_type": "markdown",
   "metadata": {},
   "source": [
    "#### 3세 미만의 어린 개와 고양이가 입양 및 이관비율이 다른 연령대에 비해 압도적으로 높다. \n",
    "#### 10세 이상은 주인에게 돌아가는 비율이 다른 연령대에 비해 상대적으로 높다. \n",
    "* Modeling 시에는 one-hot-encoding 없이 바로 사용할 수 있도록 day를 기준으로 변환하여 사용"
   ]
  },
  {
   "cell_type": "code",
   "execution_count": 377,
   "metadata": {
    "collapsed": true
   },
   "outputs": [],
   "source": [
    "def convert_Age(data_train):\n",
    "    '''Reference: https://stackoverflow.com/questions/12851791/removing-numbers-from-string'''\n",
    "    '''This function convert all the time into unit of day'''\n",
    "    age_list = list(data_train['AgeuponOutcome'])\n",
    "    age_day_compile = []\n",
    "    for item in age_list:\n",
    "        if type(item) != str:\n",
    "            age_day_compile.append(item)\n",
    "        else:\n",
    "            numeric = int(item[:2])\n",
    "            if 'year' in item:\n",
    "                age_day_compile.append(numeric * 365)\n",
    "            elif 'month' in item:\n",
    "                age_day_compile.append(numeric * 30)\n",
    "            elif 'week' in item:\n",
    "                age_day_compile.append(numeric * 7)\n",
    "            elif 'day' in item:\n",
    "                age_day_compile.append(numeric)\n",
    "    return age_day_compile "
   ]
  },
  {
   "cell_type": "code",
   "execution_count": 378,
   "metadata": {},
   "outputs": [
    {
     "name": "stdout",
     "output_type": "stream",
     "text": [
      "[]\n"
     ]
    },
    {
     "data": {
      "text/plain": [
       "'This list contains year(s), month(s), week(s), day(s)'"
      ]
     },
     "execution_count": 378,
     "metadata": {},
     "output_type": "execute_result"
    }
   ],
   "source": [
    "'''This section of the code is to check the unique string values that are present in the AgeuponOutcome column'''\n",
    "age_list_compile = []\n",
    "age_outcome_list = list(data_train['AgeuponOutcome'])\n",
    "for item in age_outcome_list:\n",
    "    if type(item) != str:\n",
    "        '''This condition is to account for NaN values'''\n",
    "        continue\n",
    "    result = ''.join(i for i in item if not i.isdigit())\n",
    "    age_list_compile.append(result)\n",
    "'''We can check unique string values in the column'''\n",
    "age_list_unique = list(pd.Series(age_list_compile).unique())\n",
    "print(age_list_unique)\n",
    "'''This list contains year(s), month(s), week(s), day(s)'''"
   ]
  },
  {
   "cell_type": "code",
   "execution_count": 379,
   "metadata": {
    "collapsed": true
   },
   "outputs": [],
   "source": [
    "age_day_compile = convert_Age(data_train)\n",
    "data_train['AgeuponOutcome'] = age_day_compile"
   ]
  },
  {
   "cell_type": "code",
   "execution_count": 380,
   "metadata": {
    "collapsed": true
   },
   "outputs": [],
   "source": [
    "# age_list_unique 확인 결과 year, years, month, months, week, weeks, day, days의 유니크한 값을 가짐. 나이관련 변수 단위를 day로 통일\n",
    "\n",
    "def convert_Age(data_combined):\n",
    "    '''Reference: https://stackoverflow.com/questions/12851791/removing-numbers-from-string'''\n",
    "    '''This function convert all the time into unit of day'''\n",
    "    age_list = list(data_combined['AgeuponOutcome'])\n",
    "    age_day_compile = []\n",
    "    for item in age_list:\n",
    "        if type(item) != str:\n",
    "            age_day_compile.append(item)\n",
    "        else:\n",
    "            numeric = int(item[:2])\n",
    "            if 'year' in item:\n",
    "                age_day_compile.append(numeric * 365)\n",
    "            elif 'month' in item:\n",
    "                age_day_compile.append(numeric * 30)\n",
    "            elif 'week' in item:\n",
    "                age_day_compile.append(numeric * 7)\n",
    "            elif 'day' in item:\n",
    "                age_day_compile.append(numeric)\n",
    "    return age_day_compile "
   ]
  },
  {
   "cell_type": "code",
   "execution_count": 381,
   "metadata": {
    "collapsed": true
   },
   "outputs": [],
   "source": [
    "age_day_compile = convert_Age(data_combined)\n",
    "data_combined['AgeuponOutcome'] = age_day_compile"
   ]
  },
  {
   "cell_type": "code",
   "execution_count": 382,
   "metadata": {},
   "outputs": [
    {
     "data": {
      "text/html": [
       "<div>\n",
       "<style>\n",
       "    .dataframe thead tr:only-child th {\n",
       "        text-align: right;\n",
       "    }\n",
       "\n",
       "    .dataframe thead th {\n",
       "        text-align: left;\n",
       "    }\n",
       "\n",
       "    .dataframe tbody tr th {\n",
       "        vertical-align: top;\n",
       "    }\n",
       "</style>\n",
       "<table border=\"1\" class=\"dataframe\">\n",
       "  <thead>\n",
       "    <tr style=\"text-align: right;\">\n",
       "      <th></th>\n",
       "      <th>AnimalID</th>\n",
       "      <th>Name</th>\n",
       "      <th>DateTime</th>\n",
       "      <th>AnimalType</th>\n",
       "      <th>SexuponOutcome</th>\n",
       "      <th>AgeuponOutcome</th>\n",
       "      <th>Breed</th>\n",
       "      <th>Color</th>\n",
       "      <th>Date</th>\n",
       "      <th>OutcomeYear</th>\n",
       "      <th>OutcomeMonth</th>\n",
       "      <th>OutcomeDay</th>\n",
       "      <th>OutcomeHour</th>\n",
       "      <th>OutcomeSeason</th>\n",
       "    </tr>\n",
       "  </thead>\n",
       "  <tbody>\n",
       "    <tr>\n",
       "      <th>11451</th>\n",
       "      <td>11452</td>\n",
       "      <td>No Name</td>\n",
       "      <td>2014-07-08 14:50</td>\n",
       "      <td>Cat</td>\n",
       "      <td>Neutered Male</td>\n",
       "      <td>60.0</td>\n",
       "      <td>Domestic Shorthair Mix</td>\n",
       "      <td>Black</td>\n",
       "      <td>201407</td>\n",
       "      <td>2014</td>\n",
       "      <td>07</td>\n",
       "      <td>08</td>\n",
       "      <td>14</td>\n",
       "      <td>summer</td>\n",
       "    </tr>\n",
       "    <tr>\n",
       "      <th>11452</th>\n",
       "      <td>11453</td>\n",
       "      <td>No Name</td>\n",
       "      <td>2014-10-21 12:57</td>\n",
       "      <td>Cat</td>\n",
       "      <td>Intact Female</td>\n",
       "      <td>14.0</td>\n",
       "      <td>Domestic Shorthair Mix</td>\n",
       "      <td>Blue</td>\n",
       "      <td>201410</td>\n",
       "      <td>2014</td>\n",
       "      <td>10</td>\n",
       "      <td>21</td>\n",
       "      <td>12</td>\n",
       "      <td>fall</td>\n",
       "    </tr>\n",
       "    <tr>\n",
       "      <th>11453</th>\n",
       "      <td>11454</td>\n",
       "      <td>No Name</td>\n",
       "      <td>2014-09-29 9:00</td>\n",
       "      <td>Cat</td>\n",
       "      <td>Intact Female</td>\n",
       "      <td>365.0</td>\n",
       "      <td>Domestic Shorthair Mix</td>\n",
       "      <td>Calico</td>\n",
       "      <td>201409</td>\n",
       "      <td>2014</td>\n",
       "      <td>09</td>\n",
       "      <td>29</td>\n",
       "      <td>9:</td>\n",
       "      <td>fall</td>\n",
       "    </tr>\n",
       "    <tr>\n",
       "      <th>11454</th>\n",
       "      <td>11455</td>\n",
       "      <td>Name</td>\n",
       "      <td>2015-09-05 17:16</td>\n",
       "      <td>Dog</td>\n",
       "      <td>Neutered Male</td>\n",
       "      <td>2190.0</td>\n",
       "      <td>German Shepherd Mix</td>\n",
       "      <td>Black/Tan</td>\n",
       "      <td>201509</td>\n",
       "      <td>2015</td>\n",
       "      <td>09</td>\n",
       "      <td>05</td>\n",
       "      <td>17</td>\n",
       "      <td>fall</td>\n",
       "    </tr>\n",
       "    <tr>\n",
       "      <th>11455</th>\n",
       "      <td>11456</td>\n",
       "      <td>Name</td>\n",
       "      <td>2014-07-12 18:40</td>\n",
       "      <td>Dog</td>\n",
       "      <td>Intact Male</td>\n",
       "      <td>1460.0</td>\n",
       "      <td>Labrador Retriever</td>\n",
       "      <td>Cream</td>\n",
       "      <td>201407</td>\n",
       "      <td>2014</td>\n",
       "      <td>07</td>\n",
       "      <td>12</td>\n",
       "      <td>18</td>\n",
       "      <td>summer</td>\n",
       "    </tr>\n",
       "  </tbody>\n",
       "</table>\n",
       "</div>"
      ],
      "text/plain": [
       "      AnimalID     Name          DateTime AnimalType SexuponOutcome  \\\n",
       "11451    11452  No Name  2014-07-08 14:50        Cat  Neutered Male   \n",
       "11452    11453  No Name  2014-10-21 12:57        Cat  Intact Female   \n",
       "11453    11454  No Name   2014-09-29 9:00        Cat  Intact Female   \n",
       "11454    11455     Name  2015-09-05 17:16        Dog  Neutered Male   \n",
       "11455    11456     Name  2014-07-12 18:40        Dog    Intact Male   \n",
       "\n",
       "       AgeuponOutcome                   Breed      Color    Date OutcomeYear  \\\n",
       "11451            60.0  Domestic Shorthair Mix      Black  201407        2014   \n",
       "11452            14.0  Domestic Shorthair Mix       Blue  201410        2014   \n",
       "11453           365.0  Domestic Shorthair Mix     Calico  201409        2014   \n",
       "11454          2190.0     German Shepherd Mix  Black/Tan  201509        2015   \n",
       "11455          1460.0      Labrador Retriever      Cream  201407        2014   \n",
       "\n",
       "      OutcomeMonth OutcomeDay OutcomeHour OutcomeSeason  \n",
       "11451           07         08          14        summer  \n",
       "11452           10         21          12          fall  \n",
       "11453           09         29          9:          fall  \n",
       "11454           09         05          17          fall  \n",
       "11455           07         12          18        summer  "
      ]
     },
     "execution_count": 382,
     "metadata": {},
     "output_type": "execute_result"
    }
   ],
   "source": [
    "data_combined.tail()"
   ]
  },
  {
   "cell_type": "code",
   "execution_count": 385,
   "metadata": {},
   "outputs": [
    {
     "data": {
      "text/plain": [
       "365.0"
      ]
     },
     "execution_count": 385,
     "metadata": {},
     "output_type": "execute_result"
    }
   ],
   "source": [
    "#AgeuponOutcome의 경우 전체 데이터의 median값으로 대체\n",
    "age_median = data_combined['AgeuponOutcome'].median()\n",
    "age_median"
   ]
  },
  {
   "cell_type": "code",
   "execution_count": 386,
   "metadata": {},
   "outputs": [
    {
     "data": {
      "text/plain": [
       "0"
      ]
     },
     "execution_count": 386,
     "metadata": {},
     "output_type": "execute_result"
    }
   ],
   "source": [
    "data_combined['AgeuponOutcome'].fillna(age_median, inplace = True)\n",
    "data_combined['AgeuponOutcome'].isnull().sum()"
   ]
  },
  {
   "cell_type": "code",
   "execution_count": null,
   "metadata": {
    "collapsed": true
   },
   "outputs": [],
   "source": []
  },
  {
   "cell_type": "markdown",
   "metadata": {},
   "source": [
    "### 6. Breed"
   ]
  },
  {
   "cell_type": "code",
   "execution_count": 212,
   "metadata": {},
   "outputs": [
    {
     "data": {
      "text/plain": [
       "1380"
      ]
     },
     "execution_count": 212,
     "metadata": {},
     "output_type": "execute_result"
    }
   ],
   "source": [
    "# Breed 안에 있는 unique 갯수\n",
    "data_train.Breed.nunique()"
   ]
  },
  {
   "cell_type": "code",
   "execution_count": 213,
   "metadata": {
    "collapsed": true
   },
   "outputs": [
    {
     "data": {
      "text/plain": [
       "Domestic Shorthair Mix                    8810\n",
       "Pit Bull Mix                              1906\n",
       "Chihuahua Shorthair Mix                   1766\n",
       "Labrador Retriever Mix                    1363\n",
       "Domestic Medium Hair Mix                   839\n",
       "German Shepherd Mix                        575\n",
       "Domestic Longhair Mix                      520\n",
       "Siamese Mix                                389\n",
       "Australian Cattle Dog Mix                  367\n",
       "Dachshund Mix                              318\n",
       "Boxer Mix                                  245\n",
       "Miniature Poodle Mix                       233\n",
       "Border Collie Mix                          229\n",
       "Australian Shepherd Mix                    163\n",
       "Rat Terrier Mix                            157\n",
       "Catahoula Mix                              157\n",
       "Jack Russell Terrier Mix                   146\n",
       "Domestic Shorthair                         143\n",
       "Yorkshire Terrier Mix                      143\n",
       "Chihuahua Longhair Mix                     142\n",
       "                                          ... \n",
       "Flat Coat Retriever/German Shepherd          1\n",
       "Miniature Schnauzer/Labrador Retriever       1\n",
       "Glen Of Imaal/Ibizan Hound                   1\n",
       "Papillon                                     1\n",
       "Border Terrier/Labrador Retriever            1\n",
       "Shetland Sheepdog/Dachshund Longhair         1\n",
       "Dachshund/German Pinscher                    1\n",
       "German Shepherd/Bull Terrier                 1\n",
       "Silky Terrier/Yorkshire Terrier              1\n",
       "English Cocker Spaniel Mix                   1\n",
       "British Shorthair                            1\n",
       "Pomeranian/Border Terrier                    1\n",
       "Chihuahua Shorthair/Shih Tzu                 1\n",
       "Queensland Heeler                            1\n",
       "Norwich Terrier/Pug                          1\n",
       "Australian Shepherd/Beagle                   1\n",
       "Chinese Sharpei/Airedale Terrier             1\n",
       "Lhasa Apso/Pbgv                              1\n",
       "Welsh Springer Spaniel Mix                   1\n",
       "Rhod Ridgeback/Plott Hound                   1\n",
       "Name: Breed, Length: 1380, dtype: int64"
      ]
     },
     "execution_count": 213,
     "metadata": {},
     "output_type": "execute_result"
    }
   ],
   "source": [
    "# Breed 안에 있는 values\n",
    "data_train['Breed'].value_counts()"
   ]
  },
  {
   "cell_type": "code",
   "execution_count": 214,
   "metadata": {
    "collapsed": true
   },
   "outputs": [],
   "source": [
    "## 개 순종/잡종 분류\n",
    "\n",
    "def dog_breed_category(data_train):\n",
    "    '''This function converts the breed into pure mix, mix or pure'''\n",
    "    breed_df = data_train[['OutcomeType', 'AnimalType', 'Breed']]\n",
    "    breed_df_dog = breed_df[breed_df.AnimalType == 'Dog'].reset_index()\n",
    "    breed_list = list(breed_df_dog['Breed'])\n",
    "    breed_compile = []\n",
    "    for item in breed_list:\n",
    "        item = item.lower()\n",
    "        if 'mix' in item:\n",
    "            breed_compile.append('pure mix')\n",
    "        elif '/' in item:\n",
    "            breed_compile.append('mix')\n",
    "        else:\n",
    "            breed_compile.append('pure')\n",
    "    breed_df_dog['Breed_dog'] = breed_compile\n",
    "    return breed_df_dog"
   ]
  },
  {
   "cell_type": "code",
   "execution_count": 215,
   "metadata": {
    "collapsed": true
   },
   "outputs": [],
   "source": [
    "breed_df_dog = dog_breed_category(data_train)"
   ]
  },
  {
   "cell_type": "code",
   "execution_count": 216,
   "metadata": {},
   "outputs": [
    {
     "data": {
      "image/png": "[encoded data removed]",
      "text/plain": [
       "<matplotlib.figure.Figure at 0x1c1aa41358>"
      ]
     },
     "metadata": {},
     "output_type": "display_data"
    }
   ],
   "source": [
    "#순종/잡종 개와 OutcomeType 관계 그래프\n",
    "sns.countplot(x = 'Breed_dog', hue = 'OutcomeType', data = breed_df_dog)\n",
    "plt.show()"
   ]
  },
  {
   "cell_type": "markdown",
   "metadata": {},
   "source": [
    "#### 순종견 (Pure)는 갯수가 많지 않기 때문에 Pure mix와 Pure는 같은 종으로 고려함 (타 Kaggle 분석에서도 이런식으로 진행한것 확인)"
   ]
  },
  {
   "cell_type": "markdown",
   "metadata": {},
   "source": [
    "### Breed의 Unique값 분석결과 1200종이 넘는것으로 확인됨. 이러한 data를 그래로 사용할 경우 Overfitting등의 문제가 있기 때문에 3가지 방법으로 접근할 예정\n",
    "  \n",
    "1) 순종 Breed에 관해서는 Size로 변환 -> 잡종일 경우 유전적 factor에 의해서 크기 예측이 쉽지 않음. 이 작업을 수작업으로 하기에는 너무 많은 시간이 소요가 되기 때문에 방법 탐색중 순종을 크기 별로 나눠놓은 웹사이트 발견 -> Crawling\n",
    "\n",
    "Mixed Breed Reference: http://www.vetstreet.com/our-pet-experts/can-you-predict-the-adult-size-of-a-mixed-breed-puppy\n",
    "\n",
    "Size Reference : http://www.dogbreedslist.info/herding-dog-breeds/#.WgfCyMZl-iN\n",
    "\n",
    "2) 또다른 방법은 Breed를 Main breed와 Sub breed열로 나눠서 분석\n",
    "\n",
    "3) 애완견의 선호도 랭킹 반영 : 다른 Kaggle 참가자에 따르면 애완견의 선호도 랭킹또한 예측 모델에 큰 영향을 준다는 정보 입수\n",
    "\n",
    "Ranking Reference: https://nishadikirielle.wordpress.com/2016/10/08/kaggle-competition-shelter-animal-problem-xgboost-approach/\n",
    "\n",
    "개는 2016년 기준으로 랭킹이 매겨져 있으며 고양이는 2014년 기준으로 랭킹이 존재함. 위 첨부자료에서는 2013, 2014, 2015년별 랭킹변화를 모두 인자로 채택했지만, 자세히 보면 랭킹에 큰 변동이 없는것으로 확인되었기 때문에 굳이 매년 선호도 점수를 쓸 필요성은 없는것으로 판단됨."
   ]
  },
  {
   "cell_type": "markdown",
   "metadata": {},
   "source": [
    "#### 1) Size별로 정리"
   ]
  },
  {
   "cell_type": "code",
   "execution_count": 357,
   "metadata": {
    "collapsed": true
   },
   "outputs": [],
   "source": [
    "# Size별 정보 Crawling by BeautifulSoup\n",
    "def crawler(url, selector):\n",
    "    '''This is one of the two functions used for crawlign cat/dog size'''\n",
    "    res = requests.get(url)\n",
    "    soup = BeautifulSoup(res.content, 'html.parser')\n",
    "    crawl_list = soup.select(selector)\n",
    "    compile_list = []\n",
    "    for breed in crawl_list:\n",
    "        compile_list.append(breed.get_text().lower())\n",
    "    return compile_list\n",
    "\n",
    "def crawl_compiler(url_list, selector):\n",
    "    '''This is the second functions used for crawlign cat/dog size'''\n",
    "    list_compile = []\n",
    "    for url in url_list:\n",
    "        crawler_list = crawler(url, selector)\n",
    "        list_compile += crawler_list\n",
    "    return list_compile\n"
   ]
  },
  {
   "cell_type": "code",
   "execution_count": 358,
   "metadata": {
    "collapsed": true
   },
   "outputs": [],
   "source": [
    "'''This section is for crawling the dog size list'''\n",
    "\n",
    "'''Extract list of dogs for different sizes'''\n",
    "small_url_list = ['http://www.dogbreedslist.info/small-dog-breeds/list_2_1.html#.Wfx1Mmi0NPY', \n",
    "                'http://www.dogbreedslist.info/small-dog-breeds/list_2_2.html#.Wfx1Mmi0NPY', \n",
    "                'http://www.dogbreedslist.info/small-dog-breeds/list_2_3.html#.Wfx1Mmi0NPY', \n",
    "                'http://www.dogbreedslist.info/small-dog-breeds/list_2_4.html#.Wfx1Mmi0NPY', \n",
    "                'http://www.dogbreedslist.info/small-dog-breeds/list_2_5.html#.Wfx1Mmi0NPY',\n",
    "                'http://www.dogbreedslist.info/small-dog-breeds/list_2_6.html#.Wfx1Mmi0NPY']\n",
    "\n",
    "selector = 'body > div.main > div.main-r > div > div.list-01 > div.right > div.right-t > p > a'\n",
    "small_dog_compile = crawl_compiler(small_url_list, selector)\n",
    "\n",
    "medium_url_list = ['http://www.dogbreedslist.info/medium-dog-breeds/list_3_1.html#.Wfx3bmi0NPY',\n",
    "                   'http://www.dogbreedslist.info/medium-dog-breeds/list_3_2.html#.Wfx3bmi0NPY',\n",
    "                   'http://www.dogbreedslist.info/medium-dog-breeds/list_3_3.html#.Wfx3bmi0NPY', \n",
    "                   'http://www.dogbreedslist.info/medium-dog-breeds/list_3_4.html#.Wfx3bmi0NPY',\n",
    "                   'http://www.dogbreedslist.info/medium-dog-breeds/list_3_5.html#.Wfx3bmi0NPY',\n",
    "                   'http://www.dogbreedslist.info/medium-dog-breeds/list_3_6.html#.Wfx3bmi0NPY']\n",
    "\n",
    "selector = 'body > div.main > div.main-r > div > div.list-01 > div.right > div.right-t > p > a'\n",
    "medium_dog_compile = crawl_compiler(medium_url_list, selector) + ['treeing cur', 'treeing tennesse brindle']\n",
    "\n",
    "large_url_list = ['http://www.dogbreedslist.info/large-dog-breeds/list_4_1.html#.Wfx9nWi0NPY',\n",
    "                   'http://www.dogbreedslist.info/large-dog-breeds/list_4_2.html#.Wfx9nWi0NPY',\n",
    "                   'http://www.dogbreedslist.info/large-dog-breeds/list_4_3.html#.Wfx9nWi0NPY', \n",
    "                   'http://www.dogbreedslist.info/large-dog-breeds/list_4_4.html#.Wfx9nWi0NPY',\n",
    "                   'http://www.dogbreedslist.info/large-dog-breeds/list_4_5.html#.Wfx9nWi0NPY',\n",
    "                   'http://www.dogbreedslist.info/large-dog-breeds/list_4_6.html#.Wfx9nWi0NPY']\n",
    "\n",
    "selector = 'body > div.main > div.main-r > div > div.list-01 > div.right > div.right-t > p > a'\n",
    "large_dog_compile = crawl_compiler(large_url_list, selector) + ['schnauzer giant', 'olde english bulldogge']\n",
    "\n",
    "giant_url_list = ['http://www.dogbreedslist.info/giant-dog-breeds/list_5_1.html#.Wfx9nWi0NPY',]\n",
    "\n",
    "selector = 'body > div.main > div.main-r > div > div.list-01 > div.right > div.right-t > p > a'\n",
    "giant_dog_compile = crawl_compiler(giant_url_list, selector)"
   ]
  },
  {
   "cell_type": "code",
   "execution_count": 359,
   "metadata": {},
   "outputs": [
    {
     "name": "stdout",
     "output_type": "stream",
     "text": [
      "['labrador retriever', 'bulldog', 'poodle', 'boxer', 'siberian husky', 'australian shepherd', 'brittany', 'english springer spaniel', 'american cocker spaniel', 'vizsla', 'weimaraner', 'miniature american shepherd', 'border collie', 'basset hound', 'shiba inu', 'belgian malinois', 'soft coated wheaten terrier', 'portuguese water dog', 'australian cattle dog', 'airedale terrier', 'english cocker spaniel', 'bull terrier', 'whippet', 'shar-pei', 'german wirehaired pointer', 'samoyed', 'wirehaired pointing griffon', 'chow chow', 'american staffordshire terrier', 'staffordshire bull terrier', 'standard schnauzer', 'nova scotia duck tolling retriever', 'basenji', 'tibetan terrier', 'norwegian elkhound', 'wire fox terrier', 'belgian tervuren', 'boykin spaniel', 'lagotto romagnolo', 'pointer', 'american eskimo dog', 'welsh springer spaniel', 'bearded collie', 'kerry blue terrier', 'treeing walker coonhound', 'berger picard', 'redbone coonhound', 'clumber spaniel', 'german pinscher', 'field spaniel', 'irish water spaniel', 'icelandic sheepdog', 'american water spaniel', 'wirehaired vizsla', 'plott hound', 'puli', 'portuguese podengo pequeno', 'entlebucher mountain dog', 'spanish water dog', 'pharaoh hound', 'polish lowland sheepdog', 'american english coonhound', 'finnish lapphund', 'norwegian buhund', 'pyrenean shepherd', 'finnish spitz', 'canaan dog', 'cirneco dell’etna', 'harrier', 'english foxhound', 'africanis', 'aidi', 'alaskan klee kai', 'american pit bull terrier', 'american white shepherd', 'appenzeller sennenhund', 'ariegeois', 'australian bulldog', 'australian kelpie', 'australian stumpy tail cattle dog', 'austrian black and tan hound', 'austrian pinscher', 'barbet', 'bavarian mountain hound', 'belgian shepherd laekenois', 'black mouth cur', 'black norwegian elkhound', 'blue lacy', 'bohemian shepherd', 'bouvier des ardennes', 'braque du bourbonnais', 'briquet griffon vendeen', 'cão da serra de aires', 'carolina dog', 'catahoula bulldog', 'catahoula leopard dog', 'catalan sheepdog', 'cesky fousek', 'croatian sheepdog', 'deutsche bracke', 'dingo', 'drentse patrijshond', 'dunker', 'english shepherd', 'eurasier', 'fila brasileiro', 'finnish hound', 'french spaniel', 'polish hunting dog', 'grand basset griffon vendeen', 'griffon bleu de gascogne', 'hamilton hound', 'hokkaido dog', 'hovawart', 'jämthund', 'korean jindo', 'karelian bear dog', 'kishu ken', 'kooikerhondje', 'koolie', 'treeing cur', 'treeing tennesse brindle']\n"
     ]
    }
   ],
   "source": [
    "print(medium_dog_compile)"
   ]
  },
  {
   "cell_type": "code",
   "execution_count": 387,
   "metadata": {
    "collapsed": true
   },
   "outputs": [],
   "source": [
    "# 순종 Mix 와 순종을 같은 Breed로 설정\n",
    "\n",
    "def remove_mix(data_train):\n",
    "    '''This function removes the keyword mix from breed list. The result from\n",
    "    this method is used when converting breed into different categories'''\n",
    "    breed_list = list(data_train['Breed'])\n",
    "    breed_compile = []\n",
    "    for item in breed_list:\n",
    "        item = item.lower()\n",
    "        if 'mix' in item:\n",
    "            item = item[:-4]\n",
    "        breed_compile.append(item)\n",
    "    return breed_compile\n"
   ]
  },
  {
   "cell_type": "code",
   "execution_count": 388,
   "metadata": {
    "collapsed": true
   },
   "outputs": [],
   "source": [
    "breed_remove_mix = remove_mix(data_train)"
   ]
  },
  {
   "cell_type": "code",
   "execution_count": 389,
   "metadata": {
    "collapsed": true
   },
   "outputs": [],
   "source": [
    "# 순종 Mix 와 순종을 같은 Breed로 설정\n",
    "\n",
    "def remove_mix(data_combined):\n",
    "    '''This function removes the keyword mix from breed list. The result from\n",
    "    this method is used when converting breed into different categories'''\n",
    "    breed_list = list(data_combined['Breed'])\n",
    "    breed_compile = []\n",
    "    for item in breed_list:\n",
    "        item = item.lower()\n",
    "        if 'mix' in item:\n",
    "            item = item[:-4]\n",
    "        breed_compile.append(item)\n",
    "    return breed_compile"
   ]
  },
  {
   "cell_type": "code",
   "execution_count": 390,
   "metadata": {
    "collapsed": true
   },
   "outputs": [],
   "source": [
    "breed_remove_mix = remove_mix(data_combined)"
   ]
  },
  {
   "cell_type": "code",
   "execution_count": 391,
   "metadata": {
    "collapsed": true
   },
   "outputs": [],
   "source": [
    "# train.csv에 있는 모든 견종이 Crawling한 list에 존재하거나 줄임말 또는 표기법이 달라서 인식이 안되는 종이 30종 정도 있는 것으로 확인됨.\n",
    "# 그 수가 그렇게 많지 않기 때문에 직접 수정함.\n",
    "\n",
    "for index, item in enumerate(breed_remove_mix):\n",
    "    if item == 'chihuahua shorthair':\n",
    "        breed_remove_mix[index] = 'chihuahua'\n",
    "    elif item == 'collie smooth':\n",
    "        breed_remove_mix[index] = 'collie'\n",
    "    elif item == 'anatol shepherd':\n",
    "        breed_remove_mix[index] = 'anatolian shepherd dog'\n",
    "    elif item == 'port water dog':\n",
    "        breed_remove_mix[index] = 'portuguese water dog'\n",
    "    elif item == 'flat coat retriever':\n",
    "        breed_remove_mix[index] = 'flat-coated retriever'\n",
    "    elif item == 'pbgv':\n",
    "        breed_remove_mix[index] = 'petit basset griffon vendeen'\n",
    "    elif item == 'bruss griffon':\n",
    "        breed_remove_mix[index] = 'brussels griffon'\n",
    "    elif item == 'bluetick hound':\n",
    "        breed_remove_mix[index] = 'bluetick coonhound'\n",
    "    elif item == 'wire hair fox terrier':\n",
    "        breed_remove_mix[index] = 'wire fox terrier'\n",
    "    elif item == 'dachshund wirehair':\n",
    "        breed_remove_mix[index] = 'dachshund'\n",
    "    elif item == 'rhod ridgeback':\n",
    "        breed_remove_mix[index] = 'rhodesian ridgeback'\n",
    "    elif item == 'picardy sheepdog':\n",
    "        breed_remove_mix[index] = 'berger picard'\n",
    "    elif item == 'st. bernard rough coat':\n",
    "        breed_remove_mix[index] = 'st. bernard'\n",
    "    elif item == 'old english bulldog':\n",
    "        breed_remove_mix[index] = 'olde english bulldogge'\n",
    "    elif item == 'english bulldog':\n",
    "        breed_remove_mix[index] = 'olde english bulldogge'\n",
    "    elif item == 'chesa bay retr':\n",
    "        breed_remove_mix[index] = 'chesapeake bay retriever'\n",
    "    elif item == 'dachshund longhair':\n",
    "        breed_remove_mix[index] = 'dachshund'\n",
    "    elif item == 'chihuahua longhair':\n",
    "        breed_remove_mix[index] = 'chihuahua'\n",
    "    elif item == 'chinese sharpei':\n",
    "        breed_remove_mix[index] = 'shar-pei'\n",
    "    elif item == 'standard poodle':\n",
    "        breed_remove_mix[index] = 'poodle'\n",
    "    elif item == 'bull terrier miniature':\n",
    "        breed_remove_mix[index] = 'miniature bull terrier'\n",
    "    elif item =='st. bernard smooth coat':\n",
    "        breed_remove_mix[index] = 'st. bernard'\n",
    "    elif item =='redbone hound':\n",
    "        breed_remove_mix[index] = 'redbone coonhound'\n",
    "    elif item == 'cavalier span':\n",
    "        breed_remove_mix[index] = 'cavalier king charles spaniel'\n",
    "    elif item == 'collie rough':\n",
    "        breed_remove_mix[index] = 'collie'\n",
    "    elif item == 'german shorthair pointer':\n",
    "        breed_remove_mix[index] = 'german shorthaired pointer'\n",
    "    elif item == 'english pointer':\n",
    "        breed_remove_mix[index] = 'pointer'\n",
    "    elif item == 'mexican hairless':\n",
    "        breed_remove_mix[index] = 'xoloitzcuintli'\n",
    "    elif item =='dogo argentino':\n",
    "        breed_remove_mix[index] = 'argentine dogo'\n",
    "    elif item == 'queensland heeler':\n",
    "        breed_remove_mix[index] = 'australian cattle dog'"
   ]
  },
  {
   "cell_type": "code",
   "execution_count": 400,
   "metadata": {
    "collapsed": true
   },
   "outputs": [],
   "source": [
    "# 고양이 사이즈 : 고양이는 종류가 강아지만큼 다양하지 않기 때문에 수작업 전처리 진행\n",
    "\n",
    "# Reference: http://www.petguide.com/breeds/cat/domestic-longhair/\n",
    "\n",
    "small_cat_list = ['munchkin longhair', 'oriental sh']\n",
    "medium_cat_list = ['exotic shorthair', 'persian', 'abyssinian', 'sphynx', 'siamese',\n",
    "                   'cornish rex', 'devon rex', 'burmese', 'tonkinese', 'russian blue', \n",
    "                   'manx', 'japanese bobtail', 'balinese', 'bombay', 'havana brown',\n",
    "                   'bengal', 'cymric', 'himalayan', 'snowshoe', 'javanese', 'havana brown', 'angora', 'turkish angora', \n",
    "                   'munchkin shorthair', 'scottish fold']\n",
    "large_cat_list = ['american shorthair', 'british shorthair', 'norwegian forest cat', 'ocicat',\n",
    "                  'turkish van', 'pixiebob shorthair', 'maine coon', 'ragdoll', 'american wirehair', 'chartreux']\n",
    "domestic = ['domestic longhair', 'domestic medium hair', 'domestic shorthair']"
   ]
  },
  {
   "cell_type": "markdown",
   "metadata": {},
   "source": [
    "고양이종에 domestic이 붙은 종은 북미지역에 서식하는 잡종 고양이를 뜻함. train 데이터에서도 압도적으로 많은 고양이들이 domestic 종이고 실제로도 북미지역 애완 고양이는 높은 비율로 domestic 잡종인것을 아래 참조 자료를 통해 확인하였음. 잡종인 만큼 size를 예측하기 힘들기 때문에 domestic이라는 카테고리를 따로 형성함\n",
    "\n",
    "#### Reference: http://www.petguide.com/breeds/cat/domestic-longhair/"
   ]
  },
  {
   "cell_type": "code",
   "execution_count": 393,
   "metadata": {
    "collapsed": true
   },
   "outputs": [],
   "source": [
    "# mapping : 개는 1, 고양이는 0 으로 전처리\n",
    "\n",
    "animal_type_mapping = {'Dog':1, 'Cat':0}\n",
    "data_train['AnimalType'] = data_train['AnimalType'].map(animal_type_mapping)"
   ]
  },
  {
   "cell_type": "code",
   "execution_count": 396,
   "metadata": {
    "collapsed": true
   },
   "outputs": [],
   "source": [
    "animal_type_mapping = {'Dog':1, 'Cat':0}\n",
    "data_combined['AnimalType'] = data_combined['AnimalType'].map(animal_type_mapping)"
   ]
  },
  {
   "cell_type": "code",
   "execution_count": 403,
   "metadata": {
    "collapsed": true
   },
   "outputs": [],
   "source": [
    "# 개/고양이 Size 인자 형성\n",
    "\n",
    "# Reference: https://stackoverflow.com/questions/16380326/check-if-substring-is-in-a-list-of-strings\n",
    "\n",
    "def convert_breed(type_list, breed_list, small_list, medium_list, large_list, giant_list,\n",
    "                  small_cat_list, medium_cat_list, large_cat_list, domestic_cat_list):\n",
    "    '''Reference: https://stackoverflow.com/questions/16380326/check-if-substring-is-in-a-list-of-strings\n",
    "    that is a really smart and succinct solution for checking substring existence in a list of strings'''\n",
    "    \n",
    "    '''The incoming list a list of breeds with the keyword \"mix\" removed and converted\n",
    "    to lower case. No need for extra preprocessing. Also the dog lists are all converted\n",
    "    to lower case as well. Type list is to check whether the breed belongs to dog or cat'''\n",
    "    if len(type_list) != len(breed_list):\n",
    "        print('Two lists must have equal length!')\n",
    "        return None\n",
    "    \n",
    "    '''Convert the list into a string format for easier processing'''\n",
    "    small_combined = '\\t'.join(small_list)\n",
    "    medium_combined = '\\t'.join(medium_list)\n",
    "    large_combined = '\\t'.join(large_list)\n",
    "    giant_combined = '\\t'.join(giant_list)\n",
    "    \n",
    "    breed_compile, excluded_list, mix_breed_list, cat_breed_list = [], [], [], []\n",
    "    for animal_type, breed in zip(type_list, breed_list):\n",
    "        if '/' in breed: #Mixed type categorization\n",
    "            mix_breed_list.append(breed)\n",
    "            breed_compile.append('mix')\n",
    "        elif animal_type == 0: #Cat breed categorization\n",
    "            cat_breed_list.append(breed)\n",
    "            if breed in small_cat_list:\n",
    "                breed_compile.append('small_cat')\n",
    "            elif breed in medium_cat_list:\n",
    "                breed_compile.append('medium_cat')\n",
    "            elif breed in large_cat_list:\n",
    "                breed_compile.append('large_cat')\n",
    "            elif breed in domestic_cat_list:\n",
    "                breed_compile.append('domestic')\n",
    "            else:\n",
    "                excluded_list.append(breed)\n",
    "        elif animal_type == 1: #Dog breed categorization\n",
    "            if breed in small_combined:\n",
    "                breed_compile.append('small')\n",
    "            elif breed in medium_combined:\n",
    "                breed_compile.append('medium')\n",
    "            elif breed in large_combined:\n",
    "                breed_compile.append('large')\n",
    "            elif breed in giant_combined:\n",
    "                breed_compile.append('giant')\n",
    "            else:\n",
    "                excluded_list.append(breed)\n",
    "                breed_compile.append('unknown')\n",
    "    return breed_compile, excluded_list, mix_breed_list, cat_breed_list"
   ]
  },
  {
   "cell_type": "code",
   "execution_count": 404,
   "metadata": {},
   "outputs": [
    {
     "name": "stdout",
     "output_type": "stream",
     "text": [
      "['unknown', 'eng toy spaniel', 'dachshund stan']\n"
     ]
    }
   ],
   "source": [
    "'''Compare the breed in the data to crawled size lists and create a list indicating\n",
    "the size of each breed. By zipping two lists, we can also ignore species that\n",
    "belong to cats. Some breed names were manually modified to fit the crawled list'''\n",
    "type_list = list(data_combined['AnimalType'])\n",
    "\n",
    "convert_list, excluded_list_dog, mix_breed_list_dog, cat_breed_list = convert_breed(type_list, \n",
    "                                     breed_remove_mix, small_dog_compile, \n",
    "                                     medium_dog_compile, large_dog_compile, giant_dog_compile,\n",
    "                                     small_cat_list, medium_cat_list, large_cat_list, domestic)\n",
    "\n",
    "'''With the manual correction to dog breed, this list should only contain unknown values'''\n",
    "excluded_unique_dog = list(set(excluded_list_dog))\n",
    "print(excluded_unique_dog)"
   ]
  },
  {
   "cell_type": "code",
   "execution_count": 405,
   "metadata": {},
   "outputs": [
    {
     "data": {
      "text/html": [
       "<div>\n",
       "<style>\n",
       "    .dataframe thead tr:only-child th {\n",
       "        text-align: right;\n",
       "    }\n",
       "\n",
       "    .dataframe thead th {\n",
       "        text-align: left;\n",
       "    }\n",
       "\n",
       "    .dataframe tbody tr th {\n",
       "        vertical-align: top;\n",
       "    }\n",
       "</style>\n",
       "<table border=\"1\" class=\"dataframe\">\n",
       "  <thead>\n",
       "    <tr style=\"text-align: right;\">\n",
       "      <th></th>\n",
       "      <th>AnimalID</th>\n",
       "      <th>Name</th>\n",
       "      <th>DateTime</th>\n",
       "      <th>AnimalType</th>\n",
       "      <th>SexuponOutcome</th>\n",
       "      <th>AgeuponOutcome</th>\n",
       "      <th>Breed</th>\n",
       "      <th>Color</th>\n",
       "      <th>Date</th>\n",
       "      <th>OutcomeYear</th>\n",
       "      <th>OutcomeMonth</th>\n",
       "      <th>OutcomeDay</th>\n",
       "      <th>OutcomeHour</th>\n",
       "      <th>OutcomeSeason</th>\n",
       "      <th>Size</th>\n",
       "    </tr>\n",
       "  </thead>\n",
       "  <tbody>\n",
       "    <tr>\n",
       "      <th>11451</th>\n",
       "      <td>11452</td>\n",
       "      <td>No Name</td>\n",
       "      <td>2014-07-08 14:50</td>\n",
       "      <td>0</td>\n",
       "      <td>Neutered Male</td>\n",
       "      <td>60.0</td>\n",
       "      <td>Domestic Shorthair Mix</td>\n",
       "      <td>Black</td>\n",
       "      <td>201407</td>\n",
       "      <td>2014</td>\n",
       "      <td>07</td>\n",
       "      <td>08</td>\n",
       "      <td>14</td>\n",
       "      <td>summer</td>\n",
       "      <td>domestic</td>\n",
       "    </tr>\n",
       "    <tr>\n",
       "      <th>11452</th>\n",
       "      <td>11453</td>\n",
       "      <td>No Name</td>\n",
       "      <td>2014-10-21 12:57</td>\n",
       "      <td>0</td>\n",
       "      <td>Intact Female</td>\n",
       "      <td>14.0</td>\n",
       "      <td>Domestic Shorthair Mix</td>\n",
       "      <td>Blue</td>\n",
       "      <td>201410</td>\n",
       "      <td>2014</td>\n",
       "      <td>10</td>\n",
       "      <td>21</td>\n",
       "      <td>12</td>\n",
       "      <td>fall</td>\n",
       "      <td>domestic</td>\n",
       "    </tr>\n",
       "    <tr>\n",
       "      <th>11453</th>\n",
       "      <td>11454</td>\n",
       "      <td>No Name</td>\n",
       "      <td>2014-09-29 9:00</td>\n",
       "      <td>0</td>\n",
       "      <td>Intact Female</td>\n",
       "      <td>365.0</td>\n",
       "      <td>Domestic Shorthair Mix</td>\n",
       "      <td>Calico</td>\n",
       "      <td>201409</td>\n",
       "      <td>2014</td>\n",
       "      <td>09</td>\n",
       "      <td>29</td>\n",
       "      <td>9:</td>\n",
       "      <td>fall</td>\n",
       "      <td>domestic</td>\n",
       "    </tr>\n",
       "    <tr>\n",
       "      <th>11454</th>\n",
       "      <td>11455</td>\n",
       "      <td>Name</td>\n",
       "      <td>2015-09-05 17:16</td>\n",
       "      <td>1</td>\n",
       "      <td>Neutered Male</td>\n",
       "      <td>2190.0</td>\n",
       "      <td>German Shepherd Mix</td>\n",
       "      <td>Black/Tan</td>\n",
       "      <td>201509</td>\n",
       "      <td>2015</td>\n",
       "      <td>09</td>\n",
       "      <td>05</td>\n",
       "      <td>17</td>\n",
       "      <td>fall</td>\n",
       "      <td>large</td>\n",
       "    </tr>\n",
       "    <tr>\n",
       "      <th>11455</th>\n",
       "      <td>11456</td>\n",
       "      <td>Name</td>\n",
       "      <td>2014-07-12 18:40</td>\n",
       "      <td>1</td>\n",
       "      <td>Intact Male</td>\n",
       "      <td>1460.0</td>\n",
       "      <td>Labrador Retriever</td>\n",
       "      <td>Cream</td>\n",
       "      <td>201407</td>\n",
       "      <td>2014</td>\n",
       "      <td>07</td>\n",
       "      <td>12</td>\n",
       "      <td>18</td>\n",
       "      <td>summer</td>\n",
       "      <td>medium</td>\n",
       "    </tr>\n",
       "  </tbody>\n",
       "</table>\n",
       "</div>"
      ],
      "text/plain": [
       "      AnimalID     Name          DateTime  AnimalType SexuponOutcome  \\\n",
       "11451    11452  No Name  2014-07-08 14:50           0  Neutered Male   \n",
       "11452    11453  No Name  2014-10-21 12:57           0  Intact Female   \n",
       "11453    11454  No Name   2014-09-29 9:00           0  Intact Female   \n",
       "11454    11455     Name  2015-09-05 17:16           1  Neutered Male   \n",
       "11455    11456     Name  2014-07-12 18:40           1    Intact Male   \n",
       "\n",
       "       AgeuponOutcome                   Breed      Color    Date OutcomeYear  \\\n",
       "11451            60.0  Domestic Shorthair Mix      Black  201407        2014   \n",
       "11452            14.0  Domestic Shorthair Mix       Blue  201410        2014   \n",
       "11453           365.0  Domestic Shorthair Mix     Calico  201409        2014   \n",
       "11454          2190.0     German Shepherd Mix  Black/Tan  201509        2015   \n",
       "11455          1460.0      Labrador Retriever      Cream  201407        2014   \n",
       "\n",
       "      OutcomeMonth OutcomeDay OutcomeHour OutcomeSeason      Size  \n",
       "11451           07         08          14        summer  domestic  \n",
       "11452           10         21          12          fall  domestic  \n",
       "11453           09         29          9:          fall  domestic  \n",
       "11454           09         05          17          fall     large  \n",
       "11455           07         12          18        summer    medium  "
      ]
     },
     "execution_count": 405,
     "metadata": {},
     "output_type": "execute_result"
    }
   ],
   "source": [
    "'''Whew finally add the cleansed convert_dog_list to our data_train DataFrame'''\n",
    "data_combined['Size'] = convert_list\n",
    "data_combined.tail()"
   ]
  },
  {
   "cell_type": "code",
   "execution_count": 406,
   "metadata": {},
   "outputs": [
    {
     "name": "stdout",
     "output_type": "stream",
     "text": [
      "['small', 'domestic', 'medium', 'mix', 'giant', 'medium_cat', 'large', 'large_cat', 'unknown', 'small_cat']\n"
     ]
    }
   ],
   "source": [
    "'''Confirm that only expected values small, medium, large, giant, unknown and domestic\n",
    "are present in the Size column'''\n",
    "size_check_list = list(data_combined['Size'].unique())\n",
    "print(size_check_list)"
   ]
  },
  {
   "cell_type": "markdown",
   "metadata": {},
   "source": [
    "#### 고양이 경우 앞서 말했듯이 domestic종이 다른 종에 비해 압도적으로 많은 것으로 확인됨. 따라서 차후 머신러닝 알고리즘 적용시 고양이와 개의 분류는 AnimalType에 의해서 이루어 질지 아니면 domestic이라는 종에 의해서 이루어 질지 확인해볼 필요가 있음\n",
    "\n",
    "#### 완변하진 않지만 각각 결과값에 따른 애완견 사이즈별 비율이 비슷한 형태를 하고 있는것으로 판단됨. 어쩌면 size가 생각보다 중요하지 않은 인자일수도? "
   ]
  },
  {
   "cell_type": "code",
   "execution_count": null,
   "metadata": {
    "collapsed": true
   },
   "outputs": [],
   "source": []
  },
  {
   "cell_type": "markdown",
   "metadata": {},
   "source": [
    "#### 2) Main/Sub 로 분리"
   ]
  },
  {
   "cell_type": "code",
   "execution_count": 407,
   "metadata": {},
   "outputs": [
    {
     "name": "stdout",
     "output_type": "stream",
     "text": [
      "10\n"
     ]
    }
   ],
   "source": [
    "# 종이 3개 이상 섞여 있는 경우의 갯수\n",
    "check_breed = list(data_train['Breed'])\n",
    "count = 0\n",
    "for item in check_breed:\n",
    "    if item.count('/') == 2:\n",
    "        count += 1\n",
    "print(count)"
   ]
  },
  {
   "cell_type": "markdown",
   "metadata": {},
   "source": [
    "#### 10개밖에 없기때문에 잡종일 경우 main과 sub로만 분리 (원래 계획은 sub1, sub2로 나눌 계획이었음)"
   ]
  },
  {
   "cell_type": "code",
   "execution_count": 408,
   "metadata": {
    "collapsed": true
   },
   "outputs": [],
   "source": [
    "def main_sub_separator(separate_list):\n",
    "    '''This function separates the breed into main and sub breed columns'''\n",
    "    main, sub = [], []\n",
    "    for item in separate_list:\n",
    "        if item.count('/') == 0:\n",
    "            main.append(item)\n",
    "            sub.append('NA')\n",
    "        elif item.count('/') == 1 or item.count('/') == 2:\n",
    "            temp_list = item.split('/')\n",
    "            main.append(temp_list[0])\n",
    "            sub.append(temp_list[1])\n",
    "    return main, sub"
   ]
  },
  {
   "cell_type": "code",
   "execution_count": 409,
   "metadata": {
    "collapsed": true
   },
   "outputs": [],
   "source": [
    "#Animal Breed Separator\n",
    "main_breed, sub_breed = main_sub_separator(breed_remove_mix)\n",
    "data_combined['Main_Breed'], data_combined['Sub_Breed'] = main_breed, sub_breed"
   ]
  },
  {
   "cell_type": "code",
   "execution_count": null,
   "metadata": {
    "collapsed": true
   },
   "outputs": [],
   "source": []
  },
  {
   "cell_type": "markdown",
   "metadata": {},
   "source": [
    "#### 3) 애완견 선호도 랭킹 반영\n",
    "\n",
    "#### Reference: https://nishadikirielle.wordpress.com/2016/10/08/kaggle-competition-shelter-animal-problem-xgboost-approach/\n",
    "\n",
    "Size, 선호도 랭킹 웹사이트에 의하면 개는 2016년 선호도 랭킹 고양이는 2014년 선호도 랭킹 정보가 있다. 각각의 인자를 rank_dog와 rank_cat으로 구분하여서 형성. rank_dog일 경우 고양이거나 랭킹이 없을경우 0으로 설정, rank_cat의 경우 개이거나 랭킹이 없을경우 마찬가지로 0으로 설정.\n",
    "\n",
    "실제 들어갈 데이터는 랭킹이 아니라 maximum_ranking - actual_ranking이라는 인자로 넣을 계획. 이렇게 될 경우 높은 랭킹을 가진 종은 점수가 높을 것이고 낮은 랭킹을 가질경우 당연히 낮은 점수를 가지고 가게 될것이다.\n",
    "\n",
    "데이터 형성은 위쪽 Crawling에서 작성한 rank_dict_dog와 rank_dict_cat와 data_combined의 Main_Breed column을 이용한다."
   ]
  },
  {
   "cell_type": "code",
   "execution_count": 360,
   "metadata": {
    "collapsed": true
   },
   "outputs": [],
   "source": [
    "'''This portion is for crawling the favorite ranking of dogs'''\n",
    "\n",
    "ranking_url_list = []\n",
    "for i in range(1, 11):\n",
    "    url = 'http://www.dogbreedslist.info/all-dog-breeds/list_1_' + str(i) + '.html#.WhE_9kpl-iM'\n",
    "    ranking_url_list.append(url)\n",
    "    \n",
    "selector_breed = 'body > div.main > div.main-r > div > div.list-01 > div.right > div.right-t > p > a'\n",
    "selector_rank = 'body > div.main > div.main-r > div > div.list-02 > p'\n",
    "\n",
    "breed_compile_dog = crawl_compiler(ranking_url_list, selector_breed)\n",
    "rank_compile_dog = crawl_compiler(ranking_url_list, selector_rank)"
   ]
  },
  {
   "cell_type": "code",
   "execution_count": 361,
   "metadata": {
    "collapsed": true
   },
   "outputs": [],
   "source": [
    "breed_compile_dog = breed_compile_dog[:188]\n",
    "rank_compile_dog = rank_compile_dog[:188]"
   ]
  },
  {
   "cell_type": "code",
   "execution_count": 362,
   "metadata": {},
   "outputs": [
    {
     "name": "stdout",
     "output_type": "stream",
     "text": [
      "188\n",
      "['labrador retriever', 'german shepherd', 'golden retriever', 'bulldog', 'beagle', 'french bulldog', 'poodle', 'rottweiler', 'yorkshire terrier', 'boxer', 'german shorthaired pointer', 'siberian husky', 'dachshund', 'great dane', 'doberman pinscher', 'australian shepherd', 'miniature schnauzer', 'pembroke welsh corgi', 'cavalier king charles spaniel', 'shih tzu', 'boston terrier', 'pomeranian', 'havanese', 'shetland sheepdog', 'brittany', 'english springer spaniel', 'bernese mountain dog', 'mastiff', 'american cocker spaniel', 'chihuahua', 'vizsla', 'pug', 'maltese', 'weimaraner', 'newfoundland', 'miniature american shepherd', 'collie', 'border collie', 'basset hound', 'cane corso', 'west highland white terrier', 'rhodesian ridgeback', 'chesapeake bay retriever', 'shiba inu', 'bichon frise', 'akita', 'belgian malinois', 'bullmastiff', 'st. bernard', 'soft coated wheaten terrier', 'portuguese water dog', 'bloodhound', 'papillon', 'australian cattle dog', 'airedale terrier', 'english cocker spaniel', 'bull terrier', 'scottish terrier', 'alaskan malamute', 'whippet', 'shar-pei', 'dogue de bordeaux', 'german wirehaired pointer', 'samoyed', 'dalmatian', 'wirehaired pointing griffon', 'great pyrenees', 'miniature pinscher', 'cardigan welsh corgi', 'cairn terrier', 'lhasa apso', 'italian greyhound', 'irish wolfhound', 'chow chow', 'old english sheepdog', 'irish setter', 'chinese crested', 'greater swiss mountain dog', 'giant schnauzer', 'coton de tulear', 'american staffordshire terrier', 'staffordshire bull terrier', 'bouvier des flandres', 'anatolian shepherd dog', 'standard schnauzer', 'border terrier', 'nova scotia duck tolling retriever', 'basenji', 'flat-coated retriever', 'jack russell terrier', 'tibetan terrier', 'keeshond', 'pekingese', 'norwegian elkhound', 'leonberger', 'rat terrier', 'brussels griffon', 'borzoi', 'neapolitan mastiff', 'silky terrier', 'wire fox terrier', 'english setter', 'norwich terrier', 'gordon setter', 'spinone italiano', 'american hairless terrier', 'belgian tervuren', 'japanese chin', 'parson russell terrier', 'boykin spaniel', 'welsh terrier', 'schipperke', 'afghan hound', 'lagotto romagnolo', 'irish terrier', 'toy fox terrier', 'pointer', 'tibetan spaniel', 'black russian terrier', 'miniature bull terrier', 'bluetick coonhound', 'american eskimo dog', 'welsh springer spaniel', 'smooth fox terrier', 'saluki', 'bearded collie', 'kerry blue terrier', 'black and tan coonhound', 'belgian sheepdog', 'english toy spaniel', 'boerboel', 'briard', 'manchester terrier', 'norfolk terrier', 'tibetan mastiff', 'australian terrier', 'treeing walker coonhound', 'bedlington terrier', 'xoloitzcuintli', 'beauceron', 'berger picard', 'irish red and white setter', 'redbone coonhound', 'clumber spaniel', 'lakeland terrier', 'german pinscher', 'field spaniel', 'petit basset griffon vendeen', 'affenpinscher', 'irish water spaniel', 'greyhound', 'ibizan hound', 'icelandic sheepdog', 'scottish deerhound', 'sealyham terrier', 'american water spaniel', 'wirehaired vizsla', 'plott hound', 'puli', 'portuguese podengo pequeno', 'entlebucher mountain dog', 'spanish water dog', 'swedish vallhund', 'curly-coated retriever', 'kuvasz', 'otterhound', 'dandie dinmont terrier', 'pharaoh hound', 'polish lowland sheepdog', 'american english coonhound', 'lowchen', 'sussex spaniel', 'finnish lapphund', 'norwegian buhund', 'chinook', 'pyrenean shepherd', 'komondor', 'skye terrier', 'finnish spitz', 'glen of imaal terrier', 'canaan dog', 'cesky terrier', 'cirneco dell’etna', 'bergamasco', 'harrier', 'english foxhound', 'norwegian lundehund', 'american foxhound']\n"
     ]
    }
   ],
   "source": [
    "print(len(breed_compile_dog))\n",
    "print(breed_compile_dog)"
   ]
  },
  {
   "cell_type": "code",
   "execution_count": 238,
   "metadata": {},
   "outputs": [
    {
     "name": "stdout",
     "output_type": "stream",
     "text": [
      "188\n",
      "['1', '2', '3', '4', '5', '6', '7', '8', '9', '10', '11', '12', '13', '14', '15', '16', '17', '18', '19', '20', '21', '22', '23', '24', '25', '26', '27', '28', '29', '30', '31', '32', '33', '34', '35', '36', '37', '38', '39', '40', '41', '42', '43', '44', '45', '46', '47', '48', '49', '50', '51', '52', '53', '54', '55', '56', '57', '58', '59', '60', '61', '63', '64', '65', '66', '66', '67', '68', '69', '70', '71', '72', '73', '74', '75', '76', '77', '78', '79', '80', '81', '82', '83', '84', '85', '86', '87', '88', '89', '90', '91', '92', '93', '94', '95', '96', '97', '98', '99', '100', '101', '102', '103', '104', '105', '106', '107', '108', '109', '110', '111', '112', '113', '114', '115', '116', '117', '118', '119', '120', '121', '122', '123', '124', '125', '126', '127', '128', '129', '130', '131', '132', '133', '134', '135', '136', '137', '138', '139', '140', '141', '142', '143', '144', '145', '146', '147', '148', '149', '150', '151', '152', '153', '154', '155', '156', '157', '158', '159', '160', '161', '162', '163', '164', '165', '166', '167', '168', '169', '170', '171', '172', '173', '174', '175', '176', '177', '178', '179', '180', '181', '182', '183', '184', '186', '187', '188', '189']\n"
     ]
    }
   ],
   "source": [
    "print(len(rank_compile_dog))\n",
    "print(rank_compile_dog)"
   ]
  },
  {
   "cell_type": "code",
   "execution_count": 239,
   "metadata": {},
   "outputs": [
    {
     "data": {
      "text/plain": [
       "[1,\n",
       " 2,\n",
       " 3,\n",
       " 4,\n",
       " 5,\n",
       " 6,\n",
       " 7,\n",
       " 8,\n",
       " 9,\n",
       " 10,\n",
       " 11,\n",
       " 12,\n",
       " 13,\n",
       " 14,\n",
       " 15,\n",
       " 16,\n",
       " 17,\n",
       " 18,\n",
       " 19,\n",
       " 20,\n",
       " 21,\n",
       " 22,\n",
       " 23,\n",
       " 24,\n",
       " 25,\n",
       " 26,\n",
       " 27,\n",
       " 28,\n",
       " 29,\n",
       " 30,\n",
       " 31,\n",
       " 32,\n",
       " 33,\n",
       " 34,\n",
       " 35,\n",
       " 36,\n",
       " 37,\n",
       " 38,\n",
       " 39,\n",
       " 40,\n",
       " 41,\n",
       " 42,\n",
       " 43,\n",
       " 44,\n",
       " 45,\n",
       " 46,\n",
       " 47,\n",
       " 48,\n",
       " 49,\n",
       " 50,\n",
       " 51,\n",
       " 52,\n",
       " 53,\n",
       " 54,\n",
       " 55,\n",
       " 56,\n",
       " 57,\n",
       " 58,\n",
       " 59,\n",
       " 60,\n",
       " 61,\n",
       " 63,\n",
       " 64,\n",
       " 65,\n",
       " 66,\n",
       " 66,\n",
       " 67,\n",
       " 68,\n",
       " 69,\n",
       " 70,\n",
       " 71,\n",
       " 72,\n",
       " 73,\n",
       " 74,\n",
       " 75,\n",
       " 76,\n",
       " 77,\n",
       " 78,\n",
       " 79,\n",
       " 80,\n",
       " 81,\n",
       " 82,\n",
       " 83,\n",
       " 84,\n",
       " 85,\n",
       " 86,\n",
       " 87,\n",
       " 88,\n",
       " 89,\n",
       " 90,\n",
       " 91,\n",
       " 92,\n",
       " 93,\n",
       " 94,\n",
       " 95,\n",
       " 96,\n",
       " 97,\n",
       " 98,\n",
       " 99,\n",
       " 100,\n",
       " 101,\n",
       " 102,\n",
       " 103,\n",
       " 104,\n",
       " 105,\n",
       " 106,\n",
       " 107,\n",
       " 108,\n",
       " 109,\n",
       " 110,\n",
       " 111,\n",
       " 112,\n",
       " 113,\n",
       " 114,\n",
       " 115,\n",
       " 116,\n",
       " 117,\n",
       " 118,\n",
       " 119,\n",
       " 120,\n",
       " 121,\n",
       " 122,\n",
       " 123,\n",
       " 124,\n",
       " 125,\n",
       " 126,\n",
       " 127,\n",
       " 128,\n",
       " 129,\n",
       " 130,\n",
       " 131,\n",
       " 132,\n",
       " 133,\n",
       " 134,\n",
       " 135,\n",
       " 136,\n",
       " 137,\n",
       " 138,\n",
       " 139,\n",
       " 140,\n",
       " 141,\n",
       " 142,\n",
       " 143,\n",
       " 144,\n",
       " 145,\n",
       " 146,\n",
       " 147,\n",
       " 148,\n",
       " 149,\n",
       " 150,\n",
       " 151,\n",
       " 152,\n",
       " 153,\n",
       " 154,\n",
       " 155,\n",
       " 156,\n",
       " 157,\n",
       " 158,\n",
       " 159,\n",
       " 160,\n",
       " 161,\n",
       " 162,\n",
       " 163,\n",
       " 164,\n",
       " 165,\n",
       " 166,\n",
       " 167,\n",
       " 168,\n",
       " 169,\n",
       " 170,\n",
       " 171,\n",
       " 172,\n",
       " 173,\n",
       " 174,\n",
       " 175,\n",
       " 176,\n",
       " 177,\n",
       " 178,\n",
       " 179,\n",
       " 180,\n",
       " 181,\n",
       " 182,\n",
       " 183,\n",
       " 184,\n",
       " 186,\n",
       " 187,\n",
       " 188,\n",
       " 189]"
      ]
     },
     "execution_count": 239,
     "metadata": {},
     "output_type": "execute_result"
    }
   ],
   "source": [
    "rank_compile_dog_numeric = []\n",
    "for item in rank_compile_dog:\n",
    "    rank_compile_dog_numeric.append(int(item))\n",
    "rank_compile_dog_numeric"
   ]
  },
  {
   "cell_type": "code",
   "execution_count": 240,
   "metadata": {},
   "outputs": [
    {
     "name": "stdout",
     "output_type": "stream",
     "text": [
      "{'west highland white terrier': 41, 'curly-coated retriever': 164, 'treeing walker coonhound': 137, 'canaan dog': 181, 'brittany': 25, 'norwich terrier': 103, 'chinese crested': 77, 'kerry blue terrier': 127, 'finnish lapphund': 173, 'belgian sheepdog': 129, 'weimaraner': 34, 'bulldog': 4, 'norfolk terrier': 134, 'american foxhound': 189, 'wirehaired pointing griffon': 66, 'border terrier': 86, 'lowchen': 171, 'tibetan spaniel': 118, 'american hairless terrier': 106, 'sussex spaniel': 172, 'old english sheepdog': 75, 'norwegian elkhound': 94, 'whippet': 60, 'dachshund': 13, 'border collie': 38, 'rottweiler': 8, 'havanese': 23, 'siberian husky': 12, 'spanish water dog': 162, 'afghan hound': 113, 'german shorthaired pointer': 11, 'rat terrier': 96, 'giant schnauzer': 79, 'saluki': 125, 'bouvier des flandres': 83, 'boerboel': 131, 'coton de tulear': 80, 'german wirehaired pointer': 64, 'finnish spitz': 179, 'tibetan mastiff': 135, 'australian terrier': 136, 'japanese chin': 108, 'cairn terrier': 70, 'airedale terrier': 55, 'french bulldog': 6, 'sealyham terrier': 155, 'anatolian shepherd dog': 84, 'miniature bull terrier': 120, 'samoyed': 65, 'bullmastiff': 48, 'clumber spaniel': 144, 'papillon': 53, 'puli': 159, 'irish red and white setter': 142, 'alaskan malamute': 59, 'english foxhound': 187, 'lagotto romagnolo': 114, 'bluetick coonhound': 121, 'american eskimo dog': 122, 'pekingese': 93, 'american staffordshire terrier': 81, 'cirneco dell’etna': 183, 'bergamasco': 184, 'newfoundland': 35, 'collie': 37, 'glen of imaal terrier': 180, 'plott hound': 158, 'shiba inu': 44, 'schipperke': 112, 'great dane': 14, 'harrier': 186, 'english springer spaniel': 26, 'irish setter': 76, 'miniature pinscher': 68, 'boxer': 10, 'english setter': 102, 'english cocker spaniel': 56, 'pug': 32, 'american cocker spaniel': 29, 'yorkshire terrier': 9, 'wirehaired vizsla': 157, 'shih tzu': 20, 'dogue de bordeaux': 63, 'toy fox terrier': 116, 'staffordshire bull terrier': 82, 'american water spaniel': 156, 'bichon frise': 45, 'cane corso': 40, 'petit basset griffon vendeen': 148, 'pharaoh hound': 168, 'italian greyhound': 72, 'boykin spaniel': 110, 'cardigan welsh corgi': 69, 'boston terrier': 21, 'chihuahua': 30, 'german shepherd': 2, 'beagle': 5, 'komondor': 177, 'german pinscher': 146, 'chesapeake bay retriever': 43, 'irish water spaniel': 150, 'bernese mountain dog': 27, 'pomeranian': 22, 'mastiff': 28, 'redbone coonhound': 143, 'norwegian buhund': 174, 'keeshond': 92, 'wire fox terrier': 101, 'flat-coated retriever': 89, 'welsh springer spaniel': 123, 'spinone italiano': 105, 'chinook': 175, 'bull terrier': 57, 'kuvasz': 165, 'rhodesian ridgeback': 42, 'miniature schnauzer': 17, 'irish terrier': 115, 'bloodhound': 52, 'pyrenean shepherd': 176, 'greyhound': 151, 'otterhound': 166, 'brussels griffon': 97, 'soft coated wheaten terrier': 50, 'basset hound': 39, 'scottish terrier': 58, 'great pyrenees': 67, 'smooth fox terrier': 124, 'tibetan terrier': 91, 'beauceron': 140, 'labrador retriever': 1, 'norwegian lundehund': 188, 'dalmatian': 66, 'vizsla': 31, 'cavalier king charles spaniel': 19, 'maltese': 33, 'australian shepherd': 16, 'australian cattle dog': 54, 'jack russell terrier': 90, 'basenji': 88, 'gordon setter': 104, 'irish wolfhound': 73, 'berger picard': 141, 'miniature american shepherd': 36, 'parson russell terrier': 109, 'cesky terrier': 182, 'shetland sheepdog': 24, 'belgian malinois': 47, 'american english coonhound': 170, 'field spaniel': 147, 'leonberger': 95, 'standard schnauzer': 85, 'entlebucher mountain dog': 161, 'nova scotia duck tolling retriever': 87, 'portuguese podengo pequeno': 160, 'lakeland terrier': 145, 'affenpinscher': 149, 'portuguese water dog': 51, 'dandie dinmont terrier': 167, 'doberman pinscher': 15, 'english toy spaniel': 130, 'golden retriever': 3, 'borzoi': 98, 'polish lowland sheepdog': 169, 'black and tan coonhound': 128, 'akita': 46, 'lhasa apso': 71, 'bedlington terrier': 138, 'st. bernard': 49, 'scottish deerhound': 154, 'neapolitan mastiff': 99, 'poodle': 7, 'manchester terrier': 133, 'belgian tervuren': 107, 'bearded collie': 126, 'ibizan hound': 152, 'silky terrier': 100, 'chow chow': 74, 'swedish vallhund': 163, 'greater swiss mountain dog': 78, 'black russian terrier': 119, 'welsh terrier': 111, 'briard': 132, 'shar-pei': 61, 'skye terrier': 178, 'icelandic sheepdog': 153, 'xoloitzcuintli': 139, 'pembroke welsh corgi': 18, 'pointer': 117}\n"
     ]
    }
   ],
   "source": [
    "rank_dict_dog = {}\n",
    "for breed, rank in zip(breed_compile_dog, rank_compile_dog_numeric):\n",
    "    rank_dict_dog[breed] = rank\n",
    "print(rank_dict_dog)"
   ]
  },
  {
   "cell_type": "code",
   "execution_count": null,
   "metadata": {
    "collapsed": true
   },
   "outputs": [],
   "source": []
  },
  {
   "cell_type": "code",
   "execution_count": null,
   "metadata": {
    "collapsed": true
   },
   "outputs": [],
   "source": []
  },
  {
   "cell_type": "code",
   "execution_count": 412,
   "metadata": {},
   "outputs": [
    {
     "data": {
      "text/plain": [
       "domestic      14845\n",
       "medium         8846\n",
       "small          6765\n",
       "mix            4357\n",
       "large          2059\n",
       "medium_cat      928\n",
       "giant           257\n",
       "large_cat       122\n",
       "unknown           4\n",
       "small_cat         2\n",
       "Name: Size, dtype: int64"
      ]
     },
     "execution_count": 412,
     "metadata": {},
     "output_type": "execute_result"
    }
   ],
   "source": [
    "data_combined['Size'].value_counts()"
   ]
  },
  {
   "cell_type": "code",
   "execution_count": 413,
   "metadata": {},
   "outputs": [
    {
     "data": {
      "text/plain": [
       "1    22251\n",
       "0    15934\n",
       "Name: AnimalType, dtype: int64"
      ]
     },
     "execution_count": 413,
     "metadata": {},
     "output_type": "execute_result"
    }
   ],
   "source": [
    "#1 for dog and 0 for cat\n",
    "data_combined['AnimalType'].value_counts()"
   ]
  },
  {
   "cell_type": "markdown",
   "metadata": {},
   "source": [
    "#### 고양이의 경우 전체 (train.csv + test.csv) 15934데이터중 14845개가 domestic type인것으로 확인되었다. 고양이는 굳이 선호도 랭킹을 적용할 필요없고 강아지 랭킹 column에 고양이일 경우도 그냥 0값으로 대체하는것이 좋을것을 판단됨."
   ]
  },
  {
   "cell_type": "code",
   "execution_count": 415,
   "metadata": {},
   "outputs": [
    {
     "data": {
      "text/plain": [
       "0                shetland sheepdog\n",
       "1               domestic shorthair\n",
       "2                         pit bull\n",
       "3               domestic shorthair\n",
       "4                       lhasa apso\n",
       "5                    cairn terrier\n",
       "6               domestic shorthair\n",
       "7               domestic shorthair\n",
       "8        american pit bull terrier\n",
       "9                    cairn terrier\n",
       "10              domestic shorthair\n",
       "11             miniature schnauzer\n",
       "12                        pit bull\n",
       "13               yorkshire terrier\n",
       "14                  great pyrenees\n",
       "15              domestic shorthair\n",
       "16              domestic shorthair\n",
       "17                        pit bull\n",
       "18                          angora\n",
       "19           flat-coated retriever\n",
       "                   ...            \n",
       "11436           domestic shorthair\n",
       "11437           chihuahua longhair\n",
       "11438           labrador retriever\n",
       "11439                     pit bull\n",
       "11440           domestic shorthair\n",
       "11441                     pit bull\n",
       "11442                    chihuahua\n",
       "11443            domestic longhair\n",
       "11444           domestic shorthair\n",
       "11445           domestic shorthair\n",
       "11446           domestic shorthair\n",
       "11447                    chihuahua\n",
       "11448           labrador retriever\n",
       "11449               bearded collie\n",
       "11450                staffordshire\n",
       "11451           domestic shorthair\n",
       "11452           domestic shorthair\n",
       "11453           domestic shorthair\n",
       "11454              german shepherd\n",
       "11455           labrador retriever\n",
       "Name: Main_Breed, Length: 38185, dtype: object"
      ]
     },
     "execution_count": 415,
     "metadata": {},
     "output_type": "execute_result"
    }
   ],
   "source": [
    "temp = data_combined['Main_Breed']\n",
    "temp"
   ]
  },
  {
   "cell_type": "code",
   "execution_count": 416,
   "metadata": {},
   "outputs": [
    {
     "data": {
      "text/plain": [
       "0         24.0\n",
       "1          NaN\n",
       "2          NaN\n",
       "3          NaN\n",
       "4         71.0\n",
       "5         70.0\n",
       "6          NaN\n",
       "7          NaN\n",
       "8          NaN\n",
       "9         70.0\n",
       "10         NaN\n",
       "11        17.0\n",
       "12         NaN\n",
       "13         9.0\n",
       "14        67.0\n",
       "15         NaN\n",
       "16         NaN\n",
       "17         NaN\n",
       "18         NaN\n",
       "19        89.0\n",
       "         ...  \n",
       "11436      NaN\n",
       "11437      NaN\n",
       "11438      1.0\n",
       "11439      NaN\n",
       "11440      NaN\n",
       "11441      NaN\n",
       "11442     30.0\n",
       "11443      NaN\n",
       "11444      NaN\n",
       "11445      NaN\n",
       "11446      NaN\n",
       "11447     30.0\n",
       "11448      1.0\n",
       "11449    126.0\n",
       "11450      NaN\n",
       "11451      NaN\n",
       "11452      NaN\n",
       "11453      NaN\n",
       "11454      2.0\n",
       "11455      1.0\n",
       "Name: Main_Breed, Length: 38185, dtype: float64"
      ]
     },
     "execution_count": 416,
     "metadata": {},
     "output_type": "execute_result"
    }
   ],
   "source": [
    "temp2 = temp.map(rank_dict_dog)\n",
    "temp2"
   ]
  },
  {
   "cell_type": "code",
   "execution_count": 417,
   "metadata": {},
   "outputs": [
    {
     "data": {
      "text/plain": [
       "0        166.0\n",
       "1          NaN\n",
       "2          NaN\n",
       "3          NaN\n",
       "4        119.0\n",
       "5        120.0\n",
       "6          NaN\n",
       "7          NaN\n",
       "8          NaN\n",
       "9        120.0\n",
       "10         NaN\n",
       "11       173.0\n",
       "12         NaN\n",
       "13       181.0\n",
       "14       123.0\n",
       "15         NaN\n",
       "16         NaN\n",
       "17         NaN\n",
       "18         NaN\n",
       "19       101.0\n",
       "         ...  \n",
       "11436      NaN\n",
       "11437      NaN\n",
       "11438    189.0\n",
       "11439      NaN\n",
       "11440      NaN\n",
       "11441      NaN\n",
       "11442    160.0\n",
       "11443      NaN\n",
       "11444      NaN\n",
       "11445      NaN\n",
       "11446      NaN\n",
       "11447    160.0\n",
       "11448    189.0\n",
       "11449     64.0\n",
       "11450      NaN\n",
       "11451      NaN\n",
       "11452      NaN\n",
       "11453      NaN\n",
       "11454    188.0\n",
       "11455    189.0\n",
       "Name: Main_Breed, Length: 38185, dtype: float64"
      ]
     },
     "execution_count": 417,
     "metadata": {},
     "output_type": "execute_result"
    }
   ],
   "source": [
    "temp2 = 190 - temp2\n",
    "temp2"
   ]
  },
  {
   "cell_type": "code",
   "execution_count": 418,
   "metadata": {},
   "outputs": [
    {
     "data": {
      "text/plain": [
       "0        166.0\n",
       "1          0.0\n",
       "2          0.0\n",
       "3          0.0\n",
       "4        119.0\n",
       "5        120.0\n",
       "6          0.0\n",
       "7          0.0\n",
       "8          0.0\n",
       "9        120.0\n",
       "10         0.0\n",
       "11       173.0\n",
       "12         0.0\n",
       "13       181.0\n",
       "14       123.0\n",
       "15         0.0\n",
       "16         0.0\n",
       "17         0.0\n",
       "18         0.0\n",
       "19       101.0\n",
       "         ...  \n",
       "11436      0.0\n",
       "11437      0.0\n",
       "11438    189.0\n",
       "11439      0.0\n",
       "11440      0.0\n",
       "11441      0.0\n",
       "11442    160.0\n",
       "11443      0.0\n",
       "11444      0.0\n",
       "11445      0.0\n",
       "11446      0.0\n",
       "11447    160.0\n",
       "11448    189.0\n",
       "11449     64.0\n",
       "11450      0.0\n",
       "11451      0.0\n",
       "11452      0.0\n",
       "11453      0.0\n",
       "11454    188.0\n",
       "11455    189.0\n",
       "Name: Main_Breed, Length: 38185, dtype: float64"
      ]
     },
     "execution_count": 418,
     "metadata": {},
     "output_type": "execute_result"
    }
   ],
   "source": [
    "temp2.fillna(0, inplace = True)\n",
    "temp2"
   ]
  },
  {
   "cell_type": "code",
   "execution_count": 419,
   "metadata": {},
   "outputs": [
    {
     "name": "stdout",
     "output_type": "stream",
     "text": [
      "<class 'pandas.core.series.Series'>\n",
      "(38185,)\n"
     ]
    }
   ],
   "source": [
    "print(type(temp2))\n",
    "print(temp2.shape)"
   ]
  },
  {
   "cell_type": "code",
   "execution_count": 421,
   "metadata": {
    "collapsed": true
   },
   "outputs": [],
   "source": [
    "data_combined['Rank'] = temp2"
   ]
  },
  {
   "cell_type": "code",
   "execution_count": 423,
   "metadata": {},
   "outputs": [
    {
     "data": {
      "text/html": [
       "<div>\n",
       "<style>\n",
       "    .dataframe thead tr:only-child th {\n",
       "        text-align: right;\n",
       "    }\n",
       "\n",
       "    .dataframe thead th {\n",
       "        text-align: left;\n",
       "    }\n",
       "\n",
       "    .dataframe tbody tr th {\n",
       "        vertical-align: top;\n",
       "    }\n",
       "</style>\n",
       "<table border=\"1\" class=\"dataframe\">\n",
       "  <thead>\n",
       "    <tr style=\"text-align: right;\">\n",
       "      <th></th>\n",
       "      <th>AnimalID</th>\n",
       "      <th>Name</th>\n",
       "      <th>DateTime</th>\n",
       "      <th>AnimalType</th>\n",
       "      <th>SexuponOutcome</th>\n",
       "      <th>AgeuponOutcome</th>\n",
       "      <th>Breed</th>\n",
       "      <th>Color</th>\n",
       "      <th>Date</th>\n",
       "      <th>OutcomeYear</th>\n",
       "      <th>OutcomeMonth</th>\n",
       "      <th>OutcomeDay</th>\n",
       "      <th>OutcomeHour</th>\n",
       "      <th>OutcomeSeason</th>\n",
       "      <th>Size</th>\n",
       "      <th>Main_Breed</th>\n",
       "      <th>Sub_Breed</th>\n",
       "      <th>Main_Color</th>\n",
       "      <th>Sub_Color</th>\n",
       "      <th>Rank</th>\n",
       "    </tr>\n",
       "  </thead>\n",
       "  <tbody>\n",
       "    <tr>\n",
       "      <th>11451</th>\n",
       "      <td>11452</td>\n",
       "      <td>No Name</td>\n",
       "      <td>2014-07-08 14:50</td>\n",
       "      <td>0</td>\n",
       "      <td>Neutered Male</td>\n",
       "      <td>60.0</td>\n",
       "      <td>Domestic Shorthair Mix</td>\n",
       "      <td>Black</td>\n",
       "      <td>201407</td>\n",
       "      <td>2014</td>\n",
       "      <td>07</td>\n",
       "      <td>08</td>\n",
       "      <td>14</td>\n",
       "      <td>summer</td>\n",
       "      <td>domestic</td>\n",
       "      <td>domestic shorthair</td>\n",
       "      <td>NA</td>\n",
       "      <td>Black</td>\n",
       "      <td>NA</td>\n",
       "      <td>0.0</td>\n",
       "    </tr>\n",
       "    <tr>\n",
       "      <th>11452</th>\n",
       "      <td>11453</td>\n",
       "      <td>No Name</td>\n",
       "      <td>2014-10-21 12:57</td>\n",
       "      <td>0</td>\n",
       "      <td>Intact Female</td>\n",
       "      <td>14.0</td>\n",
       "      <td>Domestic Shorthair Mix</td>\n",
       "      <td>Blue</td>\n",
       "      <td>201410</td>\n",
       "      <td>2014</td>\n",
       "      <td>10</td>\n",
       "      <td>21</td>\n",
       "      <td>12</td>\n",
       "      <td>fall</td>\n",
       "      <td>domestic</td>\n",
       "      <td>domestic shorthair</td>\n",
       "      <td>NA</td>\n",
       "      <td>Blue</td>\n",
       "      <td>NA</td>\n",
       "      <td>0.0</td>\n",
       "    </tr>\n",
       "    <tr>\n",
       "      <th>11453</th>\n",
       "      <td>11454</td>\n",
       "      <td>No Name</td>\n",
       "      <td>2014-09-29 9:00</td>\n",
       "      <td>0</td>\n",
       "      <td>Intact Female</td>\n",
       "      <td>365.0</td>\n",
       "      <td>Domestic Shorthair Mix</td>\n",
       "      <td>Calico</td>\n",
       "      <td>201409</td>\n",
       "      <td>2014</td>\n",
       "      <td>09</td>\n",
       "      <td>29</td>\n",
       "      <td>9:</td>\n",
       "      <td>fall</td>\n",
       "      <td>domestic</td>\n",
       "      <td>domestic shorthair</td>\n",
       "      <td>NA</td>\n",
       "      <td>Calico</td>\n",
       "      <td>NA</td>\n",
       "      <td>0.0</td>\n",
       "    </tr>\n",
       "    <tr>\n",
       "      <th>11454</th>\n",
       "      <td>11455</td>\n",
       "      <td>Name</td>\n",
       "      <td>2015-09-05 17:16</td>\n",
       "      <td>1</td>\n",
       "      <td>Neutered Male</td>\n",
       "      <td>2190.0</td>\n",
       "      <td>German Shepherd Mix</td>\n",
       "      <td>Black/Tan</td>\n",
       "      <td>201509</td>\n",
       "      <td>2015</td>\n",
       "      <td>09</td>\n",
       "      <td>05</td>\n",
       "      <td>17</td>\n",
       "      <td>fall</td>\n",
       "      <td>large</td>\n",
       "      <td>german shepherd</td>\n",
       "      <td>NA</td>\n",
       "      <td>Black</td>\n",
       "      <td>Tan</td>\n",
       "      <td>188.0</td>\n",
       "    </tr>\n",
       "    <tr>\n",
       "      <th>11455</th>\n",
       "      <td>11456</td>\n",
       "      <td>Name</td>\n",
       "      <td>2014-07-12 18:40</td>\n",
       "      <td>1</td>\n",
       "      <td>Intact Male</td>\n",
       "      <td>1460.0</td>\n",
       "      <td>Labrador Retriever</td>\n",
       "      <td>Cream</td>\n",
       "      <td>201407</td>\n",
       "      <td>2014</td>\n",
       "      <td>07</td>\n",
       "      <td>12</td>\n",
       "      <td>18</td>\n",
       "      <td>summer</td>\n",
       "      <td>medium</td>\n",
       "      <td>labrador retriever</td>\n",
       "      <td>NA</td>\n",
       "      <td>Cream</td>\n",
       "      <td>NA</td>\n",
       "      <td>189.0</td>\n",
       "    </tr>\n",
       "  </tbody>\n",
       "</table>\n",
       "</div>"
      ],
      "text/plain": [
       "      AnimalID     Name          DateTime  AnimalType SexuponOutcome  \\\n",
       "11451    11452  No Name  2014-07-08 14:50           0  Neutered Male   \n",
       "11452    11453  No Name  2014-10-21 12:57           0  Intact Female   \n",
       "11453    11454  No Name   2014-09-29 9:00           0  Intact Female   \n",
       "11454    11455     Name  2015-09-05 17:16           1  Neutered Male   \n",
       "11455    11456     Name  2014-07-12 18:40           1    Intact Male   \n",
       "\n",
       "       AgeuponOutcome                   Breed      Color    Date OutcomeYear  \\\n",
       "11451            60.0  Domestic Shorthair Mix      Black  201407        2014   \n",
       "11452            14.0  Domestic Shorthair Mix       Blue  201410        2014   \n",
       "11453           365.0  Domestic Shorthair Mix     Calico  201409        2014   \n",
       "11454          2190.0     German Shepherd Mix  Black/Tan  201509        2015   \n",
       "11455          1460.0      Labrador Retriever      Cream  201407        2014   \n",
       "\n",
       "      OutcomeMonth OutcomeDay OutcomeHour OutcomeSeason      Size  \\\n",
       "11451           07         08          14        summer  domestic   \n",
       "11452           10         21          12          fall  domestic   \n",
       "11453           09         29          9:          fall  domestic   \n",
       "11454           09         05          17          fall     large   \n",
       "11455           07         12          18        summer    medium   \n",
       "\n",
       "               Main_Breed Sub_Breed Main_Color Sub_Color   Rank  \n",
       "11451  domestic shorthair        NA      Black        NA    0.0  \n",
       "11452  domestic shorthair        NA       Blue        NA    0.0  \n",
       "11453  domestic shorthair        NA     Calico        NA    0.0  \n",
       "11454     german shepherd        NA      Black       Tan  188.0  \n",
       "11455  labrador retriever        NA      Cream        NA  189.0  "
      ]
     },
     "execution_count": 423,
     "metadata": {},
     "output_type": "execute_result"
    }
   ],
   "source": [
    "#Data display\n",
    "data_combined.tail()"
   ]
  },
  {
   "cell_type": "code",
   "execution_count": 424,
   "metadata": {},
   "outputs": [
    {
     "data": {
      "text/plain": [
       "(38185, 20)"
      ]
     },
     "execution_count": 424,
     "metadata": {},
     "output_type": "execute_result"
    }
   ],
   "source": [
    "data_combined.shape"
   ]
  },
  {
   "cell_type": "code",
   "execution_count": null,
   "metadata": {
    "collapsed": true
   },
   "outputs": [],
   "source": []
  },
  {
   "cell_type": "markdown",
   "metadata": {},
   "source": [
    "### 7. Color"
   ]
  },
  {
   "cell_type": "code",
   "execution_count": 410,
   "metadata": {
    "collapsed": true
   },
   "outputs": [],
   "source": [
    "#Color Separator\n",
    "color_list = list(data_combined['Color'])\n",
    "main_color, sub_color = main_sub_separator(color_list)\n",
    "data_combined['Main_Color'], data_combined['Sub_Color'] = main_color, sub_color"
   ]
  },
  {
   "cell_type": "code",
   "execution_count": null,
   "metadata": {
    "collapsed": true
   },
   "outputs": [],
   "source": []
  },
  {
   "cell_type": "code",
   "execution_count": 411,
   "metadata": {},
   "outputs": [
    {
     "data": {
      "text/html": [
       "<div>\n",
       "<style>\n",
       "    .dataframe thead tr:only-child th {\n",
       "        text-align: right;\n",
       "    }\n",
       "\n",
       "    .dataframe thead th {\n",
       "        text-align: left;\n",
       "    }\n",
       "\n",
       "    .dataframe tbody tr th {\n",
       "        vertical-align: top;\n",
       "    }\n",
       "</style>\n",
       "<table border=\"1\" class=\"dataframe\">\n",
       "  <thead>\n",
       "    <tr style=\"text-align: right;\">\n",
       "      <th></th>\n",
       "      <th>AnimalID</th>\n",
       "      <th>Name</th>\n",
       "      <th>DateTime</th>\n",
       "      <th>AnimalType</th>\n",
       "      <th>SexuponOutcome</th>\n",
       "      <th>AgeuponOutcome</th>\n",
       "      <th>Breed</th>\n",
       "      <th>Color</th>\n",
       "      <th>Date</th>\n",
       "      <th>OutcomeYear</th>\n",
       "      <th>OutcomeMonth</th>\n",
       "      <th>OutcomeDay</th>\n",
       "      <th>OutcomeHour</th>\n",
       "      <th>OutcomeSeason</th>\n",
       "      <th>Size</th>\n",
       "      <th>Main_Breed</th>\n",
       "      <th>Sub_Breed</th>\n",
       "      <th>Main_Color</th>\n",
       "      <th>Sub_Color</th>\n",
       "    </tr>\n",
       "  </thead>\n",
       "  <tbody>\n",
       "    <tr>\n",
       "      <th>11451</th>\n",
       "      <td>11452</td>\n",
       "      <td>No Name</td>\n",
       "      <td>2014-07-08 14:50</td>\n",
       "      <td>0</td>\n",
       "      <td>Neutered Male</td>\n",
       "      <td>60.0</td>\n",
       "      <td>Domestic Shorthair Mix</td>\n",
       "      <td>Black</td>\n",
       "      <td>201407</td>\n",
       "      <td>2014</td>\n",
       "      <td>07</td>\n",
       "      <td>08</td>\n",
       "      <td>14</td>\n",
       "      <td>summer</td>\n",
       "      <td>domestic</td>\n",
       "      <td>domestic shorthair</td>\n",
       "      <td>NA</td>\n",
       "      <td>Black</td>\n",
       "      <td>NA</td>\n",
       "    </tr>\n",
       "    <tr>\n",
       "      <th>11452</th>\n",
       "      <td>11453</td>\n",
       "      <td>No Name</td>\n",
       "      <td>2014-10-21 12:57</td>\n",
       "      <td>0</td>\n",
       "      <td>Intact Female</td>\n",
       "      <td>14.0</td>\n",
       "      <td>Domestic Shorthair Mix</td>\n",
       "      <td>Blue</td>\n",
       "      <td>201410</td>\n",
       "      <td>2014</td>\n",
       "      <td>10</td>\n",
       "      <td>21</td>\n",
       "      <td>12</td>\n",
       "      <td>fall</td>\n",
       "      <td>domestic</td>\n",
       "      <td>domestic shorthair</td>\n",
       "      <td>NA</td>\n",
       "      <td>Blue</td>\n",
       "      <td>NA</td>\n",
       "    </tr>\n",
       "    <tr>\n",
       "      <th>11453</th>\n",
       "      <td>11454</td>\n",
       "      <td>No Name</td>\n",
       "      <td>2014-09-29 9:00</td>\n",
       "      <td>0</td>\n",
       "      <td>Intact Female</td>\n",
       "      <td>365.0</td>\n",
       "      <td>Domestic Shorthair Mix</td>\n",
       "      <td>Calico</td>\n",
       "      <td>201409</td>\n",
       "      <td>2014</td>\n",
       "      <td>09</td>\n",
       "      <td>29</td>\n",
       "      <td>9:</td>\n",
       "      <td>fall</td>\n",
       "      <td>domestic</td>\n",
       "      <td>domestic shorthair</td>\n",
       "      <td>NA</td>\n",
       "      <td>Calico</td>\n",
       "      <td>NA</td>\n",
       "    </tr>\n",
       "    <tr>\n",
       "      <th>11454</th>\n",
       "      <td>11455</td>\n",
       "      <td>Name</td>\n",
       "      <td>2015-09-05 17:16</td>\n",
       "      <td>1</td>\n",
       "      <td>Neutered Male</td>\n",
       "      <td>2190.0</td>\n",
       "      <td>German Shepherd Mix</td>\n",
       "      <td>Black/Tan</td>\n",
       "      <td>201509</td>\n",
       "      <td>2015</td>\n",
       "      <td>09</td>\n",
       "      <td>05</td>\n",
       "      <td>17</td>\n",
       "      <td>fall</td>\n",
       "      <td>large</td>\n",
       "      <td>german shepherd</td>\n",
       "      <td>NA</td>\n",
       "      <td>Black</td>\n",
       "      <td>Tan</td>\n",
       "    </tr>\n",
       "    <tr>\n",
       "      <th>11455</th>\n",
       "      <td>11456</td>\n",
       "      <td>Name</td>\n",
       "      <td>2014-07-12 18:40</td>\n",
       "      <td>1</td>\n",
       "      <td>Intact Male</td>\n",
       "      <td>1460.0</td>\n",
       "      <td>Labrador Retriever</td>\n",
       "      <td>Cream</td>\n",
       "      <td>201407</td>\n",
       "      <td>2014</td>\n",
       "      <td>07</td>\n",
       "      <td>12</td>\n",
       "      <td>18</td>\n",
       "      <td>summer</td>\n",
       "      <td>medium</td>\n",
       "      <td>labrador retriever</td>\n",
       "      <td>NA</td>\n",
       "      <td>Cream</td>\n",
       "      <td>NA</td>\n",
       "    </tr>\n",
       "  </tbody>\n",
       "</table>\n",
       "</div>"
      ],
      "text/plain": [
       "      AnimalID     Name          DateTime  AnimalType SexuponOutcome  \\\n",
       "11451    11452  No Name  2014-07-08 14:50           0  Neutered Male   \n",
       "11452    11453  No Name  2014-10-21 12:57           0  Intact Female   \n",
       "11453    11454  No Name   2014-09-29 9:00           0  Intact Female   \n",
       "11454    11455     Name  2015-09-05 17:16           1  Neutered Male   \n",
       "11455    11456     Name  2014-07-12 18:40           1    Intact Male   \n",
       "\n",
       "       AgeuponOutcome                   Breed      Color    Date OutcomeYear  \\\n",
       "11451            60.0  Domestic Shorthair Mix      Black  201407        2014   \n",
       "11452            14.0  Domestic Shorthair Mix       Blue  201410        2014   \n",
       "11453           365.0  Domestic Shorthair Mix     Calico  201409        2014   \n",
       "11454          2190.0     German Shepherd Mix  Black/Tan  201509        2015   \n",
       "11455          1460.0      Labrador Retriever      Cream  201407        2014   \n",
       "\n",
       "      OutcomeMonth OutcomeDay OutcomeHour OutcomeSeason      Size  \\\n",
       "11451           07         08          14        summer  domestic   \n",
       "11452           10         21          12          fall  domestic   \n",
       "11453           09         29          9:          fall  domestic   \n",
       "11454           09         05          17          fall     large   \n",
       "11455           07         12          18        summer    medium   \n",
       "\n",
       "               Main_Breed Sub_Breed Main_Color Sub_Color  \n",
       "11451  domestic shorthair        NA      Black        NA  \n",
       "11452  domestic shorthair        NA       Blue        NA  \n",
       "11453  domestic shorthair        NA     Calico        NA  \n",
       "11454     german shepherd        NA      Black       Tan  \n",
       "11455  labrador retriever        NA      Cream        NA  "
      ]
     },
     "execution_count": 411,
     "metadata": {},
     "output_type": "execute_result"
    }
   ],
   "source": [
    "data_combined.tail()"
   ]
  },
  {
   "cell_type": "code",
   "execution_count": 256,
   "metadata": {},
   "outputs": [
    {
     "data": {
      "text/plain": [
       "AnimalID              0\n",
       "Name                  0\n",
       "DateTime              0\n",
       "OutcomeType           0\n",
       "OutcomeSubtype    13612\n",
       "AnimalType            0\n",
       "SexuponOutcome        1\n",
       "AgeuponOutcome       18\n",
       "Breed                 0\n",
       "Color                 0\n",
       "Date                  0\n",
       "OutcomeYear           0\n",
       "OutcomeMonth          0\n",
       "OutcomeDay            0\n",
       "OutcomeHour           0\n",
       "OutcomeSeason         0\n",
       "Main_Breed            0\n",
       "Sub_Breed             0\n",
       "Rank                  0\n",
       "Main_Color            0\n",
       "Sub_Color             0\n",
       "dtype: int64"
      ]
     },
     "execution_count": 256,
     "metadata": {},
     "output_type": "execute_result"
    }
   ],
   "source": [
    "data_train.isnull().sum()"
   ]
  },
  {
   "cell_type": "code",
   "execution_count": null,
   "metadata": {
    "collapsed": true
   },
   "outputs": [],
   "source": []
  },
  {
   "cell_type": "markdown",
   "metadata": {},
   "source": [
    "### One-Hot-Encoding"
   ]
  },
  {
   "cell_type": "code",
   "execution_count": 425,
   "metadata": {
    "collapsed": true
   },
   "outputs": [],
   "source": [
    "# get_dummies 를 이용한 One-Hot-Encoding\n",
    "\n",
    "main_color_gd = pd.get_dummies(data_combined[['Main_Color']])\n",
    "sub_color_gd = pd.get_dummies(data_combined[['Sub_Color']])\n",
    "main_breed_gd = pd.get_dummies(data_combined[['Main_Breed']])\n",
    "sub_breed_gd = pd.get_dummies(data_combined[['Sub_Breed']])\n",
    "year_gd = pd.get_dummies(data_combined[['OutcomeYear']])\n",
    "month_gd = pd.get_dummies(data_combined[['OutcomeMonth']])\n",
    "day_gd = pd.get_dummies(data_combined[['OutcomeDay']])\n",
    "hour_gd = pd.get_dummies(data_combined[['OutcomeHour']])\n",
    "size_gd = pd.get_dummies(data_combined['Size'])\n",
    "sex_gd = pd.get_dummies(data_combined['SexuponOutcome'])\n",
    "season_gd = pd.get_dummies(data_combined[['OutcomeSeason']])"
   ]
  },
  {
   "cell_type": "code",
   "execution_count": 428,
   "metadata": {},
   "outputs": [
    {
     "data": {
      "text/html": [
       "<div>\n",
       "<style>\n",
       "    .dataframe thead tr:only-child th {\n",
       "        text-align: right;\n",
       "    }\n",
       "\n",
       "    .dataframe thead th {\n",
       "        text-align: left;\n",
       "    }\n",
       "\n",
       "    .dataframe tbody tr th {\n",
       "        vertical-align: top;\n",
       "    }\n",
       "</style>\n",
       "<table border=\"1\" class=\"dataframe\">\n",
       "  <thead>\n",
       "    <tr style=\"text-align: right;\">\n",
       "      <th></th>\n",
       "      <th>OutcomeYear_2013</th>\n",
       "      <th>OutcomeYear_2014</th>\n",
       "      <th>OutcomeYear_2015</th>\n",
       "      <th>OutcomeYear_2016</th>\n",
       "    </tr>\n",
       "  </thead>\n",
       "  <tbody>\n",
       "    <tr>\n",
       "      <th>0</th>\n",
       "      <td>0</td>\n",
       "      <td>1</td>\n",
       "      <td>0</td>\n",
       "      <td>0</td>\n",
       "    </tr>\n",
       "    <tr>\n",
       "      <th>1</th>\n",
       "      <td>1</td>\n",
       "      <td>0</td>\n",
       "      <td>0</td>\n",
       "      <td>0</td>\n",
       "    </tr>\n",
       "    <tr>\n",
       "      <th>2</th>\n",
       "      <td>0</td>\n",
       "      <td>0</td>\n",
       "      <td>1</td>\n",
       "      <td>0</td>\n",
       "    </tr>\n",
       "    <tr>\n",
       "      <th>3</th>\n",
       "      <td>0</td>\n",
       "      <td>1</td>\n",
       "      <td>0</td>\n",
       "      <td>0</td>\n",
       "    </tr>\n",
       "    <tr>\n",
       "      <th>4</th>\n",
       "      <td>1</td>\n",
       "      <td>0</td>\n",
       "      <td>0</td>\n",
       "      <td>0</td>\n",
       "    </tr>\n",
       "  </tbody>\n",
       "</table>\n",
       "</div>"
      ],
      "text/plain": [
       "   OutcomeYear_2013  OutcomeYear_2014  OutcomeYear_2015  OutcomeYear_2016\n",
       "0                 0                 1                 0                 0\n",
       "1                 1                 0                 0                 0\n",
       "2                 0                 0                 1                 0\n",
       "3                 0                 1                 0                 0\n",
       "4                 1                 0                 0                 0"
      ]
     },
     "execution_count": 428,
     "metadata": {},
     "output_type": "execute_result"
    }
   ],
   "source": [
    "year_gd.head()"
   ]
  },
  {
   "cell_type": "code",
   "execution_count": 429,
   "metadata": {},
   "outputs": [
    {
     "data": {
      "text/html": [
       "<div>\n",
       "<style>\n",
       "    .dataframe thead tr:only-child th {\n",
       "        text-align: right;\n",
       "    }\n",
       "\n",
       "    .dataframe thead th {\n",
       "        text-align: left;\n",
       "    }\n",
       "\n",
       "    .dataframe tbody tr th {\n",
       "        vertical-align: top;\n",
       "    }\n",
       "</style>\n",
       "<table border=\"1\" class=\"dataframe\">\n",
       "  <thead>\n",
       "    <tr style=\"text-align: right;\">\n",
       "      <th></th>\n",
       "      <th>Intact Female</th>\n",
       "      <th>Intact Male</th>\n",
       "      <th>Neutered Male</th>\n",
       "      <th>Spayed Female</th>\n",
       "      <th>Unknown</th>\n",
       "    </tr>\n",
       "  </thead>\n",
       "  <tbody>\n",
       "    <tr>\n",
       "      <th>0</th>\n",
       "      <td>0</td>\n",
       "      <td>0</td>\n",
       "      <td>1</td>\n",
       "      <td>0</td>\n",
       "      <td>0</td>\n",
       "    </tr>\n",
       "    <tr>\n",
       "      <th>1</th>\n",
       "      <td>0</td>\n",
       "      <td>0</td>\n",
       "      <td>0</td>\n",
       "      <td>1</td>\n",
       "      <td>0</td>\n",
       "    </tr>\n",
       "    <tr>\n",
       "      <th>2</th>\n",
       "      <td>0</td>\n",
       "      <td>0</td>\n",
       "      <td>1</td>\n",
       "      <td>0</td>\n",
       "      <td>0</td>\n",
       "    </tr>\n",
       "    <tr>\n",
       "      <th>3</th>\n",
       "      <td>0</td>\n",
       "      <td>1</td>\n",
       "      <td>0</td>\n",
       "      <td>0</td>\n",
       "      <td>0</td>\n",
       "    </tr>\n",
       "    <tr>\n",
       "      <th>4</th>\n",
       "      <td>0</td>\n",
       "      <td>0</td>\n",
       "      <td>1</td>\n",
       "      <td>0</td>\n",
       "      <td>0</td>\n",
       "    </tr>\n",
       "  </tbody>\n",
       "</table>\n",
       "</div>"
      ],
      "text/plain": [
       "   Intact Female  Intact Male  Neutered Male  Spayed Female  Unknown\n",
       "0              0            0              1              0        0\n",
       "1              0            0              0              1        0\n",
       "2              0            0              1              0        0\n",
       "3              0            1              0              0        0\n",
       "4              0            0              1              0        0"
      ]
     },
     "execution_count": 429,
     "metadata": {},
     "output_type": "execute_result"
    }
   ],
   "source": [
    "sex_gd.head()"
   ]
  },
  {
   "cell_type": "code",
   "execution_count": 430,
   "metadata": {},
   "outputs": [
    {
     "data": {
      "text/html": [
       "<div>\n",
       "<style>\n",
       "    .dataframe thead tr:only-child th {\n",
       "        text-align: right;\n",
       "    }\n",
       "\n",
       "    .dataframe thead th {\n",
       "        text-align: left;\n",
       "    }\n",
       "\n",
       "    .dataframe tbody tr th {\n",
       "        vertical-align: top;\n",
       "    }\n",
       "</style>\n",
       "<table border=\"1\" class=\"dataframe\">\n",
       "  <thead>\n",
       "    <tr style=\"text-align: right;\">\n",
       "      <th></th>\n",
       "      <th>domestic</th>\n",
       "      <th>giant</th>\n",
       "      <th>large</th>\n",
       "      <th>large_cat</th>\n",
       "      <th>medium</th>\n",
       "      <th>medium_cat</th>\n",
       "      <th>mix</th>\n",
       "      <th>small</th>\n",
       "      <th>small_cat</th>\n",
       "      <th>unknown</th>\n",
       "    </tr>\n",
       "  </thead>\n",
       "  <tbody>\n",
       "    <tr>\n",
       "      <th>11451</th>\n",
       "      <td>1</td>\n",
       "      <td>0</td>\n",
       "      <td>0</td>\n",
       "      <td>0</td>\n",
       "      <td>0</td>\n",
       "      <td>0</td>\n",
       "      <td>0</td>\n",
       "      <td>0</td>\n",
       "      <td>0</td>\n",
       "      <td>0</td>\n",
       "    </tr>\n",
       "    <tr>\n",
       "      <th>11452</th>\n",
       "      <td>1</td>\n",
       "      <td>0</td>\n",
       "      <td>0</td>\n",
       "      <td>0</td>\n",
       "      <td>0</td>\n",
       "      <td>0</td>\n",
       "      <td>0</td>\n",
       "      <td>0</td>\n",
       "      <td>0</td>\n",
       "      <td>0</td>\n",
       "    </tr>\n",
       "    <tr>\n",
       "      <th>11453</th>\n",
       "      <td>1</td>\n",
       "      <td>0</td>\n",
       "      <td>0</td>\n",
       "      <td>0</td>\n",
       "      <td>0</td>\n",
       "      <td>0</td>\n",
       "      <td>0</td>\n",
       "      <td>0</td>\n",
       "      <td>0</td>\n",
       "      <td>0</td>\n",
       "    </tr>\n",
       "    <tr>\n",
       "      <th>11454</th>\n",
       "      <td>0</td>\n",
       "      <td>0</td>\n",
       "      <td>1</td>\n",
       "      <td>0</td>\n",
       "      <td>0</td>\n",
       "      <td>0</td>\n",
       "      <td>0</td>\n",
       "      <td>0</td>\n",
       "      <td>0</td>\n",
       "      <td>0</td>\n",
       "    </tr>\n",
       "    <tr>\n",
       "      <th>11455</th>\n",
       "      <td>0</td>\n",
       "      <td>0</td>\n",
       "      <td>0</td>\n",
       "      <td>0</td>\n",
       "      <td>1</td>\n",
       "      <td>0</td>\n",
       "      <td>0</td>\n",
       "      <td>0</td>\n",
       "      <td>0</td>\n",
       "      <td>0</td>\n",
       "    </tr>\n",
       "  </tbody>\n",
       "</table>\n",
       "</div>"
      ],
      "text/plain": [
       "       domestic  giant  large  large_cat  medium  medium_cat  mix  small  \\\n",
       "11451         1      0      0          0       0           0    0      0   \n",
       "11452         1      0      0          0       0           0    0      0   \n",
       "11453         1      0      0          0       0           0    0      0   \n",
       "11454         0      0      1          0       0           0    0      0   \n",
       "11455         0      0      0          0       1           0    0      0   \n",
       "\n",
       "       small_cat  unknown  \n",
       "11451          0        0  \n",
       "11452          0        0  \n",
       "11453          0        0  \n",
       "11454          0        0  \n",
       "11455          0        0  "
      ]
     },
     "execution_count": 430,
     "metadata": {},
     "output_type": "execute_result"
    }
   ],
   "source": [
    "size_gd.tail()"
   ]
  },
  {
   "cell_type": "code",
   "execution_count": null,
   "metadata": {
    "collapsed": true
   },
   "outputs": [],
   "source": []
  },
  {
   "cell_type": "code",
   "execution_count": 399,
   "metadata": {
    "collapsed": true
   },
   "outputs": [
    {
     "name": "stdout",
     "output_type": "stream",
     "text": [
      "0        4\n",
      "1        3\n",
      "2        1\n",
      "3        5\n",
      "4        5\n",
      "5        5\n",
      "6        5\n",
      "7        5\n",
      "8        1\n",
      "9        1\n",
      "10       5\n",
      "11       1\n",
      "12       1\n",
      "13       4\n",
      "14       4\n",
      "15       1\n",
      "16       5\n",
      "17       5\n",
      "18       5\n",
      "19       4\n",
      "        ..\n",
      "26709    1\n",
      "26710    5\n",
      "26711    5\n",
      "26712    4\n",
      "26713    3\n",
      "26714    1\n",
      "26715    1\n",
      "26716    1\n",
      "26717    4\n",
      "26718    1\n",
      "26719    5\n",
      "26720    1\n",
      "26721    1\n",
      "26722    5\n",
      "26723    1\n",
      "26724    5\n",
      "26725    5\n",
      "26726    1\n",
      "26727    5\n",
      "26728    5\n",
      "Name: OutcomeType, Length: 26729, dtype: int64\n"
     ]
    }
   ],
   "source": [
    "# Outcome_mapping\n",
    "outcome_mapping = {'Adoption':1, 'Died':2, 'Euthanasia':3, 'Return_to_owner':4, 'Transfer':5}\n",
    "dfY = dfY.map(outcome_mapping)\n",
    "print(dfY)"
   ]
  },
  {
   "cell_type": "code",
   "execution_count": 432,
   "metadata": {
    "collapsed": true
   },
   "outputs": [],
   "source": [
    "data_combined.drop('DateTime', axis = 1, inplace = True)"
   ]
  },
  {
   "cell_type": "code",
   "execution_count": 433,
   "metadata": {
    "collapsed": true
   },
   "outputs": [],
   "source": [
    "#Name\n",
    "def no_name_numeric_label(x):\n",
    "    '''Reference: https://github.com/JihongL/Shelter-Animal-Outcomes/blob/master/Shelter_EDA.ipynb'''\n",
    "    '''This function is used in conjunction with .transform() method to convert Name and No Name \n",
    "    to numerical values'''\n",
    "    if x == 'No Name':\n",
    "        return 0\n",
    "    else:\n",
    "        return 1\n",
    "\n",
    "data_train['Name'] = data_train['Name'].transform(no_name_numeric_label)\n",
    "data_combined['Name'] = data_combined['Name'].transform(no_name_numeric_label)"
   ]
  },
  {
   "cell_type": "code",
   "execution_count": 434,
   "metadata": {},
   "outputs": [
    {
     "data": {
      "text/html": [
       "<div>\n",
       "<style>\n",
       "    .dataframe thead tr:only-child th {\n",
       "        text-align: right;\n",
       "    }\n",
       "\n",
       "    .dataframe thead th {\n",
       "        text-align: left;\n",
       "    }\n",
       "\n",
       "    .dataframe tbody tr th {\n",
       "        vertical-align: top;\n",
       "    }\n",
       "</style>\n",
       "<table border=\"1\" class=\"dataframe\">\n",
       "  <thead>\n",
       "    <tr style=\"text-align: right;\">\n",
       "      <th></th>\n",
       "      <th>AnimalID</th>\n",
       "      <th>Name</th>\n",
       "      <th>AnimalType</th>\n",
       "      <th>SexuponOutcome</th>\n",
       "      <th>AgeuponOutcome</th>\n",
       "      <th>Breed</th>\n",
       "      <th>Color</th>\n",
       "      <th>Date</th>\n",
       "      <th>OutcomeYear</th>\n",
       "      <th>OutcomeMonth</th>\n",
       "      <th>OutcomeDay</th>\n",
       "      <th>OutcomeHour</th>\n",
       "      <th>OutcomeSeason</th>\n",
       "      <th>Size</th>\n",
       "      <th>Main_Breed</th>\n",
       "      <th>Sub_Breed</th>\n",
       "      <th>Main_Color</th>\n",
       "      <th>Sub_Color</th>\n",
       "      <th>Rank</th>\n",
       "    </tr>\n",
       "  </thead>\n",
       "  <tbody>\n",
       "    <tr>\n",
       "      <th>11451</th>\n",
       "      <td>11452</td>\n",
       "      <td>0</td>\n",
       "      <td>0</td>\n",
       "      <td>Neutered Male</td>\n",
       "      <td>60.0</td>\n",
       "      <td>Domestic Shorthair Mix</td>\n",
       "      <td>Black</td>\n",
       "      <td>201407</td>\n",
       "      <td>2014</td>\n",
       "      <td>07</td>\n",
       "      <td>08</td>\n",
       "      <td>14</td>\n",
       "      <td>summer</td>\n",
       "      <td>domestic</td>\n",
       "      <td>domestic shorthair</td>\n",
       "      <td>NA</td>\n",
       "      <td>Black</td>\n",
       "      <td>NA</td>\n",
       "      <td>0.0</td>\n",
       "    </tr>\n",
       "    <tr>\n",
       "      <th>11452</th>\n",
       "      <td>11453</td>\n",
       "      <td>0</td>\n",
       "      <td>0</td>\n",
       "      <td>Intact Female</td>\n",
       "      <td>14.0</td>\n",
       "      <td>Domestic Shorthair Mix</td>\n",
       "      <td>Blue</td>\n",
       "      <td>201410</td>\n",
       "      <td>2014</td>\n",
       "      <td>10</td>\n",
       "      <td>21</td>\n",
       "      <td>12</td>\n",
       "      <td>fall</td>\n",
       "      <td>domestic</td>\n",
       "      <td>domestic shorthair</td>\n",
       "      <td>NA</td>\n",
       "      <td>Blue</td>\n",
       "      <td>NA</td>\n",
       "      <td>0.0</td>\n",
       "    </tr>\n",
       "    <tr>\n",
       "      <th>11453</th>\n",
       "      <td>11454</td>\n",
       "      <td>0</td>\n",
       "      <td>0</td>\n",
       "      <td>Intact Female</td>\n",
       "      <td>365.0</td>\n",
       "      <td>Domestic Shorthair Mix</td>\n",
       "      <td>Calico</td>\n",
       "      <td>201409</td>\n",
       "      <td>2014</td>\n",
       "      <td>09</td>\n",
       "      <td>29</td>\n",
       "      <td>9:</td>\n",
       "      <td>fall</td>\n",
       "      <td>domestic</td>\n",
       "      <td>domestic shorthair</td>\n",
       "      <td>NA</td>\n",
       "      <td>Calico</td>\n",
       "      <td>NA</td>\n",
       "      <td>0.0</td>\n",
       "    </tr>\n",
       "    <tr>\n",
       "      <th>11454</th>\n",
       "      <td>11455</td>\n",
       "      <td>1</td>\n",
       "      <td>1</td>\n",
       "      <td>Neutered Male</td>\n",
       "      <td>2190.0</td>\n",
       "      <td>German Shepherd Mix</td>\n",
       "      <td>Black/Tan</td>\n",
       "      <td>201509</td>\n",
       "      <td>2015</td>\n",
       "      <td>09</td>\n",
       "      <td>05</td>\n",
       "      <td>17</td>\n",
       "      <td>fall</td>\n",
       "      <td>large</td>\n",
       "      <td>german shepherd</td>\n",
       "      <td>NA</td>\n",
       "      <td>Black</td>\n",
       "      <td>Tan</td>\n",
       "      <td>188.0</td>\n",
       "    </tr>\n",
       "    <tr>\n",
       "      <th>11455</th>\n",
       "      <td>11456</td>\n",
       "      <td>1</td>\n",
       "      <td>1</td>\n",
       "      <td>Intact Male</td>\n",
       "      <td>1460.0</td>\n",
       "      <td>Labrador Retriever</td>\n",
       "      <td>Cream</td>\n",
       "      <td>201407</td>\n",
       "      <td>2014</td>\n",
       "      <td>07</td>\n",
       "      <td>12</td>\n",
       "      <td>18</td>\n",
       "      <td>summer</td>\n",
       "      <td>medium</td>\n",
       "      <td>labrador retriever</td>\n",
       "      <td>NA</td>\n",
       "      <td>Cream</td>\n",
       "      <td>NA</td>\n",
       "      <td>189.0</td>\n",
       "    </tr>\n",
       "  </tbody>\n",
       "</table>\n",
       "</div>"
      ],
      "text/plain": [
       "      AnimalID  Name  AnimalType SexuponOutcome  AgeuponOutcome  \\\n",
       "11451    11452     0           0  Neutered Male            60.0   \n",
       "11452    11453     0           0  Intact Female            14.0   \n",
       "11453    11454     0           0  Intact Female           365.0   \n",
       "11454    11455     1           1  Neutered Male          2190.0   \n",
       "11455    11456     1           1    Intact Male          1460.0   \n",
       "\n",
       "                        Breed      Color    Date OutcomeYear OutcomeMonth  \\\n",
       "11451  Domestic Shorthair Mix      Black  201407        2014           07   \n",
       "11452  Domestic Shorthair Mix       Blue  201410        2014           10   \n",
       "11453  Domestic Shorthair Mix     Calico  201409        2014           09   \n",
       "11454     German Shepherd Mix  Black/Tan  201509        2015           09   \n",
       "11455      Labrador Retriever      Cream  201407        2014           07   \n",
       "\n",
       "      OutcomeDay OutcomeHour OutcomeSeason      Size          Main_Breed  \\\n",
       "11451         08          14        summer  domestic  domestic shorthair   \n",
       "11452         21          12          fall  domestic  domestic shorthair   \n",
       "11453         29          9:          fall  domestic  domestic shorthair   \n",
       "11454         05          17          fall     large     german shepherd   \n",
       "11455         12          18        summer    medium  labrador retriever   \n",
       "\n",
       "      Sub_Breed Main_Color Sub_Color   Rank  \n",
       "11451        NA      Black        NA    0.0  \n",
       "11452        NA       Blue        NA    0.0  \n",
       "11453        NA     Calico        NA    0.0  \n",
       "11454        NA      Black       Tan  188.0  \n",
       "11455        NA      Cream        NA  189.0  "
      ]
     },
     "execution_count": 434,
     "metadata": {},
     "output_type": "execute_result"
    }
   ],
   "source": [
    "data_combined.tail()"
   ]
  },
  {
   "cell_type": "code",
   "execution_count": null,
   "metadata": {
    "collapsed": true
   },
   "outputs": [],
   "source": []
  },
  {
   "cell_type": "markdown",
   "metadata": {},
   "source": [
    "### train, test 데이터 분리\n",
    "\n",
    "get_dummies적용등 여러면에서 train.csv과 test.csv 데이터를 합쳐서 전처리 하는것이 더 수월하다고 판단되어서 진행하였음. 모델 최적화를 위해서 두 데이터를 나누는 작업을 진행.\n",
    "\n",
    "차후 용어가 헤깔릴수도 있기 때문에 정리하자면\n",
    "\n",
    "1) train.csv 또는 Kaggle training 데이터, test.csv 또는 Kaggle test 데이터는 각각 Kaggle Competition에서 제공해준 train, test데이터를 지칭한다\n",
    "\n",
    "2) 뒷쪽 모델 최적화에서 그냥 train 데이터 또는 test데이터는 train.csv에서 모델 검증을 위해 train_test_split을 통해 형성된 데이터를 지칭한다"
   ]
  },
  {
   "cell_type": "code",
   "execution_count": 435,
   "metadata": {
    "collapsed": true
   },
   "outputs": [],
   "source": [
    "data_train_final = data_combined.iloc[:26729, :]\n",
    "data_test_final = data_combined.iloc[26729:, :]"
   ]
  },
  {
   "cell_type": "code",
   "execution_count": 436,
   "metadata": {},
   "outputs": [
    {
     "name": "stdout",
     "output_type": "stream",
     "text": [
      "(26729, 19) (11456, 19)\n"
     ]
    }
   ],
   "source": [
    "#Train과 Test데이터 행 갯수는 각각 처음에 train.csv와 test.csv의 행 갯수와 동일해야 한다\n",
    "print(data_train_final.shape, data_test_final.shape)"
   ]
  },
  {
   "cell_type": "code",
   "execution_count": 437,
   "metadata": {},
   "outputs": [
    {
     "data": {
      "text/html": [
       "<div>\n",
       "<style>\n",
       "    .dataframe thead tr:only-child th {\n",
       "        text-align: right;\n",
       "    }\n",
       "\n",
       "    .dataframe thead th {\n",
       "        text-align: left;\n",
       "    }\n",
       "\n",
       "    .dataframe tbody tr th {\n",
       "        vertical-align: top;\n",
       "    }\n",
       "</style>\n",
       "<table border=\"1\" class=\"dataframe\">\n",
       "  <thead>\n",
       "    <tr style=\"text-align: right;\">\n",
       "      <th></th>\n",
       "      <th>AnimalID</th>\n",
       "      <th>Name</th>\n",
       "      <th>AnimalType</th>\n",
       "      <th>SexuponOutcome</th>\n",
       "      <th>AgeuponOutcome</th>\n",
       "      <th>Breed</th>\n",
       "      <th>Color</th>\n",
       "      <th>Date</th>\n",
       "      <th>OutcomeYear</th>\n",
       "      <th>OutcomeMonth</th>\n",
       "      <th>OutcomeDay</th>\n",
       "      <th>OutcomeHour</th>\n",
       "      <th>OutcomeSeason</th>\n",
       "      <th>Size</th>\n",
       "      <th>Main_Breed</th>\n",
       "      <th>Sub_Breed</th>\n",
       "      <th>Main_Color</th>\n",
       "      <th>Sub_Color</th>\n",
       "      <th>Rank</th>\n",
       "    </tr>\n",
       "  </thead>\n",
       "  <tbody>\n",
       "    <tr>\n",
       "      <th>26724</th>\n",
       "      <td>A702446</td>\n",
       "      <td>0</td>\n",
       "      <td>0</td>\n",
       "      <td>Intact Male</td>\n",
       "      <td>30.0</td>\n",
       "      <td>Domestic Shorthair Mix</td>\n",
       "      <td>Brown Tabby/White</td>\n",
       "      <td>201505</td>\n",
       "      <td>2015</td>\n",
       "      <td>05</td>\n",
       "      <td>14</td>\n",
       "      <td>11</td>\n",
       "      <td>spring</td>\n",
       "      <td>domestic</td>\n",
       "      <td>domestic shorthair</td>\n",
       "      <td>NA</td>\n",
       "      <td>Brown Tabby</td>\n",
       "      <td>White</td>\n",
       "      <td>0.0</td>\n",
       "    </tr>\n",
       "    <tr>\n",
       "      <th>26725</th>\n",
       "      <td>A718934</td>\n",
       "      <td>0</td>\n",
       "      <td>0</td>\n",
       "      <td>Spayed Female</td>\n",
       "      <td>90.0</td>\n",
       "      <td>Domestic Shorthair Mix</td>\n",
       "      <td>Brown Tabby</td>\n",
       "      <td>201601</td>\n",
       "      <td>2016</td>\n",
       "      <td>01</td>\n",
       "      <td>20</td>\n",
       "      <td>18</td>\n",
       "      <td>winter</td>\n",
       "      <td>domestic</td>\n",
       "      <td>domestic shorthair</td>\n",
       "      <td>NA</td>\n",
       "      <td>Brown Tabby</td>\n",
       "      <td>NA</td>\n",
       "      <td>0.0</td>\n",
       "    </tr>\n",
       "    <tr>\n",
       "      <th>26726</th>\n",
       "      <td>A698128</td>\n",
       "      <td>1</td>\n",
       "      <td>1</td>\n",
       "      <td>Neutered Male</td>\n",
       "      <td>1460.0</td>\n",
       "      <td>Old English Bulldog Mix</td>\n",
       "      <td>White/Tan</td>\n",
       "      <td>201503</td>\n",
       "      <td>2015</td>\n",
       "      <td>03</td>\n",
       "      <td>09</td>\n",
       "      <td>13</td>\n",
       "      <td>spring</td>\n",
       "      <td>large</td>\n",
       "      <td>olde english bulldogge</td>\n",
       "      <td>NA</td>\n",
       "      <td>White</td>\n",
       "      <td>Tan</td>\n",
       "      <td>0.0</td>\n",
       "    </tr>\n",
       "    <tr>\n",
       "      <th>26727</th>\n",
       "      <td>A677478</td>\n",
       "      <td>0</td>\n",
       "      <td>0</td>\n",
       "      <td>Intact Male</td>\n",
       "      <td>28.0</td>\n",
       "      <td>Domestic Shorthair Mix</td>\n",
       "      <td>Black</td>\n",
       "      <td>201404</td>\n",
       "      <td>2014</td>\n",
       "      <td>04</td>\n",
       "      <td>27</td>\n",
       "      <td>12</td>\n",
       "      <td>spring</td>\n",
       "      <td>domestic</td>\n",
       "      <td>domestic shorthair</td>\n",
       "      <td>NA</td>\n",
       "      <td>Black</td>\n",
       "      <td>NA</td>\n",
       "      <td>0.0</td>\n",
       "    </tr>\n",
       "    <tr>\n",
       "      <th>26728</th>\n",
       "      <td>A706629</td>\n",
       "      <td>0</td>\n",
       "      <td>0</td>\n",
       "      <td>Intact Male</td>\n",
       "      <td>365.0</td>\n",
       "      <td>Domestic Shorthair Mix</td>\n",
       "      <td>Brown Tabby/White</td>\n",
       "      <td>201507</td>\n",
       "      <td>2015</td>\n",
       "      <td>07</td>\n",
       "      <td>02</td>\n",
       "      <td>09</td>\n",
       "      <td>summer</td>\n",
       "      <td>domestic</td>\n",
       "      <td>domestic shorthair</td>\n",
       "      <td>NA</td>\n",
       "      <td>Brown Tabby</td>\n",
       "      <td>White</td>\n",
       "      <td>0.0</td>\n",
       "    </tr>\n",
       "  </tbody>\n",
       "</table>\n",
       "</div>"
      ],
      "text/plain": [
       "      AnimalID  Name  AnimalType SexuponOutcome  AgeuponOutcome  \\\n",
       "26724  A702446     0           0    Intact Male            30.0   \n",
       "26725  A718934     0           0  Spayed Female            90.0   \n",
       "26726  A698128     1           1  Neutered Male          1460.0   \n",
       "26727  A677478     0           0    Intact Male            28.0   \n",
       "26728  A706629     0           0    Intact Male           365.0   \n",
       "\n",
       "                         Breed              Color    Date OutcomeYear  \\\n",
       "26724   Domestic Shorthair Mix  Brown Tabby/White  201505        2015   \n",
       "26725   Domestic Shorthair Mix        Brown Tabby  201601        2016   \n",
       "26726  Old English Bulldog Mix          White/Tan  201503        2015   \n",
       "26727   Domestic Shorthair Mix              Black  201404        2014   \n",
       "26728   Domestic Shorthair Mix  Brown Tabby/White  201507        2015   \n",
       "\n",
       "      OutcomeMonth OutcomeDay OutcomeHour OutcomeSeason      Size  \\\n",
       "26724           05         14          11        spring  domestic   \n",
       "26725           01         20          18        winter  domestic   \n",
       "26726           03         09          13        spring     large   \n",
       "26727           04         27          12        spring  domestic   \n",
       "26728           07         02          09        summer  domestic   \n",
       "\n",
       "                   Main_Breed Sub_Breed   Main_Color Sub_Color  Rank  \n",
       "26724      domestic shorthair        NA  Brown Tabby     White   0.0  \n",
       "26725      domestic shorthair        NA  Brown Tabby        NA   0.0  \n",
       "26726  olde english bulldogge        NA        White       Tan   0.0  \n",
       "26727      domestic shorthair        NA        Black        NA   0.0  \n",
       "26728      domestic shorthair        NA  Brown Tabby     White   0.0  "
      ]
     },
     "execution_count": 437,
     "metadata": {},
     "output_type": "execute_result"
    }
   ],
   "source": [
    "data_train_final.tail()"
   ]
  },
  {
   "cell_type": "code",
   "execution_count": 438,
   "metadata": {},
   "outputs": [
    {
     "data": {
      "text/html": [
       "<div>\n",
       "<style>\n",
       "    .dataframe thead tr:only-child th {\n",
       "        text-align: right;\n",
       "    }\n",
       "\n",
       "    .dataframe thead th {\n",
       "        text-align: left;\n",
       "    }\n",
       "\n",
       "    .dataframe tbody tr th {\n",
       "        vertical-align: top;\n",
       "    }\n",
       "</style>\n",
       "<table border=\"1\" class=\"dataframe\">\n",
       "  <thead>\n",
       "    <tr style=\"text-align: right;\">\n",
       "      <th></th>\n",
       "      <th>AnimalID</th>\n",
       "      <th>Name</th>\n",
       "      <th>AnimalType</th>\n",
       "      <th>SexuponOutcome</th>\n",
       "      <th>AgeuponOutcome</th>\n",
       "      <th>Breed</th>\n",
       "      <th>Color</th>\n",
       "      <th>Date</th>\n",
       "      <th>OutcomeYear</th>\n",
       "      <th>OutcomeMonth</th>\n",
       "      <th>OutcomeDay</th>\n",
       "      <th>OutcomeHour</th>\n",
       "      <th>OutcomeSeason</th>\n",
       "      <th>Size</th>\n",
       "      <th>Main_Breed</th>\n",
       "      <th>Sub_Breed</th>\n",
       "      <th>Main_Color</th>\n",
       "      <th>Sub_Color</th>\n",
       "      <th>Rank</th>\n",
       "    </tr>\n",
       "  </thead>\n",
       "  <tbody>\n",
       "    <tr>\n",
       "      <th>11451</th>\n",
       "      <td>11452</td>\n",
       "      <td>0</td>\n",
       "      <td>0</td>\n",
       "      <td>Neutered Male</td>\n",
       "      <td>60.0</td>\n",
       "      <td>Domestic Shorthair Mix</td>\n",
       "      <td>Black</td>\n",
       "      <td>201407</td>\n",
       "      <td>2014</td>\n",
       "      <td>07</td>\n",
       "      <td>08</td>\n",
       "      <td>14</td>\n",
       "      <td>summer</td>\n",
       "      <td>domestic</td>\n",
       "      <td>domestic shorthair</td>\n",
       "      <td>NA</td>\n",
       "      <td>Black</td>\n",
       "      <td>NA</td>\n",
       "      <td>0.0</td>\n",
       "    </tr>\n",
       "    <tr>\n",
       "      <th>11452</th>\n",
       "      <td>11453</td>\n",
       "      <td>0</td>\n",
       "      <td>0</td>\n",
       "      <td>Intact Female</td>\n",
       "      <td>14.0</td>\n",
       "      <td>Domestic Shorthair Mix</td>\n",
       "      <td>Blue</td>\n",
       "      <td>201410</td>\n",
       "      <td>2014</td>\n",
       "      <td>10</td>\n",
       "      <td>21</td>\n",
       "      <td>12</td>\n",
       "      <td>fall</td>\n",
       "      <td>domestic</td>\n",
       "      <td>domestic shorthair</td>\n",
       "      <td>NA</td>\n",
       "      <td>Blue</td>\n",
       "      <td>NA</td>\n",
       "      <td>0.0</td>\n",
       "    </tr>\n",
       "    <tr>\n",
       "      <th>11453</th>\n",
       "      <td>11454</td>\n",
       "      <td>0</td>\n",
       "      <td>0</td>\n",
       "      <td>Intact Female</td>\n",
       "      <td>365.0</td>\n",
       "      <td>Domestic Shorthair Mix</td>\n",
       "      <td>Calico</td>\n",
       "      <td>201409</td>\n",
       "      <td>2014</td>\n",
       "      <td>09</td>\n",
       "      <td>29</td>\n",
       "      <td>9:</td>\n",
       "      <td>fall</td>\n",
       "      <td>domestic</td>\n",
       "      <td>domestic shorthair</td>\n",
       "      <td>NA</td>\n",
       "      <td>Calico</td>\n",
       "      <td>NA</td>\n",
       "      <td>0.0</td>\n",
       "    </tr>\n",
       "    <tr>\n",
       "      <th>11454</th>\n",
       "      <td>11455</td>\n",
       "      <td>1</td>\n",
       "      <td>1</td>\n",
       "      <td>Neutered Male</td>\n",
       "      <td>2190.0</td>\n",
       "      <td>German Shepherd Mix</td>\n",
       "      <td>Black/Tan</td>\n",
       "      <td>201509</td>\n",
       "      <td>2015</td>\n",
       "      <td>09</td>\n",
       "      <td>05</td>\n",
       "      <td>17</td>\n",
       "      <td>fall</td>\n",
       "      <td>large</td>\n",
       "      <td>german shepherd</td>\n",
       "      <td>NA</td>\n",
       "      <td>Black</td>\n",
       "      <td>Tan</td>\n",
       "      <td>188.0</td>\n",
       "    </tr>\n",
       "    <tr>\n",
       "      <th>11455</th>\n",
       "      <td>11456</td>\n",
       "      <td>1</td>\n",
       "      <td>1</td>\n",
       "      <td>Intact Male</td>\n",
       "      <td>1460.0</td>\n",
       "      <td>Labrador Retriever</td>\n",
       "      <td>Cream</td>\n",
       "      <td>201407</td>\n",
       "      <td>2014</td>\n",
       "      <td>07</td>\n",
       "      <td>12</td>\n",
       "      <td>18</td>\n",
       "      <td>summer</td>\n",
       "      <td>medium</td>\n",
       "      <td>labrador retriever</td>\n",
       "      <td>NA</td>\n",
       "      <td>Cream</td>\n",
       "      <td>NA</td>\n",
       "      <td>189.0</td>\n",
       "    </tr>\n",
       "  </tbody>\n",
       "</table>\n",
       "</div>"
      ],
      "text/plain": [
       "      AnimalID  Name  AnimalType SexuponOutcome  AgeuponOutcome  \\\n",
       "11451    11452     0           0  Neutered Male            60.0   \n",
       "11452    11453     0           0  Intact Female            14.0   \n",
       "11453    11454     0           0  Intact Female           365.0   \n",
       "11454    11455     1           1  Neutered Male          2190.0   \n",
       "11455    11456     1           1    Intact Male          1460.0   \n",
       "\n",
       "                        Breed      Color    Date OutcomeYear OutcomeMonth  \\\n",
       "11451  Domestic Shorthair Mix      Black  201407        2014           07   \n",
       "11452  Domestic Shorthair Mix       Blue  201410        2014           10   \n",
       "11453  Domestic Shorthair Mix     Calico  201409        2014           09   \n",
       "11454     German Shepherd Mix  Black/Tan  201509        2015           09   \n",
       "11455      Labrador Retriever      Cream  201407        2014           07   \n",
       "\n",
       "      OutcomeDay OutcomeHour OutcomeSeason      Size          Main_Breed  \\\n",
       "11451         08          14        summer  domestic  domestic shorthair   \n",
       "11452         21          12          fall  domestic  domestic shorthair   \n",
       "11453         29          9:          fall  domestic  domestic shorthair   \n",
       "11454         05          17          fall     large     german shepherd   \n",
       "11455         12          18        summer    medium  labrador retriever   \n",
       "\n",
       "      Sub_Breed Main_Color Sub_Color   Rank  \n",
       "11451        NA      Black        NA    0.0  \n",
       "11452        NA       Blue        NA    0.0  \n",
       "11453        NA     Calico        NA    0.0  \n",
       "11454        NA      Black       Tan  188.0  \n",
       "11455        NA      Cream        NA  189.0  "
      ]
     },
     "execution_count": 438,
     "metadata": {},
     "output_type": "execute_result"
    }
   ],
   "source": [
    "data_test_final.tail()"
   ]
  },
  {
   "cell_type": "code",
   "execution_count": 439,
   "metadata": {},
   "outputs": [
    {
     "data": {
      "text/plain": [
       "26724    5\n",
       "26725    5\n",
       "26726    1\n",
       "26727    5\n",
       "26728    5\n",
       "Name: OutcomeType, dtype: int64"
      ]
     },
     "execution_count": 439,
     "metadata": {},
     "output_type": "execute_result"
    }
   ],
   "source": [
    "dfY.tail()"
   ]
  },
  {
   "cell_type": "code",
   "execution_count": null,
   "metadata": {
    "collapsed": true
   },
   "outputs": [],
   "source": []
  },
  {
   "cell_type": "markdown",
   "metadata": {},
   "source": [
    "#### get_dummies적용된 DataFrame도 train과 test로 나눠줄 필요가 있다"
   ]
  },
  {
   "cell_type": "code",
   "execution_count": 440,
   "metadata": {
    "collapsed": true
   },
   "outputs": [],
   "source": [
    "#Train dummy variable features\n",
    "main_color_gd_train = main_color_gd.iloc[:26729, :]\n",
    "sub_color_gd_train = sub_color_gd.iloc[:26729, :]\n",
    "main_breed_gd_train = main_breed_gd.iloc[:26729, :]\n",
    "sub_breed_gd_train = sub_breed_gd.iloc[:26729, :]\n",
    "year_gd_train = year_gd.iloc[:26729, :]\n",
    "month_gd_train = month_gd.iloc[:26729, :]\n",
    "day_gd_train = day_gd.iloc[:26729, :]\n",
    "hour_gd_train = hour_gd.iloc[:26729, :]\n",
    "size_gd_train = size_gd.iloc[:26729, :]\n",
    "sex_gd_train = sex_gd.iloc[:26729, :]\n",
    "season_gd_train = season_gd.iloc[:26729, :]"
   ]
  },
  {
   "cell_type": "code",
   "execution_count": 441,
   "metadata": {},
   "outputs": [
    {
     "data": {
      "text/plain": [
       "(26729, 57)"
      ]
     },
     "execution_count": 441,
     "metadata": {},
     "output_type": "execute_result"
    }
   ],
   "source": [
    "main_color_gd_train.shape"
   ]
  },
  {
   "cell_type": "code",
   "execution_count": 442,
   "metadata": {
    "collapsed": true
   },
   "outputs": [],
   "source": [
    "#Test dummy variable features\n",
    "main_color_gd_test = main_color_gd.iloc[26729:, :]\n",
    "sub_color_gd_test = sub_color_gd.iloc[26729:, :]\n",
    "main_breed_gd_test = main_breed_gd.iloc[26729:, :]\n",
    "sub_breed_gd_test = sub_breed_gd.iloc[26729:, :]\n",
    "year_gd_test = year_gd.iloc[26729:, :]\n",
    "month_gd_test = month_gd.iloc[26729:, :]\n",
    "day_gd_test = day_gd.iloc[26729:, :]\n",
    "hour_gd_test = hour_gd.iloc[26729:, :]\n",
    "size_gd_test = size_gd.iloc[26729:, :]\n",
    "sex_gd_test = sex_gd.iloc[26729:, :]\n",
    "season_gd_test = season_gd.iloc[26729:, :]"
   ]
  },
  {
   "cell_type": "code",
   "execution_count": 443,
   "metadata": {},
   "outputs": [
    {
     "data": {
      "text/plain": [
       "(11456, 57)"
      ]
     },
     "execution_count": 443,
     "metadata": {},
     "output_type": "execute_result"
    }
   ],
   "source": [
    "main_color_gd_test.shape"
   ]
  },
  {
   "cell_type": "code",
   "execution_count": null,
   "metadata": {
    "collapsed": true
   },
   "outputs": [],
   "source": []
  },
  {
   "cell_type": "code",
   "execution_count": null,
   "metadata": {
    "collapsed": true
   },
   "outputs": [],
   "source": []
  },
  {
   "cell_type": "markdown",
   "metadata": {},
   "source": [
    "# Feature Selection\n",
    "\n",
    "#### Feature Preprocessing 마침. 생각보다 간단한 데이터 구조였슴에도 불구하고 데이터 전처리가 어마어마한 분량을 차지하고 있다."
   ]
  },
  {
   "cell_type": "code",
   "execution_count": 444,
   "metadata": {
    "collapsed": true
   },
   "outputs": [],
   "source": [
    "def greedy_selector(dfX_list, dfY):\n",
    "    '''This function performs greedy feature selection. dfX_list contains various combinations of features that will be used'''\n",
    "    train_compile, test_compile, logLoss_compile = [], [], []\n",
    "    \n",
    "    for dfX in dfX_list:\n",
    "        dfX_train, dfX_test, dfY_train, dfY_test = train_test_split(dfX, dfY, test_size = 0.25, random_state=0)\n",
    "        '''nthread parameter is the paralleization parameter. This forces XGBoost to utilize all the CPU power available'''\n",
    "        model_xgb = xgboost.XGBClassifier(n_estimators = 100, max_depth = 2, nthread = 3)\n",
    "        model_xgb.fit(dfX_train, dfY_train)\n",
    "\n",
    "        '''Let us save train and test accuracy along with log loss'''\n",
    "        y_pred_train = model_xgb.predict(dfX_train)\n",
    "        train_accuracy = accuracy_score(dfY_train, y_pred_train)\n",
    "        train_compile.append(train_accuracy)\n",
    "\n",
    "        y_pred_test = model_xgb.predict(dfX_test)\n",
    "        test_accuracy = accuracy_score(dfY_test, y_pred_test)\n",
    "        test_compile.append(test_accuracy)\n",
    "\n",
    "        y_proba = model_xgb.predict_proba(dfX_test)\n",
    "        logLoss = log_loss(dfY_test, y_proba)\n",
    "        logLoss_compile.append(logLoss)\n",
    "        \n",
    "    return train_compile, test_compile, logLoss_compile"
   ]
  },
  {
   "cell_type": "markdown",
   "metadata": {},
   "source": [
    "Feature Selection은 원래 feature_importance할 예정이었으나 위에 get_dummies method를 통해 본 결과 인자수가 어마어마 하다는것을 알수있다 (대략 530개 정도). 또한 인자끼리 관계도 또한 무시할수 없기 때문에 고민하던중, 우선 XGBoost를 이용해서 Greedy 한 방식으로 feature selection을 진행하기로 했다. 정식대로라면 사용하려는 feature마다 모델 최적화를 하면서 결과값을 비교하는것이 정상이지만 그렇게 할려하니 시간도 오래 걸리고 해서 차선책으로 Greedy방식으로 진행 해보기로 했다."
   ]
  },
  {
   "cell_type": "code",
   "execution_count": 445,
   "metadata": {
    "collapsed": true
   },
   "outputs": [],
   "source": [
    "'''dfY is always fixed'''\n",
    "\n",
    "dummy_cont = data_train_final[['Name', 'AnimalType', 'AgeuponOutcome', 'Rank']]\n",
    "\n",
    "dfX = pd.concat([dummy_cont, main_breed_gd_train, main_color_gd_train, month_gd_train, year_gd_train, sex_gd_train], axis = 1)\n",
    "dfX2 = pd.concat([dummy_cont, main_breed_gd_train, sub_breed_gd_train, main_color_gd_train, sub_color_gd_train, \n",
    "                  month_gd_train, year_gd_train, sex_gd_train], axis = 1)\n",
    "dfX3 = pd.concat([dummy_cont, size_gd_train, main_color_gd_train, sub_color_gd_train, month_gd_train, year_gd_train, \n",
    "                  sex_gd_train], axis = 1)\n",
    "dfX4 = pd.concat([dummy_cont, size_gd_train, main_breed_gd_train, sub_breed_gd_train, main_color_gd_train, \n",
    "                  sub_color_gd_train, month_gd_train, year_gd_train, sex_gd_train], axis = 1)\n",
    "dfX5 = pd.concat([dummy_cont, main_breed_gd_train, sub_breed_gd_train, main_color_gd_train, sub_color_gd_train, \n",
    "                  season_gd_train, sex_gd_train], axis = 1)\n",
    "dfX6 = pd.concat([dummy_cont, size_gd_train, main_breed_gd_train, sub_breed_gd_train, main_color_gd_train, sub_color_gd_train, \n",
    "                 year_gd_train, month_gd_train, day_gd_train, hour_gd_train, sex_gd_train], axis = 1)\n",
    "dfX7 = pd.concat([dummy_cont, size_gd_train, main_color_gd_train, sub_color_gd_train, \n",
    "                 year_gd_train, month_gd_train, day_gd_train, hour_gd_train, sex_gd_train], axis = 1)"
   ]
  },
  {
   "cell_type": "code",
   "execution_count": null,
   "metadata": {
    "collapsed": true
   },
   "outputs": [],
   "source": [
    "%%time\n",
    "dfX_list = [dfX, dfX2, dfX3, dfX4, dfX5, dfX6, dfX7]\n",
    "train_compile, test_compile, logLoss_compile = greedy_selector(dfX_list, dfY)"
   ]
  },
  {
   "cell_type": "code",
   "execution_count": null,
   "metadata": {
    "collapsed": true
   },
   "outputs": [],
   "source": [
    "print('Test accuracy: ', test_compile)\n",
    "print('Log Loss performance: ', logLoss_compile)"
   ]
  },
  {
   "cell_type": "code",
   "execution_count": null,
   "metadata": {
    "collapsed": true
   },
   "outputs": [],
   "source": [
    "plt.figure(figsize = (7, 5))\n",
    "plt.plot(range(1, 8), train_compile, label = 'train_accuracy')\n",
    "plt.plot(range(1, 8), test_compile, label = 'test_accuracy')\n",
    "plt.legend()\n",
    "plt.xlabel('Feature Cases')\n",
    "plt.ylabel('Accuracy %')\n",
    "plt.title('Greedy Feature Selection Result')"
   ]
  },
  {
   "cell_type": "code",
   "execution_count": null,
   "metadata": {
    "collapsed": true
   },
   "outputs": [],
   "source": [
    "plt.figure(figsize = (7, 5))\n",
    "plt.plot(range(1, 8), logLoss_compile)\n",
    "plt.xlabel('Feature Cases')\n",
    "plt.ylabel('Log Loss')\n",
    "plt.title('Greedy Feature Selection Result')"
   ]
  },
  {
   "cell_type": "code",
   "execution_count": null,
   "metadata": {
    "collapsed": true
   },
   "outputs": [],
   "source": []
  },
  {
   "cell_type": "markdown",
   "metadata": {},
   "source": [
    "### 데이터 split -> 결과가 제일 좋았던 6번 dfX적용"
   ]
  },
  {
   "cell_type": "code",
   "execution_count": null,
   "metadata": {
    "collapsed": true
   },
   "outputs": [],
   "source": [
    "dfX_train, dfX_test, dfY_train, dfY_test = train_test_split(dfX6, dfY, test_size = 0.05, random_state = 0)"
   ]
  },
  {
   "cell_type": "code",
   "execution_count": null,
   "metadata": {
    "collapsed": true
   },
   "outputs": [],
   "source": [
    "dfX_test.shape"
   ]
  },
  {
   "cell_type": "code",
   "execution_count": null,
   "metadata": {
    "collapsed": true
   },
   "outputs": [],
   "source": []
  },
  {
   "cell_type": "code",
   "execution_count": null,
   "metadata": {
    "collapsed": true
   },
   "outputs": [],
   "source": []
  },
  {
   "cell_type": "markdown",
   "metadata": {},
   "source": [
    "# Modeling"
   ]
  },
  {
   "cell_type": "markdown",
   "metadata": {},
   "source": [
    "## Logistic Regression Model Optimization"
   ]
  },
  {
   "cell_type": "code",
   "execution_count": null,
   "metadata": {
    "collapsed": true
   },
   "outputs": [],
   "source": [
    "def lr_optimizer_estimator(dfX, dfY):\n",
    "    '''This function is used to optimize the xgboost parameters using GridSearchCV from Scikit-learn'''\n",
    "    model_lr = LogisticRegression()\n",
    "    parameters = {'penalty': ['l1','l2'], 'C': [0.01, 0.1, 1, 10,100]}\n",
    "    \n",
    "    gs = GridSearchCV(estimator = model_lr, param_grid = parameters, scoring = 'neg_log_loss', cv = 10, n_jobs = 3)\n",
    "    %time gs = gs.fit(dfX, dfY)\n",
    "    return gs"
   ]
  },
  {
   "cell_type": "code",
   "execution_count": null,
   "metadata": {
    "collapsed": true
   },
   "outputs": [],
   "source": [
    "gs = lr_optimizer_estimator(dfX_train, dfY_train)"
   ]
  },
  {
   "cell_type": "code",
   "execution_count": null,
   "metadata": {
    "collapsed": true
   },
   "outputs": [],
   "source": [
    "gs.cv_results_[\"mean_test_score\"]"
   ]
  },
  {
   "cell_type": "code",
   "execution_count": null,
   "metadata": {
    "collapsed": true
   },
   "outputs": [],
   "source": [
    "print(gs.best_score_)\n",
    "print(gs.best_params_)"
   ]
  },
  {
   "cell_type": "markdown",
   "metadata": {},
   "source": [
    "#### Logistic Regression: GridSearchCV 최적화 식 최종 test 검증"
   ]
  },
  {
   "cell_type": "code",
   "execution_count": null,
   "metadata": {
    "collapsed": true
   },
   "outputs": [],
   "source": [
    "model_lr = LogisticRegression(penalty = 'l1', C = 1)\n",
    "model_lr.fit(dfX_train, dfY_train)\n",
    "\n",
    "y_pred_train = model_lr.predict(dfX_train)\n",
    "train_accuracy = accuracy_score(dfY_train, y_pred_train)\n",
    "\n",
    "y_pred_test = model_lr.predict(dfX_test)\n",
    "test_accuracy = accuracy_score(dfY_test, y_pred_test)\n",
    "\n",
    "y_proba = model_lr.predict_proba(dfX_test)\n",
    "performance = log_loss(dfY_test, y_proba)"
   ]
  },
  {
   "cell_type": "code",
   "execution_count": null,
   "metadata": {
    "collapsed": true
   },
   "outputs": [],
   "source": [
    "print('Logistic Regression -----> Training accuracy: %f,  Test accuracy: %f,  log_loos:  %f' % (train_accuracy, test_accuracy, performance))"
   ]
  },
  {
   "cell_type": "code",
   "execution_count": null,
   "metadata": {
    "collapsed": true
   },
   "outputs": [],
   "source": [
    "print(classification_report(dfY_test, y_pred_test))"
   ]
  },
  {
   "cell_type": "code",
   "execution_count": null,
   "metadata": {
    "collapsed": true
   },
   "outputs": [],
   "source": []
  },
  {
   "cell_type": "code",
   "execution_count": null,
   "metadata": {
    "collapsed": true
   },
   "outputs": [],
   "source": []
  },
  {
   "cell_type": "markdown",
   "metadata": {},
   "source": [
    "## Naive Bayesian Model Optimization\n",
    "\n",
    "#### Reference: https://www.analyticsvidhya.com/blog/2017/09/naive-bayes-explained/\n",
    "\n",
    "위 참조는 Naive Bayesian모델의 predict_proba 결과는 신용성이 떨어진다는 내용의 관련 자료임"
   ]
  },
  {
   "cell_type": "code",
   "execution_count": null,
   "metadata": {
    "collapsed": true
   },
   "outputs": [],
   "source": [
    "model_NB = GaussianNB().fit(dfX_train, dfY_train)"
   ]
  },
  {
   "cell_type": "code",
   "execution_count": null,
   "metadata": {
    "collapsed": true
   },
   "outputs": [],
   "source": [
    "y_pred_train = model_NB.predict(dfX_train)\n",
    "train_accuracy = accuracy_score(dfY_train, y_pred_train)\n",
    "\n",
    "y_pred_test = model_NB.predict(dfX_test)\n",
    "test_accuracy = accuracy_score(dfY_test, y_pred_test)\n",
    "\n",
    "y_proba = model_NB.predict_proba(dfX_test)\n",
    "performance = log_loss(dfY_test, y_proba)"
   ]
  },
  {
   "cell_type": "code",
   "execution_count": null,
   "metadata": {
    "collapsed": true
   },
   "outputs": [],
   "source": [
    "print('ExtremeForest -----> Training accuracy: %f,  Test accuracy: %f,  log_loos:  %f' % (train_accuracy, test_accuracy, performance))"
   ]
  },
  {
   "cell_type": "code",
   "execution_count": null,
   "metadata": {
    "collapsed": true
   },
   "outputs": [],
   "source": [
    "print(classification_report(dfY_test, y_pred_test))"
   ]
  },
  {
   "cell_type": "markdown",
   "metadata": {},
   "source": [
    "Naive Bayesian의 가정중 하나는 feature들이 독립적인(independence) 관계를 가진다는 거다. 하지만 앞서 EDA에서 봤듯이 shelter animal 데이터는 인자별 관계도가 매우 복잡하다. 어느정도 예상했지만 생각보다 더  Naive Bayesian 접근은 결론이 매우 좋지 않았다."
   ]
  },
  {
   "cell_type": "code",
   "execution_count": null,
   "metadata": {
    "collapsed": true
   },
   "outputs": [],
   "source": []
  },
  {
   "cell_type": "code",
   "execution_count": null,
   "metadata": {
    "collapsed": true
   },
   "outputs": [],
   "source": []
  },
  {
   "cell_type": "markdown",
   "metadata": {},
   "source": [
    "## Random Forest Model Optimization\n",
    "\n",
    "GridsearchCV 최적화"
   ]
  },
  {
   "cell_type": "code",
   "execution_count": null,
   "metadata": {
    "collapsed": true
   },
   "outputs": [],
   "source": [
    "def forest_optimizer_estimator(dfX, dfY):\n",
    "    '''This function is used to optimize the xgboost parameters using GridSearchCV from Scikit-learn'''\n",
    "    model_forest = RandomForestClassifier(n_jobs = 3)\n",
    "    parameters = {'max_depth': [35, 40, 45, 50], 'n_estimators': [300, 500, 700]}\n",
    "    \n",
    "    gs = GridSearchCV(estimator = model_forest, param_grid = parameters, scoring = 'neg_log_loss', cv = 5, n_jobs = 3)\n",
    "    %time gs = gs.fit(dfX, dfY)\n",
    "    return gs"
   ]
  },
  {
   "cell_type": "code",
   "execution_count": null,
   "metadata": {
    "collapsed": true
   },
   "outputs": [],
   "source": [
    "%%time\n",
    "gs_estimator = forest_optimizer_estimator(dfX_train, dfY_train)"
   ]
  },
  {
   "cell_type": "code",
   "execution_count": null,
   "metadata": {
    "collapsed": true
   },
   "outputs": [],
   "source": [
    "gs_estimator.cv_results_[\"mean_test_score\"]"
   ]
  },
  {
   "cell_type": "code",
   "execution_count": null,
   "metadata": {
    "collapsed": true
   },
   "outputs": [],
   "source": [
    "print(gs_estimator.best_score_)\n",
    "print(gs_estimator.best_params_)"
   ]
  },
  {
   "cell_type": "markdown",
   "metadata": {},
   "source": [
    "### Random Forest: GridSearchCV 최적화 식 최종 test 검증"
   ]
  },
  {
   "cell_type": "code",
   "execution_count": null,
   "metadata": {
    "collapsed": true
   },
   "outputs": [],
   "source": [
    "model_forest = RandomForestClassifier(max_depth = 45, n_estimators = 500, n_jobs = 3)\n",
    "model_forest.fit(dfX_train, dfY_train)\n",
    "\n",
    "y_pred_train = model_forest.predict(dfX_train)\n",
    "train_accuracy = accuracy_score(dfY_train, y_pred_train)\n",
    "\n",
    "y_pred_test = model_forest.predict(dfX_test)\n",
    "test_accuracy = accuracy_score(dfY_test, y_pred_test)\n",
    "\n",
    "y_proba = model_forest.predict_proba(dfX_test)\n",
    "performance = log_loss(dfY_test, y_proba)"
   ]
  },
  {
   "cell_type": "code",
   "execution_count": null,
   "metadata": {
    "collapsed": true
   },
   "outputs": [],
   "source": [
    "print('RandomForest -----> Training accuracy: %f,  Test accuracy: %f,  log_loos:  %f' % (train_accuracy, test_accuracy, performance))"
   ]
  },
  {
   "cell_type": "code",
   "execution_count": null,
   "metadata": {
    "collapsed": true
   },
   "outputs": [],
   "source": [
    "print(classification_report(dfY_test, y_pred_test))"
   ]
  },
  {
   "cell_type": "markdown",
   "metadata": {},
   "source": [
    "확실히 linear한 Logistic Regression이나 인자간 독립가정을 하는 GaussianNB에 대비 Random Forest는 성능이 좋음."
   ]
  },
  {
   "cell_type": "code",
   "execution_count": null,
   "metadata": {
    "collapsed": true
   },
   "outputs": [],
   "source": []
  },
  {
   "cell_type": "code",
   "execution_count": null,
   "metadata": {
    "collapsed": true
   },
   "outputs": [],
   "source": []
  },
  {
   "cell_type": "markdown",
   "metadata": {},
   "source": [
    "## Extreme Forest Optimization"
   ]
  },
  {
   "cell_type": "code",
   "execution_count": null,
   "metadata": {
    "collapsed": true
   },
   "outputs": [],
   "source": [
    "def exforest_optimizer_estimator(dfX, dfY):\n",
    "    '''This function is used to optimize the xgboost parameters using GridSearchCV from Scikit-learn'''\n",
    "    model_forest = ExtraTreesClassifier(n_jobs = 3)\n",
    "    parameters = {'max_depth': [35, 40, 45, 50], 'n_estimators': [300, 500, 700]}\n",
    "    \n",
    "    gs = GridSearchCV(estimator = model_forest, param_grid = parameters, scoring = 'neg_log_loss', cv = 5, n_jobs = 3)\n",
    "    %time gs = gs.fit(dfX, dfY)\n",
    "    return gs"
   ]
  },
  {
   "cell_type": "code",
   "execution_count": null,
   "metadata": {
    "collapsed": true
   },
   "outputs": [],
   "source": [
    "%%time\n",
    "gs_estimator = forest_optimizer_estimator(dfX_train, dfY_train)"
   ]
  },
  {
   "cell_type": "code",
   "execution_count": null,
   "metadata": {
    "collapsed": true
   },
   "outputs": [],
   "source": [
    "gs_estimator.cv_results_[\"mean_test_score\"]"
   ]
  },
  {
   "cell_type": "code",
   "execution_count": null,
   "metadata": {
    "collapsed": true
   },
   "outputs": [],
   "source": [
    "print(gs_estimator.best_score_)\n",
    "print(gs_estimator.best_params_)"
   ]
  },
  {
   "cell_type": "markdown",
   "metadata": {},
   "source": [
    "### Extreme Forest: GridSearchCV 최적화 식 최종 test 검증"
   ]
  },
  {
   "cell_type": "code",
   "execution_count": null,
   "metadata": {
    "collapsed": true
   },
   "outputs": [],
   "source": [
    "model_exforest = ExtraTreesClassifier(max_depth = 40, n_estimators = 500, n_jobs = -1)\n",
    "model_exforest.fit(dfX_train, dfY_train)\n",
    "\n",
    "y_pred_train = model_exforest.predict(dfX_train)\n",
    "train_accuracy = accuracy_score(dfY_train, y_pred_train)\n",
    "\n",
    "y_pred_test = model_exforest.predict(dfX_test)\n",
    "test_accuracy = accuracy_score(dfY_test, y_pred_test)\n",
    "\n",
    "y_proba = model_exforest.predict_proba(dfX_test)\n",
    "performance = log_loss(dfY_test, y_proba)"
   ]
  },
  {
   "cell_type": "code",
   "execution_count": null,
   "metadata": {
    "collapsed": true
   },
   "outputs": [],
   "source": [
    "print('ExtremeForest -----> Training accuracy: %f,  Test accuracy: %f,  log_loos:  %f' % (train_accuracy, test_accuracy, performance))"
   ]
  },
  {
   "cell_type": "code",
   "execution_count": null,
   "metadata": {
    "collapsed": true
   },
   "outputs": [],
   "source": [
    "print(classification_report(dfY_test, y_pred_test))"
   ]
  },
  {
   "cell_type": "markdown",
   "metadata": {},
   "source": [
    "RandomForest 대비 미비하게 성능이 낮은것으로 판단됨."
   ]
  },
  {
   "cell_type": "code",
   "execution_count": null,
   "metadata": {
    "collapsed": true
   },
   "outputs": [],
   "source": []
  },
  {
   "cell_type": "code",
   "execution_count": null,
   "metadata": {
    "collapsed": true
   },
   "outputs": [],
   "source": []
  },
  {
   "cell_type": "markdown",
   "metadata": {},
   "source": [
    "## XGBoost Model Optimization\n",
    "\n",
    "####  자세한 내용은 아래쪽 XGBoost: 최적화 방안 2 참조. max_depth를 6~10으로 조절하며 여러 XGBoost모델을 적용하는데 모델 개개인보다 합쳐진 모델결과가 더 좋은지 검증하기 위해 GridSearchCV를 이용해서 CV적용"
   ]
  },
  {
   "cell_type": "code",
   "execution_count": null,
   "metadata": {
    "collapsed": true
   },
   "outputs": [],
   "source": [
    "def xgboost_optimizer_estimator(dfX, dfY):\n",
    "    '''This function is used to optimize the xgboost parameters using GridSearchCV from Scikit-learn'''\n",
    "    model_xgb = xgboost.XGBClassifier()\n",
    "    parameters = {'max_depth': [5, 6, 7, 8, 9, 10, 11], 'n_estimators': [100]}\n",
    "    \n",
    "    gs = GridSearchCV(estimator = model_xgb, param_grid = parameters, scoring = 'neg_log_loss', cv = 4, n_jobs = 3)\n",
    "    %time gs = gs.fit(dfX, dfY)\n",
    "    return gs"
   ]
  },
  {
   "cell_type": "code",
   "execution_count": null,
   "metadata": {
    "collapsed": true
   },
   "outputs": [],
   "source": [
    "%%time\n",
    "gs_estimator = xgboost_optimizer_estimator(dfX_train, dfY_train)"
   ]
  },
  {
   "cell_type": "code",
   "execution_count": null,
   "metadata": {
    "collapsed": true
   },
   "outputs": [],
   "source": [
    "gs_estimator.cv_results_[\"mean_test_score\"]"
   ]
  },
  {
   "cell_type": "code",
   "execution_count": null,
   "metadata": {
    "collapsed": true
   },
   "outputs": [],
   "source": [
    "print(gs_estimator.best_score_)\n",
    "print(gs_estimator.best_params_)"
   ]
  },
  {
   "cell_type": "code",
   "execution_count": null,
   "metadata": {
    "collapsed": true
   },
   "outputs": [],
   "source": []
  },
  {
   "cell_type": "markdown",
   "metadata": {},
   "source": [
    "### XGBoost: 최적화 방안 2 (여러 XGBoost모델 결합)\n",
    "\n",
    "#### References: https://nishadikirielle.wordpress.com/2016/10/08/kaggle-competition-shelter-animal-problem-xgboost-approach/\n",
    "\n",
    "#### XGBoost Parameter Tuning: https://www.analyticsvidhya.com/blog/2016/03/complete-guide-parameter-tuning-xgboost-with-codes-python/\n",
    "\n",
    "원래 계획은 max_depth와 n_estimator를 한번에 GridSearchCV를 통한 최적화. 하지만 Runtime시간도 너무 길고 여러가지 튜닝을 하는데 시간적 한계가 있는것으로 판단되어서 차선책을 찾던중 좋은 방안 찾아냄.\n",
    "\n",
    "한개의 모델을 최적화 하는 것 보다 max_depth값을 변환하면서 예측한 결과를 바탕으로 평균성능을 뽑아내는 것이 더 잘 나온다는 참조 정보를 바탕으로 진행해봄. 모델 인자 튜닝 또한 윗 참조에서 사용한 값 적용."
   ]
  },
  {
   "cell_type": "code",
   "execution_count": null,
   "metadata": {
    "collapsed": true
   },
   "outputs": [],
   "source": [
    "%%time\n",
    "model_xgb1 = xgboost.XGBClassifier(max_depth = 6, nthread = -1)\n",
    "model_xgb2 = xgboost.XGBClassifier(max_depth = 7, nthread = -1)\n",
    "model_xgb3 = xgboost.XGBClassifier(max_depth = 8, nthread = -1)\n",
    "model_xgb4 = xgboost.XGBClassifier(max_depth = 9, nthread = -1)\n",
    "model_xgb5 = xgboost.XGBClassifier(max_depth = 10, nthread = -1)\n",
    "\n",
    "model_xgb1.fit(dfX_train, dfY_train)\n",
    "model_xgb2.fit(dfX_train, dfY_train)\n",
    "model_xgb3.fit(dfX_train, dfY_train)\n",
    "model_xgb4.fit(dfX_train, dfY_train)\n",
    "model_xgb5.fit(dfX_train, dfY_train)"
   ]
  },
  {
   "cell_type": "code",
   "execution_count": null,
   "metadata": {
    "collapsed": true
   },
   "outputs": [],
   "source": [
    "y_proba1 = model_xgb1.predict_proba(dfX_test)\n",
    "y_proba2 = model_xgb2.predict_proba(dfX_test)\n",
    "y_proba3 = model_xgb3.predict_proba(dfX_test)\n",
    "y_proba4 = model_xgb4.predict_proba(dfX_test)\n",
    "y_proba5 = model_xgb5.predict_proba(dfX_test)\n",
    "\n",
    "y_proba_avg = (y_proba1 + y_proba2 + y_proba3 + y_proba4 + y_proba5) / 5\n",
    "performance = log_loss(dfY_test, y_proba_avg)\n",
    "print(performance)"
   ]
  },
  {
   "cell_type": "code",
   "execution_count": null,
   "metadata": {
    "collapsed": true
   },
   "outputs": [],
   "source": [
    "print(y_proba_avg)"
   ]
  },
  {
   "cell_type": "markdown",
   "metadata": {},
   "source": [
    "test검증 log_loss값이 매우 낮게 나왔지만 모델성능 향상을 위해 train에 95%의 데이터를 몰아줬기 때문에 test.csv 결과검증을 할때는 log-loss결과가 안좋아 질수도 있음."
   ]
  },
  {
   "cell_type": "code",
   "execution_count": null,
   "metadata": {
    "collapsed": true
   },
   "outputs": [],
   "source": []
  },
  {
   "cell_type": "markdown",
   "metadata": {},
   "source": [
    "### Feature importance 분석"
   ]
  },
  {
   "cell_type": "code",
   "execution_count": null,
   "metadata": {
    "collapsed": true
   },
   "outputs": [],
   "source": [
    "'''Feature importance analysis code'''\n",
    "'''Reference: Python Machine Learning'''\n",
    "feat_labels = np.array(dfX6.columns)\n",
    "forest = RandomForestClassifier(n_estimators=1000, random_state=0, n_jobs = 3)\n",
    "forest.fit(dfX_train, dfY_train)\n",
    "\n",
    "importances = forest.feature_importances_\n",
    "indices = np.argsort(importances)[::-1]\n",
    "indices = indices[:30]\n",
    "\n",
    "for f in range(len(indices)):\n",
    "    print(\"%2d %-*s %f\" % (f + 1, 30, feat_labels[indices[f]], importances[indices[f]] ))\n",
    "\n",
    "plt.figure(figsize = (9, 7))\n",
    "plt.title(\"Feature importances\")\n",
    "plt.bar(range(len(indices)), importances[indices])\n",
    "plt.xticks(range(len(indices)), feat_labels[indices], rotation=90)\n",
    "plt.tight_layout()\n",
    "plt.show()"
   ]
  },
  {
   "cell_type": "markdown",
   "metadata": {},
   "source": [
    "다른 Kaggle참가자들과 비슷하게 DateTime에서 Year, Month, Day, Hour 결과를 적용할 경우 Breed와 Color인자보다 시간인자들이 더 중요하게 나오는 기이한 현상을 발견할수 있다.  밑에 Kaggle 결과값 논란 부분에서 더 자세하게 언급."
   ]
  },
  {
   "cell_type": "code",
   "execution_count": null,
   "metadata": {
    "collapsed": true
   },
   "outputs": [],
   "source": []
  },
  {
   "cell_type": "markdown",
   "metadata": {},
   "source": [
    "### ROC Curve and AUC score"
   ]
  },
  {
   "cell_type": "code",
   "execution_count": null,
   "metadata": {
    "collapsed": true
   },
   "outputs": [],
   "source": [
    "from sklearn.preprocessing import label_binarize\n",
    "from sklearn.metrics import auc\n",
    "\n",
    "y_multi = label_binarize(dfY_test, classes=[1, 2, 3, 4, 5])"
   ]
  },
  {
   "cell_type": "code",
   "execution_count": null,
   "metadata": {
    "collapsed": true
   },
   "outputs": [],
   "source": [
    "d1_multi = y_proba_avg"
   ]
  },
  {
   "cell_type": "code",
   "execution_count": null,
   "metadata": {
    "collapsed": true
   },
   "outputs": [],
   "source": [
    "fpr10, tpr10, thresholds10 = roc_curve(y_multi[:, 0], d1_multi[:, 0])\n",
    "fpr11, tpr11, thresholds11 = roc_curve(y_multi[:, 1], d1_multi[:, 1])\n",
    "fpr12, tpr12, thresholds12 = roc_curve(y_multi[:, 2], d1_multi[:, 2])\n",
    "fpr13, tpr13, thresholds13 = roc_curve(y_multi[:, 3], d1_multi[:, 3])\n",
    "fpr14, tpr14, thresholds14 = roc_curve(y_multi[:, 4], d1_multi[:, 4])"
   ]
  },
  {
   "cell_type": "code",
   "execution_count": null,
   "metadata": {
    "collapsed": true
   },
   "outputs": [],
   "source": [
    "plt.figure(figsize = (10, 7))\n",
    "plt.plot(fpr10, tpr10, label=\"Returned to owner\")\n",
    "plt.plot(fpr11, tpr11, label=\"Euthanasia\")\n",
    "plt.plot(fpr12, tpr12, label=\"Adoption\")\n",
    "plt.plot(fpr13, tpr13, label=\"Transfer\")\n",
    "plt.plot(fpr14, tpr14, label=\"Died\")\n",
    "plt.title('ROC curve for optimized XGBoost')\n",
    "plt.xlabel('False Positive Rate (Fallout)')\n",
    "plt.ylabel('True Positive Rate (Recall)')\n",
    "plt.legend()\n",
    "plt.grid(True)\n",
    "plt.show()"
   ]
  },
  {
   "cell_type": "code",
   "execution_count": null,
   "metadata": {
    "collapsed": true
   },
   "outputs": [],
   "source": [
    "#AUC\n",
    "print('AUC for Returned to owner: ', auc(fpr10, tpr10))\n",
    "print('AUC for Euthanasia: ', auc(fpr11, tpr11))\n",
    "print('AUC for Adoption: ', auc(fpr12, tpr12))\n",
    "print('AUC for Transfer: ', auc(fpr13, tpr13))\n",
    "print('AUC for Died: ', auc(fpr14, tpr14))"
   ]
  },
  {
   "cell_type": "code",
   "execution_count": null,
   "metadata": {
    "collapsed": true
   },
   "outputs": [],
   "source": []
  },
  {
   "cell_type": "code",
   "execution_count": null,
   "metadata": {
    "collapsed": true
   },
   "outputs": [],
   "source": []
  },
  {
   "cell_type": "markdown",
   "metadata": {},
   "source": [
    "## Model Selection"
   ]
  },
  {
   "cell_type": "code",
   "execution_count": null,
   "metadata": {
    "collapsed": true
   },
   "outputs": [],
   "source": []
  },
  {
   "cell_type": "markdown",
   "metadata": {},
   "source": [
    "### 여러 xgboost 모델을 결합한 결과"
   ]
  },
  {
   "cell_type": "code",
   "execution_count": null,
   "metadata": {
    "collapsed": true
   },
   "outputs": [],
   "source": [
    "dummy_cont_test = data_test_final[['Name', 'AnimalType', 'AgeuponOutcome', 'Rank']]\n",
    "test_id = data_test_final['AnimalID']\n",
    "print(type(test_id))"
   ]
  },
  {
   "cell_type": "code",
   "execution_count": null,
   "metadata": {
    "collapsed": true
   },
   "outputs": [],
   "source": [
    "dfX_test_submission = pd.concat([dummy_cont_test, size_gd_test, main_breed_gd_test, sub_breed_gd_test, main_color_gd_test, \n",
    "                                 sub_color_gd_test, year_gd_test, month_gd_test, day_gd_test, hour_gd_test, sex_gd_test], axis = 1)"
   ]
  },
  {
   "cell_type": "code",
   "execution_count": null,
   "metadata": {
    "collapsed": true
   },
   "outputs": [],
   "source": [
    "dfX_test_submission.shape"
   ]
  },
  {
   "cell_type": "code",
   "execution_count": null,
   "metadata": {
    "collapsed": true
   },
   "outputs": [],
   "source": [
    "y_proba1 = model_xgb1.predict_proba(dfX_test_submission)\n",
    "y_proba2 = model_xgb2.predict_proba(dfX_test_submission)\n",
    "y_proba3 = model_xgb3.predict_proba(dfX_test_submission)\n",
    "y_proba4 = model_xgb4.predict_proba(dfX_test_submission)\n",
    "y_proba5 = model_xgb5.predict_proba(dfX_test_submission)\n",
    "\n",
    "y_proba_avg_test = (y_proba1 + y_proba2 + y_proba3 + y_proba4 + y_proba5) / 5\n",
    "print(len(y_proba_avg_test))"
   ]
  },
  {
   "cell_type": "code",
   "execution_count": null,
   "metadata": {
    "collapsed": true
   },
   "outputs": [],
   "source": [
    "print(y_proba_avg_test)"
   ]
  },
  {
   "cell_type": "code",
   "execution_count": null,
   "metadata": {
    "collapsed": true
   },
   "outputs": [],
   "source": [
    "y_proba_avg_test_df = pd.DataFrame(y_proba_avg_test, columns = ['Adoption', 'Died', 'Euthanasia', 'Return_to_owner', 'Transfer'])"
   ]
  },
  {
   "cell_type": "code",
   "execution_count": null,
   "metadata": {
    "collapsed": true
   },
   "outputs": [],
   "source": [
    "y_proba_avg_test_df.head()"
   ]
  },
  {
   "cell_type": "code",
   "execution_count": null,
   "metadata": {
    "collapsed": true
   },
   "outputs": [],
   "source": [
    "y_proba_avg_test_df.to_csv('submission4.csv', index = False)"
   ]
  },
  {
   "cell_type": "code",
   "execution_count": null,
   "metadata": {
    "collapsed": true
   },
   "outputs": [],
   "source": []
  },
  {
   "cell_type": "code",
   "execution_count": null,
   "metadata": {
    "collapsed": true
   },
   "outputs": [],
   "source": []
  },
  {
   "cell_type": "markdown",
   "metadata": {},
   "source": [
    "# Result\n",
    "\n",
    "### 사용 features :\n",
    "* Name\n",
    "* AnimalType\n",
    "* AgeuponOutcome\n",
    "* Sex\n",
    "* Rank\n",
    "* size\n",
    "* main_breed / sub_breed\n",
    "* main_color / sub_color\n",
    "* DateTime -> year / month / day / hour\n",
    "\n",
    "\n",
    "### 사용모델 : XGBoost(2)\n",
    "\n",
    "평가_Log_loss : 0.77666 (by kaggle test_dataset)\n",
    "\n",
    "Kaggle 순위 : 548위    (비고 : [1위 : 0.0] / [3위 : 0.034093] / [50위 : 0.69840] / [300위 : 0.73390])\n",
    "\n",
    "#### 비고_각 모형의 log_loss (train dataset기준)\n",
    "* Logistic Regression : 0.86092\n",
    "* Naive Bayesian : 26.7130\n",
    "* Random Forest : 0.758476\n",
    "* Extreme Forest : 0.769533\n",
    "* XGBoost(1) : -0.768414 (neg_log_loss)\n",
    "* XGBoost(2) : 0.723351\n",
    "\n",
    "### Feature importance 상위 7개\n",
    "* AgeuponOutcome : 0.111488\n",
    "* Name : 0.042192\n",
    "* Spayed Female : 0.030157\n",
    "* Intact Female : 0.029852\n",
    "* Neutered Male : 0.027187\n",
    "* Intact Male : 0.027119\n",
    "* Rank : 0.022768"
   ]
  },
  {
   "cell_type": "code",
   "execution_count": null,
   "metadata": {
    "collapsed": true
   },
   "outputs": [],
   "source": []
  },
  {
   "cell_type": "code",
   "execution_count": null,
   "metadata": {
    "collapsed": true
   },
   "outputs": [],
   "source": []
  },
  {
   "cell_type": "markdown",
   "metadata": {},
   "source": [
    "### 처음에 test dataset을 사용하지 않고 진행하는 버전"
   ]
  },
  {
   "cell_type": "code",
   "execution_count": 276,
   "metadata": {},
   "outputs": [
    {
     "data": {
      "text/html": [
       "<div>\n",
       "<style>\n",
       "    .dataframe thead tr:only-child th {\n",
       "        text-align: right;\n",
       "    }\n",
       "\n",
       "    .dataframe thead th {\n",
       "        text-align: left;\n",
       "    }\n",
       "\n",
       "    .dataframe tbody tr th {\n",
       "        vertical-align: top;\n",
       "    }\n",
       "</style>\n",
       "<table border=\"1\" class=\"dataframe\">\n",
       "  <thead>\n",
       "    <tr style=\"text-align: right;\">\n",
       "      <th></th>\n",
       "      <th>ID</th>\n",
       "      <th>Name</th>\n",
       "      <th>DateTime</th>\n",
       "      <th>AnimalType</th>\n",
       "      <th>SexuponOutcome</th>\n",
       "      <th>AgeuponOutcome</th>\n",
       "      <th>Breed</th>\n",
       "      <th>Color</th>\n",
       "    </tr>\n",
       "  </thead>\n",
       "  <tbody>\n",
       "    <tr>\n",
       "      <th>11451</th>\n",
       "      <td>11452</td>\n",
       "      <td>NaN</td>\n",
       "      <td>2014-07-08 14:50</td>\n",
       "      <td>Cat</td>\n",
       "      <td>Neutered Male</td>\n",
       "      <td>2 months</td>\n",
       "      <td>Domestic Shorthair Mix</td>\n",
       "      <td>Black</td>\n",
       "    </tr>\n",
       "    <tr>\n",
       "      <th>11452</th>\n",
       "      <td>11453</td>\n",
       "      <td>NaN</td>\n",
       "      <td>2014-10-21 12:57</td>\n",
       "      <td>Cat</td>\n",
       "      <td>Intact Female</td>\n",
       "      <td>2 weeks</td>\n",
       "      <td>Domestic Shorthair Mix</td>\n",
       "      <td>Blue</td>\n",
       "    </tr>\n",
       "    <tr>\n",
       "      <th>11453</th>\n",
       "      <td>11454</td>\n",
       "      <td>NaN</td>\n",
       "      <td>2014-09-29 9:00</td>\n",
       "      <td>Cat</td>\n",
       "      <td>Intact Female</td>\n",
       "      <td>1 year</td>\n",
       "      <td>Domestic Shorthair Mix</td>\n",
       "      <td>Calico</td>\n",
       "    </tr>\n",
       "    <tr>\n",
       "      <th>11454</th>\n",
       "      <td>11455</td>\n",
       "      <td>Rambo</td>\n",
       "      <td>2015-09-05 17:16</td>\n",
       "      <td>Dog</td>\n",
       "      <td>Neutered Male</td>\n",
       "      <td>6 years</td>\n",
       "      <td>German Shepherd Mix</td>\n",
       "      <td>Black/Tan</td>\n",
       "    </tr>\n",
       "    <tr>\n",
       "      <th>11455</th>\n",
       "      <td>11456</td>\n",
       "      <td>Gusto</td>\n",
       "      <td>2014-07-12 18:40</td>\n",
       "      <td>Dog</td>\n",
       "      <td>Intact Male</td>\n",
       "      <td>4 years</td>\n",
       "      <td>Labrador Retriever</td>\n",
       "      <td>Cream</td>\n",
       "    </tr>\n",
       "  </tbody>\n",
       "</table>\n",
       "</div>"
      ],
      "text/plain": [
       "          ID   Name          DateTime AnimalType SexuponOutcome  \\\n",
       "11451  11452    NaN  2014-07-08 14:50        Cat  Neutered Male   \n",
       "11452  11453    NaN  2014-10-21 12:57        Cat  Intact Female   \n",
       "11453  11454    NaN   2014-09-29 9:00        Cat  Intact Female   \n",
       "11454  11455  Rambo  2015-09-05 17:16        Dog  Neutered Male   \n",
       "11455  11456  Gusto  2014-07-12 18:40        Dog    Intact Male   \n",
       "\n",
       "      AgeuponOutcome                   Breed      Color  \n",
       "11451       2 months  Domestic Shorthair Mix      Black  \n",
       "11452        2 weeks  Domestic Shorthair Mix       Blue  \n",
       "11453         1 year  Domestic Shorthair Mix     Calico  \n",
       "11454        6 years     German Shepherd Mix  Black/Tan  \n",
       "11455        4 years      Labrador Retriever      Cream  "
      ]
     },
     "execution_count": 276,
     "metadata": {},
     "output_type": "execute_result"
    }
   ],
   "source": [
    "data_test = pd.read_csv('test.csv')\n",
    "data_test.tail()"
   ]
  },
  {
   "cell_type": "code",
   "execution_count": 277,
   "metadata": {
    "collapsed": true
   },
   "outputs": [],
   "source": [
    "data_test = data_test.set_index('ID')"
   ]
  },
  {
   "cell_type": "code",
   "execution_count": 278,
   "metadata": {},
   "outputs": [
    {
     "data": {
      "text/plain": [
       "Name              3225\n",
       "DateTime             0\n",
       "AnimalType           0\n",
       "SexuponOutcome       0\n",
       "AgeuponOutcome       6\n",
       "Breed                0\n",
       "Color                0\n",
       "dtype: int64"
      ]
     },
     "execution_count": 278,
     "metadata": {},
     "output_type": "execute_result"
    }
   ],
   "source": [
    "data_test.isnull().sum()"
   ]
  },
  {
   "cell_type": "code",
   "execution_count": 279,
   "metadata": {},
   "outputs": [
    {
     "data": {
      "text/html": [
       "<div>\n",
       "<style>\n",
       "    .dataframe thead tr:only-child th {\n",
       "        text-align: right;\n",
       "    }\n",
       "\n",
       "    .dataframe thead th {\n",
       "        text-align: left;\n",
       "    }\n",
       "\n",
       "    .dataframe tbody tr th {\n",
       "        vertical-align: top;\n",
       "    }\n",
       "</style>\n",
       "<table border=\"1\" class=\"dataframe\">\n",
       "  <thead>\n",
       "    <tr style=\"text-align: right;\">\n",
       "      <th></th>\n",
       "      <th>Name</th>\n",
       "      <th>AnimalType</th>\n",
       "      <th>SexuponOutcome</th>\n",
       "      <th>AgeuponOutcome</th>\n",
       "      <th>Main_Breed</th>\n",
       "      <th>Sub_Breed</th>\n",
       "      <th>Rank</th>\n",
       "      <th>Main_Color</th>\n",
       "      <th>Sub_Color</th>\n",
       "      <th>Date</th>\n",
       "      <th>OutcomeYear</th>\n",
       "      <th>OutcomeMonth</th>\n",
       "      <th>OutcomeDay</th>\n",
       "      <th>OutcomeHour</th>\n",
       "    </tr>\n",
       "    <tr>\n",
       "      <th>ID</th>\n",
       "      <th></th>\n",
       "      <th></th>\n",
       "      <th></th>\n",
       "      <th></th>\n",
       "      <th></th>\n",
       "      <th></th>\n",
       "      <th></th>\n",
       "      <th></th>\n",
       "      <th></th>\n",
       "      <th></th>\n",
       "      <th></th>\n",
       "      <th></th>\n",
       "      <th></th>\n",
       "      <th></th>\n",
       "    </tr>\n",
       "  </thead>\n",
       "  <tbody>\n",
       "    <tr>\n",
       "      <th>11452</th>\n",
       "      <td>0</td>\n",
       "      <td>0</td>\n",
       "      <td>Neutered Male</td>\n",
       "      <td>60.0</td>\n",
       "      <td>domestic shorthair</td>\n",
       "      <td>NA</td>\n",
       "      <td>0.0</td>\n",
       "      <td>Black</td>\n",
       "      <td>NA</td>\n",
       "      <td>201407</td>\n",
       "      <td>2014</td>\n",
       "      <td>07</td>\n",
       "      <td>08</td>\n",
       "      <td>14</td>\n",
       "    </tr>\n",
       "    <tr>\n",
       "      <th>11453</th>\n",
       "      <td>0</td>\n",
       "      <td>0</td>\n",
       "      <td>Intact Female</td>\n",
       "      <td>14.0</td>\n",
       "      <td>domestic shorthair</td>\n",
       "      <td>NA</td>\n",
       "      <td>0.0</td>\n",
       "      <td>Blue</td>\n",
       "      <td>NA</td>\n",
       "      <td>201410</td>\n",
       "      <td>2014</td>\n",
       "      <td>10</td>\n",
       "      <td>21</td>\n",
       "      <td>12</td>\n",
       "    </tr>\n",
       "    <tr>\n",
       "      <th>11454</th>\n",
       "      <td>0</td>\n",
       "      <td>0</td>\n",
       "      <td>Intact Female</td>\n",
       "      <td>365.0</td>\n",
       "      <td>domestic shorthair</td>\n",
       "      <td>NA</td>\n",
       "      <td>0.0</td>\n",
       "      <td>Calico</td>\n",
       "      <td>NA</td>\n",
       "      <td>201409</td>\n",
       "      <td>2014</td>\n",
       "      <td>09</td>\n",
       "      <td>29</td>\n",
       "      <td>9:</td>\n",
       "    </tr>\n",
       "    <tr>\n",
       "      <th>11455</th>\n",
       "      <td>1</td>\n",
       "      <td>1</td>\n",
       "      <td>Neutered Male</td>\n",
       "      <td>2190.0</td>\n",
       "      <td>german shepherd</td>\n",
       "      <td>NA</td>\n",
       "      <td>188.0</td>\n",
       "      <td>Black</td>\n",
       "      <td>Tan</td>\n",
       "      <td>201509</td>\n",
       "      <td>2015</td>\n",
       "      <td>09</td>\n",
       "      <td>05</td>\n",
       "      <td>17</td>\n",
       "    </tr>\n",
       "    <tr>\n",
       "      <th>11456</th>\n",
       "      <td>1</td>\n",
       "      <td>1</td>\n",
       "      <td>Intact Male</td>\n",
       "      <td>1460.0</td>\n",
       "      <td>labrador retriever</td>\n",
       "      <td>NA</td>\n",
       "      <td>189.0</td>\n",
       "      <td>Cream</td>\n",
       "      <td>NA</td>\n",
       "      <td>201407</td>\n",
       "      <td>2014</td>\n",
       "      <td>07</td>\n",
       "      <td>12</td>\n",
       "      <td>18</td>\n",
       "    </tr>\n",
       "  </tbody>\n",
       "</table>\n",
       "</div>"
      ],
      "text/plain": [
       "       Name  AnimalType SexuponOutcome  AgeuponOutcome          Main_Breed  \\\n",
       "ID                                                                           \n",
       "11452     0           0  Neutered Male            60.0  domestic shorthair   \n",
       "11453     0           0  Intact Female            14.0  domestic shorthair   \n",
       "11454     0           0  Intact Female           365.0  domestic shorthair   \n",
       "11455     1           1  Neutered Male          2190.0     german shepherd   \n",
       "11456     1           1    Intact Male          1460.0  labrador retriever   \n",
       "\n",
       "      Sub_Breed   Rank Main_Color Sub_Color    Date OutcomeYear OutcomeMonth  \\\n",
       "ID                                                                             \n",
       "11452        NA    0.0      Black        NA  201407        2014           07   \n",
       "11453        NA    0.0       Blue        NA  201410        2014           10   \n",
       "11454        NA    0.0     Calico        NA  201409        2014           09   \n",
       "11455        NA  188.0      Black       Tan  201509        2015           09   \n",
       "11456        NA  189.0      Cream        NA  201407        2014           07   \n",
       "\n",
       "      OutcomeDay OutcomeHour  \n",
       "ID                            \n",
       "11452         08          14  \n",
       "11453         21          12  \n",
       "11454         29          9:  \n",
       "11455         05          17  \n",
       "11456         12          18  "
      ]
     },
     "execution_count": 279,
     "metadata": {},
     "output_type": "execute_result"
    }
   ],
   "source": [
    "# Name 전처리\n",
    "data_test['Name'] = data_test['Name'].transform(no_name_label)\n",
    "data_test['Name'] = data_test['Name'].transform(no_name_numeric_label)\n",
    "\n",
    "# Animal Type 전처리\n",
    "data_test['AnimalType'] = data_test['AnimalType'].map(animal_type_mapping)\n",
    "\n",
    "# AgeuponOutcome 전처리\n",
    "age_day_compile = convert_Age(data_test)\n",
    "data_test['AgeuponOutcome'] = age_day_compile\n",
    "data_test['AgeuponOutcome'].fillna(data_test['AgeuponOutcome'].median(), inplace = True)\n",
    "\n",
    "# Breed 전처리\n",
    "breed_remove_mix = remove_mix(data_test)\n",
    "main_breed, sub_breed = breed_separator(breed_remove_mix)\n",
    "data_test['Main_Breed'], data_test['Sub_Breed'] = main_breed, sub_breed\n",
    "\n",
    "# Rank 전처리\n",
    "temp = data_test['Main_Breed']\n",
    "temp2 = temp.map(rank_dict_dog)\n",
    "temp2 = 190 - temp2\n",
    "temp2.fillna(0, inplace = True)\n",
    "data_test['Rank'] = temp2\n",
    "\n",
    "# Color 전처리\n",
    "color_list_test = list(data_test['Color'])\n",
    "main_color, sub_color = color_separator(color_list_test)\n",
    "data_test['Main_Color'], data_test['Sub_Color'] = main_color, sub_color\n",
    "\n",
    "# DateTime 전처리\n",
    "year_list, month_list, day_list, hour_list = datetime_str_converter(data_test)\n",
    "date_list = []\n",
    "for year, month in zip(year_list, month_list):\n",
    "    date_list.append(int(year + month))\n",
    "\n",
    "data_test['Date'] = date_list\n",
    "data_test['OutcomeYear'], data_test['OutcomeMonth'] = year_list, month_list\n",
    "data_test['OutcomeDay'], data_test['OutcomeHour'] = day_list, hour_list\n",
    "\n",
    "# One-Hot-Encoding\n",
    "main_color_le = pd.get_dummies(data_test[['Main_Color']])\n",
    "sub_color_le = pd.get_dummies(data_test[['Sub_Color']])\n",
    "main_breed_le = pd.get_dummies(data_test[['Main_Breed']])\n",
    "sub_breed_le = pd.get_dummies(data_test[['Sub_Breed']])\n",
    "year_le = pd.get_dummies(data_test[['OutcomeYear']])\n",
    "month_le = pd.get_dummies(data_test[['OutcomeMonth']])\n",
    "day_le = pd.get_dummies(data_test[['OutcomeDay']])\n",
    "hour_le = pd.get_dummies(data_test[['OutcomeHour']])\n",
    "sex_le = pd.get_dummies(data_test['SexuponOutcome'])\n",
    "\n",
    "\n",
    "\n",
    "data_test.drop('DateTime', axis = 1, inplace = True)\n",
    "data_test.drop('Color', axis = 1, inplace = True)\n",
    "data_test.drop('Breed', axis = 1, inplace = True)\n",
    "\n",
    "data_test.tail()"
   ]
  },
  {
   "cell_type": "code",
   "execution_count": null,
   "metadata": {
    "collapsed": true
   },
   "outputs": [],
   "source": []
  },
  {
   "cell_type": "code",
   "execution_count": 272,
   "metadata": {},
   "outputs": [
    {
     "name": "stdout",
     "output_type": "stream",
     "text": [
      "CPU times: user 6min 1s, sys: 4.57 s, total: 6min 6s\n",
      "Wall time: 1min 53s\n"
     ]
    }
   ],
   "source": [
    "%%time\n",
    "'''dfY is always fixed'''\n",
    "dfY = data_train['OutcomeType']\n",
    "\n",
    "dummy_cont = data_train[['Name', 'AnimalType', 'AgeuponOutcome', 'Rank']]\n",
    "\n",
    "dfX = pd.concat([dummy_cont, main_breed_le, main_color_le, month_le, year_le, sex_le], axis = 1)\n",
    "dfX2 = pd.concat([dummy_cont, main_breed_le, sub_breed_le, main_color_le, sub_color_le, month_le, year_le, sex_le], axis = 1)\n",
    "dfX3 = pd.concat([dummy_cont, main_breed_le, sub_breed_le, main_color_le, sub_color_le, season_le, sex_le], axis = 1)\n",
    "dfX4 = pd.concat([dummy_cont, main_breed_le, sub_breed_le, main_color_le, sub_color_le, \n",
    "                 year_le, month_le, day_le, hour_le, sex_le], axis = 1)\n",
    "dfX5 = pd.concat([dummy_cont, main_color_le, sub_color_le, year_le, month_le, day_le, hour_le, sex_le], axis = 1)\n",
    "dfX6 = pd.concat([dummy_cont, sex_le], axis = 1)\n",
    "\n",
    "dfX_list = [dfX, dfX2, dfX3, dfX4, dfX5, dfX6]\n",
    "train_compile, test_compile, logLoss_compile = greedy_selector(dfX_list, dfY)"
   ]
  },
  {
   "cell_type": "code",
   "execution_count": 296,
   "metadata": {
    "collapsed": true
   },
   "outputs": [],
   "source": [
    "# test_dataset 없이 진행하는 방식의 결과\n",
    "\n",
    "dummy_cont_test = data_test[['Name', 'AnimalType', 'AgeuponOutcome', 'Rank']]\n",
    "\n",
    "model_xgb = xgboost.XGBClassifier(max_depth = 8, n_estimators = 500, nthread = -1)\n",
    "model_xgb.fit(dfX6, dfY)\n",
    "dfX_test6 = pd.concat([dummy_cont_test, sex_le], axis = 1)\n",
    "\n",
    "y_pred_test6 = model_xgb.predict(dfX_test6)"
   ]
  },
  {
   "cell_type": "code",
   "execution_count": 297,
   "metadata": {
    "collapsed": true
   },
   "outputs": [],
   "source": [
    "y_proba_xgb = model_xgb.predict_proba(dfX_test6)"
   ]
  },
  {
   "cell_type": "code",
   "execution_count": 317,
   "metadata": {
    "collapsed": true
   },
   "outputs": [],
   "source": [
    "y_proba_xgb_test_df = pd.DataFrame(y_proba_xgb, columns = ['Adoption', 'Died', 'Euthanasia', 'Return_to_owner', 'Transfer'])"
   ]
  },
  {
   "cell_type": "code",
   "execution_count": 325,
   "metadata": {
    "collapsed": true
   },
   "outputs": [],
   "source": [
    "y_proba_xgb_test_df.to_csv('submission6.csv', index = True, index_label = 'ID')"
   ]
  },
  {
   "cell_type": "code",
   "execution_count": 328,
   "metadata": {},
   "outputs": [
    {
     "data": {
      "text/html": [
       "<div>\n",
       "<style>\n",
       "    .dataframe thead tr:only-child th {\n",
       "        text-align: right;\n",
       "    }\n",
       "\n",
       "    .dataframe thead th {\n",
       "        text-align: left;\n",
       "    }\n",
       "\n",
       "    .dataframe tbody tr th {\n",
       "        vertical-align: top;\n",
       "    }\n",
       "</style>\n",
       "<table border=\"1\" class=\"dataframe\">\n",
       "  <thead>\n",
       "    <tr style=\"text-align: right;\">\n",
       "      <th></th>\n",
       "      <th>ID</th>\n",
       "      <th>Adoption</th>\n",
       "      <th>Died</th>\n",
       "      <th>Euthanasia</th>\n",
       "      <th>Return_to_owner</th>\n",
       "      <th>Transfer</th>\n",
       "    </tr>\n",
       "  </thead>\n",
       "  <tbody>\n",
       "    <tr>\n",
       "      <th>0</th>\n",
       "      <td>0</td>\n",
       "      <td>0.069854</td>\n",
       "      <td>0.011367</td>\n",
       "      <td>0.120651</td>\n",
       "      <td>0.798057</td>\n",
       "      <td>0.000070</td>\n",
       "    </tr>\n",
       "    <tr>\n",
       "      <th>1</th>\n",
       "      <td>1</td>\n",
       "      <td>0.342188</td>\n",
       "      <td>0.026902</td>\n",
       "      <td>0.462039</td>\n",
       "      <td>0.168809</td>\n",
       "      <td>0.000062</td>\n",
       "    </tr>\n",
       "    <tr>\n",
       "      <th>2</th>\n",
       "      <td>2</td>\n",
       "      <td>0.122952</td>\n",
       "      <td>0.008890</td>\n",
       "      <td>0.444189</td>\n",
       "      <td>0.423560</td>\n",
       "      <td>0.000410</td>\n",
       "    </tr>\n",
       "    <tr>\n",
       "      <th>3</th>\n",
       "      <td>3</td>\n",
       "      <td>0.136692</td>\n",
       "      <td>0.032085</td>\n",
       "      <td>0.044465</td>\n",
       "      <td>0.785305</td>\n",
       "      <td>0.001453</td>\n",
       "    </tr>\n",
       "    <tr>\n",
       "      <th>4</th>\n",
       "      <td>4</td>\n",
       "      <td>0.313090</td>\n",
       "      <td>0.079558</td>\n",
       "      <td>0.406961</td>\n",
       "      <td>0.198380</td>\n",
       "      <td>0.002010</td>\n",
       "    </tr>\n",
       "  </tbody>\n",
       "</table>\n",
       "</div>"
      ],
      "text/plain": [
       "   ID  Adoption      Died  Euthanasia  Return_to_owner  Transfer\n",
       "0   0  0.069854  0.011367    0.120651         0.798057  0.000070\n",
       "1   1  0.342188  0.026902    0.462039         0.168809  0.000062\n",
       "2   2  0.122952  0.008890    0.444189         0.423560  0.000410\n",
       "3   3  0.136692  0.032085    0.044465         0.785305  0.001453\n",
       "4   4  0.313090  0.079558    0.406961         0.198380  0.002010"
      ]
     },
     "execution_count": 328,
     "metadata": {},
     "output_type": "execute_result"
    }
   ],
   "source": [
    "pd.read_csv('submission6.csv').head()"
   ]
  },
  {
   "cell_type": "code",
   "execution_count": null,
   "metadata": {
    "collapsed": true
   },
   "outputs": [],
   "source": []
  },
  {
   "cell_type": "code",
   "execution_count": 312,
   "metadata": {
    "collapsed": true
   },
   "outputs": [],
   "source": [
    "# one-hot-encoding 과정에서 train과 test 사이에 불일치가 발생하여 에러가 남.\n",
    "%%time\n",
    "dummy_cont_test = data_test[['Name', 'AnimalType', 'AgeuponOutcome', 'Rank']]\n",
    "\n",
    "model_xgb = xgboost.XGBClassifier(max_depth = 8, n_estimators = 500, nthread = -1)\n",
    "# model_xgb.fit(dfX4, dfY)\n",
    "\n",
    "dfX_test4 = pd.concat([dummy_cont_test, main_breed_le, sub_breed_le, main_color_le, sub_color_le, \n",
    "                 year_le, month_le, day_le, hour_le, sex_le], axis = 1)\n",
    "\n",
    "\n",
    "# y_pred_test4 = model_xgb.predict(dfX_test4)\n"
   ]
  },
  {
   "cell_type": "code",
   "execution_count": 313,
   "metadata": {
    "collapsed": true
   },
   "outputs": [
    {
     "ename": "ValueError",
     "evalue": "feature_names mismatch: ['Name', 'AnimalType', 'AgeuponOutcome', 'Rank', 'Main_Breed_abyssinian', 'Main_Breed_affenpinscher', 'Main_Breed_afghan hound', 'Main_Breed_airedale terrier', 'Main_Breed_akita', 'Main_Breed_alaskan husky', 'Main_Breed_alaskan malamute', 'Main_Breed_american bulldog', 'Main_Breed_american eskimo', 'Main_Breed_american foxhound', 'Main_Breed_american pit bull terrier', 'Main_Breed_american shorthair', 'Main_Breed_american staffordshire terrier', 'Main_Breed_anatol shepherd', 'Main_Breed_anatolian shepherd dog', 'Main_Breed_angora', 'Main_Breed_argentine dogo', 'Main_Breed_australian cattle dog', 'Main_Breed_australian kelpie', 'Main_Breed_australian shepherd', 'Main_Breed_australian terrier', 'Main_Breed_balinese', 'Main_Breed_basenji', 'Main_Breed_basset hound', 'Main_Breed_beagle', 'Main_Breed_bearded collie', 'Main_Breed_beauceron', 'Main_Breed_bedlington terr', 'Main_Breed_belgian malinois', 'Main_Breed_belgian sheepdog', 'Main_Breed_belgian tervuren', 'Main_Breed_bengal', 'Main_Breed_berger picard', 'Main_Breed_bernese mountain dog', 'Main_Breed_bichon frise', 'Main_Breed_black', 'Main_Breed_black mouth cur', 'Main_Breed_bloodhound', 'Main_Breed_blue lacy', 'Main_Breed_bluetick coonhound', 'Main_Breed_bluetick hound', 'Main_Breed_boerboel', 'Main_Breed_bombay', 'Main_Breed_border collie', 'Main_Breed_border terrier', 'Main_Breed_boston terrier', 'Main_Breed_boxer', 'Main_Breed_boykin span', 'Main_Breed_british shorthair', 'Main_Breed_brittany', 'Main_Breed_bruss griffon', 'Main_Breed_brussels griffon', 'Main_Breed_bull terrier', 'Main_Breed_bulldog', 'Main_Breed_bullmastiff', 'Main_Breed_burmese', 'Main_Breed_cairn terrier', 'Main_Breed_canaan dog', 'Main_Breed_cane corso', 'Main_Breed_cardigan welsh corgi', 'Main_Breed_carolina dog', 'Main_Breed_catahoula', 'Main_Breed_cavalier king charles spaniel', 'Main_Breed_cavalier span', 'Main_Breed_chesapeake bay retriever', 'Main_Breed_chihuahua', 'Main_Breed_chihuahua longhair', 'Main_Breed_chihuahua shorthair', 'Main_Breed_chinese crested', 'Main_Breed_chinese sharpei', 'Main_Breed_chow chow', 'Main_Breed_cocker spaniel', 'Main_Breed_collie', 'Main_Breed_collie rough', 'Main_Breed_collie smooth', 'Main_Breed_cornish rex', 'Main_Breed_cymric', 'Main_Breed_dachshund', 'Main_Breed_dachshund longhair', 'Main_Breed_dachshund wirehair', 'Main_Breed_dalmatian', 'Main_Breed_devon rex', 'Main_Breed_doberman pinsch', 'Main_Breed_dogo argentino', 'Main_Breed_dogue de bordeaux', 'Main_Breed_domestic longhair', 'Main_Breed_domestic medium hair', 'Main_Breed_domestic shorthair', 'Main_Breed_dutch shepherd', 'Main_Breed_english bulldog', 'Main_Breed_english cocker spaniel', 'Main_Breed_english coonhound', 'Main_Breed_english foxhound', 'Main_Breed_english setter', 'Main_Breed_english shepherd', 'Main_Breed_english springer spaniel', 'Main_Breed_entlebucher', 'Main_Breed_exotic shorthair', 'Main_Breed_feist', 'Main_Breed_field spaniel', 'Main_Breed_finnish spitz', 'Main_Breed_flat coat retriever', 'Main_Breed_flat-coated retriever', 'Main_Breed_french bulldog', 'Main_Breed_german pinscher', 'Main_Breed_german shepherd', 'Main_Breed_german shorthair pointer', 'Main_Breed_german shorthaired pointer', 'Main_Breed_german wirehaired pointer', 'Main_Breed_glen of imaal', 'Main_Breed_golden retriever', 'Main_Breed_great dane', 'Main_Breed_great pyrenees', 'Main_Breed_greater swiss mountain dog', 'Main_Breed_greyhound', 'Main_Breed_harrier', 'Main_Breed_havana brown', 'Main_Breed_havanese', 'Main_Breed_himalayan', 'Main_Breed_hovawart', 'Main_Breed_ibizan hound', 'Main_Breed_irish setter', 'Main_Breed_irish terrier', 'Main_Breed_irish wolfhound', 'Main_Breed_italian greyhound', 'Main_Breed_jack russell terrier', 'Main_Breed_japanese bobtail', 'Main_Breed_japanese chin', 'Main_Breed_javanese', 'Main_Breed_jindo', 'Main_Breed_keeshond', 'Main_Breed_kuvasz', 'Main_Breed_labrador retriever', 'Main_Breed_landseer', 'Main_Breed_leonberger', 'Main_Breed_lhasa apso', 'Main_Breed_lowchen', 'Main_Breed_maine coon', 'Main_Breed_maltese', 'Main_Breed_manchester terrier', 'Main_Breed_manx', 'Main_Breed_mastiff', 'Main_Breed_miniature bull terrier', 'Main_Breed_miniature pinscher', 'Main_Breed_miniature poodle', 'Main_Breed_miniature schnauzer', 'Main_Breed_munchkin longhair', 'Main_Breed_neapolitan mastiff', 'Main_Breed_newfoundland', 'Main_Breed_norfolk terrier', 'Main_Breed_norwegian elkhound', 'Main_Breed_norwegian forest cat', 'Main_Breed_norwich terrier', 'Main_Breed_nova scotia duck tolling retriever', 'Main_Breed_ocicat', 'Main_Breed_old english sheepdog', 'Main_Breed_olde english bulldogge', 'Main_Breed_otterhound', 'Main_Breed_papillon', 'Main_Breed_parson russell terrier', 'Main_Breed_patterdale terr', 'Main_Breed_pekingese', 'Main_Breed_pembroke welsh corgi', 'Main_Breed_persian', 'Main_Breed_petit basset griffon vendeen', 'Main_Breed_pharaoh hound', 'Main_Breed_pit bull', 'Main_Breed_pixiebob shorthair', 'Main_Breed_plott hound', 'Main_Breed_podengo pequeno', 'Main_Breed_pointer', 'Main_Breed_pomeranian', 'Main_Breed_poodle', 'Main_Breed_portuguese water dog', 'Main_Breed_presa canario', 'Main_Breed_pug', 'Main_Breed_queensland heeler', 'Main_Breed_ragdoll', 'Main_Breed_rat terrier', 'Main_Breed_redbone coonhound', 'Main_Breed_redbone hound', 'Main_Breed_rhod ridgeback', 'Main_Breed_rhodesian ridgeback', 'Main_Breed_rottweiler', 'Main_Breed_russian blue', 'Main_Breed_saluki', 'Main_Breed_samoyed', 'Main_Breed_schipperke', 'Main_Breed_schnauzer giant', 'Main_Breed_scottish terrier', 'Main_Breed_sealyham terr', 'Main_Breed_shar-pei', 'Main_Breed_shetland sheepdog', 'Main_Breed_shiba inu', 'Main_Breed_shih tzu', 'Main_Breed_siamese', 'Main_Breed_siberian husky', 'Main_Breed_silky terrier', 'Main_Breed_skye terrier', 'Main_Breed_smooth fox terrier', 'Main_Breed_snowshoe', 'Main_Breed_soft coated wheaten terrier', 'Main_Breed_spanish mastiff', 'Main_Breed_sphynx', 'Main_Breed_spinone italiano', 'Main_Breed_st. bernard', 'Main_Breed_st. bernard rough coat', 'Main_Breed_st. bernard smooth coat', 'Main_Breed_staffordshire', 'Main_Breed_standard poodle', 'Main_Breed_standard schnauzer', 'Main_Breed_swedish vallhund', 'Main_Breed_swiss hound', 'Main_Breed_tibetan spaniel', 'Main_Breed_tibetan terrier', 'Main_Breed_tonkinese', 'Main_Breed_toy fox terrier', 'Main_Breed_toy poodle', 'Main_Breed_treeing cur', 'Main_Breed_treeing tennesse brindle', 'Main_Breed_treeing walker coonhound', 'Main_Breed_turkish van', 'Main_Breed_unknown', 'Main_Breed_vizsla', 'Main_Breed_weimaraner', 'Main_Breed_welsh springer spaniel', 'Main_Breed_welsh terrier', 'Main_Breed_west highland', 'Main_Breed_whippet', 'Main_Breed_wire fox terrier', 'Main_Breed_wire hair fox terrier', 'Main_Breed_wirehaired pointing griffon', 'Main_Breed_xoloitzcuintli', 'Main_Breed_yorkshire terrier', 'Sub_Breed_NA', 'Sub_Breed_affenpinscher', 'Sub_Breed_airedale terrier', 'Sub_Breed_akita', 'Sub_Breed_alaskan husky', 'Sub_Breed_alaskan malamute', 'Sub_Breed_american bulldog', 'Sub_Breed_american foxhound', 'Sub_Breed_american pit bull terrier', 'Sub_Breed_american staffordshire terrier', 'Sub_Breed_anatol shepherd', 'Sub_Breed_australian cattle dog', 'Sub_Breed_australian kelpie', 'Sub_Breed_australian shepherd', 'Sub_Breed_basenji', 'Sub_Breed_basset hound', 'Sub_Breed_beagle', 'Sub_Breed_beauceron', 'Sub_Breed_belgian malinois', 'Sub_Breed_bichon frise', 'Sub_Breed_black', 'Sub_Breed_black mouth cur', 'Sub_Breed_bloodhound', 'Sub_Breed_blue lacy', 'Sub_Breed_border collie', 'Sub_Breed_border terrier', 'Sub_Breed_borzoi', 'Sub_Breed_boston terrier', 'Sub_Breed_boxer', 'Sub_Breed_british shorthair', 'Sub_Breed_brittany', 'Sub_Breed_bruss griffon', 'Sub_Breed_bull terrier', 'Sub_Breed_bulldog', 'Sub_Breed_cairn terrier', 'Sub_Breed_canaan dog', 'Sub_Breed_cardigan welsh corgi', 'Sub_Breed_carolina dog', 'Sub_Breed_catahoula', 'Sub_Breed_cavalier span', 'Sub_Breed_chesa bay retr', 'Sub_Breed_chihuahua longhair', 'Sub_Breed_chihuahua shorthair', 'Sub_Breed_chinese sharpei', 'Sub_Breed_chow chow', 'Sub_Breed_cocker spaniel', 'Sub_Breed_collie rough', 'Sub_Breed_collie smooth', 'Sub_Breed_dachshund', 'Sub_Breed_dachshund longhair', 'Sub_Breed_dachshund wirehair', 'Sub_Breed_dalmatian', 'Sub_Breed_doberman pinsch', 'Sub_Breed_dogue de bordeaux', 'Sub_Breed_domestic longhair', 'Sub_Breed_domestic medium hair', 'Sub_Breed_domestic shorthair', 'Sub_Breed_english bulldog', 'Sub_Breed_english cocker spaniel', 'Sub_Breed_english foxhound', 'Sub_Breed_english pointer', 'Sub_Breed_english setter', 'Sub_Breed_english springer spaniel', 'Sub_Breed_finnish spitz', 'Sub_Breed_flat coat retriever', 'Sub_Breed_french bulldog', 'Sub_Breed_german pinscher', 'Sub_Breed_german shepherd', 'Sub_Breed_german shorthair pointer', 'Sub_Breed_golden retriever', 'Sub_Breed_great dane', 'Sub_Breed_great pyrenees', 'Sub_Breed_greyhound', 'Sub_Breed_harrier', 'Sub_Breed_havanese', 'Sub_Breed_ibizan hound', 'Sub_Breed_italian greyhound', 'Sub_Breed_jack russell terrier', 'Sub_Breed_japanese bobtail', 'Sub_Breed_keeshond', 'Sub_Breed_labrador retriever', 'Sub_Breed_lhasa apso', 'Sub_Breed_maltese', 'Sub_Breed_manchester terrier', 'Sub_Breed_manx', 'Sub_Breed_mastiff', 'Sub_Breed_miniature pinscher', 'Sub_Breed_miniature poodle', 'Sub_Breed_miniature schnauzer', 'Sub_Breed_neapolitan mastiff', 'Sub_Breed_newfoundland', 'Sub_Breed_norfolk terrier', 'Sub_Breed_nova scotia duck tolling retriever', 'Sub_Breed_papillon', 'Sub_Breed_parson russell terrier', 'Sub_Breed_pbgv', 'Sub_Breed_pekingese', 'Sub_Breed_pembroke welsh corgi', 'Sub_Breed_persian', 'Sub_Breed_pit bull', 'Sub_Breed_plott hound', 'Sub_Breed_pointer', 'Sub_Breed_pomeranian', 'Sub_Breed_pug', 'Sub_Breed_queensland heeler', 'Sub_Breed_ragdoll', 'Sub_Breed_rat terrier', 'Sub_Breed_redbone hound', 'Sub_Breed_rex', 'Sub_Breed_rhod ridgeback', 'Sub_Breed_rottweiler', 'Sub_Breed_russian blue', 'Sub_Breed_schipperke', 'Sub_Breed_schnauzer giant', 'Sub_Breed_scottish terrier', 'Sub_Breed_shetland sheepdog', 'Sub_Breed_shiba inu', 'Sub_Breed_shih tzu', 'Sub_Breed_siamese', 'Sub_Breed_siberian husky', 'Sub_Breed_skye terrier', 'Sub_Breed_smooth fox terrier', 'Sub_Breed_soft coated wheaten terrier', 'Sub_Breed_spanish water dog', 'Sub_Breed_st. bernard rough coat', 'Sub_Breed_st. bernard smooth coat', 'Sub_Breed_staffordshire', 'Sub_Breed_standard poodle', 'Sub_Breed_standard schnauzer', 'Sub_Breed_swedish vallhund', 'Sub_Breed_tan hound', 'Sub_Breed_toy fox terrier', 'Sub_Breed_toy poodle', 'Sub_Breed_treeing walker coonhound', 'Sub_Breed_unknown', 'Sub_Breed_vizsla', 'Sub_Breed_weimaraner', 'Sub_Breed_welsh terrier', 'Sub_Breed_west highland', 'Sub_Breed_whippet', 'Sub_Breed_wire hair fox terrier', 'Sub_Breed_yorkshire', 'Sub_Breed_yorkshire terrier', 'Main_Color_Agouti', 'Main_Color_Apricot', 'Main_Color_Black', 'Main_Color_Black Brindle', 'Main_Color_Black Smoke', 'Main_Color_Black Tabby', 'Main_Color_Black Tiger', 'Main_Color_Blue', 'Main_Color_Blue Cream', 'Main_Color_Blue Merle', 'Main_Color_Blue Point', 'Main_Color_Blue Smoke', 'Main_Color_Blue Tabby', 'Main_Color_Blue Tick', 'Main_Color_Blue Tiger', 'Main_Color_Brown', 'Main_Color_Brown Brindle', 'Main_Color_Brown Merle', 'Main_Color_Brown Tabby', 'Main_Color_Brown Tiger', 'Main_Color_Buff', 'Main_Color_Calico', 'Main_Color_Calico Point', 'Main_Color_Chocolate', 'Main_Color_Chocolate Point', 'Main_Color_Cream', 'Main_Color_Cream Tabby', 'Main_Color_Fawn', 'Main_Color_Flame Point', 'Main_Color_Gold', 'Main_Color_Gray', 'Main_Color_Gray Tabby', 'Main_Color_Lilac Point', 'Main_Color_Liver', 'Main_Color_Liver Tick', 'Main_Color_Lynx Point', 'Main_Color_Orange', 'Main_Color_Orange Tabby', 'Main_Color_Orange Tiger', 'Main_Color_Pink', 'Main_Color_Red', 'Main_Color_Red Merle', 'Main_Color_Red Tick', 'Main_Color_Ruddy', 'Main_Color_Sable', 'Main_Color_Seal Point', 'Main_Color_Silver', 'Main_Color_Silver Lynx Point', 'Main_Color_Silver Tabby', 'Main_Color_Tan', 'Main_Color_Torbie', 'Main_Color_Tortie', 'Main_Color_Tortie Point', 'Main_Color_Tricolor', 'Main_Color_White', 'Main_Color_Yellow', 'Main_Color_Yellow Brindle', 'Sub_Color_Apricot', 'Sub_Color_Black', 'Sub_Color_Black Brindle', 'Sub_Color_Black Smoke', 'Sub_Color_Black Tabby', 'Sub_Color_Blue', 'Sub_Color_Blue Cream', 'Sub_Color_Blue Merle', 'Sub_Color_Blue Smoke', 'Sub_Color_Blue Tabby', 'Sub_Color_Blue Tick', 'Sub_Color_Blue Tiger', 'Sub_Color_Brown', 'Sub_Color_Brown Brindle', 'Sub_Color_Brown Merle', 'Sub_Color_Brown Tabby', 'Sub_Color_Brown Tiger', 'Sub_Color_Buff', 'Sub_Color_Calico', 'Sub_Color_Chocolate', 'Sub_Color_Chocolate Point', 'Sub_Color_Cream', 'Sub_Color_Cream Tabby', 'Sub_Color_Flame Point', 'Sub_Color_Gold', 'Sub_Color_Gray', 'Sub_Color_Gray Tabby', 'Sub_Color_Liver', 'Sub_Color_Lynx Point', 'Sub_Color_NA', 'Sub_Color_Orange', 'Sub_Color_Orange Tabby', 'Sub_Color_Pink', 'Sub_Color_Red', 'Sub_Color_Red Merle', 'Sub_Color_Red Tick', 'Sub_Color_Seal Point', 'Sub_Color_Silver', 'Sub_Color_Silver Tabby', 'Sub_Color_Tan', 'Sub_Color_Tortie', 'Sub_Color_Tricolor', 'Sub_Color_White', 'Sub_Color_Yellow', 'Sub_Color_Yellow Brindle', 'OutcomeYear_2013', 'OutcomeYear_2014', 'OutcomeYear_2015', 'OutcomeYear_2016', 'OutcomeMonth_01', 'OutcomeMonth_02', 'OutcomeMonth_03', 'OutcomeMonth_04', 'OutcomeMonth_05', 'OutcomeMonth_06', 'OutcomeMonth_07', 'OutcomeMonth_08', 'OutcomeMonth_09', 'OutcomeMonth_10', 'OutcomeMonth_11', 'OutcomeMonth_12', 'OutcomeDay_01', 'OutcomeDay_02', 'OutcomeDay_03', 'OutcomeDay_04', 'OutcomeDay_05', 'OutcomeDay_06', 'OutcomeDay_07', 'OutcomeDay_08', 'OutcomeDay_09', 'OutcomeDay_10', 'OutcomeDay_11', 'OutcomeDay_12', 'OutcomeDay_13', 'OutcomeDay_14', 'OutcomeDay_15', 'OutcomeDay_16', 'OutcomeDay_17', 'OutcomeDay_18', 'OutcomeDay_19', 'OutcomeDay_20', 'OutcomeDay_21', 'OutcomeDay_22', 'OutcomeDay_23', 'OutcomeDay_24', 'OutcomeDay_25', 'OutcomeDay_26', 'OutcomeDay_27', 'OutcomeDay_28', 'OutcomeDay_29', 'OutcomeDay_30', 'OutcomeDay_31', 'OutcomeHour_00', 'OutcomeHour_05', 'OutcomeHour_06', 'OutcomeHour_07', 'OutcomeHour_08', 'OutcomeHour_09', 'OutcomeHour_10', 'OutcomeHour_11', 'OutcomeHour_12', 'OutcomeHour_13', 'OutcomeHour_14', 'OutcomeHour_15', 'OutcomeHour_16', 'OutcomeHour_17', 'OutcomeHour_18', 'OutcomeHour_19', 'OutcomeHour_20', 'OutcomeHour_21', 'OutcomeHour_22', 'OutcomeHour_23', 'Intact Female', 'Intact Male', 'Neutered Male', 'Spayed Female', 'Unknown'] ['Name', 'AnimalType', 'AgeuponOutcome', 'Rank', 'Main_Breed_abyssinian', 'Main_Breed_airedale terrier', 'Main_Breed_akita', 'Main_Breed_alaskan husky', 'Main_Breed_alaskan malamute', 'Main_Breed_american bulldog', 'Main_Breed_american eskimo', 'Main_Breed_american foxhound', 'Main_Breed_american pit bull terrier', 'Main_Breed_american shorthair', 'Main_Breed_american staffordshire terrier', 'Main_Breed_american wirehair', 'Main_Breed_anatol shepherd', 'Main_Breed_angora', 'Main_Breed_australian cattle dog', 'Main_Breed_australian kelpie', 'Main_Breed_australian shepherd', 'Main_Breed_australian terrier', 'Main_Breed_balinese', 'Main_Breed_basenji', 'Main_Breed_basset hound', 'Main_Breed_beagle', 'Main_Breed_bearded collie', 'Main_Breed_beauceron', 'Main_Breed_belgian malinois', 'Main_Breed_belgian tervuren', 'Main_Breed_bengal', 'Main_Breed_bernese mountain dog', 'Main_Breed_bichon frise', 'Main_Breed_black', 'Main_Breed_black mouth cur', 'Main_Breed_bloodhound', 'Main_Breed_blue lacy', 'Main_Breed_bluetick hound', 'Main_Breed_boerboel', 'Main_Breed_bombay', 'Main_Breed_border collie', 'Main_Breed_border terrier', 'Main_Breed_boston terrier', 'Main_Breed_boxer', 'Main_Breed_boykin span', 'Main_Breed_british shorthair', 'Main_Breed_brittany', 'Main_Breed_bruss griffon', 'Main_Breed_bull terrier', 'Main_Breed_bull terrier miniature', 'Main_Breed_bulldog', 'Main_Breed_bullmastiff', 'Main_Breed_cairn terrier', 'Main_Breed_canaan dog', 'Main_Breed_cane corso', 'Main_Breed_cardigan welsh corgi', 'Main_Breed_carolina dog', 'Main_Breed_catahoula', 'Main_Breed_cavalier span', 'Main_Breed_chartreux', 'Main_Breed_chesa bay retr', 'Main_Breed_chihuahua longhair', 'Main_Breed_chihuahua shorthair', 'Main_Breed_chinese crested', 'Main_Breed_chinese sharpei', 'Main_Breed_chow chow', 'Main_Breed_cocker spaniel', 'Main_Breed_collie rough', 'Main_Breed_collie smooth', 'Main_Breed_coton de tulear', 'Main_Breed_cymric', 'Main_Breed_dachshund', 'Main_Breed_dachshund longhair', 'Main_Breed_dachshund stan', 'Main_Breed_dachshund wirehair', 'Main_Breed_dalmatian', 'Main_Breed_dandie dinmont', 'Main_Breed_devon rex', 'Main_Breed_doberman pinsch', 'Main_Breed_dogo argentino', 'Main_Breed_dogue de bordeaux', 'Main_Breed_domestic longhair', 'Main_Breed_domestic medium hair', 'Main_Breed_domestic shorthair', 'Main_Breed_dutch shepherd', 'Main_Breed_eng toy spaniel', 'Main_Breed_english bulldog', 'Main_Breed_english cocker spaniel', 'Main_Breed_english coonhound', 'Main_Breed_english foxhound', 'Main_Breed_english pointer', 'Main_Breed_english springer spaniel', 'Main_Breed_feist', 'Main_Breed_field spaniel', 'Main_Breed_finnish spitz', 'Main_Breed_flat coat retriever', 'Main_Breed_french bulldog', 'Main_Breed_german pinscher', 'Main_Breed_german shepherd', 'Main_Breed_german shorthair pointer', 'Main_Breed_german wirehaired pointer', 'Main_Breed_glen of imaal', 'Main_Breed_golden retriever', 'Main_Breed_gordon setter', 'Main_Breed_great dane', 'Main_Breed_great pyrenees', 'Main_Breed_greater swiss mountain dog', 'Main_Breed_greyhound', 'Main_Breed_harrier', 'Main_Breed_havanese', 'Main_Breed_himalayan', 'Main_Breed_irish setter', 'Main_Breed_irish terrier', 'Main_Breed_italian greyhound', 'Main_Breed_jack russell terrier', 'Main_Breed_japanese chin', 'Main_Breed_jindo', 'Main_Breed_keeshond', 'Main_Breed_kuvasz', 'Main_Breed_labrador retriever', 'Main_Breed_leonberger', 'Main_Breed_lhasa apso', 'Main_Breed_lowchen', 'Main_Breed_maine coon', 'Main_Breed_maltese', 'Main_Breed_manchester terrier', 'Main_Breed_manx', 'Main_Breed_mastiff', 'Main_Breed_mexican hairless', 'Main_Breed_miniature pinscher', 'Main_Breed_miniature poodle', 'Main_Breed_miniature schnauzer', 'Main_Breed_munchkin shorthair', 'Main_Breed_newfoundland', 'Main_Breed_norfolk terrier', 'Main_Breed_norwegian forest cat', 'Main_Breed_norwich terrier', 'Main_Breed_nova scotia duck tolling retriever', 'Main_Breed_old english bulldog', 'Main_Breed_old english sheepdog', 'Main_Breed_oriental sh', 'Main_Breed_otterhound', 'Main_Breed_papillon', 'Main_Breed_parson russell terrier', 'Main_Breed_patterdale terr', 'Main_Breed_pbgv', 'Main_Breed_pekingese', 'Main_Breed_pembroke welsh corgi', 'Main_Breed_persian', 'Main_Breed_pharaoh hound', 'Main_Breed_picardy sheepdog', 'Main_Breed_pit bull', 'Main_Breed_pixiebob shorthair', 'Main_Breed_plott hound', 'Main_Breed_podengo pequeno', 'Main_Breed_pointer', 'Main_Breed_pomeranian', 'Main_Breed_presa canario', 'Main_Breed_pug', 'Main_Breed_queensland heeler', 'Main_Breed_ragdoll', 'Main_Breed_rat terrier', 'Main_Breed_redbone hound', 'Main_Breed_rhod ridgeback', 'Main_Breed_rottweiler', 'Main_Breed_russian blue', 'Main_Breed_saluki', 'Main_Breed_samoyed', 'Main_Breed_schipperke', 'Main_Breed_schnauzer giant', 'Main_Breed_scottish fold', 'Main_Breed_scottish terrier', 'Main_Breed_shetland sheepdog', 'Main_Breed_shiba inu', 'Main_Breed_shih tzu', 'Main_Breed_siamese', 'Main_Breed_siberian husky', 'Main_Breed_silky terrier', 'Main_Breed_skye terrier', 'Main_Breed_smooth fox terrier', 'Main_Breed_snowshoe', 'Main_Breed_soft coated wheaten terrier', 'Main_Breed_st. bernard rough coat', 'Main_Breed_st. bernard smooth coat', 'Main_Breed_staffordshire', 'Main_Breed_standard poodle', 'Main_Breed_standard schnauzer', 'Main_Breed_swedish vallhund', 'Main_Breed_tibetan spaniel', 'Main_Breed_tibetan terrier', 'Main_Breed_tonkinese', 'Main_Breed_toy fox terrier', 'Main_Breed_toy poodle', 'Main_Breed_treeing cur', 'Main_Breed_treeing walker coonhound', 'Main_Breed_turkish angora', 'Main_Breed_vizsla', 'Main_Breed_weimaraner', 'Main_Breed_welsh terrier', 'Main_Breed_west highland', 'Main_Breed_whippet', 'Main_Breed_wire hair fox terrier', 'Main_Breed_wirehaired pointing griffon', 'Main_Breed_yorkshire terrier', 'Sub_Breed_NA', 'Sub_Breed_airedale terrier', 'Sub_Breed_akita', 'Sub_Breed_alaskan husky', 'Sub_Breed_alaskan malamute', 'Sub_Breed_american bulldog', 'Sub_Breed_american eskimo', 'Sub_Breed_american foxhound', 'Sub_Breed_american pit bull terrier', 'Sub_Breed_american staffordshire terrier', 'Sub_Breed_anatol shepherd', 'Sub_Breed_angora', 'Sub_Breed_australian cattle dog', 'Sub_Breed_australian kelpie', 'Sub_Breed_australian shepherd', 'Sub_Breed_basenji', 'Sub_Breed_basset hound', 'Sub_Breed_beagle', 'Sub_Breed_black', 'Sub_Breed_black mouth cur', 'Sub_Breed_bloodhound', 'Sub_Breed_blue lacy', 'Sub_Breed_boerboel', 'Sub_Breed_border collie', 'Sub_Breed_border terrier', 'Sub_Breed_boston terrier', 'Sub_Breed_boxer', 'Sub_Breed_brittany', 'Sub_Breed_bruss griffon', 'Sub_Breed_bull terrier', 'Sub_Breed_bulldog', 'Sub_Breed_bullmastiff', 'Sub_Breed_cairn terrier', 'Sub_Breed_cane corso', 'Sub_Breed_cardigan welsh corgi', 'Sub_Breed_carolina dog', 'Sub_Breed_catahoula', 'Sub_Breed_cavalier span', 'Sub_Breed_chihuahua longhair', 'Sub_Breed_chihuahua shorthair', 'Sub_Breed_chinese crested', 'Sub_Breed_chinese sharpei', 'Sub_Breed_chow chow', 'Sub_Breed_cirneco', 'Sub_Breed_cocker spaniel', 'Sub_Breed_collie rough', 'Sub_Breed_collie smooth', 'Sub_Breed_dachshund', 'Sub_Breed_dachshund longhair', 'Sub_Breed_dachshund wirehair', 'Sub_Breed_dalmatian', 'Sub_Breed_doberman pinsch', 'Sub_Breed_dogue de bordeaux', 'Sub_Breed_domestic longhair', 'Sub_Breed_domestic shorthair', 'Sub_Breed_dutch shepherd', 'Sub_Breed_english bulldog', 'Sub_Breed_english coonhound', 'Sub_Breed_english foxhound', 'Sub_Breed_english pointer', 'Sub_Breed_english springer spaniel', 'Sub_Breed_feist', 'Sub_Breed_flat coat retriever', 'Sub_Breed_french bulldog', 'Sub_Breed_german shepherd', 'Sub_Breed_german shorthair pointer', 'Sub_Breed_golden retriever', 'Sub_Breed_great dane', 'Sub_Breed_great pyrenees', 'Sub_Breed_greyhound', 'Sub_Breed_harrier', 'Sub_Breed_ibizan hound', 'Sub_Breed_irish setter', 'Sub_Breed_irish terrier', 'Sub_Breed_irish wolfhound', 'Sub_Breed_italian greyhound', 'Sub_Breed_jack russell terrier', 'Sub_Breed_labrador retriever', 'Sub_Breed_lhasa apso', 'Sub_Breed_maltese', 'Sub_Breed_manchester terrier', 'Sub_Breed_mastiff', 'Sub_Breed_mexican hairless', 'Sub_Breed_miniature pinscher', 'Sub_Breed_miniature poodle', 'Sub_Breed_miniature schnauzer', 'Sub_Breed_norfolk terrier', 'Sub_Breed_papillon', 'Sub_Breed_parson russell terrier', 'Sub_Breed_pekingese', 'Sub_Breed_pembroke welsh corgi', 'Sub_Breed_persian', 'Sub_Breed_pharaoh hound', 'Sub_Breed_pit bull', 'Sub_Breed_plott hound', 'Sub_Breed_pointer', 'Sub_Breed_pomeranian', 'Sub_Breed_pug', 'Sub_Breed_queensland heeler', 'Sub_Breed_rat terrier', 'Sub_Breed_redbone hound', 'Sub_Breed_rex', 'Sub_Breed_rhod ridgeback', 'Sub_Breed_rottweiler', 'Sub_Breed_saluki', 'Sub_Breed_schipperke', 'Sub_Breed_shetland sheepdog', 'Sub_Breed_shiba inu', 'Sub_Breed_shih tzu', 'Sub_Breed_siamese', 'Sub_Breed_siberian husky', 'Sub_Breed_smooth fox terrier', 'Sub_Breed_soft coated wheaten terrier', 'Sub_Breed_st. bernard rough coat', 'Sub_Breed_staffordshire', 'Sub_Breed_standard poodle', 'Sub_Breed_standard schnauzer', 'Sub_Breed_swedish vallhund', 'Sub_Breed_tan hound', 'Sub_Breed_toy poodle', 'Sub_Breed_treeing cur', 'Sub_Breed_treeing walker coonhound', 'Sub_Breed_vizsla', 'Sub_Breed_weimaraner', 'Sub_Breed_welsh terrier', 'Sub_Breed_west highland', 'Sub_Breed_whippet', 'Sub_Breed_wire hair fox terrier', 'Sub_Breed_yorkshire terrier', 'Main_Color_Agouti', 'Main_Color_Apricot', 'Main_Color_Black', 'Main_Color_Black Brindle', 'Main_Color_Black Smoke', 'Main_Color_Black Tabby', 'Main_Color_Blue', 'Main_Color_Blue Cream', 'Main_Color_Blue Merle', 'Main_Color_Blue Point', 'Main_Color_Blue Smoke', 'Main_Color_Blue Tabby', 'Main_Color_Blue Tick', 'Main_Color_Blue Tiger', 'Main_Color_Brown', 'Main_Color_Brown Brindle', 'Main_Color_Brown Merle', 'Main_Color_Brown Tabby', 'Main_Color_Buff', 'Main_Color_Calico', 'Main_Color_Calico Point', 'Main_Color_Chocolate', 'Main_Color_Chocolate Point', 'Main_Color_Cream', 'Main_Color_Cream Tabby', 'Main_Color_Fawn', 'Main_Color_Flame Point', 'Main_Color_Gold', 'Main_Color_Gray', 'Main_Color_Gray Tabby', 'Main_Color_Lilac Point', 'Main_Color_Liver', 'Main_Color_Lynx Point', 'Main_Color_Orange', 'Main_Color_Orange Tabby', 'Main_Color_Pink', 'Main_Color_Red', 'Main_Color_Red Merle', 'Main_Color_Red Tick', 'Main_Color_Sable', 'Main_Color_Seal Point', 'Main_Color_Silver', 'Main_Color_Silver Lynx Point', 'Main_Color_Silver Tabby', 'Main_Color_Tan', 'Main_Color_Torbie', 'Main_Color_Tortie', 'Main_Color_Tortie Point', 'Main_Color_Tricolor', 'Main_Color_White', 'Main_Color_Yellow', 'Main_Color_Yellow Brindle', 'Sub_Color_Apricot', 'Sub_Color_Black', 'Sub_Color_Black Brindle', 'Sub_Color_Black Smoke', 'Sub_Color_Black Tabby', 'Sub_Color_Blue', 'Sub_Color_Blue Cream', 'Sub_Color_Blue Merle', 'Sub_Color_Blue Tabby', 'Sub_Color_Blue Tick', 'Sub_Color_Brown', 'Sub_Color_Brown Brindle', 'Sub_Color_Brown Merle', 'Sub_Color_Brown Tabby', 'Sub_Color_Buff', 'Sub_Color_Calico', 'Sub_Color_Chocolate', 'Sub_Color_Cream', 'Sub_Color_Cream Tabby', 'Sub_Color_Gold', 'Sub_Color_Gray', 'Sub_Color_Gray Tiger', 'Sub_Color_Liver', 'Sub_Color_Lynx Point', 'Sub_Color_NA', 'Sub_Color_Orange', 'Sub_Color_Orange Tabby', 'Sub_Color_Red', 'Sub_Color_Red Merle', 'Sub_Color_Red Tick', 'Sub_Color_Seal Point', 'Sub_Color_Silver', 'Sub_Color_Tan', 'Sub_Color_Tortie', 'Sub_Color_Tortie Point', 'Sub_Color_Tricolor', 'Sub_Color_White', 'Sub_Color_Yellow', 'Sub_Color_Yellow Brindle', 'OutcomeYear_2013', 'OutcomeYear_2014', 'OutcomeYear_2015', 'OutcomeYear_2016', 'OutcomeMonth_01', 'OutcomeMonth_02', 'OutcomeMonth_03', 'OutcomeMonth_04', 'OutcomeMonth_05', 'OutcomeMonth_06', 'OutcomeMonth_07', 'OutcomeMonth_08', 'OutcomeMonth_09', 'OutcomeMonth_10', 'OutcomeMonth_11', 'OutcomeMonth_12', 'OutcomeDay_01', 'OutcomeDay_02', 'OutcomeDay_03', 'OutcomeDay_04', 'OutcomeDay_05', 'OutcomeDay_06', 'OutcomeDay_07', 'OutcomeDay_08', 'OutcomeDay_09', 'OutcomeDay_10', 'OutcomeDay_11', 'OutcomeDay_12', 'OutcomeDay_13', 'OutcomeDay_14', 'OutcomeDay_15', 'OutcomeDay_16', 'OutcomeDay_17', 'OutcomeDay_18', 'OutcomeDay_19', 'OutcomeDay_20', 'OutcomeDay_21', 'OutcomeDay_22', 'OutcomeDay_23', 'OutcomeDay_24', 'OutcomeDay_25', 'OutcomeDay_26', 'OutcomeDay_27', 'OutcomeDay_28', 'OutcomeDay_29', 'OutcomeDay_30', 'OutcomeDay_31', 'OutcomeHour_0:', 'OutcomeHour_10', 'OutcomeHour_11', 'OutcomeHour_12', 'OutcomeHour_13', 'OutcomeHour_14', 'OutcomeHour_15', 'OutcomeHour_16', 'OutcomeHour_17', 'OutcomeHour_18', 'OutcomeHour_19', 'OutcomeHour_20', 'OutcomeHour_21', 'OutcomeHour_22', 'OutcomeHour_23', 'OutcomeHour_3:', 'OutcomeHour_6:', 'OutcomeHour_7:', 'OutcomeHour_8:', 'OutcomeHour_9:', 'Intact Female', 'Intact Male', 'Neutered Male', 'Spayed Female', 'Unknown']\nexpected Main_Breed_bedlington terr, Main_Breed_redbone coonhound, Main_Breed_neapolitan mastiff, Sub_Breed_schnauzer giant, Sub_Breed_yorkshire, Sub_Color_Silver Tabby, Main_Breed_burmese, Sub_Breed_manx, Main_Breed_unknown, Sub_Breed_british shorthair, Main_Breed_german shorthaired pointer, Main_Breed_flat-coated retriever, Sub_Color_Blue Tiger, Main_Breed_ocicat, Main_Breed_spinone italiano, Sub_Breed_domestic medium hair, Main_Color_Ruddy, Main_Breed_chesapeake bay retriever, Main_Breed_exotic shorthair, Main_Breed_anatolian shepherd dog, Sub_Breed_havanese, Main_Breed_st. bernard, Main_Breed_rhodesian ridgeback, Sub_Color_Gray Tabby, Main_Breed_spanish mastiff, Sub_Breed_toy fox terrier, Sub_Breed_spanish water dog, Main_Breed_treeing tennesse brindle, Main_Breed_chihuahua, Main_Breed_havana brown, Sub_Color_Chocolate Point, Sub_Color_Pink, Sub_Breed_russian blue, Sub_Breed_unknown, Sub_Breed_german pinscher, Main_Breed_bluetick coonhound, Main_Color_Orange Tiger, OutcomeHour_09, Sub_Breed_nova scotia duck tolling retriever, Main_Breed_irish wolfhound, Sub_Breed_japanese bobtail, Main_Breed_shar-pei, Main_Color_Brown Tiger, Main_Breed_turkish van, Main_Breed_portuguese water dog, Sub_Breed_chesa bay retr, Main_Breed_hovawart, Main_Breed_ibizan hound, Main_Breed_japanese bobtail, Main_Breed_english shepherd, Main_Breed_sphynx, Main_Breed_petit basset griffon vendeen, Sub_Color_Brown Tiger, Main_Color_Liver Tick, Main_Breed_welsh springer spaniel, OutcomeHour_08, Sub_Breed_affenpinscher, Sub_Breed_canaan dog, OutcomeHour_05, Main_Breed_sealyham terr, Main_Breed_landseer, Main_Breed_munchkin longhair, Sub_Breed_finnish spitz, Main_Breed_wire fox terrier, Sub_Breed_keeshond, Main_Breed_brussels griffon, Sub_Breed_beauceron, Main_Breed_argentine dogo, Main_Breed_english setter, Main_Color_Black Tiger, Sub_Breed_english setter, Sub_Breed_english cocker spaniel, Sub_Breed_st. bernard smooth coat, Main_Breed_miniature bull terrier, Main_Breed_cornish rex, Sub_Breed_newfoundland, Main_Breed_swiss hound, Main_Breed_olde english bulldogge, Main_Breed_xoloitzcuintli, Sub_Breed_skye terrier, Main_Breed_collie, Sub_Breed_ragdoll, Main_Breed_berger picard, Main_Breed_entlebucher, OutcomeHour_00, Sub_Breed_bichon frise, Main_Breed_belgian sheepdog, Main_Breed_afghan hound, Main_Breed_affenpinscher, Sub_Breed_pbgv, OutcomeHour_06, OutcomeHour_07, Main_Breed_poodle, Sub_Breed_neapolitan mastiff, Sub_Breed_belgian malinois, Sub_Color_Flame Point, Sub_Color_Blue Smoke, Sub_Breed_scottish terrier, Main_Breed_cavalier king charles spaniel, Main_Breed_norwegian elkhound, Main_Breed_javanese, Sub_Breed_borzoi in input data\ntraining data did not have the following fields: Sub_Breed_cirneco, Sub_Breed_english coonhound, Main_Breed_picardy sheepdog, Sub_Breed_american eskimo, Main_Breed_american wirehair, Main_Breed_english pointer, Sub_Breed_cane corso, Sub_Breed_angora, Sub_Breed_saluki, Main_Breed_chesa bay retr, Sub_Breed_boerboel, Sub_Breed_feist, Main_Breed_pbgv, OutcomeHour_6:, Main_Breed_dachshund stan, OutcomeHour_8:, Sub_Breed_pharaoh hound, Sub_Breed_treeing cur, Main_Breed_dandie dinmont, Main_Breed_coton de tulear, Main_Breed_mexican hairless, Main_Breed_gordon setter, Sub_Breed_chinese crested, Sub_Breed_mexican hairless, Main_Breed_eng toy spaniel, Sub_Color_Gray Tiger, OutcomeHour_9:, OutcomeHour_3:, Sub_Breed_bullmastiff, Sub_Breed_irish setter, OutcomeHour_0:, Sub_Breed_irish terrier, Main_Breed_scottish fold, Main_Breed_oriental sh, OutcomeHour_7:, Main_Breed_turkish angora, Main_Breed_bull terrier miniature, Main_Breed_munchkin shorthair, Sub_Breed_dutch shepherd, Main_Breed_old english bulldog, Sub_Color_Tortie Point, Main_Breed_chartreux, Sub_Breed_irish wolfhound",
     "output_type": "error",
     "traceback": [
      "\u001b[0;31m---------------------------------------------------------------------------\u001b[0m",
      "\u001b[0;31mValueError\u001b[0m                                Traceback (most recent call last)",
      "\u001b[0;32m<ipython-input-313-937a67c13c0a>\u001b[0m in \u001b[0;36m<module>\u001b[0;34m()\u001b[0m\n\u001b[0;32m----> 1\u001b[0;31m \u001b[0my_proba_xgb\u001b[0m \u001b[0;34m=\u001b[0m \u001b[0mmodel_xgb\u001b[0m\u001b[0;34m.\u001b[0m\u001b[0mpredict_proba\u001b[0m\u001b[0;34m(\u001b[0m\u001b[0mdfX_test4\u001b[0m\u001b[0;34m)\u001b[0m\u001b[0;34m\u001b[0m\u001b[0m\n\u001b[0m\u001b[1;32m      2\u001b[0m \u001b[0my_proba_xgb_test_df\u001b[0m \u001b[0;34m=\u001b[0m \u001b[0mpd\u001b[0m\u001b[0;34m.\u001b[0m\u001b[0mDataFrame\u001b[0m\u001b[0;34m(\u001b[0m\u001b[0my_proba_xgb\u001b[0m\u001b[0;34m,\u001b[0m \u001b[0mcolumns\u001b[0m \u001b[0;34m=\u001b[0m \u001b[0;34m[\u001b[0m\u001b[0;34m'Adoption'\u001b[0m\u001b[0;34m,\u001b[0m \u001b[0;34m'Died'\u001b[0m\u001b[0;34m,\u001b[0m \u001b[0;34m'Euthanasia'\u001b[0m\u001b[0;34m,\u001b[0m \u001b[0;34m'Return_to_owner'\u001b[0m\u001b[0;34m,\u001b[0m \u001b[0;34m'Transfer'\u001b[0m\u001b[0;34m]\u001b[0m\u001b[0;34m)\u001b[0m\u001b[0;34m\u001b[0m\u001b[0m\n\u001b[1;32m      3\u001b[0m \u001b[0my_proba_xgb_test_df\u001b[0m\u001b[0;34m.\u001b[0m\u001b[0mto_csv\u001b[0m\u001b[0;34m(\u001b[0m\u001b[0;34m'submission4.csv'\u001b[0m\u001b[0;34m,\u001b[0m \u001b[0mindex_label\u001b[0m \u001b[0;34m=\u001b[0m \u001b[0;34m'ID'\u001b[0m\u001b[0;34m)\u001b[0m\u001b[0;34m\u001b[0m\u001b[0m\n\u001b[1;32m      4\u001b[0m \u001b[0mpd\u001b[0m\u001b[0;34m.\u001b[0m\u001b[0mread_csv\u001b[0m\u001b[0;34m(\u001b[0m\u001b[0;34m'submission4.csv'\u001b[0m\u001b[0;34m)\u001b[0m\u001b[0;34m.\u001b[0m\u001b[0mtail\u001b[0m\u001b[0;34m(\u001b[0m\u001b[0;34m)\u001b[0m\u001b[0;34m\u001b[0m\u001b[0m\n",
      "\u001b[0;32m~/anaconda3/lib/python3.5/site-packages/xgboost/sklearn.py\u001b[0m in \u001b[0;36mpredict_proba\u001b[0;34m(self, data, output_margin, ntree_limit)\u001b[0m\n\u001b[1;32m    475\u001b[0m         class_probs = self.booster().predict(test_dmatrix,\n\u001b[1;32m    476\u001b[0m                                              \u001b[0moutput_margin\u001b[0m\u001b[0;34m=\u001b[0m\u001b[0moutput_margin\u001b[0m\u001b[0;34m,\u001b[0m\u001b[0;34m\u001b[0m\u001b[0m\n\u001b[0;32m--> 477\u001b[0;31m                                              ntree_limit=ntree_limit)\n\u001b[0m\u001b[1;32m    478\u001b[0m         \u001b[0;32mif\u001b[0m \u001b[0mself\u001b[0m\u001b[0;34m.\u001b[0m\u001b[0mobjective\u001b[0m \u001b[0;34m==\u001b[0m \u001b[0;34m\"multi:softprob\"\u001b[0m\u001b[0;34m:\u001b[0m\u001b[0;34m\u001b[0m\u001b[0m\n\u001b[1;32m    479\u001b[0m             \u001b[0;32mreturn\u001b[0m \u001b[0mclass_probs\u001b[0m\u001b[0;34m\u001b[0m\u001b[0m\n",
      "\u001b[0;32m~/anaconda3/lib/python3.5/site-packages/xgboost/core.py\u001b[0m in \u001b[0;36mpredict\u001b[0;34m(self, data, output_margin, ntree_limit, pred_leaf)\u001b[0m\n\u001b[1;32m    937\u001b[0m             \u001b[0moption_mask\u001b[0m \u001b[0;34m|=\u001b[0m \u001b[0;36m0x02\u001b[0m\u001b[0;34m\u001b[0m\u001b[0m\n\u001b[1;32m    938\u001b[0m \u001b[0;34m\u001b[0m\u001b[0m\n\u001b[0;32m--> 939\u001b[0;31m         \u001b[0mself\u001b[0m\u001b[0;34m.\u001b[0m\u001b[0m_validate_features\u001b[0m\u001b[0;34m(\u001b[0m\u001b[0mdata\u001b[0m\u001b[0;34m)\u001b[0m\u001b[0;34m\u001b[0m\u001b[0m\n\u001b[0m\u001b[1;32m    940\u001b[0m \u001b[0;34m\u001b[0m\u001b[0m\n\u001b[1;32m    941\u001b[0m         \u001b[0mlength\u001b[0m \u001b[0;34m=\u001b[0m \u001b[0mctypes\u001b[0m\u001b[0;34m.\u001b[0m\u001b[0mc_ulong\u001b[0m\u001b[0;34m(\u001b[0m\u001b[0;34m)\u001b[0m\u001b[0;34m\u001b[0m\u001b[0m\n",
      "\u001b[0;32m~/anaconda3/lib/python3.5/site-packages/xgboost/core.py\u001b[0m in \u001b[0;36m_validate_features\u001b[0;34m(self, data)\u001b[0m\n\u001b[1;32m   1177\u001b[0m \u001b[0;34m\u001b[0m\u001b[0m\n\u001b[1;32m   1178\u001b[0m                 raise ValueError(msg.format(self.feature_names,\n\u001b[0;32m-> 1179\u001b[0;31m                                             data.feature_names))\n\u001b[0m\u001b[1;32m   1180\u001b[0m \u001b[0;34m\u001b[0m\u001b[0m\n\u001b[1;32m   1181\u001b[0m     \u001b[0;32mdef\u001b[0m \u001b[0mget_split_value_histogram\u001b[0m\u001b[0;34m(\u001b[0m\u001b[0mself\u001b[0m\u001b[0;34m,\u001b[0m \u001b[0mfeature\u001b[0m\u001b[0;34m,\u001b[0m \u001b[0mfmap\u001b[0m\u001b[0;34m=\u001b[0m\u001b[0;34m''\u001b[0m\u001b[0;34m,\u001b[0m \u001b[0mbins\u001b[0m\u001b[0;34m=\u001b[0m\u001b[0;32mNone\u001b[0m\u001b[0;34m,\u001b[0m \u001b[0mas_pandas\u001b[0m\u001b[0;34m=\u001b[0m\u001b[0;32mTrue\u001b[0m\u001b[0;34m)\u001b[0m\u001b[0;34m:\u001b[0m\u001b[0;34m\u001b[0m\u001b[0m\n",
      "\u001b[0;31mValueError\u001b[0m: feature_names mismatch: ['Name', 'AnimalType', 'AgeuponOutcome', 'Rank', 'Main_Breed_abyssinian', 'Main_Breed_affenpinscher', 'Main_Breed_afghan hound', 'Main_Breed_airedale terrier', 'Main_Breed_akita', 'Main_Breed_alaskan husky', 'Main_Breed_alaskan malamute', 'Main_Breed_american bulldog', 'Main_Breed_american eskimo', 'Main_Breed_american foxhound', 'Main_Breed_american pit bull terrier', 'Main_Breed_american shorthair', 'Main_Breed_american staffordshire terrier', 'Main_Breed_anatol shepherd', 'Main_Breed_anatolian shepherd dog', 'Main_Breed_angora', 'Main_Breed_argentine dogo', 'Main_Breed_australian cattle dog', 'Main_Breed_australian kelpie', 'Main_Breed_australian shepherd', 'Main_Breed_australian terrier', 'Main_Breed_balinese', 'Main_Breed_basenji', 'Main_Breed_basset hound', 'Main_Breed_beagle', 'Main_Breed_bearded collie', 'Main_Breed_beauceron', 'Main_Breed_bedlington terr', 'Main_Breed_belgian malinois', 'Main_Breed_belgian sheepdog', 'Main_Breed_belgian tervuren', 'Main_Breed_bengal', 'Main_Breed_berger picard', 'Main_Breed_bernese mountain dog', 'Main_Breed_bichon frise', 'Main_Breed_black', 'Main_Breed_black mouth cur', 'Main_Breed_bloodhound', 'Main_Breed_blue lacy', 'Main_Breed_bluetick coonhound', 'Main_Breed_bluetick hound', 'Main_Breed_boerboel', 'Main_Breed_bombay', 'Main_Breed_border collie', 'Main_Breed_border terrier', 'Main_Breed_boston terrier', 'Main_Breed_boxer', 'Main_Breed_boykin span', 'Main_Breed_british shorthair', 'Main_Breed_brittany', 'Main_Breed_bruss griffon', 'Main_Breed_brussels griffon', 'Main_Breed_bull terrier', 'Main_Breed_bulldog', 'Main_Breed_bullmastiff', 'Main_Breed_burmese', 'Main_Breed_cairn terrier', 'Main_Breed_canaan dog', 'Main_Breed_cane corso', 'Main_Breed_cardigan welsh corgi', 'Main_Breed_carolina dog', 'Main_Breed_catahoula', 'Main_Breed_cavalier king charles spaniel', 'Main_Breed_cavalier span', 'Main_Breed_chesapeake bay retriever', 'Main_Breed_chihuahua', 'Main_Breed_chihuahua longhair', 'Main_Breed_chihuahua shorthair', 'Main_Breed_chinese crested', 'Main_Breed_chinese sharpei', 'Main_Breed_chow chow', 'Main_Breed_cocker spaniel', 'Main_Breed_collie', 'Main_Breed_collie rough', 'Main_Breed_collie smooth', 'Main_Breed_cornish rex', 'Main_Breed_cymric', 'Main_Breed_dachshund', 'Main_Breed_dachshund longhair', 'Main_Breed_dachshund wirehair', 'Main_Breed_dalmatian', 'Main_Breed_devon rex', 'Main_Breed_doberman pinsch', 'Main_Breed_dogo argentino', 'Main_Breed_dogue de bordeaux', 'Main_Breed_domestic longhair', 'Main_Breed_domestic medium hair', 'Main_Breed_domestic shorthair', 'Main_Breed_dutch shepherd', 'Main_Breed_english bulldog', 'Main_Breed_english cocker spaniel', 'Main_Breed_english coonhound', 'Main_Breed_english foxhound', 'Main_Breed_english setter', 'Main_Breed_english shepherd', 'Main_Breed_english springer spaniel', 'Main_Breed_entlebucher', 'Main_Breed_exotic shorthair', 'Main_Breed_feist', 'Main_Breed_field spaniel', 'Main_Breed_finnish spitz', 'Main_Breed_flat coat retriever', 'Main_Breed_flat-coated retriever', 'Main_Breed_french bulldog', 'Main_Breed_german pinscher', 'Main_Breed_german shepherd', 'Main_Breed_german shorthair pointer', 'Main_Breed_german shorthaired pointer', 'Main_Breed_german wirehaired pointer', 'Main_Breed_glen of imaal', 'Main_Breed_golden retriever', 'Main_Breed_great dane', 'Main_Breed_great pyrenees', 'Main_Breed_greater swiss mountain dog', 'Main_Breed_greyhound', 'Main_Breed_harrier', 'Main_Breed_havana brown', 'Main_Breed_havanese', 'Main_Breed_himalayan', 'Main_Breed_hovawart', 'Main_Breed_ibizan hound', 'Main_Breed_irish setter', 'Main_Breed_irish terrier', 'Main_Breed_irish wolfhound', 'Main_Breed_italian greyhound', 'Main_Breed_jack russell terrier', 'Main_Breed_japanese bobtail', 'Main_Breed_japanese chin', 'Main_Breed_javanese', 'Main_Breed_jindo', 'Main_Breed_keeshond', 'Main_Breed_kuvasz', 'Main_Breed_labrador retriever', 'Main_Breed_landseer', 'Main_Breed_leonberger', 'Main_Breed_lhasa apso', 'Main_Breed_lowchen', 'Main_Breed_maine coon', 'Main_Breed_maltese', 'Main_Breed_manchester terrier', 'Main_Breed_manx', 'Main_Breed_mastiff', 'Main_Breed_miniature bull terrier', 'Main_Breed_miniature pinscher', 'Main_Breed_miniature poodle', 'Main_Breed_miniature schnauzer', 'Main_Breed_munchkin longhair', 'Main_Breed_neapolitan mastiff', 'Main_Breed_newfoundland', 'Main_Breed_norfolk terrier', 'Main_Breed_norwegian elkhound', 'Main_Breed_norwegian forest cat', 'Main_Breed_norwich terrier', 'Main_Breed_nova scotia duck tolling retriever', 'Main_Breed_ocicat', 'Main_Breed_old english sheepdog', 'Main_Breed_olde english bulldogge', 'Main_Breed_otterhound', 'Main_Breed_papillon', 'Main_Breed_parson russell terrier', 'Main_Breed_patterdale terr', 'Main_Breed_pekingese', 'Main_Breed_pembroke welsh corgi', 'Main_Breed_persian', 'Main_Breed_petit basset griffon vendeen', 'Main_Breed_pharaoh hound', 'Main_Breed_pit bull', 'Main_Breed_pixiebob shorthair', 'Main_Breed_plott hound', 'Main_Breed_podengo pequeno', 'Main_Breed_pointer', 'Main_Breed_pomeranian', 'Main_Breed_poodle', 'Main_Breed_portuguese water dog', 'Main_Breed_presa canario', 'Main_Breed_pug', 'Main_Breed_queensland heeler', 'Main_Breed_ragdoll', 'Main_Breed_rat terrier', 'Main_Breed_redbone coonhound', 'Main_Breed_redbone hound', 'Main_Breed_rhod ridgeback', 'Main_Breed_rhodesian ridgeback', 'Main_Breed_rottweiler', 'Main_Breed_russian blue', 'Main_Breed_saluki', 'Main_Breed_samoyed', 'Main_Breed_schipperke', 'Main_Breed_schnauzer giant', 'Main_Breed_scottish terrier', 'Main_Breed_sealyham terr', 'Main_Breed_shar-pei', 'Main_Breed_shetland sheepdog', 'Main_Breed_shiba inu', 'Main_Breed_shih tzu', 'Main_Breed_siamese', 'Main_Breed_siberian husky', 'Main_Breed_silky terrier', 'Main_Breed_skye terrier', 'Main_Breed_smooth fox terrier', 'Main_Breed_snowshoe', 'Main_Breed_soft coated wheaten terrier', 'Main_Breed_spanish mastiff', 'Main_Breed_sphynx', 'Main_Breed_spinone italiano', 'Main_Breed_st. bernard', 'Main_Breed_st. bernard rough coat', 'Main_Breed_st. bernard smooth coat', 'Main_Breed_staffordshire', 'Main_Breed_standard poodle', 'Main_Breed_standard schnauzer', 'Main_Breed_swedish vallhund', 'Main_Breed_swiss hound', 'Main_Breed_tibetan spaniel', 'Main_Breed_tibetan terrier', 'Main_Breed_tonkinese', 'Main_Breed_toy fox terrier', 'Main_Breed_toy poodle', 'Main_Breed_treeing cur', 'Main_Breed_treeing tennesse brindle', 'Main_Breed_treeing walker coonhound', 'Main_Breed_turkish van', 'Main_Breed_unknown', 'Main_Breed_vizsla', 'Main_Breed_weimaraner', 'Main_Breed_welsh springer spaniel', 'Main_Breed_welsh terrier', 'Main_Breed_west highland', 'Main_Breed_whippet', 'Main_Breed_wire fox terrier', 'Main_Breed_wire hair fox terrier', 'Main_Breed_wirehaired pointing griffon', 'Main_Breed_xoloitzcuintli', 'Main_Breed_yorkshire terrier', 'Sub_Breed_NA', 'Sub_Breed_affenpinscher', 'Sub_Breed_airedale terrier', 'Sub_Breed_akita', 'Sub_Breed_alaskan husky', 'Sub_Breed_alaskan malamute', 'Sub_Breed_american bulldog', 'Sub_Breed_american foxhound', 'Sub_Breed_american pit bull terrier', 'Sub_Breed_american staffordshire terrier', 'Sub_Breed_anatol shepherd', 'Sub_Breed_australian cattle dog', 'Sub_Breed_australian kelpie', 'Sub_Breed_australian shepherd', 'Sub_Breed_basenji', 'Sub_Breed_basset hound', 'Sub_Breed_beagle', 'Sub_Breed_beauceron', 'Sub_Breed_belgian malinois', 'Sub_Breed_bichon frise', 'Sub_Breed_black', 'Sub_Breed_black mouth cur', 'Sub_Breed_bloodhound', 'Sub_Breed_blue lacy', 'Sub_Breed_border collie', 'Sub_Breed_border terrier', 'Sub_Breed_borzoi', 'Sub_Breed_boston terrier', 'Sub_Breed_boxer', 'Sub_Breed_british shorthair', 'Sub_Breed_brittany', 'Sub_Breed_bruss griffon', 'Sub_Breed_bull terrier', 'Sub_Breed_bulldog', 'Sub_Breed_cairn terrier', 'Sub_Breed_canaan dog', 'Sub_Breed_cardigan welsh corgi', 'Sub_Breed_carolina dog', 'Sub_Breed_catahoula', 'Sub_Breed_cavalier span', 'Sub_Breed_chesa bay retr', 'Sub_Breed_chihuahua longhair', 'Sub_Breed_chihuahua shorthair', 'Sub_Breed_chinese sharpei', 'Sub_Breed_chow chow', 'Sub_Breed_cocker spaniel', 'Sub_Breed_collie rough', 'Sub_Breed_collie smooth', 'Sub_Breed_dachshund', 'Sub_Breed_dachshund longhair', 'Sub_Breed_dachshund wirehair', 'Sub_Breed_dalmatian', 'Sub_Breed_doberman pinsch', 'Sub_Breed_dogue de bordeaux', 'Sub_Breed_domestic longhair', 'Sub_Breed_domestic medium hair', 'Sub_Breed_domestic shorthair', 'Sub_Breed_english bulldog', 'Sub_Breed_english cocker spaniel', 'Sub_Breed_english foxhound', 'Sub_Breed_english pointer', 'Sub_Breed_english setter', 'Sub_Breed_english springer spaniel', 'Sub_Breed_finnish spitz', 'Sub_Breed_flat coat retriever', 'Sub_Breed_french bulldog', 'Sub_Breed_german pinscher', 'Sub_Breed_german shepherd', 'Sub_Breed_german shorthair pointer', 'Sub_Breed_golden retriever', 'Sub_Breed_great dane', 'Sub_Breed_great pyrenees', 'Sub_Breed_greyhound', 'Sub_Breed_harrier', 'Sub_Breed_havanese', 'Sub_Breed_ibizan hound', 'Sub_Breed_italian greyhound', 'Sub_Breed_jack russell terrier', 'Sub_Breed_japanese bobtail', 'Sub_Breed_keeshond', 'Sub_Breed_labrador retriever', 'Sub_Breed_lhasa apso', 'Sub_Breed_maltese', 'Sub_Breed_manchester terrier', 'Sub_Breed_manx', 'Sub_Breed_mastiff', 'Sub_Breed_miniature pinscher', 'Sub_Breed_miniature poodle', 'Sub_Breed_miniature schnauzer', 'Sub_Breed_neapolitan mastiff', 'Sub_Breed_newfoundland', 'Sub_Breed_norfolk terrier', 'Sub_Breed_nova scotia duck tolling retriever', 'Sub_Breed_papillon', 'Sub_Breed_parson russell terrier', 'Sub_Breed_pbgv', 'Sub_Breed_pekingese', 'Sub_Breed_pembroke welsh corgi', 'Sub_Breed_persian', 'Sub_Breed_pit bull', 'Sub_Breed_plott hound', 'Sub_Breed_pointer', 'Sub_Breed_pomeranian', 'Sub_Breed_pug', 'Sub_Breed_queensland heeler', 'Sub_Breed_ragdoll', 'Sub_Breed_rat terrier', 'Sub_Breed_redbone hound', 'Sub_Breed_rex', 'Sub_Breed_rhod ridgeback', 'Sub_Breed_rottweiler', 'Sub_Breed_russian blue', 'Sub_Breed_schipperke', 'Sub_Breed_schnauzer giant', 'Sub_Breed_scottish terrier', 'Sub_Breed_shetland sheepdog', 'Sub_Breed_shiba inu', 'Sub_Breed_shih tzu', 'Sub_Breed_siamese', 'Sub_Breed_siberian husky', 'Sub_Breed_skye terrier', 'Sub_Breed_smooth fox terrier', 'Sub_Breed_soft coated wheaten terrier', 'Sub_Breed_spanish water dog', 'Sub_Breed_st. bernard rough coat', 'Sub_Breed_st. bernard smooth coat', 'Sub_Breed_staffordshire', 'Sub_Breed_standard poodle', 'Sub_Breed_standard schnauzer', 'Sub_Breed_swedish vallhund', 'Sub_Breed_tan hound', 'Sub_Breed_toy fox terrier', 'Sub_Breed_toy poodle', 'Sub_Breed_treeing walker coonhound', 'Sub_Breed_unknown', 'Sub_Breed_vizsla', 'Sub_Breed_weimaraner', 'Sub_Breed_welsh terrier', 'Sub_Breed_west highland', 'Sub_Breed_whippet', 'Sub_Breed_wire hair fox terrier', 'Sub_Breed_yorkshire', 'Sub_Breed_yorkshire terrier', 'Main_Color_Agouti', 'Main_Color_Apricot', 'Main_Color_Black', 'Main_Color_Black Brindle', 'Main_Color_Black Smoke', 'Main_Color_Black Tabby', 'Main_Color_Black Tiger', 'Main_Color_Blue', 'Main_Color_Blue Cream', 'Main_Color_Blue Merle', 'Main_Color_Blue Point', 'Main_Color_Blue Smoke', 'Main_Color_Blue Tabby', 'Main_Color_Blue Tick', 'Main_Color_Blue Tiger', 'Main_Color_Brown', 'Main_Color_Brown Brindle', 'Main_Color_Brown Merle', 'Main_Color_Brown Tabby', 'Main_Color_Brown Tiger', 'Main_Color_Buff', 'Main_Color_Calico', 'Main_Color_Calico Point', 'Main_Color_Chocolate', 'Main_Color_Chocolate Point', 'Main_Color_Cream', 'Main_Color_Cream Tabby', 'Main_Color_Fawn', 'Main_Color_Flame Point', 'Main_Color_Gold', 'Main_Color_Gray', 'Main_Color_Gray Tabby', 'Main_Color_Lilac Point', 'Main_Color_Liver', 'Main_Color_Liver Tick', 'Main_Color_Lynx Point', 'Main_Color_Orange', 'Main_Color_Orange Tabby', 'Main_Color_Orange Tiger', 'Main_Color_Pink', 'Main_Color_Red', 'Main_Color_Red Merle', 'Main_Color_Red Tick', 'Main_Color_Ruddy', 'Main_Color_Sable', 'Main_Color_Seal Point', 'Main_Color_Silver', 'Main_Color_Silver Lynx Point', 'Main_Color_Silver Tabby', 'Main_Color_Tan', 'Main_Color_Torbie', 'Main_Color_Tortie', 'Main_Color_Tortie Point', 'Main_Color_Tricolor', 'Main_Color_White', 'Main_Color_Yellow', 'Main_Color_Yellow Brindle', 'Sub_Color_Apricot', 'Sub_Color_Black', 'Sub_Color_Black Brindle', 'Sub_Color_Black Smoke', 'Sub_Color_Black Tabby', 'Sub_Color_Blue', 'Sub_Color_Blue Cream', 'Sub_Color_Blue Merle', 'Sub_Color_Blue Smoke', 'Sub_Color_Blue Tabby', 'Sub_Color_Blue Tick', 'Sub_Color_Blue Tiger', 'Sub_Color_Brown', 'Sub_Color_Brown Brindle', 'Sub_Color_Brown Merle', 'Sub_Color_Brown Tabby', 'Sub_Color_Brown Tiger', 'Sub_Color_Buff', 'Sub_Color_Calico', 'Sub_Color_Chocolate', 'Sub_Color_Chocolate Point', 'Sub_Color_Cream', 'Sub_Color_Cream Tabby', 'Sub_Color_Flame Point', 'Sub_Color_Gold', 'Sub_Color_Gray', 'Sub_Color_Gray Tabby', 'Sub_Color_Liver', 'Sub_Color_Lynx Point', 'Sub_Color_NA', 'Sub_Color_Orange', 'Sub_Color_Orange Tabby', 'Sub_Color_Pink', 'Sub_Color_Red', 'Sub_Color_Red Merle', 'Sub_Color_Red Tick', 'Sub_Color_Seal Point', 'Sub_Color_Silver', 'Sub_Color_Silver Tabby', 'Sub_Color_Tan', 'Sub_Color_Tortie', 'Sub_Color_Tricolor', 'Sub_Color_White', 'Sub_Color_Yellow', 'Sub_Color_Yellow Brindle', 'OutcomeYear_2013', 'OutcomeYear_2014', 'OutcomeYear_2015', 'OutcomeYear_2016', 'OutcomeMonth_01', 'OutcomeMonth_02', 'OutcomeMonth_03', 'OutcomeMonth_04', 'OutcomeMonth_05', 'OutcomeMonth_06', 'OutcomeMonth_07', 'OutcomeMonth_08', 'OutcomeMonth_09', 'OutcomeMonth_10', 'OutcomeMonth_11', 'OutcomeMonth_12', 'OutcomeDay_01', 'OutcomeDay_02', 'OutcomeDay_03', 'OutcomeDay_04', 'OutcomeDay_05', 'OutcomeDay_06', 'OutcomeDay_07', 'OutcomeDay_08', 'OutcomeDay_09', 'OutcomeDay_10', 'OutcomeDay_11', 'OutcomeDay_12', 'OutcomeDay_13', 'OutcomeDay_14', 'OutcomeDay_15', 'OutcomeDay_16', 'OutcomeDay_17', 'OutcomeDay_18', 'OutcomeDay_19', 'OutcomeDay_20', 'OutcomeDay_21', 'OutcomeDay_22', 'OutcomeDay_23', 'OutcomeDay_24', 'OutcomeDay_25', 'OutcomeDay_26', 'OutcomeDay_27', 'OutcomeDay_28', 'OutcomeDay_29', 'OutcomeDay_30', 'OutcomeDay_31', 'OutcomeHour_00', 'OutcomeHour_05', 'OutcomeHour_06', 'OutcomeHour_07', 'OutcomeHour_08', 'OutcomeHour_09', 'OutcomeHour_10', 'OutcomeHour_11', 'OutcomeHour_12', 'OutcomeHour_13', 'OutcomeHour_14', 'OutcomeHour_15', 'OutcomeHour_16', 'OutcomeHour_17', 'OutcomeHour_18', 'OutcomeHour_19', 'OutcomeHour_20', 'OutcomeHour_21', 'OutcomeHour_22', 'OutcomeHour_23', 'Intact Female', 'Intact Male', 'Neutered Male', 'Spayed Female', 'Unknown'] ['Name', 'AnimalType', 'AgeuponOutcome', 'Rank', 'Main_Breed_abyssinian', 'Main_Breed_airedale terrier', 'Main_Breed_akita', 'Main_Breed_alaskan husky', 'Main_Breed_alaskan malamute', 'Main_Breed_american bulldog', 'Main_Breed_american eskimo', 'Main_Breed_american foxhound', 'Main_Breed_american pit bull terrier', 'Main_Breed_american shorthair', 'Main_Breed_american staffordshire terrier', 'Main_Breed_american wirehair', 'Main_Breed_anatol shepherd', 'Main_Breed_angora', 'Main_Breed_australian cattle dog', 'Main_Breed_australian kelpie', 'Main_Breed_australian shepherd', 'Main_Breed_australian terrier', 'Main_Breed_balinese', 'Main_Breed_basenji', 'Main_Breed_basset hound', 'Main_Breed_beagle', 'Main_Breed_bearded collie', 'Main_Breed_beauceron', 'Main_Breed_belgian malinois', 'Main_Breed_belgian tervuren', 'Main_Breed_bengal', 'Main_Breed_bernese mountain dog', 'Main_Breed_bichon frise', 'Main_Breed_black', 'Main_Breed_black mouth cur', 'Main_Breed_bloodhound', 'Main_Breed_blue lacy', 'Main_Breed_bluetick hound', 'Main_Breed_boerboel', 'Main_Breed_bombay', 'Main_Breed_border collie', 'Main_Breed_border terrier', 'Main_Breed_boston terrier', 'Main_Breed_boxer', 'Main_Breed_boykin span', 'Main_Breed_british shorthair', 'Main_Breed_brittany', 'Main_Breed_bruss griffon', 'Main_Breed_bull terrier', 'Main_Breed_bull terrier miniature', 'Main_Breed_bulldog', 'Main_Breed_bullmastiff', 'Main_Breed_cairn terrier', 'Main_Breed_canaan dog', 'Main_Breed_cane corso', 'Main_Breed_cardigan welsh corgi', 'Main_Breed_carolina dog', 'Main_Breed_catahoula', 'Main_Breed_cavalier span', 'Main_Breed_chartreux', 'Main_Breed_chesa bay retr', 'Main_Breed_chihuahua longhair', 'Main_Breed_chihuahua shorthair', 'Main_Breed_chinese crested', 'Main_Breed_chinese sharpei', 'Main_Breed_chow chow', 'Main_Breed_cocker spaniel', 'Main_Breed_collie rough', 'Main_Breed_collie smooth', 'Main_Breed_coton de tulear', 'Main_Breed_cymric', 'Main_Breed_dachshund', 'Main_Breed_dachshund longhair', 'Main_Breed_dachshund stan', 'Main_Breed_dachshund wirehair', 'Main_Breed_dalmatian', 'Main_Breed_dandie dinmont', 'Main_Breed_devon rex', 'Main_Breed_doberman pinsch', 'Main_Breed_dogo argentino', 'Main_Breed_dogue de bordeaux', 'Main_Breed_domestic longhair', 'Main_Breed_domestic medium hair', 'Main_Breed_domestic shorthair', 'Main_Breed_dutch shepherd', 'Main_Breed_eng toy spaniel', 'Main_Breed_english bulldog', 'Main_Breed_english cocker spaniel', 'Main_Breed_english coonhound', 'Main_Breed_english foxhound', 'Main_Breed_english pointer', 'Main_Breed_english springer spaniel', 'Main_Breed_feist', 'Main_Breed_field spaniel', 'Main_Breed_finnish spitz', 'Main_Breed_flat coat retriever', 'Main_Breed_french bulldog', 'Main_Breed_german pinscher', 'Main_Breed_german shepherd', 'Main_Breed_german shorthair pointer', 'Main_Breed_german wirehaired pointer', 'Main_Breed_glen of imaal', 'Main_Breed_golden retriever', 'Main_Breed_gordon setter', 'Main_Breed_great dane', 'Main_Breed_great pyrenees', 'Main_Breed_greater swiss mountain dog', 'Main_Breed_greyhound', 'Main_Breed_harrier', 'Main_Breed_havanese', 'Main_Breed_himalayan', 'Main_Breed_irish setter', 'Main_Breed_irish terrier', 'Main_Breed_italian greyhound', 'Main_Breed_jack russell terrier', 'Main_Breed_japanese chin', 'Main_Breed_jindo', 'Main_Breed_keeshond', 'Main_Breed_kuvasz', 'Main_Breed_labrador retriever', 'Main_Breed_leonberger', 'Main_Breed_lhasa apso', 'Main_Breed_lowchen', 'Main_Breed_maine coon', 'Main_Breed_maltese', 'Main_Breed_manchester terrier', 'Main_Breed_manx', 'Main_Breed_mastiff', 'Main_Breed_mexican hairless', 'Main_Breed_miniature pinscher', 'Main_Breed_miniature poodle', 'Main_Breed_miniature schnauzer', 'Main_Breed_munchkin shorthair', 'Main_Breed_newfoundland', 'Main_Breed_norfolk terrier', 'Main_Breed_norwegian forest cat', 'Main_Breed_norwich terrier', 'Main_Breed_nova scotia duck tolling retriever', 'Main_Breed_old english bulldog', 'Main_Breed_old english sheepdog', 'Main_Breed_oriental sh', 'Main_Breed_otterhound', 'Main_Breed_papillon', 'Main_Breed_parson russell terrier', 'Main_Breed_patterdale terr', 'Main_Breed_pbgv', 'Main_Breed_pekingese', 'Main_Breed_pembroke welsh corgi', 'Main_Breed_persian', 'Main_Breed_pharaoh hound', 'Main_Breed_picardy sheepdog', 'Main_Breed_pit bull', 'Main_Breed_pixiebob shorthair', 'Main_Breed_plott hound', 'Main_Breed_podengo pequeno', 'Main_Breed_pointer', 'Main_Breed_pomeranian', 'Main_Breed_presa canario', 'Main_Breed_pug', 'Main_Breed_queensland heeler', 'Main_Breed_ragdoll', 'Main_Breed_rat terrier', 'Main_Breed_redbone hound', 'Main_Breed_rhod ridgeback', 'Main_Breed_rottweiler', 'Main_Breed_russian blue', 'Main_Breed_saluki', 'Main_Breed_samoyed', 'Main_Breed_schipperke', 'Main_Breed_schnauzer giant', 'Main_Breed_scottish fold', 'Main_Breed_scottish terrier', 'Main_Breed_shetland sheepdog', 'Main_Breed_shiba inu', 'Main_Breed_shih tzu', 'Main_Breed_siamese', 'Main_Breed_siberian husky', 'Main_Breed_silky terrier', 'Main_Breed_skye terrier', 'Main_Breed_smooth fox terrier', 'Main_Breed_snowshoe', 'Main_Breed_soft coated wheaten terrier', 'Main_Breed_st. bernard rough coat', 'Main_Breed_st. bernard smooth coat', 'Main_Breed_staffordshire', 'Main_Breed_standard poodle', 'Main_Breed_standard schnauzer', 'Main_Breed_swedish vallhund', 'Main_Breed_tibetan spaniel', 'Main_Breed_tibetan terrier', 'Main_Breed_tonkinese', 'Main_Breed_toy fox terrier', 'Main_Breed_toy poodle', 'Main_Breed_treeing cur', 'Main_Breed_treeing walker coonhound', 'Main_Breed_turkish angora', 'Main_Breed_vizsla', 'Main_Breed_weimaraner', 'Main_Breed_welsh terrier', 'Main_Breed_west highland', 'Main_Breed_whippet', 'Main_Breed_wire hair fox terrier', 'Main_Breed_wirehaired pointing griffon', 'Main_Breed_yorkshire terrier', 'Sub_Breed_NA', 'Sub_Breed_airedale terrier', 'Sub_Breed_akita', 'Sub_Breed_alaskan husky', 'Sub_Breed_alaskan malamute', 'Sub_Breed_american bulldog', 'Sub_Breed_american eskimo', 'Sub_Breed_american foxhound', 'Sub_Breed_american pit bull terrier', 'Sub_Breed_american staffordshire terrier', 'Sub_Breed_anatol shepherd', 'Sub_Breed_angora', 'Sub_Breed_australian cattle dog', 'Sub_Breed_australian kelpie', 'Sub_Breed_australian shepherd', 'Sub_Breed_basenji', 'Sub_Breed_basset hound', 'Sub_Breed_beagle', 'Sub_Breed_black', 'Sub_Breed_black mouth cur', 'Sub_Breed_bloodhound', 'Sub_Breed_blue lacy', 'Sub_Breed_boerboel', 'Sub_Breed_border collie', 'Sub_Breed_border terrier', 'Sub_Breed_boston terrier', 'Sub_Breed_boxer', 'Sub_Breed_brittany', 'Sub_Breed_bruss griffon', 'Sub_Breed_bull terrier', 'Sub_Breed_bulldog', 'Sub_Breed_bullmastiff', 'Sub_Breed_cairn terrier', 'Sub_Breed_cane corso', 'Sub_Breed_cardigan welsh corgi', 'Sub_Breed_carolina dog', 'Sub_Breed_catahoula', 'Sub_Breed_cavalier span', 'Sub_Breed_chihuahua longhair', 'Sub_Breed_chihuahua shorthair', 'Sub_Breed_chinese crested', 'Sub_Breed_chinese sharpei', 'Sub_Breed_chow chow', 'Sub_Breed_cirneco', 'Sub_Breed_cocker spaniel', 'Sub_Breed_collie rough', 'Sub_Breed_collie smooth', 'Sub_Breed_dachshund', 'Sub_Breed_dachshund longhair', 'Sub_Breed_dachshund wirehair', 'Sub_Breed_dalmatian', 'Sub_Breed_doberman pinsch', 'Sub_Breed_dogue de bordeaux', 'Sub_Breed_domestic longhair', 'Sub_Breed_domestic shorthair', 'Sub_Breed_dutch shepherd', 'Sub_Breed_english bulldog', 'Sub_Breed_english coonhound', 'Sub_Breed_english foxhound', 'Sub_Breed_english pointer', 'Sub_Breed_english springer spaniel', 'Sub_Breed_feist', 'Sub_Breed_flat coat retriever', 'Sub_Breed_french bulldog', 'Sub_Breed_german shepherd', 'Sub_Breed_german shorthair pointer', 'Sub_Breed_golden retriever', 'Sub_Breed_great dane', 'Sub_Breed_great pyrenees', 'Sub_Breed_greyhound', 'Sub_Breed_harrier', 'Sub_Breed_ibizan hound', 'Sub_Breed_irish setter', 'Sub_Breed_irish terrier', 'Sub_Breed_irish wolfhound', 'Sub_Breed_italian greyhound', 'Sub_Breed_jack russell terrier', 'Sub_Breed_labrador retriever', 'Sub_Breed_lhasa apso', 'Sub_Breed_maltese', 'Sub_Breed_manchester terrier', 'Sub_Breed_mastiff', 'Sub_Breed_mexican hairless', 'Sub_Breed_miniature pinscher', 'Sub_Breed_miniature poodle', 'Sub_Breed_miniature schnauzer', 'Sub_Breed_norfolk terrier', 'Sub_Breed_papillon', 'Sub_Breed_parson russell terrier', 'Sub_Breed_pekingese', 'Sub_Breed_pembroke welsh corgi', 'Sub_Breed_persian', 'Sub_Breed_pharaoh hound', 'Sub_Breed_pit bull', 'Sub_Breed_plott hound', 'Sub_Breed_pointer', 'Sub_Breed_pomeranian', 'Sub_Breed_pug', 'Sub_Breed_queensland heeler', 'Sub_Breed_rat terrier', 'Sub_Breed_redbone hound', 'Sub_Breed_rex', 'Sub_Breed_rhod ridgeback', 'Sub_Breed_rottweiler', 'Sub_Breed_saluki', 'Sub_Breed_schipperke', 'Sub_Breed_shetland sheepdog', 'Sub_Breed_shiba inu', 'Sub_Breed_shih tzu', 'Sub_Breed_siamese', 'Sub_Breed_siberian husky', 'Sub_Breed_smooth fox terrier', 'Sub_Breed_soft coated wheaten terrier', 'Sub_Breed_st. bernard rough coat', 'Sub_Breed_staffordshire', 'Sub_Breed_standard poodle', 'Sub_Breed_standard schnauzer', 'Sub_Breed_swedish vallhund', 'Sub_Breed_tan hound', 'Sub_Breed_toy poodle', 'Sub_Breed_treeing cur', 'Sub_Breed_treeing walker coonhound', 'Sub_Breed_vizsla', 'Sub_Breed_weimaraner', 'Sub_Breed_welsh terrier', 'Sub_Breed_west highland', 'Sub_Breed_whippet', 'Sub_Breed_wire hair fox terrier', 'Sub_Breed_yorkshire terrier', 'Main_Color_Agouti', 'Main_Color_Apricot', 'Main_Color_Black', 'Main_Color_Black Brindle', 'Main_Color_Black Smoke', 'Main_Color_Black Tabby', 'Main_Color_Blue', 'Main_Color_Blue Cream', 'Main_Color_Blue Merle', 'Main_Color_Blue Point', 'Main_Color_Blue Smoke', 'Main_Color_Blue Tabby', 'Main_Color_Blue Tick', 'Main_Color_Blue Tiger', 'Main_Color_Brown', 'Main_Color_Brown Brindle', 'Main_Color_Brown Merle', 'Main_Color_Brown Tabby', 'Main_Color_Buff', 'Main_Color_Calico', 'Main_Color_Calico Point', 'Main_Color_Chocolate', 'Main_Color_Chocolate Point', 'Main_Color_Cream', 'Main_Color_Cream Tabby', 'Main_Color_Fawn', 'Main_Color_Flame Point', 'Main_Color_Gold', 'Main_Color_Gray', 'Main_Color_Gray Tabby', 'Main_Color_Lilac Point', 'Main_Color_Liver', 'Main_Color_Lynx Point', 'Main_Color_Orange', 'Main_Color_Orange Tabby', 'Main_Color_Pink', 'Main_Color_Red', 'Main_Color_Red Merle', 'Main_Color_Red Tick', 'Main_Color_Sable', 'Main_Color_Seal Point', 'Main_Color_Silver', 'Main_Color_Silver Lynx Point', 'Main_Color_Silver Tabby', 'Main_Color_Tan', 'Main_Color_Torbie', 'Main_Color_Tortie', 'Main_Color_Tortie Point', 'Main_Color_Tricolor', 'Main_Color_White', 'Main_Color_Yellow', 'Main_Color_Yellow Brindle', 'Sub_Color_Apricot', 'Sub_Color_Black', 'Sub_Color_Black Brindle', 'Sub_Color_Black Smoke', 'Sub_Color_Black Tabby', 'Sub_Color_Blue', 'Sub_Color_Blue Cream', 'Sub_Color_Blue Merle', 'Sub_Color_Blue Tabby', 'Sub_Color_Blue Tick', 'Sub_Color_Brown', 'Sub_Color_Brown Brindle', 'Sub_Color_Brown Merle', 'Sub_Color_Brown Tabby', 'Sub_Color_Buff', 'Sub_Color_Calico', 'Sub_Color_Chocolate', 'Sub_Color_Cream', 'Sub_Color_Cream Tabby', 'Sub_Color_Gold', 'Sub_Color_Gray', 'Sub_Color_Gray Tiger', 'Sub_Color_Liver', 'Sub_Color_Lynx Point', 'Sub_Color_NA', 'Sub_Color_Orange', 'Sub_Color_Orange Tabby', 'Sub_Color_Red', 'Sub_Color_Red Merle', 'Sub_Color_Red Tick', 'Sub_Color_Seal Point', 'Sub_Color_Silver', 'Sub_Color_Tan', 'Sub_Color_Tortie', 'Sub_Color_Tortie Point', 'Sub_Color_Tricolor', 'Sub_Color_White', 'Sub_Color_Yellow', 'Sub_Color_Yellow Brindle', 'OutcomeYear_2013', 'OutcomeYear_2014', 'OutcomeYear_2015', 'OutcomeYear_2016', 'OutcomeMonth_01', 'OutcomeMonth_02', 'OutcomeMonth_03', 'OutcomeMonth_04', 'OutcomeMonth_05', 'OutcomeMonth_06', 'OutcomeMonth_07', 'OutcomeMonth_08', 'OutcomeMonth_09', 'OutcomeMonth_10', 'OutcomeMonth_11', 'OutcomeMonth_12', 'OutcomeDay_01', 'OutcomeDay_02', 'OutcomeDay_03', 'OutcomeDay_04', 'OutcomeDay_05', 'OutcomeDay_06', 'OutcomeDay_07', 'OutcomeDay_08', 'OutcomeDay_09', 'OutcomeDay_10', 'OutcomeDay_11', 'OutcomeDay_12', 'OutcomeDay_13', 'OutcomeDay_14', 'OutcomeDay_15', 'OutcomeDay_16', 'OutcomeDay_17', 'OutcomeDay_18', 'OutcomeDay_19', 'OutcomeDay_20', 'OutcomeDay_21', 'OutcomeDay_22', 'OutcomeDay_23', 'OutcomeDay_24', 'OutcomeDay_25', 'OutcomeDay_26', 'OutcomeDay_27', 'OutcomeDay_28', 'OutcomeDay_29', 'OutcomeDay_30', 'OutcomeDay_31', 'OutcomeHour_0:', 'OutcomeHour_10', 'OutcomeHour_11', 'OutcomeHour_12', 'OutcomeHour_13', 'OutcomeHour_14', 'OutcomeHour_15', 'OutcomeHour_16', 'OutcomeHour_17', 'OutcomeHour_18', 'OutcomeHour_19', 'OutcomeHour_20', 'OutcomeHour_21', 'OutcomeHour_22', 'OutcomeHour_23', 'OutcomeHour_3:', 'OutcomeHour_6:', 'OutcomeHour_7:', 'OutcomeHour_8:', 'OutcomeHour_9:', 'Intact Female', 'Intact Male', 'Neutered Male', 'Spayed Female', 'Unknown']\nexpected Main_Breed_bedlington terr, Main_Breed_redbone coonhound, Main_Breed_neapolitan mastiff, Sub_Breed_schnauzer giant, Sub_Breed_yorkshire, Sub_Color_Silver Tabby, Main_Breed_burmese, Sub_Breed_manx, Main_Breed_unknown, Sub_Breed_british shorthair, Main_Breed_german shorthaired pointer, Main_Breed_flat-coated retriever, Sub_Color_Blue Tiger, Main_Breed_ocicat, Main_Breed_spinone italiano, Sub_Breed_domestic medium hair, Main_Color_Ruddy, Main_Breed_chesapeake bay retriever, Main_Breed_exotic shorthair, Main_Breed_anatolian shepherd dog, Sub_Breed_havanese, Main_Breed_st. bernard, Main_Breed_rhodesian ridgeback, Sub_Color_Gray Tabby, Main_Breed_spanish mastiff, Sub_Breed_toy fox terrier, Sub_Breed_spanish water dog, Main_Breed_treeing tennesse brindle, Main_Breed_chihuahua, Main_Breed_havana brown, Sub_Color_Chocolate Point, Sub_Color_Pink, Sub_Breed_russian blue, Sub_Breed_unknown, Sub_Breed_german pinscher, Main_Breed_bluetick coonhound, Main_Color_Orange Tiger, OutcomeHour_09, Sub_Breed_nova scotia duck tolling retriever, Main_Breed_irish wolfhound, Sub_Breed_japanese bobtail, Main_Breed_shar-pei, Main_Color_Brown Tiger, Main_Breed_turkish van, Main_Breed_portuguese water dog, Sub_Breed_chesa bay retr, Main_Breed_hovawart, Main_Breed_ibizan hound, Main_Breed_japanese bobtail, Main_Breed_english shepherd, Main_Breed_sphynx, Main_Breed_petit basset griffon vendeen, Sub_Color_Brown Tiger, Main_Color_Liver Tick, Main_Breed_welsh springer spaniel, OutcomeHour_08, Sub_Breed_affenpinscher, Sub_Breed_canaan dog, OutcomeHour_05, Main_Breed_sealyham terr, Main_Breed_landseer, Main_Breed_munchkin longhair, Sub_Breed_finnish spitz, Main_Breed_wire fox terrier, Sub_Breed_keeshond, Main_Breed_brussels griffon, Sub_Breed_beauceron, Main_Breed_argentine dogo, Main_Breed_english setter, Main_Color_Black Tiger, Sub_Breed_english setter, Sub_Breed_english cocker spaniel, Sub_Breed_st. bernard smooth coat, Main_Breed_miniature bull terrier, Main_Breed_cornish rex, Sub_Breed_newfoundland, Main_Breed_swiss hound, Main_Breed_olde english bulldogge, Main_Breed_xoloitzcuintli, Sub_Breed_skye terrier, Main_Breed_collie, Sub_Breed_ragdoll, Main_Breed_berger picard, Main_Breed_entlebucher, OutcomeHour_00, Sub_Breed_bichon frise, Main_Breed_belgian sheepdog, Main_Breed_afghan hound, Main_Breed_affenpinscher, Sub_Breed_pbgv, OutcomeHour_06, OutcomeHour_07, Main_Breed_poodle, Sub_Breed_neapolitan mastiff, Sub_Breed_belgian malinois, Sub_Color_Flame Point, Sub_Color_Blue Smoke, Sub_Breed_scottish terrier, Main_Breed_cavalier king charles spaniel, Main_Breed_norwegian elkhound, Main_Breed_javanese, Sub_Breed_borzoi in input data\ntraining data did not have the following fields: Sub_Breed_cirneco, Sub_Breed_english coonhound, Main_Breed_picardy sheepdog, Sub_Breed_american eskimo, Main_Breed_american wirehair, Main_Breed_english pointer, Sub_Breed_cane corso, Sub_Breed_angora, Sub_Breed_saluki, Main_Breed_chesa bay retr, Sub_Breed_boerboel, Sub_Breed_feist, Main_Breed_pbgv, OutcomeHour_6:, Main_Breed_dachshund stan, OutcomeHour_8:, Sub_Breed_pharaoh hound, Sub_Breed_treeing cur, Main_Breed_dandie dinmont, Main_Breed_coton de tulear, Main_Breed_mexican hairless, Main_Breed_gordon setter, Sub_Breed_chinese crested, Sub_Breed_mexican hairless, Main_Breed_eng toy spaniel, Sub_Color_Gray Tiger, OutcomeHour_9:, OutcomeHour_3:, Sub_Breed_bullmastiff, Sub_Breed_irish setter, OutcomeHour_0:, Sub_Breed_irish terrier, Main_Breed_scottish fold, Main_Breed_oriental sh, OutcomeHour_7:, Main_Breed_turkish angora, Main_Breed_bull terrier miniature, Main_Breed_munchkin shorthair, Sub_Breed_dutch shepherd, Main_Breed_old english bulldog, Sub_Color_Tortie Point, Main_Breed_chartreux, Sub_Breed_irish wolfhound"
     ]
    }
   ],
   "source": [
    "y_proba_xgb = model_xgb.predict_proba(dfX_test4)\n",
    "y_proba_xgb_test_df = pd.DataFrame(y_proba_xgb, columns = ['Adoption', 'Died', 'Euthanasia', 'Return_to_owner', 'Transfer'])\n",
    "y_proba_xgb_test_df.to_csv('submission4.csv', index_label = 'ID')\n",
    "pd.read_csv('submission4.csv').tail()"
   ]
  },
  {
   "cell_type": "code",
   "execution_count": null,
   "metadata": {
    "collapsed": true
   },
   "outputs": [],
   "source": []
  },
  {
   "cell_type": "code",
   "execution_count": 314,
   "metadata": {},
   "outputs": [
    {
     "name": "stdout",
     "output_type": "stream",
     "text": [
      "CPU times: user 12min 35s, sys: 8.17 s, total: 12min 43s\n",
      "Wall time: 3min 46s\n"
     ]
    }
   ],
   "source": [
    "# one-hot-encoding 과정에서 train과 test 사이에 불일치가 발생하여 에러가 남. 혹시나 해서 Breed 빼고, Date 관련 인자만 놓고 해보았지만 역시 오류남.\n",
    "\n",
    "%%time\n",
    "dummy_cont_test = data_test[['Name', 'AnimalType', 'AgeuponOutcome', 'Rank']]\n",
    "\n",
    "model_xgb = xgboost.XGBClassifier(max_depth = 8, n_estimators = 500, nthread = -1)\n",
    "# model_xgb.fit(dfX5, dfY)\n",
    "\n",
    "dfX_test4 = pd.concat([dummy_cont_test, main_color_le, sub_color_le, year_le, month_le, day_le, hour_le, sex_le], axis = 1)"
   ]
  },
  {
   "cell_type": "code",
   "execution_count": 316,
   "metadata": {
    "collapsed": true
   },
   "outputs": [
    {
     "ename": "ValueError",
     "evalue": "feature_names mismatch: ['Name', 'AnimalType', 'AgeuponOutcome', 'Rank', 'Main_Color_Agouti', 'Main_Color_Apricot', 'Main_Color_Black', 'Main_Color_Black Brindle', 'Main_Color_Black Smoke', 'Main_Color_Black Tabby', 'Main_Color_Black Tiger', 'Main_Color_Blue', 'Main_Color_Blue Cream', 'Main_Color_Blue Merle', 'Main_Color_Blue Point', 'Main_Color_Blue Smoke', 'Main_Color_Blue Tabby', 'Main_Color_Blue Tick', 'Main_Color_Blue Tiger', 'Main_Color_Brown', 'Main_Color_Brown Brindle', 'Main_Color_Brown Merle', 'Main_Color_Brown Tabby', 'Main_Color_Brown Tiger', 'Main_Color_Buff', 'Main_Color_Calico', 'Main_Color_Calico Point', 'Main_Color_Chocolate', 'Main_Color_Chocolate Point', 'Main_Color_Cream', 'Main_Color_Cream Tabby', 'Main_Color_Fawn', 'Main_Color_Flame Point', 'Main_Color_Gold', 'Main_Color_Gray', 'Main_Color_Gray Tabby', 'Main_Color_Lilac Point', 'Main_Color_Liver', 'Main_Color_Liver Tick', 'Main_Color_Lynx Point', 'Main_Color_Orange', 'Main_Color_Orange Tabby', 'Main_Color_Orange Tiger', 'Main_Color_Pink', 'Main_Color_Red', 'Main_Color_Red Merle', 'Main_Color_Red Tick', 'Main_Color_Ruddy', 'Main_Color_Sable', 'Main_Color_Seal Point', 'Main_Color_Silver', 'Main_Color_Silver Lynx Point', 'Main_Color_Silver Tabby', 'Main_Color_Tan', 'Main_Color_Torbie', 'Main_Color_Tortie', 'Main_Color_Tortie Point', 'Main_Color_Tricolor', 'Main_Color_White', 'Main_Color_Yellow', 'Main_Color_Yellow Brindle', 'Sub_Color_Apricot', 'Sub_Color_Black', 'Sub_Color_Black Brindle', 'Sub_Color_Black Smoke', 'Sub_Color_Black Tabby', 'Sub_Color_Blue', 'Sub_Color_Blue Cream', 'Sub_Color_Blue Merle', 'Sub_Color_Blue Smoke', 'Sub_Color_Blue Tabby', 'Sub_Color_Blue Tick', 'Sub_Color_Blue Tiger', 'Sub_Color_Brown', 'Sub_Color_Brown Brindle', 'Sub_Color_Brown Merle', 'Sub_Color_Brown Tabby', 'Sub_Color_Brown Tiger', 'Sub_Color_Buff', 'Sub_Color_Calico', 'Sub_Color_Chocolate', 'Sub_Color_Chocolate Point', 'Sub_Color_Cream', 'Sub_Color_Cream Tabby', 'Sub_Color_Flame Point', 'Sub_Color_Gold', 'Sub_Color_Gray', 'Sub_Color_Gray Tabby', 'Sub_Color_Liver', 'Sub_Color_Lynx Point', 'Sub_Color_NA', 'Sub_Color_Orange', 'Sub_Color_Orange Tabby', 'Sub_Color_Pink', 'Sub_Color_Red', 'Sub_Color_Red Merle', 'Sub_Color_Red Tick', 'Sub_Color_Seal Point', 'Sub_Color_Silver', 'Sub_Color_Silver Tabby', 'Sub_Color_Tan', 'Sub_Color_Tortie', 'Sub_Color_Tricolor', 'Sub_Color_White', 'Sub_Color_Yellow', 'Sub_Color_Yellow Brindle', 'OutcomeYear_2013', 'OutcomeYear_2014', 'OutcomeYear_2015', 'OutcomeYear_2016', 'OutcomeMonth_01', 'OutcomeMonth_02', 'OutcomeMonth_03', 'OutcomeMonth_04', 'OutcomeMonth_05', 'OutcomeMonth_06', 'OutcomeMonth_07', 'OutcomeMonth_08', 'OutcomeMonth_09', 'OutcomeMonth_10', 'OutcomeMonth_11', 'OutcomeMonth_12', 'OutcomeDay_01', 'OutcomeDay_02', 'OutcomeDay_03', 'OutcomeDay_04', 'OutcomeDay_05', 'OutcomeDay_06', 'OutcomeDay_07', 'OutcomeDay_08', 'OutcomeDay_09', 'OutcomeDay_10', 'OutcomeDay_11', 'OutcomeDay_12', 'OutcomeDay_13', 'OutcomeDay_14', 'OutcomeDay_15', 'OutcomeDay_16', 'OutcomeDay_17', 'OutcomeDay_18', 'OutcomeDay_19', 'OutcomeDay_20', 'OutcomeDay_21', 'OutcomeDay_22', 'OutcomeDay_23', 'OutcomeDay_24', 'OutcomeDay_25', 'OutcomeDay_26', 'OutcomeDay_27', 'OutcomeDay_28', 'OutcomeDay_29', 'OutcomeDay_30', 'OutcomeDay_31', 'OutcomeHour_00', 'OutcomeHour_05', 'OutcomeHour_06', 'OutcomeHour_07', 'OutcomeHour_08', 'OutcomeHour_09', 'OutcomeHour_10', 'OutcomeHour_11', 'OutcomeHour_12', 'OutcomeHour_13', 'OutcomeHour_14', 'OutcomeHour_15', 'OutcomeHour_16', 'OutcomeHour_17', 'OutcomeHour_18', 'OutcomeHour_19', 'OutcomeHour_20', 'OutcomeHour_21', 'OutcomeHour_22', 'OutcomeHour_23', 'Intact Female', 'Intact Male', 'Neutered Male', 'Spayed Female', 'Unknown'] ['Name', 'AnimalType', 'AgeuponOutcome', 'Rank', 'Main_Color_Agouti', 'Main_Color_Apricot', 'Main_Color_Black', 'Main_Color_Black Brindle', 'Main_Color_Black Smoke', 'Main_Color_Black Tabby', 'Main_Color_Blue', 'Main_Color_Blue Cream', 'Main_Color_Blue Merle', 'Main_Color_Blue Point', 'Main_Color_Blue Smoke', 'Main_Color_Blue Tabby', 'Main_Color_Blue Tick', 'Main_Color_Blue Tiger', 'Main_Color_Brown', 'Main_Color_Brown Brindle', 'Main_Color_Brown Merle', 'Main_Color_Brown Tabby', 'Main_Color_Buff', 'Main_Color_Calico', 'Main_Color_Calico Point', 'Main_Color_Chocolate', 'Main_Color_Chocolate Point', 'Main_Color_Cream', 'Main_Color_Cream Tabby', 'Main_Color_Fawn', 'Main_Color_Flame Point', 'Main_Color_Gold', 'Main_Color_Gray', 'Main_Color_Gray Tabby', 'Main_Color_Lilac Point', 'Main_Color_Liver', 'Main_Color_Lynx Point', 'Main_Color_Orange', 'Main_Color_Orange Tabby', 'Main_Color_Pink', 'Main_Color_Red', 'Main_Color_Red Merle', 'Main_Color_Red Tick', 'Main_Color_Sable', 'Main_Color_Seal Point', 'Main_Color_Silver', 'Main_Color_Silver Lynx Point', 'Main_Color_Silver Tabby', 'Main_Color_Tan', 'Main_Color_Torbie', 'Main_Color_Tortie', 'Main_Color_Tortie Point', 'Main_Color_Tricolor', 'Main_Color_White', 'Main_Color_Yellow', 'Main_Color_Yellow Brindle', 'Sub_Color_Apricot', 'Sub_Color_Black', 'Sub_Color_Black Brindle', 'Sub_Color_Black Smoke', 'Sub_Color_Black Tabby', 'Sub_Color_Blue', 'Sub_Color_Blue Cream', 'Sub_Color_Blue Merle', 'Sub_Color_Blue Tabby', 'Sub_Color_Blue Tick', 'Sub_Color_Brown', 'Sub_Color_Brown Brindle', 'Sub_Color_Brown Merle', 'Sub_Color_Brown Tabby', 'Sub_Color_Buff', 'Sub_Color_Calico', 'Sub_Color_Chocolate', 'Sub_Color_Cream', 'Sub_Color_Cream Tabby', 'Sub_Color_Gold', 'Sub_Color_Gray', 'Sub_Color_Gray Tiger', 'Sub_Color_Liver', 'Sub_Color_Lynx Point', 'Sub_Color_NA', 'Sub_Color_Orange', 'Sub_Color_Orange Tabby', 'Sub_Color_Red', 'Sub_Color_Red Merle', 'Sub_Color_Red Tick', 'Sub_Color_Seal Point', 'Sub_Color_Silver', 'Sub_Color_Tan', 'Sub_Color_Tortie', 'Sub_Color_Tortie Point', 'Sub_Color_Tricolor', 'Sub_Color_White', 'Sub_Color_Yellow', 'Sub_Color_Yellow Brindle', 'OutcomeYear_2013', 'OutcomeYear_2014', 'OutcomeYear_2015', 'OutcomeYear_2016', 'OutcomeMonth_01', 'OutcomeMonth_02', 'OutcomeMonth_03', 'OutcomeMonth_04', 'OutcomeMonth_05', 'OutcomeMonth_06', 'OutcomeMonth_07', 'OutcomeMonth_08', 'OutcomeMonth_09', 'OutcomeMonth_10', 'OutcomeMonth_11', 'OutcomeMonth_12', 'OutcomeDay_01', 'OutcomeDay_02', 'OutcomeDay_03', 'OutcomeDay_04', 'OutcomeDay_05', 'OutcomeDay_06', 'OutcomeDay_07', 'OutcomeDay_08', 'OutcomeDay_09', 'OutcomeDay_10', 'OutcomeDay_11', 'OutcomeDay_12', 'OutcomeDay_13', 'OutcomeDay_14', 'OutcomeDay_15', 'OutcomeDay_16', 'OutcomeDay_17', 'OutcomeDay_18', 'OutcomeDay_19', 'OutcomeDay_20', 'OutcomeDay_21', 'OutcomeDay_22', 'OutcomeDay_23', 'OutcomeDay_24', 'OutcomeDay_25', 'OutcomeDay_26', 'OutcomeDay_27', 'OutcomeDay_28', 'OutcomeDay_29', 'OutcomeDay_30', 'OutcomeDay_31', 'OutcomeHour_0:', 'OutcomeHour_10', 'OutcomeHour_11', 'OutcomeHour_12', 'OutcomeHour_13', 'OutcomeHour_14', 'OutcomeHour_15', 'OutcomeHour_16', 'OutcomeHour_17', 'OutcomeHour_18', 'OutcomeHour_19', 'OutcomeHour_20', 'OutcomeHour_21', 'OutcomeHour_22', 'OutcomeHour_23', 'OutcomeHour_3:', 'OutcomeHour_6:', 'OutcomeHour_7:', 'OutcomeHour_8:', 'OutcomeHour_9:', 'Intact Female', 'Intact Male', 'Neutered Male', 'Spayed Female', 'Unknown']\nexpected Sub_Color_Blue Tiger, Sub_Color_Silver Tabby, Main_Color_Liver Tick, OutcomeHour_07, Main_Color_Orange Tiger, OutcomeHour_08, Main_Color_Black Tiger, Sub_Color_Flame Point, OutcomeHour_06, Sub_Color_Blue Smoke, Sub_Color_Gray Tabby, OutcomeHour_09, Sub_Color_Chocolate Point, Sub_Color_Pink, Main_Color_Ruddy, OutcomeHour_05, Main_Color_Brown Tiger, OutcomeHour_00, Sub_Color_Brown Tiger in input data\ntraining data did not have the following fields: OutcomeHour_7:, OutcomeHour_6:, Sub_Color_Gray Tiger, OutcomeHour_9:, OutcomeHour_8:, OutcomeHour_3:, OutcomeHour_0:, Sub_Color_Tortie Point",
     "output_type": "error",
     "traceback": [
      "\u001b[0;31m---------------------------------------------------------------------------\u001b[0m",
      "\u001b[0;31mValueError\u001b[0m                                Traceback (most recent call last)",
      "\u001b[0;32m<ipython-input-316-66eb6a66be2b>\u001b[0m in \u001b[0;36m<module>\u001b[0;34m()\u001b[0m\n\u001b[0;32m----> 1\u001b[0;31m \u001b[0my_proba_xgb\u001b[0m \u001b[0;34m=\u001b[0m \u001b[0mmodel_xgb\u001b[0m\u001b[0;34m.\u001b[0m\u001b[0mpredict_proba\u001b[0m\u001b[0;34m(\u001b[0m\u001b[0mdfX_test4\u001b[0m\u001b[0;34m)\u001b[0m\u001b[0;34m\u001b[0m\u001b[0m\n\u001b[0m\u001b[1;32m      2\u001b[0m \u001b[0my_proba_xgb_test_df\u001b[0m \u001b[0;34m=\u001b[0m \u001b[0mpd\u001b[0m\u001b[0;34m.\u001b[0m\u001b[0mDataFrame\u001b[0m\u001b[0;34m(\u001b[0m\u001b[0my_proba_xgb\u001b[0m\u001b[0;34m,\u001b[0m \u001b[0mcolumns\u001b[0m \u001b[0;34m=\u001b[0m \u001b[0;34m[\u001b[0m\u001b[0;34m'Adoption'\u001b[0m\u001b[0;34m,\u001b[0m \u001b[0;34m'Died'\u001b[0m\u001b[0;34m,\u001b[0m \u001b[0;34m'Euthanasia'\u001b[0m\u001b[0;34m,\u001b[0m \u001b[0;34m'Return_to_owner'\u001b[0m\u001b[0;34m,\u001b[0m \u001b[0;34m'Transfer'\u001b[0m\u001b[0;34m]\u001b[0m\u001b[0;34m)\u001b[0m\u001b[0;34m\u001b[0m\u001b[0m\n\u001b[1;32m      3\u001b[0m \u001b[0my_proba_xgb_test_df\u001b[0m\u001b[0;34m.\u001b[0m\u001b[0mto_csv\u001b[0m\u001b[0;34m(\u001b[0m\u001b[0;34m'submission5.csv'\u001b[0m\u001b[0;34m,\u001b[0m \u001b[0mindex_label\u001b[0m \u001b[0;34m=\u001b[0m \u001b[0;34m'ID'\u001b[0m\u001b[0;34m)\u001b[0m\u001b[0;34m\u001b[0m\u001b[0m\n\u001b[1;32m      4\u001b[0m \u001b[0mpd\u001b[0m\u001b[0;34m.\u001b[0m\u001b[0mread_csv\u001b[0m\u001b[0;34m(\u001b[0m\u001b[0;34m'submission5.csv'\u001b[0m\u001b[0;34m)\u001b[0m\u001b[0;34m.\u001b[0m\u001b[0mtail\u001b[0m\u001b[0;34m(\u001b[0m\u001b[0;34m)\u001b[0m\u001b[0;34m\u001b[0m\u001b[0m\n",
      "\u001b[0;32m~/anaconda3/lib/python3.5/site-packages/xgboost/sklearn.py\u001b[0m in \u001b[0;36mpredict_proba\u001b[0;34m(self, data, output_margin, ntree_limit)\u001b[0m\n\u001b[1;32m    475\u001b[0m         class_probs = self.booster().predict(test_dmatrix,\n\u001b[1;32m    476\u001b[0m                                              \u001b[0moutput_margin\u001b[0m\u001b[0;34m=\u001b[0m\u001b[0moutput_margin\u001b[0m\u001b[0;34m,\u001b[0m\u001b[0;34m\u001b[0m\u001b[0m\n\u001b[0;32m--> 477\u001b[0;31m                                              ntree_limit=ntree_limit)\n\u001b[0m\u001b[1;32m    478\u001b[0m         \u001b[0;32mif\u001b[0m \u001b[0mself\u001b[0m\u001b[0;34m.\u001b[0m\u001b[0mobjective\u001b[0m \u001b[0;34m==\u001b[0m \u001b[0;34m\"multi:softprob\"\u001b[0m\u001b[0;34m:\u001b[0m\u001b[0;34m\u001b[0m\u001b[0m\n\u001b[1;32m    479\u001b[0m             \u001b[0;32mreturn\u001b[0m \u001b[0mclass_probs\u001b[0m\u001b[0;34m\u001b[0m\u001b[0m\n",
      "\u001b[0;32m~/anaconda3/lib/python3.5/site-packages/xgboost/core.py\u001b[0m in \u001b[0;36mpredict\u001b[0;34m(self, data, output_margin, ntree_limit, pred_leaf)\u001b[0m\n\u001b[1;32m    937\u001b[0m             \u001b[0moption_mask\u001b[0m \u001b[0;34m|=\u001b[0m \u001b[0;36m0x02\u001b[0m\u001b[0;34m\u001b[0m\u001b[0m\n\u001b[1;32m    938\u001b[0m \u001b[0;34m\u001b[0m\u001b[0m\n\u001b[0;32m--> 939\u001b[0;31m         \u001b[0mself\u001b[0m\u001b[0;34m.\u001b[0m\u001b[0m_validate_features\u001b[0m\u001b[0;34m(\u001b[0m\u001b[0mdata\u001b[0m\u001b[0;34m)\u001b[0m\u001b[0;34m\u001b[0m\u001b[0m\n\u001b[0m\u001b[1;32m    940\u001b[0m \u001b[0;34m\u001b[0m\u001b[0m\n\u001b[1;32m    941\u001b[0m         \u001b[0mlength\u001b[0m \u001b[0;34m=\u001b[0m \u001b[0mctypes\u001b[0m\u001b[0;34m.\u001b[0m\u001b[0mc_ulong\u001b[0m\u001b[0;34m(\u001b[0m\u001b[0;34m)\u001b[0m\u001b[0;34m\u001b[0m\u001b[0m\n",
      "\u001b[0;32m~/anaconda3/lib/python3.5/site-packages/xgboost/core.py\u001b[0m in \u001b[0;36m_validate_features\u001b[0;34m(self, data)\u001b[0m\n\u001b[1;32m   1177\u001b[0m \u001b[0;34m\u001b[0m\u001b[0m\n\u001b[1;32m   1178\u001b[0m                 raise ValueError(msg.format(self.feature_names,\n\u001b[0;32m-> 1179\u001b[0;31m                                             data.feature_names))\n\u001b[0m\u001b[1;32m   1180\u001b[0m \u001b[0;34m\u001b[0m\u001b[0m\n\u001b[1;32m   1181\u001b[0m     \u001b[0;32mdef\u001b[0m \u001b[0mget_split_value_histogram\u001b[0m\u001b[0;34m(\u001b[0m\u001b[0mself\u001b[0m\u001b[0;34m,\u001b[0m \u001b[0mfeature\u001b[0m\u001b[0;34m,\u001b[0m \u001b[0mfmap\u001b[0m\u001b[0;34m=\u001b[0m\u001b[0;34m''\u001b[0m\u001b[0;34m,\u001b[0m \u001b[0mbins\u001b[0m\u001b[0;34m=\u001b[0m\u001b[0;32mNone\u001b[0m\u001b[0;34m,\u001b[0m \u001b[0mas_pandas\u001b[0m\u001b[0;34m=\u001b[0m\u001b[0;32mTrue\u001b[0m\u001b[0;34m)\u001b[0m\u001b[0;34m:\u001b[0m\u001b[0;34m\u001b[0m\u001b[0m\n",
      "\u001b[0;31mValueError\u001b[0m: feature_names mismatch: ['Name', 'AnimalType', 'AgeuponOutcome', 'Rank', 'Main_Color_Agouti', 'Main_Color_Apricot', 'Main_Color_Black', 'Main_Color_Black Brindle', 'Main_Color_Black Smoke', 'Main_Color_Black Tabby', 'Main_Color_Black Tiger', 'Main_Color_Blue', 'Main_Color_Blue Cream', 'Main_Color_Blue Merle', 'Main_Color_Blue Point', 'Main_Color_Blue Smoke', 'Main_Color_Blue Tabby', 'Main_Color_Blue Tick', 'Main_Color_Blue Tiger', 'Main_Color_Brown', 'Main_Color_Brown Brindle', 'Main_Color_Brown Merle', 'Main_Color_Brown Tabby', 'Main_Color_Brown Tiger', 'Main_Color_Buff', 'Main_Color_Calico', 'Main_Color_Calico Point', 'Main_Color_Chocolate', 'Main_Color_Chocolate Point', 'Main_Color_Cream', 'Main_Color_Cream Tabby', 'Main_Color_Fawn', 'Main_Color_Flame Point', 'Main_Color_Gold', 'Main_Color_Gray', 'Main_Color_Gray Tabby', 'Main_Color_Lilac Point', 'Main_Color_Liver', 'Main_Color_Liver Tick', 'Main_Color_Lynx Point', 'Main_Color_Orange', 'Main_Color_Orange Tabby', 'Main_Color_Orange Tiger', 'Main_Color_Pink', 'Main_Color_Red', 'Main_Color_Red Merle', 'Main_Color_Red Tick', 'Main_Color_Ruddy', 'Main_Color_Sable', 'Main_Color_Seal Point', 'Main_Color_Silver', 'Main_Color_Silver Lynx Point', 'Main_Color_Silver Tabby', 'Main_Color_Tan', 'Main_Color_Torbie', 'Main_Color_Tortie', 'Main_Color_Tortie Point', 'Main_Color_Tricolor', 'Main_Color_White', 'Main_Color_Yellow', 'Main_Color_Yellow Brindle', 'Sub_Color_Apricot', 'Sub_Color_Black', 'Sub_Color_Black Brindle', 'Sub_Color_Black Smoke', 'Sub_Color_Black Tabby', 'Sub_Color_Blue', 'Sub_Color_Blue Cream', 'Sub_Color_Blue Merle', 'Sub_Color_Blue Smoke', 'Sub_Color_Blue Tabby', 'Sub_Color_Blue Tick', 'Sub_Color_Blue Tiger', 'Sub_Color_Brown', 'Sub_Color_Brown Brindle', 'Sub_Color_Brown Merle', 'Sub_Color_Brown Tabby', 'Sub_Color_Brown Tiger', 'Sub_Color_Buff', 'Sub_Color_Calico', 'Sub_Color_Chocolate', 'Sub_Color_Chocolate Point', 'Sub_Color_Cream', 'Sub_Color_Cream Tabby', 'Sub_Color_Flame Point', 'Sub_Color_Gold', 'Sub_Color_Gray', 'Sub_Color_Gray Tabby', 'Sub_Color_Liver', 'Sub_Color_Lynx Point', 'Sub_Color_NA', 'Sub_Color_Orange', 'Sub_Color_Orange Tabby', 'Sub_Color_Pink', 'Sub_Color_Red', 'Sub_Color_Red Merle', 'Sub_Color_Red Tick', 'Sub_Color_Seal Point', 'Sub_Color_Silver', 'Sub_Color_Silver Tabby', 'Sub_Color_Tan', 'Sub_Color_Tortie', 'Sub_Color_Tricolor', 'Sub_Color_White', 'Sub_Color_Yellow', 'Sub_Color_Yellow Brindle', 'OutcomeYear_2013', 'OutcomeYear_2014', 'OutcomeYear_2015', 'OutcomeYear_2016', 'OutcomeMonth_01', 'OutcomeMonth_02', 'OutcomeMonth_03', 'OutcomeMonth_04', 'OutcomeMonth_05', 'OutcomeMonth_06', 'OutcomeMonth_07', 'OutcomeMonth_08', 'OutcomeMonth_09', 'OutcomeMonth_10', 'OutcomeMonth_11', 'OutcomeMonth_12', 'OutcomeDay_01', 'OutcomeDay_02', 'OutcomeDay_03', 'OutcomeDay_04', 'OutcomeDay_05', 'OutcomeDay_06', 'OutcomeDay_07', 'OutcomeDay_08', 'OutcomeDay_09', 'OutcomeDay_10', 'OutcomeDay_11', 'OutcomeDay_12', 'OutcomeDay_13', 'OutcomeDay_14', 'OutcomeDay_15', 'OutcomeDay_16', 'OutcomeDay_17', 'OutcomeDay_18', 'OutcomeDay_19', 'OutcomeDay_20', 'OutcomeDay_21', 'OutcomeDay_22', 'OutcomeDay_23', 'OutcomeDay_24', 'OutcomeDay_25', 'OutcomeDay_26', 'OutcomeDay_27', 'OutcomeDay_28', 'OutcomeDay_29', 'OutcomeDay_30', 'OutcomeDay_31', 'OutcomeHour_00', 'OutcomeHour_05', 'OutcomeHour_06', 'OutcomeHour_07', 'OutcomeHour_08', 'OutcomeHour_09', 'OutcomeHour_10', 'OutcomeHour_11', 'OutcomeHour_12', 'OutcomeHour_13', 'OutcomeHour_14', 'OutcomeHour_15', 'OutcomeHour_16', 'OutcomeHour_17', 'OutcomeHour_18', 'OutcomeHour_19', 'OutcomeHour_20', 'OutcomeHour_21', 'OutcomeHour_22', 'OutcomeHour_23', 'Intact Female', 'Intact Male', 'Neutered Male', 'Spayed Female', 'Unknown'] ['Name', 'AnimalType', 'AgeuponOutcome', 'Rank', 'Main_Color_Agouti', 'Main_Color_Apricot', 'Main_Color_Black', 'Main_Color_Black Brindle', 'Main_Color_Black Smoke', 'Main_Color_Black Tabby', 'Main_Color_Blue', 'Main_Color_Blue Cream', 'Main_Color_Blue Merle', 'Main_Color_Blue Point', 'Main_Color_Blue Smoke', 'Main_Color_Blue Tabby', 'Main_Color_Blue Tick', 'Main_Color_Blue Tiger', 'Main_Color_Brown', 'Main_Color_Brown Brindle', 'Main_Color_Brown Merle', 'Main_Color_Brown Tabby', 'Main_Color_Buff', 'Main_Color_Calico', 'Main_Color_Calico Point', 'Main_Color_Chocolate', 'Main_Color_Chocolate Point', 'Main_Color_Cream', 'Main_Color_Cream Tabby', 'Main_Color_Fawn', 'Main_Color_Flame Point', 'Main_Color_Gold', 'Main_Color_Gray', 'Main_Color_Gray Tabby', 'Main_Color_Lilac Point', 'Main_Color_Liver', 'Main_Color_Lynx Point', 'Main_Color_Orange', 'Main_Color_Orange Tabby', 'Main_Color_Pink', 'Main_Color_Red', 'Main_Color_Red Merle', 'Main_Color_Red Tick', 'Main_Color_Sable', 'Main_Color_Seal Point', 'Main_Color_Silver', 'Main_Color_Silver Lynx Point', 'Main_Color_Silver Tabby', 'Main_Color_Tan', 'Main_Color_Torbie', 'Main_Color_Tortie', 'Main_Color_Tortie Point', 'Main_Color_Tricolor', 'Main_Color_White', 'Main_Color_Yellow', 'Main_Color_Yellow Brindle', 'Sub_Color_Apricot', 'Sub_Color_Black', 'Sub_Color_Black Brindle', 'Sub_Color_Black Smoke', 'Sub_Color_Black Tabby', 'Sub_Color_Blue', 'Sub_Color_Blue Cream', 'Sub_Color_Blue Merle', 'Sub_Color_Blue Tabby', 'Sub_Color_Blue Tick', 'Sub_Color_Brown', 'Sub_Color_Brown Brindle', 'Sub_Color_Brown Merle', 'Sub_Color_Brown Tabby', 'Sub_Color_Buff', 'Sub_Color_Calico', 'Sub_Color_Chocolate', 'Sub_Color_Cream', 'Sub_Color_Cream Tabby', 'Sub_Color_Gold', 'Sub_Color_Gray', 'Sub_Color_Gray Tiger', 'Sub_Color_Liver', 'Sub_Color_Lynx Point', 'Sub_Color_NA', 'Sub_Color_Orange', 'Sub_Color_Orange Tabby', 'Sub_Color_Red', 'Sub_Color_Red Merle', 'Sub_Color_Red Tick', 'Sub_Color_Seal Point', 'Sub_Color_Silver', 'Sub_Color_Tan', 'Sub_Color_Tortie', 'Sub_Color_Tortie Point', 'Sub_Color_Tricolor', 'Sub_Color_White', 'Sub_Color_Yellow', 'Sub_Color_Yellow Brindle', 'OutcomeYear_2013', 'OutcomeYear_2014', 'OutcomeYear_2015', 'OutcomeYear_2016', 'OutcomeMonth_01', 'OutcomeMonth_02', 'OutcomeMonth_03', 'OutcomeMonth_04', 'OutcomeMonth_05', 'OutcomeMonth_06', 'OutcomeMonth_07', 'OutcomeMonth_08', 'OutcomeMonth_09', 'OutcomeMonth_10', 'OutcomeMonth_11', 'OutcomeMonth_12', 'OutcomeDay_01', 'OutcomeDay_02', 'OutcomeDay_03', 'OutcomeDay_04', 'OutcomeDay_05', 'OutcomeDay_06', 'OutcomeDay_07', 'OutcomeDay_08', 'OutcomeDay_09', 'OutcomeDay_10', 'OutcomeDay_11', 'OutcomeDay_12', 'OutcomeDay_13', 'OutcomeDay_14', 'OutcomeDay_15', 'OutcomeDay_16', 'OutcomeDay_17', 'OutcomeDay_18', 'OutcomeDay_19', 'OutcomeDay_20', 'OutcomeDay_21', 'OutcomeDay_22', 'OutcomeDay_23', 'OutcomeDay_24', 'OutcomeDay_25', 'OutcomeDay_26', 'OutcomeDay_27', 'OutcomeDay_28', 'OutcomeDay_29', 'OutcomeDay_30', 'OutcomeDay_31', 'OutcomeHour_0:', 'OutcomeHour_10', 'OutcomeHour_11', 'OutcomeHour_12', 'OutcomeHour_13', 'OutcomeHour_14', 'OutcomeHour_15', 'OutcomeHour_16', 'OutcomeHour_17', 'OutcomeHour_18', 'OutcomeHour_19', 'OutcomeHour_20', 'OutcomeHour_21', 'OutcomeHour_22', 'OutcomeHour_23', 'OutcomeHour_3:', 'OutcomeHour_6:', 'OutcomeHour_7:', 'OutcomeHour_8:', 'OutcomeHour_9:', 'Intact Female', 'Intact Male', 'Neutered Male', 'Spayed Female', 'Unknown']\nexpected Sub_Color_Blue Tiger, Sub_Color_Silver Tabby, Main_Color_Liver Tick, OutcomeHour_07, Main_Color_Orange Tiger, OutcomeHour_08, Main_Color_Black Tiger, Sub_Color_Flame Point, OutcomeHour_06, Sub_Color_Blue Smoke, Sub_Color_Gray Tabby, OutcomeHour_09, Sub_Color_Chocolate Point, Sub_Color_Pink, Main_Color_Ruddy, OutcomeHour_05, Main_Color_Brown Tiger, OutcomeHour_00, Sub_Color_Brown Tiger in input data\ntraining data did not have the following fields: OutcomeHour_7:, OutcomeHour_6:, Sub_Color_Gray Tiger, OutcomeHour_9:, OutcomeHour_8:, OutcomeHour_3:, OutcomeHour_0:, Sub_Color_Tortie Point"
     ]
    }
   ],
   "source": [
    "y_proba_xgb = model_xgb.predict_proba(dfX_test4)\n",
    "y_proba_xgb_test_df = pd.DataFrame(y_proba_xgb, columns = ['Adoption', 'Died', 'Euthanasia', 'Return_to_owner', 'Transfer'])\n",
    "y_proba_xgb_test_df.to_csv('submission5.csv', index_label = 'ID')\n",
    "pd.read_csv('submission5.csv').tail()"
   ]
  },
  {
   "cell_type": "code",
   "execution_count": null,
   "metadata": {
    "collapsed": true
   },
   "outputs": [],
   "source": []
  },
  {
   "cell_type": "code",
   "execution_count": null,
   "metadata": {
    "collapsed": true
   },
   "outputs": [],
   "source": []
  },
  {
   "cell_type": "markdown",
   "metadata": {},
   "source": [
    "## Kaggle 결과값 논란"
   ]
  },
  {
   "cell_type": "markdown",
   "metadata": {},
   "source": [
    "#### References:\n",
    "\n",
    "- http://blog.kaggle.com/2016/08/05/predicting-shelter-animal-outcomes-team-kaggle-for-the-paws-andras-zsom/\n",
    "- https://www.kaggle.com/c/shelter-animal-outcomes/discussion/22119\n",
    "- https://www.kaggle.com/c/shelter-animal-outcomes/discussion/19867"
   ]
  },
  {
   "cell_type": "markdown",
   "metadata": {},
   "source": [
    "Kaggle Train에 주어진 DataTime인자를 사용하는것은 형평성에 어긋난다는 지적이 있다. 왜냐하면 DateTime에 있는 day와 hour정보까지 사용하면, transfer같은 경우 같은날 같은시간에 대량으로 이루어 지는 경우가 있기 때문에 애완견의 특징이나 정보가 아닌 결과가 이루어진 특정 시간을 모델이 학습을 하면서 결과값은 좋아지지만 미래에 사용할 경우 말도 안되는 결과가 나오는 모델이 구성되게 된다. \n",
    "\n",
    "실제로 Kaggle 상위권 점수를 획득한 팀에서 분석해본 결과, train.csv에 있는 애완견의 특징만 가지고 분석을 했을경우 Log Loss값 0.8정도가 한계치라는 결론을 내렸다. \n",
    "\n",
    "추가로, https://data.austintexas.gov/ 홈페이지에 가면 Kaggle에 사용된 train.csv의 원본을 찾을수 있다. 심지어 제일 최근 (2017년 11월)까지 업데이트 된 정보를 얻을수 있으며 결과값 까지도 얻을수 있다. Kaggle에서 Log Loss 0.0으로 1등한 팀은 아마 모델을 돌린것이 아니라 이 결과값을 test.csv와 매칭해서 얻은 결과가 아닐까 생각된다.\n",
    "\n",
    "일부 Kaggle Discussion Board에서는 train.csv원본에 포함된 intake condition과 intake type인자를 Kaggle Data에 올려서 예측하는것이 더 공정하고 Kaggle에서 원래 의도했던 애완견의 특징에 따른 예측모델을 구성하는데 더 도움이 됐을꺼라는 의견이 있었다.\n",
    "\n",
    "https://data.austintexas.gov/ 에서 가지고온 Animal_Intake 자료와 Outcome자료를 참고로 한번 출력해 보겠다."
   ]
  },
  {
   "cell_type": "code",
   "execution_count": null,
   "metadata": {
    "collapsed": true
   },
   "outputs": [],
   "source": [
    "intake = pd.read_csv('intake.csv')\n",
    "outcome = pd.read_csv('outcome.csv')"
   ]
  },
  {
   "cell_type": "code",
   "execution_count": null,
   "metadata": {
    "collapsed": true
   },
   "outputs": [],
   "source": [
    "intake.head()"
   ]
  },
  {
   "cell_type": "code",
   "execution_count": null,
   "metadata": {
    "collapsed": true
   },
   "outputs": [],
   "source": [
    "outcome.head()"
   ]
  },
  {
   "cell_type": "markdown",
   "metadata": {},
   "source": [
    "### 기타 References:\n",
    "\n",
    "- https://cwpkuo.github.io/series/kaggle-animal-shelter/\n",
    "- https://ttran0.github.io/Austin-Animal-Shelter-Outcome-Analysis.html\n",
    "- https://issuu.com/terezdotcc/docs/final_kaggle_-_shelter_animal_outco\n",
    "- https://www.kaggle.com/andraszsom/dog-breeds-dog-groups\n",
    "- Python Machine Learning 2nd Edition, Sebastian Raschka & Vahid Mirjalili"
   ]
  },
  {
   "cell_type": "code",
   "execution_count": null,
   "metadata": {
    "collapsed": true
   },
   "outputs": [],
   "source": []
  },
  {
   "cell_type": "code",
   "execution_count": null,
   "metadata": {
    "collapsed": true
   },
   "outputs": [],
   "source": []
  }
 ],
 "metadata": {
  "kernelspec": {
   "display_name": "Python 3",
   "language": "python",
   "name": "python3"
  },
  "language_info": {
   "codemirror_mode": {
    "name": "ipython",
    "version": 3
   },
   "file_extension": ".py",
   "mimetype": "text/x-python",
   "name": "python",
   "nbconvert_exporter": "python",
   "pygments_lexer": "ipython3",
   "version": "3.6.3"
  }
 },
 "nbformat": 4,
 "nbformat_minor": 2
}
