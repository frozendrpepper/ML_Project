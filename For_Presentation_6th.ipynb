{
 "cells": [
  {
   "cell_type": "code",
   "execution_count": 1,
   "metadata": {},
   "outputs": [
    {
     "name": "stderr",
     "output_type": "stream",
     "text": [
      "/Users/Dong-hyun/anaconda3/lib/python3.5/site-packages/sklearn/cross_validation.py:41: DeprecationWarning: This module was deprecated in version 0.18 in favor of the model_selection module into which all the refactored classes and functions are moved. Also note that the interface of the new CV iterators are different from that of this module. This module will be removed in 0.20.\n",
      "  \"This module will be removed in 0.20.\", DeprecationWarning)\n",
      "/Users/Dong-hyun/anaconda3/lib/python3.5/site-packages/statsmodels/compat/pandas.py:56: FutureWarning: The pandas.core.datetools module is deprecated and will be removed in a future version. Please use the pandas.tseries module instead.\n",
      "  from pandas.core import datetools\n"
     ]
    }
   ],
   "source": [
    "'''Import all the necessary packages'''\n",
    "from sklearn.preprocessing import StandardScaler\n",
    "from sklearn.model_selection import train_test_split, cross_val_score, KFold, StratifiedKFold, GridSearchCV\n",
    "from sklearn.preprocessing import Imputer, OneHotEncoder, LabelEncoder\n",
    "from sklearn.metrics import classification_report, confusion_matrix, roc_curve, accuracy_score, log_loss\n",
    "from sklearn.linear_model import LogisticRegression\n",
    "from sklearn.tree import DecisionTreeClassifier\n",
    "from sklearn.ensemble import RandomForestClassifier, ExtraTreesClassifier, AdaBoostClassifier, BaggingClassifier\n",
    "import xgboost\n",
    "from sklearn import cross_validation as cv\n",
    "from sklearn.svm import SVC\n",
    "from sklearn.naive_bayes import GaussianNB\n",
    "\n",
    "from patsy import dmatrix\n",
    "from scipy import stats\n",
    "\n",
    "import statsmodels.api as sm\n",
    "import seaborn as sns\n",
    "import numpy as np\n",
    "import pandas as pd\n",
    "import matplotlib.pylab as plt\n",
    "import requests\n",
    "from bs4 import BeautifulSoup\n",
    "\n",
    "import seaborn as sns\n",
    "from statsmodels.graphics import utils"
   ]
  },
  {
   "cell_type": "markdown",
   "metadata": {},
   "source": [
    "# 머신러닝 팀프로젝트 과제 발표\n",
    "\n",
    "## 주제 : Shelter Animal Outcomes"
   ]
  },
  {
   "cell_type": "markdown",
   "metadata": {},
   "source": [
    "#### DataSet"
   ]
  },
  {
   "cell_type": "code",
   "execution_count": 2,
   "metadata": {
    "collapsed": true
   },
   "outputs": [],
   "source": [
    "data_train = pd.read_csv('train.csv')\n",
    "data_test = pd.read_csv('test.csv')\n",
    "\n",
    "'''Keep a copy of the original data for comparison'''\n",
    "data_original_train = data_train.copy()\n",
    "data_original_test = data_test.copy()\n"
   ]
  },
  {
   "cell_type": "code",
   "execution_count": 168,
   "metadata": {},
   "outputs": [
    {
     "data": {
      "text/html": [
       "<div>\n",
       "<style>\n",
       "    .dataframe thead tr:only-child th {\n",
       "        text-align: right;\n",
       "    }\n",
       "\n",
       "    .dataframe thead th {\n",
       "        text-align: left;\n",
       "    }\n",
       "\n",
       "    .dataframe tbody tr th {\n",
       "        vertical-align: top;\n",
       "    }\n",
       "</style>\n",
       "<table border=\"1\" class=\"dataframe\">\n",
       "  <thead>\n",
       "    <tr style=\"text-align: right;\">\n",
       "      <th></th>\n",
       "      <th>AnimalID</th>\n",
       "      <th>Name</th>\n",
       "      <th>DateTime</th>\n",
       "      <th>OutcomeType</th>\n",
       "      <th>OutcomeSubtype</th>\n",
       "      <th>AnimalType</th>\n",
       "      <th>SexuponOutcome</th>\n",
       "      <th>AgeuponOutcome</th>\n",
       "      <th>Breed</th>\n",
       "      <th>Color</th>\n",
       "      <th>Date</th>\n",
       "      <th>OutcomeYear</th>\n",
       "      <th>OutcomeMonth</th>\n",
       "      <th>OutcomeDay</th>\n",
       "      <th>OutcomeHour</th>\n",
       "      <th>OutcomeSeason</th>\n",
       "    </tr>\n",
       "  </thead>\n",
       "  <tbody>\n",
       "    <tr>\n",
       "      <th>26724</th>\n",
       "      <td>A702446</td>\n",
       "      <td>0</td>\n",
       "      <td>2015-05-14 11:56:00</td>\n",
       "      <td>Transfer</td>\n",
       "      <td>Partner</td>\n",
       "      <td>0</td>\n",
       "      <td>Intact Male</td>\n",
       "      <td>30.0</td>\n",
       "      <td>Domestic Shorthair Mix</td>\n",
       "      <td>Brown Tabby/White</td>\n",
       "      <td>201505</td>\n",
       "      <td>2015</td>\n",
       "      <td>05</td>\n",
       "      <td>14</td>\n",
       "      <td>11</td>\n",
       "      <td>spring</td>\n",
       "    </tr>\n",
       "    <tr>\n",
       "      <th>26725</th>\n",
       "      <td>A718934</td>\n",
       "      <td>0</td>\n",
       "      <td>2016-01-20 18:59:00</td>\n",
       "      <td>Transfer</td>\n",
       "      <td>SCRP</td>\n",
       "      <td>0</td>\n",
       "      <td>Spayed Female</td>\n",
       "      <td>90.0</td>\n",
       "      <td>Domestic Shorthair Mix</td>\n",
       "      <td>Brown Tabby</td>\n",
       "      <td>201601</td>\n",
       "      <td>2016</td>\n",
       "      <td>01</td>\n",
       "      <td>20</td>\n",
       "      <td>18</td>\n",
       "      <td>winter</td>\n",
       "    </tr>\n",
       "    <tr>\n",
       "      <th>26726</th>\n",
       "      <td>A698128</td>\n",
       "      <td>1</td>\n",
       "      <td>2015-03-09 13:33:00</td>\n",
       "      <td>Adoption</td>\n",
       "      <td>NaN</td>\n",
       "      <td>1</td>\n",
       "      <td>Neutered Male</td>\n",
       "      <td>1460.0</td>\n",
       "      <td>Old English Bulldog Mix</td>\n",
       "      <td>White/Tan</td>\n",
       "      <td>201503</td>\n",
       "      <td>2015</td>\n",
       "      <td>03</td>\n",
       "      <td>09</td>\n",
       "      <td>13</td>\n",
       "      <td>spring</td>\n",
       "    </tr>\n",
       "    <tr>\n",
       "      <th>26727</th>\n",
       "      <td>A677478</td>\n",
       "      <td>0</td>\n",
       "      <td>2014-04-27 12:22:00</td>\n",
       "      <td>Transfer</td>\n",
       "      <td>Partner</td>\n",
       "      <td>0</td>\n",
       "      <td>Intact Male</td>\n",
       "      <td>28.0</td>\n",
       "      <td>Domestic Shorthair Mix</td>\n",
       "      <td>Black</td>\n",
       "      <td>201404</td>\n",
       "      <td>2014</td>\n",
       "      <td>04</td>\n",
       "      <td>27</td>\n",
       "      <td>12</td>\n",
       "      <td>spring</td>\n",
       "    </tr>\n",
       "    <tr>\n",
       "      <th>26728</th>\n",
       "      <td>A706629</td>\n",
       "      <td>0</td>\n",
       "      <td>2015-07-02 09:00:00</td>\n",
       "      <td>Transfer</td>\n",
       "      <td>SCRP</td>\n",
       "      <td>0</td>\n",
       "      <td>Intact Male</td>\n",
       "      <td>365.0</td>\n",
       "      <td>Domestic Shorthair Mix</td>\n",
       "      <td>Brown Tabby/White</td>\n",
       "      <td>201507</td>\n",
       "      <td>2015</td>\n",
       "      <td>07</td>\n",
       "      <td>02</td>\n",
       "      <td>09</td>\n",
       "      <td>summer</td>\n",
       "    </tr>\n",
       "  </tbody>\n",
       "</table>\n",
       "</div>"
      ],
      "text/plain": [
       "      AnimalID  Name             DateTime OutcomeType OutcomeSubtype  \\\n",
       "26724  A702446     0  2015-05-14 11:56:00    Transfer        Partner   \n",
       "26725  A718934     0  2016-01-20 18:59:00    Transfer           SCRP   \n",
       "26726  A698128     1  2015-03-09 13:33:00    Adoption            NaN   \n",
       "26727  A677478     0  2014-04-27 12:22:00    Transfer        Partner   \n",
       "26728  A706629     0  2015-07-02 09:00:00    Transfer           SCRP   \n",
       "\n",
       "       AnimalType SexuponOutcome  AgeuponOutcome                    Breed  \\\n",
       "26724           0    Intact Male            30.0   Domestic Shorthair Mix   \n",
       "26725           0  Spayed Female            90.0   Domestic Shorthair Mix   \n",
       "26726           1  Neutered Male          1460.0  Old English Bulldog Mix   \n",
       "26727           0    Intact Male            28.0   Domestic Shorthair Mix   \n",
       "26728           0    Intact Male           365.0   Domestic Shorthair Mix   \n",
       "\n",
       "                   Color    Date OutcomeYear OutcomeMonth OutcomeDay  \\\n",
       "26724  Brown Tabby/White  201505        2015           05         14   \n",
       "26725        Brown Tabby  201601        2016           01         20   \n",
       "26726          White/Tan  201503        2015           03         09   \n",
       "26727              Black  201404        2014           04         27   \n",
       "26728  Brown Tabby/White  201507        2015           07         02   \n",
       "\n",
       "      OutcomeHour OutcomeSeason  \n",
       "26724          11        spring  \n",
       "26725          18        winter  \n",
       "26726          13        spring  \n",
       "26727          12        spring  \n",
       "26728          09        summer  "
      ]
     },
     "execution_count": 168,
     "metadata": {},
     "output_type": "execute_result"
    }
   ],
   "source": [
    "data_train.tail()"
   ]
  },
  {
   "cell_type": "code",
   "execution_count": 169,
   "metadata": {},
   "outputs": [
    {
     "data": {
      "text/html": [
       "<div>\n",
       "<style>\n",
       "    .dataframe thead tr:only-child th {\n",
       "        text-align: right;\n",
       "    }\n",
       "\n",
       "    .dataframe thead th {\n",
       "        text-align: left;\n",
       "    }\n",
       "\n",
       "    .dataframe tbody tr th {\n",
       "        vertical-align: top;\n",
       "    }\n",
       "</style>\n",
       "<table border=\"1\" class=\"dataframe\">\n",
       "  <thead>\n",
       "    <tr style=\"text-align: right;\">\n",
       "      <th></th>\n",
       "      <th>Name</th>\n",
       "      <th>AnimalType</th>\n",
       "      <th>SexuponOutcome</th>\n",
       "      <th>AgeuponOutcome</th>\n",
       "      <th>Main_Breed</th>\n",
       "      <th>Sub_Breed</th>\n",
       "      <th>Rank</th>\n",
       "      <th>Main_Color</th>\n",
       "      <th>Sub_Color</th>\n",
       "      <th>Date</th>\n",
       "      <th>OutcomeYear</th>\n",
       "      <th>OutcomeMonth</th>\n",
       "      <th>OutcomeDay</th>\n",
       "      <th>OutcomeHour</th>\n",
       "    </tr>\n",
       "    <tr>\n",
       "      <th>ID</th>\n",
       "      <th></th>\n",
       "      <th></th>\n",
       "      <th></th>\n",
       "      <th></th>\n",
       "      <th></th>\n",
       "      <th></th>\n",
       "      <th></th>\n",
       "      <th></th>\n",
       "      <th></th>\n",
       "      <th></th>\n",
       "      <th></th>\n",
       "      <th></th>\n",
       "      <th></th>\n",
       "      <th></th>\n",
       "    </tr>\n",
       "  </thead>\n",
       "  <tbody>\n",
       "    <tr>\n",
       "      <th>11452</th>\n",
       "      <td>1</td>\n",
       "      <td>NaN</td>\n",
       "      <td>Neutered Male</td>\n",
       "      <td>60.0</td>\n",
       "      <td>domestic shorthair</td>\n",
       "      <td>NA</td>\n",
       "      <td>0.0</td>\n",
       "      <td>Black</td>\n",
       "      <td>NA</td>\n",
       "      <td>201407</td>\n",
       "      <td>2014</td>\n",
       "      <td>07</td>\n",
       "      <td>08</td>\n",
       "      <td>14</td>\n",
       "    </tr>\n",
       "    <tr>\n",
       "      <th>11453</th>\n",
       "      <td>1</td>\n",
       "      <td>NaN</td>\n",
       "      <td>Intact Female</td>\n",
       "      <td>14.0</td>\n",
       "      <td>domestic shorthair</td>\n",
       "      <td>NA</td>\n",
       "      <td>0.0</td>\n",
       "      <td>Blue</td>\n",
       "      <td>NA</td>\n",
       "      <td>201410</td>\n",
       "      <td>2014</td>\n",
       "      <td>10</td>\n",
       "      <td>21</td>\n",
       "      <td>12</td>\n",
       "    </tr>\n",
       "    <tr>\n",
       "      <th>11454</th>\n",
       "      <td>1</td>\n",
       "      <td>NaN</td>\n",
       "      <td>Intact Female</td>\n",
       "      <td>365.0</td>\n",
       "      <td>domestic shorthair</td>\n",
       "      <td>NA</td>\n",
       "      <td>0.0</td>\n",
       "      <td>Calico</td>\n",
       "      <td>NA</td>\n",
       "      <td>201409</td>\n",
       "      <td>2014</td>\n",
       "      <td>09</td>\n",
       "      <td>29</td>\n",
       "      <td>9:</td>\n",
       "    </tr>\n",
       "    <tr>\n",
       "      <th>11455</th>\n",
       "      <td>1</td>\n",
       "      <td>NaN</td>\n",
       "      <td>Neutered Male</td>\n",
       "      <td>2190.0</td>\n",
       "      <td>german shepherd</td>\n",
       "      <td>NA</td>\n",
       "      <td>188.0</td>\n",
       "      <td>Black</td>\n",
       "      <td>Tan</td>\n",
       "      <td>201509</td>\n",
       "      <td>2015</td>\n",
       "      <td>09</td>\n",
       "      <td>05</td>\n",
       "      <td>17</td>\n",
       "    </tr>\n",
       "    <tr>\n",
       "      <th>11456</th>\n",
       "      <td>1</td>\n",
       "      <td>NaN</td>\n",
       "      <td>Intact Male</td>\n",
       "      <td>1460.0</td>\n",
       "      <td>labrador retriever</td>\n",
       "      <td>NA</td>\n",
       "      <td>189.0</td>\n",
       "      <td>Cream</td>\n",
       "      <td>NA</td>\n",
       "      <td>201407</td>\n",
       "      <td>2014</td>\n",
       "      <td>07</td>\n",
       "      <td>12</td>\n",
       "      <td>18</td>\n",
       "    </tr>\n",
       "  </tbody>\n",
       "</table>\n",
       "</div>"
      ],
      "text/plain": [
       "       Name  AnimalType SexuponOutcome  AgeuponOutcome          Main_Breed  \\\n",
       "ID                                                                           \n",
       "11452     1         NaN  Neutered Male            60.0  domestic shorthair   \n",
       "11453     1         NaN  Intact Female            14.0  domestic shorthair   \n",
       "11454     1         NaN  Intact Female           365.0  domestic shorthair   \n",
       "11455     1         NaN  Neutered Male          2190.0     german shepherd   \n",
       "11456     1         NaN    Intact Male          1460.0  labrador retriever   \n",
       "\n",
       "      Sub_Breed   Rank Main_Color Sub_Color    Date OutcomeYear OutcomeMonth  \\\n",
       "ID                                                                             \n",
       "11452        NA    0.0      Black        NA  201407        2014           07   \n",
       "11453        NA    0.0       Blue        NA  201410        2014           10   \n",
       "11454        NA    0.0     Calico        NA  201409        2014           09   \n",
       "11455        NA  188.0      Black       Tan  201509        2015           09   \n",
       "11456        NA  189.0      Cream        NA  201407        2014           07   \n",
       "\n",
       "      OutcomeDay OutcomeHour  \n",
       "ID                            \n",
       "11452         08          14  \n",
       "11453         21          12  \n",
       "11454         29          9:  \n",
       "11455         05          17  \n",
       "11456         12          18  "
      ]
     },
     "execution_count": 169,
     "metadata": {},
     "output_type": "execute_result"
    }
   ],
   "source": [
    "data_test.tail()"
   ]
  },
  {
   "cell_type": "code",
   "execution_count": 3,
   "metadata": {
    "collapsed": true
   },
   "outputs": [],
   "source": [
    "#Train과 Test를 합쳐서 한번에 전처리 진행\n",
    "#OutcomeSubtype은 Train에만 있는 데이터기 때문에 Drop\n",
    "dfY = data_train['OutcomeType']\n",
    "data_train_drop = data_train.drop('OutcomeSubtype', axis = 1)\n",
    "data_train_drop.drop('OutcomeType', axis = 1, inplace = True)\n",
    "\n",
    "data_test = data_test.rename(columns = {'ID':'AnimalID'})\n",
    "data_combined = pd.concat([data_train_drop, data_test], axis = 0)\n",
    "data_temp = data_combined.iloc[:26729, : ]"
   ]
  },
  {
   "cell_type": "code",
   "execution_count": 4,
   "metadata": {},
   "outputs": [
    {
     "data": {
      "text/html": [
       "<div>\n",
       "<style>\n",
       "    .dataframe thead tr:only-child th {\n",
       "        text-align: right;\n",
       "    }\n",
       "\n",
       "    .dataframe thead th {\n",
       "        text-align: left;\n",
       "    }\n",
       "\n",
       "    .dataframe tbody tr th {\n",
       "        vertical-align: top;\n",
       "    }\n",
       "</style>\n",
       "<table border=\"1\" class=\"dataframe\">\n",
       "  <thead>\n",
       "    <tr style=\"text-align: right;\">\n",
       "      <th></th>\n",
       "      <th>AnimalID</th>\n",
       "      <th>Name</th>\n",
       "      <th>DateTime</th>\n",
       "      <th>AnimalType</th>\n",
       "      <th>SexuponOutcome</th>\n",
       "      <th>AgeuponOutcome</th>\n",
       "      <th>Breed</th>\n",
       "      <th>Color</th>\n",
       "    </tr>\n",
       "  </thead>\n",
       "  <tbody>\n",
       "    <tr>\n",
       "      <th>0</th>\n",
       "      <td>A671945</td>\n",
       "      <td>Hambone</td>\n",
       "      <td>2014-02-12 18:22:00</td>\n",
       "      <td>Dog</td>\n",
       "      <td>Neutered Male</td>\n",
       "      <td>1 year</td>\n",
       "      <td>Shetland Sheepdog Mix</td>\n",
       "      <td>Brown/White</td>\n",
       "    </tr>\n",
       "    <tr>\n",
       "      <th>1</th>\n",
       "      <td>A656520</td>\n",
       "      <td>Emily</td>\n",
       "      <td>2013-10-13 12:44:00</td>\n",
       "      <td>Cat</td>\n",
       "      <td>Spayed Female</td>\n",
       "      <td>1 year</td>\n",
       "      <td>Domestic Shorthair Mix</td>\n",
       "      <td>Cream Tabby</td>\n",
       "    </tr>\n",
       "    <tr>\n",
       "      <th>2</th>\n",
       "      <td>A686464</td>\n",
       "      <td>Pearce</td>\n",
       "      <td>2015-01-31 12:28:00</td>\n",
       "      <td>Dog</td>\n",
       "      <td>Neutered Male</td>\n",
       "      <td>2 years</td>\n",
       "      <td>Pit Bull Mix</td>\n",
       "      <td>Blue/White</td>\n",
       "    </tr>\n",
       "    <tr>\n",
       "      <th>3</th>\n",
       "      <td>A683430</td>\n",
       "      <td>NaN</td>\n",
       "      <td>2014-07-11 19:09:00</td>\n",
       "      <td>Cat</td>\n",
       "      <td>Intact Male</td>\n",
       "      <td>3 weeks</td>\n",
       "      <td>Domestic Shorthair Mix</td>\n",
       "      <td>Blue Cream</td>\n",
       "    </tr>\n",
       "    <tr>\n",
       "      <th>4</th>\n",
       "      <td>A667013</td>\n",
       "      <td>NaN</td>\n",
       "      <td>2013-11-15 12:52:00</td>\n",
       "      <td>Dog</td>\n",
       "      <td>Neutered Male</td>\n",
       "      <td>2 years</td>\n",
       "      <td>Lhasa Apso/Miniature Poodle</td>\n",
       "      <td>Tan</td>\n",
       "    </tr>\n",
       "  </tbody>\n",
       "</table>\n",
       "</div>"
      ],
      "text/plain": [
       "  AnimalID     Name             DateTime AnimalType SexuponOutcome  \\\n",
       "0  A671945  Hambone  2014-02-12 18:22:00        Dog  Neutered Male   \n",
       "1  A656520    Emily  2013-10-13 12:44:00        Cat  Spayed Female   \n",
       "2  A686464   Pearce  2015-01-31 12:28:00        Dog  Neutered Male   \n",
       "3  A683430      NaN  2014-07-11 19:09:00        Cat    Intact Male   \n",
       "4  A667013      NaN  2013-11-15 12:52:00        Dog  Neutered Male   \n",
       "\n",
       "  AgeuponOutcome                        Breed        Color  \n",
       "0         1 year        Shetland Sheepdog Mix  Brown/White  \n",
       "1         1 year       Domestic Shorthair Mix  Cream Tabby  \n",
       "2        2 years                 Pit Bull Mix   Blue/White  \n",
       "3        3 weeks       Domestic Shorthair Mix   Blue Cream  \n",
       "4        2 years  Lhasa Apso/Miniature Poodle          Tan  "
      ]
     },
     "execution_count": 4,
     "metadata": {},
     "output_type": "execute_result"
    }
   ],
   "source": [
    "data_combined.head()"
   ]
  },
  {
   "cell_type": "code",
   "execution_count": 5,
   "metadata": {},
   "outputs": [
    {
     "data": {
      "text/html": [
       "<div>\n",
       "<style>\n",
       "    .dataframe thead tr:only-child th {\n",
       "        text-align: right;\n",
       "    }\n",
       "\n",
       "    .dataframe thead th {\n",
       "        text-align: left;\n",
       "    }\n",
       "\n",
       "    .dataframe tbody tr th {\n",
       "        vertical-align: top;\n",
       "    }\n",
       "</style>\n",
       "<table border=\"1\" class=\"dataframe\">\n",
       "  <thead>\n",
       "    <tr style=\"text-align: right;\">\n",
       "      <th></th>\n",
       "      <th>AnimalID</th>\n",
       "      <th>Name</th>\n",
       "      <th>DateTime</th>\n",
       "      <th>AnimalType</th>\n",
       "      <th>SexuponOutcome</th>\n",
       "      <th>AgeuponOutcome</th>\n",
       "      <th>Breed</th>\n",
       "      <th>Color</th>\n",
       "    </tr>\n",
       "  </thead>\n",
       "  <tbody>\n",
       "    <tr>\n",
       "      <th>11451</th>\n",
       "      <td>11452</td>\n",
       "      <td>NaN</td>\n",
       "      <td>2014-07-08 14:50</td>\n",
       "      <td>Cat</td>\n",
       "      <td>Neutered Male</td>\n",
       "      <td>2 months</td>\n",
       "      <td>Domestic Shorthair Mix</td>\n",
       "      <td>Black</td>\n",
       "    </tr>\n",
       "    <tr>\n",
       "      <th>11452</th>\n",
       "      <td>11453</td>\n",
       "      <td>NaN</td>\n",
       "      <td>2014-10-21 12:57</td>\n",
       "      <td>Cat</td>\n",
       "      <td>Intact Female</td>\n",
       "      <td>2 weeks</td>\n",
       "      <td>Domestic Shorthair Mix</td>\n",
       "      <td>Blue</td>\n",
       "    </tr>\n",
       "    <tr>\n",
       "      <th>11453</th>\n",
       "      <td>11454</td>\n",
       "      <td>NaN</td>\n",
       "      <td>2014-09-29 9:00</td>\n",
       "      <td>Cat</td>\n",
       "      <td>Intact Female</td>\n",
       "      <td>1 year</td>\n",
       "      <td>Domestic Shorthair Mix</td>\n",
       "      <td>Calico</td>\n",
       "    </tr>\n",
       "    <tr>\n",
       "      <th>11454</th>\n",
       "      <td>11455</td>\n",
       "      <td>Rambo</td>\n",
       "      <td>2015-09-05 17:16</td>\n",
       "      <td>Dog</td>\n",
       "      <td>Neutered Male</td>\n",
       "      <td>6 years</td>\n",
       "      <td>German Shepherd Mix</td>\n",
       "      <td>Black/Tan</td>\n",
       "    </tr>\n",
       "    <tr>\n",
       "      <th>11455</th>\n",
       "      <td>11456</td>\n",
       "      <td>Gusto</td>\n",
       "      <td>2014-07-12 18:40</td>\n",
       "      <td>Dog</td>\n",
       "      <td>Intact Male</td>\n",
       "      <td>4 years</td>\n",
       "      <td>Labrador Retriever</td>\n",
       "      <td>Cream</td>\n",
       "    </tr>\n",
       "  </tbody>\n",
       "</table>\n",
       "</div>"
      ],
      "text/plain": [
       "      AnimalID   Name          DateTime AnimalType SexuponOutcome  \\\n",
       "11451    11452    NaN  2014-07-08 14:50        Cat  Neutered Male   \n",
       "11452    11453    NaN  2014-10-21 12:57        Cat  Intact Female   \n",
       "11453    11454    NaN   2014-09-29 9:00        Cat  Intact Female   \n",
       "11454    11455  Rambo  2015-09-05 17:16        Dog  Neutered Male   \n",
       "11455    11456  Gusto  2014-07-12 18:40        Dog    Intact Male   \n",
       "\n",
       "      AgeuponOutcome                   Breed      Color  \n",
       "11451       2 months  Domestic Shorthair Mix      Black  \n",
       "11452        2 weeks  Domestic Shorthair Mix       Blue  \n",
       "11453         1 year  Domestic Shorthair Mix     Calico  \n",
       "11454        6 years     German Shepherd Mix  Black/Tan  \n",
       "11455        4 years      Labrador Retriever      Cream  "
      ]
     },
     "execution_count": 5,
     "metadata": {},
     "output_type": "execute_result"
    }
   ],
   "source": [
    "data_combined.tail()"
   ]
  },
  {
   "cell_type": "code",
   "execution_count": null,
   "metadata": {
    "collapsed": true
   },
   "outputs": [],
   "source": []
  },
  {
   "cell_type": "code",
   "execution_count": 6,
   "metadata": {},
   "outputs": [
    {
     "data": {
      "text/plain": [
       "array(['Return_to_owner', 'Euthanasia', 'Adoption', 'Transfer', 'Died'], dtype=object)"
      ]
     },
     "execution_count": 6,
     "metadata": {},
     "output_type": "execute_result"
    }
   ],
   "source": [
    "# 종속변수 Unique_Values 확인\n",
    "data_train.OutcomeType.unique()"
   ]
  },
  {
   "cell_type": "code",
   "execution_count": null,
   "metadata": {
    "collapsed": true
   },
   "outputs": [],
   "source": []
  },
  {
   "cell_type": "markdown",
   "metadata": {},
   "source": [
    "# 개요\n",
    "\n",
    "\n",
    "## 6조 : 김동현, 강창기, 신정원\n",
    "\n",
    "\n",
    "## 문제정의\n",
    "\n",
    "**7개의 독립변수를 가진 26,729개의 트레인데이터셋을 활용하여 텍사스주 오스틴 동물보호소에 있는 각 동물이 종속변수의 5가지 유형 중 어느 것에 해당할 것인지 분류하는 문제.**\n",
    "\n",
    "* 독립변수\n",
    " > Name : 발견당시 이름표 등에 표시되어 있었을 것이라 추정되는 이름. 주인이 지어준 것으로 예상됨.\n",
    "\n",
    " > DateTime : Outcome이 발생한 날짜와 시간.\n",
    "\n",
    " > AnimalType : 개와 고양이 두 종류.\n",
    "\n",
    " > SexuponOutcome : Outcome이 발생하는 시점에서의 해당 동물의 성별. 중성화 여부가 반영됨.\n",
    "\n",
    " > AgeuponOutcome : Outcome이 발생하는 시점에서의 해당 동물의 나이.\n",
    "\n",
    " > Breed : 해당 동물의 종. \n",
    "\n",
    " > Color : 해당 동물의 색. \n",
    "\n",
    "* 종속변수 (**주인 찾아감 / 안락사 / 입양 / 타기관이송 / 사망**)\n",
    "\n"
   ]
  },
  {
   "cell_type": "markdown",
   "metadata": {},
   "source": [
    "## 목표\n",
    "\n",
    "**Log-Loss 의 최소화**"
   ]
  },
  {
   "cell_type": "markdown",
   "metadata": {},
   "source": [
    "## 분석설계\n",
    "\n",
    "#### 1. EDA\n",
    "  1) Name\n",
    "\n",
    "  2) DateTime\n",
    "\n",
    "  3) AnimalType\n",
    "\n",
    "  4) SexuponOutcome\n",
    "\n",
    "  5) AgeuponOutcome\n",
    "\n",
    "  6) Breed\n",
    "\n",
    "  7) Color\n",
    "\n",
    "* One-Hot-Encoding\n",
    "\n",
    "#### 2. Feature Selection\n",
    "* Greedy Search\n",
    "\n",
    "#### 3. Modeling\n",
    "* Logistic Regression Model\n",
    "* Naive Bayesian Model\n",
    "* Random Forest Model\n",
    "* Extreme Forest Model\n",
    "* XG-boost Model\n",
    "\n",
    "#### 4. Model Selection\n",
    "* XG-boost Model\n",
    "\n",
    "#### 5. Kaggle 결과값 논란\n",
    "\n"
   ]
  },
  {
   "cell_type": "code",
   "execution_count": null,
   "metadata": {
    "collapsed": true
   },
   "outputs": [],
   "source": []
  },
  {
   "cell_type": "markdown",
   "metadata": {},
   "source": [
    "# EDA"
   ]
  },
  {
   "cell_type": "markdown",
   "metadata": {},
   "source": [
    "## Nan_value"
   ]
  },
  {
   "cell_type": "code",
   "execution_count": 7,
   "metadata": {
    "collapsed": true
   },
   "outputs": [],
   "source": [
    "def graph_na(data_train):\n",
    "    plt.figure()\n",
    "    missing_data_count = data_train.isnull().sum()\n",
    "    missing_data_count.sort_values(ascending = False, inplace = True)\n",
    "    missing_data_count_filtered = missing_data_count[missing_data_count > 0]\n",
    "    missing_data_count_filtered.plot(kind = 'bar', title = 'missing data count')\n",
    "    plt.show()"
   ]
  },
  {
   "cell_type": "code",
   "execution_count": 8,
   "metadata": {},
   "outputs": [
    {
     "data": {
      "image/png": "[encoded data removed]",
      "text/plain": [
       "<matplotlib.figure.Figure at 0x10b404048>"
      ]
     },
     "metadata": {},
     "output_type": "display_data"
    }
   ],
   "source": [
    "graph_na(data_train)"
   ]
  },
  {
   "cell_type": "code",
   "execution_count": 9,
   "metadata": {},
   "outputs": [
    {
     "data": {
      "text/plain": [
       "AnimalID              0\n",
       "Name               7691\n",
       "DateTime              0\n",
       "OutcomeType           0\n",
       "OutcomeSubtype    13612\n",
       "AnimalType            0\n",
       "SexuponOutcome        1\n",
       "AgeuponOutcome       18\n",
       "Breed                 0\n",
       "Color                 0\n",
       "dtype: int64"
      ]
     },
     "execution_count": 9,
     "metadata": {},
     "output_type": "execute_result"
    }
   ],
   "source": [
    "data_train.isnull().sum()"
   ]
  },
  {
   "cell_type": "code",
   "execution_count": 10,
   "metadata": {},
   "outputs": [
    {
     "data": {
      "text/plain": [
       "AnimalID             0\n",
       "Name              3225\n",
       "DateTime             0\n",
       "AnimalType           0\n",
       "SexuponOutcome       0\n",
       "AgeuponOutcome       6\n",
       "Breed                0\n",
       "Color                0\n",
       "dtype: int64"
      ]
     },
     "execution_count": 10,
     "metadata": {},
     "output_type": "execute_result"
    }
   ],
   "source": [
    "data_test.isnull().sum()"
   ]
  },
  {
   "cell_type": "code",
   "execution_count": 11,
   "metadata": {},
   "outputs": [
    {
     "data": {
      "text/plain": [
       "AnimalID              0\n",
       "Name              10916\n",
       "DateTime              0\n",
       "AnimalType            0\n",
       "SexuponOutcome        1\n",
       "AgeuponOutcome       24\n",
       "Breed                 0\n",
       "Color                 0\n",
       "dtype: int64"
      ]
     },
     "execution_count": 11,
     "metadata": {},
     "output_type": "execute_result"
    }
   ],
   "source": [
    "data_combined.isnull().sum()"
   ]
  },
  {
   "cell_type": "markdown",
   "metadata": {},
   "source": [
    "#### Name -> 유/무에 따라 해당 동물에 대한 주인의 애착 정도를 반영한다고 추측함. 따라서 유/무에 따른 결과값 분석 필요\n",
    "#### OutcomeSubtype -> OutcomeType과 직관적으로 연결된 인자 (데이터 분석에는 적용 x)\n",
    "#### AgeUponOutcome 의 NaN 값은 Median으로 처리\n",
    "#### SexuponOutcome 의 NaN값은 'Unknown'으로 처리"
   ]
  },
  {
   "cell_type": "code",
   "execution_count": null,
   "metadata": {
    "collapsed": true
   },
   "outputs": [],
   "source": []
  },
  {
   "cell_type": "markdown",
   "metadata": {},
   "source": [
    "## 종속변수"
   ]
  },
  {
   "cell_type": "code",
   "execution_count": 12,
   "metadata": {},
   "outputs": [
    {
     "data": {
      "image/png": "[encoded data removed]",
      "text/plain": [
       "<matplotlib.figure.Figure at 0x10d019278>"
      ]
     },
     "metadata": {},
     "output_type": "display_data"
    }
   ],
   "source": [
    "sns.countplot(data_train.OutcomeType, palette='Set3')\n",
    "plt.show()"
   ]
  },
  {
   "cell_type": "code",
   "execution_count": null,
   "metadata": {
    "collapsed": true
   },
   "outputs": [],
   "source": []
  },
  {
   "cell_type": "code",
   "execution_count": null,
   "metadata": {
    "collapsed": true
   },
   "outputs": [],
   "source": []
  },
  {
   "cell_type": "markdown",
   "metadata": {},
   "source": [
    "## 독립변수"
   ]
  },
  {
   "cell_type": "markdown",
   "metadata": {},
   "source": [
    "### 1. Name"
   ]
  },
  {
   "cell_type": "code",
   "execution_count": 13,
   "metadata": {},
   "outputs": [
    {
     "data": {
      "text/plain": [
       "6374"
      ]
     },
     "execution_count": 13,
     "metadata": {},
     "output_type": "execute_result"
    }
   ],
   "source": [
    "# Name 안에 있는 unique 갯수\n",
    "data_train.Name.nunique()"
   ]
  },
  {
   "cell_type": "code",
   "execution_count": 14,
   "metadata": {
    "collapsed": true
   },
   "outputs": [],
   "source": [
    "# 이름이 있는 경우 -> 'Name' / 이름이 없는 경우 -> 'No Name' 으로 변경\n",
    "\n",
    "def no_name_label(x):\n",
    "    '''Reference: https://github.com/JihongL/Shelter-Animal-Outcomes/blob/master/Shelter_EDA.ipynb'''\n",
    "    if type(x) == float:\n",
    "        return 'No Name'\n",
    "    else:\n",
    "        return 'Name'\n",
    "    \n",
    "data_combined['Name'] = data_combined['Name'].transform(no_name_label)\n",
    "data_train['Name'] = data_train['Name'].transform(no_name_label)"
   ]
  },
  {
   "cell_type": "code",
   "execution_count": 15,
   "metadata": {},
   "outputs": [
    {
     "data": {
      "image/png": "[encoded data removed]",
      "text/plain": [
       "<matplotlib.figure.Figure at 0x1c16fcf9b0>"
      ]
     },
     "metadata": {},
     "output_type": "display_data"
    }
   ],
   "source": [
    "#이름 유/무와 OutcomeType 관계 그래프\n",
    "plt.figure(figsize = (7, 5))\n",
    "sns.countplot(x = 'Name', hue = 'OutcomeType', data = data_train)\n",
    "plt.show()"
   ]
  },
  {
   "cell_type": "markdown",
   "metadata": {},
   "source": [
    "#### 이름이 있는 경우에 주인이 찾아가는 비율이 압도적으로 높았는데, 이는 이름의 유무가 주인의 애착정도를 반영할 것이라는 애측이 타당했음을 증명한다고 보여짐.\n",
    "#### 또한 이름이 있는 경우 입양되는 비율도 높았는데, 이는 이름이 있다는 것이 입양자에게 이 애완견(묘)이 이전 주인에게 사랑받고 키워졌다는 신호로 작용했을 것이라 추측함."
   ]
  },
  {
   "cell_type": "code",
   "execution_count": null,
   "metadata": {
    "collapsed": true
   },
   "outputs": [],
   "source": []
  },
  {
   "cell_type": "markdown",
   "metadata": {},
   "source": [
    "### 2. Date Time"
   ]
  },
  {
   "cell_type": "code",
   "execution_count": 16,
   "metadata": {
    "collapsed": true
   },
   "outputs": [],
   "source": [
    "# 날짜 데이터에서 년, 월, 일, 시간 자료 추출 및 계절 변수 형성\n",
    "\n",
    "def datetime_str_converter(data_train):\n",
    "    '''This method converts the datetime input into year and month in\n",
    "    string format. The below method is identical except it returns numerical\n",
    "    value. The string format is used for graphing with countplot'''\n",
    "    datetime = list(data_train['DateTime'])\n",
    "    year_list, month_list, day_list, hour_list = [], [], [], []\n",
    "    for item in datetime:\n",
    "        year_list.append(item[:4])\n",
    "        month_list.append(item[5:7])\n",
    "        day_list.append(item[8:10])\n",
    "        hour_list.append(item[11:13])\n",
    "    return year_list, month_list, day_list, hour_list\n",
    "\n",
    "def season_sort(month_list):\n",
    "    '''Converts month information to season information'''\n",
    "    season_list = []\n",
    "    for item in month_list:\n",
    "        item = int(item)\n",
    "        if item == 12 or item == 1 or item == 2:\n",
    "            season_list.append('winter')\n",
    "        elif item >=3 and item <=5:\n",
    "            season_list.append('spring')\n",
    "        elif item >= 6 and item <= 8:\n",
    "            season_list.append('summer')\n",
    "        elif item >= 9 and item <= 11:\n",
    "            season_list.append('fall')\n",
    "    return season_list"
   ]
  },
  {
   "cell_type": "code",
   "execution_count": 17,
   "metadata": {
    "collapsed": true
   },
   "outputs": [],
   "source": [
    "'''Year and Month information extraction'''\n",
    "year_list, month_list, day_list, hour_list = datetime_str_converter(data_train)\n",
    "date_list = []\n",
    "for year, month in zip(year_list, month_list):\n",
    "    date_list.append(int(year + month))\n",
    "\n",
    "#Data를 년, 월, 일, 시간 그리고 년 + 월 합친 데이터로 변환 in train\n",
    "data_train['Date'] = date_list\n",
    "data_train['OutcomeYear'], data_train['OutcomeMonth'] = year_list, month_list\n",
    "data_train['OutcomeDay'], data_train['OutcomeHour'] = day_list, hour_list\n",
    "\n",
    "\n",
    "\n",
    "#계절 데이터 형성 in train\n",
    "season_list = season_sort(month_list)\n",
    "data_train['OutcomeSeason'] = season_list\n"
   ]
  },
  {
   "cell_type": "code",
   "execution_count": 18,
   "metadata": {},
   "outputs": [
    {
     "data": {
      "text/html": [
       "<div>\n",
       "<style>\n",
       "    .dataframe thead tr:only-child th {\n",
       "        text-align: right;\n",
       "    }\n",
       "\n",
       "    .dataframe thead th {\n",
       "        text-align: left;\n",
       "    }\n",
       "\n",
       "    .dataframe tbody tr th {\n",
       "        vertical-align: top;\n",
       "    }\n",
       "</style>\n",
       "<table border=\"1\" class=\"dataframe\">\n",
       "  <thead>\n",
       "    <tr style=\"text-align: right;\">\n",
       "      <th></th>\n",
       "      <th>AnimalID</th>\n",
       "      <th>Name</th>\n",
       "      <th>DateTime</th>\n",
       "      <th>OutcomeType</th>\n",
       "      <th>OutcomeSubtype</th>\n",
       "      <th>AnimalType</th>\n",
       "      <th>SexuponOutcome</th>\n",
       "      <th>AgeuponOutcome</th>\n",
       "      <th>Breed</th>\n",
       "      <th>Color</th>\n",
       "      <th>Date</th>\n",
       "      <th>OutcomeYear</th>\n",
       "      <th>OutcomeMonth</th>\n",
       "      <th>OutcomeDay</th>\n",
       "      <th>OutcomeHour</th>\n",
       "      <th>OutcomeSeason</th>\n",
       "    </tr>\n",
       "  </thead>\n",
       "  <tbody>\n",
       "    <tr>\n",
       "      <th>26724</th>\n",
       "      <td>A702446</td>\n",
       "      <td>No Name</td>\n",
       "      <td>2015-05-14 11:56:00</td>\n",
       "      <td>Transfer</td>\n",
       "      <td>Partner</td>\n",
       "      <td>Cat</td>\n",
       "      <td>Intact Male</td>\n",
       "      <td>1 month</td>\n",
       "      <td>Domestic Shorthair Mix</td>\n",
       "      <td>Brown Tabby/White</td>\n",
       "      <td>201505</td>\n",
       "      <td>2015</td>\n",
       "      <td>05</td>\n",
       "      <td>14</td>\n",
       "      <td>11</td>\n",
       "      <td>spring</td>\n",
       "    </tr>\n",
       "    <tr>\n",
       "      <th>26725</th>\n",
       "      <td>A718934</td>\n",
       "      <td>No Name</td>\n",
       "      <td>2016-01-20 18:59:00</td>\n",
       "      <td>Transfer</td>\n",
       "      <td>SCRP</td>\n",
       "      <td>Cat</td>\n",
       "      <td>Spayed Female</td>\n",
       "      <td>3 months</td>\n",
       "      <td>Domestic Shorthair Mix</td>\n",
       "      <td>Brown Tabby</td>\n",
       "      <td>201601</td>\n",
       "      <td>2016</td>\n",
       "      <td>01</td>\n",
       "      <td>20</td>\n",
       "      <td>18</td>\n",
       "      <td>winter</td>\n",
       "    </tr>\n",
       "    <tr>\n",
       "      <th>26726</th>\n",
       "      <td>A698128</td>\n",
       "      <td>Name</td>\n",
       "      <td>2015-03-09 13:33:00</td>\n",
       "      <td>Adoption</td>\n",
       "      <td>NaN</td>\n",
       "      <td>Dog</td>\n",
       "      <td>Neutered Male</td>\n",
       "      <td>4 years</td>\n",
       "      <td>Old English Bulldog Mix</td>\n",
       "      <td>White/Tan</td>\n",
       "      <td>201503</td>\n",
       "      <td>2015</td>\n",
       "      <td>03</td>\n",
       "      <td>09</td>\n",
       "      <td>13</td>\n",
       "      <td>spring</td>\n",
       "    </tr>\n",
       "    <tr>\n",
       "      <th>26727</th>\n",
       "      <td>A677478</td>\n",
       "      <td>No Name</td>\n",
       "      <td>2014-04-27 12:22:00</td>\n",
       "      <td>Transfer</td>\n",
       "      <td>Partner</td>\n",
       "      <td>Cat</td>\n",
       "      <td>Intact Male</td>\n",
       "      <td>4 weeks</td>\n",
       "      <td>Domestic Shorthair Mix</td>\n",
       "      <td>Black</td>\n",
       "      <td>201404</td>\n",
       "      <td>2014</td>\n",
       "      <td>04</td>\n",
       "      <td>27</td>\n",
       "      <td>12</td>\n",
       "      <td>spring</td>\n",
       "    </tr>\n",
       "    <tr>\n",
       "      <th>26728</th>\n",
       "      <td>A706629</td>\n",
       "      <td>No Name</td>\n",
       "      <td>2015-07-02 09:00:00</td>\n",
       "      <td>Transfer</td>\n",
       "      <td>SCRP</td>\n",
       "      <td>Cat</td>\n",
       "      <td>Intact Male</td>\n",
       "      <td>1 year</td>\n",
       "      <td>Domestic Shorthair Mix</td>\n",
       "      <td>Brown Tabby/White</td>\n",
       "      <td>201507</td>\n",
       "      <td>2015</td>\n",
       "      <td>07</td>\n",
       "      <td>02</td>\n",
       "      <td>09</td>\n",
       "      <td>summer</td>\n",
       "    </tr>\n",
       "  </tbody>\n",
       "</table>\n",
       "</div>"
      ],
      "text/plain": [
       "      AnimalID     Name             DateTime OutcomeType OutcomeSubtype  \\\n",
       "26724  A702446  No Name  2015-05-14 11:56:00    Transfer        Partner   \n",
       "26725  A718934  No Name  2016-01-20 18:59:00    Transfer           SCRP   \n",
       "26726  A698128     Name  2015-03-09 13:33:00    Adoption            NaN   \n",
       "26727  A677478  No Name  2014-04-27 12:22:00    Transfer        Partner   \n",
       "26728  A706629  No Name  2015-07-02 09:00:00    Transfer           SCRP   \n",
       "\n",
       "      AnimalType SexuponOutcome AgeuponOutcome                    Breed  \\\n",
       "26724        Cat    Intact Male        1 month   Domestic Shorthair Mix   \n",
       "26725        Cat  Spayed Female       3 months   Domestic Shorthair Mix   \n",
       "26726        Dog  Neutered Male        4 years  Old English Bulldog Mix   \n",
       "26727        Cat    Intact Male        4 weeks   Domestic Shorthair Mix   \n",
       "26728        Cat    Intact Male         1 year   Domestic Shorthair Mix   \n",
       "\n",
       "                   Color    Date OutcomeYear OutcomeMonth OutcomeDay  \\\n",
       "26724  Brown Tabby/White  201505        2015           05         14   \n",
       "26725        Brown Tabby  201601        2016           01         20   \n",
       "26726          White/Tan  201503        2015           03         09   \n",
       "26727              Black  201404        2014           04         27   \n",
       "26728  Brown Tabby/White  201507        2015           07         02   \n",
       "\n",
       "      OutcomeHour OutcomeSeason  \n",
       "26724          11        spring  \n",
       "26725          18        winter  \n",
       "26726          13        spring  \n",
       "26727          12        spring  \n",
       "26728          09        summer  "
      ]
     },
     "execution_count": 18,
     "metadata": {},
     "output_type": "execute_result"
    }
   ],
   "source": [
    "#Data 확인\n",
    "data_train.tail()"
   ]
  },
  {
   "cell_type": "code",
   "execution_count": 19,
   "metadata": {},
   "outputs": [
    {
     "data": {
      "image/png": "[encoded data removed]",
      "text/plain": [
       "<matplotlib.figure.Figure at 0x1c1fed4780>"
      ]
     },
     "metadata": {},
     "output_type": "display_data"
    }
   ],
   "source": [
    "#날짜와 결과값 관계 그래프\n",
    "fig, ax = plt.subplots(figsize=(15, 7))\n",
    "ax = sns.countplot(x = 'Date', hue = 'OutcomeType', data = data_train)\n",
    "ax.set_xticklabels(ax.get_xticklabels(), rotation=40, ha=\"right\")\n",
    "plt.show()"
   ]
  },
  {
   "cell_type": "markdown",
   "metadata": {},
   "source": [
    "#### 보기 매우 피곤한 그래프이기 때문에 위 Reference에서 나온 factorplot 이용하여 새로운 plot형성"
   ]
  },
  {
   "cell_type": "code",
   "execution_count": 20,
   "metadata": {},
   "outputs": [
    {
     "data": {
      "text/plain": [
       "<matplotlib.figure.Figure at 0x1c2097a8d0>"
      ]
     },
     "metadata": {},
     "output_type": "display_data"
    },
    {
     "data": {
      "image/png": "[encoded data removed]",
      "text/plain": [
       "<matplotlib.figure.Figure at 0x1c2098d358>"
      ]
     },
     "metadata": {},
     "output_type": "display_data"
    }
   ],
   "source": [
    "plt.figure(figsize=(20,20))\n",
    "ax2 = sns.factorplot(x = 'Date', col = 'OutcomeType', data = data_train, kind = 'count')\n",
    "ax2.set_xticklabels(ax.get_xticklabels(), rotation=90, ha=\"right\")\n",
    "plt.show()"
   ]
  },
  {
   "cell_type": "code",
   "execution_count": 21,
   "metadata": {},
   "outputs": [
    {
     "data": {
      "image/png": "[encoded data removed]",
      "text/plain": [
       "<matplotlib.figure.Figure at 0x1c20944198>"
      ]
     },
     "metadata": {},
     "output_type": "display_data"
    }
   ],
   "source": [
    "#계절별 OutcomeType 관계 그래프\n",
    "sns.factorplot(x = 'OutcomeSeason', hue = 'OutcomeYear', col = 'OutcomeType', data = data_train, kind = 'count')\n",
    "plt.show()"
   ]
  },
  {
   "cell_type": "markdown",
   "metadata": {
    "collapsed": true
   },
   "source": [
    "분석을 위해 data_combined 에도 변수변환작업"
   ]
  },
  {
   "cell_type": "code",
   "execution_count": 22,
   "metadata": {
    "collapsed": true
   },
   "outputs": [],
   "source": [
    "def datetime_str_converter(data_combined):\n",
    "    '''This method converts the datetime input into year and month in\n",
    "    string format. The below method is identical except it returns numerical\n",
    "    value. The string format is used for graphing with countplot'''\n",
    "    datetime = list(data_combined['DateTime'])\n",
    "    year_list, month_list, day_list, hour_list = [], [], [], []\n",
    "    for item in datetime:\n",
    "        year_list.append(item[:4])\n",
    "        month_list.append(item[5:7])\n",
    "        day_list.append(item[8:10])\n",
    "        hour_list.append(item[11:13])\n",
    "    return year_list, month_list, day_list, hour_list\n",
    "\n",
    "def season_sort(month_list):\n",
    "    '''Converts month information to season information'''\n",
    "    season_list = []\n",
    "    for item in month_list:\n",
    "        item = int(item)\n",
    "        if item == 12 or item == 1 or item == 2:\n",
    "            season_list.append('winter')\n",
    "        elif item >=3 and item <=5:\n",
    "            season_list.append('spring')\n",
    "        elif item >= 6 and item <= 8:\n",
    "            season_list.append('summer')\n",
    "        elif item >= 9 and item <= 11:\n",
    "            season_list.append('fall')\n",
    "    return season_list"
   ]
  },
  {
   "cell_type": "code",
   "execution_count": 23,
   "metadata": {
    "collapsed": true
   },
   "outputs": [],
   "source": [
    "'''Year and Month information extraction'''\n",
    "year_list, month_list, day_list, hour_list = datetime_str_converter(data_combined)\n",
    "date_list = []\n",
    "for year, month in zip(year_list, month_list):\n",
    "    date_list.append(int(year + month))\n",
    "\n",
    "#Data를 년, 월, 일, 시간 그리고 년 + 월 합친 데이터로 변환\n",
    "data_combined['Date'] = date_list\n",
    "data_combined['OutcomeYear'], data_combined['OutcomeMonth'] = year_list, month_list\n",
    "data_combined['OutcomeDay'], data_combined['OutcomeHour'] = day_list, hour_list\n",
    "\n",
    "#계절 데이터 형성\n",
    "season_list = season_sort(month_list)\n",
    "data_combined['OutcomeSeason'] = season_list"
   ]
  },
  {
   "cell_type": "code",
   "execution_count": null,
   "metadata": {
    "collapsed": true
   },
   "outputs": [],
   "source": []
  },
  {
   "cell_type": "markdown",
   "metadata": {},
   "source": [
    "### 3. Animal Type"
   ]
  },
  {
   "cell_type": "code",
   "execution_count": 24,
   "metadata": {},
   "outputs": [
    {
     "data": {
      "image/png": "[encoded data removed]",
      "text/plain": [
       "<matplotlib.figure.Figure at 0x1c21a35c18>"
      ]
     },
     "metadata": {},
     "output_type": "display_data"
    }
   ],
   "source": [
    "sns.countplot(data_train.AnimalType, palette='Set3')\n",
    "sns.countplot(data=data_train, x='AnimalType',hue='OutcomeType')\n",
    "plt.show()"
   ]
  },
  {
   "cell_type": "markdown",
   "metadata": {},
   "source": [
    "#### 주인이 다시 찾아가는 비율은 개가 고양이에 비해서 압도적으로 높다."
   ]
  },
  {
   "cell_type": "code",
   "execution_count": null,
   "metadata": {
    "collapsed": true
   },
   "outputs": [],
   "source": []
  },
  {
   "cell_type": "markdown",
   "metadata": {},
   "source": [
    "### 4. SexuponOutcome"
   ]
  },
  {
   "cell_type": "code",
   "execution_count": 25,
   "metadata": {},
   "outputs": [
    {
     "data": {
      "image/png": "[encoded data removed]",
      "text/plain": [
       "<matplotlib.figure.Figure at 0x1c21ce8e48>"
      ]
     },
     "metadata": {},
     "output_type": "display_data"
    }
   ],
   "source": [
    "sns.countplot(data_train.SexuponOutcome, palette='Set3')\n",
    "sns.countplot(data=data_train, x='SexuponOutcome',hue='OutcomeType')\n",
    "plt.show()"
   ]
  },
  {
   "cell_type": "markdown",
   "metadata": {},
   "source": [
    "#### 중성화 수술이 된 쪽이 자연상태인 쪽보다 주인이 찾아가는 비율과 입양되는 비율이 압도적으로 높았다. \n",
    "#### 자연상태의 개와 고양이는 이관되는 비율이 압도적으로 높다."
   ]
  },
  {
   "cell_type": "code",
   "execution_count": 26,
   "metadata": {},
   "outputs": [
    {
     "data": {
      "text/plain": [
       "array(['Neutered Male', 'Spayed Female', 'Intact Male', 'Intact Female',\n",
       "       'Unknown'], dtype=object)"
      ]
     },
     "execution_count": 26,
     "metadata": {},
     "output_type": "execute_result"
    }
   ],
   "source": [
    "#SexuponOutcome은 그냥 Unknown\n",
    "data_combined['SexuponOutcome'].fillna('Unknown', inplace = True)\n",
    "data_combined['SexuponOutcome'].unique()"
   ]
  },
  {
   "cell_type": "code",
   "execution_count": null,
   "metadata": {
    "collapsed": true
   },
   "outputs": [],
   "source": []
  },
  {
   "cell_type": "code",
   "execution_count": null,
   "metadata": {
    "collapsed": true
   },
   "outputs": [],
   "source": []
  },
  {
   "cell_type": "markdown",
   "metadata": {},
   "source": [
    "### 5. AgeuponOutcome"
   ]
  },
  {
   "cell_type": "code",
   "execution_count": 27,
   "metadata": {},
   "outputs": [
    {
     "data": {
      "image/png": "[encoded data removed]",
      "text/plain": [
       "<matplotlib.figure.Figure at 0x1c20971780>"
      ]
     },
     "metadata": {},
     "output_type": "display_data"
    }
   ],
   "source": [
    "sns.countplot(data_train.AgeuponOutcome, palette='Set3')\n",
    "plt.show()"
   ]
  },
  {
   "cell_type": "markdown",
   "metadata": {},
   "source": [
    "### 너무 세분화 되어 있어서 보기 어렵다. 단순화작업 진행"
   ]
  },
  {
   "cell_type": "code",
   "execution_count": 28,
   "metadata": {
    "collapsed": true
   },
   "outputs": [],
   "source": [
    "def calc_age_in_years(x):\n",
    "    x = str(x)\n",
    "    if x == 'nan': return 0\n",
    "    age = int(x.split()[0])\n",
    "    if x.find('year') > -1: return age \n",
    "    if x.find('month')> -1: return age / 12.\n",
    "    if x.find('week')> -1: return age / 52.\n",
    "    if x.find('day')> -1: return age / 365.\n",
    "    else: return 0"
   ]
  },
  {
   "cell_type": "code",
   "execution_count": 29,
   "metadata": {},
   "outputs": [
    {
     "data": {
      "image/png": "[encoded data removed]",
      "text/plain": [
       "<matplotlib.figure.Figure at 0x1c21ccccc0>"
      ]
     },
     "metadata": {},
     "output_type": "display_data"
    }
   ],
   "source": [
    "\n",
    "data_train1 = data_train.copy()\n",
    "data_train1['AgeuponOutcomeInYears'] = data_train1.AgeuponOutcome.apply(calc_age_in_years)\n",
    "sns.distplot(data_train1.AgeuponOutcomeInYears, bins = 20, kde=False)\n",
    "plt.show()"
   ]
  },
  {
   "cell_type": "code",
   "execution_count": 30,
   "metadata": {
    "collapsed": true
   },
   "outputs": [],
   "source": [
    "def calc_age_category(x):\n",
    "    if x < 3: return 'young'\n",
    "    if x < 5: return 'young adult'\n",
    "    if x < 10: return 'adult'\n",
    "    return 'old'\n",
    "data_train1['AgeCategory'] = data_train1.AgeuponOutcomeInYears.apply(calc_age_category)"
   ]
  },
  {
   "cell_type": "code",
   "execution_count": 31,
   "metadata": {},
   "outputs": [
    {
     "data": {
      "image/png": "[encoded data removed]",
      "text/plain": [
       "<matplotlib.figure.Figure at 0x1c21c64a58>"
      ]
     },
     "metadata": {},
     "output_type": "display_data"
    }
   ],
   "source": [
    "sns.countplot(data=data_train1, x='AgeCategory',hue='OutcomeType')\n",
    "plt.show()"
   ]
  },
  {
   "cell_type": "markdown",
   "metadata": {},
   "source": [
    "#### 3세 미만의 어린 개와 고양이가 입양 및 이관비율이 다른 연령대에 비해 압도적으로 높다. \n",
    "#### 10세 이상은 주인에게 돌아가는 비율이 다른 연령대에 비해 상대적으로 높다. \n",
    "* Modeling 시에는 one-hot-encoding 없이 바로 사용할 수 있도록 day를 기준으로 변환하여 사용"
   ]
  },
  {
   "cell_type": "code",
   "execution_count": 32,
   "metadata": {
    "collapsed": true
   },
   "outputs": [],
   "source": [
    "def convert_Age(data_train):\n",
    "    '''Reference: https://stackoverflow.com/questions/12851791/removing-numbers-from-string'''\n",
    "    '''This function convert all the time into unit of day'''\n",
    "    age_list = list(data_train['AgeuponOutcome'])\n",
    "    age_day_compile = []\n",
    "    for item in age_list:\n",
    "        if type(item) != str:\n",
    "            age_day_compile.append(item)\n",
    "        else:\n",
    "            numeric = int(item[:2])\n",
    "            if 'year' in item:\n",
    "                age_day_compile.append(numeric * 365)\n",
    "            elif 'month' in item:\n",
    "                age_day_compile.append(numeric * 30)\n",
    "            elif 'week' in item:\n",
    "                age_day_compile.append(numeric * 7)\n",
    "            elif 'day' in item:\n",
    "                age_day_compile.append(numeric)\n",
    "    return age_day_compile "
   ]
  },
  {
   "cell_type": "code",
   "execution_count": 33,
   "metadata": {},
   "outputs": [
    {
     "name": "stdout",
     "output_type": "stream",
     "text": [
      "[' year', ' years', ' weeks', ' month', ' months', ' days', ' week', ' day']\n"
     ]
    },
    {
     "data": {
      "text/plain": [
       "'This list contains year(s), month(s), week(s), day(s)'"
      ]
     },
     "execution_count": 33,
     "metadata": {},
     "output_type": "execute_result"
    }
   ],
   "source": [
    "'''This section of the code is to check the unique string values that are present in the AgeuponOutcome column'''\n",
    "age_list_compile = []\n",
    "age_outcome_list = list(data_train['AgeuponOutcome'])\n",
    "for item in age_outcome_list:\n",
    "    if type(item) != str:\n",
    "        '''This condition is to account for NaN values'''\n",
    "        continue\n",
    "    result = ''.join(i for i in item if not i.isdigit())\n",
    "    age_list_compile.append(result)\n",
    "'''We can check unique string values in the column'''\n",
    "age_list_unique = list(pd.Series(age_list_compile).unique())\n",
    "print(age_list_unique)\n",
    "'''This list contains year(s), month(s), week(s), day(s)'''"
   ]
  },
  {
   "cell_type": "code",
   "execution_count": 34,
   "metadata": {
    "collapsed": true
   },
   "outputs": [],
   "source": [
    "age_day_compile = convert_Age(data_train)\n",
    "data_train['AgeuponOutcome'] = age_day_compile"
   ]
  },
  {
   "cell_type": "code",
   "execution_count": 35,
   "metadata": {
    "collapsed": true
   },
   "outputs": [],
   "source": [
    "# age_list_unique 확인 결과 year, years, month, months, week, weeks, day, days의 유니크한 값을 가짐. 나이관련 변수 단위를 day로 통일\n",
    "\n",
    "def convert_Age(data_combined):\n",
    "    '''Reference: https://stackoverflow.com/questions/12851791/removing-numbers-from-string'''\n",
    "    '''This function convert all the time into unit of day'''\n",
    "    age_list = list(data_combined['AgeuponOutcome'])\n",
    "    age_day_compile = []\n",
    "    for item in age_list:\n",
    "        if type(item) != str:\n",
    "            age_day_compile.append(item)\n",
    "        else:\n",
    "            numeric = int(item[:2])\n",
    "            if 'year' in item:\n",
    "                age_day_compile.append(numeric * 365)\n",
    "            elif 'month' in item:\n",
    "                age_day_compile.append(numeric * 30)\n",
    "            elif 'week' in item:\n",
    "                age_day_compile.append(numeric * 7)\n",
    "            elif 'day' in item:\n",
    "                age_day_compile.append(numeric)\n",
    "    return age_day_compile "
   ]
  },
  {
   "cell_type": "code",
   "execution_count": 36,
   "metadata": {
    "collapsed": true
   },
   "outputs": [],
   "source": [
    "age_day_compile = convert_Age(data_combined)\n",
    "data_combined['AgeuponOutcome'] = age_day_compile"
   ]
  },
  {
   "cell_type": "code",
   "execution_count": 37,
   "metadata": {},
   "outputs": [
    {
     "data": {
      "text/html": [
       "<div>\n",
       "<style>\n",
       "    .dataframe thead tr:only-child th {\n",
       "        text-align: right;\n",
       "    }\n",
       "\n",
       "    .dataframe thead th {\n",
       "        text-align: left;\n",
       "    }\n",
       "\n",
       "    .dataframe tbody tr th {\n",
       "        vertical-align: top;\n",
       "    }\n",
       "</style>\n",
       "<table border=\"1\" class=\"dataframe\">\n",
       "  <thead>\n",
       "    <tr style=\"text-align: right;\">\n",
       "      <th></th>\n",
       "      <th>AnimalID</th>\n",
       "      <th>Name</th>\n",
       "      <th>DateTime</th>\n",
       "      <th>AnimalType</th>\n",
       "      <th>SexuponOutcome</th>\n",
       "      <th>AgeuponOutcome</th>\n",
       "      <th>Breed</th>\n",
       "      <th>Color</th>\n",
       "      <th>Date</th>\n",
       "      <th>OutcomeYear</th>\n",
       "      <th>OutcomeMonth</th>\n",
       "      <th>OutcomeDay</th>\n",
       "      <th>OutcomeHour</th>\n",
       "      <th>OutcomeSeason</th>\n",
       "    </tr>\n",
       "  </thead>\n",
       "  <tbody>\n",
       "    <tr>\n",
       "      <th>11451</th>\n",
       "      <td>11452</td>\n",
       "      <td>No Name</td>\n",
       "      <td>2014-07-08 14:50</td>\n",
       "      <td>Cat</td>\n",
       "      <td>Neutered Male</td>\n",
       "      <td>60.0</td>\n",
       "      <td>Domestic Shorthair Mix</td>\n",
       "      <td>Black</td>\n",
       "      <td>201407</td>\n",
       "      <td>2014</td>\n",
       "      <td>07</td>\n",
       "      <td>08</td>\n",
       "      <td>14</td>\n",
       "      <td>summer</td>\n",
       "    </tr>\n",
       "    <tr>\n",
       "      <th>11452</th>\n",
       "      <td>11453</td>\n",
       "      <td>No Name</td>\n",
       "      <td>2014-10-21 12:57</td>\n",
       "      <td>Cat</td>\n",
       "      <td>Intact Female</td>\n",
       "      <td>14.0</td>\n",
       "      <td>Domestic Shorthair Mix</td>\n",
       "      <td>Blue</td>\n",
       "      <td>201410</td>\n",
       "      <td>2014</td>\n",
       "      <td>10</td>\n",
       "      <td>21</td>\n",
       "      <td>12</td>\n",
       "      <td>fall</td>\n",
       "    </tr>\n",
       "    <tr>\n",
       "      <th>11453</th>\n",
       "      <td>11454</td>\n",
       "      <td>No Name</td>\n",
       "      <td>2014-09-29 9:00</td>\n",
       "      <td>Cat</td>\n",
       "      <td>Intact Female</td>\n",
       "      <td>365.0</td>\n",
       "      <td>Domestic Shorthair Mix</td>\n",
       "      <td>Calico</td>\n",
       "      <td>201409</td>\n",
       "      <td>2014</td>\n",
       "      <td>09</td>\n",
       "      <td>29</td>\n",
       "      <td>9:</td>\n",
       "      <td>fall</td>\n",
       "    </tr>\n",
       "    <tr>\n",
       "      <th>11454</th>\n",
       "      <td>11455</td>\n",
       "      <td>Name</td>\n",
       "      <td>2015-09-05 17:16</td>\n",
       "      <td>Dog</td>\n",
       "      <td>Neutered Male</td>\n",
       "      <td>2190.0</td>\n",
       "      <td>German Shepherd Mix</td>\n",
       "      <td>Black/Tan</td>\n",
       "      <td>201509</td>\n",
       "      <td>2015</td>\n",
       "      <td>09</td>\n",
       "      <td>05</td>\n",
       "      <td>17</td>\n",
       "      <td>fall</td>\n",
       "    </tr>\n",
       "    <tr>\n",
       "      <th>11455</th>\n",
       "      <td>11456</td>\n",
       "      <td>Name</td>\n",
       "      <td>2014-07-12 18:40</td>\n",
       "      <td>Dog</td>\n",
       "      <td>Intact Male</td>\n",
       "      <td>1460.0</td>\n",
       "      <td>Labrador Retriever</td>\n",
       "      <td>Cream</td>\n",
       "      <td>201407</td>\n",
       "      <td>2014</td>\n",
       "      <td>07</td>\n",
       "      <td>12</td>\n",
       "      <td>18</td>\n",
       "      <td>summer</td>\n",
       "    </tr>\n",
       "  </tbody>\n",
       "</table>\n",
       "</div>"
      ],
      "text/plain": [
       "      AnimalID     Name          DateTime AnimalType SexuponOutcome  \\\n",
       "11451    11452  No Name  2014-07-08 14:50        Cat  Neutered Male   \n",
       "11452    11453  No Name  2014-10-21 12:57        Cat  Intact Female   \n",
       "11453    11454  No Name   2014-09-29 9:00        Cat  Intact Female   \n",
       "11454    11455     Name  2015-09-05 17:16        Dog  Neutered Male   \n",
       "11455    11456     Name  2014-07-12 18:40        Dog    Intact Male   \n",
       "\n",
       "       AgeuponOutcome                   Breed      Color    Date OutcomeYear  \\\n",
       "11451            60.0  Domestic Shorthair Mix      Black  201407        2014   \n",
       "11452            14.0  Domestic Shorthair Mix       Blue  201410        2014   \n",
       "11453           365.0  Domestic Shorthair Mix     Calico  201409        2014   \n",
       "11454          2190.0     German Shepherd Mix  Black/Tan  201509        2015   \n",
       "11455          1460.0      Labrador Retriever      Cream  201407        2014   \n",
       "\n",
       "      OutcomeMonth OutcomeDay OutcomeHour OutcomeSeason  \n",
       "11451           07         08          14        summer  \n",
       "11452           10         21          12          fall  \n",
       "11453           09         29          9:          fall  \n",
       "11454           09         05          17          fall  \n",
       "11455           07         12          18        summer  "
      ]
     },
     "execution_count": 37,
     "metadata": {},
     "output_type": "execute_result"
    }
   ],
   "source": [
    "data_combined.tail()"
   ]
  },
  {
   "cell_type": "code",
   "execution_count": 38,
   "metadata": {},
   "outputs": [
    {
     "data": {
      "text/plain": [
       "365.0"
      ]
     },
     "execution_count": 38,
     "metadata": {},
     "output_type": "execute_result"
    }
   ],
   "source": [
    "#AgeuponOutcome의 경우 전체 데이터의 median값으로 대체\n",
    "age_median = data_combined['AgeuponOutcome'].median()\n",
    "age_median"
   ]
  },
  {
   "cell_type": "code",
   "execution_count": 39,
   "metadata": {},
   "outputs": [
    {
     "data": {
      "text/plain": [
       "0"
      ]
     },
     "execution_count": 39,
     "metadata": {},
     "output_type": "execute_result"
    }
   ],
   "source": [
    "data_combined['AgeuponOutcome'].fillna(age_median, inplace = True)\n",
    "data_combined['AgeuponOutcome'].isnull().sum()"
   ]
  },
  {
   "cell_type": "code",
   "execution_count": null,
   "metadata": {
    "collapsed": true
   },
   "outputs": [],
   "source": []
  },
  {
   "cell_type": "markdown",
   "metadata": {},
   "source": [
    "### 6. Breed"
   ]
  },
  {
   "cell_type": "code",
   "execution_count": 40,
   "metadata": {},
   "outputs": [
    {
     "data": {
      "text/plain": [
       "1380"
      ]
     },
     "execution_count": 40,
     "metadata": {},
     "output_type": "execute_result"
    }
   ],
   "source": [
    "# Breed 안에 있는 unique 갯수\n",
    "data_train.Breed.nunique()"
   ]
  },
  {
   "cell_type": "code",
   "execution_count": 41,
   "metadata": {},
   "outputs": [
    {
     "data": {
      "text/plain": [
       "Domestic Shorthair Mix                        8810\n",
       "Pit Bull Mix                                  1906\n",
       "Chihuahua Shorthair Mix                       1766\n",
       "Labrador Retriever Mix                        1363\n",
       "Domestic Medium Hair Mix                       839\n",
       "German Shepherd Mix                            575\n",
       "Domestic Longhair Mix                          520\n",
       "Siamese Mix                                    389\n",
       "Australian Cattle Dog Mix                      367\n",
       "Dachshund Mix                                  318\n",
       "Boxer Mix                                      245\n",
       "Miniature Poodle Mix                           233\n",
       "Border Collie Mix                              229\n",
       "Australian Shepherd Mix                        163\n",
       "Rat Terrier Mix                                157\n",
       "Catahoula Mix                                  157\n",
       "Jack Russell Terrier Mix                       146\n",
       "Domestic Shorthair                             143\n",
       "Yorkshire Terrier Mix                          143\n",
       "Chihuahua Longhair Mix                         142\n",
       "Siberian Husky Mix                             138\n",
       "Miniature Schnauzer Mix                        136\n",
       "Beagle Mix                                     124\n",
       "Rottweiler Mix                                 113\n",
       "American Bulldog Mix                           109\n",
       "Cairn Terrier Mix                              102\n",
       "Shih Tzu Mix                                   100\n",
       "Chihuahua Shorthair/Dachshund                   98\n",
       "Australian Kelpie Mix                           95\n",
       "Staffordshire Mix                               94\n",
       "                                              ... \n",
       "Boston Terrier/Labrador Retriever                1\n",
       "Pembroke Welsh Corgi/Golden Retriever            1\n",
       "Australian Kelpie/Shiba Inu                      1\n",
       "Pug/Pomeranian                                   1\n",
       "English Bulldog/Dachshund                        1\n",
       "Redbone Hound/Redbone Hound                      1\n",
       "Papillon/Chihuahua Shorthair                     1\n",
       "Pekingese/Miniature Poodle                       1\n",
       "Cavalier Span/Papillon                           1\n",
       "Tibetan Spaniel                                  1\n",
       "Staffordshire/Beagle                             1\n",
       "Pekingese/Dachshund                              1\n",
       "Domestic Shorthair/Manx                          1\n",
       "Jack Russell Terrier/Whippet                     1\n",
       "Australian Kelpie/Whippet                        1\n",
       "Vizsla/Rhod Ridgeback                            1\n",
       "Black Mouth Cur/Blue Lacy                        1\n",
       "Greyhound/Great Dane                             1\n",
       "Presa Canario                                    1\n",
       "Pointer/Brittany                                 1\n",
       "Havana Brown Mix                                 1\n",
       "Akita/Australian Cattle Dog                      1\n",
       "Toy Fox Terrier/Dachshund                        1\n",
       "Chihuahua Shorthair/Cocker Spaniel               1\n",
       "Border Terrier/Soft Coated Wheaten Terrier       1\n",
       "Dachshund Wirehair/Miniature Schnauzer           1\n",
       "Siberian Husky/Beagle                            1\n",
       "Australian Cattle Dog/Dachshund                  1\n",
       "Vizsla/Boxer                                     1\n",
       "Hovawart Mix                                     1\n",
       "Name: Breed, Length: 1380, dtype: int64"
      ]
     },
     "execution_count": 41,
     "metadata": {},
     "output_type": "execute_result"
    }
   ],
   "source": [
    "# Breed 안에 있는 values\n",
    "data_train['Breed'].value_counts()"
   ]
  },
  {
   "cell_type": "code",
   "execution_count": 42,
   "metadata": {
    "collapsed": true
   },
   "outputs": [],
   "source": [
    "## 개 순종/잡종 분류\n",
    "\n",
    "def dog_breed_category(data_train):\n",
    "    '''This function converts the breed into pure mix, mix or pure'''\n",
    "    breed_df = data_train[['OutcomeType', 'AnimalType', 'Breed']]\n",
    "    breed_df_dog = breed_df[breed_df.AnimalType == 'Dog'].reset_index()\n",
    "    breed_list = list(breed_df_dog['Breed'])\n",
    "    breed_compile = []\n",
    "    for item in breed_list:\n",
    "        item = item.lower()\n",
    "        if 'mix' in item:\n",
    "            breed_compile.append('pure mix')\n",
    "        elif '/' in item:\n",
    "            breed_compile.append('mix')\n",
    "        else:\n",
    "            breed_compile.append('pure')\n",
    "    breed_df_dog['Breed_dog'] = breed_compile\n",
    "    return breed_df_dog"
   ]
  },
  {
   "cell_type": "code",
   "execution_count": 43,
   "metadata": {
    "collapsed": true
   },
   "outputs": [],
   "source": [
    "breed_df_dog = dog_breed_category(data_train)"
   ]
  },
  {
   "cell_type": "code",
   "execution_count": 44,
   "metadata": {},
   "outputs": [
    {
     "data": {
      "image/png": "[encoded data removed]",
      "text/plain": [
       "<matplotlib.figure.Figure at 0x1c21ccc4e0>"
      ]
     },
     "metadata": {},
     "output_type": "display_data"
    }
   ],
   "source": [
    "#순종/잡종 개와 OutcomeType 관계 그래프\n",
    "sns.countplot(x = 'Breed_dog', hue = 'OutcomeType', data = breed_df_dog)\n",
    "plt.show()"
   ]
  },
  {
   "cell_type": "markdown",
   "metadata": {},
   "source": [
    "#### 순종견 (Pure)는 갯수가 많지 않기 때문에 Pure mix와 Pure는 같은 종으로 고려함 (타 Kaggle 분석에서도 이런식으로 진행한것 확인)"
   ]
  },
  {
   "cell_type": "markdown",
   "metadata": {},
   "source": [
    "### Breed의 Unique값 분석결과 1200종이 넘는것으로 확인됨. 이러한 data를 그래로 사용할 경우 Overfitting등의 문제가 있기 때문에 3가지 방법으로 접근할 예정\n",
    "  \n",
    "1) 순종 Breed에 관해서는 Size로 변환 -> 잡종일 경우 유전적 factor에 의해서 크기 예측이 쉽지 않음. 이 작업을 수작업으로 하기에는 너무 많은 시간이 소요가 되기 때문에 방법 탐색중 순종을 크기 별로 나눠놓은 웹사이트 발견 -> Crawling\n",
    "\n",
    "Mixed Breed Reference: http://www.vetstreet.com/our-pet-experts/can-you-predict-the-adult-size-of-a-mixed-breed-puppy\n",
    "\n",
    "Size Reference : http://www.dogbreedslist.info/herding-dog-breeds/#.WgfCyMZl-iN\n",
    "\n",
    "2) 또다른 방법은 Breed를 Main breed와 Sub breed열로 나눠서 분석\n",
    "\n",
    "3) 애완견의 선호도 랭킹 반영 : 다른 Kaggle 참가자에 따르면 애완견의 선호도 랭킹또한 예측 모델에 큰 영향을 준다는 정보 입수\n",
    "\n",
    "Ranking Reference: https://nishadikirielle.wordpress.com/2016/10/08/kaggle-competition-shelter-animal-problem-xgboost-approach/\n",
    "\n",
    "개는 2016년 기준으로 랭킹이 매겨져 있으며 고양이는 2014년 기준으로 랭킹이 존재함. 위 첨부자료에서는 2013, 2014, 2015년별 랭킹변화를 모두 인자로 채택했지만, 자세히 보면 랭킹에 큰 변동이 없는것으로 확인되었기 때문에 굳이 매년 선호도 점수를 쓸 필요성은 없는것으로 판단됨."
   ]
  },
  {
   "cell_type": "markdown",
   "metadata": {},
   "source": [
    "#### 1) Size별로 정리"
   ]
  },
  {
   "cell_type": "code",
   "execution_count": 45,
   "metadata": {
    "collapsed": true
   },
   "outputs": [],
   "source": [
    "# Size별 정보 Crawling by BeautifulSoup\n",
    "def crawler(url, selector):\n",
    "    '''This is one of the two functions used for crawlign cat/dog size'''\n",
    "    res = requests.get(url)\n",
    "    soup = BeautifulSoup(res.content, 'html.parser')\n",
    "    crawl_list = soup.select(selector)\n",
    "    compile_list = []\n",
    "    for breed in crawl_list:\n",
    "        compile_list.append(breed.get_text().lower())\n",
    "    return compile_list\n",
    "\n",
    "def crawl_compiler(url_list, selector):\n",
    "    '''This is the second functions used for crawlign cat/dog size'''\n",
    "    list_compile = []\n",
    "    for url in url_list:\n",
    "        crawler_list = crawler(url, selector)\n",
    "        list_compile += crawler_list\n",
    "    return list_compile\n"
   ]
  },
  {
   "cell_type": "code",
   "execution_count": 46,
   "metadata": {
    "collapsed": true
   },
   "outputs": [],
   "source": [
    "'''This section is for crawling the dog size list'''\n",
    "\n",
    "'''Extract list of dogs for different sizes'''\n",
    "small_url_list = ['http://www.dogbreedslist.info/small-dog-breeds/list_2_1.html#.Wfx1Mmi0NPY', \n",
    "                'http://www.dogbreedslist.info/small-dog-breeds/list_2_2.html#.Wfx1Mmi0NPY', \n",
    "                'http://www.dogbreedslist.info/small-dog-breeds/list_2_3.html#.Wfx1Mmi0NPY', \n",
    "                'http://www.dogbreedslist.info/small-dog-breeds/list_2_4.html#.Wfx1Mmi0NPY', \n",
    "                'http://www.dogbreedslist.info/small-dog-breeds/list_2_5.html#.Wfx1Mmi0NPY',\n",
    "                'http://www.dogbreedslist.info/small-dog-breeds/list_2_6.html#.Wfx1Mmi0NPY']\n",
    "\n",
    "selector = 'body > div.main > div.main-r > div > div.list-01 > div.right > div.right-t > p > a'\n",
    "small_dog_compile = crawl_compiler(small_url_list, selector)\n",
    "\n",
    "medium_url_list = ['http://www.dogbreedslist.info/medium-dog-breeds/list_3_1.html#.Wfx3bmi0NPY',\n",
    "                   'http://www.dogbreedslist.info/medium-dog-breeds/list_3_2.html#.Wfx3bmi0NPY',\n",
    "                   'http://www.dogbreedslist.info/medium-dog-breeds/list_3_3.html#.Wfx3bmi0NPY', \n",
    "                   'http://www.dogbreedslist.info/medium-dog-breeds/list_3_4.html#.Wfx3bmi0NPY',\n",
    "                   'http://www.dogbreedslist.info/medium-dog-breeds/list_3_5.html#.Wfx3bmi0NPY',\n",
    "                   'http://www.dogbreedslist.info/medium-dog-breeds/list_3_6.html#.Wfx3bmi0NPY']\n",
    "\n",
    "selector = 'body > div.main > div.main-r > div > div.list-01 > div.right > div.right-t > p > a'\n",
    "medium_dog_compile = crawl_compiler(medium_url_list, selector) + ['treeing cur', 'treeing tennesse brindle']\n",
    "\n",
    "large_url_list = ['http://www.dogbreedslist.info/large-dog-breeds/list_4_1.html#.Wfx9nWi0NPY',\n",
    "                   'http://www.dogbreedslist.info/large-dog-breeds/list_4_2.html#.Wfx9nWi0NPY',\n",
    "                   'http://www.dogbreedslist.info/large-dog-breeds/list_4_3.html#.Wfx9nWi0NPY', \n",
    "                   'http://www.dogbreedslist.info/large-dog-breeds/list_4_4.html#.Wfx9nWi0NPY',\n",
    "                   'http://www.dogbreedslist.info/large-dog-breeds/list_4_5.html#.Wfx9nWi0NPY',\n",
    "                   'http://www.dogbreedslist.info/large-dog-breeds/list_4_6.html#.Wfx9nWi0NPY']\n",
    "\n",
    "selector = 'body > div.main > div.main-r > div > div.list-01 > div.right > div.right-t > p > a'\n",
    "large_dog_compile = crawl_compiler(large_url_list, selector) + ['schnauzer giant', 'olde english bulldogge']\n",
    "\n",
    "giant_url_list = ['http://www.dogbreedslist.info/giant-dog-breeds/list_5_1.html#.Wfx9nWi0NPY',]\n",
    "\n",
    "selector = 'body > div.main > div.main-r > div > div.list-01 > div.right > div.right-t > p > a'\n",
    "giant_dog_compile = crawl_compiler(giant_url_list, selector)"
   ]
  },
  {
   "cell_type": "code",
   "execution_count": 47,
   "metadata": {},
   "outputs": [
    {
     "name": "stdout",
     "output_type": "stream",
     "text": [
      "['labrador retriever', 'bulldog', 'poodle', 'boxer', 'siberian husky', 'australian shepherd', 'brittany', 'english springer spaniel', 'american cocker spaniel', 'vizsla', 'weimaraner', 'miniature american shepherd', 'border collie', 'basset hound', 'shiba inu', 'belgian malinois', 'soft coated wheaten terrier', 'portuguese water dog', 'australian cattle dog', 'airedale terrier', 'english cocker spaniel', 'bull terrier', 'whippet', 'shar-pei', 'german wirehaired pointer', 'samoyed', 'wirehaired pointing griffon', 'chow chow', 'american staffordshire terrier', 'staffordshire bull terrier', 'standard schnauzer', 'nova scotia duck tolling retriever', 'basenji', 'tibetan terrier', 'norwegian elkhound', 'wire fox terrier', 'belgian tervuren', 'boykin spaniel', 'lagotto romagnolo', 'pointer', 'american eskimo dog', 'welsh springer spaniel', 'bearded collie', 'kerry blue terrier', 'treeing walker coonhound', 'berger picard', 'redbone coonhound', 'clumber spaniel', 'german pinscher', 'field spaniel', 'irish water spaniel', 'icelandic sheepdog', 'american water spaniel', 'wirehaired vizsla', 'plott hound', 'puli', 'portuguese podengo pequeno', 'entlebucher mountain dog', 'spanish water dog', 'pharaoh hound', 'polish lowland sheepdog', 'american english coonhound', 'finnish lapphund', 'norwegian buhund', 'pyrenean shepherd', 'finnish spitz', 'canaan dog', 'cirneco dell’etna', 'harrier', 'english foxhound', 'africanis', 'aidi', 'alaskan klee kai', 'american pit bull terrier', 'american white shepherd', 'appenzeller sennenhund', 'ariegeois', 'australian bulldog', 'australian kelpie', 'australian stumpy tail cattle dog', 'austrian black and tan hound', 'austrian pinscher', 'barbet', 'bavarian mountain hound', 'belgian shepherd laekenois', 'black mouth cur', 'black norwegian elkhound', 'blue lacy', 'bohemian shepherd', 'bouvier des ardennes', 'braque du bourbonnais', 'briquet griffon vendeen', 'cão da serra de aires', 'carolina dog', 'catahoula bulldog', 'catahoula leopard dog', 'catalan sheepdog', 'cesky fousek', 'croatian sheepdog', 'deutsche bracke', 'dingo', 'drentse patrijshond', 'dunker', 'english shepherd', 'eurasier', 'fila brasileiro', 'finnish hound', 'french spaniel', 'polish hunting dog', 'grand basset griffon vendeen', 'griffon bleu de gascogne', 'hamilton hound', 'hokkaido dog', 'hovawart', 'jämthund', 'korean jindo', 'karelian bear dog', 'kishu ken', 'kooikerhondje', 'koolie', 'treeing cur', 'treeing tennesse brindle']\n"
     ]
    }
   ],
   "source": [
    "print(medium_dog_compile)"
   ]
  },
  {
   "cell_type": "code",
   "execution_count": 48,
   "metadata": {
    "collapsed": true
   },
   "outputs": [],
   "source": [
    "# 순종 Mix 와 순종을 같은 Breed로 설정\n",
    "\n",
    "def remove_mix(data_train):\n",
    "    '''This function removes the keyword mix from breed list. The result from\n",
    "    this method is used when converting breed into different categories'''\n",
    "    breed_list = list(data_train['Breed'])\n",
    "    breed_compile = []\n",
    "    for item in breed_list:\n",
    "        item = item.lower()\n",
    "        if 'mix' in item:\n",
    "            item = item[:-4]\n",
    "        breed_compile.append(item)\n",
    "    return breed_compile\n"
   ]
  },
  {
   "cell_type": "code",
   "execution_count": 49,
   "metadata": {
    "collapsed": true
   },
   "outputs": [],
   "source": [
    "breed_remove_mix = remove_mix(data_train)"
   ]
  },
  {
   "cell_type": "code",
   "execution_count": 50,
   "metadata": {
    "collapsed": true
   },
   "outputs": [],
   "source": [
    "# 순종 Mix 와 순종을 같은 Breed로 설정\n",
    "\n",
    "def remove_mix(data_combined):\n",
    "    '''This function removes the keyword mix from breed list. The result from\n",
    "    this method is used when converting breed into different categories'''\n",
    "    breed_list = list(data_combined['Breed'])\n",
    "    breed_compile = []\n",
    "    for item in breed_list:\n",
    "        item = item.lower()\n",
    "        if 'mix' in item:\n",
    "            item = item[:-4]\n",
    "        breed_compile.append(item)\n",
    "    return breed_compile"
   ]
  },
  {
   "cell_type": "code",
   "execution_count": 51,
   "metadata": {
    "collapsed": true
   },
   "outputs": [],
   "source": [
    "breed_remove_mix = remove_mix(data_combined)"
   ]
  },
  {
   "cell_type": "code",
   "execution_count": 52,
   "metadata": {
    "collapsed": true
   },
   "outputs": [],
   "source": [
    "# train.csv에 있는 모든 견종이 Crawling한 list에 존재하거나 줄임말 또는 표기법이 달라서 인식이 안되는 종이 30종 정도 있는 것으로 확인됨.\n",
    "# 그 수가 그렇게 많지 않기 때문에 직접 수정함.\n",
    "\n",
    "for index, item in enumerate(breed_remove_mix):\n",
    "    if item == 'chihuahua shorthair':\n",
    "        breed_remove_mix[index] = 'chihuahua'\n",
    "    elif item == 'collie smooth':\n",
    "        breed_remove_mix[index] = 'collie'\n",
    "    elif item == 'anatol shepherd':\n",
    "        breed_remove_mix[index] = 'anatolian shepherd dog'\n",
    "    elif item == 'port water dog':\n",
    "        breed_remove_mix[index] = 'portuguese water dog'\n",
    "    elif item == 'flat coat retriever':\n",
    "        breed_remove_mix[index] = 'flat-coated retriever'\n",
    "    elif item == 'pbgv':\n",
    "        breed_remove_mix[index] = 'petit basset griffon vendeen'\n",
    "    elif item == 'bruss griffon':\n",
    "        breed_remove_mix[index] = 'brussels griffon'\n",
    "    elif item == 'bluetick hound':\n",
    "        breed_remove_mix[index] = 'bluetick coonhound'\n",
    "    elif item == 'wire hair fox terrier':\n",
    "        breed_remove_mix[index] = 'wire fox terrier'\n",
    "    elif item == 'dachshund wirehair':\n",
    "        breed_remove_mix[index] = 'dachshund'\n",
    "    elif item == 'rhod ridgeback':\n",
    "        breed_remove_mix[index] = 'rhodesian ridgeback'\n",
    "    elif item == 'picardy sheepdog':\n",
    "        breed_remove_mix[index] = 'berger picard'\n",
    "    elif item == 'st. bernard rough coat':\n",
    "        breed_remove_mix[index] = 'st. bernard'\n",
    "    elif item == 'old english bulldog':\n",
    "        breed_remove_mix[index] = 'olde english bulldogge'\n",
    "    elif item == 'english bulldog':\n",
    "        breed_remove_mix[index] = 'olde english bulldogge'\n",
    "    elif item == 'chesa bay retr':\n",
    "        breed_remove_mix[index] = 'chesapeake bay retriever'\n",
    "    elif item == 'dachshund longhair':\n",
    "        breed_remove_mix[index] = 'dachshund'\n",
    "    elif item == 'chihuahua longhair':\n",
    "        breed_remove_mix[index] = 'chihuahua'\n",
    "    elif item == 'chinese sharpei':\n",
    "        breed_remove_mix[index] = 'shar-pei'\n",
    "    elif item == 'standard poodle':\n",
    "        breed_remove_mix[index] = 'poodle'\n",
    "    elif item == 'bull terrier miniature':\n",
    "        breed_remove_mix[index] = 'miniature bull terrier'\n",
    "    elif item =='st. bernard smooth coat':\n",
    "        breed_remove_mix[index] = 'st. bernard'\n",
    "    elif item =='redbone hound':\n",
    "        breed_remove_mix[index] = 'redbone coonhound'\n",
    "    elif item == 'cavalier span':\n",
    "        breed_remove_mix[index] = 'cavalier king charles spaniel'\n",
    "    elif item == 'collie rough':\n",
    "        breed_remove_mix[index] = 'collie'\n",
    "    elif item == 'german shorthair pointer':\n",
    "        breed_remove_mix[index] = 'german shorthaired pointer'\n",
    "    elif item == 'english pointer':\n",
    "        breed_remove_mix[index] = 'pointer'\n",
    "    elif item == 'mexican hairless':\n",
    "        breed_remove_mix[index] = 'xoloitzcuintli'\n",
    "    elif item =='dogo argentino':\n",
    "        breed_remove_mix[index] = 'argentine dogo'\n",
    "    elif item == 'queensland heeler':\n",
    "        breed_remove_mix[index] = 'australian cattle dog'"
   ]
  },
  {
   "cell_type": "code",
   "execution_count": 53,
   "metadata": {
    "collapsed": true
   },
   "outputs": [],
   "source": [
    "# 고양이 사이즈 : 고양이는 종류가 강아지만큼 다양하지 않기 때문에 수작업 전처리 진행\n",
    "\n",
    "# Reference: http://www.petguide.com/breeds/cat/domestic-longhair/\n",
    "\n",
    "small_cat_list = ['munchkin longhair', 'oriental sh']\n",
    "medium_cat_list = ['exotic shorthair', 'persian', 'abyssinian', 'sphynx', 'siamese',\n",
    "                   'cornish rex', 'devon rex', 'burmese', 'tonkinese', 'russian blue', \n",
    "                   'manx', 'japanese bobtail', 'balinese', 'bombay', 'havana brown',\n",
    "                   'bengal', 'cymric', 'himalayan', 'snowshoe', 'javanese', 'havana brown', 'angora', 'turkish angora', \n",
    "                   'munchkin shorthair', 'scottish fold']\n",
    "large_cat_list = ['american shorthair', 'british shorthair', 'norwegian forest cat', 'ocicat',\n",
    "                  'turkish van', 'pixiebob shorthair', 'maine coon', 'ragdoll', 'american wirehair', 'chartreux']\n",
    "domestic = ['domestic longhair', 'domestic medium hair', 'domestic shorthair']"
   ]
  },
  {
   "cell_type": "markdown",
   "metadata": {},
   "source": [
    "고양이종에 domestic이 붙은 종은 북미지역에 서식하는 잡종 고양이를 뜻함. train 데이터에서도 압도적으로 많은 고양이들이 domestic 종이고 실제로도 북미지역 애완 고양이는 높은 비율로 domestic 잡종인것을 아래 참조 자료를 통해 확인하였음. 잡종인 만큼 size를 예측하기 힘들기 때문에 domestic이라는 카테고리를 따로 형성함\n",
    "\n",
    "#### Reference: http://www.petguide.com/breeds/cat/domestic-longhair/"
   ]
  },
  {
   "cell_type": "code",
   "execution_count": 54,
   "metadata": {
    "collapsed": true
   },
   "outputs": [],
   "source": [
    "# mapping : 개는 1, 고양이는 0 으로 전처리\n",
    "\n",
    "animal_type_mapping = {'Dog':1, 'Cat':0}\n",
    "data_train['AnimalType'] = data_train['AnimalType'].map(animal_type_mapping)"
   ]
  },
  {
   "cell_type": "code",
   "execution_count": 55,
   "metadata": {
    "collapsed": true
   },
   "outputs": [],
   "source": [
    "animal_type_mapping = {'Dog':1, 'Cat':0}\n",
    "data_combined['AnimalType'] = data_combined['AnimalType'].map(animal_type_mapping)"
   ]
  },
  {
   "cell_type": "code",
   "execution_count": 56,
   "metadata": {
    "collapsed": true
   },
   "outputs": [],
   "source": [
    "# 개/고양이 Size 인자 형성\n",
    "\n",
    "# Reference: https://stackoverflow.com/questions/16380326/check-if-substring-is-in-a-list-of-strings\n",
    "\n",
    "def convert_breed(type_list, breed_list, small_list, medium_list, large_list, giant_list,\n",
    "                  small_cat_list, medium_cat_list, large_cat_list, domestic_cat_list):\n",
    "    '''Reference: https://stackoverflow.com/questions/16380326/check-if-substring-is-in-a-list-of-strings\n",
    "    that is a really smart and succinct solution for checking substring existence in a list of strings'''\n",
    "    \n",
    "    '''The incoming list a list of breeds with the keyword \"mix\" removed and converted\n",
    "    to lower case. No need for extra preprocessing. Also the dog lists are all converted\n",
    "    to lower case as well. Type list is to check whether the breed belongs to dog or cat'''\n",
    "    if len(type_list) != len(breed_list):\n",
    "        print('Two lists must have equal length!')\n",
    "        return None\n",
    "    \n",
    "    '''Convert the list into a string format for easier processing'''\n",
    "    small_combined = '\\t'.join(small_list)\n",
    "    medium_combined = '\\t'.join(medium_list)\n",
    "    large_combined = '\\t'.join(large_list)\n",
    "    giant_combined = '\\t'.join(giant_list)\n",
    "    \n",
    "    breed_compile, excluded_list, mix_breed_list, cat_breed_list = [], [], [], []\n",
    "    for animal_type, breed in zip(type_list, breed_list):\n",
    "        if '/' in breed: #Mixed type categorization\n",
    "            mix_breed_list.append(breed)\n",
    "            breed_compile.append('mix')\n",
    "        elif animal_type == 0: #Cat breed categorization\n",
    "            cat_breed_list.append(breed)\n",
    "            if breed in small_cat_list:\n",
    "                breed_compile.append('small_cat')\n",
    "            elif breed in medium_cat_list:\n",
    "                breed_compile.append('medium_cat')\n",
    "            elif breed in large_cat_list:\n",
    "                breed_compile.append('large_cat')\n",
    "            elif breed in domestic_cat_list:\n",
    "                breed_compile.append('domestic')\n",
    "            else:\n",
    "                excluded_list.append(breed)\n",
    "        elif animal_type == 1: #Dog breed categorization\n",
    "            if breed in small_combined:\n",
    "                breed_compile.append('small')\n",
    "            elif breed in medium_combined:\n",
    "                breed_compile.append('medium')\n",
    "            elif breed in large_combined:\n",
    "                breed_compile.append('large')\n",
    "            elif breed in giant_combined:\n",
    "                breed_compile.append('giant')\n",
    "            else:\n",
    "                excluded_list.append(breed)\n",
    "                breed_compile.append('unknown')\n",
    "    return breed_compile, excluded_list, mix_breed_list, cat_breed_list"
   ]
  },
  {
   "cell_type": "code",
   "execution_count": 57,
   "metadata": {},
   "outputs": [
    {
     "name": "stdout",
     "output_type": "stream",
     "text": [
      "['dachshund stan', 'eng toy spaniel', 'unknown']\n"
     ]
    }
   ],
   "source": [
    "'''Compare the breed in the data to crawled size lists and create a list indicating\n",
    "the size of each breed. By zipping two lists, we can also ignore species that\n",
    "belong to cats. Some breed names were manually modified to fit the crawled list'''\n",
    "type_list = list(data_combined['AnimalType'])\n",
    "\n",
    "convert_list, excluded_list_dog, mix_breed_list_dog, cat_breed_list = convert_breed(type_list, \n",
    "                                     breed_remove_mix, small_dog_compile, \n",
    "                                     medium_dog_compile, large_dog_compile, giant_dog_compile,\n",
    "                                     small_cat_list, medium_cat_list, large_cat_list, domestic)\n",
    "\n",
    "'''With the manual correction to dog breed, this list should only contain unknown values'''\n",
    "excluded_unique_dog = list(set(excluded_list_dog))\n",
    "print(excluded_unique_dog)"
   ]
  },
  {
   "cell_type": "code",
   "execution_count": 58,
   "metadata": {},
   "outputs": [
    {
     "data": {
      "text/html": [
       "<div>\n",
       "<style>\n",
       "    .dataframe thead tr:only-child th {\n",
       "        text-align: right;\n",
       "    }\n",
       "\n",
       "    .dataframe thead th {\n",
       "        text-align: left;\n",
       "    }\n",
       "\n",
       "    .dataframe tbody tr th {\n",
       "        vertical-align: top;\n",
       "    }\n",
       "</style>\n",
       "<table border=\"1\" class=\"dataframe\">\n",
       "  <thead>\n",
       "    <tr style=\"text-align: right;\">\n",
       "      <th></th>\n",
       "      <th>AnimalID</th>\n",
       "      <th>Name</th>\n",
       "      <th>DateTime</th>\n",
       "      <th>AnimalType</th>\n",
       "      <th>SexuponOutcome</th>\n",
       "      <th>AgeuponOutcome</th>\n",
       "      <th>Breed</th>\n",
       "      <th>Color</th>\n",
       "      <th>Date</th>\n",
       "      <th>OutcomeYear</th>\n",
       "      <th>OutcomeMonth</th>\n",
       "      <th>OutcomeDay</th>\n",
       "      <th>OutcomeHour</th>\n",
       "      <th>OutcomeSeason</th>\n",
       "      <th>Size</th>\n",
       "    </tr>\n",
       "  </thead>\n",
       "  <tbody>\n",
       "    <tr>\n",
       "      <th>11451</th>\n",
       "      <td>11452</td>\n",
       "      <td>No Name</td>\n",
       "      <td>2014-07-08 14:50</td>\n",
       "      <td>0</td>\n",
       "      <td>Neutered Male</td>\n",
       "      <td>60.0</td>\n",
       "      <td>Domestic Shorthair Mix</td>\n",
       "      <td>Black</td>\n",
       "      <td>201407</td>\n",
       "      <td>2014</td>\n",
       "      <td>07</td>\n",
       "      <td>08</td>\n",
       "      <td>14</td>\n",
       "      <td>summer</td>\n",
       "      <td>domestic</td>\n",
       "    </tr>\n",
       "    <tr>\n",
       "      <th>11452</th>\n",
       "      <td>11453</td>\n",
       "      <td>No Name</td>\n",
       "      <td>2014-10-21 12:57</td>\n",
       "      <td>0</td>\n",
       "      <td>Intact Female</td>\n",
       "      <td>14.0</td>\n",
       "      <td>Domestic Shorthair Mix</td>\n",
       "      <td>Blue</td>\n",
       "      <td>201410</td>\n",
       "      <td>2014</td>\n",
       "      <td>10</td>\n",
       "      <td>21</td>\n",
       "      <td>12</td>\n",
       "      <td>fall</td>\n",
       "      <td>domestic</td>\n",
       "    </tr>\n",
       "    <tr>\n",
       "      <th>11453</th>\n",
       "      <td>11454</td>\n",
       "      <td>No Name</td>\n",
       "      <td>2014-09-29 9:00</td>\n",
       "      <td>0</td>\n",
       "      <td>Intact Female</td>\n",
       "      <td>365.0</td>\n",
       "      <td>Domestic Shorthair Mix</td>\n",
       "      <td>Calico</td>\n",
       "      <td>201409</td>\n",
       "      <td>2014</td>\n",
       "      <td>09</td>\n",
       "      <td>29</td>\n",
       "      <td>9:</td>\n",
       "      <td>fall</td>\n",
       "      <td>domestic</td>\n",
       "    </tr>\n",
       "    <tr>\n",
       "      <th>11454</th>\n",
       "      <td>11455</td>\n",
       "      <td>Name</td>\n",
       "      <td>2015-09-05 17:16</td>\n",
       "      <td>1</td>\n",
       "      <td>Neutered Male</td>\n",
       "      <td>2190.0</td>\n",
       "      <td>German Shepherd Mix</td>\n",
       "      <td>Black/Tan</td>\n",
       "      <td>201509</td>\n",
       "      <td>2015</td>\n",
       "      <td>09</td>\n",
       "      <td>05</td>\n",
       "      <td>17</td>\n",
       "      <td>fall</td>\n",
       "      <td>large</td>\n",
       "    </tr>\n",
       "    <tr>\n",
       "      <th>11455</th>\n",
       "      <td>11456</td>\n",
       "      <td>Name</td>\n",
       "      <td>2014-07-12 18:40</td>\n",
       "      <td>1</td>\n",
       "      <td>Intact Male</td>\n",
       "      <td>1460.0</td>\n",
       "      <td>Labrador Retriever</td>\n",
       "      <td>Cream</td>\n",
       "      <td>201407</td>\n",
       "      <td>2014</td>\n",
       "      <td>07</td>\n",
       "      <td>12</td>\n",
       "      <td>18</td>\n",
       "      <td>summer</td>\n",
       "      <td>medium</td>\n",
       "    </tr>\n",
       "  </tbody>\n",
       "</table>\n",
       "</div>"
      ],
      "text/plain": [
       "      AnimalID     Name          DateTime  AnimalType SexuponOutcome  \\\n",
       "11451    11452  No Name  2014-07-08 14:50           0  Neutered Male   \n",
       "11452    11453  No Name  2014-10-21 12:57           0  Intact Female   \n",
       "11453    11454  No Name   2014-09-29 9:00           0  Intact Female   \n",
       "11454    11455     Name  2015-09-05 17:16           1  Neutered Male   \n",
       "11455    11456     Name  2014-07-12 18:40           1    Intact Male   \n",
       "\n",
       "       AgeuponOutcome                   Breed      Color    Date OutcomeYear  \\\n",
       "11451            60.0  Domestic Shorthair Mix      Black  201407        2014   \n",
       "11452            14.0  Domestic Shorthair Mix       Blue  201410        2014   \n",
       "11453           365.0  Domestic Shorthair Mix     Calico  201409        2014   \n",
       "11454          2190.0     German Shepherd Mix  Black/Tan  201509        2015   \n",
       "11455          1460.0      Labrador Retriever      Cream  201407        2014   \n",
       "\n",
       "      OutcomeMonth OutcomeDay OutcomeHour OutcomeSeason      Size  \n",
       "11451           07         08          14        summer  domestic  \n",
       "11452           10         21          12          fall  domestic  \n",
       "11453           09         29          9:          fall  domestic  \n",
       "11454           09         05          17          fall     large  \n",
       "11455           07         12          18        summer    medium  "
      ]
     },
     "execution_count": 58,
     "metadata": {},
     "output_type": "execute_result"
    }
   ],
   "source": [
    "'''Whew finally add the cleansed convert_dog_list to our data_train DataFrame'''\n",
    "data_combined['Size'] = convert_list\n",
    "data_combined.tail()"
   ]
  },
  {
   "cell_type": "code",
   "execution_count": 59,
   "metadata": {},
   "outputs": [
    {
     "name": "stdout",
     "output_type": "stream",
     "text": [
      "['small', 'domestic', 'medium', 'mix', 'giant', 'medium_cat', 'large', 'large_cat', 'unknown', 'small_cat']\n"
     ]
    }
   ],
   "source": [
    "'''Confirm that only expected values small, medium, large, giant, unknown and domestic\n",
    "are present in the Size column'''\n",
    "size_check_list = list(data_combined['Size'].unique())\n",
    "print(size_check_list)"
   ]
  },
  {
   "cell_type": "markdown",
   "metadata": {},
   "source": [
    "#### 고양이 경우 앞서 말했듯이 domestic종이 다른 종에 비해 압도적으로 많은 것으로 확인됨. 따라서 차후 머신러닝 알고리즘 적용시 고양이와 개의 분류는 AnimalType에 의해서 이루어 질지 아니면 domestic이라는 종에 의해서 이루어 질지 확인해볼 필요가 있음\n",
    "\n",
    "#### 완변하진 않지만 각각 결과값에 따른 애완견 사이즈별 비율이 비슷한 형태를 하고 있는것으로 판단됨. 어쩌면 size가 생각보다 중요하지 않은 인자일수도? "
   ]
  },
  {
   "cell_type": "code",
   "execution_count": null,
   "metadata": {
    "collapsed": true
   },
   "outputs": [],
   "source": []
  },
  {
   "cell_type": "markdown",
   "metadata": {},
   "source": [
    "#### 2) Main/Sub 로 분리"
   ]
  },
  {
   "cell_type": "code",
   "execution_count": 60,
   "metadata": {},
   "outputs": [
    {
     "name": "stdout",
     "output_type": "stream",
     "text": [
      "10\n"
     ]
    }
   ],
   "source": [
    "# 종이 3개 이상 섞여 있는 경우의 갯수\n",
    "check_breed = list(data_train['Breed'])\n",
    "count = 0\n",
    "for item in check_breed:\n",
    "    if item.count('/') == 2:\n",
    "        count += 1\n",
    "print(count)"
   ]
  },
  {
   "cell_type": "markdown",
   "metadata": {},
   "source": [
    "#### 10개밖에 없기때문에 잡종일 경우 main과 sub로만 분리 (원래 계획은 sub1, sub2로 나눌 계획이었음)"
   ]
  },
  {
   "cell_type": "code",
   "execution_count": 61,
   "metadata": {
    "collapsed": true
   },
   "outputs": [],
   "source": [
    "def main_sub_separator(separate_list):\n",
    "    '''This function separates the breed into main and sub breed columns'''\n",
    "    main, sub = [], []\n",
    "    for item in separate_list:\n",
    "        if item.count('/') == 0:\n",
    "            main.append(item)\n",
    "            sub.append('NA')\n",
    "        elif item.count('/') == 1 or item.count('/') == 2:\n",
    "            temp_list = item.split('/')\n",
    "            main.append(temp_list[0])\n",
    "            sub.append(temp_list[1])\n",
    "    return main, sub"
   ]
  },
  {
   "cell_type": "code",
   "execution_count": 62,
   "metadata": {
    "collapsed": true
   },
   "outputs": [],
   "source": [
    "#Animal Breed Separator\n",
    "main_breed, sub_breed = main_sub_separator(breed_remove_mix)\n",
    "data_combined['Main_Breed'], data_combined['Sub_Breed'] = main_breed, sub_breed"
   ]
  },
  {
   "cell_type": "code",
   "execution_count": null,
   "metadata": {
    "collapsed": true
   },
   "outputs": [],
   "source": []
  },
  {
   "cell_type": "markdown",
   "metadata": {},
   "source": [
    "#### 3) 애완견 선호도 랭킹 반영\n",
    "\n",
    "#### Reference: https://nishadikirielle.wordpress.com/2016/10/08/kaggle-competition-shelter-animal-problem-xgboost-approach/\n",
    "\n",
    "Size, 선호도 랭킹 웹사이트에 의하면 개는 2016년 선호도 랭킹 고양이는 2014년 선호도 랭킹 정보가 있다. 각각의 인자를 rank_dog와 rank_cat으로 구분하여서 형성. rank_dog일 경우 고양이거나 랭킹이 없을경우 0으로 설정, rank_cat의 경우 개이거나 랭킹이 없을경우 마찬가지로 0으로 설정.\n",
    "\n",
    "실제 들어갈 데이터는 랭킹이 아니라 maximum_ranking - actual_ranking이라는 인자로 넣을 계획. 이렇게 될 경우 높은 랭킹을 가진 종은 점수가 높을 것이고 낮은 랭킹을 가질경우 당연히 낮은 점수를 가지고 가게 될것이다.\n",
    "\n",
    "데이터 형성은 위쪽 Crawling에서 작성한 rank_dict_dog와 rank_dict_cat와 data_combined의 Main_Breed column을 이용한다."
   ]
  },
  {
   "cell_type": "code",
   "execution_count": 63,
   "metadata": {
    "collapsed": true
   },
   "outputs": [],
   "source": [
    "'''This portion is for crawling the favorite ranking of dogs'''\n",
    "\n",
    "ranking_url_list = []\n",
    "for i in range(1, 11):\n",
    "    url = 'http://www.dogbreedslist.info/all-dog-breeds/list_1_' + str(i) + '.html#.WhE_9kpl-iM'\n",
    "    ranking_url_list.append(url)\n",
    "    \n",
    "selector_breed = 'body > div.main > div.main-r > div > div.list-01 > div.right > div.right-t > p > a'\n",
    "selector_rank = 'body > div.main > div.main-r > div > div.list-02 > p'\n",
    "\n",
    "breed_compile_dog = crawl_compiler(ranking_url_list, selector_breed)\n",
    "rank_compile_dog = crawl_compiler(ranking_url_list, selector_rank)"
   ]
  },
  {
   "cell_type": "code",
   "execution_count": 64,
   "metadata": {
    "collapsed": true
   },
   "outputs": [],
   "source": [
    "breed_compile_dog = breed_compile_dog[:188]\n",
    "rank_compile_dog = rank_compile_dog[:188]"
   ]
  },
  {
   "cell_type": "code",
   "execution_count": 65,
   "metadata": {},
   "outputs": [
    {
     "name": "stdout",
     "output_type": "stream",
     "text": [
      "188\n",
      "['labrador retriever', 'german shepherd', 'golden retriever', 'bulldog', 'beagle', 'french bulldog', 'poodle', 'rottweiler', 'yorkshire terrier', 'boxer', 'german shorthaired pointer', 'siberian husky', 'dachshund', 'great dane', 'doberman pinscher', 'australian shepherd', 'miniature schnauzer', 'pembroke welsh corgi', 'cavalier king charles spaniel', 'shih tzu', 'boston terrier', 'pomeranian', 'havanese', 'shetland sheepdog', 'brittany', 'english springer spaniel', 'bernese mountain dog', 'mastiff', 'american cocker spaniel', 'chihuahua', 'vizsla', 'pug', 'maltese', 'weimaraner', 'newfoundland', 'miniature american shepherd', 'collie', 'border collie', 'basset hound', 'cane corso', 'west highland white terrier', 'rhodesian ridgeback', 'chesapeake bay retriever', 'shiba inu', 'bichon frise', 'akita', 'belgian malinois', 'bullmastiff', 'st. bernard', 'soft coated wheaten terrier', 'portuguese water dog', 'bloodhound', 'papillon', 'australian cattle dog', 'airedale terrier', 'english cocker spaniel', 'bull terrier', 'scottish terrier', 'alaskan malamute', 'whippet', 'shar-pei', 'dogue de bordeaux', 'german wirehaired pointer', 'samoyed', 'dalmatian', 'wirehaired pointing griffon', 'great pyrenees', 'miniature pinscher', 'cardigan welsh corgi', 'cairn terrier', 'lhasa apso', 'italian greyhound', 'irish wolfhound', 'chow chow', 'old english sheepdog', 'irish setter', 'chinese crested', 'greater swiss mountain dog', 'giant schnauzer', 'coton de tulear', 'american staffordshire terrier', 'staffordshire bull terrier', 'bouvier des flandres', 'anatolian shepherd dog', 'standard schnauzer', 'border terrier', 'nova scotia duck tolling retriever', 'basenji', 'flat-coated retriever', 'jack russell terrier', 'tibetan terrier', 'keeshond', 'pekingese', 'norwegian elkhound', 'leonberger', 'rat terrier', 'brussels griffon', 'borzoi', 'neapolitan mastiff', 'silky terrier', 'wire fox terrier', 'english setter', 'norwich terrier', 'gordon setter', 'spinone italiano', 'american hairless terrier', 'belgian tervuren', 'japanese chin', 'parson russell terrier', 'boykin spaniel', 'welsh terrier', 'schipperke', 'afghan hound', 'lagotto romagnolo', 'irish terrier', 'toy fox terrier', 'pointer', 'tibetan spaniel', 'black russian terrier', 'miniature bull terrier', 'bluetick coonhound', 'american eskimo dog', 'welsh springer spaniel', 'smooth fox terrier', 'saluki', 'bearded collie', 'kerry blue terrier', 'black and tan coonhound', 'belgian sheepdog', 'english toy spaniel', 'boerboel', 'briard', 'manchester terrier', 'norfolk terrier', 'tibetan mastiff', 'australian terrier', 'treeing walker coonhound', 'bedlington terrier', 'xoloitzcuintli', 'beauceron', 'berger picard', 'irish red and white setter', 'redbone coonhound', 'clumber spaniel', 'lakeland terrier', 'german pinscher', 'field spaniel', 'petit basset griffon vendeen', 'affenpinscher', 'irish water spaniel', 'greyhound', 'ibizan hound', 'icelandic sheepdog', 'scottish deerhound', 'sealyham terrier', 'american water spaniel', 'wirehaired vizsla', 'plott hound', 'puli', 'portuguese podengo pequeno', 'entlebucher mountain dog', 'spanish water dog', 'swedish vallhund', 'curly-coated retriever', 'kuvasz', 'otterhound', 'dandie dinmont terrier', 'pharaoh hound', 'polish lowland sheepdog', 'american english coonhound', 'lowchen', 'sussex spaniel', 'finnish lapphund', 'norwegian buhund', 'chinook', 'pyrenean shepherd', 'komondor', 'skye terrier', 'finnish spitz', 'glen of imaal terrier', 'canaan dog', 'cesky terrier', 'cirneco dell’etna', 'bergamasco', 'harrier', 'english foxhound', 'norwegian lundehund', 'american foxhound']\n"
     ]
    }
   ],
   "source": [
    "print(len(breed_compile_dog))\n",
    "print(breed_compile_dog)"
   ]
  },
  {
   "cell_type": "code",
   "execution_count": 66,
   "metadata": {},
   "outputs": [
    {
     "name": "stdout",
     "output_type": "stream",
     "text": [
      "188\n",
      "['1', '2', '3', '4', '5', '6', '7', '8', '9', '10', '11', '12', '13', '14', '15', '16', '17', '18', '19', '20', '21', '22', '23', '24', '25', '26', '27', '28', '29', '30', '31', '32', '33', '34', '35', '36', '37', '38', '39', '40', '41', '42', '43', '44', '45', '46', '47', '48', '49', '50', '51', '52', '53', '54', '55', '56', '57', '58', '59', '60', '61', '63', '64', '65', '66', '66', '67', '68', '69', '70', '71', '72', '73', '74', '75', '76', '77', '78', '79', '80', '81', '82', '83', '84', '85', '86', '87', '88', '89', '90', '91', '92', '93', '94', '95', '96', '97', '98', '99', '100', '101', '102', '103', '104', '105', '106', '107', '108', '109', '110', '111', '112', '113', '114', '115', '116', '117', '118', '119', '120', '121', '122', '123', '124', '125', '126', '127', '128', '129', '130', '131', '132', '133', '134', '135', '136', '137', '138', '139', '140', '141', '142', '143', '144', '145', '146', '147', '148', '149', '150', '151', '152', '153', '154', '155', '156', '157', '158', '159', '160', '161', '162', '163', '164', '165', '166', '167', '168', '169', '170', '171', '172', '173', '174', '175', '176', '177', '178', '179', '180', '181', '182', '183', '184', '186', '187', '188', '189']\n"
     ]
    }
   ],
   "source": [
    "print(len(rank_compile_dog))\n",
    "print(rank_compile_dog)"
   ]
  },
  {
   "cell_type": "code",
   "execution_count": 67,
   "metadata": {},
   "outputs": [
    {
     "data": {
      "text/plain": [
       "[1,\n",
       " 2,\n",
       " 3,\n",
       " 4,\n",
       " 5,\n",
       " 6,\n",
       " 7,\n",
       " 8,\n",
       " 9,\n",
       " 10,\n",
       " 11,\n",
       " 12,\n",
       " 13,\n",
       " 14,\n",
       " 15,\n",
       " 16,\n",
       " 17,\n",
       " 18,\n",
       " 19,\n",
       " 20,\n",
       " 21,\n",
       " 22,\n",
       " 23,\n",
       " 24,\n",
       " 25,\n",
       " 26,\n",
       " 27,\n",
       " 28,\n",
       " 29,\n",
       " 30,\n",
       " 31,\n",
       " 32,\n",
       " 33,\n",
       " 34,\n",
       " 35,\n",
       " 36,\n",
       " 37,\n",
       " 38,\n",
       " 39,\n",
       " 40,\n",
       " 41,\n",
       " 42,\n",
       " 43,\n",
       " 44,\n",
       " 45,\n",
       " 46,\n",
       " 47,\n",
       " 48,\n",
       " 49,\n",
       " 50,\n",
       " 51,\n",
       " 52,\n",
       " 53,\n",
       " 54,\n",
       " 55,\n",
       " 56,\n",
       " 57,\n",
       " 58,\n",
       " 59,\n",
       " 60,\n",
       " 61,\n",
       " 63,\n",
       " 64,\n",
       " 65,\n",
       " 66,\n",
       " 66,\n",
       " 67,\n",
       " 68,\n",
       " 69,\n",
       " 70,\n",
       " 71,\n",
       " 72,\n",
       " 73,\n",
       " 74,\n",
       " 75,\n",
       " 76,\n",
       " 77,\n",
       " 78,\n",
       " 79,\n",
       " 80,\n",
       " 81,\n",
       " 82,\n",
       " 83,\n",
       " 84,\n",
       " 85,\n",
       " 86,\n",
       " 87,\n",
       " 88,\n",
       " 89,\n",
       " 90,\n",
       " 91,\n",
       " 92,\n",
       " 93,\n",
       " 94,\n",
       " 95,\n",
       " 96,\n",
       " 97,\n",
       " 98,\n",
       " 99,\n",
       " 100,\n",
       " 101,\n",
       " 102,\n",
       " 103,\n",
       " 104,\n",
       " 105,\n",
       " 106,\n",
       " 107,\n",
       " 108,\n",
       " 109,\n",
       " 110,\n",
       " 111,\n",
       " 112,\n",
       " 113,\n",
       " 114,\n",
       " 115,\n",
       " 116,\n",
       " 117,\n",
       " 118,\n",
       " 119,\n",
       " 120,\n",
       " 121,\n",
       " 122,\n",
       " 123,\n",
       " 124,\n",
       " 125,\n",
       " 126,\n",
       " 127,\n",
       " 128,\n",
       " 129,\n",
       " 130,\n",
       " 131,\n",
       " 132,\n",
       " 133,\n",
       " 134,\n",
       " 135,\n",
       " 136,\n",
       " 137,\n",
       " 138,\n",
       " 139,\n",
       " 140,\n",
       " 141,\n",
       " 142,\n",
       " 143,\n",
       " 144,\n",
       " 145,\n",
       " 146,\n",
       " 147,\n",
       " 148,\n",
       " 149,\n",
       " 150,\n",
       " 151,\n",
       " 152,\n",
       " 153,\n",
       " 154,\n",
       " 155,\n",
       " 156,\n",
       " 157,\n",
       " 158,\n",
       " 159,\n",
       " 160,\n",
       " 161,\n",
       " 162,\n",
       " 163,\n",
       " 164,\n",
       " 165,\n",
       " 166,\n",
       " 167,\n",
       " 168,\n",
       " 169,\n",
       " 170,\n",
       " 171,\n",
       " 172,\n",
       " 173,\n",
       " 174,\n",
       " 175,\n",
       " 176,\n",
       " 177,\n",
       " 178,\n",
       " 179,\n",
       " 180,\n",
       " 181,\n",
       " 182,\n",
       " 183,\n",
       " 184,\n",
       " 186,\n",
       " 187,\n",
       " 188,\n",
       " 189]"
      ]
     },
     "execution_count": 67,
     "metadata": {},
     "output_type": "execute_result"
    }
   ],
   "source": [
    "rank_compile_dog_numeric = []\n",
    "for item in rank_compile_dog:\n",
    "    rank_compile_dog_numeric.append(int(item))\n",
    "rank_compile_dog_numeric"
   ]
  },
  {
   "cell_type": "code",
   "execution_count": 68,
   "metadata": {},
   "outputs": [
    {
     "name": "stdout",
     "output_type": "stream",
     "text": [
      "{'bluetick coonhound': 121, 'xoloitzcuintli': 139, 'airedale terrier': 55, 'beagle': 5, 'bloodhound': 52, 'komondor': 177, 'toy fox terrier': 116, 'black and tan coonhound': 128, 'bedlington terrier': 138, 'finnish spitz': 179, 'bichon frise': 45, 'akita': 46, 'kerry blue terrier': 127, 'irish red and white setter': 142, 'dogue de bordeaux': 63, 'scottish terrier': 58, 'rottweiler': 8, 'shih tzu': 20, 'polish lowland sheepdog': 169, 'chinese crested': 77, 'miniature pinscher': 68, 'bernese mountain dog': 27, 'pomeranian': 22, 'havanese': 23, 'border collie': 38, 'wirehaired vizsla': 157, 'sussex spaniel': 172, 'greater swiss mountain dog': 78, 'norwich terrier': 103, 'maltese': 33, 'great dane': 14, 'giant schnauzer': 79, 'glen of imaal terrier': 180, 'french bulldog': 6, 'flat-coated retriever': 89, 'norwegian buhund': 174, 'harrier': 186, 'weimaraner': 34, 'leonberger': 95, 'american eskimo dog': 122, 'wire fox terrier': 101, 'jack russell terrier': 90, 'pointer': 117, 'american water spaniel': 156, 'rat terrier': 96, 'basenji': 88, 'portuguese podengo pequeno': 160, 'bullmastiff': 48, 'american hairless terrier': 106, 'sealyham terrier': 155, 'manchester terrier': 133, 'boykin spaniel': 110, 'chinook': 175, 'poodle': 7, 'keeshond': 92, 'whippet': 60, 'black russian terrier': 119, 'japanese chin': 108, 'boxer': 10, 'old english sheepdog': 75, 'bouvier des flandres': 83, 'tibetan mastiff': 135, 'bull terrier': 57, 'gordon setter': 104, 'english setter': 102, 'tibetan terrier': 91, 'beauceron': 140, 'finnish lapphund': 173, 'golden retriever': 3, 'irish water spaniel': 150, 'afghan hound': 113, 'smooth fox terrier': 124, 'scottish deerhound': 154, 'boerboel': 131, 'norfolk terrier': 134, 'miniature schnauzer': 17, 'pekingese': 93, 'border terrier': 86, 'briard': 132, 'shetland sheepdog': 24, 'affenpinscher': 149, 'australian cattle dog': 54, 'irish setter': 76, 'rhodesian ridgeback': 42, 'curly-coated retriever': 164, 'spinone italiano': 105, 'standard schnauzer': 85, 'german pinscher': 146, 'brussels griffon': 97, 'american cocker spaniel': 29, 'wirehaired pointing griffon': 66, 'tibetan spaniel': 118, 'anatolian shepherd dog': 84, 'plott hound': 158, 'mastiff': 28, 'norwegian lundehund': 188, 'coton de tulear': 80, 'skye terrier': 178, 'petit basset griffon vendeen': 148, 'cairn terrier': 70, 'cardigan welsh corgi': 69, 'dandie dinmont terrier': 167, 'ibizan hound': 152, 'lakeland terrier': 145, 'english toy spaniel': 130, 'yorkshire terrier': 9, 'soft coated wheaten terrier': 50, 'welsh terrier': 111, 'portuguese water dog': 51, 'nova scotia duck tolling retriever': 87, 'irish wolfhound': 73, 'parson russell terrier': 109, 'dachshund': 13, 'chesapeake bay retriever': 43, 'lowchen': 171, 'dalmatian': 66, 'berger picard': 141, 'chihuahua': 30, 'belgian malinois': 47, 'cesky terrier': 182, 'redbone coonhound': 143, 'spanish water dog': 162, 'clumber spaniel': 144, 'australian shepherd': 16, 'doberman pinscher': 15, 'icelandic sheepdog': 153, 'miniature american shepherd': 36, 'basset hound': 39, 'labrador retriever': 1, 'collie': 37, 'italian greyhound': 72, 'puli': 159, 'silky terrier': 100, 'bulldog': 4, 'welsh springer spaniel': 123, 'norwegian elkhound': 94, 'english springer spaniel': 26, 'german shepherd': 2, 'greyhound': 151, 'belgian tervuren': 107, 'cirneco dell’etna': 183, 'papillon': 53, 'belgian sheepdog': 129, 'staffordshire bull terrier': 82, 'entlebucher mountain dog': 161, 'pembroke welsh corgi': 18, 'australian terrier': 136, 'american foxhound': 189, 'great pyrenees': 67, 'lhasa apso': 71, 'field spaniel': 147, 'west highland white terrier': 41, 'irish terrier': 115, 'schipperke': 112, 'american english coonhound': 170, 'cane corso': 40, 'miniature bull terrier': 120, 'alaskan malamute': 59, 'pyrenean shepherd': 176, 'canaan dog': 181, 'vizsla': 31, 'cavalier king charles spaniel': 19, 'bergamasco': 184, 'english cocker spaniel': 56, 'english foxhound': 187, 'treeing walker coonhound': 137, 'bearded collie': 126, 'neapolitan mastiff': 99, 'boston terrier': 21, 'lagotto romagnolo': 114, 'pug': 32, 'newfoundland': 35, 'chow chow': 74, 'siberian husky': 12, 'borzoi': 98, 'saluki': 125, 'swedish vallhund': 163, 'otterhound': 166, 'kuvasz': 165, 'shiba inu': 44, 'american staffordshire terrier': 81, 'st. bernard': 49, 'brittany': 25, 'pharaoh hound': 168, 'german wirehaired pointer': 64, 'samoyed': 65, 'shar-pei': 61, 'german shorthaired pointer': 11}\n"
     ]
    }
   ],
   "source": [
    "rank_dict_dog = {}\n",
    "for breed, rank in zip(breed_compile_dog, rank_compile_dog_numeric):\n",
    "    rank_dict_dog[breed] = rank\n",
    "print(rank_dict_dog)"
   ]
  },
  {
   "cell_type": "code",
   "execution_count": null,
   "metadata": {
    "collapsed": true
   },
   "outputs": [],
   "source": []
  },
  {
   "cell_type": "code",
   "execution_count": null,
   "metadata": {
    "collapsed": true
   },
   "outputs": [],
   "source": []
  },
  {
   "cell_type": "code",
   "execution_count": 69,
   "metadata": {},
   "outputs": [
    {
     "data": {
      "text/plain": [
       "domestic      14845\n",
       "medium         8846\n",
       "small          6765\n",
       "mix            4357\n",
       "large          2059\n",
       "medium_cat      928\n",
       "giant           257\n",
       "large_cat       122\n",
       "unknown           4\n",
       "small_cat         2\n",
       "Name: Size, dtype: int64"
      ]
     },
     "execution_count": 69,
     "metadata": {},
     "output_type": "execute_result"
    }
   ],
   "source": [
    "data_combined['Size'].value_counts()"
   ]
  },
  {
   "cell_type": "code",
   "execution_count": 70,
   "metadata": {},
   "outputs": [
    {
     "data": {
      "text/plain": [
       "1    22251\n",
       "0    15934\n",
       "Name: AnimalType, dtype: int64"
      ]
     },
     "execution_count": 70,
     "metadata": {},
     "output_type": "execute_result"
    }
   ],
   "source": [
    "#1 for dog and 0 for cat\n",
    "data_combined['AnimalType'].value_counts()"
   ]
  },
  {
   "cell_type": "markdown",
   "metadata": {},
   "source": [
    "#### 고양이의 경우 전체 (train.csv + test.csv) 15934데이터중 14845개가 domestic type인것으로 확인되었다. 고양이는 굳이 선호도 랭킹을 적용할 필요없고 강아지 랭킹 column에 고양이일 경우도 그냥 0값으로 대체하는것이 좋을것을 판단됨."
   ]
  },
  {
   "cell_type": "code",
   "execution_count": 71,
   "metadata": {},
   "outputs": [
    {
     "data": {
      "text/plain": [
       "0                     shetland sheepdog\n",
       "1                    domestic shorthair\n",
       "2                              pit bull\n",
       "3                    domestic shorthair\n",
       "4                            lhasa apso\n",
       "5                         cairn terrier\n",
       "6                    domestic shorthair\n",
       "7                    domestic shorthair\n",
       "8             american pit bull terrier\n",
       "9                         cairn terrier\n",
       "10                   domestic shorthair\n",
       "11                  miniature schnauzer\n",
       "12                             pit bull\n",
       "13                    yorkshire terrier\n",
       "14                       great pyrenees\n",
       "15                   domestic shorthair\n",
       "16                   domestic shorthair\n",
       "17                             pit bull\n",
       "18                               angora\n",
       "19                flat-coated retriever\n",
       "20                australian cattle dog\n",
       "21                   domestic shorthair\n",
       "22                          plott hound\n",
       "23                      german shepherd\n",
       "24                      german shepherd\n",
       "25                   domestic shorthair\n",
       "26       american staffordshire terrier\n",
       "27                            chihuahua\n",
       "28                   domestic shorthair\n",
       "29                         russian blue\n",
       "                      ...              \n",
       "11426                             boxer\n",
       "11427         american pit bull terrier\n",
       "11428                    siberian husky\n",
       "11429                   german shepherd\n",
       "11430                domestic shorthair\n",
       "11431                domestic shorthair\n",
       "11432                           maltese\n",
       "11433                domestic shorthair\n",
       "11434              cardigan welsh corgi\n",
       "11435                domestic shorthair\n",
       "11436                domestic shorthair\n",
       "11437                chihuahua longhair\n",
       "11438                labrador retriever\n",
       "11439                          pit bull\n",
       "11440                domestic shorthair\n",
       "11441                          pit bull\n",
       "11442                         chihuahua\n",
       "11443                 domestic longhair\n",
       "11444                domestic shorthair\n",
       "11445                domestic shorthair\n",
       "11446                domestic shorthair\n",
       "11447                         chihuahua\n",
       "11448                labrador retriever\n",
       "11449                    bearded collie\n",
       "11450                     staffordshire\n",
       "11451                domestic shorthair\n",
       "11452                domestic shorthair\n",
       "11453                domestic shorthair\n",
       "11454                   german shepherd\n",
       "11455                labrador retriever\n",
       "Name: Main_Breed, Length: 38185, dtype: object"
      ]
     },
     "execution_count": 71,
     "metadata": {},
     "output_type": "execute_result"
    }
   ],
   "source": [
    "temp = data_combined['Main_Breed']\n",
    "temp"
   ]
  },
  {
   "cell_type": "code",
   "execution_count": 72,
   "metadata": {},
   "outputs": [
    {
     "data": {
      "text/plain": [
       "0         24.0\n",
       "1          NaN\n",
       "2          NaN\n",
       "3          NaN\n",
       "4         71.0\n",
       "5         70.0\n",
       "6          NaN\n",
       "7          NaN\n",
       "8          NaN\n",
       "9         70.0\n",
       "10         NaN\n",
       "11        17.0\n",
       "12         NaN\n",
       "13         9.0\n",
       "14        67.0\n",
       "15         NaN\n",
       "16         NaN\n",
       "17         NaN\n",
       "18         NaN\n",
       "19        89.0\n",
       "20        54.0\n",
       "21         NaN\n",
       "22       158.0\n",
       "23         2.0\n",
       "24         2.0\n",
       "25         NaN\n",
       "26        81.0\n",
       "27        30.0\n",
       "28         NaN\n",
       "29         NaN\n",
       "         ...  \n",
       "11426     10.0\n",
       "11427      NaN\n",
       "11428     12.0\n",
       "11429      2.0\n",
       "11430      NaN\n",
       "11431      NaN\n",
       "11432     33.0\n",
       "11433      NaN\n",
       "11434     69.0\n",
       "11435      NaN\n",
       "11436      NaN\n",
       "11437      NaN\n",
       "11438      1.0\n",
       "11439      NaN\n",
       "11440      NaN\n",
       "11441      NaN\n",
       "11442     30.0\n",
       "11443      NaN\n",
       "11444      NaN\n",
       "11445      NaN\n",
       "11446      NaN\n",
       "11447     30.0\n",
       "11448      1.0\n",
       "11449    126.0\n",
       "11450      NaN\n",
       "11451      NaN\n",
       "11452      NaN\n",
       "11453      NaN\n",
       "11454      2.0\n",
       "11455      1.0\n",
       "Name: Main_Breed, Length: 38185, dtype: float64"
      ]
     },
     "execution_count": 72,
     "metadata": {},
     "output_type": "execute_result"
    }
   ],
   "source": [
    "temp2 = temp.map(rank_dict_dog)\n",
    "temp2"
   ]
  },
  {
   "cell_type": "code",
   "execution_count": 73,
   "metadata": {},
   "outputs": [
    {
     "data": {
      "text/plain": [
       "0        166.0\n",
       "1          NaN\n",
       "2          NaN\n",
       "3          NaN\n",
       "4        119.0\n",
       "5        120.0\n",
       "6          NaN\n",
       "7          NaN\n",
       "8          NaN\n",
       "9        120.0\n",
       "10         NaN\n",
       "11       173.0\n",
       "12         NaN\n",
       "13       181.0\n",
       "14       123.0\n",
       "15         NaN\n",
       "16         NaN\n",
       "17         NaN\n",
       "18         NaN\n",
       "19       101.0\n",
       "20       136.0\n",
       "21         NaN\n",
       "22        32.0\n",
       "23       188.0\n",
       "24       188.0\n",
       "25         NaN\n",
       "26       109.0\n",
       "27       160.0\n",
       "28         NaN\n",
       "29         NaN\n",
       "         ...  \n",
       "11426    180.0\n",
       "11427      NaN\n",
       "11428    178.0\n",
       "11429    188.0\n",
       "11430      NaN\n",
       "11431      NaN\n",
       "11432    157.0\n",
       "11433      NaN\n",
       "11434    121.0\n",
       "11435      NaN\n",
       "11436      NaN\n",
       "11437      NaN\n",
       "11438    189.0\n",
       "11439      NaN\n",
       "11440      NaN\n",
       "11441      NaN\n",
       "11442    160.0\n",
       "11443      NaN\n",
       "11444      NaN\n",
       "11445      NaN\n",
       "11446      NaN\n",
       "11447    160.0\n",
       "11448    189.0\n",
       "11449     64.0\n",
       "11450      NaN\n",
       "11451      NaN\n",
       "11452      NaN\n",
       "11453      NaN\n",
       "11454    188.0\n",
       "11455    189.0\n",
       "Name: Main_Breed, Length: 38185, dtype: float64"
      ]
     },
     "execution_count": 73,
     "metadata": {},
     "output_type": "execute_result"
    }
   ],
   "source": [
    "temp2 = 190 - temp2\n",
    "temp2"
   ]
  },
  {
   "cell_type": "code",
   "execution_count": 74,
   "metadata": {},
   "outputs": [
    {
     "data": {
      "text/plain": [
       "0        166.0\n",
       "1          0.0\n",
       "2          0.0\n",
       "3          0.0\n",
       "4        119.0\n",
       "5        120.0\n",
       "6          0.0\n",
       "7          0.0\n",
       "8          0.0\n",
       "9        120.0\n",
       "10         0.0\n",
       "11       173.0\n",
       "12         0.0\n",
       "13       181.0\n",
       "14       123.0\n",
       "15         0.0\n",
       "16         0.0\n",
       "17         0.0\n",
       "18         0.0\n",
       "19       101.0\n",
       "20       136.0\n",
       "21         0.0\n",
       "22        32.0\n",
       "23       188.0\n",
       "24       188.0\n",
       "25         0.0\n",
       "26       109.0\n",
       "27       160.0\n",
       "28         0.0\n",
       "29         0.0\n",
       "         ...  \n",
       "11426    180.0\n",
       "11427      0.0\n",
       "11428    178.0\n",
       "11429    188.0\n",
       "11430      0.0\n",
       "11431      0.0\n",
       "11432    157.0\n",
       "11433      0.0\n",
       "11434    121.0\n",
       "11435      0.0\n",
       "11436      0.0\n",
       "11437      0.0\n",
       "11438    189.0\n",
       "11439      0.0\n",
       "11440      0.0\n",
       "11441      0.0\n",
       "11442    160.0\n",
       "11443      0.0\n",
       "11444      0.0\n",
       "11445      0.0\n",
       "11446      0.0\n",
       "11447    160.0\n",
       "11448    189.0\n",
       "11449     64.0\n",
       "11450      0.0\n",
       "11451      0.0\n",
       "11452      0.0\n",
       "11453      0.0\n",
       "11454    188.0\n",
       "11455    189.0\n",
       "Name: Main_Breed, Length: 38185, dtype: float64"
      ]
     },
     "execution_count": 74,
     "metadata": {},
     "output_type": "execute_result"
    }
   ],
   "source": [
    "temp2.fillna(0, inplace = True)\n",
    "temp2"
   ]
  },
  {
   "cell_type": "code",
   "execution_count": 75,
   "metadata": {},
   "outputs": [
    {
     "name": "stdout",
     "output_type": "stream",
     "text": [
      "<class 'pandas.core.series.Series'>\n",
      "(38185,)\n"
     ]
    }
   ],
   "source": [
    "print(type(temp2))\n",
    "print(temp2.shape)"
   ]
  },
  {
   "cell_type": "code",
   "execution_count": 76,
   "metadata": {
    "collapsed": true
   },
   "outputs": [],
   "source": [
    "data_combined['Rank'] = temp2"
   ]
  },
  {
   "cell_type": "code",
   "execution_count": 77,
   "metadata": {},
   "outputs": [
    {
     "data": {
      "text/html": [
       "<div>\n",
       "<style>\n",
       "    .dataframe thead tr:only-child th {\n",
       "        text-align: right;\n",
       "    }\n",
       "\n",
       "    .dataframe thead th {\n",
       "        text-align: left;\n",
       "    }\n",
       "\n",
       "    .dataframe tbody tr th {\n",
       "        vertical-align: top;\n",
       "    }\n",
       "</style>\n",
       "<table border=\"1\" class=\"dataframe\">\n",
       "  <thead>\n",
       "    <tr style=\"text-align: right;\">\n",
       "      <th></th>\n",
       "      <th>AnimalID</th>\n",
       "      <th>Name</th>\n",
       "      <th>DateTime</th>\n",
       "      <th>AnimalType</th>\n",
       "      <th>SexuponOutcome</th>\n",
       "      <th>AgeuponOutcome</th>\n",
       "      <th>Breed</th>\n",
       "      <th>Color</th>\n",
       "      <th>Date</th>\n",
       "      <th>OutcomeYear</th>\n",
       "      <th>OutcomeMonth</th>\n",
       "      <th>OutcomeDay</th>\n",
       "      <th>OutcomeHour</th>\n",
       "      <th>OutcomeSeason</th>\n",
       "      <th>Size</th>\n",
       "      <th>Main_Breed</th>\n",
       "      <th>Sub_Breed</th>\n",
       "      <th>Rank</th>\n",
       "    </tr>\n",
       "  </thead>\n",
       "  <tbody>\n",
       "    <tr>\n",
       "      <th>11451</th>\n",
       "      <td>11452</td>\n",
       "      <td>No Name</td>\n",
       "      <td>2014-07-08 14:50</td>\n",
       "      <td>0</td>\n",
       "      <td>Neutered Male</td>\n",
       "      <td>60.0</td>\n",
       "      <td>Domestic Shorthair Mix</td>\n",
       "      <td>Black</td>\n",
       "      <td>201407</td>\n",
       "      <td>2014</td>\n",
       "      <td>07</td>\n",
       "      <td>08</td>\n",
       "      <td>14</td>\n",
       "      <td>summer</td>\n",
       "      <td>domestic</td>\n",
       "      <td>domestic shorthair</td>\n",
       "      <td>NA</td>\n",
       "      <td>0.0</td>\n",
       "    </tr>\n",
       "    <tr>\n",
       "      <th>11452</th>\n",
       "      <td>11453</td>\n",
       "      <td>No Name</td>\n",
       "      <td>2014-10-21 12:57</td>\n",
       "      <td>0</td>\n",
       "      <td>Intact Female</td>\n",
       "      <td>14.0</td>\n",
       "      <td>Domestic Shorthair Mix</td>\n",
       "      <td>Blue</td>\n",
       "      <td>201410</td>\n",
       "      <td>2014</td>\n",
       "      <td>10</td>\n",
       "      <td>21</td>\n",
       "      <td>12</td>\n",
       "      <td>fall</td>\n",
       "      <td>domestic</td>\n",
       "      <td>domestic shorthair</td>\n",
       "      <td>NA</td>\n",
       "      <td>0.0</td>\n",
       "    </tr>\n",
       "    <tr>\n",
       "      <th>11453</th>\n",
       "      <td>11454</td>\n",
       "      <td>No Name</td>\n",
       "      <td>2014-09-29 9:00</td>\n",
       "      <td>0</td>\n",
       "      <td>Intact Female</td>\n",
       "      <td>365.0</td>\n",
       "      <td>Domestic Shorthair Mix</td>\n",
       "      <td>Calico</td>\n",
       "      <td>201409</td>\n",
       "      <td>2014</td>\n",
       "      <td>09</td>\n",
       "      <td>29</td>\n",
       "      <td>9:</td>\n",
       "      <td>fall</td>\n",
       "      <td>domestic</td>\n",
       "      <td>domestic shorthair</td>\n",
       "      <td>NA</td>\n",
       "      <td>0.0</td>\n",
       "    </tr>\n",
       "    <tr>\n",
       "      <th>11454</th>\n",
       "      <td>11455</td>\n",
       "      <td>Name</td>\n",
       "      <td>2015-09-05 17:16</td>\n",
       "      <td>1</td>\n",
       "      <td>Neutered Male</td>\n",
       "      <td>2190.0</td>\n",
       "      <td>German Shepherd Mix</td>\n",
       "      <td>Black/Tan</td>\n",
       "      <td>201509</td>\n",
       "      <td>2015</td>\n",
       "      <td>09</td>\n",
       "      <td>05</td>\n",
       "      <td>17</td>\n",
       "      <td>fall</td>\n",
       "      <td>large</td>\n",
       "      <td>german shepherd</td>\n",
       "      <td>NA</td>\n",
       "      <td>188.0</td>\n",
       "    </tr>\n",
       "    <tr>\n",
       "      <th>11455</th>\n",
       "      <td>11456</td>\n",
       "      <td>Name</td>\n",
       "      <td>2014-07-12 18:40</td>\n",
       "      <td>1</td>\n",
       "      <td>Intact Male</td>\n",
       "      <td>1460.0</td>\n",
       "      <td>Labrador Retriever</td>\n",
       "      <td>Cream</td>\n",
       "      <td>201407</td>\n",
       "      <td>2014</td>\n",
       "      <td>07</td>\n",
       "      <td>12</td>\n",
       "      <td>18</td>\n",
       "      <td>summer</td>\n",
       "      <td>medium</td>\n",
       "      <td>labrador retriever</td>\n",
       "      <td>NA</td>\n",
       "      <td>189.0</td>\n",
       "    </tr>\n",
       "  </tbody>\n",
       "</table>\n",
       "</div>"
      ],
      "text/plain": [
       "      AnimalID     Name          DateTime  AnimalType SexuponOutcome  \\\n",
       "11451    11452  No Name  2014-07-08 14:50           0  Neutered Male   \n",
       "11452    11453  No Name  2014-10-21 12:57           0  Intact Female   \n",
       "11453    11454  No Name   2014-09-29 9:00           0  Intact Female   \n",
       "11454    11455     Name  2015-09-05 17:16           1  Neutered Male   \n",
       "11455    11456     Name  2014-07-12 18:40           1    Intact Male   \n",
       "\n",
       "       AgeuponOutcome                   Breed      Color    Date OutcomeYear  \\\n",
       "11451            60.0  Domestic Shorthair Mix      Black  201407        2014   \n",
       "11452            14.0  Domestic Shorthair Mix       Blue  201410        2014   \n",
       "11453           365.0  Domestic Shorthair Mix     Calico  201409        2014   \n",
       "11454          2190.0     German Shepherd Mix  Black/Tan  201509        2015   \n",
       "11455          1460.0      Labrador Retriever      Cream  201407        2014   \n",
       "\n",
       "      OutcomeMonth OutcomeDay OutcomeHour OutcomeSeason      Size  \\\n",
       "11451           07         08          14        summer  domestic   \n",
       "11452           10         21          12          fall  domestic   \n",
       "11453           09         29          9:          fall  domestic   \n",
       "11454           09         05          17          fall     large   \n",
       "11455           07         12          18        summer    medium   \n",
       "\n",
       "               Main_Breed Sub_Breed   Rank  \n",
       "11451  domestic shorthair        NA    0.0  \n",
       "11452  domestic shorthair        NA    0.0  \n",
       "11453  domestic shorthair        NA    0.0  \n",
       "11454     german shepherd        NA  188.0  \n",
       "11455  labrador retriever        NA  189.0  "
      ]
     },
     "execution_count": 77,
     "metadata": {},
     "output_type": "execute_result"
    }
   ],
   "source": [
    "#Data display\n",
    "data_combined.tail()"
   ]
  },
  {
   "cell_type": "code",
   "execution_count": 78,
   "metadata": {},
   "outputs": [
    {
     "data": {
      "text/plain": [
       "(38185, 18)"
      ]
     },
     "execution_count": 78,
     "metadata": {},
     "output_type": "execute_result"
    }
   ],
   "source": [
    "data_combined.shape"
   ]
  },
  {
   "cell_type": "code",
   "execution_count": null,
   "metadata": {
    "collapsed": true
   },
   "outputs": [],
   "source": []
  },
  {
   "cell_type": "markdown",
   "metadata": {},
   "source": [
    "### 7. Color"
   ]
  },
  {
   "cell_type": "code",
   "execution_count": 79,
   "metadata": {
    "collapsed": true
   },
   "outputs": [],
   "source": [
    "#Color Separator\n",
    "color_list = list(data_combined['Color'])\n",
    "main_color, sub_color = main_sub_separator(color_list)\n",
    "data_combined['Main_Color'], data_combined['Sub_Color'] = main_color, sub_color"
   ]
  },
  {
   "cell_type": "code",
   "execution_count": null,
   "metadata": {
    "collapsed": true
   },
   "outputs": [],
   "source": []
  },
  {
   "cell_type": "code",
   "execution_count": 80,
   "metadata": {},
   "outputs": [
    {
     "data": {
      "text/html": [
       "<div>\n",
       "<style>\n",
       "    .dataframe thead tr:only-child th {\n",
       "        text-align: right;\n",
       "    }\n",
       "\n",
       "    .dataframe thead th {\n",
       "        text-align: left;\n",
       "    }\n",
       "\n",
       "    .dataframe tbody tr th {\n",
       "        vertical-align: top;\n",
       "    }\n",
       "</style>\n",
       "<table border=\"1\" class=\"dataframe\">\n",
       "  <thead>\n",
       "    <tr style=\"text-align: right;\">\n",
       "      <th></th>\n",
       "      <th>AnimalID</th>\n",
       "      <th>Name</th>\n",
       "      <th>DateTime</th>\n",
       "      <th>AnimalType</th>\n",
       "      <th>SexuponOutcome</th>\n",
       "      <th>AgeuponOutcome</th>\n",
       "      <th>Breed</th>\n",
       "      <th>Color</th>\n",
       "      <th>Date</th>\n",
       "      <th>OutcomeYear</th>\n",
       "      <th>OutcomeMonth</th>\n",
       "      <th>OutcomeDay</th>\n",
       "      <th>OutcomeHour</th>\n",
       "      <th>OutcomeSeason</th>\n",
       "      <th>Size</th>\n",
       "      <th>Main_Breed</th>\n",
       "      <th>Sub_Breed</th>\n",
       "      <th>Rank</th>\n",
       "      <th>Main_Color</th>\n",
       "      <th>Sub_Color</th>\n",
       "    </tr>\n",
       "  </thead>\n",
       "  <tbody>\n",
       "    <tr>\n",
       "      <th>11451</th>\n",
       "      <td>11452</td>\n",
       "      <td>No Name</td>\n",
       "      <td>2014-07-08 14:50</td>\n",
       "      <td>0</td>\n",
       "      <td>Neutered Male</td>\n",
       "      <td>60.0</td>\n",
       "      <td>Domestic Shorthair Mix</td>\n",
       "      <td>Black</td>\n",
       "      <td>201407</td>\n",
       "      <td>2014</td>\n",
       "      <td>07</td>\n",
       "      <td>08</td>\n",
       "      <td>14</td>\n",
       "      <td>summer</td>\n",
       "      <td>domestic</td>\n",
       "      <td>domestic shorthair</td>\n",
       "      <td>NA</td>\n",
       "      <td>0.0</td>\n",
       "      <td>Black</td>\n",
       "      <td>NA</td>\n",
       "    </tr>\n",
       "    <tr>\n",
       "      <th>11452</th>\n",
       "      <td>11453</td>\n",
       "      <td>No Name</td>\n",
       "      <td>2014-10-21 12:57</td>\n",
       "      <td>0</td>\n",
       "      <td>Intact Female</td>\n",
       "      <td>14.0</td>\n",
       "      <td>Domestic Shorthair Mix</td>\n",
       "      <td>Blue</td>\n",
       "      <td>201410</td>\n",
       "      <td>2014</td>\n",
       "      <td>10</td>\n",
       "      <td>21</td>\n",
       "      <td>12</td>\n",
       "      <td>fall</td>\n",
       "      <td>domestic</td>\n",
       "      <td>domestic shorthair</td>\n",
       "      <td>NA</td>\n",
       "      <td>0.0</td>\n",
       "      <td>Blue</td>\n",
       "      <td>NA</td>\n",
       "    </tr>\n",
       "    <tr>\n",
       "      <th>11453</th>\n",
       "      <td>11454</td>\n",
       "      <td>No Name</td>\n",
       "      <td>2014-09-29 9:00</td>\n",
       "      <td>0</td>\n",
       "      <td>Intact Female</td>\n",
       "      <td>365.0</td>\n",
       "      <td>Domestic Shorthair Mix</td>\n",
       "      <td>Calico</td>\n",
       "      <td>201409</td>\n",
       "      <td>2014</td>\n",
       "      <td>09</td>\n",
       "      <td>29</td>\n",
       "      <td>9:</td>\n",
       "      <td>fall</td>\n",
       "      <td>domestic</td>\n",
       "      <td>domestic shorthair</td>\n",
       "      <td>NA</td>\n",
       "      <td>0.0</td>\n",
       "      <td>Calico</td>\n",
       "      <td>NA</td>\n",
       "    </tr>\n",
       "    <tr>\n",
       "      <th>11454</th>\n",
       "      <td>11455</td>\n",
       "      <td>Name</td>\n",
       "      <td>2015-09-05 17:16</td>\n",
       "      <td>1</td>\n",
       "      <td>Neutered Male</td>\n",
       "      <td>2190.0</td>\n",
       "      <td>German Shepherd Mix</td>\n",
       "      <td>Black/Tan</td>\n",
       "      <td>201509</td>\n",
       "      <td>2015</td>\n",
       "      <td>09</td>\n",
       "      <td>05</td>\n",
       "      <td>17</td>\n",
       "      <td>fall</td>\n",
       "      <td>large</td>\n",
       "      <td>german shepherd</td>\n",
       "      <td>NA</td>\n",
       "      <td>188.0</td>\n",
       "      <td>Black</td>\n",
       "      <td>Tan</td>\n",
       "    </tr>\n",
       "    <tr>\n",
       "      <th>11455</th>\n",
       "      <td>11456</td>\n",
       "      <td>Name</td>\n",
       "      <td>2014-07-12 18:40</td>\n",
       "      <td>1</td>\n",
       "      <td>Intact Male</td>\n",
       "      <td>1460.0</td>\n",
       "      <td>Labrador Retriever</td>\n",
       "      <td>Cream</td>\n",
       "      <td>201407</td>\n",
       "      <td>2014</td>\n",
       "      <td>07</td>\n",
       "      <td>12</td>\n",
       "      <td>18</td>\n",
       "      <td>summer</td>\n",
       "      <td>medium</td>\n",
       "      <td>labrador retriever</td>\n",
       "      <td>NA</td>\n",
       "      <td>189.0</td>\n",
       "      <td>Cream</td>\n",
       "      <td>NA</td>\n",
       "    </tr>\n",
       "  </tbody>\n",
       "</table>\n",
       "</div>"
      ],
      "text/plain": [
       "      AnimalID     Name          DateTime  AnimalType SexuponOutcome  \\\n",
       "11451    11452  No Name  2014-07-08 14:50           0  Neutered Male   \n",
       "11452    11453  No Name  2014-10-21 12:57           0  Intact Female   \n",
       "11453    11454  No Name   2014-09-29 9:00           0  Intact Female   \n",
       "11454    11455     Name  2015-09-05 17:16           1  Neutered Male   \n",
       "11455    11456     Name  2014-07-12 18:40           1    Intact Male   \n",
       "\n",
       "       AgeuponOutcome                   Breed      Color    Date OutcomeYear  \\\n",
       "11451            60.0  Domestic Shorthair Mix      Black  201407        2014   \n",
       "11452            14.0  Domestic Shorthair Mix       Blue  201410        2014   \n",
       "11453           365.0  Domestic Shorthair Mix     Calico  201409        2014   \n",
       "11454          2190.0     German Shepherd Mix  Black/Tan  201509        2015   \n",
       "11455          1460.0      Labrador Retriever      Cream  201407        2014   \n",
       "\n",
       "      OutcomeMonth OutcomeDay OutcomeHour OutcomeSeason      Size  \\\n",
       "11451           07         08          14        summer  domestic   \n",
       "11452           10         21          12          fall  domestic   \n",
       "11453           09         29          9:          fall  domestic   \n",
       "11454           09         05          17          fall     large   \n",
       "11455           07         12          18        summer    medium   \n",
       "\n",
       "               Main_Breed Sub_Breed   Rank Main_Color Sub_Color  \n",
       "11451  domestic shorthair        NA    0.0      Black        NA  \n",
       "11452  domestic shorthair        NA    0.0       Blue        NA  \n",
       "11453  domestic shorthair        NA    0.0     Calico        NA  \n",
       "11454     german shepherd        NA  188.0      Black       Tan  \n",
       "11455  labrador retriever        NA  189.0      Cream        NA  "
      ]
     },
     "execution_count": 80,
     "metadata": {},
     "output_type": "execute_result"
    }
   ],
   "source": [
    "data_combined.tail()"
   ]
  },
  {
   "cell_type": "code",
   "execution_count": 81,
   "metadata": {},
   "outputs": [
    {
     "data": {
      "text/plain": [
       "AnimalID              0\n",
       "Name                  0\n",
       "DateTime              0\n",
       "OutcomeType           0\n",
       "OutcomeSubtype    13612\n",
       "AnimalType            0\n",
       "SexuponOutcome        1\n",
       "AgeuponOutcome       18\n",
       "Breed                 0\n",
       "Color                 0\n",
       "Date                  0\n",
       "OutcomeYear           0\n",
       "OutcomeMonth          0\n",
       "OutcomeDay            0\n",
       "OutcomeHour           0\n",
       "OutcomeSeason         0\n",
       "dtype: int64"
      ]
     },
     "execution_count": 81,
     "metadata": {},
     "output_type": "execute_result"
    }
   ],
   "source": [
    "data_train.isnull().sum()"
   ]
  },
  {
   "cell_type": "code",
   "execution_count": null,
   "metadata": {
    "collapsed": true
   },
   "outputs": [],
   "source": []
  },
  {
   "cell_type": "markdown",
   "metadata": {},
   "source": [
    "### One-Hot-Encoding"
   ]
  },
  {
   "cell_type": "code",
   "execution_count": 82,
   "metadata": {
    "collapsed": true
   },
   "outputs": [],
   "source": [
    "# get_dummies 를 이용한 One-Hot-Encoding\n",
    "\n",
    "main_color_gd = pd.get_dummies(data_combined[['Main_Color']])\n",
    "sub_color_gd = pd.get_dummies(data_combined[['Sub_Color']])\n",
    "main_breed_gd = pd.get_dummies(data_combined[['Main_Breed']])\n",
    "sub_breed_gd = pd.get_dummies(data_combined[['Sub_Breed']])\n",
    "year_gd = pd.get_dummies(data_combined[['OutcomeYear']])\n",
    "month_gd = pd.get_dummies(data_combined[['OutcomeMonth']])\n",
    "day_gd = pd.get_dummies(data_combined[['OutcomeDay']])\n",
    "hour_gd = pd.get_dummies(data_combined[['OutcomeHour']])\n",
    "size_gd = pd.get_dummies(data_combined['Size'])\n",
    "sex_gd = pd.get_dummies(data_combined['SexuponOutcome'])\n",
    "season_gd = pd.get_dummies(data_combined[['OutcomeSeason']])"
   ]
  },
  {
   "cell_type": "code",
   "execution_count": 83,
   "metadata": {},
   "outputs": [
    {
     "data": {
      "text/html": [
       "<div>\n",
       "<style>\n",
       "    .dataframe thead tr:only-child th {\n",
       "        text-align: right;\n",
       "    }\n",
       "\n",
       "    .dataframe thead th {\n",
       "        text-align: left;\n",
       "    }\n",
       "\n",
       "    .dataframe tbody tr th {\n",
       "        vertical-align: top;\n",
       "    }\n",
       "</style>\n",
       "<table border=\"1\" class=\"dataframe\">\n",
       "  <thead>\n",
       "    <tr style=\"text-align: right;\">\n",
       "      <th></th>\n",
       "      <th>OutcomeYear_2013</th>\n",
       "      <th>OutcomeYear_2014</th>\n",
       "      <th>OutcomeYear_2015</th>\n",
       "      <th>OutcomeYear_2016</th>\n",
       "    </tr>\n",
       "  </thead>\n",
       "  <tbody>\n",
       "    <tr>\n",
       "      <th>0</th>\n",
       "      <td>0</td>\n",
       "      <td>1</td>\n",
       "      <td>0</td>\n",
       "      <td>0</td>\n",
       "    </tr>\n",
       "    <tr>\n",
       "      <th>1</th>\n",
       "      <td>1</td>\n",
       "      <td>0</td>\n",
       "      <td>0</td>\n",
       "      <td>0</td>\n",
       "    </tr>\n",
       "    <tr>\n",
       "      <th>2</th>\n",
       "      <td>0</td>\n",
       "      <td>0</td>\n",
       "      <td>1</td>\n",
       "      <td>0</td>\n",
       "    </tr>\n",
       "    <tr>\n",
       "      <th>3</th>\n",
       "      <td>0</td>\n",
       "      <td>1</td>\n",
       "      <td>0</td>\n",
       "      <td>0</td>\n",
       "    </tr>\n",
       "    <tr>\n",
       "      <th>4</th>\n",
       "      <td>1</td>\n",
       "      <td>0</td>\n",
       "      <td>0</td>\n",
       "      <td>0</td>\n",
       "    </tr>\n",
       "  </tbody>\n",
       "</table>\n",
       "</div>"
      ],
      "text/plain": [
       "   OutcomeYear_2013  OutcomeYear_2014  OutcomeYear_2015  OutcomeYear_2016\n",
       "0                 0                 1                 0                 0\n",
       "1                 1                 0                 0                 0\n",
       "2                 0                 0                 1                 0\n",
       "3                 0                 1                 0                 0\n",
       "4                 1                 0                 0                 0"
      ]
     },
     "execution_count": 83,
     "metadata": {},
     "output_type": "execute_result"
    }
   ],
   "source": [
    "year_gd.head()"
   ]
  },
  {
   "cell_type": "code",
   "execution_count": 84,
   "metadata": {},
   "outputs": [
    {
     "data": {
      "text/html": [
       "<div>\n",
       "<style>\n",
       "    .dataframe thead tr:only-child th {\n",
       "        text-align: right;\n",
       "    }\n",
       "\n",
       "    .dataframe thead th {\n",
       "        text-align: left;\n",
       "    }\n",
       "\n",
       "    .dataframe tbody tr th {\n",
       "        vertical-align: top;\n",
       "    }\n",
       "</style>\n",
       "<table border=\"1\" class=\"dataframe\">\n",
       "  <thead>\n",
       "    <tr style=\"text-align: right;\">\n",
       "      <th></th>\n",
       "      <th>Intact Female</th>\n",
       "      <th>Intact Male</th>\n",
       "      <th>Neutered Male</th>\n",
       "      <th>Spayed Female</th>\n",
       "      <th>Unknown</th>\n",
       "    </tr>\n",
       "  </thead>\n",
       "  <tbody>\n",
       "    <tr>\n",
       "      <th>0</th>\n",
       "      <td>0</td>\n",
       "      <td>0</td>\n",
       "      <td>1</td>\n",
       "      <td>0</td>\n",
       "      <td>0</td>\n",
       "    </tr>\n",
       "    <tr>\n",
       "      <th>1</th>\n",
       "      <td>0</td>\n",
       "      <td>0</td>\n",
       "      <td>0</td>\n",
       "      <td>1</td>\n",
       "      <td>0</td>\n",
       "    </tr>\n",
       "    <tr>\n",
       "      <th>2</th>\n",
       "      <td>0</td>\n",
       "      <td>0</td>\n",
       "      <td>1</td>\n",
       "      <td>0</td>\n",
       "      <td>0</td>\n",
       "    </tr>\n",
       "    <tr>\n",
       "      <th>3</th>\n",
       "      <td>0</td>\n",
       "      <td>1</td>\n",
       "      <td>0</td>\n",
       "      <td>0</td>\n",
       "      <td>0</td>\n",
       "    </tr>\n",
       "    <tr>\n",
       "      <th>4</th>\n",
       "      <td>0</td>\n",
       "      <td>0</td>\n",
       "      <td>1</td>\n",
       "      <td>0</td>\n",
       "      <td>0</td>\n",
       "    </tr>\n",
       "  </tbody>\n",
       "</table>\n",
       "</div>"
      ],
      "text/plain": [
       "   Intact Female  Intact Male  Neutered Male  Spayed Female  Unknown\n",
       "0              0            0              1              0        0\n",
       "1              0            0              0              1        0\n",
       "2              0            0              1              0        0\n",
       "3              0            1              0              0        0\n",
       "4              0            0              1              0        0"
      ]
     },
     "execution_count": 84,
     "metadata": {},
     "output_type": "execute_result"
    }
   ],
   "source": [
    "sex_gd.head()"
   ]
  },
  {
   "cell_type": "code",
   "execution_count": 85,
   "metadata": {},
   "outputs": [
    {
     "data": {
      "text/html": [
       "<div>\n",
       "<style>\n",
       "    .dataframe thead tr:only-child th {\n",
       "        text-align: right;\n",
       "    }\n",
       "\n",
       "    .dataframe thead th {\n",
       "        text-align: left;\n",
       "    }\n",
       "\n",
       "    .dataframe tbody tr th {\n",
       "        vertical-align: top;\n",
       "    }\n",
       "</style>\n",
       "<table border=\"1\" class=\"dataframe\">\n",
       "  <thead>\n",
       "    <tr style=\"text-align: right;\">\n",
       "      <th></th>\n",
       "      <th>domestic</th>\n",
       "      <th>giant</th>\n",
       "      <th>large</th>\n",
       "      <th>large_cat</th>\n",
       "      <th>medium</th>\n",
       "      <th>medium_cat</th>\n",
       "      <th>mix</th>\n",
       "      <th>small</th>\n",
       "      <th>small_cat</th>\n",
       "      <th>unknown</th>\n",
       "    </tr>\n",
       "  </thead>\n",
       "  <tbody>\n",
       "    <tr>\n",
       "      <th>11451</th>\n",
       "      <td>1</td>\n",
       "      <td>0</td>\n",
       "      <td>0</td>\n",
       "      <td>0</td>\n",
       "      <td>0</td>\n",
       "      <td>0</td>\n",
       "      <td>0</td>\n",
       "      <td>0</td>\n",
       "      <td>0</td>\n",
       "      <td>0</td>\n",
       "    </tr>\n",
       "    <tr>\n",
       "      <th>11452</th>\n",
       "      <td>1</td>\n",
       "      <td>0</td>\n",
       "      <td>0</td>\n",
       "      <td>0</td>\n",
       "      <td>0</td>\n",
       "      <td>0</td>\n",
       "      <td>0</td>\n",
       "      <td>0</td>\n",
       "      <td>0</td>\n",
       "      <td>0</td>\n",
       "    </tr>\n",
       "    <tr>\n",
       "      <th>11453</th>\n",
       "      <td>1</td>\n",
       "      <td>0</td>\n",
       "      <td>0</td>\n",
       "      <td>0</td>\n",
       "      <td>0</td>\n",
       "      <td>0</td>\n",
       "      <td>0</td>\n",
       "      <td>0</td>\n",
       "      <td>0</td>\n",
       "      <td>0</td>\n",
       "    </tr>\n",
       "    <tr>\n",
       "      <th>11454</th>\n",
       "      <td>0</td>\n",
       "      <td>0</td>\n",
       "      <td>1</td>\n",
       "      <td>0</td>\n",
       "      <td>0</td>\n",
       "      <td>0</td>\n",
       "      <td>0</td>\n",
       "      <td>0</td>\n",
       "      <td>0</td>\n",
       "      <td>0</td>\n",
       "    </tr>\n",
       "    <tr>\n",
       "      <th>11455</th>\n",
       "      <td>0</td>\n",
       "      <td>0</td>\n",
       "      <td>0</td>\n",
       "      <td>0</td>\n",
       "      <td>1</td>\n",
       "      <td>0</td>\n",
       "      <td>0</td>\n",
       "      <td>0</td>\n",
       "      <td>0</td>\n",
       "      <td>0</td>\n",
       "    </tr>\n",
       "  </tbody>\n",
       "</table>\n",
       "</div>"
      ],
      "text/plain": [
       "       domestic  giant  large  large_cat  medium  medium_cat  mix  small  \\\n",
       "11451         1      0      0          0       0           0    0      0   \n",
       "11452         1      0      0          0       0           0    0      0   \n",
       "11453         1      0      0          0       0           0    0      0   \n",
       "11454         0      0      1          0       0           0    0      0   \n",
       "11455         0      0      0          0       1           0    0      0   \n",
       "\n",
       "       small_cat  unknown  \n",
       "11451          0        0  \n",
       "11452          0        0  \n",
       "11453          0        0  \n",
       "11454          0        0  \n",
       "11455          0        0  "
      ]
     },
     "execution_count": 85,
     "metadata": {},
     "output_type": "execute_result"
    }
   ],
   "source": [
    "size_gd.tail()"
   ]
  },
  {
   "cell_type": "code",
   "execution_count": null,
   "metadata": {
    "collapsed": true
   },
   "outputs": [],
   "source": []
  },
  {
   "cell_type": "code",
   "execution_count": 86,
   "metadata": {},
   "outputs": [
    {
     "name": "stdout",
     "output_type": "stream",
     "text": [
      "0        4\n",
      "1        3\n",
      "2        1\n",
      "3        5\n",
      "4        5\n",
      "5        5\n",
      "6        5\n",
      "7        5\n",
      "8        1\n",
      "9        1\n",
      "10       5\n",
      "11       1\n",
      "12       1\n",
      "13       4\n",
      "14       4\n",
      "15       1\n",
      "16       5\n",
      "17       5\n",
      "18       5\n",
      "19       4\n",
      "20       5\n",
      "21       5\n",
      "22       1\n",
      "23       1\n",
      "24       4\n",
      "25       5\n",
      "26       1\n",
      "27       1\n",
      "28       1\n",
      "29       4\n",
      "        ..\n",
      "26699    3\n",
      "26700    4\n",
      "26701    5\n",
      "26702    2\n",
      "26703    5\n",
      "26704    5\n",
      "26705    5\n",
      "26706    1\n",
      "26707    3\n",
      "26708    5\n",
      "26709    1\n",
      "26710    5\n",
      "26711    5\n",
      "26712    4\n",
      "26713    3\n",
      "26714    1\n",
      "26715    1\n",
      "26716    1\n",
      "26717    4\n",
      "26718    1\n",
      "26719    5\n",
      "26720    1\n",
      "26721    1\n",
      "26722    5\n",
      "26723    1\n",
      "26724    5\n",
      "26725    5\n",
      "26726    1\n",
      "26727    5\n",
      "26728    5\n",
      "Name: OutcomeType, Length: 26729, dtype: int64\n"
     ]
    }
   ],
   "source": [
    "# Outcome_mapping\n",
    "outcome_mapping = {'Adoption':1, 'Died':2, 'Euthanasia':3, 'Return_to_owner':4, 'Transfer':5}\n",
    "dfY = dfY.map(outcome_mapping)\n",
    "print(dfY)"
   ]
  },
  {
   "cell_type": "code",
   "execution_count": 87,
   "metadata": {
    "collapsed": true
   },
   "outputs": [],
   "source": [
    "data_combined.drop('DateTime', axis = 1, inplace = True)"
   ]
  },
  {
   "cell_type": "code",
   "execution_count": 88,
   "metadata": {
    "collapsed": true
   },
   "outputs": [],
   "source": [
    "#Name\n",
    "def no_name_numeric_label(x):\n",
    "    '''Reference: https://github.com/JihongL/Shelter-Animal-Outcomes/blob/master/Shelter_EDA.ipynb'''\n",
    "    '''This function is used in conjunction with .transform() method to convert Name and No Name \n",
    "    to numerical values'''\n",
    "    if x == 'No Name':\n",
    "        return 0\n",
    "    else:\n",
    "        return 1\n",
    "\n",
    "data_train['Name'] = data_train['Name'].transform(no_name_numeric_label)\n",
    "data_combined['Name'] = data_combined['Name'].transform(no_name_numeric_label)"
   ]
  },
  {
   "cell_type": "code",
   "execution_count": 89,
   "metadata": {},
   "outputs": [
    {
     "data": {
      "text/html": [
       "<div>\n",
       "<style>\n",
       "    .dataframe thead tr:only-child th {\n",
       "        text-align: right;\n",
       "    }\n",
       "\n",
       "    .dataframe thead th {\n",
       "        text-align: left;\n",
       "    }\n",
       "\n",
       "    .dataframe tbody tr th {\n",
       "        vertical-align: top;\n",
       "    }\n",
       "</style>\n",
       "<table border=\"1\" class=\"dataframe\">\n",
       "  <thead>\n",
       "    <tr style=\"text-align: right;\">\n",
       "      <th></th>\n",
       "      <th>AnimalID</th>\n",
       "      <th>Name</th>\n",
       "      <th>AnimalType</th>\n",
       "      <th>SexuponOutcome</th>\n",
       "      <th>AgeuponOutcome</th>\n",
       "      <th>Breed</th>\n",
       "      <th>Color</th>\n",
       "      <th>Date</th>\n",
       "      <th>OutcomeYear</th>\n",
       "      <th>OutcomeMonth</th>\n",
       "      <th>OutcomeDay</th>\n",
       "      <th>OutcomeHour</th>\n",
       "      <th>OutcomeSeason</th>\n",
       "      <th>Size</th>\n",
       "      <th>Main_Breed</th>\n",
       "      <th>Sub_Breed</th>\n",
       "      <th>Rank</th>\n",
       "      <th>Main_Color</th>\n",
       "      <th>Sub_Color</th>\n",
       "    </tr>\n",
       "  </thead>\n",
       "  <tbody>\n",
       "    <tr>\n",
       "      <th>11451</th>\n",
       "      <td>11452</td>\n",
       "      <td>0</td>\n",
       "      <td>0</td>\n",
       "      <td>Neutered Male</td>\n",
       "      <td>60.0</td>\n",
       "      <td>Domestic Shorthair Mix</td>\n",
       "      <td>Black</td>\n",
       "      <td>201407</td>\n",
       "      <td>2014</td>\n",
       "      <td>07</td>\n",
       "      <td>08</td>\n",
       "      <td>14</td>\n",
       "      <td>summer</td>\n",
       "      <td>domestic</td>\n",
       "      <td>domestic shorthair</td>\n",
       "      <td>NA</td>\n",
       "      <td>0.0</td>\n",
       "      <td>Black</td>\n",
       "      <td>NA</td>\n",
       "    </tr>\n",
       "    <tr>\n",
       "      <th>11452</th>\n",
       "      <td>11453</td>\n",
       "      <td>0</td>\n",
       "      <td>0</td>\n",
       "      <td>Intact Female</td>\n",
       "      <td>14.0</td>\n",
       "      <td>Domestic Shorthair Mix</td>\n",
       "      <td>Blue</td>\n",
       "      <td>201410</td>\n",
       "      <td>2014</td>\n",
       "      <td>10</td>\n",
       "      <td>21</td>\n",
       "      <td>12</td>\n",
       "      <td>fall</td>\n",
       "      <td>domestic</td>\n",
       "      <td>domestic shorthair</td>\n",
       "      <td>NA</td>\n",
       "      <td>0.0</td>\n",
       "      <td>Blue</td>\n",
       "      <td>NA</td>\n",
       "    </tr>\n",
       "    <tr>\n",
       "      <th>11453</th>\n",
       "      <td>11454</td>\n",
       "      <td>0</td>\n",
       "      <td>0</td>\n",
       "      <td>Intact Female</td>\n",
       "      <td>365.0</td>\n",
       "      <td>Domestic Shorthair Mix</td>\n",
       "      <td>Calico</td>\n",
       "      <td>201409</td>\n",
       "      <td>2014</td>\n",
       "      <td>09</td>\n",
       "      <td>29</td>\n",
       "      <td>9:</td>\n",
       "      <td>fall</td>\n",
       "      <td>domestic</td>\n",
       "      <td>domestic shorthair</td>\n",
       "      <td>NA</td>\n",
       "      <td>0.0</td>\n",
       "      <td>Calico</td>\n",
       "      <td>NA</td>\n",
       "    </tr>\n",
       "    <tr>\n",
       "      <th>11454</th>\n",
       "      <td>11455</td>\n",
       "      <td>1</td>\n",
       "      <td>1</td>\n",
       "      <td>Neutered Male</td>\n",
       "      <td>2190.0</td>\n",
       "      <td>German Shepherd Mix</td>\n",
       "      <td>Black/Tan</td>\n",
       "      <td>201509</td>\n",
       "      <td>2015</td>\n",
       "      <td>09</td>\n",
       "      <td>05</td>\n",
       "      <td>17</td>\n",
       "      <td>fall</td>\n",
       "      <td>large</td>\n",
       "      <td>german shepherd</td>\n",
       "      <td>NA</td>\n",
       "      <td>188.0</td>\n",
       "      <td>Black</td>\n",
       "      <td>Tan</td>\n",
       "    </tr>\n",
       "    <tr>\n",
       "      <th>11455</th>\n",
       "      <td>11456</td>\n",
       "      <td>1</td>\n",
       "      <td>1</td>\n",
       "      <td>Intact Male</td>\n",
       "      <td>1460.0</td>\n",
       "      <td>Labrador Retriever</td>\n",
       "      <td>Cream</td>\n",
       "      <td>201407</td>\n",
       "      <td>2014</td>\n",
       "      <td>07</td>\n",
       "      <td>12</td>\n",
       "      <td>18</td>\n",
       "      <td>summer</td>\n",
       "      <td>medium</td>\n",
       "      <td>labrador retriever</td>\n",
       "      <td>NA</td>\n",
       "      <td>189.0</td>\n",
       "      <td>Cream</td>\n",
       "      <td>NA</td>\n",
       "    </tr>\n",
       "  </tbody>\n",
       "</table>\n",
       "</div>"
      ],
      "text/plain": [
       "      AnimalID  Name  AnimalType SexuponOutcome  AgeuponOutcome  \\\n",
       "11451    11452     0           0  Neutered Male            60.0   \n",
       "11452    11453     0           0  Intact Female            14.0   \n",
       "11453    11454     0           0  Intact Female           365.0   \n",
       "11454    11455     1           1  Neutered Male          2190.0   \n",
       "11455    11456     1           1    Intact Male          1460.0   \n",
       "\n",
       "                        Breed      Color    Date OutcomeYear OutcomeMonth  \\\n",
       "11451  Domestic Shorthair Mix      Black  201407        2014           07   \n",
       "11452  Domestic Shorthair Mix       Blue  201410        2014           10   \n",
       "11453  Domestic Shorthair Mix     Calico  201409        2014           09   \n",
       "11454     German Shepherd Mix  Black/Tan  201509        2015           09   \n",
       "11455      Labrador Retriever      Cream  201407        2014           07   \n",
       "\n",
       "      OutcomeDay OutcomeHour OutcomeSeason      Size          Main_Breed  \\\n",
       "11451         08          14        summer  domestic  domestic shorthair   \n",
       "11452         21          12          fall  domestic  domestic shorthair   \n",
       "11453         29          9:          fall  domestic  domestic shorthair   \n",
       "11454         05          17          fall     large     german shepherd   \n",
       "11455         12          18        summer    medium  labrador retriever   \n",
       "\n",
       "      Sub_Breed   Rank Main_Color Sub_Color  \n",
       "11451        NA    0.0      Black        NA  \n",
       "11452        NA    0.0       Blue        NA  \n",
       "11453        NA    0.0     Calico        NA  \n",
       "11454        NA  188.0      Black       Tan  \n",
       "11455        NA  189.0      Cream        NA  "
      ]
     },
     "execution_count": 89,
     "metadata": {},
     "output_type": "execute_result"
    }
   ],
   "source": [
    "data_combined.tail()"
   ]
  },
  {
   "cell_type": "code",
   "execution_count": null,
   "metadata": {
    "collapsed": true
   },
   "outputs": [],
   "source": []
  },
  {
   "cell_type": "markdown",
   "metadata": {},
   "source": [
    "### train, test 데이터 분리\n",
    "\n",
    "get_dummies적용등 여러면에서 train.csv과 test.csv 데이터를 합쳐서 전처리 하는것이 더 수월하다고 판단되어서 진행하였음. 모델 최적화를 위해서 두 데이터를 나누는 작업을 진행.\n",
    "\n",
    "차후 용어가 헤깔릴수도 있기 때문에 정리하자면\n",
    "\n",
    "1) train.csv 또는 Kaggle training 데이터, test.csv 또는 Kaggle test 데이터는 각각 Kaggle Competition에서 제공해준 train, test데이터를 지칭한다\n",
    "\n",
    "2) 뒷쪽 모델 최적화에서 그냥 train 데이터 또는 test데이터는 train.csv에서 모델 검증을 위해 train_test_split을 통해 형성된 데이터를 지칭한다"
   ]
  },
  {
   "cell_type": "code",
   "execution_count": 90,
   "metadata": {
    "collapsed": true
   },
   "outputs": [],
   "source": [
    "data_train_final = data_combined.iloc[:26729, :]\n",
    "data_test_final = data_combined.iloc[26729:, :]"
   ]
  },
  {
   "cell_type": "code",
   "execution_count": 91,
   "metadata": {},
   "outputs": [
    {
     "name": "stdout",
     "output_type": "stream",
     "text": [
      "(26729, 19) (11456, 19)\n"
     ]
    }
   ],
   "source": [
    "#Train과 Test데이터 행 갯수는 각각 처음에 train.csv와 test.csv의 행 갯수와 동일해야 한다\n",
    "print(data_train_final.shape, data_test_final.shape)"
   ]
  },
  {
   "cell_type": "code",
   "execution_count": 92,
   "metadata": {},
   "outputs": [
    {
     "data": {
      "text/html": [
       "<div>\n",
       "<style>\n",
       "    .dataframe thead tr:only-child th {\n",
       "        text-align: right;\n",
       "    }\n",
       "\n",
       "    .dataframe thead th {\n",
       "        text-align: left;\n",
       "    }\n",
       "\n",
       "    .dataframe tbody tr th {\n",
       "        vertical-align: top;\n",
       "    }\n",
       "</style>\n",
       "<table border=\"1\" class=\"dataframe\">\n",
       "  <thead>\n",
       "    <tr style=\"text-align: right;\">\n",
       "      <th></th>\n",
       "      <th>AnimalID</th>\n",
       "      <th>Name</th>\n",
       "      <th>AnimalType</th>\n",
       "      <th>SexuponOutcome</th>\n",
       "      <th>AgeuponOutcome</th>\n",
       "      <th>Breed</th>\n",
       "      <th>Color</th>\n",
       "      <th>Date</th>\n",
       "      <th>OutcomeYear</th>\n",
       "      <th>OutcomeMonth</th>\n",
       "      <th>OutcomeDay</th>\n",
       "      <th>OutcomeHour</th>\n",
       "      <th>OutcomeSeason</th>\n",
       "      <th>Size</th>\n",
       "      <th>Main_Breed</th>\n",
       "      <th>Sub_Breed</th>\n",
       "      <th>Rank</th>\n",
       "      <th>Main_Color</th>\n",
       "      <th>Sub_Color</th>\n",
       "    </tr>\n",
       "  </thead>\n",
       "  <tbody>\n",
       "    <tr>\n",
       "      <th>26724</th>\n",
       "      <td>A702446</td>\n",
       "      <td>0</td>\n",
       "      <td>0</td>\n",
       "      <td>Intact Male</td>\n",
       "      <td>30.0</td>\n",
       "      <td>Domestic Shorthair Mix</td>\n",
       "      <td>Brown Tabby/White</td>\n",
       "      <td>201505</td>\n",
       "      <td>2015</td>\n",
       "      <td>05</td>\n",
       "      <td>14</td>\n",
       "      <td>11</td>\n",
       "      <td>spring</td>\n",
       "      <td>domestic</td>\n",
       "      <td>domestic shorthair</td>\n",
       "      <td>NA</td>\n",
       "      <td>0.0</td>\n",
       "      <td>Brown Tabby</td>\n",
       "      <td>White</td>\n",
       "    </tr>\n",
       "    <tr>\n",
       "      <th>26725</th>\n",
       "      <td>A718934</td>\n",
       "      <td>0</td>\n",
       "      <td>0</td>\n",
       "      <td>Spayed Female</td>\n",
       "      <td>90.0</td>\n",
       "      <td>Domestic Shorthair Mix</td>\n",
       "      <td>Brown Tabby</td>\n",
       "      <td>201601</td>\n",
       "      <td>2016</td>\n",
       "      <td>01</td>\n",
       "      <td>20</td>\n",
       "      <td>18</td>\n",
       "      <td>winter</td>\n",
       "      <td>domestic</td>\n",
       "      <td>domestic shorthair</td>\n",
       "      <td>NA</td>\n",
       "      <td>0.0</td>\n",
       "      <td>Brown Tabby</td>\n",
       "      <td>NA</td>\n",
       "    </tr>\n",
       "    <tr>\n",
       "      <th>26726</th>\n",
       "      <td>A698128</td>\n",
       "      <td>1</td>\n",
       "      <td>1</td>\n",
       "      <td>Neutered Male</td>\n",
       "      <td>1460.0</td>\n",
       "      <td>Old English Bulldog Mix</td>\n",
       "      <td>White/Tan</td>\n",
       "      <td>201503</td>\n",
       "      <td>2015</td>\n",
       "      <td>03</td>\n",
       "      <td>09</td>\n",
       "      <td>13</td>\n",
       "      <td>spring</td>\n",
       "      <td>large</td>\n",
       "      <td>olde english bulldogge</td>\n",
       "      <td>NA</td>\n",
       "      <td>0.0</td>\n",
       "      <td>White</td>\n",
       "      <td>Tan</td>\n",
       "    </tr>\n",
       "    <tr>\n",
       "      <th>26727</th>\n",
       "      <td>A677478</td>\n",
       "      <td>0</td>\n",
       "      <td>0</td>\n",
       "      <td>Intact Male</td>\n",
       "      <td>28.0</td>\n",
       "      <td>Domestic Shorthair Mix</td>\n",
       "      <td>Black</td>\n",
       "      <td>201404</td>\n",
       "      <td>2014</td>\n",
       "      <td>04</td>\n",
       "      <td>27</td>\n",
       "      <td>12</td>\n",
       "      <td>spring</td>\n",
       "      <td>domestic</td>\n",
       "      <td>domestic shorthair</td>\n",
       "      <td>NA</td>\n",
       "      <td>0.0</td>\n",
       "      <td>Black</td>\n",
       "      <td>NA</td>\n",
       "    </tr>\n",
       "    <tr>\n",
       "      <th>26728</th>\n",
       "      <td>A706629</td>\n",
       "      <td>0</td>\n",
       "      <td>0</td>\n",
       "      <td>Intact Male</td>\n",
       "      <td>365.0</td>\n",
       "      <td>Domestic Shorthair Mix</td>\n",
       "      <td>Brown Tabby/White</td>\n",
       "      <td>201507</td>\n",
       "      <td>2015</td>\n",
       "      <td>07</td>\n",
       "      <td>02</td>\n",
       "      <td>09</td>\n",
       "      <td>summer</td>\n",
       "      <td>domestic</td>\n",
       "      <td>domestic shorthair</td>\n",
       "      <td>NA</td>\n",
       "      <td>0.0</td>\n",
       "      <td>Brown Tabby</td>\n",
       "      <td>White</td>\n",
       "    </tr>\n",
       "  </tbody>\n",
       "</table>\n",
       "</div>"
      ],
      "text/plain": [
       "      AnimalID  Name  AnimalType SexuponOutcome  AgeuponOutcome  \\\n",
       "26724  A702446     0           0    Intact Male            30.0   \n",
       "26725  A718934     0           0  Spayed Female            90.0   \n",
       "26726  A698128     1           1  Neutered Male          1460.0   \n",
       "26727  A677478     0           0    Intact Male            28.0   \n",
       "26728  A706629     0           0    Intact Male           365.0   \n",
       "\n",
       "                         Breed              Color    Date OutcomeYear  \\\n",
       "26724   Domestic Shorthair Mix  Brown Tabby/White  201505        2015   \n",
       "26725   Domestic Shorthair Mix        Brown Tabby  201601        2016   \n",
       "26726  Old English Bulldog Mix          White/Tan  201503        2015   \n",
       "26727   Domestic Shorthair Mix              Black  201404        2014   \n",
       "26728   Domestic Shorthair Mix  Brown Tabby/White  201507        2015   \n",
       "\n",
       "      OutcomeMonth OutcomeDay OutcomeHour OutcomeSeason      Size  \\\n",
       "26724           05         14          11        spring  domestic   \n",
       "26725           01         20          18        winter  domestic   \n",
       "26726           03         09          13        spring     large   \n",
       "26727           04         27          12        spring  domestic   \n",
       "26728           07         02          09        summer  domestic   \n",
       "\n",
       "                   Main_Breed Sub_Breed  Rank   Main_Color Sub_Color  \n",
       "26724      domestic shorthair        NA   0.0  Brown Tabby     White  \n",
       "26725      domestic shorthair        NA   0.0  Brown Tabby        NA  \n",
       "26726  olde english bulldogge        NA   0.0        White       Tan  \n",
       "26727      domestic shorthair        NA   0.0        Black        NA  \n",
       "26728      domestic shorthair        NA   0.0  Brown Tabby     White  "
      ]
     },
     "execution_count": 92,
     "metadata": {},
     "output_type": "execute_result"
    }
   ],
   "source": [
    "data_train_final.tail()"
   ]
  },
  {
   "cell_type": "code",
   "execution_count": 93,
   "metadata": {},
   "outputs": [
    {
     "data": {
      "text/html": [
       "<div>\n",
       "<style>\n",
       "    .dataframe thead tr:only-child th {\n",
       "        text-align: right;\n",
       "    }\n",
       "\n",
       "    .dataframe thead th {\n",
       "        text-align: left;\n",
       "    }\n",
       "\n",
       "    .dataframe tbody tr th {\n",
       "        vertical-align: top;\n",
       "    }\n",
       "</style>\n",
       "<table border=\"1\" class=\"dataframe\">\n",
       "  <thead>\n",
       "    <tr style=\"text-align: right;\">\n",
       "      <th></th>\n",
       "      <th>AnimalID</th>\n",
       "      <th>Name</th>\n",
       "      <th>AnimalType</th>\n",
       "      <th>SexuponOutcome</th>\n",
       "      <th>AgeuponOutcome</th>\n",
       "      <th>Breed</th>\n",
       "      <th>Color</th>\n",
       "      <th>Date</th>\n",
       "      <th>OutcomeYear</th>\n",
       "      <th>OutcomeMonth</th>\n",
       "      <th>OutcomeDay</th>\n",
       "      <th>OutcomeHour</th>\n",
       "      <th>OutcomeSeason</th>\n",
       "      <th>Size</th>\n",
       "      <th>Main_Breed</th>\n",
       "      <th>Sub_Breed</th>\n",
       "      <th>Rank</th>\n",
       "      <th>Main_Color</th>\n",
       "      <th>Sub_Color</th>\n",
       "    </tr>\n",
       "  </thead>\n",
       "  <tbody>\n",
       "    <tr>\n",
       "      <th>11451</th>\n",
       "      <td>11452</td>\n",
       "      <td>0</td>\n",
       "      <td>0</td>\n",
       "      <td>Neutered Male</td>\n",
       "      <td>60.0</td>\n",
       "      <td>Domestic Shorthair Mix</td>\n",
       "      <td>Black</td>\n",
       "      <td>201407</td>\n",
       "      <td>2014</td>\n",
       "      <td>07</td>\n",
       "      <td>08</td>\n",
       "      <td>14</td>\n",
       "      <td>summer</td>\n",
       "      <td>domestic</td>\n",
       "      <td>domestic shorthair</td>\n",
       "      <td>NA</td>\n",
       "      <td>0.0</td>\n",
       "      <td>Black</td>\n",
       "      <td>NA</td>\n",
       "    </tr>\n",
       "    <tr>\n",
       "      <th>11452</th>\n",
       "      <td>11453</td>\n",
       "      <td>0</td>\n",
       "      <td>0</td>\n",
       "      <td>Intact Female</td>\n",
       "      <td>14.0</td>\n",
       "      <td>Domestic Shorthair Mix</td>\n",
       "      <td>Blue</td>\n",
       "      <td>201410</td>\n",
       "      <td>2014</td>\n",
       "      <td>10</td>\n",
       "      <td>21</td>\n",
       "      <td>12</td>\n",
       "      <td>fall</td>\n",
       "      <td>domestic</td>\n",
       "      <td>domestic shorthair</td>\n",
       "      <td>NA</td>\n",
       "      <td>0.0</td>\n",
       "      <td>Blue</td>\n",
       "      <td>NA</td>\n",
       "    </tr>\n",
       "    <tr>\n",
       "      <th>11453</th>\n",
       "      <td>11454</td>\n",
       "      <td>0</td>\n",
       "      <td>0</td>\n",
       "      <td>Intact Female</td>\n",
       "      <td>365.0</td>\n",
       "      <td>Domestic Shorthair Mix</td>\n",
       "      <td>Calico</td>\n",
       "      <td>201409</td>\n",
       "      <td>2014</td>\n",
       "      <td>09</td>\n",
       "      <td>29</td>\n",
       "      <td>9:</td>\n",
       "      <td>fall</td>\n",
       "      <td>domestic</td>\n",
       "      <td>domestic shorthair</td>\n",
       "      <td>NA</td>\n",
       "      <td>0.0</td>\n",
       "      <td>Calico</td>\n",
       "      <td>NA</td>\n",
       "    </tr>\n",
       "    <tr>\n",
       "      <th>11454</th>\n",
       "      <td>11455</td>\n",
       "      <td>1</td>\n",
       "      <td>1</td>\n",
       "      <td>Neutered Male</td>\n",
       "      <td>2190.0</td>\n",
       "      <td>German Shepherd Mix</td>\n",
       "      <td>Black/Tan</td>\n",
       "      <td>201509</td>\n",
       "      <td>2015</td>\n",
       "      <td>09</td>\n",
       "      <td>05</td>\n",
       "      <td>17</td>\n",
       "      <td>fall</td>\n",
       "      <td>large</td>\n",
       "      <td>german shepherd</td>\n",
       "      <td>NA</td>\n",
       "      <td>188.0</td>\n",
       "      <td>Black</td>\n",
       "      <td>Tan</td>\n",
       "    </tr>\n",
       "    <tr>\n",
       "      <th>11455</th>\n",
       "      <td>11456</td>\n",
       "      <td>1</td>\n",
       "      <td>1</td>\n",
       "      <td>Intact Male</td>\n",
       "      <td>1460.0</td>\n",
       "      <td>Labrador Retriever</td>\n",
       "      <td>Cream</td>\n",
       "      <td>201407</td>\n",
       "      <td>2014</td>\n",
       "      <td>07</td>\n",
       "      <td>12</td>\n",
       "      <td>18</td>\n",
       "      <td>summer</td>\n",
       "      <td>medium</td>\n",
       "      <td>labrador retriever</td>\n",
       "      <td>NA</td>\n",
       "      <td>189.0</td>\n",
       "      <td>Cream</td>\n",
       "      <td>NA</td>\n",
       "    </tr>\n",
       "  </tbody>\n",
       "</table>\n",
       "</div>"
      ],
      "text/plain": [
       "      AnimalID  Name  AnimalType SexuponOutcome  AgeuponOutcome  \\\n",
       "11451    11452     0           0  Neutered Male            60.0   \n",
       "11452    11453     0           0  Intact Female            14.0   \n",
       "11453    11454     0           0  Intact Female           365.0   \n",
       "11454    11455     1           1  Neutered Male          2190.0   \n",
       "11455    11456     1           1    Intact Male          1460.0   \n",
       "\n",
       "                        Breed      Color    Date OutcomeYear OutcomeMonth  \\\n",
       "11451  Domestic Shorthair Mix      Black  201407        2014           07   \n",
       "11452  Domestic Shorthair Mix       Blue  201410        2014           10   \n",
       "11453  Domestic Shorthair Mix     Calico  201409        2014           09   \n",
       "11454     German Shepherd Mix  Black/Tan  201509        2015           09   \n",
       "11455      Labrador Retriever      Cream  201407        2014           07   \n",
       "\n",
       "      OutcomeDay OutcomeHour OutcomeSeason      Size          Main_Breed  \\\n",
       "11451         08          14        summer  domestic  domestic shorthair   \n",
       "11452         21          12          fall  domestic  domestic shorthair   \n",
       "11453         29          9:          fall  domestic  domestic shorthair   \n",
       "11454         05          17          fall     large     german shepherd   \n",
       "11455         12          18        summer    medium  labrador retriever   \n",
       "\n",
       "      Sub_Breed   Rank Main_Color Sub_Color  \n",
       "11451        NA    0.0      Black        NA  \n",
       "11452        NA    0.0       Blue        NA  \n",
       "11453        NA    0.0     Calico        NA  \n",
       "11454        NA  188.0      Black       Tan  \n",
       "11455        NA  189.0      Cream        NA  "
      ]
     },
     "execution_count": 93,
     "metadata": {},
     "output_type": "execute_result"
    }
   ],
   "source": [
    "data_test_final.tail()"
   ]
  },
  {
   "cell_type": "code",
   "execution_count": 94,
   "metadata": {},
   "outputs": [
    {
     "data": {
      "text/plain": [
       "26724    5\n",
       "26725    5\n",
       "26726    1\n",
       "26727    5\n",
       "26728    5\n",
       "Name: OutcomeType, dtype: int64"
      ]
     },
     "execution_count": 94,
     "metadata": {},
     "output_type": "execute_result"
    }
   ],
   "source": [
    "dfY.tail()"
   ]
  },
  {
   "cell_type": "code",
   "execution_count": null,
   "metadata": {
    "collapsed": true
   },
   "outputs": [],
   "source": []
  },
  {
   "cell_type": "markdown",
   "metadata": {},
   "source": [
    "#### get_dummies적용된 DataFrame도 train과 test로 나눠줄 필요가 있다"
   ]
  },
  {
   "cell_type": "code",
   "execution_count": 95,
   "metadata": {
    "collapsed": true
   },
   "outputs": [],
   "source": [
    "#Train dummy variable features\n",
    "main_color_gd_train = main_color_gd.iloc[:26729, :]\n",
    "sub_color_gd_train = sub_color_gd.iloc[:26729, :]\n",
    "main_breed_gd_train = main_breed_gd.iloc[:26729, :]\n",
    "sub_breed_gd_train = sub_breed_gd.iloc[:26729, :]\n",
    "year_gd_train = year_gd.iloc[:26729, :]\n",
    "month_gd_train = month_gd.iloc[:26729, :]\n",
    "day_gd_train = day_gd.iloc[:26729, :]\n",
    "hour_gd_train = hour_gd.iloc[:26729, :]\n",
    "size_gd_train = size_gd.iloc[:26729, :]\n",
    "sex_gd_train = sex_gd.iloc[:26729, :]\n",
    "season_gd_train = season_gd.iloc[:26729, :]"
   ]
  },
  {
   "cell_type": "code",
   "execution_count": 96,
   "metadata": {},
   "outputs": [
    {
     "data": {
      "text/plain": [
       "(26729, 57)"
      ]
     },
     "execution_count": 96,
     "metadata": {},
     "output_type": "execute_result"
    }
   ],
   "source": [
    "main_color_gd_train.shape"
   ]
  },
  {
   "cell_type": "code",
   "execution_count": 97,
   "metadata": {
    "collapsed": true
   },
   "outputs": [],
   "source": [
    "#Test dummy variable features\n",
    "main_color_gd_test = main_color_gd.iloc[26729:, :]\n",
    "sub_color_gd_test = sub_color_gd.iloc[26729:, :]\n",
    "main_breed_gd_test = main_breed_gd.iloc[26729:, :]\n",
    "sub_breed_gd_test = sub_breed_gd.iloc[26729:, :]\n",
    "year_gd_test = year_gd.iloc[26729:, :]\n",
    "month_gd_test = month_gd.iloc[26729:, :]\n",
    "day_gd_test = day_gd.iloc[26729:, :]\n",
    "hour_gd_test = hour_gd.iloc[26729:, :]\n",
    "size_gd_test = size_gd.iloc[26729:, :]\n",
    "sex_gd_test = sex_gd.iloc[26729:, :]\n",
    "season_gd_test = season_gd.iloc[26729:, :]"
   ]
  },
  {
   "cell_type": "code",
   "execution_count": 98,
   "metadata": {},
   "outputs": [
    {
     "data": {
      "text/plain": [
       "(11456, 57)"
      ]
     },
     "execution_count": 98,
     "metadata": {},
     "output_type": "execute_result"
    }
   ],
   "source": [
    "main_color_gd_test.shape"
   ]
  },
  {
   "cell_type": "code",
   "execution_count": null,
   "metadata": {
    "collapsed": true
   },
   "outputs": [],
   "source": []
  },
  {
   "cell_type": "code",
   "execution_count": null,
   "metadata": {
    "collapsed": true
   },
   "outputs": [],
   "source": []
  },
  {
   "cell_type": "markdown",
   "metadata": {},
   "source": [
    "# Feature Selection\n",
    "\n",
    "#### Feature Preprocessing 마침. 생각보다 간단한 데이터 구조였슴에도 불구하고 데이터 전처리가 어마어마한 분량을 차지하고 있다."
   ]
  },
  {
   "cell_type": "code",
   "execution_count": 99,
   "metadata": {
    "collapsed": true
   },
   "outputs": [],
   "source": [
    "def greedy_selector(dfX_list, dfY):\n",
    "    '''This function performs greedy feature selection. dfX_list contains various combinations of features that will be used'''\n",
    "    train_compile, test_compile, logLoss_compile = [], [], []\n",
    "    \n",
    "    for dfX in dfX_list:\n",
    "        dfX_train, dfX_test, dfY_train, dfY_test = train_test_split(dfX, dfY, test_size = 0.25, random_state=0)\n",
    "        '''nthread parameter is the paralleization parameter. This forces XGBoost to utilize all the CPU power available'''\n",
    "        model_xgb = xgboost.XGBClassifier(n_estimators = 100, max_depth = 2, nthread = 3)\n",
    "        model_xgb.fit(dfX_train, dfY_train)\n",
    "\n",
    "        '''Let us save train and test accuracy along with log loss'''\n",
    "        y_pred_train = model_xgb.predict(dfX_train)\n",
    "        train_accuracy = accuracy_score(dfY_train, y_pred_train)\n",
    "        train_compile.append(train_accuracy)\n",
    "\n",
    "        y_pred_test = model_xgb.predict(dfX_test)\n",
    "        test_accuracy = accuracy_score(dfY_test, y_pred_test)\n",
    "        test_compile.append(test_accuracy)\n",
    "\n",
    "        y_proba = model_xgb.predict_proba(dfX_test)\n",
    "        logLoss = log_loss(dfY_test, y_proba)\n",
    "        logLoss_compile.append(logLoss)\n",
    "        \n",
    "    return train_compile, test_compile, logLoss_compile"
   ]
  },
  {
   "cell_type": "markdown",
   "metadata": {},
   "source": [
    "Feature Selection은 원래 feature_importance할 예정이었으나 위에 get_dummies method를 통해 본 결과 인자수가 어마어마 하다는것을 알수있다 (대략 530개 정도). 또한 인자끼리 관계도 또한 무시할수 없기 때문에 고민하던중, 우선 XGBoost를 이용해서 Greedy 한 방식으로 feature selection을 진행하기로 했다. 정식대로라면 사용하려는 feature마다 모델 최적화를 하면서 결과값을 비교하는것이 정상이지만 그렇게 할려하니 시간도 오래 걸리고 해서 차선책으로 Greedy방식으로 진행 해보기로 했다."
   ]
  },
  {
   "cell_type": "code",
   "execution_count": 100,
   "metadata": {
    "collapsed": true
   },
   "outputs": [],
   "source": [
    "'''dfY is always fixed'''\n",
    "\n",
    "dummy_cont = data_train_final[['Name', 'AnimalType', 'AgeuponOutcome', 'Rank']]\n",
    "\n",
    "dfX = pd.concat([dummy_cont, main_breed_gd_train, main_color_gd_train, month_gd_train, year_gd_train, sex_gd_train], axis = 1)\n",
    "dfX2 = pd.concat([dummy_cont, main_breed_gd_train, sub_breed_gd_train, main_color_gd_train, sub_color_gd_train, \n",
    "                  month_gd_train, year_gd_train, sex_gd_train], axis = 1)\n",
    "dfX3 = pd.concat([dummy_cont, size_gd_train, main_color_gd_train, sub_color_gd_train, month_gd_train, year_gd_train, \n",
    "                  sex_gd_train], axis = 1)\n",
    "dfX4 = pd.concat([dummy_cont, size_gd_train, main_breed_gd_train, sub_breed_gd_train, main_color_gd_train, \n",
    "                  sub_color_gd_train, month_gd_train, year_gd_train, sex_gd_train], axis = 1)\n",
    "dfX5 = pd.concat([dummy_cont, main_breed_gd_train, sub_breed_gd_train, main_color_gd_train, sub_color_gd_train, \n",
    "                  season_gd_train, sex_gd_train], axis = 1)\n",
    "dfX6 = pd.concat([dummy_cont, size_gd_train, main_breed_gd_train, sub_breed_gd_train, main_color_gd_train, sub_color_gd_train, \n",
    "                 year_gd_train, month_gd_train, day_gd_train, hour_gd_train, sex_gd_train], axis = 1)\n",
    "dfX7 = pd.concat([dummy_cont, size_gd_train, main_color_gd_train, sub_color_gd_train, \n",
    "                 year_gd_train, month_gd_train, day_gd_train, hour_gd_train, sex_gd_train], axis = 1)"
   ]
  },
  {
   "cell_type": "code",
   "execution_count": 136,
   "metadata": {},
   "outputs": [
    {
     "name": "stdout",
     "output_type": "stream",
     "text": [
      "CPU times: user 6min 50s, sys: 4.03 s, total: 6min 55s\n",
      "Wall time: 2min 27s\n"
     ]
    }
   ],
   "source": [
    "%%time\n",
    "dfX_list = [dfX, dfX2, dfX3, dfX4, dfX5, dfX6, dfX7]\n",
    "train_compile, test_compile, logLoss_compile = greedy_selector(dfX_list, dfY)"
   ]
  },
  {
   "cell_type": "code",
   "execution_count": 137,
   "metadata": {},
   "outputs": [
    {
     "name": "stdout",
     "output_type": "stream",
     "text": [
      "Test accuracy:  [0.64581774652102353, 0.64791261409546608, 0.64806224749364061, 0.6468651803082448, 0.64701481370641922, 0.662127786922041, 0.66317522070926227]\n",
      "Log Loss performance:  [0.85218563279716464, 0.85168803283075423, 0.85329305561022206, 0.85050965611632401, 0.85128578282898282, 0.81691482571290497, 0.82003804798887803]\n"
     ]
    }
   ],
   "source": [
    "print('Test accuracy: ', test_compile)\n",
    "print('Log Loss performance: ', logLoss_compile)"
   ]
  },
  {
   "cell_type": "code",
   "execution_count": 138,
   "metadata": {},
   "outputs": [
    {
     "data": {
      "image/png": "[encoded data removed]",
      "text/plain": [
       "<matplotlib.figure.Figure at 0x1c2192c438>"
      ]
     },
     "metadata": {},
     "output_type": "display_data"
    }
   ],
   "source": [
    "plt.figure(figsize = (7, 5))\n",
    "plt.plot(range(1, 8), train_compile, label = 'train_accuracy')\n",
    "plt.plot(range(1, 8), test_compile, label = 'test_accuracy')\n",
    "plt.legend()\n",
    "plt.xlabel('Feature Cases')\n",
    "plt.ylabel('Accuracy %')\n",
    "plt.title('Greedy Feature Selection Result')\n",
    "plt.show()"
   ]
  },
  {
   "cell_type": "code",
   "execution_count": 139,
   "metadata": {},
   "outputs": [
    {
     "data": {
      "image/png": "[encoded data removed]",
      "text/plain": [
       "<matplotlib.figure.Figure at 0x1c21c8f860>"
      ]
     },
     "metadata": {},
     "output_type": "display_data"
    }
   ],
   "source": [
    "plt.figure(figsize = (7, 5))\n",
    "plt.plot(range(1, 8), logLoss_compile)\n",
    "plt.xlabel('Feature Cases')\n",
    "plt.ylabel('Log Loss')\n",
    "plt.title('Greedy Feature Selection Result')\n",
    "plt.show()"
   ]
  },
  {
   "cell_type": "code",
   "execution_count": null,
   "metadata": {
    "collapsed": true
   },
   "outputs": [],
   "source": []
  },
  {
   "cell_type": "markdown",
   "metadata": {},
   "source": [
    "### 데이터 split -> 결과가 제일 좋았던 6번 dfX적용"
   ]
  },
  {
   "cell_type": "code",
   "execution_count": 105,
   "metadata": {
    "collapsed": true
   },
   "outputs": [],
   "source": [
    "dfX_train, dfX_test, dfY_train, dfY_test = train_test_split(dfX6, dfY, test_size = 0.05, random_state = 0)\n",
    "\n"
   ]
  },
  {
   "cell_type": "code",
   "execution_count": 106,
   "metadata": {},
   "outputs": [
    {
     "data": {
      "text/plain": [
       "(1337, 604)"
      ]
     },
     "execution_count": 106,
     "metadata": {},
     "output_type": "execute_result"
    }
   ],
   "source": [
    "dfX_test.shape"
   ]
  },
  {
   "cell_type": "code",
   "execution_count": null,
   "metadata": {
    "collapsed": true
   },
   "outputs": [],
   "source": []
  },
  {
   "cell_type": "code",
   "execution_count": null,
   "metadata": {
    "collapsed": true
   },
   "outputs": [],
   "source": []
  },
  {
   "cell_type": "markdown",
   "metadata": {},
   "source": [
    "# Modeling"
   ]
  },
  {
   "cell_type": "markdown",
   "metadata": {},
   "source": [
    "## Logistic Regression Model Optimization"
   ]
  },
  {
   "cell_type": "code",
   "execution_count": 107,
   "metadata": {
    "collapsed": true
   },
   "outputs": [],
   "source": [
    "def lr_optimizer_estimator(dfX, dfY):\n",
    "    '''This function is used to optimize the xgboost parameters using GridSearchCV from Scikit-learn'''\n",
    "    model_lr = LogisticRegression()\n",
    "    parameters = {'penalty': ['l1','l2'], 'C': [0.01, 0.1, 1, 10,100]}\n",
    "    \n",
    "    gs = GridSearchCV(estimator = model_lr, param_grid = parameters, scoring = 'neg_log_loss', cv = 10, n_jobs = 3)\n",
    "    %time gs = gs.fit(dfX, dfY)\n",
    "    return gs"
   ]
  },
  {
   "cell_type": "code",
   "execution_count": 108,
   "metadata": {},
   "outputs": [
    {
     "name": "stdout",
     "output_type": "stream",
     "text": [
      "CPU times: user 6.25 s, sys: 627 ms, total: 6.88 s\n",
      "Wall time: 2min 53s\n"
     ]
    }
   ],
   "source": [
    "gs = lr_optimizer_estimator(dfX_train, dfY_train)"
   ]
  },
  {
   "cell_type": "code",
   "execution_count": 109,
   "metadata": {},
   "outputs": [
    {
     "data": {
      "text/plain": [
       "array([-0.93891706, -0.99607443, -0.91889856, -1.00347474, -1.02941248,\n",
       "       -1.03975227, -1.1984844 , -1.06070304, -1.33011805, -1.03386793])"
      ]
     },
     "execution_count": 109,
     "metadata": {},
     "output_type": "execute_result"
    }
   ],
   "source": [
    "gs.cv_results_[\"mean_test_score\"]"
   ]
  },
  {
   "cell_type": "code",
   "execution_count": 110,
   "metadata": {},
   "outputs": [
    {
     "name": "stdout",
     "output_type": "stream",
     "text": [
      "-0.918898556238\n",
      "{'C': 0.1, 'penalty': 'l1'}\n"
     ]
    }
   ],
   "source": [
    "print(gs.best_score_)\n",
    "print(gs.best_params_)"
   ]
  },
  {
   "cell_type": "markdown",
   "metadata": {},
   "source": [
    "#### Logistic Regression: GridSearchCV 최적화 식 최종 test 검증"
   ]
  },
  {
   "cell_type": "code",
   "execution_count": 111,
   "metadata": {
    "collapsed": true
   },
   "outputs": [],
   "source": [
    "model_lr = LogisticRegression(penalty = 'l1', C = 1)\n",
    "model_lr.fit(dfX_train, dfY_train)\n",
    "\n",
    "y_pred_train = model_lr.predict(dfX_train)\n",
    "train_accuracy = accuracy_score(dfY_train, y_pred_train)\n",
    "\n",
    "y_pred_test = model_lr.predict(dfX_test)\n",
    "test_accuracy = accuracy_score(dfY_test, y_pred_test)\n",
    "\n",
    "y_proba = model_lr.predict_proba(dfX_test)\n",
    "performance = log_loss(dfY_test, y_proba)"
   ]
  },
  {
   "cell_type": "code",
   "execution_count": 112,
   "metadata": {},
   "outputs": [
    {
     "name": "stdout",
     "output_type": "stream",
     "text": [
      "Logistic Regression -----> Training accuracy: 0.637248,  Test accuracy: 0.633508,  log_loos:  1.068886\n"
     ]
    }
   ],
   "source": [
    "print('Logistic Regression -----> Training accuracy: %f,  Test accuracy: %f,  log_loos:  %f' % (train_accuracy, test_accuracy, performance))"
   ]
  },
  {
   "cell_type": "code",
   "execution_count": 113,
   "metadata": {},
   "outputs": [
    {
     "name": "stdout",
     "output_type": "stream",
     "text": [
      "             precision    recall  f1-score   support\n",
      "\n",
      "          1       0.61      0.90      0.73       540\n",
      "          2       0.00      0.00      0.00         5\n",
      "          3       0.61      0.16      0.25        70\n",
      "          4       0.65      0.08      0.14       252\n",
      "          5       0.67      0.70      0.68       470\n",
      "\n",
      "avg / total       0.64      0.63      0.58      1337\n",
      "\n"
     ]
    }
   ],
   "source": [
    "print(classification_report(dfY_test, y_pred_test))"
   ]
  },
  {
   "cell_type": "code",
   "execution_count": null,
   "metadata": {
    "collapsed": true
   },
   "outputs": [],
   "source": []
  },
  {
   "cell_type": "code",
   "execution_count": null,
   "metadata": {
    "collapsed": true
   },
   "outputs": [],
   "source": []
  },
  {
   "cell_type": "markdown",
   "metadata": {},
   "source": [
    "## Naive Bayesian Model Optimization\n",
    "\n",
    "#### Reference: https://www.analyticsvidhya.com/blog/2017/09/naive-bayes-explained/\n",
    "\n",
    "위 참조는 Naive Bayesian모델의 predict_proba 결과는 신용성이 떨어진다는 내용의 관련 자료임"
   ]
  },
  {
   "cell_type": "code",
   "execution_count": 114,
   "metadata": {
    "collapsed": true
   },
   "outputs": [],
   "source": [
    "model_NB = GaussianNB().fit(dfX_train, dfY_train)"
   ]
  },
  {
   "cell_type": "code",
   "execution_count": 115,
   "metadata": {
    "collapsed": true
   },
   "outputs": [],
   "source": [
    "y_pred_train = model_NB.predict(dfX_train)\n",
    "train_accuracy = accuracy_score(dfY_train, y_pred_train)\n",
    "\n",
    "y_pred_test = model_NB.predict(dfX_test)\n",
    "test_accuracy = accuracy_score(dfY_test, y_pred_test)\n",
    "\n",
    "y_proba = model_NB.predict_proba(dfX_test)\n",
    "performance = log_loss(dfY_test, y_proba)"
   ]
  },
  {
   "cell_type": "code",
   "execution_count": 116,
   "metadata": {},
   "outputs": [
    {
     "name": "stdout",
     "output_type": "stream",
     "text": [
      "ExtremeForest -----> Training accuracy: 0.158318,  Test accuracy: 0.140613,  log_loos:  26.074911\n"
     ]
    }
   ],
   "source": [
    "print('ExtremeForest -----> Training accuracy: %f,  Test accuracy: %f,  log_loos:  %f' % (train_accuracy, test_accuracy, performance))"
   ]
  },
  {
   "cell_type": "code",
   "execution_count": 117,
   "metadata": {},
   "outputs": [
    {
     "name": "stdout",
     "output_type": "stream",
     "text": [
      "             precision    recall  f1-score   support\n",
      "\n",
      "          1       0.65      0.12      0.21       540\n",
      "          2       0.00      0.60      0.01         5\n",
      "          3       0.07      0.16      0.10        70\n",
      "          4       0.35      0.30      0.32       252\n",
      "          5       0.41      0.07      0.11       470\n",
      "\n",
      "avg / total       0.48      0.14      0.19      1337\n",
      "\n"
     ]
    }
   ],
   "source": [
    "print(classification_report(dfY_test, y_pred_test))"
   ]
  },
  {
   "cell_type": "markdown",
   "metadata": {},
   "source": [
    "Naive Bayesian의 가정중 하나는 feature들이 독립적인(independence) 관계를 가진다는 거다. 하지만 앞서 EDA에서 봤듯이 shelter animal 데이터는 인자별 관계도가 매우 복잡하다. 어느정도 예상했지만 생각보다 더  Naive Bayesian 접근은 결론이 매우 좋지 않았다."
   ]
  },
  {
   "cell_type": "code",
   "execution_count": null,
   "metadata": {
    "collapsed": true
   },
   "outputs": [],
   "source": []
  },
  {
   "cell_type": "code",
   "execution_count": null,
   "metadata": {
    "collapsed": true
   },
   "outputs": [],
   "source": []
  },
  {
   "cell_type": "markdown",
   "metadata": {},
   "source": [
    "## Random Forest Model Optimization\n",
    "\n",
    "GridsearchCV 최적화"
   ]
  },
  {
   "cell_type": "code",
   "execution_count": 118,
   "metadata": {
    "collapsed": true
   },
   "outputs": [],
   "source": [
    "def forest_optimizer_estimator(dfX, dfY):\n",
    "    '''This function is used to optimize the xgboost parameters using GridSearchCV from Scikit-learn'''\n",
    "    model_forest = RandomForestClassifier(n_jobs = 3)\n",
    "    parameters = {'max_depth': [35, 40, 45, 50], 'n_estimators': [300, 500, 700]}\n",
    "    \n",
    "    gs = GridSearchCV(estimator = model_forest, param_grid = parameters, scoring = 'neg_log_loss', cv = 5, n_jobs = 3)\n",
    "    %time gs = gs.fit(dfX, dfY)\n",
    "    return gs"
   ]
  },
  {
   "cell_type": "code",
   "execution_count": 119,
   "metadata": {},
   "outputs": [
    {
     "name": "stdout",
     "output_type": "stream",
     "text": [
      "CPU times: user 4min 9s, sys: 6.67 s, total: 4min 15s\n",
      "Wall time: 1h 20min 42s\n",
      "CPU times: user 4min 9s, sys: 6.68 s, total: 4min 15s\n",
      "Wall time: 1h 20min 42s\n"
     ]
    }
   ],
   "source": [
    "%%time\n",
    "gs_estimator = forest_optimizer_estimator(dfX_train, dfY_train)"
   ]
  },
  {
   "cell_type": "code",
   "execution_count": 120,
   "metadata": {},
   "outputs": [
    {
     "data": {
      "text/plain": [
       "array([-0.81713135, -0.81529456, -0.81542485, -0.81532068, -0.8127014 ,\n",
       "       -0.81113929, -0.82185427, -0.81430199, -0.81118061, -0.82606394,\n",
       "       -0.81610146, -0.81460099])"
      ]
     },
     "execution_count": 120,
     "metadata": {},
     "output_type": "execute_result"
    }
   ],
   "source": [
    "gs_estimator.cv_results_[\"mean_test_score\"]"
   ]
  },
  {
   "cell_type": "code",
   "execution_count": 121,
   "metadata": {},
   "outputs": [
    {
     "name": "stdout",
     "output_type": "stream",
     "text": [
      "-0.811139288404\n",
      "{'n_estimators': 700, 'max_depth': 40}\n"
     ]
    }
   ],
   "source": [
    "print(gs_estimator.best_score_)\n",
    "print(gs_estimator.best_params_)"
   ]
  },
  {
   "cell_type": "markdown",
   "metadata": {},
   "source": [
    "### Random Forest: GridSearchCV 최적화 식 최종 test 검증"
   ]
  },
  {
   "cell_type": "code",
   "execution_count": 122,
   "metadata": {
    "collapsed": true
   },
   "outputs": [],
   "source": [
    "model_forest = RandomForestClassifier(max_depth = 45, n_estimators = 500, n_jobs = 3)\n",
    "model_forest.fit(dfX_train, dfY_train)\n",
    "\n",
    "y_pred_train = model_forest.predict(dfX_train)\n",
    "train_accuracy = accuracy_score(dfY_train, y_pred_train)\n",
    "\n",
    "y_pred_test = model_forest.predict(dfX_test)\n",
    "test_accuracy = accuracy_score(dfY_test, y_pred_test)\n",
    "\n",
    "y_proba = model_forest.predict_proba(dfX_test)\n",
    "performance = log_loss(dfY_test, y_proba)"
   ]
  },
  {
   "cell_type": "code",
   "execution_count": 123,
   "metadata": {},
   "outputs": [
    {
     "name": "stdout",
     "output_type": "stream",
     "text": [
      "RandomForest -----> Training accuracy: 0.999724,  Test accuracy: 0.699327,  log_loos:  0.759519\n"
     ]
    }
   ],
   "source": [
    "print('RandomForest -----> Training accuracy: %f,  Test accuracy: %f,  log_loos:  %f' % (train_accuracy, test_accuracy, performance))"
   ]
  },
  {
   "cell_type": "code",
   "execution_count": 124,
   "metadata": {},
   "outputs": [
    {
     "name": "stdout",
     "output_type": "stream",
     "text": [
      "             precision    recall  f1-score   support\n",
      "\n",
      "          1       0.67      0.89      0.77       540\n",
      "          2       0.00      0.00      0.00         5\n",
      "          3       0.80      0.11      0.20        70\n",
      "          4       0.60      0.41      0.49       252\n",
      "          5       0.78      0.73      0.75       470\n",
      "\n",
      "avg / total       0.70      0.70      0.68      1337\n",
      "\n"
     ]
    },
    {
     "name": "stderr",
     "output_type": "stream",
     "text": [
      "/Users/Dong-hyun/anaconda3/lib/python3.5/site-packages/sklearn/metrics/classification.py:1135: UndefinedMetricWarning: Precision and F-score are ill-defined and being set to 0.0 in labels with no predicted samples.\n",
      "  'precision', 'predicted', average, warn_for)\n"
     ]
    }
   ],
   "source": [
    "print(classification_report(dfY_test, y_pred_test))"
   ]
  },
  {
   "cell_type": "markdown",
   "metadata": {},
   "source": [
    "확실히 linear한 Logistic Regression이나 인자간 독립가정을 하는 GaussianNB에 대비 Random Forest는 성능이 좋음."
   ]
  },
  {
   "cell_type": "code",
   "execution_count": null,
   "metadata": {
    "collapsed": true
   },
   "outputs": [],
   "source": []
  },
  {
   "cell_type": "code",
   "execution_count": null,
   "metadata": {
    "collapsed": true
   },
   "outputs": [],
   "source": []
  },
  {
   "cell_type": "markdown",
   "metadata": {},
   "source": [
    "## Extreme Forest Optimization"
   ]
  },
  {
   "cell_type": "code",
   "execution_count": 125,
   "metadata": {
    "collapsed": true
   },
   "outputs": [],
   "source": [
    "def exforest_optimizer_estimator(dfX, dfY):\n",
    "    '''This function is used to optimize the xgboost parameters using GridSearchCV from Scikit-learn'''\n",
    "    model_forest = ExtraTreesClassifier(n_jobs = 3)\n",
    "    parameters = {'max_depth': [35, 40, 45, 50], 'n_estimators': [300, 500, 700]}\n",
    "    \n",
    "    gs = GridSearchCV(estimator = model_forest, param_grid = parameters, scoring = 'neg_log_loss', cv = 5, n_jobs = 3)\n",
    "    %time gs = gs.fit(dfX, dfY)\n",
    "    return gs"
   ]
  },
  {
   "cell_type": "code",
   "execution_count": 126,
   "metadata": {},
   "outputs": [
    {
     "name": "stdout",
     "output_type": "stream",
     "text": [
      "CPU times: user 2min 33s, sys: 7.04 s, total: 2min 40s\n",
      "Wall time: 58min 42s\n",
      "CPU times: user 2min 33s, sys: 7.27 s, total: 2min 40s\n",
      "Wall time: 58min 42s\n"
     ]
    }
   ],
   "source": [
    "%%time\n",
    "gs_estimator = forest_optimizer_estimator(dfX_train, dfY_train)"
   ]
  },
  {
   "cell_type": "code",
   "execution_count": 127,
   "metadata": {},
   "outputs": [
    {
     "data": {
      "text/plain": [
       "array([-0.81667781, -0.81640306, -0.81484742, -0.81246346, -0.81276558,\n",
       "       -0.81132538, -0.81875013, -0.81592373, -0.81002029, -0.82903875,\n",
       "       -0.81541195, -0.81848492])"
      ]
     },
     "execution_count": 127,
     "metadata": {},
     "output_type": "execute_result"
    }
   ],
   "source": [
    "gs_estimator.cv_results_[\"mean_test_score\"]"
   ]
  },
  {
   "cell_type": "code",
   "execution_count": 128,
   "metadata": {},
   "outputs": [
    {
     "name": "stdout",
     "output_type": "stream",
     "text": [
      "-0.810020292552\n",
      "{'n_estimators': 700, 'max_depth': 45}\n"
     ]
    }
   ],
   "source": [
    "print(gs_estimator.best_score_)\n",
    "print(gs_estimator.best_params_)"
   ]
  },
  {
   "cell_type": "markdown",
   "metadata": {},
   "source": [
    "### Extreme Forest: GridSearchCV 최적화 식 최종 test 검증"
   ]
  },
  {
   "cell_type": "code",
   "execution_count": 129,
   "metadata": {
    "collapsed": true
   },
   "outputs": [],
   "source": [
    "model_exforest = ExtraTreesClassifier(max_depth = 40, n_estimators = 500, n_jobs = -1)\n",
    "model_exforest.fit(dfX_train, dfY_train)\n",
    "\n",
    "y_pred_train = model_exforest.predict(dfX_train)\n",
    "train_accuracy = accuracy_score(dfY_train, y_pred_train)\n",
    "\n",
    "y_pred_test = model_exforest.predict(dfX_test)\n",
    "test_accuracy = accuracy_score(dfY_test, y_pred_test)\n",
    "\n",
    "y_proba = model_exforest.predict_proba(dfX_test)\n",
    "performance = log_loss(dfY_test, y_proba)"
   ]
  },
  {
   "cell_type": "code",
   "execution_count": 130,
   "metadata": {},
   "outputs": [
    {
     "name": "stdout",
     "output_type": "stream",
     "text": [
      "ExtremeForest -----> Training accuracy: 0.999724,  Test accuracy: 0.690352,  log_loos:  0.771402\n"
     ]
    }
   ],
   "source": [
    "print('ExtremeForest -----> Training accuracy: %f,  Test accuracy: %f,  log_loos:  %f' % (train_accuracy, test_accuracy, performance))"
   ]
  },
  {
   "cell_type": "code",
   "execution_count": 131,
   "metadata": {},
   "outputs": [
    {
     "name": "stdout",
     "output_type": "stream",
     "text": [
      "             precision    recall  f1-score   support\n",
      "\n",
      "          1       0.65      0.90      0.75       540\n",
      "          2       0.00      0.00      0.00         5\n",
      "          3       0.83      0.14      0.24        70\n",
      "          4       0.59      0.33      0.42       252\n",
      "          5       0.79      0.74      0.76       470\n",
      "\n",
      "avg / total       0.69      0.69      0.66      1337\n",
      "\n"
     ]
    },
    {
     "name": "stderr",
     "output_type": "stream",
     "text": [
      "/Users/Dong-hyun/anaconda3/lib/python3.5/site-packages/sklearn/metrics/classification.py:1135: UndefinedMetricWarning: Precision and F-score are ill-defined and being set to 0.0 in labels with no predicted samples.\n",
      "  'precision', 'predicted', average, warn_for)\n"
     ]
    }
   ],
   "source": [
    "print(classification_report(dfY_test, y_pred_test))"
   ]
  },
  {
   "cell_type": "markdown",
   "metadata": {},
   "source": [
    "RandomForest 대비 미비하게 성능이 낮은것으로 판단됨."
   ]
  },
  {
   "cell_type": "code",
   "execution_count": null,
   "metadata": {
    "collapsed": true
   },
   "outputs": [],
   "source": []
  },
  {
   "cell_type": "code",
   "execution_count": null,
   "metadata": {
    "collapsed": true
   },
   "outputs": [],
   "source": []
  },
  {
   "cell_type": "markdown",
   "metadata": {},
   "source": [
    "## XGBoost Model Optimization\n",
    "\n",
    "####  자세한 내용은 아래쪽 XGBoost: 최적화 방안 2 참조. max_depth를 6~10으로 조절하며 여러 XGBoost모델을 적용하는데 모델 개개인보다 합쳐진 모델결과가 더 좋은지 검증하기 위해 GridSearchCV를 이용해서 CV적용"
   ]
  },
  {
   "cell_type": "code",
   "execution_count": 132,
   "metadata": {
    "collapsed": true
   },
   "outputs": [],
   "source": [
    "def xgboost_optimizer_estimator(dfX, dfY):\n",
    "    '''This function is used to optimize the xgboost parameters using GridSearchCV from Scikit-learn'''\n",
    "    model_xgb = xgboost.XGBClassifier()\n",
    "    parameters = {'max_depth': [5, 6, 7, 8, 9, 10, 11], 'n_estimators': [100]}\n",
    "    \n",
    "    gs = GridSearchCV(estimator = model_xgb, param_grid = parameters, scoring = 'neg_log_loss', cv = 4, n_jobs = 3)\n",
    "    %time gs = gs.fit(dfX, dfY)\n",
    "    return gs"
   ]
  },
  {
   "cell_type": "code",
   "execution_count": 133,
   "metadata": {
    "collapsed": true
   },
   "outputs": [
    {
     "ename": "KeyboardInterrupt",
     "evalue": "",
     "output_type": "error",
     "traceback": [
      "\u001b[0;31m---------------------------------------------------------------------------\u001b[0m",
      "\u001b[0;31mKeyboardInterrupt\u001b[0m                         Traceback (most recent call last)",
      "\u001b[0;32m<timed exec>\u001b[0m in \u001b[0;36m<module>\u001b[0;34m()\u001b[0m\n",
      "\u001b[0;32m~/anaconda3/lib/python3.5/site-packages/sklearn/model_selection/_search.py\u001b[0m in \u001b[0;36mfit\u001b[0;34m(self, X, y, groups, **fit_params)\u001b[0m\n\u001b[1;32m    637\u001b[0m                                   error_score=self.error_score)\n\u001b[1;32m    638\u001b[0m           for parameters, (train, test) in product(candidate_params,\n\u001b[0;32m--> 639\u001b[0;31m                                                    cv.split(X, y, groups)))\n\u001b[0m\u001b[1;32m    640\u001b[0m \u001b[0;34m\u001b[0m\u001b[0m\n\u001b[1;32m    641\u001b[0m         \u001b[0;31m# if one choose to see train score, \"out\" will contain train score info\u001b[0m\u001b[0;34m\u001b[0m\u001b[0;34m\u001b[0m\u001b[0m\n",
      "\u001b[0;32m~/anaconda3/lib/python3.5/site-packages/sklearn/externals/joblib/parallel.py\u001b[0m in \u001b[0;36m__call__\u001b[0;34m(self, iterable)\u001b[0m\n\u001b[1;32m    787\u001b[0m                 \u001b[0;31m# consumption.\u001b[0m\u001b[0;34m\u001b[0m\u001b[0;34m\u001b[0m\u001b[0m\n\u001b[1;32m    788\u001b[0m                 \u001b[0mself\u001b[0m\u001b[0;34m.\u001b[0m\u001b[0m_iterating\u001b[0m \u001b[0;34m=\u001b[0m \u001b[0;32mFalse\u001b[0m\u001b[0;34m\u001b[0m\u001b[0m\n\u001b[0;32m--> 789\u001b[0;31m             \u001b[0mself\u001b[0m\u001b[0;34m.\u001b[0m\u001b[0mretrieve\u001b[0m\u001b[0;34m(\u001b[0m\u001b[0;34m)\u001b[0m\u001b[0;34m\u001b[0m\u001b[0m\n\u001b[0m\u001b[1;32m    790\u001b[0m             \u001b[0;31m# Make sure that we get a last message telling us we are done\u001b[0m\u001b[0;34m\u001b[0m\u001b[0;34m\u001b[0m\u001b[0m\n\u001b[1;32m    791\u001b[0m             \u001b[0melapsed_time\u001b[0m \u001b[0;34m=\u001b[0m \u001b[0mtime\u001b[0m\u001b[0;34m.\u001b[0m\u001b[0mtime\u001b[0m\u001b[0;34m(\u001b[0m\u001b[0;34m)\u001b[0m \u001b[0;34m-\u001b[0m \u001b[0mself\u001b[0m\u001b[0;34m.\u001b[0m\u001b[0m_start_time\u001b[0m\u001b[0;34m\u001b[0m\u001b[0m\n",
      "\u001b[0;32m~/anaconda3/lib/python3.5/site-packages/sklearn/externals/joblib/parallel.py\u001b[0m in \u001b[0;36mretrieve\u001b[0;34m(self)\u001b[0m\n\u001b[1;32m    697\u001b[0m             \u001b[0;32mtry\u001b[0m\u001b[0;34m:\u001b[0m\u001b[0;34m\u001b[0m\u001b[0m\n\u001b[1;32m    698\u001b[0m                 \u001b[0;32mif\u001b[0m \u001b[0mgetattr\u001b[0m\u001b[0;34m(\u001b[0m\u001b[0mself\u001b[0m\u001b[0;34m.\u001b[0m\u001b[0m_backend\u001b[0m\u001b[0;34m,\u001b[0m \u001b[0;34m'supports_timeout'\u001b[0m\u001b[0;34m,\u001b[0m \u001b[0;32mFalse\u001b[0m\u001b[0;34m)\u001b[0m\u001b[0;34m:\u001b[0m\u001b[0;34m\u001b[0m\u001b[0m\n\u001b[0;32m--> 699\u001b[0;31m                     \u001b[0mself\u001b[0m\u001b[0;34m.\u001b[0m\u001b[0m_output\u001b[0m\u001b[0;34m.\u001b[0m\u001b[0mextend\u001b[0m\u001b[0;34m(\u001b[0m\u001b[0mjob\u001b[0m\u001b[0;34m.\u001b[0m\u001b[0mget\u001b[0m\u001b[0;34m(\u001b[0m\u001b[0mtimeout\u001b[0m\u001b[0;34m=\u001b[0m\u001b[0mself\u001b[0m\u001b[0;34m.\u001b[0m\u001b[0mtimeout\u001b[0m\u001b[0;34m)\u001b[0m\u001b[0;34m)\u001b[0m\u001b[0;34m\u001b[0m\u001b[0m\n\u001b[0m\u001b[1;32m    700\u001b[0m                 \u001b[0;32melse\u001b[0m\u001b[0;34m:\u001b[0m\u001b[0;34m\u001b[0m\u001b[0m\n\u001b[1;32m    701\u001b[0m                     \u001b[0mself\u001b[0m\u001b[0;34m.\u001b[0m\u001b[0m_output\u001b[0m\u001b[0;34m.\u001b[0m\u001b[0mextend\u001b[0m\u001b[0;34m(\u001b[0m\u001b[0mjob\u001b[0m\u001b[0;34m.\u001b[0m\u001b[0mget\u001b[0m\u001b[0;34m(\u001b[0m\u001b[0;34m)\u001b[0m\u001b[0;34m)\u001b[0m\u001b[0;34m\u001b[0m\u001b[0m\n",
      "\u001b[0;32m~/anaconda3/lib/python3.5/multiprocessing/pool.py\u001b[0m in \u001b[0;36mget\u001b[0;34m(self, timeout)\u001b[0m\n\u001b[1;32m    636\u001b[0m \u001b[0;34m\u001b[0m\u001b[0m\n\u001b[1;32m    637\u001b[0m     \u001b[0;32mdef\u001b[0m \u001b[0mget\u001b[0m\u001b[0;34m(\u001b[0m\u001b[0mself\u001b[0m\u001b[0;34m,\u001b[0m \u001b[0mtimeout\u001b[0m\u001b[0;34m=\u001b[0m\u001b[0;32mNone\u001b[0m\u001b[0;34m)\u001b[0m\u001b[0;34m:\u001b[0m\u001b[0;34m\u001b[0m\u001b[0m\n\u001b[0;32m--> 638\u001b[0;31m         \u001b[0mself\u001b[0m\u001b[0;34m.\u001b[0m\u001b[0mwait\u001b[0m\u001b[0;34m(\u001b[0m\u001b[0mtimeout\u001b[0m\u001b[0;34m)\u001b[0m\u001b[0;34m\u001b[0m\u001b[0m\n\u001b[0m\u001b[1;32m    639\u001b[0m         \u001b[0;32mif\u001b[0m \u001b[0;32mnot\u001b[0m \u001b[0mself\u001b[0m\u001b[0;34m.\u001b[0m\u001b[0mready\u001b[0m\u001b[0;34m(\u001b[0m\u001b[0;34m)\u001b[0m\u001b[0;34m:\u001b[0m\u001b[0;34m\u001b[0m\u001b[0m\n\u001b[1;32m    640\u001b[0m             \u001b[0;32mraise\u001b[0m \u001b[0mTimeoutError\u001b[0m\u001b[0;34m\u001b[0m\u001b[0m\n",
      "\u001b[0;32m~/anaconda3/lib/python3.5/multiprocessing/pool.py\u001b[0m in \u001b[0;36mwait\u001b[0;34m(self, timeout)\u001b[0m\n\u001b[1;32m    633\u001b[0m \u001b[0;34m\u001b[0m\u001b[0m\n\u001b[1;32m    634\u001b[0m     \u001b[0;32mdef\u001b[0m \u001b[0mwait\u001b[0m\u001b[0;34m(\u001b[0m\u001b[0mself\u001b[0m\u001b[0;34m,\u001b[0m \u001b[0mtimeout\u001b[0m\u001b[0;34m=\u001b[0m\u001b[0;32mNone\u001b[0m\u001b[0;34m)\u001b[0m\u001b[0;34m:\u001b[0m\u001b[0;34m\u001b[0m\u001b[0m\n\u001b[0;32m--> 635\u001b[0;31m         \u001b[0mself\u001b[0m\u001b[0;34m.\u001b[0m\u001b[0m_event\u001b[0m\u001b[0;34m.\u001b[0m\u001b[0mwait\u001b[0m\u001b[0;34m(\u001b[0m\u001b[0mtimeout\u001b[0m\u001b[0;34m)\u001b[0m\u001b[0;34m\u001b[0m\u001b[0m\n\u001b[0m\u001b[1;32m    636\u001b[0m \u001b[0;34m\u001b[0m\u001b[0m\n\u001b[1;32m    637\u001b[0m     \u001b[0;32mdef\u001b[0m \u001b[0mget\u001b[0m\u001b[0;34m(\u001b[0m\u001b[0mself\u001b[0m\u001b[0;34m,\u001b[0m \u001b[0mtimeout\u001b[0m\u001b[0;34m=\u001b[0m\u001b[0;32mNone\u001b[0m\u001b[0;34m)\u001b[0m\u001b[0;34m:\u001b[0m\u001b[0;34m\u001b[0m\u001b[0m\n",
      "\u001b[0;32m~/anaconda3/lib/python3.5/threading.py\u001b[0m in \u001b[0;36mwait\u001b[0;34m(self, timeout)\u001b[0m\n\u001b[1;32m    547\u001b[0m             \u001b[0msignaled\u001b[0m \u001b[0;34m=\u001b[0m \u001b[0mself\u001b[0m\u001b[0;34m.\u001b[0m\u001b[0m_flag\u001b[0m\u001b[0;34m\u001b[0m\u001b[0m\n\u001b[1;32m    548\u001b[0m             \u001b[0;32mif\u001b[0m \u001b[0;32mnot\u001b[0m \u001b[0msignaled\u001b[0m\u001b[0;34m:\u001b[0m\u001b[0;34m\u001b[0m\u001b[0m\n\u001b[0;32m--> 549\u001b[0;31m                 \u001b[0msignaled\u001b[0m \u001b[0;34m=\u001b[0m \u001b[0mself\u001b[0m\u001b[0;34m.\u001b[0m\u001b[0m_cond\u001b[0m\u001b[0;34m.\u001b[0m\u001b[0mwait\u001b[0m\u001b[0;34m(\u001b[0m\u001b[0mtimeout\u001b[0m\u001b[0;34m)\u001b[0m\u001b[0;34m\u001b[0m\u001b[0m\n\u001b[0m\u001b[1;32m    550\u001b[0m             \u001b[0;32mreturn\u001b[0m \u001b[0msignaled\u001b[0m\u001b[0;34m\u001b[0m\u001b[0m\n\u001b[1;32m    551\u001b[0m \u001b[0;34m\u001b[0m\u001b[0m\n",
      "\u001b[0;32m~/anaconda3/lib/python3.5/threading.py\u001b[0m in \u001b[0;36mwait\u001b[0;34m(self, timeout)\u001b[0m\n\u001b[1;32m    291\u001b[0m         \u001b[0;32mtry\u001b[0m\u001b[0;34m:\u001b[0m    \u001b[0;31m# restore state no matter what (e.g., KeyboardInterrupt)\u001b[0m\u001b[0;34m\u001b[0m\u001b[0m\n\u001b[1;32m    292\u001b[0m             \u001b[0;32mif\u001b[0m \u001b[0mtimeout\u001b[0m \u001b[0;32mis\u001b[0m \u001b[0;32mNone\u001b[0m\u001b[0;34m:\u001b[0m\u001b[0;34m\u001b[0m\u001b[0m\n\u001b[0;32m--> 293\u001b[0;31m                 \u001b[0mwaiter\u001b[0m\u001b[0;34m.\u001b[0m\u001b[0macquire\u001b[0m\u001b[0;34m(\u001b[0m\u001b[0;34m)\u001b[0m\u001b[0;34m\u001b[0m\u001b[0m\n\u001b[0m\u001b[1;32m    294\u001b[0m                 \u001b[0mgotit\u001b[0m \u001b[0;34m=\u001b[0m \u001b[0;32mTrue\u001b[0m\u001b[0;34m\u001b[0m\u001b[0m\n\u001b[1;32m    295\u001b[0m             \u001b[0;32melse\u001b[0m\u001b[0;34m:\u001b[0m\u001b[0;34m\u001b[0m\u001b[0m\n",
      "\u001b[0;31mKeyboardInterrupt\u001b[0m: "
     ]
    },
    {
     "name": "stdout",
     "output_type": "stream",
     "text": [
      "CPU times: user 5.25 s, sys: 2.22 s, total: 7.47 s\n",
      "Wall time: 1h 44min 20s\n"
     ]
    }
   ],
   "source": [
    "%%time\n",
    "gs_estimator = xgboost_optimizer_estimator(dfX_train, dfY_train)"
   ]
  },
  {
   "cell_type": "code",
   "execution_count": 134,
   "metadata": {
    "collapsed": true
   },
   "outputs": [
    {
     "ename": "AttributeError",
     "evalue": "'GridSearchCV' object has no attribute 'cv_results_'",
     "output_type": "error",
     "traceback": [
      "\u001b[0;31m---------------------------------------------------------------------------\u001b[0m",
      "\u001b[0;31mAttributeError\u001b[0m                            Traceback (most recent call last)",
      "\u001b[0;32m<ipython-input-134-2f5a425010c0>\u001b[0m in \u001b[0;36m<module>\u001b[0;34m()\u001b[0m\n\u001b[0;32m----> 1\u001b[0;31m \u001b[0mgs_estimator\u001b[0m\u001b[0;34m.\u001b[0m\u001b[0mcv_results_\u001b[0m\u001b[0;34m[\u001b[0m\u001b[0;34m\"mean_test_score\"\u001b[0m\u001b[0;34m]\u001b[0m\u001b[0;34m\u001b[0m\u001b[0m\n\u001b[0m",
      "\u001b[0;31mAttributeError\u001b[0m: 'GridSearchCV' object has no attribute 'cv_results_'"
     ]
    }
   ],
   "source": [
    "gs_estimator.cv_results_[\"mean_test_score\"]"
   ]
  },
  {
   "cell_type": "code",
   "execution_count": null,
   "metadata": {
    "collapsed": true
   },
   "outputs": [],
   "source": [
    "print(gs_estimator.best_score_)\n",
    "print(gs_estimator.best_params_)"
   ]
  },
  {
   "cell_type": "code",
   "execution_count": null,
   "metadata": {
    "collapsed": true
   },
   "outputs": [],
   "source": []
  },
  {
   "cell_type": "markdown",
   "metadata": {},
   "source": [
    "### XGBoost: 최적화 방안 2 (여러 XGBoost모델 결합)\n",
    "\n",
    "#### References: https://nishadikirielle.wordpress.com/2016/10/08/kaggle-competition-shelter-animal-problem-xgboost-approach/\n",
    "\n",
    "#### XGBoost Parameter Tuning: https://www.analyticsvidhya.com/blog/2016/03/complete-guide-parameter-tuning-xgboost-with-codes-python/\n",
    "\n",
    "원래 계획은 max_depth와 n_estimator를 한번에 GridSearchCV를 통한 최적화. 하지만 Runtime시간도 너무 길고 여러가지 튜닝을 하는데 시간적 한계가 있는것으로 판단되어서 차선책을 찾던중 좋은 방안 찾아냄.\n",
    "\n",
    "한개의 모델을 최적화 하는 것 보다 max_depth값을 변환하면서 예측한 결과를 바탕으로 평균성능을 뽑아내는 것이 더 잘 나온다는 참조 정보를 바탕으로 진행해봄. 모델 인자 튜닝 또한 윗 참조에서 사용한 값 적용."
   ]
  },
  {
   "cell_type": "code",
   "execution_count": 140,
   "metadata": {},
   "outputs": [
    {
     "name": "stdout",
     "output_type": "stream",
     "text": [
      "CPU times: user 35min 21s, sys: 15.2 s, total: 35min 36s\n",
      "Wall time: 12min 42s\n"
     ]
    }
   ],
   "source": [
    "%%time\n",
    "model_xgb1 = xgboost.XGBClassifier(max_depth = 6, nthread = -1)\n",
    "model_xgb2 = xgboost.XGBClassifier(max_depth = 7, nthread = -1)\n",
    "model_xgb3 = xgboost.XGBClassifier(max_depth = 8, nthread = -1)\n",
    "model_xgb4 = xgboost.XGBClassifier(max_depth = 9, nthread = -1)\n",
    "model_xgb5 = xgboost.XGBClassifier(max_depth = 10, nthread = -1)\n",
    "\n",
    "model_xgb1.fit(dfX_train, dfY_train)\n",
    "model_xgb2.fit(dfX_train, dfY_train)\n",
    "model_xgb3.fit(dfX_train, dfY_train)\n",
    "model_xgb4.fit(dfX_train, dfY_train)\n",
    "model_xgb5.fit(dfX_train, dfY_train)"
   ]
  },
  {
   "cell_type": "code",
   "execution_count": 141,
   "metadata": {},
   "outputs": [
    {
     "name": "stdout",
     "output_type": "stream",
     "text": [
      "0.723351747665\n"
     ]
    }
   ],
   "source": [
    "y_proba1 = model_xgb1.predict_proba(dfX_test)\n",
    "y_proba2 = model_xgb2.predict_proba(dfX_test)\n",
    "y_proba3 = model_xgb3.predict_proba(dfX_test)\n",
    "y_proba4 = model_xgb4.predict_proba(dfX_test)\n",
    "y_proba5 = model_xgb5.predict_proba(dfX_test)\n",
    "\n",
    "y_proba_avg = (y_proba1 + y_proba2 + y_proba3 + y_proba4 + y_proba5) / 5\n",
    "performance = log_loss(dfY_test, y_proba_avg)\n",
    "print(performance)"
   ]
  },
  {
   "cell_type": "code",
   "execution_count": 142,
   "metadata": {},
   "outputs": [
    {
     "name": "stdout",
     "output_type": "stream",
     "text": [
      "[[ 0.4403069   0.00189122  0.04517928  0.04248049  0.47014213]\n",
      " [ 0.91116941  0.000976    0.00188891  0.02270332  0.06326236]\n",
      " [ 0.04161577  0.0018751   0.06232172  0.82963693  0.06455043]\n",
      " ..., \n",
      " [ 0.54510462  0.00197207  0.01608475  0.21323988  0.22359869]\n",
      " [ 0.00102887  0.00728544  0.0213183   0.00189307  0.96847427]\n",
      " [ 0.41574627  0.00132503  0.01893517  0.43060184  0.13339169]]\n"
     ]
    }
   ],
   "source": [
    "print(y_proba_avg)"
   ]
  },
  {
   "cell_type": "markdown",
   "metadata": {},
   "source": [
    "test검증 log_loss값이 매우 낮게 나왔지만 모델성능 향상을 위해 train에 95%의 데이터를 몰아줬기 때문에 test.csv 결과검증을 할때는 log-loss결과가 안좋아 질수도 있음."
   ]
  },
  {
   "cell_type": "code",
   "execution_count": null,
   "metadata": {
    "collapsed": true
   },
   "outputs": [],
   "source": []
  },
  {
   "cell_type": "markdown",
   "metadata": {},
   "source": [
    "### Feature importance 분석"
   ]
  },
  {
   "cell_type": "code",
   "execution_count": 143,
   "metadata": {},
   "outputs": [
    {
     "name": "stdout",
     "output_type": "stream",
     "text": [
      " 1 AgeuponOutcome                 0.111416\n",
      " 2 Name                           0.041592\n",
      " 3 Spayed Female                  0.029989\n",
      " 4 Intact Female                  0.029401\n",
      " 5 Intact Male                    0.027394\n",
      " 6 Neutered Male                  0.027283\n",
      " 7 Rank                           0.023037\n",
      " 8 OutcomeYear_2015               0.015330\n",
      " 9 OutcomeYear_2014               0.015031\n",
      "10 OutcomeHour_17                 0.014625\n",
      "11 Main_Color_Black               0.013735\n",
      "12 OutcomeHour_18                 0.013345\n",
      "13 Sub_Color_NA                   0.013126\n",
      "14 Sub_Color_White                0.012463\n",
      "15 OutcomeHour_09                 0.010325\n",
      "16 AnimalType                     0.010104\n",
      "17 OutcomeMonth_11                0.010058\n",
      "18 OutcomeMonth_12                0.010033\n",
      "19 OutcomeMonth_10                0.009985\n",
      "20 OutcomeHour_14                 0.009675\n",
      "21 Unknown                        0.009466\n",
      "22 OutcomeHour_11                 0.009196\n",
      "23 domestic                       0.009095\n",
      "24 OutcomeHour_16                 0.008980\n",
      "25 OutcomeHour_12                 0.008846\n",
      "26 OutcomeHour_15                 0.008741\n",
      "27 OutcomeHour_13                 0.008689\n",
      "28 OutcomeMonth_01                0.008622\n",
      "29 Main_Breed_domestic shorthair  0.008472\n",
      "30 OutcomeMonth_07                0.008459\n"
     ]
    },
    {
     "data": {
      "image/png": "[encoded data removed]",
      "text/plain": [
       "<matplotlib.figure.Figure at 0x1c21cec208>"
      ]
     },
     "metadata": {},
     "output_type": "display_data"
    }
   ],
   "source": [
    "'''Feature importance analysis code'''\n",
    "'''Reference: Python Machine Learning'''\n",
    "feat_labels = np.array(dfX6.columns)\n",
    "forest = RandomForestClassifier(n_estimators=1000, random_state=0, n_jobs = 3)\n",
    "forest.fit(dfX_train, dfY_train)\n",
    "\n",
    "importances = forest.feature_importances_\n",
    "indices = np.argsort(importances)[::-1]\n",
    "indices = indices[:30]\n",
    "\n",
    "for f in range(len(indices)):\n",
    "    print(\"%2d %-*s %f\" % (f + 1, 30, feat_labels[indices[f]], importances[indices[f]] ))\n",
    "\n",
    "plt.figure(figsize = (9, 7))\n",
    "plt.title(\"Feature importances\")\n",
    "plt.bar(range(len(indices)), importances[indices])\n",
    "plt.xticks(range(len(indices)), feat_labels[indices], rotation=90)\n",
    "plt.tight_layout()\n",
    "plt.show()"
   ]
  },
  {
   "cell_type": "markdown",
   "metadata": {},
   "source": [
    "다른 Kaggle참가자들과 비슷하게 DateTime에서 Year, Month, Day, Hour 결과를 적용할 경우 Breed와 Color인자보다 시간인자들이 더 중요하게 나오는 기이한 현상을 발견할수 있다.  밑에 Kaggle 결과값 논란 부분에서 더 자세하게 언급."
   ]
  },
  {
   "cell_type": "code",
   "execution_count": null,
   "metadata": {
    "collapsed": true
   },
   "outputs": [],
   "source": []
  },
  {
   "cell_type": "markdown",
   "metadata": {},
   "source": [
    "### ROC Curve and AUC score"
   ]
  },
  {
   "cell_type": "code",
   "execution_count": 144,
   "metadata": {
    "collapsed": true
   },
   "outputs": [],
   "source": [
    "from sklearn.preprocessing import label_binarize\n",
    "from sklearn.metrics import auc\n",
    "\n",
    "y_multi = label_binarize(dfY_test, classes=[1, 2, 3, 4, 5])"
   ]
  },
  {
   "cell_type": "code",
   "execution_count": 145,
   "metadata": {
    "collapsed": true
   },
   "outputs": [],
   "source": [
    "d1_multi = y_proba_avg"
   ]
  },
  {
   "cell_type": "code",
   "execution_count": 146,
   "metadata": {
    "collapsed": true
   },
   "outputs": [],
   "source": [
    "fpr10, tpr10, thresholds10 = roc_curve(y_multi[:, 0], d1_multi[:, 0])\n",
    "fpr11, tpr11, thresholds11 = roc_curve(y_multi[:, 1], d1_multi[:, 1])\n",
    "fpr12, tpr12, thresholds12 = roc_curve(y_multi[:, 2], d1_multi[:, 2])\n",
    "fpr13, tpr13, thresholds13 = roc_curve(y_multi[:, 3], d1_multi[:, 3])\n",
    "fpr14, tpr14, thresholds14 = roc_curve(y_multi[:, 4], d1_multi[:, 4])"
   ]
  },
  {
   "cell_type": "code",
   "execution_count": 147,
   "metadata": {},
   "outputs": [
    {
     "data": {
      "image/png": "[encoded data removed]",
      "text/plain": [
       "<matplotlib.figure.Figure at 0x1c21ad7dd8>"
      ]
     },
     "metadata": {},
     "output_type": "display_data"
    }
   ],
   "source": [
    "plt.figure(figsize = (10, 7))\n",
    "plt.plot(fpr10, tpr10, label=\"Returned to owner\")\n",
    "plt.plot(fpr11, tpr11, label=\"Euthanasia\")\n",
    "plt.plot(fpr12, tpr12, label=\"Adoption\")\n",
    "plt.plot(fpr13, tpr13, label=\"Transfer\")\n",
    "plt.plot(fpr14, tpr14, label=\"Died\")\n",
    "plt.title('ROC curve for optimized XGBoost')\n",
    "plt.xlabel('False Positive Rate (Fallout)')\n",
    "plt.ylabel('True Positive Rate (Recall)')\n",
    "plt.legend()\n",
    "plt.grid(True)\n",
    "plt.show()"
   ]
  },
  {
   "cell_type": "code",
   "execution_count": 148,
   "metadata": {},
   "outputs": [
    {
     "name": "stdout",
     "output_type": "stream",
     "text": [
      "AUC for Returned to owner:  0.896435707979\n",
      "AUC for Euthanasia:  0.931231231231\n",
      "AUC for Adoption:  0.882252790619\n",
      "AUC for Transfer:  0.86044546851\n",
      "AUC for Died:  0.900341112665\n"
     ]
    }
   ],
   "source": [
    "#AUC\n",
    "print('AUC for Returned to owner: ', auc(fpr10, tpr10))\n",
    "print('AUC for Euthanasia: ', auc(fpr11, tpr11))\n",
    "print('AUC for Adoption: ', auc(fpr12, tpr12))\n",
    "print('AUC for Transfer: ', auc(fpr13, tpr13))\n",
    "print('AUC for Died: ', auc(fpr14, tpr14))"
   ]
  },
  {
   "cell_type": "code",
   "execution_count": null,
   "metadata": {
    "collapsed": true
   },
   "outputs": [],
   "source": []
  },
  {
   "cell_type": "code",
   "execution_count": null,
   "metadata": {
    "collapsed": true
   },
   "outputs": [],
   "source": []
  },
  {
   "cell_type": "markdown",
   "metadata": {},
   "source": [
    "## Model Selection"
   ]
  },
  {
   "cell_type": "code",
   "execution_count": null,
   "metadata": {
    "collapsed": true
   },
   "outputs": [],
   "source": []
  },
  {
   "cell_type": "markdown",
   "metadata": {},
   "source": [
    "### 여러 xgboost 모델을 결합한 결과"
   ]
  },
  {
   "cell_type": "code",
   "execution_count": 149,
   "metadata": {},
   "outputs": [
    {
     "name": "stdout",
     "output_type": "stream",
     "text": [
      "<class 'pandas.core.series.Series'>\n"
     ]
    }
   ],
   "source": [
    "dummy_cont_test = data_test_final[['Name', 'AnimalType', 'AgeuponOutcome', 'Rank']]\n",
    "test_id = data_test_final['AnimalID']\n",
    "print(type(test_id))"
   ]
  },
  {
   "cell_type": "code",
   "execution_count": 150,
   "metadata": {
    "collapsed": true
   },
   "outputs": [],
   "source": [
    "dfX_test_submission = pd.concat([dummy_cont_test, size_gd_test, main_breed_gd_test, sub_breed_gd_test, main_color_gd_test, \n",
    "                                 sub_color_gd_test, year_gd_test, month_gd_test, day_gd_test, hour_gd_test, sex_gd_test], axis = 1)"
   ]
  },
  {
   "cell_type": "code",
   "execution_count": 151,
   "metadata": {},
   "outputs": [
    {
     "data": {
      "text/plain": [
       "(11456, 604)"
      ]
     },
     "execution_count": 151,
     "metadata": {},
     "output_type": "execute_result"
    }
   ],
   "source": [
    "dfX_test_submission.shape"
   ]
  },
  {
   "cell_type": "code",
   "execution_count": 152,
   "metadata": {},
   "outputs": [
    {
     "name": "stdout",
     "output_type": "stream",
     "text": [
      "11456\n"
     ]
    }
   ],
   "source": [
    "y_proba1 = model_xgb1.predict_proba(dfX_test_submission)\n",
    "y_proba2 = model_xgb2.predict_proba(dfX_test_submission)\n",
    "y_proba3 = model_xgb3.predict_proba(dfX_test_submission)\n",
    "y_proba4 = model_xgb4.predict_proba(dfX_test_submission)\n",
    "y_proba5 = model_xgb5.predict_proba(dfX_test_submission)\n",
    "\n",
    "y_proba_avg_test = (y_proba1 + y_proba2 + y_proba3 + y_proba4 + y_proba5) / 5\n",
    "print(len(y_proba_avg_test))"
   ]
  },
  {
   "cell_type": "code",
   "execution_count": 153,
   "metadata": {},
   "outputs": [
    {
     "name": "stdout",
     "output_type": "stream",
     "text": [
      "[[ 0.0433468   0.00231239  0.02898893  0.18023679  0.74511516]\n",
      " [ 0.71029985  0.001306    0.01920843  0.2142266   0.05495911]\n",
      " [ 0.52747452  0.00238476  0.01344951  0.1459883   0.31070298]\n",
      " ..., \n",
      " [ 0.08338579  0.00725255  0.15052922  0.00962213  0.7492103 ]\n",
      " [ 0.34042332  0.00144291  0.0376688   0.53373939  0.08672564]\n",
      " [ 0.04370602  0.00223266  0.19047239  0.61265498  0.15093394]]\n"
     ]
    }
   ],
   "source": [
    "print(y_proba_avg_test)"
   ]
  },
  {
   "cell_type": "code",
   "execution_count": 154,
   "metadata": {
    "collapsed": true
   },
   "outputs": [],
   "source": [
    "y_proba_avg_test_df = pd.DataFrame(y_proba_avg_test, columns = ['Adoption', 'Died', 'Euthanasia', 'Return_to_owner', 'Transfer'])"
   ]
  },
  {
   "cell_type": "code",
   "execution_count": 155,
   "metadata": {},
   "outputs": [
    {
     "data": {
      "text/html": [
       "<div>\n",
       "<style>\n",
       "    .dataframe thead tr:only-child th {\n",
       "        text-align: right;\n",
       "    }\n",
       "\n",
       "    .dataframe thead th {\n",
       "        text-align: left;\n",
       "    }\n",
       "\n",
       "    .dataframe tbody tr th {\n",
       "        vertical-align: top;\n",
       "    }\n",
       "</style>\n",
       "<table border=\"1\" class=\"dataframe\">\n",
       "  <thead>\n",
       "    <tr style=\"text-align: right;\">\n",
       "      <th></th>\n",
       "      <th>Adoption</th>\n",
       "      <th>Died</th>\n",
       "      <th>Euthanasia</th>\n",
       "      <th>Return_to_owner</th>\n",
       "      <th>Transfer</th>\n",
       "    </tr>\n",
       "  </thead>\n",
       "  <tbody>\n",
       "    <tr>\n",
       "      <th>0</th>\n",
       "      <td>0.043347</td>\n",
       "      <td>0.002312</td>\n",
       "      <td>0.028989</td>\n",
       "      <td>0.180237</td>\n",
       "      <td>0.745115</td>\n",
       "    </tr>\n",
       "    <tr>\n",
       "      <th>1</th>\n",
       "      <td>0.710300</td>\n",
       "      <td>0.001306</td>\n",
       "      <td>0.019208</td>\n",
       "      <td>0.214227</td>\n",
       "      <td>0.054959</td>\n",
       "    </tr>\n",
       "    <tr>\n",
       "      <th>2</th>\n",
       "      <td>0.527475</td>\n",
       "      <td>0.002385</td>\n",
       "      <td>0.013450</td>\n",
       "      <td>0.145988</td>\n",
       "      <td>0.310703</td>\n",
       "    </tr>\n",
       "    <tr>\n",
       "      <th>3</th>\n",
       "      <td>0.178058</td>\n",
       "      <td>0.004473</td>\n",
       "      <td>0.053807</td>\n",
       "      <td>0.383758</td>\n",
       "      <td>0.379903</td>\n",
       "    </tr>\n",
       "    <tr>\n",
       "      <th>4</th>\n",
       "      <td>0.497551</td>\n",
       "      <td>0.001898</td>\n",
       "      <td>0.008882</td>\n",
       "      <td>0.399883</td>\n",
       "      <td>0.091786</td>\n",
       "    </tr>\n",
       "  </tbody>\n",
       "</table>\n",
       "</div>"
      ],
      "text/plain": [
       "   Adoption      Died  Euthanasia  Return_to_owner  Transfer\n",
       "0  0.043347  0.002312    0.028989         0.180237  0.745115\n",
       "1  0.710300  0.001306    0.019208         0.214227  0.054959\n",
       "2  0.527475  0.002385    0.013450         0.145988  0.310703\n",
       "3  0.178058  0.004473    0.053807         0.383758  0.379903\n",
       "4  0.497551  0.001898    0.008882         0.399883  0.091786"
      ]
     },
     "execution_count": 155,
     "metadata": {},
     "output_type": "execute_result"
    }
   ],
   "source": [
    "y_proba_avg_test_df.head()"
   ]
  },
  {
   "cell_type": "code",
   "execution_count": null,
   "metadata": {
    "collapsed": true
   },
   "outputs": [],
   "source": [
    "y_proba_avg_test_df.to_csv('submission4.csv', index = False)"
   ]
  },
  {
   "cell_type": "code",
   "execution_count": null,
   "metadata": {
    "collapsed": true
   },
   "outputs": [],
   "source": []
  },
  {
   "cell_type": "code",
   "execution_count": null,
   "metadata": {
    "collapsed": true
   },
   "outputs": [],
   "source": []
  },
  {
   "cell_type": "markdown",
   "metadata": {},
   "source": [
    "# Result\n",
    "\n",
    "### 사용 features :\n",
    "* Name\n",
    "* AnimalType\n",
    "* AgeuponOutcome -> Day\n",
    "* SexuponOutcome\n",
    "* Breed -> Rank\n",
    "* Breed -> size\n",
    "* Breed -> main_breed / sub_breed\n",
    "* main_color / sub_color\n",
    "* DateTime -> year / month / day / hour\n",
    "\n",
    "\n",
    "### 사용모델 : XGBoost(2)\n",
    "\n",
    "평가_Log_loss : 0.77666 (by kaggle test_dataset)\n",
    "\n",
    "Kaggle 순위 : 548위 / 1312팀    (비고 : [1위 : 0.0] / [3위 : 0.034093] / [50위 : 0.69840] / [300위 : 0.73390])\n",
    "\n",
    "#### 비고_각 모형의 log_loss (train dataset기준)\n",
    "* Logistic Regression : 0.86092\n",
    "* Naive Bayesian : 26.7130\n",
    "* Random Forest : 0.758476\n",
    "* Extreme Forest : 0.769533\n",
    "* XGBoost(1) : -0.768414 (neg_log_loss)\n",
    "* XGBoost(2) : 0.723351\n",
    "\n",
    "### Feature importance 상위 7개\n",
    "* AgeuponOutcome : 0.111488\n",
    "* Name : 0.042192\n",
    "* Spayed Female : 0.030157\n",
    "* Intact Female : 0.029852\n",
    "* Neutered Male : 0.027187\n",
    "* Intact Male : 0.027119\n",
    "* Rank : 0.022768"
   ]
  },
  {
   "cell_type": "code",
   "execution_count": null,
   "metadata": {
    "collapsed": true
   },
   "outputs": [],
   "source": []
  },
  {
   "cell_type": "code",
   "execution_count": null,
   "metadata": {
    "collapsed": true
   },
   "outputs": [],
   "source": []
  },
  {
   "cell_type": "markdown",
   "metadata": {},
   "source": [
    "### 처음에 test dataset을 사용하지 않고 진행하는 버전"
   ]
  },
  {
   "cell_type": "code",
   "execution_count": 156,
   "metadata": {},
   "outputs": [
    {
     "data": {
      "text/html": [
       "<div>\n",
       "<style>\n",
       "    .dataframe thead tr:only-child th {\n",
       "        text-align: right;\n",
       "    }\n",
       "\n",
       "    .dataframe thead th {\n",
       "        text-align: left;\n",
       "    }\n",
       "\n",
       "    .dataframe tbody tr th {\n",
       "        vertical-align: top;\n",
       "    }\n",
       "</style>\n",
       "<table border=\"1\" class=\"dataframe\">\n",
       "  <thead>\n",
       "    <tr style=\"text-align: right;\">\n",
       "      <th></th>\n",
       "      <th>ID</th>\n",
       "      <th>Name</th>\n",
       "      <th>DateTime</th>\n",
       "      <th>AnimalType</th>\n",
       "      <th>SexuponOutcome</th>\n",
       "      <th>AgeuponOutcome</th>\n",
       "      <th>Breed</th>\n",
       "      <th>Color</th>\n",
       "    </tr>\n",
       "  </thead>\n",
       "  <tbody>\n",
       "    <tr>\n",
       "      <th>11451</th>\n",
       "      <td>11452</td>\n",
       "      <td>NaN</td>\n",
       "      <td>2014-07-08 14:50</td>\n",
       "      <td>Cat</td>\n",
       "      <td>Neutered Male</td>\n",
       "      <td>2 months</td>\n",
       "      <td>Domestic Shorthair Mix</td>\n",
       "      <td>Black</td>\n",
       "    </tr>\n",
       "    <tr>\n",
       "      <th>11452</th>\n",
       "      <td>11453</td>\n",
       "      <td>NaN</td>\n",
       "      <td>2014-10-21 12:57</td>\n",
       "      <td>Cat</td>\n",
       "      <td>Intact Female</td>\n",
       "      <td>2 weeks</td>\n",
       "      <td>Domestic Shorthair Mix</td>\n",
       "      <td>Blue</td>\n",
       "    </tr>\n",
       "    <tr>\n",
       "      <th>11453</th>\n",
       "      <td>11454</td>\n",
       "      <td>NaN</td>\n",
       "      <td>2014-09-29 9:00</td>\n",
       "      <td>Cat</td>\n",
       "      <td>Intact Female</td>\n",
       "      <td>1 year</td>\n",
       "      <td>Domestic Shorthair Mix</td>\n",
       "      <td>Calico</td>\n",
       "    </tr>\n",
       "    <tr>\n",
       "      <th>11454</th>\n",
       "      <td>11455</td>\n",
       "      <td>Rambo</td>\n",
       "      <td>2015-09-05 17:16</td>\n",
       "      <td>Dog</td>\n",
       "      <td>Neutered Male</td>\n",
       "      <td>6 years</td>\n",
       "      <td>German Shepherd Mix</td>\n",
       "      <td>Black/Tan</td>\n",
       "    </tr>\n",
       "    <tr>\n",
       "      <th>11455</th>\n",
       "      <td>11456</td>\n",
       "      <td>Gusto</td>\n",
       "      <td>2014-07-12 18:40</td>\n",
       "      <td>Dog</td>\n",
       "      <td>Intact Male</td>\n",
       "      <td>4 years</td>\n",
       "      <td>Labrador Retriever</td>\n",
       "      <td>Cream</td>\n",
       "    </tr>\n",
       "  </tbody>\n",
       "</table>\n",
       "</div>"
      ],
      "text/plain": [
       "          ID   Name          DateTime AnimalType SexuponOutcome  \\\n",
       "11451  11452    NaN  2014-07-08 14:50        Cat  Neutered Male   \n",
       "11452  11453    NaN  2014-10-21 12:57        Cat  Intact Female   \n",
       "11453  11454    NaN   2014-09-29 9:00        Cat  Intact Female   \n",
       "11454  11455  Rambo  2015-09-05 17:16        Dog  Neutered Male   \n",
       "11455  11456  Gusto  2014-07-12 18:40        Dog    Intact Male   \n",
       "\n",
       "      AgeuponOutcome                   Breed      Color  \n",
       "11451       2 months  Domestic Shorthair Mix      Black  \n",
       "11452        2 weeks  Domestic Shorthair Mix       Blue  \n",
       "11453         1 year  Domestic Shorthair Mix     Calico  \n",
       "11454        6 years     German Shepherd Mix  Black/Tan  \n",
       "11455        4 years      Labrador Retriever      Cream  "
      ]
     },
     "execution_count": 156,
     "metadata": {},
     "output_type": "execute_result"
    }
   ],
   "source": [
    "data_test = pd.read_csv('test.csv')\n",
    "data_test.tail()"
   ]
  },
  {
   "cell_type": "code",
   "execution_count": 157,
   "metadata": {
    "collapsed": true
   },
   "outputs": [],
   "source": [
    "data_test = data_test.set_index('ID')"
   ]
  },
  {
   "cell_type": "code",
   "execution_count": 158,
   "metadata": {},
   "outputs": [
    {
     "data": {
      "text/plain": [
       "Name              3225\n",
       "DateTime             0\n",
       "AnimalType           0\n",
       "SexuponOutcome       0\n",
       "AgeuponOutcome       6\n",
       "Breed                0\n",
       "Color                0\n",
       "dtype: int64"
      ]
     },
     "execution_count": 158,
     "metadata": {},
     "output_type": "execute_result"
    }
   ],
   "source": [
    "data_test.isnull().sum()"
   ]
  },
  {
   "cell_type": "code",
   "execution_count": 161,
   "metadata": {},
   "outputs": [
    {
     "data": {
      "text/html": [
       "<div>\n",
       "<style>\n",
       "    .dataframe thead tr:only-child th {\n",
       "        text-align: right;\n",
       "    }\n",
       "\n",
       "    .dataframe thead th {\n",
       "        text-align: left;\n",
       "    }\n",
       "\n",
       "    .dataframe tbody tr th {\n",
       "        vertical-align: top;\n",
       "    }\n",
       "</style>\n",
       "<table border=\"1\" class=\"dataframe\">\n",
       "  <thead>\n",
       "    <tr style=\"text-align: right;\">\n",
       "      <th></th>\n",
       "      <th>Name</th>\n",
       "      <th>AnimalType</th>\n",
       "      <th>SexuponOutcome</th>\n",
       "      <th>AgeuponOutcome</th>\n",
       "      <th>Main_Breed</th>\n",
       "      <th>Sub_Breed</th>\n",
       "      <th>Rank</th>\n",
       "      <th>Main_Color</th>\n",
       "      <th>Sub_Color</th>\n",
       "      <th>Date</th>\n",
       "      <th>OutcomeYear</th>\n",
       "      <th>OutcomeMonth</th>\n",
       "      <th>OutcomeDay</th>\n",
       "      <th>OutcomeHour</th>\n",
       "    </tr>\n",
       "    <tr>\n",
       "      <th>ID</th>\n",
       "      <th></th>\n",
       "      <th></th>\n",
       "      <th></th>\n",
       "      <th></th>\n",
       "      <th></th>\n",
       "      <th></th>\n",
       "      <th></th>\n",
       "      <th></th>\n",
       "      <th></th>\n",
       "      <th></th>\n",
       "      <th></th>\n",
       "      <th></th>\n",
       "      <th></th>\n",
       "      <th></th>\n",
       "    </tr>\n",
       "  </thead>\n",
       "  <tbody>\n",
       "    <tr>\n",
       "      <th>11452</th>\n",
       "      <td>1</td>\n",
       "      <td>NaN</td>\n",
       "      <td>Neutered Male</td>\n",
       "      <td>60.0</td>\n",
       "      <td>domestic shorthair</td>\n",
       "      <td>NA</td>\n",
       "      <td>0.0</td>\n",
       "      <td>Black</td>\n",
       "      <td>NA</td>\n",
       "      <td>201407</td>\n",
       "      <td>2014</td>\n",
       "      <td>07</td>\n",
       "      <td>08</td>\n",
       "      <td>14</td>\n",
       "    </tr>\n",
       "    <tr>\n",
       "      <th>11453</th>\n",
       "      <td>1</td>\n",
       "      <td>NaN</td>\n",
       "      <td>Intact Female</td>\n",
       "      <td>14.0</td>\n",
       "      <td>domestic shorthair</td>\n",
       "      <td>NA</td>\n",
       "      <td>0.0</td>\n",
       "      <td>Blue</td>\n",
       "      <td>NA</td>\n",
       "      <td>201410</td>\n",
       "      <td>2014</td>\n",
       "      <td>10</td>\n",
       "      <td>21</td>\n",
       "      <td>12</td>\n",
       "    </tr>\n",
       "    <tr>\n",
       "      <th>11454</th>\n",
       "      <td>1</td>\n",
       "      <td>NaN</td>\n",
       "      <td>Intact Female</td>\n",
       "      <td>365.0</td>\n",
       "      <td>domestic shorthair</td>\n",
       "      <td>NA</td>\n",
       "      <td>0.0</td>\n",
       "      <td>Calico</td>\n",
       "      <td>NA</td>\n",
       "      <td>201409</td>\n",
       "      <td>2014</td>\n",
       "      <td>09</td>\n",
       "      <td>29</td>\n",
       "      <td>9:</td>\n",
       "    </tr>\n",
       "    <tr>\n",
       "      <th>11455</th>\n",
       "      <td>1</td>\n",
       "      <td>NaN</td>\n",
       "      <td>Neutered Male</td>\n",
       "      <td>2190.0</td>\n",
       "      <td>german shepherd</td>\n",
       "      <td>NA</td>\n",
       "      <td>188.0</td>\n",
       "      <td>Black</td>\n",
       "      <td>Tan</td>\n",
       "      <td>201509</td>\n",
       "      <td>2015</td>\n",
       "      <td>09</td>\n",
       "      <td>05</td>\n",
       "      <td>17</td>\n",
       "    </tr>\n",
       "    <tr>\n",
       "      <th>11456</th>\n",
       "      <td>1</td>\n",
       "      <td>NaN</td>\n",
       "      <td>Intact Male</td>\n",
       "      <td>1460.0</td>\n",
       "      <td>labrador retriever</td>\n",
       "      <td>NA</td>\n",
       "      <td>189.0</td>\n",
       "      <td>Cream</td>\n",
       "      <td>NA</td>\n",
       "      <td>201407</td>\n",
       "      <td>2014</td>\n",
       "      <td>07</td>\n",
       "      <td>12</td>\n",
       "      <td>18</td>\n",
       "    </tr>\n",
       "  </tbody>\n",
       "</table>\n",
       "</div>"
      ],
      "text/plain": [
       "       Name  AnimalType SexuponOutcome  AgeuponOutcome          Main_Breed  \\\n",
       "ID                                                                           \n",
       "11452     1         NaN  Neutered Male            60.0  domestic shorthair   \n",
       "11453     1         NaN  Intact Female            14.0  domestic shorthair   \n",
       "11454     1         NaN  Intact Female           365.0  domestic shorthair   \n",
       "11455     1         NaN  Neutered Male          2190.0     german shepherd   \n",
       "11456     1         NaN    Intact Male          1460.0  labrador retriever   \n",
       "\n",
       "      Sub_Breed   Rank Main_Color Sub_Color    Date OutcomeYear OutcomeMonth  \\\n",
       "ID                                                                             \n",
       "11452        NA    0.0      Black        NA  201407        2014           07   \n",
       "11453        NA    0.0       Blue        NA  201410        2014           10   \n",
       "11454        NA    0.0     Calico        NA  201409        2014           09   \n",
       "11455        NA  188.0      Black       Tan  201509        2015           09   \n",
       "11456        NA  189.0      Cream        NA  201407        2014           07   \n",
       "\n",
       "      OutcomeDay OutcomeHour  \n",
       "ID                            \n",
       "11452         08          14  \n",
       "11453         21          12  \n",
       "11454         29          9:  \n",
       "11455         05          17  \n",
       "11456         12          18  "
      ]
     },
     "execution_count": 161,
     "metadata": {},
     "output_type": "execute_result"
    }
   ],
   "source": [
    "# Name 전처리\n",
    "data_test['Name'] = data_test['Name'].transform(no_name_label)\n",
    "data_test['Name'] = data_test['Name'].transform(no_name_numeric_label)\n",
    "\n",
    "# Animal Type 전처리\n",
    "data_test['AnimalType'] = data_test['AnimalType'].map(animal_type_mapping)\n",
    "\n",
    "# AgeuponOutcome 전처리\n",
    "age_day_compile = convert_Age(data_test)\n",
    "data_test['AgeuponOutcome'] = age_day_compile\n",
    "data_test['AgeuponOutcome'].fillna(data_test['AgeuponOutcome'].median(), inplace = True)\n",
    "\n",
    "# Breed 전처리\n",
    "breed_remove_mix = remove_mix(data_test)\n",
    "main_breed, sub_breed = main_sub_separator(breed_remove_mix)\n",
    "data_test['Main_Breed'], data_test['Sub_Breed'] = main_breed, sub_breed\n",
    "\n",
    "# Rank 전처리\n",
    "temp = data_test['Main_Breed']\n",
    "temp2 = temp.map(rank_dict_dog)\n",
    "temp2 = 190 - temp2\n",
    "temp2.fillna(0, inplace = True)\n",
    "data_test['Rank'] = temp2\n",
    "\n",
    "# Color 전처리\n",
    "color_list = list(data_test['Color'])\n",
    "main_color, sub_color = main_sub_separator(color_list)\n",
    "data_test['Main_Color'], data_test['Sub_Color'] = main_color, sub_color\n",
    "\n",
    "# DateTime 전처리\n",
    "year_list, month_list, day_list, hour_list = datetime_str_converter(data_test)\n",
    "date_list = []\n",
    "for year, month in zip(year_list, month_list):\n",
    "    date_list.append(int(year + month))\n",
    "\n",
    "data_test['Date'] = date_list\n",
    "data_test['OutcomeYear'], data_test['OutcomeMonth'] = year_list, month_list\n",
    "data_test['OutcomeDay'], data_test['OutcomeHour'] = day_list, hour_list\n",
    "\n",
    "# One-Hot-Encoding\n",
    "main_color_le = pd.get_dummies(data_test[['Main_Color']])\n",
    "sub_color_le = pd.get_dummies(data_test[['Sub_Color']])\n",
    "main_breed_le = pd.get_dummies(data_test[['Main_Breed']])\n",
    "sub_breed_le = pd.get_dummies(data_test[['Sub_Breed']])\n",
    "year_le = pd.get_dummies(data_test[['OutcomeYear']])\n",
    "month_le = pd.get_dummies(data_test[['OutcomeMonth']])\n",
    "day_le = pd.get_dummies(data_test[['OutcomeDay']])\n",
    "hour_le = pd.get_dummies(data_test[['OutcomeHour']])\n",
    "sex_le = pd.get_dummies(data_test['SexuponOutcome'])\n",
    "\n",
    "\n",
    "\n",
    "data_test.drop('DateTime', axis = 1, inplace = True)\n",
    "data_test.drop('Color', axis = 1, inplace = True)\n",
    "data_test.drop('Breed', axis = 1, inplace = True)\n",
    "\n",
    "data_test.tail()"
   ]
  },
  {
   "cell_type": "code",
   "execution_count": null,
   "metadata": {
    "collapsed": true
   },
   "outputs": [],
   "source": []
  },
  {
   "cell_type": "code",
   "execution_count": 164,
   "metadata": {
    "collapsed": true
   },
   "outputs": [
    {
     "ename": "ValueError",
     "evalue": "Found input variables with inconsistent numbers of samples: [11456, 26729]",
     "output_type": "error",
     "traceback": [
      "\u001b[0;31m---------------------------------------------------------------------------\u001b[0m",
      "\u001b[0;31mValueError\u001b[0m                                Traceback (most recent call last)",
      "\u001b[0;32m<timed exec>\u001b[0m in \u001b[0;36m<module>\u001b[0;34m()\u001b[0m\n",
      "\u001b[0;32m<ipython-input-99-7cbbb102758c>\u001b[0m in \u001b[0;36mgreedy_selector\u001b[0;34m(dfX_list, dfY)\u001b[0m\n\u001b[1;32m      4\u001b[0m \u001b[0;34m\u001b[0m\u001b[0m\n\u001b[1;32m      5\u001b[0m     \u001b[0;32mfor\u001b[0m \u001b[0mdfX\u001b[0m \u001b[0;32min\u001b[0m \u001b[0mdfX_list\u001b[0m\u001b[0;34m:\u001b[0m\u001b[0;34m\u001b[0m\u001b[0m\n\u001b[0;32m----> 6\u001b[0;31m         \u001b[0mdfX_train\u001b[0m\u001b[0;34m,\u001b[0m \u001b[0mdfX_test\u001b[0m\u001b[0;34m,\u001b[0m \u001b[0mdfY_train\u001b[0m\u001b[0;34m,\u001b[0m \u001b[0mdfY_test\u001b[0m \u001b[0;34m=\u001b[0m \u001b[0mtrain_test_split\u001b[0m\u001b[0;34m(\u001b[0m\u001b[0mdfX\u001b[0m\u001b[0;34m,\u001b[0m \u001b[0mdfY\u001b[0m\u001b[0;34m,\u001b[0m \u001b[0mtest_size\u001b[0m \u001b[0;34m=\u001b[0m \u001b[0;36m0.25\u001b[0m\u001b[0;34m,\u001b[0m \u001b[0mrandom_state\u001b[0m\u001b[0;34m=\u001b[0m\u001b[0;36m0\u001b[0m\u001b[0;34m)\u001b[0m\u001b[0;34m\u001b[0m\u001b[0m\n\u001b[0m\u001b[1;32m      7\u001b[0m         \u001b[0;34m'''nthread parameter is the paralleization parameter. This forces XGBoost to utilize all the CPU power available'''\u001b[0m\u001b[0;34m\u001b[0m\u001b[0m\n\u001b[1;32m      8\u001b[0m         \u001b[0mmodel_xgb\u001b[0m \u001b[0;34m=\u001b[0m \u001b[0mxgboost\u001b[0m\u001b[0;34m.\u001b[0m\u001b[0mXGBClassifier\u001b[0m\u001b[0;34m(\u001b[0m\u001b[0mn_estimators\u001b[0m \u001b[0;34m=\u001b[0m \u001b[0;36m100\u001b[0m\u001b[0;34m,\u001b[0m \u001b[0mmax_depth\u001b[0m \u001b[0;34m=\u001b[0m \u001b[0;36m2\u001b[0m\u001b[0;34m,\u001b[0m \u001b[0mnthread\u001b[0m \u001b[0;34m=\u001b[0m \u001b[0;36m3\u001b[0m\u001b[0;34m)\u001b[0m\u001b[0;34m\u001b[0m\u001b[0m\n",
      "\u001b[0;32m~/anaconda3/lib/python3.5/site-packages/sklearn/model_selection/_split.py\u001b[0m in \u001b[0;36mtrain_test_split\u001b[0;34m(*arrays, **options)\u001b[0m\n\u001b[1;32m   2029\u001b[0m         \u001b[0mtest_size\u001b[0m \u001b[0;34m=\u001b[0m \u001b[0;36m0.25\u001b[0m\u001b[0;34m\u001b[0m\u001b[0m\n\u001b[1;32m   2030\u001b[0m \u001b[0;34m\u001b[0m\u001b[0m\n\u001b[0;32m-> 2031\u001b[0;31m     \u001b[0marrays\u001b[0m \u001b[0;34m=\u001b[0m \u001b[0mindexable\u001b[0m\u001b[0;34m(\u001b[0m\u001b[0;34m*\u001b[0m\u001b[0marrays\u001b[0m\u001b[0;34m)\u001b[0m\u001b[0;34m\u001b[0m\u001b[0m\n\u001b[0m\u001b[1;32m   2032\u001b[0m \u001b[0;34m\u001b[0m\u001b[0m\n\u001b[1;32m   2033\u001b[0m     \u001b[0;32mif\u001b[0m \u001b[0mshuffle\u001b[0m \u001b[0;32mis\u001b[0m \u001b[0;32mFalse\u001b[0m\u001b[0;34m:\u001b[0m\u001b[0;34m\u001b[0m\u001b[0m\n",
      "\u001b[0;32m~/anaconda3/lib/python3.5/site-packages/sklearn/utils/validation.py\u001b[0m in \u001b[0;36mindexable\u001b[0;34m(*iterables)\u001b[0m\n\u001b[1;32m    227\u001b[0m         \u001b[0;32melse\u001b[0m\u001b[0;34m:\u001b[0m\u001b[0;34m\u001b[0m\u001b[0m\n\u001b[1;32m    228\u001b[0m             \u001b[0mresult\u001b[0m\u001b[0;34m.\u001b[0m\u001b[0mappend\u001b[0m\u001b[0;34m(\u001b[0m\u001b[0mnp\u001b[0m\u001b[0;34m.\u001b[0m\u001b[0marray\u001b[0m\u001b[0;34m(\u001b[0m\u001b[0mX\u001b[0m\u001b[0;34m)\u001b[0m\u001b[0;34m)\u001b[0m\u001b[0;34m\u001b[0m\u001b[0m\n\u001b[0;32m--> 229\u001b[0;31m     \u001b[0mcheck_consistent_length\u001b[0m\u001b[0;34m(\u001b[0m\u001b[0;34m*\u001b[0m\u001b[0mresult\u001b[0m\u001b[0;34m)\u001b[0m\u001b[0;34m\u001b[0m\u001b[0m\n\u001b[0m\u001b[1;32m    230\u001b[0m     \u001b[0;32mreturn\u001b[0m \u001b[0mresult\u001b[0m\u001b[0;34m\u001b[0m\u001b[0m\n\u001b[1;32m    231\u001b[0m \u001b[0;34m\u001b[0m\u001b[0m\n",
      "\u001b[0;32m~/anaconda3/lib/python3.5/site-packages/sklearn/utils/validation.py\u001b[0m in \u001b[0;36mcheck_consistent_length\u001b[0;34m(*arrays)\u001b[0m\n\u001b[1;32m    202\u001b[0m     \u001b[0;32mif\u001b[0m \u001b[0mlen\u001b[0m\u001b[0;34m(\u001b[0m\u001b[0muniques\u001b[0m\u001b[0;34m)\u001b[0m \u001b[0;34m>\u001b[0m \u001b[0;36m1\u001b[0m\u001b[0;34m:\u001b[0m\u001b[0;34m\u001b[0m\u001b[0m\n\u001b[1;32m    203\u001b[0m         raise ValueError(\"Found input variables with inconsistent numbers of\"\n\u001b[0;32m--> 204\u001b[0;31m                          \" samples: %r\" % [int(l) for l in lengths])\n\u001b[0m\u001b[1;32m    205\u001b[0m \u001b[0;34m\u001b[0m\u001b[0m\n\u001b[1;32m    206\u001b[0m \u001b[0;34m\u001b[0m\u001b[0m\n",
      "\u001b[0;31mValueError\u001b[0m: Found input variables with inconsistent numbers of samples: [11456, 26729]"
     ]
    }
   ],
   "source": [
    "%%time\n",
    "'''dfY is always fixed'''\n",
    "dfY = data_train['OutcomeType']\n",
    "\n",
    "dummy_cont = data_test[['Name', 'AnimalType', 'AgeuponOutcome', 'Rank']]\n",
    "\n",
    "dfX = pd.concat([dummy_cont, main_breed_le, main_color_le, month_le, year_le, sex_le], axis = 1)\n",
    "dfX2 = pd.concat([dummy_cont, main_breed_le, sub_breed_le, main_color_le, sub_color_le, month_le, year_le, sex_le], axis = 1)\n",
    "dfX4 = pd.concat([dummy_cont, main_breed_le, sub_breed_le, main_color_le, sub_color_le, \n",
    "                 year_le, month_le, day_le, hour_le, sex_le], axis = 1)\n",
    "dfX5 = pd.concat([dummy_cont, main_color_le, sub_color_le, year_le, month_le, day_le, hour_le, sex_le], axis = 1)\n",
    "dfX6 = pd.concat([dummy_cont, sex_le], axis = 1)\n",
    "\n",
    "dfX_list = [dfX, dfX2, dfX3, dfX4, dfX5, dfX6]\n",
    "train_compile, test_compile, logLoss_compile = greedy_selector(dfX_list, dfY)"
   ]
  },
  {
   "cell_type": "code",
   "execution_count": null,
   "metadata": {
    "collapsed": true
   },
   "outputs": [],
   "source": [
    "# test_dataset 없이 진행하는 방식의 결과\n",
    "\n",
    "dummy_cont_test = data_test[['Name', 'AnimalType', 'AgeuponOutcome', 'Rank']]\n",
    "\n",
    "model_xgb = xgboost.XGBClassifier(max_depth = 8, n_estimators = 500, nthread = -1)\n",
    "model_xgb.fit(dfX6, dfY)\n",
    "dfX_test6 = pd.concat([dummy_cont_test, sex_le], axis = 1)\n",
    "\n",
    "y_pred_test6 = model_xgb.predict(dfX_test6)"
   ]
  },
  {
   "cell_type": "code",
   "execution_count": null,
   "metadata": {
    "collapsed": true
   },
   "outputs": [],
   "source": [
    "y_proba_xgb = model_xgb.predict_proba(dfX_test6)"
   ]
  },
  {
   "cell_type": "code",
   "execution_count": null,
   "metadata": {
    "collapsed": true
   },
   "outputs": [],
   "source": [
    "y_proba_xgb_test_df = pd.DataFrame(y_proba_xgb, columns = ['Adoption', 'Died', 'Euthanasia', 'Return_to_owner', 'Transfer'])"
   ]
  },
  {
   "cell_type": "code",
   "execution_count": null,
   "metadata": {
    "collapsed": true
   },
   "outputs": [],
   "source": [
    "y_proba_xgb_test_df.to_csv('submission6.csv', index = True, index_label = 'ID')"
   ]
  },
  {
   "cell_type": "code",
   "execution_count": null,
   "metadata": {},
   "outputs": [],
   "source": [
    "pd.read_csv('submission6.csv').head()"
   ]
  },
  {
   "cell_type": "code",
   "execution_count": null,
   "metadata": {
    "collapsed": true
   },
   "outputs": [],
   "source": []
  },
  {
   "cell_type": "code",
   "execution_count": null,
   "metadata": {
    "collapsed": true
   },
   "outputs": [],
   "source": [
    "# one-hot-encoding 과정에서 train과 test 사이에 불일치가 발생하여 에러가 남.\n",
    "%%time\n",
    "dummy_cont_test = data_test[['Name', 'AnimalType', 'AgeuponOutcome', 'Rank']]\n",
    "\n",
    "model_xgb = xgboost.XGBClassifier(max_depth = 8, n_estimators = 500, nthread = -1)\n",
    "# model_xgb.fit(dfX4, dfY)\n",
    "\n",
    "dfX_test4 = pd.concat([dummy_cont_test, main_breed_le, sub_breed_le, main_color_le, sub_color_le, \n",
    "                 year_le, month_le, day_le, hour_le, sex_le], axis = 1)\n",
    "\n",
    "\n",
    "# y_pred_test4 = model_xgb.predict(dfX_test4)\n"
   ]
  },
  {
   "cell_type": "code",
   "execution_count": null,
   "metadata": {
    "collapsed": true
   },
   "outputs": [],
   "source": [
    "y_proba_xgb = model_xgb.predict_proba(dfX_test4)\n",
    "y_proba_xgb_test_df = pd.DataFrame(y_proba_xgb, columns = ['Adoption', 'Died', 'Euthanasia', 'Return_to_owner', 'Transfer'])\n",
    "y_proba_xgb_test_df.to_csv('submission4.csv', index_label = 'ID')\n",
    "pd.read_csv('submission4.csv').tail()"
   ]
  },
  {
   "cell_type": "code",
   "execution_count": null,
   "metadata": {
    "collapsed": true
   },
   "outputs": [],
   "source": []
  },
  {
   "cell_type": "code",
   "execution_count": null,
   "metadata": {},
   "outputs": [],
   "source": [
    "# one-hot-encoding 과정에서 train과 test 사이에 불일치가 발생하여 에러가 남. 혹시나 해서 Breed 빼고, Date 관련 인자만 놓고 해보았지만 역시 오류남.\n",
    "\n",
    "%%time\n",
    "dummy_cont_test = data_test[['Name', 'AnimalType', 'AgeuponOutcome', 'Rank']]\n",
    "\n",
    "model_xgb = xgboost.XGBClassifier(max_depth = 8, n_estimators = 500, nthread = -1)\n",
    "# model_xgb.fit(dfX5, dfY)\n",
    "\n",
    "dfX_test4 = pd.concat([dummy_cont_test, main_color_le, sub_color_le, year_le, month_le, day_le, hour_le, sex_le], axis = 1)"
   ]
  },
  {
   "cell_type": "code",
   "execution_count": null,
   "metadata": {
    "collapsed": true
   },
   "outputs": [],
   "source": [
    "y_proba_xgb = model_xgb.predict_proba(dfX_test4)\n",
    "y_proba_xgb_test_df = pd.DataFrame(y_proba_xgb, columns = ['Adoption', 'Died', 'Euthanasia', 'Return_to_owner', 'Transfer'])\n",
    "y_proba_xgb_test_df.to_csv('submission5.csv', index_label = 'ID')\n",
    "pd.read_csv('submission5.csv').tail()"
   ]
  },
  {
   "cell_type": "code",
   "execution_count": null,
   "metadata": {
    "collapsed": true
   },
   "outputs": [],
   "source": []
  },
  {
   "cell_type": "code",
   "execution_count": null,
   "metadata": {
    "collapsed": true
   },
   "outputs": [],
   "source": []
  },
  {
   "cell_type": "markdown",
   "metadata": {},
   "source": [
    "## Kaggle 결과값 논란"
   ]
  },
  {
   "cell_type": "markdown",
   "metadata": {},
   "source": [
    "#### References:\n",
    "\n",
    "- http://blog.kaggle.com/2016/08/05/predicting-shelter-animal-outcomes-team-kaggle-for-the-paws-andras-zsom/\n",
    "- https://www.kaggle.com/c/shelter-animal-outcomes/discussion/22119\n",
    "- https://www.kaggle.com/c/shelter-animal-outcomes/discussion/19867"
   ]
  },
  {
   "cell_type": "markdown",
   "metadata": {},
   "source": [
    "Kaggle Train에 주어진 DataTime인자를 사용하는것은 형평성에 어긋난다는 지적이 있다. 왜냐하면 DateTime에 있는 day와 hour정보까지 사용하면, transfer같은 경우 같은날 같은시간에 대량으로 이루어 지는 경우가 있기 때문에 애완견의 특징이나 정보가 아닌 결과가 이루어진 특정 시간을 모델이 학습을 하면서 결과값은 좋아지지만 미래에 사용할 경우 말도 안되는 결과가 나오는 모델이 구성되게 된다. \n",
    "\n",
    "실제로 Kaggle 상위권 점수를 획득한 팀에서 분석해본 결과, train.csv에 있는 애완견의 특징만 가지고 분석을 했을경우 Log Loss값 0.8정도가 한계치라는 결론을 내렸다. \n",
    "\n",
    "추가로, https://data.austintexas.gov/ 홈페이지에 가면 Kaggle에 사용된 train.csv의 원본을 찾을수 있다. 심지어 제일 최근 (2017년 11월)까지 업데이트 된 정보를 얻을수 있으며 결과값 까지도 얻을수 있다. Kaggle에서 Log Loss 0.0으로 1등한 팀은 아마 모델을 돌린것이 아니라 이 결과값을 test.csv와 매칭해서 얻은 결과가 아닐까 생각된다.\n",
    "\n",
    "일부 Kaggle Discussion Board에서는 train.csv원본에 포함된 intake condition과 intake type인자를 Kaggle Data에 올려서 예측하는것이 더 공정하고 Kaggle에서 원래 의도했던 애완견의 특징에 따른 예측모델을 구성하는데 더 도움이 됐을꺼라는 의견이 있었다.\n",
    "\n",
    "https://data.austintexas.gov/ 에서 가지고온 Animal_Intake 자료와 Outcome자료를 참고로 한번 출력해 보겠다."
   ]
  },
  {
   "cell_type": "code",
   "execution_count": 165,
   "metadata": {
    "collapsed": true
   },
   "outputs": [],
   "source": [
    "intake = pd.read_csv('intake.csv')\n",
    "outcome = pd.read_csv('outcome.csv')"
   ]
  },
  {
   "cell_type": "code",
   "execution_count": 166,
   "metadata": {},
   "outputs": [
    {
     "data": {
      "text/html": [
       "<div>\n",
       "<style>\n",
       "    .dataframe thead tr:only-child th {\n",
       "        text-align: right;\n",
       "    }\n",
       "\n",
       "    .dataframe thead th {\n",
       "        text-align: left;\n",
       "    }\n",
       "\n",
       "    .dataframe tbody tr th {\n",
       "        vertical-align: top;\n",
       "    }\n",
       "</style>\n",
       "<table border=\"1\" class=\"dataframe\">\n",
       "  <thead>\n",
       "    <tr style=\"text-align: right;\">\n",
       "      <th></th>\n",
       "      <th>Animal ID</th>\n",
       "      <th>Name</th>\n",
       "      <th>DateTime</th>\n",
       "      <th>MonthYear</th>\n",
       "      <th>Found Location</th>\n",
       "      <th>Intake Type</th>\n",
       "      <th>Intake Condition</th>\n",
       "      <th>Animal Type</th>\n",
       "      <th>Sex upon Intake</th>\n",
       "      <th>Age upon Intake</th>\n",
       "      <th>Breed</th>\n",
       "      <th>Color</th>\n",
       "    </tr>\n",
       "  </thead>\n",
       "  <tbody>\n",
       "    <tr>\n",
       "      <th>0</th>\n",
       "      <td>A748291</td>\n",
       "      <td>*Madison</td>\n",
       "      <td>05/01/2017 02:26:00 PM</td>\n",
       "      <td>05/01/2017 02:26:00 PM</td>\n",
       "      <td>S Pleasant Valley Rd And E Riverside Dr in Aus...</td>\n",
       "      <td>Stray</td>\n",
       "      <td>Normal</td>\n",
       "      <td>Dog</td>\n",
       "      <td>Intact Female</td>\n",
       "      <td>10 months</td>\n",
       "      <td>Pit Bull Mix</td>\n",
       "      <td>Black</td>\n",
       "    </tr>\n",
       "    <tr>\n",
       "      <th>1</th>\n",
       "      <td>A750529</td>\n",
       "      <td>NaN</td>\n",
       "      <td>05/28/2017 01:22:00 PM</td>\n",
       "      <td>05/28/2017 01:22:00 PM</td>\n",
       "      <td>8312 North Ih 35 in Austin (TX)</td>\n",
       "      <td>Stray</td>\n",
       "      <td>Normal</td>\n",
       "      <td>Dog</td>\n",
       "      <td>Intact Female</td>\n",
       "      <td>5 months</td>\n",
       "      <td>Miniature Schnauzer Mix</td>\n",
       "      <td>White/Cream</td>\n",
       "    </tr>\n",
       "    <tr>\n",
       "      <th>2</th>\n",
       "      <td>A730601</td>\n",
       "      <td>NaN</td>\n",
       "      <td>07/07/2016 12:11:00 PM</td>\n",
       "      <td>07/07/2016 12:11:00 PM</td>\n",
       "      <td>1109 Shady Ln in Austin (TX)</td>\n",
       "      <td>Stray</td>\n",
       "      <td>Normal</td>\n",
       "      <td>Cat</td>\n",
       "      <td>Intact Male</td>\n",
       "      <td>7 months</td>\n",
       "      <td>Domestic Shorthair Mix</td>\n",
       "      <td>Blue Tabby</td>\n",
       "    </tr>\n",
       "    <tr>\n",
       "      <th>3</th>\n",
       "      <td>A748238</td>\n",
       "      <td>NaN</td>\n",
       "      <td>05/01/2017 10:53:00 AM</td>\n",
       "      <td>05/01/2017 10:53:00 AM</td>\n",
       "      <td>Airport Blvd And Oak Springs Dr in Austin (TX)</td>\n",
       "      <td>Stray</td>\n",
       "      <td>Normal</td>\n",
       "      <td>Dog</td>\n",
       "      <td>Intact Male</td>\n",
       "      <td>3 years</td>\n",
       "      <td>Bichon Frise Mix</td>\n",
       "      <td>White</td>\n",
       "    </tr>\n",
       "    <tr>\n",
       "      <th>4</th>\n",
       "      <td>A683644</td>\n",
       "      <td>*Zoey</td>\n",
       "      <td>07/13/2014 11:02:00 AM</td>\n",
       "      <td>07/13/2014 11:02:00 AM</td>\n",
       "      <td>Austin (TX)</td>\n",
       "      <td>Owner Surrender</td>\n",
       "      <td>Nursing</td>\n",
       "      <td>Dog</td>\n",
       "      <td>Intact Female</td>\n",
       "      <td>4 weeks</td>\n",
       "      <td>Border Collie Mix</td>\n",
       "      <td>Brown/White</td>\n",
       "    </tr>\n",
       "  </tbody>\n",
       "</table>\n",
       "</div>"
      ],
      "text/plain": [
       "  Animal ID      Name                DateTime               MonthYear  \\\n",
       "0   A748291  *Madison  05/01/2017 02:26:00 PM  05/01/2017 02:26:00 PM   \n",
       "1   A750529       NaN  05/28/2017 01:22:00 PM  05/28/2017 01:22:00 PM   \n",
       "2   A730601       NaN  07/07/2016 12:11:00 PM  07/07/2016 12:11:00 PM   \n",
       "3   A748238       NaN  05/01/2017 10:53:00 AM  05/01/2017 10:53:00 AM   \n",
       "4   A683644     *Zoey  07/13/2014 11:02:00 AM  07/13/2014 11:02:00 AM   \n",
       "\n",
       "                                      Found Location      Intake Type  \\\n",
       "0  S Pleasant Valley Rd And E Riverside Dr in Aus...            Stray   \n",
       "1                    8312 North Ih 35 in Austin (TX)            Stray   \n",
       "2                       1109 Shady Ln in Austin (TX)            Stray   \n",
       "3     Airport Blvd And Oak Springs Dr in Austin (TX)            Stray   \n",
       "4                                        Austin (TX)  Owner Surrender   \n",
       "\n",
       "  Intake Condition Animal Type Sex upon Intake Age upon Intake  \\\n",
       "0           Normal         Dog   Intact Female       10 months   \n",
       "1           Normal         Dog   Intact Female        5 months   \n",
       "2           Normal         Cat     Intact Male        7 months   \n",
       "3           Normal         Dog     Intact Male         3 years   \n",
       "4          Nursing         Dog   Intact Female         4 weeks   \n",
       "\n",
       "                     Breed        Color  \n",
       "0             Pit Bull Mix        Black  \n",
       "1  Miniature Schnauzer Mix  White/Cream  \n",
       "2   Domestic Shorthair Mix   Blue Tabby  \n",
       "3         Bichon Frise Mix        White  \n",
       "4        Border Collie Mix  Brown/White  "
      ]
     },
     "execution_count": 166,
     "metadata": {},
     "output_type": "execute_result"
    }
   ],
   "source": [
    "intake.head()"
   ]
  },
  {
   "cell_type": "code",
   "execution_count": 167,
   "metadata": {},
   "outputs": [
    {
     "data": {
      "text/html": [
       "<div>\n",
       "<style>\n",
       "    .dataframe thead tr:only-child th {\n",
       "        text-align: right;\n",
       "    }\n",
       "\n",
       "    .dataframe thead th {\n",
       "        text-align: left;\n",
       "    }\n",
       "\n",
       "    .dataframe tbody tr th {\n",
       "        vertical-align: top;\n",
       "    }\n",
       "</style>\n",
       "<table border=\"1\" class=\"dataframe\">\n",
       "  <thead>\n",
       "    <tr style=\"text-align: right;\">\n",
       "      <th></th>\n",
       "      <th>Animal ID</th>\n",
       "      <th>Name</th>\n",
       "      <th>DateTime</th>\n",
       "      <th>MonthYear</th>\n",
       "      <th>Date of Birth</th>\n",
       "      <th>Outcome Type</th>\n",
       "      <th>Outcome Subtype</th>\n",
       "      <th>Animal Type</th>\n",
       "      <th>Sex upon Outcome</th>\n",
       "      <th>Age upon Outcome</th>\n",
       "      <th>Breed</th>\n",
       "      <th>Color</th>\n",
       "    </tr>\n",
       "  </thead>\n",
       "  <tbody>\n",
       "    <tr>\n",
       "      <th>0</th>\n",
       "      <td>A741715</td>\n",
       "      <td>*Pebbles</td>\n",
       "      <td>01/11/2017 06:17:00 PM</td>\n",
       "      <td>01/11/2017 06:17:00 PM</td>\n",
       "      <td>03/07/2016</td>\n",
       "      <td>Adoption</td>\n",
       "      <td>NaN</td>\n",
       "      <td>Cat</td>\n",
       "      <td>Spayed Female</td>\n",
       "      <td>10 months</td>\n",
       "      <td>Domestic Shorthair Mix</td>\n",
       "      <td>Calico</td>\n",
       "    </tr>\n",
       "    <tr>\n",
       "      <th>1</th>\n",
       "      <td>A658751</td>\n",
       "      <td>Benji</td>\n",
       "      <td>11/13/2016 01:38:00 PM</td>\n",
       "      <td>11/13/2016 01:38:00 PM</td>\n",
       "      <td>07/14/2011</td>\n",
       "      <td>Return to Owner</td>\n",
       "      <td>NaN</td>\n",
       "      <td>Dog</td>\n",
       "      <td>Neutered Male</td>\n",
       "      <td>5 years</td>\n",
       "      <td>Border Terrier Mix</td>\n",
       "      <td>Tan</td>\n",
       "    </tr>\n",
       "    <tr>\n",
       "      <th>2</th>\n",
       "      <td>A721285</td>\n",
       "      <td>NaN</td>\n",
       "      <td>02/24/2016 02:42:00 PM</td>\n",
       "      <td>02/24/2016 02:42:00 PM</td>\n",
       "      <td>02/24/2014</td>\n",
       "      <td>Euthanasia</td>\n",
       "      <td>Suffering</td>\n",
       "      <td>Other</td>\n",
       "      <td>Unknown</td>\n",
       "      <td>2 years</td>\n",
       "      <td>Raccoon Mix</td>\n",
       "      <td>Black/Gray</td>\n",
       "    </tr>\n",
       "    <tr>\n",
       "      <th>3</th>\n",
       "      <td>A746650</td>\n",
       "      <td>Rose</td>\n",
       "      <td>04/07/2017 11:58:00 AM</td>\n",
       "      <td>04/07/2017 11:58:00 AM</td>\n",
       "      <td>04/06/2016</td>\n",
       "      <td>Return to Owner</td>\n",
       "      <td>NaN</td>\n",
       "      <td>Dog</td>\n",
       "      <td>Intact Female</td>\n",
       "      <td>1 year</td>\n",
       "      <td>Labrador Retriever/Jack Russell Terrier</td>\n",
       "      <td>Yellow</td>\n",
       "    </tr>\n",
       "    <tr>\n",
       "      <th>4</th>\n",
       "      <td>A750122</td>\n",
       "      <td>Happy Camper</td>\n",
       "      <td>05/24/2017 06:36:00 PM</td>\n",
       "      <td>05/24/2017 06:36:00 PM</td>\n",
       "      <td>04/08/2017</td>\n",
       "      <td>Transfer</td>\n",
       "      <td>Partner</td>\n",
       "      <td>Dog</td>\n",
       "      <td>Intact Male</td>\n",
       "      <td>1 month</td>\n",
       "      <td>Labrador Retriever Mix</td>\n",
       "      <td>Black</td>\n",
       "    </tr>\n",
       "  </tbody>\n",
       "</table>\n",
       "</div>"
      ],
      "text/plain": [
       "  Animal ID          Name                DateTime               MonthYear  \\\n",
       "0   A741715      *Pebbles  01/11/2017 06:17:00 PM  01/11/2017 06:17:00 PM   \n",
       "1   A658751         Benji  11/13/2016 01:38:00 PM  11/13/2016 01:38:00 PM   \n",
       "2   A721285           NaN  02/24/2016 02:42:00 PM  02/24/2016 02:42:00 PM   \n",
       "3   A746650          Rose  04/07/2017 11:58:00 AM  04/07/2017 11:58:00 AM   \n",
       "4   A750122  Happy Camper  05/24/2017 06:36:00 PM  05/24/2017 06:36:00 PM   \n",
       "\n",
       "  Date of Birth     Outcome Type Outcome Subtype Animal Type Sex upon Outcome  \\\n",
       "0    03/07/2016         Adoption             NaN         Cat    Spayed Female   \n",
       "1    07/14/2011  Return to Owner             NaN         Dog    Neutered Male   \n",
       "2    02/24/2014       Euthanasia       Suffering       Other          Unknown   \n",
       "3    04/06/2016  Return to Owner             NaN         Dog    Intact Female   \n",
       "4    04/08/2017         Transfer         Partner         Dog      Intact Male   \n",
       "\n",
       "  Age upon Outcome                                    Breed       Color  \n",
       "0        10 months                   Domestic Shorthair Mix      Calico  \n",
       "1          5 years                       Border Terrier Mix         Tan  \n",
       "2          2 years                              Raccoon Mix  Black/Gray  \n",
       "3           1 year  Labrador Retriever/Jack Russell Terrier      Yellow  \n",
       "4          1 month                   Labrador Retriever Mix       Black  "
      ]
     },
     "execution_count": 167,
     "metadata": {},
     "output_type": "execute_result"
    }
   ],
   "source": [
    "outcome.head()"
   ]
  },
  {
   "cell_type": "markdown",
   "metadata": {},
   "source": [
    "### 기타 References:\n",
    "\n",
    "- https://cwpkuo.github.io/series/kaggle-animal-shelter/\n",
    "- https://ttran0.github.io/Austin-Animal-Shelter-Outcome-Analysis.html\n",
    "- https://issuu.com/terezdotcc/docs/final_kaggle_-_shelter_animal_outco\n",
    "- https://www.kaggle.com/andraszsom/dog-breeds-dog-groups\n",
    "- Python Machine Learning 2nd Edition, Sebastian Raschka & Vahid Mirjalili"
   ]
  },
  {
   "cell_type": "code",
   "execution_count": null,
   "metadata": {
    "collapsed": true
   },
   "outputs": [],
   "source": []
  },
  {
   "cell_type": "code",
   "execution_count": null,
   "metadata": {
    "collapsed": true
   },
   "outputs": [],
   "source": []
  }
 ],
 "metadata": {
  "kernelspec": {
   "display_name": "Python 3",
   "language": "python",
   "name": "python3"
  },
  "language_info": {
   "codemirror_mode": {
    "name": "ipython",
    "version": 3
   },
   "file_extension": ".py",
   "mimetype": "text/x-python",
   "name": "python",
   "nbconvert_exporter": "python",
   "pygments_lexer": "ipython3",
   "version": "3.5.4"
  }
 },
 "nbformat": 4,
 "nbformat_minor": 2
}
