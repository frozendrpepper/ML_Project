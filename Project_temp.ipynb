{
 "cells": [
  {
   "cell_type": "markdown",
   "metadata": {},
   "source": [
    "# 머신러닝 과제 발표자료\n",
    "\n",
    "# 주제: Shelter Animal Outcomes"
   ]
  },
  {
   "cell_type": "code",
   "execution_count": 1,
   "metadata": {},
   "outputs": [
    {
     "name": "stderr",
     "output_type": "stream",
     "text": [
      "C:\\Users\\cck3\\Anaconda3\\lib\\site-packages\\sklearn\\cross_validation.py:41: DeprecationWarning: This module was deprecated in version 0.18 in favor of the model_selection module into which all the refactored classes and functions are moved. Also note that the interface of the new CV iterators are different from that of this module. This module will be removed in 0.20.\n",
      "  \"This module will be removed in 0.20.\", DeprecationWarning)\n",
      "C:\\Users\\cck3\\Anaconda3\\lib\\site-packages\\statsmodels\\compat\\pandas.py:56: FutureWarning: The pandas.core.datetools module is deprecated and will be removed in a future version. Please use the pandas.tseries module instead.\n",
      "  from pandas.core import datetools\n"
     ]
    }
   ],
   "source": [
    "'''Import all the necessary packages'''\n",
    "from sklearn.preprocessing import StandardScaler\n",
    "from sklearn.model_selection import train_test_split, cross_val_score, KFold, StratifiedKFold, GridSearchCV\n",
    "from sklearn.preprocessing import Imputer, OneHotEncoder, LabelEncoder\n",
    "from sklearn.metrics import classification_report, confusion_matrix, roc_curve, accuracy_score, log_loss\n",
    "from sklearn.linear_model import LogisticRegression\n",
    "from sklearn.svm import SVC\n",
    "from sklearn.naive_bayes import GaussianNB\n",
    "from sklearn.tree import DecisionTreeClassifier\n",
    "from sklearn.ensemble import RandomForestClassifier, ExtraTreesClassifier, BaggingClassifier\n",
    "import xgboost\n",
    "\n",
    "from patsy import dmatrix\n",
    "from scipy import stats\n",
    "\n",
    "import statsmodels.api as sm\n",
    "import seaborn as sns\n",
    "import numpy as np\n",
    "import pandas as pd\n",
    "import matplotlib.pylab as plt\n",
    "import requests\n",
    "from bs4 import BeautifulSoup"
   ]
  },
  {
   "cell_type": "markdown",
   "metadata": {},
   "source": [
    "## 인자설명 및 과제 목표\n",
    "\n",
    "종속변수 (y): OutcomeType -> Returned to owner, Adoption, Transfer, Euthanasia, Died\n",
    "\n",
    "독립변수 (X): AnimalID, Name, DateTime, OutcomeSubType, AnimalType, SexuponOutcome, AgeuponOutcome, Breed, Color\n",
    "\n",
    "(추가 설명 첨부 필요)\n",
    "\n",
    "주어진 종속변수를 사용하여 Shelter 애완동물의 Outcome을 예측하는 프로젝트. 예측 Outcome으로는 Returned to Owner, Transfer, Adoption, Euthanasia, Death가 있다."
   ]
  },
  {
   "cell_type": "markdown",
   "metadata": {},
   "source": [
    "## EDA & Feature Engineering"
   ]
  },
  {
   "cell_type": "code",
   "execution_count": 2,
   "metadata": {
    "collapsed": true
   },
   "outputs": [],
   "source": [
    "data_train = pd.read_csv('train.csv')\n",
    "data_test = pd.read_csv('test.csv')\n",
    "\n",
    "'''Keep a copy of the original data for comparison'''\n",
    "data_original_train = data_train.copy()\n",
    "data_original_test = data_test.copy()"
   ]
  },
  {
   "cell_type": "markdown",
   "metadata": {},
   "source": [
    "### 1) NaN값 파악 + train, test 데이터 취합"
   ]
  },
  {
   "cell_type": "code",
   "execution_count": 3,
   "metadata": {
    "collapsed": true
   },
   "outputs": [],
   "source": [
    "def graph_na(data_train):\n",
    "    plt.figure()\n",
    "    missing_data_count = data_train.isnull().sum()\n",
    "    missing_data_count.sort_values(ascending = False, inplace = True)\n",
    "    missing_data_count_filtered = missing_data_count[missing_data_count > 0]\n",
    "    missing_data_count_filtered.plot(kind = 'bar', title = 'missing data count')\n",
    "    plt.show()"
   ]
  },
  {
   "cell_type": "code",
   "execution_count": 6,
   "metadata": {},
   "outputs": [
    {
     "data": {
      "text/plain": [
       "AnimalID              0\n",
       "Name               7691\n",
       "DateTime              0\n",
       "OutcomeType           0\n",
       "OutcomeSubtype    13612\n",
       "AnimalType            0\n",
       "SexuponOutcome        1\n",
       "AgeuponOutcome       18\n",
       "Breed                 0\n",
       "Color                 0\n",
       "dtype: int64"
      ]
     },
     "execution_count": 6,
     "metadata": {},
     "output_type": "execute_result"
    }
   ],
   "source": [
    "data_train.isnull().sum()"
   ]
  },
  {
   "cell_type": "code",
   "execution_count": 7,
   "metadata": {},
   "outputs": [
    {
     "data": {
      "text/plain": [
       "ID                   0\n",
       "Name              3225\n",
       "DateTime             0\n",
       "AnimalType           0\n",
       "SexuponOutcome       0\n",
       "AgeuponOutcome       6\n",
       "Breed                0\n",
       "Color                0\n",
       "dtype: int64"
      ]
     },
     "execution_count": 7,
     "metadata": {},
     "output_type": "execute_result"
    }
   ],
   "source": [
    "data_test.isnull().sum()"
   ]
  },
  {
   "cell_type": "code",
   "execution_count": 8,
   "metadata": {
    "collapsed": true
   },
   "outputs": [],
   "source": [
    "#Train과 Test를 합쳐서 한번에 전처리 진행\n",
    "#OutcomeSubtype은 Train에만 있는 데이터기 때문에 Drop\n",
    "dfY = data_train['OutcomeType']\n",
    "data_train_drop = data_train.drop('OutcomeSubtype', axis = 1)\n",
    "data_train_drop.drop('OutcomeType', axis = 1, inplace = True)\n",
    "\n",
    "data_test = data_test.rename(columns = {'ID':'AnimalID'})\n",
    "data_combined = pd.concat([data_train_drop, data_test], axis = 0)"
   ]
  },
  {
   "cell_type": "code",
   "execution_count": 9,
   "metadata": {},
   "outputs": [
    {
     "data": {
      "text/plain": [
       "(26729,)"
      ]
     },
     "execution_count": 9,
     "metadata": {},
     "output_type": "execute_result"
    }
   ],
   "source": [
    "dfY.shape"
   ]
  },
  {
   "cell_type": "code",
   "execution_count": 10,
   "metadata": {},
   "outputs": [
    {
     "data": {
      "text/html": [
       "<div>\n",
       "<style>\n",
       "    .dataframe thead tr:only-child th {\n",
       "        text-align: right;\n",
       "    }\n",
       "\n",
       "    .dataframe thead th {\n",
       "        text-align: left;\n",
       "    }\n",
       "\n",
       "    .dataframe tbody tr th {\n",
       "        vertical-align: top;\n",
       "    }\n",
       "</style>\n",
       "<table border=\"1\" class=\"dataframe\">\n",
       "  <thead>\n",
       "    <tr style=\"text-align: right;\">\n",
       "      <th></th>\n",
       "      <th>AnimalID</th>\n",
       "      <th>Name</th>\n",
       "      <th>DateTime</th>\n",
       "      <th>AnimalType</th>\n",
       "      <th>SexuponOutcome</th>\n",
       "      <th>AgeuponOutcome</th>\n",
       "      <th>Breed</th>\n",
       "      <th>Color</th>\n",
       "    </tr>\n",
       "  </thead>\n",
       "  <tbody>\n",
       "    <tr>\n",
       "      <th>0</th>\n",
       "      <td>A671945</td>\n",
       "      <td>Hambone</td>\n",
       "      <td>2014-02-12 18:22:00</td>\n",
       "      <td>Dog</td>\n",
       "      <td>Neutered Male</td>\n",
       "      <td>1 year</td>\n",
       "      <td>Shetland Sheepdog Mix</td>\n",
       "      <td>Brown/White</td>\n",
       "    </tr>\n",
       "    <tr>\n",
       "      <th>1</th>\n",
       "      <td>A656520</td>\n",
       "      <td>Emily</td>\n",
       "      <td>2013-10-13 12:44:00</td>\n",
       "      <td>Cat</td>\n",
       "      <td>Spayed Female</td>\n",
       "      <td>1 year</td>\n",
       "      <td>Domestic Shorthair Mix</td>\n",
       "      <td>Cream Tabby</td>\n",
       "    </tr>\n",
       "    <tr>\n",
       "      <th>2</th>\n",
       "      <td>A686464</td>\n",
       "      <td>Pearce</td>\n",
       "      <td>2015-01-31 12:28:00</td>\n",
       "      <td>Dog</td>\n",
       "      <td>Neutered Male</td>\n",
       "      <td>2 years</td>\n",
       "      <td>Pit Bull Mix</td>\n",
       "      <td>Blue/White</td>\n",
       "    </tr>\n",
       "    <tr>\n",
       "      <th>3</th>\n",
       "      <td>A683430</td>\n",
       "      <td>NaN</td>\n",
       "      <td>2014-07-11 19:09:00</td>\n",
       "      <td>Cat</td>\n",
       "      <td>Intact Male</td>\n",
       "      <td>3 weeks</td>\n",
       "      <td>Domestic Shorthair Mix</td>\n",
       "      <td>Blue Cream</td>\n",
       "    </tr>\n",
       "    <tr>\n",
       "      <th>4</th>\n",
       "      <td>A667013</td>\n",
       "      <td>NaN</td>\n",
       "      <td>2013-11-15 12:52:00</td>\n",
       "      <td>Dog</td>\n",
       "      <td>Neutered Male</td>\n",
       "      <td>2 years</td>\n",
       "      <td>Lhasa Apso/Miniature Poodle</td>\n",
       "      <td>Tan</td>\n",
       "    </tr>\n",
       "  </tbody>\n",
       "</table>\n",
       "</div>"
      ],
      "text/plain": [
       "  AnimalID     Name             DateTime AnimalType SexuponOutcome  \\\n",
       "0  A671945  Hambone  2014-02-12 18:22:00        Dog  Neutered Male   \n",
       "1  A656520    Emily  2013-10-13 12:44:00        Cat  Spayed Female   \n",
       "2  A686464   Pearce  2015-01-31 12:28:00        Dog  Neutered Male   \n",
       "3  A683430      NaN  2014-07-11 19:09:00        Cat    Intact Male   \n",
       "4  A667013      NaN  2013-11-15 12:52:00        Dog  Neutered Male   \n",
       "\n",
       "  AgeuponOutcome                        Breed        Color  \n",
       "0         1 year        Shetland Sheepdog Mix  Brown/White  \n",
       "1         1 year       Domestic Shorthair Mix  Cream Tabby  \n",
       "2        2 years                 Pit Bull Mix   Blue/White  \n",
       "3        3 weeks       Domestic Shorthair Mix   Blue Cream  \n",
       "4        2 years  Lhasa Apso/Miniature Poodle          Tan  "
      ]
     },
     "execution_count": 10,
     "metadata": {},
     "output_type": "execute_result"
    }
   ],
   "source": [
    "data_combined.head()"
   ]
  },
  {
   "cell_type": "code",
   "execution_count": 11,
   "metadata": {},
   "outputs": [
    {
     "data": {
      "text/html": [
       "<div>\n",
       "<style>\n",
       "    .dataframe thead tr:only-child th {\n",
       "        text-align: right;\n",
       "    }\n",
       "\n",
       "    .dataframe thead th {\n",
       "        text-align: left;\n",
       "    }\n",
       "\n",
       "    .dataframe tbody tr th {\n",
       "        vertical-align: top;\n",
       "    }\n",
       "</style>\n",
       "<table border=\"1\" class=\"dataframe\">\n",
       "  <thead>\n",
       "    <tr style=\"text-align: right;\">\n",
       "      <th></th>\n",
       "      <th>AnimalID</th>\n",
       "      <th>Name</th>\n",
       "      <th>DateTime</th>\n",
       "      <th>AnimalType</th>\n",
       "      <th>SexuponOutcome</th>\n",
       "      <th>AgeuponOutcome</th>\n",
       "      <th>Breed</th>\n",
       "      <th>Color</th>\n",
       "    </tr>\n",
       "  </thead>\n",
       "  <tbody>\n",
       "    <tr>\n",
       "      <th>11451</th>\n",
       "      <td>11452</td>\n",
       "      <td>NaN</td>\n",
       "      <td>2014-07-08 14:50</td>\n",
       "      <td>Cat</td>\n",
       "      <td>Neutered Male</td>\n",
       "      <td>2 months</td>\n",
       "      <td>Domestic Shorthair Mix</td>\n",
       "      <td>Black</td>\n",
       "    </tr>\n",
       "    <tr>\n",
       "      <th>11452</th>\n",
       "      <td>11453</td>\n",
       "      <td>NaN</td>\n",
       "      <td>2014-10-21 12:57</td>\n",
       "      <td>Cat</td>\n",
       "      <td>Intact Female</td>\n",
       "      <td>2 weeks</td>\n",
       "      <td>Domestic Shorthair Mix</td>\n",
       "      <td>Blue</td>\n",
       "    </tr>\n",
       "    <tr>\n",
       "      <th>11453</th>\n",
       "      <td>11454</td>\n",
       "      <td>NaN</td>\n",
       "      <td>2014-09-29 9:00</td>\n",
       "      <td>Cat</td>\n",
       "      <td>Intact Female</td>\n",
       "      <td>1 year</td>\n",
       "      <td>Domestic Shorthair Mix</td>\n",
       "      <td>Calico</td>\n",
       "    </tr>\n",
       "    <tr>\n",
       "      <th>11454</th>\n",
       "      <td>11455</td>\n",
       "      <td>Rambo</td>\n",
       "      <td>2015-09-05 17:16</td>\n",
       "      <td>Dog</td>\n",
       "      <td>Neutered Male</td>\n",
       "      <td>6 years</td>\n",
       "      <td>German Shepherd Mix</td>\n",
       "      <td>Black/Tan</td>\n",
       "    </tr>\n",
       "    <tr>\n",
       "      <th>11455</th>\n",
       "      <td>11456</td>\n",
       "      <td>Gusto</td>\n",
       "      <td>2014-07-12 18:40</td>\n",
       "      <td>Dog</td>\n",
       "      <td>Intact Male</td>\n",
       "      <td>4 years</td>\n",
       "      <td>Labrador Retriever</td>\n",
       "      <td>Cream</td>\n",
       "    </tr>\n",
       "  </tbody>\n",
       "</table>\n",
       "</div>"
      ],
      "text/plain": [
       "      AnimalID   Name          DateTime AnimalType SexuponOutcome  \\\n",
       "11451    11452    NaN  2014-07-08 14:50        Cat  Neutered Male   \n",
       "11452    11453    NaN  2014-10-21 12:57        Cat  Intact Female   \n",
       "11453    11454    NaN   2014-09-29 9:00        Cat  Intact Female   \n",
       "11454    11455  Rambo  2015-09-05 17:16        Dog  Neutered Male   \n",
       "11455    11456  Gusto  2014-07-12 18:40        Dog    Intact Male   \n",
       "\n",
       "      AgeuponOutcome                   Breed      Color  \n",
       "11451       2 months  Domestic Shorthair Mix      Black  \n",
       "11452        2 weeks  Domestic Shorthair Mix       Blue  \n",
       "11453         1 year  Domestic Shorthair Mix     Calico  \n",
       "11454        6 years     German Shepherd Mix  Black/Tan  \n",
       "11455        4 years      Labrador Retriever      Cream  "
      ]
     },
     "execution_count": 11,
     "metadata": {},
     "output_type": "execute_result"
    }
   ],
   "source": [
    "data_combined.tail()"
   ]
  },
  {
   "cell_type": "code",
   "execution_count": 12,
   "metadata": {},
   "outputs": [
    {
     "data": {
      "text/plain": [
       "AnimalID              0\n",
       "Name              10916\n",
       "DateTime              0\n",
       "AnimalType            0\n",
       "SexuponOutcome        1\n",
       "AgeuponOutcome       24\n",
       "Breed                 0\n",
       "Color                 0\n",
       "dtype: int64"
      ]
     },
     "execution_count": 12,
     "metadata": {},
     "output_type": "execute_result"
    }
   ],
   "source": [
    "data_combined.isnull().sum()"
   ]
  },
  {
   "cell_type": "markdown",
   "metadata": {},
   "source": [
    "### 1.2) Name -> 이름이 있을경우 'Name'으로 없을경우 No Name'으로 변환"
   ]
  },
  {
   "cell_type": "code",
   "execution_count": 13,
   "metadata": {
    "collapsed": true
   },
   "outputs": [],
   "source": [
    "def no_name_label(x):\n",
    "    '''Reference: https://github.com/JihongL/Shelter-Animal-Outcomes/blob/master/Shelter_EDA.ipynb'''\n",
    "    if type(x) == float:\n",
    "        return 'No Name'\n",
    "    else:\n",
    "        return 'Name'"
   ]
  },
  {
   "cell_type": "code",
   "execution_count": 14,
   "metadata": {
    "collapsed": true
   },
   "outputs": [],
   "source": [
    "data_combined['Name'] = data_combined['Name'].transform(no_name_label)"
   ]
  },
  {
   "cell_type": "markdown",
   "metadata": {},
   "source": [
    "### 2) 날짜 데이터 분류 -> 날짜 데이터에서 년, 월, 일, 시간 자료 추출 및 계절 변수 형성"
   ]
  },
  {
   "cell_type": "code",
   "execution_count": 15,
   "metadata": {
    "collapsed": true
   },
   "outputs": [],
   "source": [
    "def datetime_str_converter(data_train):\n",
    "    '''This method converts the datetime input into year and month in\n",
    "    string format. The below method is identical except it returns numerical\n",
    "    value. The string format is used for graphing with countplot'''\n",
    "    datetime = list(data_train['DateTime'])\n",
    "    year_list, month_list, day_list, hour_list = [], [], [], []\n",
    "    for item in datetime:\n",
    "        year_list.append(item[:4])\n",
    "        month_list.append(item[5:7])\n",
    "        day_list.append(item[8:10])\n",
    "        hour_list.append(item[11:13])\n",
    "    return year_list, month_list, day_list, hour_list\n",
    "\n",
    "def season_sort(month_list):\n",
    "    '''Converts month information to season information'''\n",
    "    season_list = []\n",
    "    for item in month_list:\n",
    "        item = int(item)\n",
    "        if item == 12 or item == 1 or item == 2:\n",
    "            season_list.append('winter')\n",
    "        elif item >=3 and item <=5:\n",
    "            season_list.append('spring')\n",
    "        elif item >= 6 and item <= 8:\n",
    "            season_list.append('summer')\n",
    "        elif item >= 9 and item <= 11:\n",
    "            season_list.append('fall')\n",
    "    return season_list"
   ]
  },
  {
   "cell_type": "code",
   "execution_count": 16,
   "metadata": {
    "collapsed": true
   },
   "outputs": [],
   "source": [
    "'''Year and Month information extraction'''\n",
    "year_list, month_list, day_list, hour_list = datetime_str_converter(data_combined)\n",
    "date_list = []\n",
    "for year, month in zip(year_list, month_list):\n",
    "    date_list.append(int(year + month))\n",
    "\n",
    "#Data를 년, 월, 일, 시간 그리고 년 + 월 합친 데이터로 변환\n",
    "data_combined['Date'] = date_list\n",
    "data_combined['OutcomeYear'], data_combined['OutcomeMonth'] = year_list, month_list\n",
    "data_combined['OutcomeDay'], data_combined['OutcomeHour'] = day_list, hour_list\n",
    "\n",
    "#계절 데이터 형성\n",
    "season_list = season_sort(month_list)\n",
    "data_combined['OutcomeSeason'] = season_list"
   ]
  },
  {
   "cell_type": "code",
   "execution_count": 17,
   "metadata": {},
   "outputs": [
    {
     "data": {
      "text/html": [
       "<div>\n",
       "<style>\n",
       "    .dataframe thead tr:only-child th {\n",
       "        text-align: right;\n",
       "    }\n",
       "\n",
       "    .dataframe thead th {\n",
       "        text-align: left;\n",
       "    }\n",
       "\n",
       "    .dataframe tbody tr th {\n",
       "        vertical-align: top;\n",
       "    }\n",
       "</style>\n",
       "<table border=\"1\" class=\"dataframe\">\n",
       "  <thead>\n",
       "    <tr style=\"text-align: right;\">\n",
       "      <th></th>\n",
       "      <th>AnimalID</th>\n",
       "      <th>Name</th>\n",
       "      <th>DateTime</th>\n",
       "      <th>AnimalType</th>\n",
       "      <th>SexuponOutcome</th>\n",
       "      <th>AgeuponOutcome</th>\n",
       "      <th>Breed</th>\n",
       "      <th>Color</th>\n",
       "      <th>Date</th>\n",
       "      <th>OutcomeYear</th>\n",
       "      <th>OutcomeMonth</th>\n",
       "      <th>OutcomeDay</th>\n",
       "      <th>OutcomeHour</th>\n",
       "      <th>OutcomeSeason</th>\n",
       "    </tr>\n",
       "  </thead>\n",
       "  <tbody>\n",
       "    <tr>\n",
       "      <th>0</th>\n",
       "      <td>A671945</td>\n",
       "      <td>Name</td>\n",
       "      <td>2014-02-12 18:22:00</td>\n",
       "      <td>Dog</td>\n",
       "      <td>Neutered Male</td>\n",
       "      <td>1 year</td>\n",
       "      <td>Shetland Sheepdog Mix</td>\n",
       "      <td>Brown/White</td>\n",
       "      <td>201402</td>\n",
       "      <td>2014</td>\n",
       "      <td>02</td>\n",
       "      <td>12</td>\n",
       "      <td>18</td>\n",
       "      <td>winter</td>\n",
       "    </tr>\n",
       "    <tr>\n",
       "      <th>1</th>\n",
       "      <td>A656520</td>\n",
       "      <td>Name</td>\n",
       "      <td>2013-10-13 12:44:00</td>\n",
       "      <td>Cat</td>\n",
       "      <td>Spayed Female</td>\n",
       "      <td>1 year</td>\n",
       "      <td>Domestic Shorthair Mix</td>\n",
       "      <td>Cream Tabby</td>\n",
       "      <td>201310</td>\n",
       "      <td>2013</td>\n",
       "      <td>10</td>\n",
       "      <td>13</td>\n",
       "      <td>12</td>\n",
       "      <td>fall</td>\n",
       "    </tr>\n",
       "    <tr>\n",
       "      <th>2</th>\n",
       "      <td>A686464</td>\n",
       "      <td>Name</td>\n",
       "      <td>2015-01-31 12:28:00</td>\n",
       "      <td>Dog</td>\n",
       "      <td>Neutered Male</td>\n",
       "      <td>2 years</td>\n",
       "      <td>Pit Bull Mix</td>\n",
       "      <td>Blue/White</td>\n",
       "      <td>201501</td>\n",
       "      <td>2015</td>\n",
       "      <td>01</td>\n",
       "      <td>31</td>\n",
       "      <td>12</td>\n",
       "      <td>winter</td>\n",
       "    </tr>\n",
       "    <tr>\n",
       "      <th>3</th>\n",
       "      <td>A683430</td>\n",
       "      <td>No Name</td>\n",
       "      <td>2014-07-11 19:09:00</td>\n",
       "      <td>Cat</td>\n",
       "      <td>Intact Male</td>\n",
       "      <td>3 weeks</td>\n",
       "      <td>Domestic Shorthair Mix</td>\n",
       "      <td>Blue Cream</td>\n",
       "      <td>201407</td>\n",
       "      <td>2014</td>\n",
       "      <td>07</td>\n",
       "      <td>11</td>\n",
       "      <td>19</td>\n",
       "      <td>summer</td>\n",
       "    </tr>\n",
       "    <tr>\n",
       "      <th>4</th>\n",
       "      <td>A667013</td>\n",
       "      <td>No Name</td>\n",
       "      <td>2013-11-15 12:52:00</td>\n",
       "      <td>Dog</td>\n",
       "      <td>Neutered Male</td>\n",
       "      <td>2 years</td>\n",
       "      <td>Lhasa Apso/Miniature Poodle</td>\n",
       "      <td>Tan</td>\n",
       "      <td>201311</td>\n",
       "      <td>2013</td>\n",
       "      <td>11</td>\n",
       "      <td>15</td>\n",
       "      <td>12</td>\n",
       "      <td>fall</td>\n",
       "    </tr>\n",
       "  </tbody>\n",
       "</table>\n",
       "</div>"
      ],
      "text/plain": [
       "  AnimalID     Name             DateTime AnimalType SexuponOutcome  \\\n",
       "0  A671945     Name  2014-02-12 18:22:00        Dog  Neutered Male   \n",
       "1  A656520     Name  2013-10-13 12:44:00        Cat  Spayed Female   \n",
       "2  A686464     Name  2015-01-31 12:28:00        Dog  Neutered Male   \n",
       "3  A683430  No Name  2014-07-11 19:09:00        Cat    Intact Male   \n",
       "4  A667013  No Name  2013-11-15 12:52:00        Dog  Neutered Male   \n",
       "\n",
       "  AgeuponOutcome                        Breed        Color    Date  \\\n",
       "0         1 year        Shetland Sheepdog Mix  Brown/White  201402   \n",
       "1         1 year       Domestic Shorthair Mix  Cream Tabby  201310   \n",
       "2        2 years                 Pit Bull Mix   Blue/White  201501   \n",
       "3        3 weeks       Domestic Shorthair Mix   Blue Cream  201407   \n",
       "4        2 years  Lhasa Apso/Miniature Poodle          Tan  201311   \n",
       "\n",
       "  OutcomeYear OutcomeMonth OutcomeDay OutcomeHour OutcomeSeason  \n",
       "0        2014           02         12          18        winter  \n",
       "1        2013           10         13          12          fall  \n",
       "2        2015           01         31          12        winter  \n",
       "3        2014           07         11          19        summer  \n",
       "4        2013           11         15          12          fall  "
      ]
     },
     "execution_count": 17,
     "metadata": {},
     "output_type": "execute_result"
    }
   ],
   "source": [
    "#Data 확인\n",
    "data_combined.head()"
   ]
  },
  {
   "cell_type": "code",
   "execution_count": 18,
   "metadata": {},
   "outputs": [
    {
     "data": {
      "text/html": [
       "<div>\n",
       "<style>\n",
       "    .dataframe thead tr:only-child th {\n",
       "        text-align: right;\n",
       "    }\n",
       "\n",
       "    .dataframe thead th {\n",
       "        text-align: left;\n",
       "    }\n",
       "\n",
       "    .dataframe tbody tr th {\n",
       "        vertical-align: top;\n",
       "    }\n",
       "</style>\n",
       "<table border=\"1\" class=\"dataframe\">\n",
       "  <thead>\n",
       "    <tr style=\"text-align: right;\">\n",
       "      <th></th>\n",
       "      <th>AnimalID</th>\n",
       "      <th>Name</th>\n",
       "      <th>DateTime</th>\n",
       "      <th>AnimalType</th>\n",
       "      <th>SexuponOutcome</th>\n",
       "      <th>AgeuponOutcome</th>\n",
       "      <th>Breed</th>\n",
       "      <th>Color</th>\n",
       "      <th>Date</th>\n",
       "      <th>OutcomeYear</th>\n",
       "      <th>OutcomeMonth</th>\n",
       "      <th>OutcomeDay</th>\n",
       "      <th>OutcomeHour</th>\n",
       "      <th>OutcomeSeason</th>\n",
       "    </tr>\n",
       "  </thead>\n",
       "  <tbody>\n",
       "    <tr>\n",
       "      <th>11451</th>\n",
       "      <td>11452</td>\n",
       "      <td>No Name</td>\n",
       "      <td>2014-07-08 14:50</td>\n",
       "      <td>Cat</td>\n",
       "      <td>Neutered Male</td>\n",
       "      <td>2 months</td>\n",
       "      <td>Domestic Shorthair Mix</td>\n",
       "      <td>Black</td>\n",
       "      <td>201407</td>\n",
       "      <td>2014</td>\n",
       "      <td>07</td>\n",
       "      <td>08</td>\n",
       "      <td>14</td>\n",
       "      <td>summer</td>\n",
       "    </tr>\n",
       "    <tr>\n",
       "      <th>11452</th>\n",
       "      <td>11453</td>\n",
       "      <td>No Name</td>\n",
       "      <td>2014-10-21 12:57</td>\n",
       "      <td>Cat</td>\n",
       "      <td>Intact Female</td>\n",
       "      <td>2 weeks</td>\n",
       "      <td>Domestic Shorthair Mix</td>\n",
       "      <td>Blue</td>\n",
       "      <td>201410</td>\n",
       "      <td>2014</td>\n",
       "      <td>10</td>\n",
       "      <td>21</td>\n",
       "      <td>12</td>\n",
       "      <td>fall</td>\n",
       "    </tr>\n",
       "    <tr>\n",
       "      <th>11453</th>\n",
       "      <td>11454</td>\n",
       "      <td>No Name</td>\n",
       "      <td>2014-09-29 9:00</td>\n",
       "      <td>Cat</td>\n",
       "      <td>Intact Female</td>\n",
       "      <td>1 year</td>\n",
       "      <td>Domestic Shorthair Mix</td>\n",
       "      <td>Calico</td>\n",
       "      <td>201409</td>\n",
       "      <td>2014</td>\n",
       "      <td>09</td>\n",
       "      <td>29</td>\n",
       "      <td>9:</td>\n",
       "      <td>fall</td>\n",
       "    </tr>\n",
       "    <tr>\n",
       "      <th>11454</th>\n",
       "      <td>11455</td>\n",
       "      <td>Name</td>\n",
       "      <td>2015-09-05 17:16</td>\n",
       "      <td>Dog</td>\n",
       "      <td>Neutered Male</td>\n",
       "      <td>6 years</td>\n",
       "      <td>German Shepherd Mix</td>\n",
       "      <td>Black/Tan</td>\n",
       "      <td>201509</td>\n",
       "      <td>2015</td>\n",
       "      <td>09</td>\n",
       "      <td>05</td>\n",
       "      <td>17</td>\n",
       "      <td>fall</td>\n",
       "    </tr>\n",
       "    <tr>\n",
       "      <th>11455</th>\n",
       "      <td>11456</td>\n",
       "      <td>Name</td>\n",
       "      <td>2014-07-12 18:40</td>\n",
       "      <td>Dog</td>\n",
       "      <td>Intact Male</td>\n",
       "      <td>4 years</td>\n",
       "      <td>Labrador Retriever</td>\n",
       "      <td>Cream</td>\n",
       "      <td>201407</td>\n",
       "      <td>2014</td>\n",
       "      <td>07</td>\n",
       "      <td>12</td>\n",
       "      <td>18</td>\n",
       "      <td>summer</td>\n",
       "    </tr>\n",
       "  </tbody>\n",
       "</table>\n",
       "</div>"
      ],
      "text/plain": [
       "      AnimalID     Name          DateTime AnimalType SexuponOutcome  \\\n",
       "11451    11452  No Name  2014-07-08 14:50        Cat  Neutered Male   \n",
       "11452    11453  No Name  2014-10-21 12:57        Cat  Intact Female   \n",
       "11453    11454  No Name   2014-09-29 9:00        Cat  Intact Female   \n",
       "11454    11455     Name  2015-09-05 17:16        Dog  Neutered Male   \n",
       "11455    11456     Name  2014-07-12 18:40        Dog    Intact Male   \n",
       "\n",
       "      AgeuponOutcome                   Breed      Color    Date OutcomeYear  \\\n",
       "11451       2 months  Domestic Shorthair Mix      Black  201407        2014   \n",
       "11452        2 weeks  Domestic Shorthair Mix       Blue  201410        2014   \n",
       "11453         1 year  Domestic Shorthair Mix     Calico  201409        2014   \n",
       "11454        6 years     German Shepherd Mix  Black/Tan  201509        2015   \n",
       "11455        4 years      Labrador Retriever      Cream  201407        2014   \n",
       "\n",
       "      OutcomeMonth OutcomeDay OutcomeHour OutcomeSeason  \n",
       "11451           07         08          14        summer  \n",
       "11452           10         21          12          fall  \n",
       "11453           09         29          9:          fall  \n",
       "11454           09         05          17          fall  \n",
       "11455           07         12          18        summer  "
      ]
     },
     "execution_count": 18,
     "metadata": {},
     "output_type": "execute_result"
    }
   ],
   "source": [
    "#Data 확인\n",
    "data_combined.tail()"
   ]
  },
  {
   "cell_type": "markdown",
   "metadata": {},
   "source": [
    "### 3) 동물 Size및 선호도 Crawling \n",
    "\n",
    "개종을 Size로 변환. Breed의 Unique값 분석결과 1200종이 넘는것으로 확인됨. 이러한 data를 그래로 사용할 경우 Overfitting등의 문제가 있기 때문에 2가지 방법으로 접근할 예전\n",
    "  \n",
    "1) 순종 Breed에 관해서는 Size로 변환 -> 잡종일 경우 유전적 factor에 의해서 크기 예측이 쉽지 않음. 이 작업을 수작업으로 하기에는 너무 많은 시간이 소요가 되기 때문에 방법 탐색중 순종을 크기 별로 나눠놓은 웹사이트 발견 -> Crawling\n",
    "\n",
    "Mixed Breed Reference: http://www.vetstreet.com/our-pet-experts/can-you-predict-the-adult-size-of-a-mixed-breed-puppy\n",
    "\n",
    "Size Reference : http://www.dogbreedslist.info/herding-dog-breeds/#.WgfCyMZl-iN\n",
    "\n",
    "\n",
    "2) 다른 Kaggle 참가자에 따르면 애완견의 선호도 랭킹또한 예측 모델에 큰 영향을 준다는 정보 입수\n",
    "\n",
    "Ranking Reference: https://nishadikirielle.wordpress.com/2016/10/08/kaggle-competition-shelter-animal-problem-xgboost-approach/\n",
    "\n",
    "개는 2016년 기준으로 랭킹이 매겨져 있으며 고양이는 2014년 기준으로 랭킹이 존재함. 위 첨부자료에서는 2013, 2014, 2015년별 랭킹변화를 모두 인자로 채택했지만, 자세히 보면 랭킹에 큰 변동이 없는것으로 확인되었기 때문에 굳이 매년 선호도 점수를 쓸 필요성은 없는것으로 판단됨."
   ]
  },
  {
   "cell_type": "code",
   "execution_count": 19,
   "metadata": {
    "collapsed": true
   },
   "outputs": [],
   "source": [
    "def crawler(url, selector):\n",
    "    '''This is one of the two functions used for crawlign cat/dog size'''\n",
    "    res = requests.get(url)\n",
    "    soup = BeautifulSoup(res.content, 'html.parser')\n",
    "    crawl_list = soup.select(selector)\n",
    "    compile_list = []\n",
    "    for breed in crawl_list:\n",
    "        compile_list.append(breed.get_text().lower())\n",
    "    return compile_list\n",
    "\n",
    "def crawl_compiler(url_list, selector):\n",
    "    '''This is the second functions used for crawlign cat/dog size'''\n",
    "    list_compile = []\n",
    "    for url in url_list:\n",
    "        crawler_list = crawler(url, selector)\n",
    "        list_compile += crawler_list\n",
    "    return list_compile"
   ]
  },
  {
   "cell_type": "code",
   "execution_count": 20,
   "metadata": {
    "collapsed": true
   },
   "outputs": [],
   "source": [
    "'''This section is for crawling the dog size list'''\n",
    "\n",
    "'''Extract list of dogs for different sizes'''\n",
    "small_url_list = ['http://www.dogbreedslist.info/small-dog-breeds/list_2_1.html#.Wfx1Mmi0NPY', \n",
    "                'http://www.dogbreedslist.info/small-dog-breeds/list_2_2.html#.Wfx1Mmi0NPY', \n",
    "                'http://www.dogbreedslist.info/small-dog-breeds/list_2_3.html#.Wfx1Mmi0NPY', \n",
    "                'http://www.dogbreedslist.info/small-dog-breeds/list_2_4.html#.Wfx1Mmi0NPY', \n",
    "                'http://www.dogbreedslist.info/small-dog-breeds/list_2_5.html#.Wfx1Mmi0NPY',\n",
    "                'http://www.dogbreedslist.info/small-dog-breeds/list_2_6.html#.Wfx1Mmi0NPY']\n",
    "\n",
    "selector = 'body > div.main > div.main-r > div > div.list-01 > div.right > div.right-t > p > a'\n",
    "small_dog_compile = crawl_compiler(small_url_list, selector)\n",
    "\n",
    "medium_url_list = ['http://www.dogbreedslist.info/medium-dog-breeds/list_3_1.html#.Wfx3bmi0NPY',\n",
    "                   'http://www.dogbreedslist.info/medium-dog-breeds/list_3_2.html#.Wfx3bmi0NPY',\n",
    "                   'http://www.dogbreedslist.info/medium-dog-breeds/list_3_3.html#.Wfx3bmi0NPY', \n",
    "                   'http://www.dogbreedslist.info/medium-dog-breeds/list_3_4.html#.Wfx3bmi0NPY',\n",
    "                   'http://www.dogbreedslist.info/medium-dog-breeds/list_3_5.html#.Wfx3bmi0NPY',\n",
    "                   'http://www.dogbreedslist.info/medium-dog-breeds/list_3_6.html#.Wfx3bmi0NPY']\n",
    "\n",
    "selector = 'body > div.main > div.main-r > div > div.list-01 > div.right > div.right-t > p > a'\n",
    "medium_dog_compile = crawl_compiler(medium_url_list, selector) + ['treeing cur', 'treeing tennesse brindle']\n",
    "\n",
    "large_url_list = ['http://www.dogbreedslist.info/large-dog-breeds/list_4_1.html#.Wfx9nWi0NPY',\n",
    "                   'http://www.dogbreedslist.info/large-dog-breeds/list_4_2.html#.Wfx9nWi0NPY',\n",
    "                   'http://www.dogbreedslist.info/large-dog-breeds/list_4_3.html#.Wfx9nWi0NPY', \n",
    "                   'http://www.dogbreedslist.info/large-dog-breeds/list_4_4.html#.Wfx9nWi0NPY',\n",
    "                   'http://www.dogbreedslist.info/large-dog-breeds/list_4_5.html#.Wfx9nWi0NPY',\n",
    "                   'http://www.dogbreedslist.info/large-dog-breeds/list_4_6.html#.Wfx9nWi0NPY']\n",
    "\n",
    "selector = 'body > div.main > div.main-r > div > div.list-01 > div.right > div.right-t > p > a'\n",
    "large_dog_compile = crawl_compiler(large_url_list, selector) + ['schnauzer giant', 'olde english bulldogge']\n",
    "\n",
    "giant_url_list = ['http://www.dogbreedslist.info/giant-dog-breeds/list_5_1.html#.Wfx9nWi0NPY',]\n",
    "\n",
    "selector = 'body > div.main > div.main-r > div > div.list-01 > div.right > div.right-t > p > a'\n",
    "giant_dog_compile = crawl_compiler(giant_url_list, selector)"
   ]
  },
  {
   "cell_type": "code",
   "execution_count": 21,
   "metadata": {},
   "outputs": [
    {
     "name": "stdout",
     "output_type": "stream",
     "text": [
      "['labrador retriever', 'bulldog', 'poodle', 'boxer', 'siberian husky', 'australian shepherd', 'brittany', 'english springer spaniel', 'american cocker spaniel', 'vizsla', 'weimaraner', 'miniature american shepherd', 'border collie', 'basset hound', 'shiba inu', 'belgian malinois', 'soft coated wheaten terrier', 'portuguese water dog', 'australian cattle dog', 'airedale terrier', 'english cocker spaniel', 'bull terrier', 'whippet', 'shar-pei', 'german wirehaired pointer', 'samoyed', 'wirehaired pointing griffon', 'chow chow', 'american staffordshire terrier', 'staffordshire bull terrier', 'standard schnauzer', 'nova scotia duck tolling retriever', 'basenji', 'tibetan terrier', 'norwegian elkhound', 'wire fox terrier', 'belgian tervuren', 'boykin spaniel', 'lagotto romagnolo', 'pointer', 'american eskimo dog', 'welsh springer spaniel', 'bearded collie', 'kerry blue terrier', 'treeing walker coonhound', 'berger picard', 'redbone coonhound', 'clumber spaniel', 'german pinscher', 'field spaniel', 'irish water spaniel', 'icelandic sheepdog', 'american water spaniel', 'wirehaired vizsla', 'plott hound', 'puli', 'portuguese podengo pequeno', 'entlebucher mountain dog', 'spanish water dog', 'pharaoh hound', 'polish lowland sheepdog', 'american english coonhound', 'finnish lapphund', 'norwegian buhund', 'pyrenean shepherd', 'finnish spitz', 'canaan dog', 'cirneco dell’etna', 'harrier', 'english foxhound', 'africanis', 'aidi', 'alaskan klee kai', 'american pit bull terrier', 'american white shepherd', 'appenzeller sennenhund', 'ariegeois', 'australian bulldog', 'australian kelpie', 'australian stumpy tail cattle dog', 'austrian black and tan hound', 'austrian pinscher', 'barbet', 'bavarian mountain hound', 'belgian shepherd laekenois', 'black mouth cur', 'black norwegian elkhound', 'blue lacy', 'bohemian shepherd', 'bouvier des ardennes', 'braque du bourbonnais', 'briquet griffon vendeen', 'cão da serra de aires', 'carolina dog', 'catahoula bulldog', 'catahoula leopard dog', 'catalan sheepdog', 'cesky fousek', 'croatian sheepdog', 'deutsche bracke', 'dingo', 'drentse patrijshond', 'dunker', 'english shepherd', 'eurasier', 'fila brasileiro', 'finnish hound', 'french spaniel', 'polish hunting dog', 'grand basset griffon vendeen', 'griffon bleu de gascogne', 'hamilton hound', 'hokkaido dog', 'hovawart', 'jämthund', 'korean jindo', 'karelian bear dog', 'kishu ken', 'kooikerhondje', 'koolie', 'treeing cur', 'treeing tennesse brindle']\n"
     ]
    }
   ],
   "source": [
    "print(medium_dog_compile)"
   ]
  },
  {
   "cell_type": "code",
   "execution_count": 22,
   "metadata": {
    "collapsed": true
   },
   "outputs": [],
   "source": [
    "'''This portion is for crawling the favorite ranking of dogs'''\n",
    "\n",
    "ranking_url_list = []\n",
    "for i in range(1, 11):\n",
    "    url = 'http://www.dogbreedslist.info/all-dog-breeds/list_1_' + str(i) + '.html#.WhE_9kpl-iM'\n",
    "    ranking_url_list.append(url)\n",
    "    \n",
    "selector_breed = 'body > div.main > div.main-r > div > div.list-01 > div.right > div.right-t > p > a'\n",
    "selector_rank = 'body > div.main > div.main-r > div > div.list-02 > p'\n",
    "\n",
    "breed_compile_dog = crawl_compiler(ranking_url_list, selector_breed)\n",
    "rank_compile_dog = crawl_compiler(ranking_url_list, selector_rank)"
   ]
  },
  {
   "cell_type": "code",
   "execution_count": 23,
   "metadata": {
    "collapsed": true
   },
   "outputs": [],
   "source": [
    "breed_compile_dog = breed_compile_dog[:188]\n",
    "rank_compile_dog = rank_compile_dog[:188]"
   ]
  },
  {
   "cell_type": "code",
   "execution_count": 24,
   "metadata": {},
   "outputs": [
    {
     "name": "stdout",
     "output_type": "stream",
     "text": [
      "188\n",
      "['labrador retriever', 'german shepherd', 'golden retriever', 'bulldog', 'beagle', 'french bulldog', 'poodle', 'rottweiler', 'yorkshire terrier', 'boxer', 'german shorthaired pointer', 'siberian husky', 'dachshund', 'great dane', 'doberman pinscher', 'australian shepherd', 'miniature schnauzer', 'pembroke welsh corgi', 'cavalier king charles spaniel', 'shih tzu', 'boston terrier', 'pomeranian', 'havanese', 'shetland sheepdog', 'brittany', 'english springer spaniel', 'bernese mountain dog', 'mastiff', 'american cocker spaniel', 'chihuahua', 'vizsla', 'pug', 'maltese', 'weimaraner', 'newfoundland', 'miniature american shepherd', 'collie', 'border collie', 'basset hound', 'cane corso', 'west highland white terrier', 'rhodesian ridgeback', 'chesapeake bay retriever', 'shiba inu', 'bichon frise', 'akita', 'belgian malinois', 'bullmastiff', 'st. bernard', 'soft coated wheaten terrier', 'portuguese water dog', 'bloodhound', 'papillon', 'australian cattle dog', 'airedale terrier', 'english cocker spaniel', 'bull terrier', 'scottish terrier', 'alaskan malamute', 'whippet', 'shar-pei', 'dogue de bordeaux', 'german wirehaired pointer', 'samoyed', 'dalmatian', 'wirehaired pointing griffon', 'great pyrenees', 'miniature pinscher', 'cardigan welsh corgi', 'cairn terrier', 'lhasa apso', 'italian greyhound', 'irish wolfhound', 'chow chow', 'old english sheepdog', 'irish setter', 'chinese crested', 'greater swiss mountain dog', 'giant schnauzer', 'coton de tulear', 'american staffordshire terrier', 'staffordshire bull terrier', 'bouvier des flandres', 'anatolian shepherd dog', 'standard schnauzer', 'border terrier', 'nova scotia duck tolling retriever', 'basenji', 'flat-coated retriever', 'jack russell terrier', 'tibetan terrier', 'keeshond', 'pekingese', 'norwegian elkhound', 'leonberger', 'rat terrier', 'brussels griffon', 'borzoi', 'neapolitan mastiff', 'silky terrier', 'wire fox terrier', 'english setter', 'norwich terrier', 'gordon setter', 'spinone italiano', 'american hairless terrier', 'belgian tervuren', 'japanese chin', 'parson russell terrier', 'boykin spaniel', 'welsh terrier', 'schipperke', 'afghan hound', 'lagotto romagnolo', 'irish terrier', 'toy fox terrier', 'pointer', 'tibetan spaniel', 'black russian terrier', 'miniature bull terrier', 'bluetick coonhound', 'american eskimo dog', 'welsh springer spaniel', 'smooth fox terrier', 'saluki', 'bearded collie', 'kerry blue terrier', 'black and tan coonhound', 'belgian sheepdog', 'english toy spaniel', 'boerboel', 'briard', 'manchester terrier', 'norfolk terrier', 'tibetan mastiff', 'australian terrier', 'treeing walker coonhound', 'bedlington terrier', 'xoloitzcuintli', 'beauceron', 'berger picard', 'irish red and white setter', 'redbone coonhound', 'clumber spaniel', 'lakeland terrier', 'german pinscher', 'field spaniel', 'petit basset griffon vendeen', 'affenpinscher', 'irish water spaniel', 'greyhound', 'ibizan hound', 'icelandic sheepdog', 'scottish deerhound', 'sealyham terrier', 'american water spaniel', 'wirehaired vizsla', 'plott hound', 'puli', 'portuguese podengo pequeno', 'entlebucher mountain dog', 'spanish water dog', 'swedish vallhund', 'curly-coated retriever', 'kuvasz', 'otterhound', 'dandie dinmont terrier', 'pharaoh hound', 'polish lowland sheepdog', 'american english coonhound', 'lowchen', 'sussex spaniel', 'finnish lapphund', 'norwegian buhund', 'chinook', 'pyrenean shepherd', 'komondor', 'skye terrier', 'finnish spitz', 'glen of imaal terrier', 'canaan dog', 'cesky terrier', 'cirneco dell’etna', 'bergamasco', 'harrier', 'english foxhound', 'norwegian lundehund', 'american foxhound']\n"
     ]
    }
   ],
   "source": [
    "print(len(breed_compile_dog))\n",
    "print(breed_compile_dog)"
   ]
  },
  {
   "cell_type": "code",
   "execution_count": 25,
   "metadata": {},
   "outputs": [
    {
     "name": "stdout",
     "output_type": "stream",
     "text": [
      "188\n",
      "['1', '2', '3', '4', '5', '6', '7', '8', '9', '10', '11', '12', '13', '14', '15', '16', '17', '18', '19', '20', '21', '22', '23', '24', '25', '26', '27', '28', '29', '30', '31', '32', '33', '34', '35', '36', '37', '38', '39', '40', '41', '42', '43', '44', '45', '46', '47', '48', '49', '50', '51', '52', '53', '54', '55', '56', '57', '58', '59', '60', '61', '63', '64', '65', '66', '66', '67', '68', '69', '70', '71', '72', '73', '74', '75', '76', '77', '78', '79', '80', '81', '82', '83', '84', '85', '86', '87', '88', '89', '90', '91', '92', '93', '94', '95', '96', '97', '98', '99', '100', '101', '102', '103', '104', '105', '106', '107', '108', '109', '110', '111', '112', '113', '114', '115', '116', '117', '118', '119', '120', '121', '122', '123', '124', '125', '126', '127', '128', '129', '130', '131', '132', '133', '134', '135', '136', '137', '138', '139', '140', '141', '142', '143', '144', '145', '146', '147', '148', '149', '150', '151', '152', '153', '154', '155', '156', '157', '158', '159', '160', '161', '162', '163', '164', '165', '166', '167', '168', '169', '170', '171', '172', '173', '174', '175', '176', '177', '178', '179', '180', '181', '182', '183', '184', '186', '187', '188', '189']\n"
     ]
    }
   ],
   "source": [
    "print(len(rank_compile_dog))\n",
    "print(rank_compile_dog)"
   ]
  },
  {
   "cell_type": "code",
   "execution_count": 26,
   "metadata": {},
   "outputs": [
    {
     "data": {
      "text/plain": [
       "[1,\n",
       " 2,\n",
       " 3,\n",
       " 4,\n",
       " 5,\n",
       " 6,\n",
       " 7,\n",
       " 8,\n",
       " 9,\n",
       " 10,\n",
       " 11,\n",
       " 12,\n",
       " 13,\n",
       " 14,\n",
       " 15,\n",
       " 16,\n",
       " 17,\n",
       " 18,\n",
       " 19,\n",
       " 20,\n",
       " 21,\n",
       " 22,\n",
       " 23,\n",
       " 24,\n",
       " 25,\n",
       " 26,\n",
       " 27,\n",
       " 28,\n",
       " 29,\n",
       " 30,\n",
       " 31,\n",
       " 32,\n",
       " 33,\n",
       " 34,\n",
       " 35,\n",
       " 36,\n",
       " 37,\n",
       " 38,\n",
       " 39,\n",
       " 40,\n",
       " 41,\n",
       " 42,\n",
       " 43,\n",
       " 44,\n",
       " 45,\n",
       " 46,\n",
       " 47,\n",
       " 48,\n",
       " 49,\n",
       " 50,\n",
       " 51,\n",
       " 52,\n",
       " 53,\n",
       " 54,\n",
       " 55,\n",
       " 56,\n",
       " 57,\n",
       " 58,\n",
       " 59,\n",
       " 60,\n",
       " 61,\n",
       " 63,\n",
       " 64,\n",
       " 65,\n",
       " 66,\n",
       " 66,\n",
       " 67,\n",
       " 68,\n",
       " 69,\n",
       " 70,\n",
       " 71,\n",
       " 72,\n",
       " 73,\n",
       " 74,\n",
       " 75,\n",
       " 76,\n",
       " 77,\n",
       " 78,\n",
       " 79,\n",
       " 80,\n",
       " 81,\n",
       " 82,\n",
       " 83,\n",
       " 84,\n",
       " 85,\n",
       " 86,\n",
       " 87,\n",
       " 88,\n",
       " 89,\n",
       " 90,\n",
       " 91,\n",
       " 92,\n",
       " 93,\n",
       " 94,\n",
       " 95,\n",
       " 96,\n",
       " 97,\n",
       " 98,\n",
       " 99,\n",
       " 100,\n",
       " 101,\n",
       " 102,\n",
       " 103,\n",
       " 104,\n",
       " 105,\n",
       " 106,\n",
       " 107,\n",
       " 108,\n",
       " 109,\n",
       " 110,\n",
       " 111,\n",
       " 112,\n",
       " 113,\n",
       " 114,\n",
       " 115,\n",
       " 116,\n",
       " 117,\n",
       " 118,\n",
       " 119,\n",
       " 120,\n",
       " 121,\n",
       " 122,\n",
       " 123,\n",
       " 124,\n",
       " 125,\n",
       " 126,\n",
       " 127,\n",
       " 128,\n",
       " 129,\n",
       " 130,\n",
       " 131,\n",
       " 132,\n",
       " 133,\n",
       " 134,\n",
       " 135,\n",
       " 136,\n",
       " 137,\n",
       " 138,\n",
       " 139,\n",
       " 140,\n",
       " 141,\n",
       " 142,\n",
       " 143,\n",
       " 144,\n",
       " 145,\n",
       " 146,\n",
       " 147,\n",
       " 148,\n",
       " 149,\n",
       " 150,\n",
       " 151,\n",
       " 152,\n",
       " 153,\n",
       " 154,\n",
       " 155,\n",
       " 156,\n",
       " 157,\n",
       " 158,\n",
       " 159,\n",
       " 160,\n",
       " 161,\n",
       " 162,\n",
       " 163,\n",
       " 164,\n",
       " 165,\n",
       " 166,\n",
       " 167,\n",
       " 168,\n",
       " 169,\n",
       " 170,\n",
       " 171,\n",
       " 172,\n",
       " 173,\n",
       " 174,\n",
       " 175,\n",
       " 176,\n",
       " 177,\n",
       " 178,\n",
       " 179,\n",
       " 180,\n",
       " 181,\n",
       " 182,\n",
       " 183,\n",
       " 184,\n",
       " 186,\n",
       " 187,\n",
       " 188,\n",
       " 189]"
      ]
     },
     "execution_count": 26,
     "metadata": {},
     "output_type": "execute_result"
    }
   ],
   "source": [
    "rank_compile_dog_numeric = []\n",
    "for item in rank_compile_dog:\n",
    "    rank_compile_dog_numeric.append(int(item))\n",
    "rank_compile_dog_numeric"
   ]
  },
  {
   "cell_type": "code",
   "execution_count": 27,
   "metadata": {},
   "outputs": [
    {
     "name": "stdout",
     "output_type": "stream",
     "text": [
      "{'labrador retriever': 1, 'german shepherd': 2, 'golden retriever': 3, 'bulldog': 4, 'beagle': 5, 'french bulldog': 6, 'poodle': 7, 'rottweiler': 8, 'yorkshire terrier': 9, 'boxer': 10, 'german shorthaired pointer': 11, 'siberian husky': 12, 'dachshund': 13, 'great dane': 14, 'doberman pinscher': 15, 'australian shepherd': 16, 'miniature schnauzer': 17, 'pembroke welsh corgi': 18, 'cavalier king charles spaniel': 19, 'shih tzu': 20, 'boston terrier': 21, 'pomeranian': 22, 'havanese': 23, 'shetland sheepdog': 24, 'brittany': 25, 'english springer spaniel': 26, 'bernese mountain dog': 27, 'mastiff': 28, 'american cocker spaniel': 29, 'chihuahua': 30, 'vizsla': 31, 'pug': 32, 'maltese': 33, 'weimaraner': 34, 'newfoundland': 35, 'miniature american shepherd': 36, 'collie': 37, 'border collie': 38, 'basset hound': 39, 'cane corso': 40, 'west highland white terrier': 41, 'rhodesian ridgeback': 42, 'chesapeake bay retriever': 43, 'shiba inu': 44, 'bichon frise': 45, 'akita': 46, 'belgian malinois': 47, 'bullmastiff': 48, 'st. bernard': 49, 'soft coated wheaten terrier': 50, 'portuguese water dog': 51, 'bloodhound': 52, 'papillon': 53, 'australian cattle dog': 54, 'airedale terrier': 55, 'english cocker spaniel': 56, 'bull terrier': 57, 'scottish terrier': 58, 'alaskan malamute': 59, 'whippet': 60, 'shar-pei': 61, 'dogue de bordeaux': 63, 'german wirehaired pointer': 64, 'samoyed': 65, 'dalmatian': 66, 'wirehaired pointing griffon': 66, 'great pyrenees': 67, 'miniature pinscher': 68, 'cardigan welsh corgi': 69, 'cairn terrier': 70, 'lhasa apso': 71, 'italian greyhound': 72, 'irish wolfhound': 73, 'chow chow': 74, 'old english sheepdog': 75, 'irish setter': 76, 'chinese crested': 77, 'greater swiss mountain dog': 78, 'giant schnauzer': 79, 'coton de tulear': 80, 'american staffordshire terrier': 81, 'staffordshire bull terrier': 82, 'bouvier des flandres': 83, 'anatolian shepherd dog': 84, 'standard schnauzer': 85, 'border terrier': 86, 'nova scotia duck tolling retriever': 87, 'basenji': 88, 'flat-coated retriever': 89, 'jack russell terrier': 90, 'tibetan terrier': 91, 'keeshond': 92, 'pekingese': 93, 'norwegian elkhound': 94, 'leonberger': 95, 'rat terrier': 96, 'brussels griffon': 97, 'borzoi': 98, 'neapolitan mastiff': 99, 'silky terrier': 100, 'wire fox terrier': 101, 'english setter': 102, 'norwich terrier': 103, 'gordon setter': 104, 'spinone italiano': 105, 'american hairless terrier': 106, 'belgian tervuren': 107, 'japanese chin': 108, 'parson russell terrier': 109, 'boykin spaniel': 110, 'welsh terrier': 111, 'schipperke': 112, 'afghan hound': 113, 'lagotto romagnolo': 114, 'irish terrier': 115, 'toy fox terrier': 116, 'pointer': 117, 'tibetan spaniel': 118, 'black russian terrier': 119, 'miniature bull terrier': 120, 'bluetick coonhound': 121, 'american eskimo dog': 122, 'welsh springer spaniel': 123, 'smooth fox terrier': 124, 'saluki': 125, 'bearded collie': 126, 'kerry blue terrier': 127, 'black and tan coonhound': 128, 'belgian sheepdog': 129, 'english toy spaniel': 130, 'boerboel': 131, 'briard': 132, 'manchester terrier': 133, 'norfolk terrier': 134, 'tibetan mastiff': 135, 'australian terrier': 136, 'treeing walker coonhound': 137, 'bedlington terrier': 138, 'xoloitzcuintli': 139, 'beauceron': 140, 'berger picard': 141, 'irish red and white setter': 142, 'redbone coonhound': 143, 'clumber spaniel': 144, 'lakeland terrier': 145, 'german pinscher': 146, 'field spaniel': 147, 'petit basset griffon vendeen': 148, 'affenpinscher': 149, 'irish water spaniel': 150, 'greyhound': 151, 'ibizan hound': 152, 'icelandic sheepdog': 153, 'scottish deerhound': 154, 'sealyham terrier': 155, 'american water spaniel': 156, 'wirehaired vizsla': 157, 'plott hound': 158, 'puli': 159, 'portuguese podengo pequeno': 160, 'entlebucher mountain dog': 161, 'spanish water dog': 162, 'swedish vallhund': 163, 'curly-coated retriever': 164, 'kuvasz': 165, 'otterhound': 166, 'dandie dinmont terrier': 167, 'pharaoh hound': 168, 'polish lowland sheepdog': 169, 'american english coonhound': 170, 'lowchen': 171, 'sussex spaniel': 172, 'finnish lapphund': 173, 'norwegian buhund': 174, 'chinook': 175, 'pyrenean shepherd': 176, 'komondor': 177, 'skye terrier': 178, 'finnish spitz': 179, 'glen of imaal terrier': 180, 'canaan dog': 181, 'cesky terrier': 182, 'cirneco dell’etna': 183, 'bergamasco': 184, 'harrier': 186, 'english foxhound': 187, 'norwegian lundehund': 188, 'american foxhound': 189}\n"
     ]
    }
   ],
   "source": [
    "rank_dict_dog = {}\n",
    "for breed, rank in zip(breed_compile_dog, rank_compile_dog_numeric):\n",
    "    rank_dict_dog[breed] = rank\n",
    "print(rank_dict_dog)"
   ]
  },
  {
   "cell_type": "code",
   "execution_count": 28,
   "metadata": {
    "collapsed": true
   },
   "outputs": [],
   "source": [
    "'''This portion is for crawling the 2014 ranking of cats'''\n",
    "\n",
    "ranking_url_list_cat = []\n",
    "for i in range(1, 4):\n",
    "    url = 'http://www.catbreedslist.com/all-cat-breeds/list_1_' + str(i) + '.html#.WhGa1Upl-iM'\n",
    "    ranking_url_list_cat.append(url)\n",
    "    \n",
    "selector_breed_cat = 'body > div.main > div.main-r > div > div.list-01 > div.right > div.right-t > p > a'\n",
    "selector_rank_cat = 'body > div.main > div.main-r > div > div.list-01 > div.right > div.right-c > div.pop > p'\n",
    "\n",
    "breed_compile_cat = crawl_compiler(ranking_url_list_cat, selector_breed_cat)\n",
    "rank_compile_cat = crawl_compiler(ranking_url_list_cat, selector_rank_cat)"
   ]
  },
  {
   "cell_type": "code",
   "execution_count": 29,
   "metadata": {
    "collapsed": true
   },
   "outputs": [],
   "source": [
    "breed_compile_cat = breed_compile_cat[:41]\n",
    "rank_compile_cat = rank_compile_cat[:41]"
   ]
  },
  {
   "cell_type": "code",
   "execution_count": 30,
   "metadata": {},
   "outputs": [
    {
     "name": "stdout",
     "output_type": "stream",
     "text": [
      "41\n",
      "['exotic shorthair', 'persian', 'maine coon', 'ragdoll', 'british shorthair', 'american shorthair', 'abyssinian', 'sphynx', 'siamese', 'scottish fold', 'cornish rex', 'devon rex', 'oriental', 'norwegian forest cat', 'birman', 'burmese', 'siberian', 'tonkinese', 'russian blue', 'egyptian mau', 'ocicat', 'singapura', 'manx', 'japanese bobtail', 'selkirk rex', 'american curl', 'chartreux', 'somali', 'turkish angora', 'colorpoint shorthair', 'balinese', 'ragamuffin', 'european burmese', 'bombay', 'havana brown', 'american bobtail', 'turkish van', 'burmilla', 'laperm', 'korat', 'american wirehair']\n"
     ]
    }
   ],
   "source": [
    "print(len(breed_compile_cat))\n",
    "print(breed_compile_cat)"
   ]
  },
  {
   "cell_type": "code",
   "execution_count": 31,
   "metadata": {},
   "outputs": [
    {
     "name": "stdout",
     "output_type": "stream",
     "text": [
      "41\n",
      "['1', '2', '3', '4', '5', '6', '7', '8', '9', '10', '11', '12', '13', '14', '15', '16', '17', '18', '19', '20', '21', '22', '23', '24', '25', '26', '27', '28', '29', '30', '31', '32', '33', '34', '35', '36', '37', '38', '39', '40', '41']\n"
     ]
    }
   ],
   "source": [
    "print(len(rank_compile_cat))\n",
    "print(rank_compile_cat)"
   ]
  },
  {
   "cell_type": "code",
   "execution_count": 32,
   "metadata": {},
   "outputs": [
    {
     "name": "stdout",
     "output_type": "stream",
     "text": [
      "{'exotic shorthair': '1', 'persian': '2', 'maine coon': '3', 'ragdoll': '4', 'british shorthair': '5', 'american shorthair': '6', 'abyssinian': '7', 'sphynx': '8', 'siamese': '9', 'scottish fold': '10', 'cornish rex': '11', 'devon rex': '12', 'oriental': '13', 'norwegian forest cat': '14', 'birman': '15', 'burmese': '16', 'siberian': '17', 'tonkinese': '18', 'russian blue': '19', 'egyptian mau': '20', 'ocicat': '21', 'singapura': '22', 'manx': '23', 'japanese bobtail': '24', 'selkirk rex': '25', 'american curl': '26', 'chartreux': '27', 'somali': '28', 'turkish angora': '29', 'colorpoint shorthair': '30', 'balinese': '31', 'ragamuffin': '32', 'european burmese': '33', 'bombay': '34', 'havana brown': '35', 'american bobtail': '36', 'turkish van': '37', 'burmilla': '38', 'laperm': '39', 'korat': '40', 'american wirehair': '41'}\n"
     ]
    }
   ],
   "source": [
    "rank_dict_cat = {}\n",
    "for breed, rank in zip(breed_compile_cat, rank_compile_cat):\n",
    "    rank_dict_cat[breed] = rank\n",
    "print(rank_dict_cat)"
   ]
  },
  {
   "cell_type": "markdown",
   "metadata": {},
   "source": [
    "### 6) 필요없는 feature 제거"
   ]
  },
  {
   "cell_type": "code",
   "execution_count": 33,
   "metadata": {
    "collapsed": true
   },
   "outputs": [],
   "source": [
    "data_combined.drop('DateTime', axis = 1, inplace = True)"
   ]
  },
  {
   "cell_type": "code",
   "execution_count": 34,
   "metadata": {},
   "outputs": [
    {
     "data": {
      "text/html": [
       "<div>\n",
       "<style>\n",
       "    .dataframe thead tr:only-child th {\n",
       "        text-align: right;\n",
       "    }\n",
       "\n",
       "    .dataframe thead th {\n",
       "        text-align: left;\n",
       "    }\n",
       "\n",
       "    .dataframe tbody tr th {\n",
       "        vertical-align: top;\n",
       "    }\n",
       "</style>\n",
       "<table border=\"1\" class=\"dataframe\">\n",
       "  <thead>\n",
       "    <tr style=\"text-align: right;\">\n",
       "      <th></th>\n",
       "      <th>AnimalID</th>\n",
       "      <th>Name</th>\n",
       "      <th>AnimalType</th>\n",
       "      <th>SexuponOutcome</th>\n",
       "      <th>AgeuponOutcome</th>\n",
       "      <th>Breed</th>\n",
       "      <th>Color</th>\n",
       "      <th>Date</th>\n",
       "      <th>OutcomeYear</th>\n",
       "      <th>OutcomeMonth</th>\n",
       "      <th>OutcomeDay</th>\n",
       "      <th>OutcomeHour</th>\n",
       "      <th>OutcomeSeason</th>\n",
       "    </tr>\n",
       "  </thead>\n",
       "  <tbody>\n",
       "    <tr>\n",
       "      <th>11451</th>\n",
       "      <td>11452</td>\n",
       "      <td>No Name</td>\n",
       "      <td>Cat</td>\n",
       "      <td>Neutered Male</td>\n",
       "      <td>2 months</td>\n",
       "      <td>Domestic Shorthair Mix</td>\n",
       "      <td>Black</td>\n",
       "      <td>201407</td>\n",
       "      <td>2014</td>\n",
       "      <td>07</td>\n",
       "      <td>08</td>\n",
       "      <td>14</td>\n",
       "      <td>summer</td>\n",
       "    </tr>\n",
       "    <tr>\n",
       "      <th>11452</th>\n",
       "      <td>11453</td>\n",
       "      <td>No Name</td>\n",
       "      <td>Cat</td>\n",
       "      <td>Intact Female</td>\n",
       "      <td>2 weeks</td>\n",
       "      <td>Domestic Shorthair Mix</td>\n",
       "      <td>Blue</td>\n",
       "      <td>201410</td>\n",
       "      <td>2014</td>\n",
       "      <td>10</td>\n",
       "      <td>21</td>\n",
       "      <td>12</td>\n",
       "      <td>fall</td>\n",
       "    </tr>\n",
       "    <tr>\n",
       "      <th>11453</th>\n",
       "      <td>11454</td>\n",
       "      <td>No Name</td>\n",
       "      <td>Cat</td>\n",
       "      <td>Intact Female</td>\n",
       "      <td>1 year</td>\n",
       "      <td>Domestic Shorthair Mix</td>\n",
       "      <td>Calico</td>\n",
       "      <td>201409</td>\n",
       "      <td>2014</td>\n",
       "      <td>09</td>\n",
       "      <td>29</td>\n",
       "      <td>9:</td>\n",
       "      <td>fall</td>\n",
       "    </tr>\n",
       "    <tr>\n",
       "      <th>11454</th>\n",
       "      <td>11455</td>\n",
       "      <td>Name</td>\n",
       "      <td>Dog</td>\n",
       "      <td>Neutered Male</td>\n",
       "      <td>6 years</td>\n",
       "      <td>German Shepherd Mix</td>\n",
       "      <td>Black/Tan</td>\n",
       "      <td>201509</td>\n",
       "      <td>2015</td>\n",
       "      <td>09</td>\n",
       "      <td>05</td>\n",
       "      <td>17</td>\n",
       "      <td>fall</td>\n",
       "    </tr>\n",
       "    <tr>\n",
       "      <th>11455</th>\n",
       "      <td>11456</td>\n",
       "      <td>Name</td>\n",
       "      <td>Dog</td>\n",
       "      <td>Intact Male</td>\n",
       "      <td>4 years</td>\n",
       "      <td>Labrador Retriever</td>\n",
       "      <td>Cream</td>\n",
       "      <td>201407</td>\n",
       "      <td>2014</td>\n",
       "      <td>07</td>\n",
       "      <td>12</td>\n",
       "      <td>18</td>\n",
       "      <td>summer</td>\n",
       "    </tr>\n",
       "  </tbody>\n",
       "</table>\n",
       "</div>"
      ],
      "text/plain": [
       "      AnimalID     Name AnimalType SexuponOutcome AgeuponOutcome  \\\n",
       "11451    11452  No Name        Cat  Neutered Male       2 months   \n",
       "11452    11453  No Name        Cat  Intact Female        2 weeks   \n",
       "11453    11454  No Name        Cat  Intact Female         1 year   \n",
       "11454    11455     Name        Dog  Neutered Male        6 years   \n",
       "11455    11456     Name        Dog    Intact Male        4 years   \n",
       "\n",
       "                        Breed      Color    Date OutcomeYear OutcomeMonth  \\\n",
       "11451  Domestic Shorthair Mix      Black  201407        2014           07   \n",
       "11452  Domestic Shorthair Mix       Blue  201410        2014           10   \n",
       "11453  Domestic Shorthair Mix     Calico  201409        2014           09   \n",
       "11454     German Shepherd Mix  Black/Tan  201509        2015           09   \n",
       "11455      Labrador Retriever      Cream  201407        2014           07   \n",
       "\n",
       "      OutcomeDay OutcomeHour OutcomeSeason  \n",
       "11451         08          14        summer  \n",
       "11452         21          12          fall  \n",
       "11453         29          9:          fall  \n",
       "11454         05          17          fall  \n",
       "11455         12          18        summer  "
      ]
     },
     "execution_count": 34,
     "metadata": {},
     "output_type": "execute_result"
    }
   ],
   "source": [
    "data_combined.tail()"
   ]
  },
  {
   "cell_type": "markdown",
   "metadata": {
    "collapsed": true
   },
   "source": [
    "### 7) OutcomeType 심층분석"
   ]
  },
  {
   "cell_type": "code",
   "execution_count": 35,
   "metadata": {
    "collapsed": true
   },
   "outputs": [],
   "source": [
    "def count_outcome(dfY):\n",
    "    plt.figure()\n",
    "    outcome = dfY.value_counts()\n",
    "    outcome.plot(kind = 'bar', title = 'Outcome variable count')\n",
    "    plt.show()"
   ]
  },
  {
   "cell_type": "code",
   "execution_count": 36,
   "metadata": {},
   "outputs": [
    {
     "data": {
      "image/png": "[encoded data removed]",
      "text/plain": [
       "<matplotlib.figure.Figure at 0x138d38c2be0>"
      ]
     },
     "metadata": {},
     "output_type": "display_data"
    }
   ],
   "source": [
    "count_outcome(dfY)"
   ]
  },
  {
   "cell_type": "markdown",
   "metadata": {
    "collapsed": true
   },
   "source": [
    "### 8) AgeUponOutcome 데이터를 모두 일(day) 단위로 변환\n",
    "\n",
    "#### Reference: https://stackoverflow.com/questions/12851791/removing-numbers-from-string"
   ]
  },
  {
   "cell_type": "code",
   "execution_count": 37,
   "metadata": {},
   "outputs": [
    {
     "name": "stdout",
     "output_type": "stream",
     "text": [
      "[' year', ' years', ' weeks', ' month', ' months', ' days', ' week', ' day']\n"
     ]
    },
    {
     "data": {
      "text/plain": [
       "'This list contains year(s), month(s), week(s), day(s)'"
      ]
     },
     "execution_count": 37,
     "metadata": {},
     "output_type": "execute_result"
    }
   ],
   "source": [
    "'''This section of the code is used to check the unique string values that are present in the AgeuponOutcome column'''\n",
    "age_list_compile = []\n",
    "age_outcome_list = list(data_combined['AgeuponOutcome'])\n",
    "for item in age_outcome_list:\n",
    "    if type(item) != str:\n",
    "        '''This condition is to account for NaN values'''\n",
    "        continue\n",
    "    result = ''.join(i for i in item if not i.isdigit())\n",
    "    age_list_compile.append(result)\n",
    "'''We can check unique string values in the column'''\n",
    "age_list_unique = list(pd.Series(age_list_compile).unique())\n",
    "print(age_list_unique)\n",
    "'''This list contains year(s), month(s), week(s), day(s)'''"
   ]
  },
  {
   "cell_type": "markdown",
   "metadata": {},
   "source": [
    "#### age_list_unique 리스트 확인결과 year, years, month, months, week, weeks, day, days의 유니크한 값을 가짐. 나이관련 변수 단위를 일(day)로 통일"
   ]
  },
  {
   "cell_type": "code",
   "execution_count": 38,
   "metadata": {
    "collapsed": true
   },
   "outputs": [],
   "source": [
    "def convert_Age(data_train):\n",
    "    '''Reference: https://stackoverflow.com/questions/12851791/removing-numbers-from-string'''\n",
    "    '''This function convert all the time into unit of day'''\n",
    "    age_list = list(data_train['AgeuponOutcome'])\n",
    "    age_day_compile = []\n",
    "    for item in age_list:\n",
    "        if type(item) != str:\n",
    "            age_day_compile.append(item)\n",
    "        else:\n",
    "            numeric = int(item[:2])\n",
    "            if 'year' in item:\n",
    "                age_day_compile.append(numeric * 365)\n",
    "            elif 'month' in item:\n",
    "                age_day_compile.append(numeric * 30)\n",
    "            elif 'week' in item:\n",
    "                age_day_compile.append(numeric * 7)\n",
    "            elif 'day' in item:\n",
    "                age_day_compile.append(numeric)\n",
    "    return age_day_compile "
   ]
  },
  {
   "cell_type": "code",
   "execution_count": 39,
   "metadata": {
    "collapsed": true
   },
   "outputs": [],
   "source": [
    "age_day_compile = convert_Age(data_combined)\n",
    "data_combined['AgeuponOutcome'] = age_day_compile"
   ]
  },
  {
   "cell_type": "code",
   "execution_count": 40,
   "metadata": {},
   "outputs": [
    {
     "data": {
      "text/html": [
       "<div>\n",
       "<style>\n",
       "    .dataframe thead tr:only-child th {\n",
       "        text-align: right;\n",
       "    }\n",
       "\n",
       "    .dataframe thead th {\n",
       "        text-align: left;\n",
       "    }\n",
       "\n",
       "    .dataframe tbody tr th {\n",
       "        vertical-align: top;\n",
       "    }\n",
       "</style>\n",
       "<table border=\"1\" class=\"dataframe\">\n",
       "  <thead>\n",
       "    <tr style=\"text-align: right;\">\n",
       "      <th></th>\n",
       "      <th>AnimalID</th>\n",
       "      <th>Name</th>\n",
       "      <th>AnimalType</th>\n",
       "      <th>SexuponOutcome</th>\n",
       "      <th>AgeuponOutcome</th>\n",
       "      <th>Breed</th>\n",
       "      <th>Color</th>\n",
       "      <th>Date</th>\n",
       "      <th>OutcomeYear</th>\n",
       "      <th>OutcomeMonth</th>\n",
       "      <th>OutcomeDay</th>\n",
       "      <th>OutcomeHour</th>\n",
       "      <th>OutcomeSeason</th>\n",
       "    </tr>\n",
       "  </thead>\n",
       "  <tbody>\n",
       "    <tr>\n",
       "      <th>0</th>\n",
       "      <td>A671945</td>\n",
       "      <td>Name</td>\n",
       "      <td>Dog</td>\n",
       "      <td>Neutered Male</td>\n",
       "      <td>365.0</td>\n",
       "      <td>Shetland Sheepdog Mix</td>\n",
       "      <td>Brown/White</td>\n",
       "      <td>201402</td>\n",
       "      <td>2014</td>\n",
       "      <td>02</td>\n",
       "      <td>12</td>\n",
       "      <td>18</td>\n",
       "      <td>winter</td>\n",
       "    </tr>\n",
       "    <tr>\n",
       "      <th>1</th>\n",
       "      <td>A656520</td>\n",
       "      <td>Name</td>\n",
       "      <td>Cat</td>\n",
       "      <td>Spayed Female</td>\n",
       "      <td>365.0</td>\n",
       "      <td>Domestic Shorthair Mix</td>\n",
       "      <td>Cream Tabby</td>\n",
       "      <td>201310</td>\n",
       "      <td>2013</td>\n",
       "      <td>10</td>\n",
       "      <td>13</td>\n",
       "      <td>12</td>\n",
       "      <td>fall</td>\n",
       "    </tr>\n",
       "    <tr>\n",
       "      <th>2</th>\n",
       "      <td>A686464</td>\n",
       "      <td>Name</td>\n",
       "      <td>Dog</td>\n",
       "      <td>Neutered Male</td>\n",
       "      <td>730.0</td>\n",
       "      <td>Pit Bull Mix</td>\n",
       "      <td>Blue/White</td>\n",
       "      <td>201501</td>\n",
       "      <td>2015</td>\n",
       "      <td>01</td>\n",
       "      <td>31</td>\n",
       "      <td>12</td>\n",
       "      <td>winter</td>\n",
       "    </tr>\n",
       "    <tr>\n",
       "      <th>3</th>\n",
       "      <td>A683430</td>\n",
       "      <td>No Name</td>\n",
       "      <td>Cat</td>\n",
       "      <td>Intact Male</td>\n",
       "      <td>21.0</td>\n",
       "      <td>Domestic Shorthair Mix</td>\n",
       "      <td>Blue Cream</td>\n",
       "      <td>201407</td>\n",
       "      <td>2014</td>\n",
       "      <td>07</td>\n",
       "      <td>11</td>\n",
       "      <td>19</td>\n",
       "      <td>summer</td>\n",
       "    </tr>\n",
       "    <tr>\n",
       "      <th>4</th>\n",
       "      <td>A667013</td>\n",
       "      <td>No Name</td>\n",
       "      <td>Dog</td>\n",
       "      <td>Neutered Male</td>\n",
       "      <td>730.0</td>\n",
       "      <td>Lhasa Apso/Miniature Poodle</td>\n",
       "      <td>Tan</td>\n",
       "      <td>201311</td>\n",
       "      <td>2013</td>\n",
       "      <td>11</td>\n",
       "      <td>15</td>\n",
       "      <td>12</td>\n",
       "      <td>fall</td>\n",
       "    </tr>\n",
       "  </tbody>\n",
       "</table>\n",
       "</div>"
      ],
      "text/plain": [
       "  AnimalID     Name AnimalType SexuponOutcome  AgeuponOutcome  \\\n",
       "0  A671945     Name        Dog  Neutered Male           365.0   \n",
       "1  A656520     Name        Cat  Spayed Female           365.0   \n",
       "2  A686464     Name        Dog  Neutered Male           730.0   \n",
       "3  A683430  No Name        Cat    Intact Male            21.0   \n",
       "4  A667013  No Name        Dog  Neutered Male           730.0   \n",
       "\n",
       "                         Breed        Color    Date OutcomeYear OutcomeMonth  \\\n",
       "0        Shetland Sheepdog Mix  Brown/White  201402        2014           02   \n",
       "1       Domestic Shorthair Mix  Cream Tabby  201310        2013           10   \n",
       "2                 Pit Bull Mix   Blue/White  201501        2015           01   \n",
       "3       Domestic Shorthair Mix   Blue Cream  201407        2014           07   \n",
       "4  Lhasa Apso/Miniature Poodle          Tan  201311        2013           11   \n",
       "\n",
       "  OutcomeDay OutcomeHour OutcomeSeason  \n",
       "0         12          18        winter  \n",
       "1         13          12          fall  \n",
       "2         31          12        winter  \n",
       "3         11          19        summer  \n",
       "4         15          12          fall  "
      ]
     },
     "execution_count": 40,
     "metadata": {},
     "output_type": "execute_result"
    }
   ],
   "source": [
    "#Data 확인\n",
    "data_combined.head()"
   ]
  },
  {
   "cell_type": "code",
   "execution_count": 41,
   "metadata": {},
   "outputs": [
    {
     "data": {
      "text/html": [
       "<div>\n",
       "<style>\n",
       "    .dataframe thead tr:only-child th {\n",
       "        text-align: right;\n",
       "    }\n",
       "\n",
       "    .dataframe thead th {\n",
       "        text-align: left;\n",
       "    }\n",
       "\n",
       "    .dataframe tbody tr th {\n",
       "        vertical-align: top;\n",
       "    }\n",
       "</style>\n",
       "<table border=\"1\" class=\"dataframe\">\n",
       "  <thead>\n",
       "    <tr style=\"text-align: right;\">\n",
       "      <th></th>\n",
       "      <th>AnimalID</th>\n",
       "      <th>Name</th>\n",
       "      <th>AnimalType</th>\n",
       "      <th>SexuponOutcome</th>\n",
       "      <th>AgeuponOutcome</th>\n",
       "      <th>Breed</th>\n",
       "      <th>Color</th>\n",
       "      <th>Date</th>\n",
       "      <th>OutcomeYear</th>\n",
       "      <th>OutcomeMonth</th>\n",
       "      <th>OutcomeDay</th>\n",
       "      <th>OutcomeHour</th>\n",
       "      <th>OutcomeSeason</th>\n",
       "    </tr>\n",
       "  </thead>\n",
       "  <tbody>\n",
       "    <tr>\n",
       "      <th>11451</th>\n",
       "      <td>11452</td>\n",
       "      <td>No Name</td>\n",
       "      <td>Cat</td>\n",
       "      <td>Neutered Male</td>\n",
       "      <td>60.0</td>\n",
       "      <td>Domestic Shorthair Mix</td>\n",
       "      <td>Black</td>\n",
       "      <td>201407</td>\n",
       "      <td>2014</td>\n",
       "      <td>07</td>\n",
       "      <td>08</td>\n",
       "      <td>14</td>\n",
       "      <td>summer</td>\n",
       "    </tr>\n",
       "    <tr>\n",
       "      <th>11452</th>\n",
       "      <td>11453</td>\n",
       "      <td>No Name</td>\n",
       "      <td>Cat</td>\n",
       "      <td>Intact Female</td>\n",
       "      <td>14.0</td>\n",
       "      <td>Domestic Shorthair Mix</td>\n",
       "      <td>Blue</td>\n",
       "      <td>201410</td>\n",
       "      <td>2014</td>\n",
       "      <td>10</td>\n",
       "      <td>21</td>\n",
       "      <td>12</td>\n",
       "      <td>fall</td>\n",
       "    </tr>\n",
       "    <tr>\n",
       "      <th>11453</th>\n",
       "      <td>11454</td>\n",
       "      <td>No Name</td>\n",
       "      <td>Cat</td>\n",
       "      <td>Intact Female</td>\n",
       "      <td>365.0</td>\n",
       "      <td>Domestic Shorthair Mix</td>\n",
       "      <td>Calico</td>\n",
       "      <td>201409</td>\n",
       "      <td>2014</td>\n",
       "      <td>09</td>\n",
       "      <td>29</td>\n",
       "      <td>9:</td>\n",
       "      <td>fall</td>\n",
       "    </tr>\n",
       "    <tr>\n",
       "      <th>11454</th>\n",
       "      <td>11455</td>\n",
       "      <td>Name</td>\n",
       "      <td>Dog</td>\n",
       "      <td>Neutered Male</td>\n",
       "      <td>2190.0</td>\n",
       "      <td>German Shepherd Mix</td>\n",
       "      <td>Black/Tan</td>\n",
       "      <td>201509</td>\n",
       "      <td>2015</td>\n",
       "      <td>09</td>\n",
       "      <td>05</td>\n",
       "      <td>17</td>\n",
       "      <td>fall</td>\n",
       "    </tr>\n",
       "    <tr>\n",
       "      <th>11455</th>\n",
       "      <td>11456</td>\n",
       "      <td>Name</td>\n",
       "      <td>Dog</td>\n",
       "      <td>Intact Male</td>\n",
       "      <td>1460.0</td>\n",
       "      <td>Labrador Retriever</td>\n",
       "      <td>Cream</td>\n",
       "      <td>201407</td>\n",
       "      <td>2014</td>\n",
       "      <td>07</td>\n",
       "      <td>12</td>\n",
       "      <td>18</td>\n",
       "      <td>summer</td>\n",
       "    </tr>\n",
       "  </tbody>\n",
       "</table>\n",
       "</div>"
      ],
      "text/plain": [
       "      AnimalID     Name AnimalType SexuponOutcome  AgeuponOutcome  \\\n",
       "11451    11452  No Name        Cat  Neutered Male            60.0   \n",
       "11452    11453  No Name        Cat  Intact Female            14.0   \n",
       "11453    11454  No Name        Cat  Intact Female           365.0   \n",
       "11454    11455     Name        Dog  Neutered Male          2190.0   \n",
       "11455    11456     Name        Dog    Intact Male          1460.0   \n",
       "\n",
       "                        Breed      Color    Date OutcomeYear OutcomeMonth  \\\n",
       "11451  Domestic Shorthair Mix      Black  201407        2014           07   \n",
       "11452  Domestic Shorthair Mix       Blue  201410        2014           10   \n",
       "11453  Domestic Shorthair Mix     Calico  201409        2014           09   \n",
       "11454     German Shepherd Mix  Black/Tan  201509        2015           09   \n",
       "11455      Labrador Retriever      Cream  201407        2014           07   \n",
       "\n",
       "      OutcomeDay OutcomeHour OutcomeSeason  \n",
       "11451         08          14        summer  \n",
       "11452         21          12          fall  \n",
       "11453         29          9:          fall  \n",
       "11454         05          17          fall  \n",
       "11455         12          18        summer  "
      ]
     },
     "execution_count": 41,
     "metadata": {},
     "output_type": "execute_result"
    }
   ],
   "source": [
    "data_combined.tail()"
   ]
  },
  {
   "cell_type": "markdown",
   "metadata": {},
   "source": [
    "### NaN값 처리 -> SexuponOutcome 인자와 AgeuponOutcome NaN값 처리."
   ]
  },
  {
   "cell_type": "code",
   "execution_count": 42,
   "metadata": {},
   "outputs": [
    {
     "data": {
      "text/plain": [
       "array(['Neutered Male', 'Spayed Female', 'Intact Male', 'Intact Female',\n",
       "       'Unknown', nan], dtype=object)"
      ]
     },
     "execution_count": 42,
     "metadata": {},
     "output_type": "execute_result"
    }
   ],
   "source": [
    "data_combined['SexuponOutcome'].unique()"
   ]
  },
  {
   "cell_type": "code",
   "execution_count": 43,
   "metadata": {},
   "outputs": [
    {
     "data": {
      "text/plain": [
       "array(['Neutered Male', 'Spayed Female', 'Intact Male', 'Intact Female',\n",
       "       'Unknown'], dtype=object)"
      ]
     },
     "execution_count": 43,
     "metadata": {},
     "output_type": "execute_result"
    }
   ],
   "source": [
    "#SexuponOutcome은 그냥 Unknown\n",
    "data_combined['SexuponOutcome'].fillna('Unknown', inplace = True)\n",
    "data_combined['SexuponOutcome'].unique()"
   ]
  },
  {
   "cell_type": "code",
   "execution_count": 44,
   "metadata": {},
   "outputs": [
    {
     "data": {
      "text/plain": [
       "365.0"
      ]
     },
     "execution_count": 44,
     "metadata": {},
     "output_type": "execute_result"
    }
   ],
   "source": [
    "#AgeuponOutcome의 경우 전체 데이터의 median값으로 대체\n",
    "age_median = data_combined['AgeuponOutcome'].median()\n",
    "age_median"
   ]
  },
  {
   "cell_type": "code",
   "execution_count": 45,
   "metadata": {},
   "outputs": [
    {
     "data": {
      "text/plain": [
       "0"
      ]
     },
     "execution_count": 45,
     "metadata": {},
     "output_type": "execute_result"
    }
   ],
   "source": [
    "data_combined['AgeuponOutcome'].fillna(age_median, inplace = True)\n",
    "data_combined['AgeuponOutcome'].isnull().sum()"
   ]
  },
  {
   "cell_type": "markdown",
   "metadata": {},
   "source": [
    "### 9) 애완견 종을 순종, 순종 mix, 잡종으로 나눠서 분석"
   ]
  },
  {
   "cell_type": "code",
   "execution_count": 46,
   "metadata": {
    "collapsed": true
   },
   "outputs": [],
   "source": [
    "def dog_breed_category(data_train):\n",
    "    '''This function converts the breed into pure mix, mix or pure'''\n",
    "    breed_df = data_train[['OutcomeType', 'AnimalType', 'Breed']]\n",
    "    breed_df_dog = breed_df[breed_df.AnimalType == 'Dog'].reset_index()\n",
    "    breed_list = list(breed_df_dog['Breed'])\n",
    "    breed_compile = []\n",
    "    for item in breed_list:\n",
    "        item = item.lower()\n",
    "        if 'mix' in item:\n",
    "            breed_compile.append('pure mix')\n",
    "        elif '/' in item:\n",
    "            breed_compile.append('mix')\n",
    "        else:\n",
    "            breed_compile.append('pure')\n",
    "    breed_df_dog['Breed_dog'] = breed_compile\n",
    "    return breed_df_dog"
   ]
  },
  {
   "cell_type": "code",
   "execution_count": 47,
   "metadata": {
    "collapsed": true
   },
   "outputs": [],
   "source": [
    "breed_df_dog = dog_breed_category(data_train)"
   ]
  },
  {
   "cell_type": "code",
   "execution_count": 48,
   "metadata": {},
   "outputs": [
    {
     "data": {
      "image/png": "[encoded data removed]",
      "text/plain": [
       "<matplotlib.figure.Figure at 0x138c8bba240>"
      ]
     },
     "metadata": {},
     "output_type": "display_data"
    }
   ],
   "source": [
    "#순종/잡종 개와 OutcomeType 관계 그래프\n",
    "sns.countplot(x = 'Breed_dog', hue = 'OutcomeType', data = breed_df_dog)\n",
    "plt.show()"
   ]
  },
  {
   "cell_type": "markdown",
   "metadata": {},
   "source": [
    "#### 순종견 (Pure)는 갯수가 많지 않기 때문에 순종 mix와 순종은 같은 종으로 고려함 (타 Kaggle 분석에서도 이런식으로 진행한것 확인)"
   ]
  },
  {
   "cell_type": "code",
   "execution_count": 49,
   "metadata": {
    "collapsed": true
   },
   "outputs": [],
   "source": [
    "def remove_mix(data_train):\n",
    "    '''This function removes the keyword mix from breed list. The result from\n",
    "    this method is used when converting breed into different categories'''\n",
    "    breed_list = list(data_train['Breed'])\n",
    "    breed_compile = []\n",
    "    for item in breed_list:\n",
    "        item = item.lower()\n",
    "        if 'mix' in item:\n",
    "            item = item[:-4]\n",
    "        breed_compile.append(item)\n",
    "    return breed_compile"
   ]
  },
  {
   "cell_type": "code",
   "execution_count": 50,
   "metadata": {
    "collapsed": true
   },
   "outputs": [],
   "source": [
    "breed_remove_mix = remove_mix(data_combined)"
   ]
  },
  {
   "cell_type": "markdown",
   "metadata": {},
   "source": [
    "### 10) Data Visualization\n",
    "\n",
    "Data Visualization 부분은 결과값과 인자관의 상관간계를 나타내는 데이터가 필요하기 때문에 전처리 작업을 하고있는 data_combined가 아닌 data_train을 이용하여 작업진행"
   ]
  },
  {
   "cell_type": "code",
   "execution_count": 51,
   "metadata": {
    "collapsed": true
   },
   "outputs": [],
   "source": [
    "data_temp = pd.concat([data_combined.iloc[:26729, :], dfY], axis = 1)"
   ]
  },
  {
   "cell_type": "code",
   "execution_count": 52,
   "metadata": {},
   "outputs": [
    {
     "data": {
      "text/html": [
       "<div>\n",
       "<style>\n",
       "    .dataframe thead tr:only-child th {\n",
       "        text-align: right;\n",
       "    }\n",
       "\n",
       "    .dataframe thead th {\n",
       "        text-align: left;\n",
       "    }\n",
       "\n",
       "    .dataframe tbody tr th {\n",
       "        vertical-align: top;\n",
       "    }\n",
       "</style>\n",
       "<table border=\"1\" class=\"dataframe\">\n",
       "  <thead>\n",
       "    <tr style=\"text-align: right;\">\n",
       "      <th></th>\n",
       "      <th>AnimalID</th>\n",
       "      <th>Name</th>\n",
       "      <th>AnimalType</th>\n",
       "      <th>SexuponOutcome</th>\n",
       "      <th>AgeuponOutcome</th>\n",
       "      <th>Breed</th>\n",
       "      <th>Color</th>\n",
       "      <th>Date</th>\n",
       "      <th>OutcomeYear</th>\n",
       "      <th>OutcomeMonth</th>\n",
       "      <th>OutcomeDay</th>\n",
       "      <th>OutcomeHour</th>\n",
       "      <th>OutcomeSeason</th>\n",
       "      <th>OutcomeType</th>\n",
       "    </tr>\n",
       "  </thead>\n",
       "  <tbody>\n",
       "    <tr>\n",
       "      <th>0</th>\n",
       "      <td>A671945</td>\n",
       "      <td>Name</td>\n",
       "      <td>Dog</td>\n",
       "      <td>Neutered Male</td>\n",
       "      <td>365.0</td>\n",
       "      <td>Shetland Sheepdog Mix</td>\n",
       "      <td>Brown/White</td>\n",
       "      <td>201402</td>\n",
       "      <td>2014</td>\n",
       "      <td>02</td>\n",
       "      <td>12</td>\n",
       "      <td>18</td>\n",
       "      <td>winter</td>\n",
       "      <td>Return_to_owner</td>\n",
       "    </tr>\n",
       "    <tr>\n",
       "      <th>1</th>\n",
       "      <td>A656520</td>\n",
       "      <td>Name</td>\n",
       "      <td>Cat</td>\n",
       "      <td>Spayed Female</td>\n",
       "      <td>365.0</td>\n",
       "      <td>Domestic Shorthair Mix</td>\n",
       "      <td>Cream Tabby</td>\n",
       "      <td>201310</td>\n",
       "      <td>2013</td>\n",
       "      <td>10</td>\n",
       "      <td>13</td>\n",
       "      <td>12</td>\n",
       "      <td>fall</td>\n",
       "      <td>Euthanasia</td>\n",
       "    </tr>\n",
       "    <tr>\n",
       "      <th>2</th>\n",
       "      <td>A686464</td>\n",
       "      <td>Name</td>\n",
       "      <td>Dog</td>\n",
       "      <td>Neutered Male</td>\n",
       "      <td>730.0</td>\n",
       "      <td>Pit Bull Mix</td>\n",
       "      <td>Blue/White</td>\n",
       "      <td>201501</td>\n",
       "      <td>2015</td>\n",
       "      <td>01</td>\n",
       "      <td>31</td>\n",
       "      <td>12</td>\n",
       "      <td>winter</td>\n",
       "      <td>Adoption</td>\n",
       "    </tr>\n",
       "    <tr>\n",
       "      <th>3</th>\n",
       "      <td>A683430</td>\n",
       "      <td>No Name</td>\n",
       "      <td>Cat</td>\n",
       "      <td>Intact Male</td>\n",
       "      <td>21.0</td>\n",
       "      <td>Domestic Shorthair Mix</td>\n",
       "      <td>Blue Cream</td>\n",
       "      <td>201407</td>\n",
       "      <td>2014</td>\n",
       "      <td>07</td>\n",
       "      <td>11</td>\n",
       "      <td>19</td>\n",
       "      <td>summer</td>\n",
       "      <td>Transfer</td>\n",
       "    </tr>\n",
       "    <tr>\n",
       "      <th>4</th>\n",
       "      <td>A667013</td>\n",
       "      <td>No Name</td>\n",
       "      <td>Dog</td>\n",
       "      <td>Neutered Male</td>\n",
       "      <td>730.0</td>\n",
       "      <td>Lhasa Apso/Miniature Poodle</td>\n",
       "      <td>Tan</td>\n",
       "      <td>201311</td>\n",
       "      <td>2013</td>\n",
       "      <td>11</td>\n",
       "      <td>15</td>\n",
       "      <td>12</td>\n",
       "      <td>fall</td>\n",
       "      <td>Transfer</td>\n",
       "    </tr>\n",
       "  </tbody>\n",
       "</table>\n",
       "</div>"
      ],
      "text/plain": [
       "  AnimalID     Name AnimalType SexuponOutcome  AgeuponOutcome  \\\n",
       "0  A671945     Name        Dog  Neutered Male           365.0   \n",
       "1  A656520     Name        Cat  Spayed Female           365.0   \n",
       "2  A686464     Name        Dog  Neutered Male           730.0   \n",
       "3  A683430  No Name        Cat    Intact Male            21.0   \n",
       "4  A667013  No Name        Dog  Neutered Male           730.0   \n",
       "\n",
       "                         Breed        Color    Date OutcomeYear OutcomeMonth  \\\n",
       "0        Shetland Sheepdog Mix  Brown/White  201402        2014           02   \n",
       "1       Domestic Shorthair Mix  Cream Tabby  201310        2013           10   \n",
       "2                 Pit Bull Mix   Blue/White  201501        2015           01   \n",
       "3       Domestic Shorthair Mix   Blue Cream  201407        2014           07   \n",
       "4  Lhasa Apso/Miniature Poodle          Tan  201311        2013           11   \n",
       "\n",
       "  OutcomeDay OutcomeHour OutcomeSeason      OutcomeType  \n",
       "0         12          18        winter  Return_to_owner  \n",
       "1         13          12          fall       Euthanasia  \n",
       "2         31          12        winter         Adoption  \n",
       "3         11          19        summer         Transfer  \n",
       "4         15          12          fall         Transfer  "
      ]
     },
     "execution_count": 52,
     "metadata": {},
     "output_type": "execute_result"
    }
   ],
   "source": [
    "data_temp.head()"
   ]
  },
  {
   "cell_type": "code",
   "execution_count": 53,
   "metadata": {},
   "outputs": [
    {
     "data": {
      "text/html": [
       "<div>\n",
       "<style>\n",
       "    .dataframe thead tr:only-child th {\n",
       "        text-align: right;\n",
       "    }\n",
       "\n",
       "    .dataframe thead th {\n",
       "        text-align: left;\n",
       "    }\n",
       "\n",
       "    .dataframe tbody tr th {\n",
       "        vertical-align: top;\n",
       "    }\n",
       "</style>\n",
       "<table border=\"1\" class=\"dataframe\">\n",
       "  <thead>\n",
       "    <tr style=\"text-align: right;\">\n",
       "      <th></th>\n",
       "      <th>AnimalID</th>\n",
       "      <th>Name</th>\n",
       "      <th>AnimalType</th>\n",
       "      <th>SexuponOutcome</th>\n",
       "      <th>AgeuponOutcome</th>\n",
       "      <th>Breed</th>\n",
       "      <th>Color</th>\n",
       "      <th>Date</th>\n",
       "      <th>OutcomeYear</th>\n",
       "      <th>OutcomeMonth</th>\n",
       "      <th>OutcomeDay</th>\n",
       "      <th>OutcomeHour</th>\n",
       "      <th>OutcomeSeason</th>\n",
       "      <th>OutcomeType</th>\n",
       "    </tr>\n",
       "  </thead>\n",
       "  <tbody>\n",
       "    <tr>\n",
       "      <th>26724</th>\n",
       "      <td>A702446</td>\n",
       "      <td>No Name</td>\n",
       "      <td>Cat</td>\n",
       "      <td>Intact Male</td>\n",
       "      <td>30.0</td>\n",
       "      <td>Domestic Shorthair Mix</td>\n",
       "      <td>Brown Tabby/White</td>\n",
       "      <td>201505</td>\n",
       "      <td>2015</td>\n",
       "      <td>05</td>\n",
       "      <td>14</td>\n",
       "      <td>11</td>\n",
       "      <td>spring</td>\n",
       "      <td>Transfer</td>\n",
       "    </tr>\n",
       "    <tr>\n",
       "      <th>26725</th>\n",
       "      <td>A718934</td>\n",
       "      <td>No Name</td>\n",
       "      <td>Cat</td>\n",
       "      <td>Spayed Female</td>\n",
       "      <td>90.0</td>\n",
       "      <td>Domestic Shorthair Mix</td>\n",
       "      <td>Brown Tabby</td>\n",
       "      <td>201601</td>\n",
       "      <td>2016</td>\n",
       "      <td>01</td>\n",
       "      <td>20</td>\n",
       "      <td>18</td>\n",
       "      <td>winter</td>\n",
       "      <td>Transfer</td>\n",
       "    </tr>\n",
       "    <tr>\n",
       "      <th>26726</th>\n",
       "      <td>A698128</td>\n",
       "      <td>Name</td>\n",
       "      <td>Dog</td>\n",
       "      <td>Neutered Male</td>\n",
       "      <td>1460.0</td>\n",
       "      <td>Old English Bulldog Mix</td>\n",
       "      <td>White/Tan</td>\n",
       "      <td>201503</td>\n",
       "      <td>2015</td>\n",
       "      <td>03</td>\n",
       "      <td>09</td>\n",
       "      <td>13</td>\n",
       "      <td>spring</td>\n",
       "      <td>Adoption</td>\n",
       "    </tr>\n",
       "    <tr>\n",
       "      <th>26727</th>\n",
       "      <td>A677478</td>\n",
       "      <td>No Name</td>\n",
       "      <td>Cat</td>\n",
       "      <td>Intact Male</td>\n",
       "      <td>28.0</td>\n",
       "      <td>Domestic Shorthair Mix</td>\n",
       "      <td>Black</td>\n",
       "      <td>201404</td>\n",
       "      <td>2014</td>\n",
       "      <td>04</td>\n",
       "      <td>27</td>\n",
       "      <td>12</td>\n",
       "      <td>spring</td>\n",
       "      <td>Transfer</td>\n",
       "    </tr>\n",
       "    <tr>\n",
       "      <th>26728</th>\n",
       "      <td>A706629</td>\n",
       "      <td>No Name</td>\n",
       "      <td>Cat</td>\n",
       "      <td>Intact Male</td>\n",
       "      <td>365.0</td>\n",
       "      <td>Domestic Shorthair Mix</td>\n",
       "      <td>Brown Tabby/White</td>\n",
       "      <td>201507</td>\n",
       "      <td>2015</td>\n",
       "      <td>07</td>\n",
       "      <td>02</td>\n",
       "      <td>09</td>\n",
       "      <td>summer</td>\n",
       "      <td>Transfer</td>\n",
       "    </tr>\n",
       "  </tbody>\n",
       "</table>\n",
       "</div>"
      ],
      "text/plain": [
       "      AnimalID     Name AnimalType SexuponOutcome  AgeuponOutcome  \\\n",
       "26724  A702446  No Name        Cat    Intact Male            30.0   \n",
       "26725  A718934  No Name        Cat  Spayed Female            90.0   \n",
       "26726  A698128     Name        Dog  Neutered Male          1460.0   \n",
       "26727  A677478  No Name        Cat    Intact Male            28.0   \n",
       "26728  A706629  No Name        Cat    Intact Male           365.0   \n",
       "\n",
       "                         Breed              Color    Date OutcomeYear  \\\n",
       "26724   Domestic Shorthair Mix  Brown Tabby/White  201505        2015   \n",
       "26725   Domestic Shorthair Mix        Brown Tabby  201601        2016   \n",
       "26726  Old English Bulldog Mix          White/Tan  201503        2015   \n",
       "26727   Domestic Shorthair Mix              Black  201404        2014   \n",
       "26728   Domestic Shorthair Mix  Brown Tabby/White  201507        2015   \n",
       "\n",
       "      OutcomeMonth OutcomeDay OutcomeHour OutcomeSeason OutcomeType  \n",
       "26724           05         14          11        spring    Transfer  \n",
       "26725           01         20          18        winter    Transfer  \n",
       "26726           03         09          13        spring    Adoption  \n",
       "26727           04         27          12        spring    Transfer  \n",
       "26728           07         02          09        summer    Transfer  "
      ]
     },
     "execution_count": 53,
     "metadata": {},
     "output_type": "execute_result"
    }
   ],
   "source": [
    "data_temp.tail()"
   ]
  },
  {
   "cell_type": "code",
   "execution_count": 54,
   "metadata": {},
   "outputs": [
    {
     "data": {
      "image/png": "[encoded data removed]",
      "text/plain": [
       "<matplotlib.figure.Figure at 0x138d33daef0>"
      ]
     },
     "metadata": {},
     "output_type": "display_data"
    }
   ],
   "source": [
    "%matplotlib inline\n",
    "#SexuponOutcome과 결과값 관게 그래프\n",
    "fig, ax = plt.subplots(figsize=(7, 5))\n",
    "sns.countplot(ax = ax, x = 'SexuponOutcome', hue = 'OutcomeType', data = data_temp)\n",
    "plt.show()"
   ]
  },
  {
   "cell_type": "code",
   "execution_count": 55,
   "metadata": {},
   "outputs": [
    {
     "data": {
      "image/png": "[encoded data removed]",
      "text/plain": [
       "<matplotlib.figure.Figure at 0x138d3398cc0>"
      ]
     },
     "metadata": {},
     "output_type": "display_data"
    }
   ],
   "source": [
    "#AnimalType (개 or 고양이)과 결과값 관계 그래프 \n",
    "fig, ax = plt.subplots(figsize=(7, 5))\n",
    "sns.countplot(x = 'AnimalType', hue = 'OutcomeType', data = data_temp)\n",
    "plt.show()"
   ]
  },
  {
   "cell_type": "markdown",
   "metadata": {},
   "source": [
    "#### Reference: https://stackoverflow.com/questions/42528921/how-to-prevent-overlapping-x-axis-labels-in-sns-countplot"
   ]
  },
  {
   "cell_type": "code",
   "execution_count": 56,
   "metadata": {},
   "outputs": [
    {
     "data": {
      "image/png": "[encoded data removed]",
      "text/plain": [
       "<matplotlib.figure.Figure at 0x138d40e4b00>"
      ]
     },
     "metadata": {},
     "output_type": "display_data"
    }
   ],
   "source": [
    "#날짜와 결과값 관계 그래프\n",
    "fig, ax = plt.subplots(figsize=(15, 7))\n",
    "ax = sns.countplot(x = 'Date', hue = 'OutcomeType', data = data_temp)\n",
    "ax.set_xticklabels(ax.get_xticklabels(), rotation=40, ha=\"right\")\n",
    "plt.show()"
   ]
  },
  {
   "cell_type": "code",
   "execution_count": 57,
   "metadata": {},
   "outputs": [
    {
     "data": {
      "text/plain": [
       "<matplotlib.figure.Figure at 0x138d4a7fda0>"
      ]
     },
     "metadata": {},
     "output_type": "display_data"
    },
    {
     "data": {
      "image/png": "[encoded data removed]",
      "text/plain": [
       "<matplotlib.figure.Figure at 0x138d4277e10>"
      ]
     },
     "metadata": {},
     "output_type": "display_data"
    }
   ],
   "source": [
    "plt.figure(figsize=(20,20))\n",
    "ax2 = sns.factorplot(x = 'Date', col = 'OutcomeType', data = data_temp, kind = 'count')\n",
    "ax2.set_xticklabels(ax.get_xticklabels(), rotation=90, ha=\"right\")\n",
    "plt.show()"
   ]
  },
  {
   "cell_type": "code",
   "execution_count": 58,
   "metadata": {},
   "outputs": [
    {
     "data": {
      "image/png": "[encoded data removed]",
      "text/plain": [
       "<matplotlib.figure.Figure at 0x138d3239978>"
      ]
     },
     "metadata": {},
     "output_type": "display_data"
    }
   ],
   "source": [
    "#계절별 OutcomeType 관계 그래프\n",
    "sns.factorplot(x = 'OutcomeSeason', hue = 'OutcomeYear', col = 'OutcomeType', data = data_temp, kind = 'count')\n",
    "plt.show()"
   ]
  },
  {
   "cell_type": "code",
   "execution_count": 59,
   "metadata": {},
   "outputs": [
    {
     "data": {
      "image/png": "[encoded data removed]",
      "text/plain": [
       "<matplotlib.figure.Figure at 0x138d3c2fda0>"
      ]
     },
     "metadata": {},
     "output_type": "display_data"
    }
   ],
   "source": [
    "#이름 유/무와 OutcomeType 관계 그래프\n",
    "plt.figure(figsize = (7, 5))\n",
    "sns.countplot(x = 'Name', hue = 'OutcomeType', data = data_temp)\n",
    "plt.show()"
   ]
  },
  {
   "cell_type": "markdown",
   "metadata": {},
   "source": [
    "### Name인자 숫자 Preprocessing\n",
    "\n",
    "#### Reference: https://github.com/JihongL/Shelter-Animal-Outcomes/blob/master/Shelter_EDA.ipynb"
   ]
  },
  {
   "cell_type": "code",
   "execution_count": 60,
   "metadata": {
    "collapsed": true
   },
   "outputs": [],
   "source": [
    "def no_name_numeric_label(x):\n",
    "    '''Reference: https://github.com/JihongL/Shelter-Animal-Outcomes/blob/master/Shelter_EDA.ipynb'''\n",
    "    '''This function is used in conjunction with .transform() method to convert Name and No Name \n",
    "    to numerical values'''\n",
    "    if x == 'No Name':\n",
    "        return 0\n",
    "    else:\n",
    "        return 1"
   ]
  },
  {
   "cell_type": "code",
   "execution_count": 61,
   "metadata": {
    "collapsed": true
   },
   "outputs": [],
   "source": [
    "data_combined['Name'] = data_combined['Name'].transform(no_name_numeric_label)"
   ]
  },
  {
   "cell_type": "code",
   "execution_count": 62,
   "metadata": {},
   "outputs": [
    {
     "data": {
      "text/html": [
       "<div>\n",
       "<style>\n",
       "    .dataframe thead tr:only-child th {\n",
       "        text-align: right;\n",
       "    }\n",
       "\n",
       "    .dataframe thead th {\n",
       "        text-align: left;\n",
       "    }\n",
       "\n",
       "    .dataframe tbody tr th {\n",
       "        vertical-align: top;\n",
       "    }\n",
       "</style>\n",
       "<table border=\"1\" class=\"dataframe\">\n",
       "  <thead>\n",
       "    <tr style=\"text-align: right;\">\n",
       "      <th></th>\n",
       "      <th>AnimalID</th>\n",
       "      <th>Name</th>\n",
       "      <th>AnimalType</th>\n",
       "      <th>SexuponOutcome</th>\n",
       "      <th>AgeuponOutcome</th>\n",
       "      <th>Breed</th>\n",
       "      <th>Color</th>\n",
       "      <th>Date</th>\n",
       "      <th>OutcomeYear</th>\n",
       "      <th>OutcomeMonth</th>\n",
       "      <th>OutcomeDay</th>\n",
       "      <th>OutcomeHour</th>\n",
       "      <th>OutcomeSeason</th>\n",
       "    </tr>\n",
       "  </thead>\n",
       "  <tbody>\n",
       "    <tr>\n",
       "      <th>0</th>\n",
       "      <td>A671945</td>\n",
       "      <td>1</td>\n",
       "      <td>Dog</td>\n",
       "      <td>Neutered Male</td>\n",
       "      <td>365.0</td>\n",
       "      <td>Shetland Sheepdog Mix</td>\n",
       "      <td>Brown/White</td>\n",
       "      <td>201402</td>\n",
       "      <td>2014</td>\n",
       "      <td>02</td>\n",
       "      <td>12</td>\n",
       "      <td>18</td>\n",
       "      <td>winter</td>\n",
       "    </tr>\n",
       "    <tr>\n",
       "      <th>1</th>\n",
       "      <td>A656520</td>\n",
       "      <td>1</td>\n",
       "      <td>Cat</td>\n",
       "      <td>Spayed Female</td>\n",
       "      <td>365.0</td>\n",
       "      <td>Domestic Shorthair Mix</td>\n",
       "      <td>Cream Tabby</td>\n",
       "      <td>201310</td>\n",
       "      <td>2013</td>\n",
       "      <td>10</td>\n",
       "      <td>13</td>\n",
       "      <td>12</td>\n",
       "      <td>fall</td>\n",
       "    </tr>\n",
       "    <tr>\n",
       "      <th>2</th>\n",
       "      <td>A686464</td>\n",
       "      <td>1</td>\n",
       "      <td>Dog</td>\n",
       "      <td>Neutered Male</td>\n",
       "      <td>730.0</td>\n",
       "      <td>Pit Bull Mix</td>\n",
       "      <td>Blue/White</td>\n",
       "      <td>201501</td>\n",
       "      <td>2015</td>\n",
       "      <td>01</td>\n",
       "      <td>31</td>\n",
       "      <td>12</td>\n",
       "      <td>winter</td>\n",
       "    </tr>\n",
       "    <tr>\n",
       "      <th>3</th>\n",
       "      <td>A683430</td>\n",
       "      <td>0</td>\n",
       "      <td>Cat</td>\n",
       "      <td>Intact Male</td>\n",
       "      <td>21.0</td>\n",
       "      <td>Domestic Shorthair Mix</td>\n",
       "      <td>Blue Cream</td>\n",
       "      <td>201407</td>\n",
       "      <td>2014</td>\n",
       "      <td>07</td>\n",
       "      <td>11</td>\n",
       "      <td>19</td>\n",
       "      <td>summer</td>\n",
       "    </tr>\n",
       "    <tr>\n",
       "      <th>4</th>\n",
       "      <td>A667013</td>\n",
       "      <td>0</td>\n",
       "      <td>Dog</td>\n",
       "      <td>Neutered Male</td>\n",
       "      <td>730.0</td>\n",
       "      <td>Lhasa Apso/Miniature Poodle</td>\n",
       "      <td>Tan</td>\n",
       "      <td>201311</td>\n",
       "      <td>2013</td>\n",
       "      <td>11</td>\n",
       "      <td>15</td>\n",
       "      <td>12</td>\n",
       "      <td>fall</td>\n",
       "    </tr>\n",
       "  </tbody>\n",
       "</table>\n",
       "</div>"
      ],
      "text/plain": [
       "  AnimalID  Name AnimalType SexuponOutcome  AgeuponOutcome  \\\n",
       "0  A671945     1        Dog  Neutered Male           365.0   \n",
       "1  A656520     1        Cat  Spayed Female           365.0   \n",
       "2  A686464     1        Dog  Neutered Male           730.0   \n",
       "3  A683430     0        Cat    Intact Male            21.0   \n",
       "4  A667013     0        Dog  Neutered Male           730.0   \n",
       "\n",
       "                         Breed        Color    Date OutcomeYear OutcomeMonth  \\\n",
       "0        Shetland Sheepdog Mix  Brown/White  201402        2014           02   \n",
       "1       Domestic Shorthair Mix  Cream Tabby  201310        2013           10   \n",
       "2                 Pit Bull Mix   Blue/White  201501        2015           01   \n",
       "3       Domestic Shorthair Mix   Blue Cream  201407        2014           07   \n",
       "4  Lhasa Apso/Miniature Poodle          Tan  201311        2013           11   \n",
       "\n",
       "  OutcomeDay OutcomeHour OutcomeSeason  \n",
       "0         12          18        winter  \n",
       "1         13          12          fall  \n",
       "2         31          12        winter  \n",
       "3         11          19        summer  \n",
       "4         15          12          fall  "
      ]
     },
     "execution_count": 62,
     "metadata": {},
     "output_type": "execute_result"
    }
   ],
   "source": [
    "data_combined.head()"
   ]
  },
  {
   "cell_type": "code",
   "execution_count": 63,
   "metadata": {},
   "outputs": [
    {
     "data": {
      "text/html": [
       "<div>\n",
       "<style>\n",
       "    .dataframe thead tr:only-child th {\n",
       "        text-align: right;\n",
       "    }\n",
       "\n",
       "    .dataframe thead th {\n",
       "        text-align: left;\n",
       "    }\n",
       "\n",
       "    .dataframe tbody tr th {\n",
       "        vertical-align: top;\n",
       "    }\n",
       "</style>\n",
       "<table border=\"1\" class=\"dataframe\">\n",
       "  <thead>\n",
       "    <tr style=\"text-align: right;\">\n",
       "      <th></th>\n",
       "      <th>AnimalID</th>\n",
       "      <th>Name</th>\n",
       "      <th>AnimalType</th>\n",
       "      <th>SexuponOutcome</th>\n",
       "      <th>AgeuponOutcome</th>\n",
       "      <th>Breed</th>\n",
       "      <th>Color</th>\n",
       "      <th>Date</th>\n",
       "      <th>OutcomeYear</th>\n",
       "      <th>OutcomeMonth</th>\n",
       "      <th>OutcomeDay</th>\n",
       "      <th>OutcomeHour</th>\n",
       "      <th>OutcomeSeason</th>\n",
       "    </tr>\n",
       "  </thead>\n",
       "  <tbody>\n",
       "    <tr>\n",
       "      <th>11451</th>\n",
       "      <td>11452</td>\n",
       "      <td>0</td>\n",
       "      <td>Cat</td>\n",
       "      <td>Neutered Male</td>\n",
       "      <td>60.0</td>\n",
       "      <td>Domestic Shorthair Mix</td>\n",
       "      <td>Black</td>\n",
       "      <td>201407</td>\n",
       "      <td>2014</td>\n",
       "      <td>07</td>\n",
       "      <td>08</td>\n",
       "      <td>14</td>\n",
       "      <td>summer</td>\n",
       "    </tr>\n",
       "    <tr>\n",
       "      <th>11452</th>\n",
       "      <td>11453</td>\n",
       "      <td>0</td>\n",
       "      <td>Cat</td>\n",
       "      <td>Intact Female</td>\n",
       "      <td>14.0</td>\n",
       "      <td>Domestic Shorthair Mix</td>\n",
       "      <td>Blue</td>\n",
       "      <td>201410</td>\n",
       "      <td>2014</td>\n",
       "      <td>10</td>\n",
       "      <td>21</td>\n",
       "      <td>12</td>\n",
       "      <td>fall</td>\n",
       "    </tr>\n",
       "    <tr>\n",
       "      <th>11453</th>\n",
       "      <td>11454</td>\n",
       "      <td>0</td>\n",
       "      <td>Cat</td>\n",
       "      <td>Intact Female</td>\n",
       "      <td>365.0</td>\n",
       "      <td>Domestic Shorthair Mix</td>\n",
       "      <td>Calico</td>\n",
       "      <td>201409</td>\n",
       "      <td>2014</td>\n",
       "      <td>09</td>\n",
       "      <td>29</td>\n",
       "      <td>9:</td>\n",
       "      <td>fall</td>\n",
       "    </tr>\n",
       "    <tr>\n",
       "      <th>11454</th>\n",
       "      <td>11455</td>\n",
       "      <td>1</td>\n",
       "      <td>Dog</td>\n",
       "      <td>Neutered Male</td>\n",
       "      <td>2190.0</td>\n",
       "      <td>German Shepherd Mix</td>\n",
       "      <td>Black/Tan</td>\n",
       "      <td>201509</td>\n",
       "      <td>2015</td>\n",
       "      <td>09</td>\n",
       "      <td>05</td>\n",
       "      <td>17</td>\n",
       "      <td>fall</td>\n",
       "    </tr>\n",
       "    <tr>\n",
       "      <th>11455</th>\n",
       "      <td>11456</td>\n",
       "      <td>1</td>\n",
       "      <td>Dog</td>\n",
       "      <td>Intact Male</td>\n",
       "      <td>1460.0</td>\n",
       "      <td>Labrador Retriever</td>\n",
       "      <td>Cream</td>\n",
       "      <td>201407</td>\n",
       "      <td>2014</td>\n",
       "      <td>07</td>\n",
       "      <td>12</td>\n",
       "      <td>18</td>\n",
       "      <td>summer</td>\n",
       "    </tr>\n",
       "  </tbody>\n",
       "</table>\n",
       "</div>"
      ],
      "text/plain": [
       "      AnimalID  Name AnimalType SexuponOutcome  AgeuponOutcome  \\\n",
       "11451    11452     0        Cat  Neutered Male            60.0   \n",
       "11452    11453     0        Cat  Intact Female            14.0   \n",
       "11453    11454     0        Cat  Intact Female           365.0   \n",
       "11454    11455     1        Dog  Neutered Male          2190.0   \n",
       "11455    11456     1        Dog    Intact Male          1460.0   \n",
       "\n",
       "                        Breed      Color    Date OutcomeYear OutcomeMonth  \\\n",
       "11451  Domestic Shorthair Mix      Black  201407        2014           07   \n",
       "11452  Domestic Shorthair Mix       Blue  201410        2014           10   \n",
       "11453  Domestic Shorthair Mix     Calico  201409        2014           09   \n",
       "11454     German Shepherd Mix  Black/Tan  201509        2015           09   \n",
       "11455      Labrador Retriever      Cream  201407        2014           07   \n",
       "\n",
       "      OutcomeDay OutcomeHour OutcomeSeason  \n",
       "11451         08          14        summer  \n",
       "11452         21          12          fall  \n",
       "11453         29          9:          fall  \n",
       "11454         05          17          fall  \n",
       "11455         12          18        summer  "
      ]
     },
     "execution_count": 63,
     "metadata": {},
     "output_type": "execute_result"
    }
   ],
   "source": [
    "data_combined.tail()"
   ]
  },
  {
   "cell_type": "markdown",
   "metadata": {},
   "source": [
    "### AnimalType mapping -> 개는 1, 고양이는 0으로 dummy variable 생성"
   ]
  },
  {
   "cell_type": "code",
   "execution_count": 64,
   "metadata": {
    "collapsed": true
   },
   "outputs": [],
   "source": [
    "animal_type_mapping = {'Dog':1, 'Cat':0}\n",
    "data_combined['AnimalType'] = data_combined['AnimalType'].map(animal_type_mapping)"
   ]
  },
  {
   "cell_type": "markdown",
   "metadata": {},
   "source": [
    "### 결과값 'OutcomeType' 전처리 -> Animal mapping과 동일한 방법으로 .map()함수를 이용하여 전처리 진행"
   ]
  },
  {
   "cell_type": "code",
   "execution_count": 65,
   "metadata": {
    "collapsed": true
   },
   "outputs": [],
   "source": [
    "outcome_mapping = {'Adoption':1, 'Died':2, 'Euthanasia':3, 'Return_to_owner':4, 'Transfer':5}\n",
    "dfY = dfY.map(outcome_mapping)"
   ]
  },
  {
   "cell_type": "code",
   "execution_count": 66,
   "metadata": {},
   "outputs": [
    {
     "name": "stdout",
     "output_type": "stream",
     "text": [
      "0        4\n",
      "1        3\n",
      "2        1\n",
      "3        5\n",
      "4        5\n",
      "5        5\n",
      "6        5\n",
      "7        5\n",
      "8        1\n",
      "9        1\n",
      "10       5\n",
      "11       1\n",
      "12       1\n",
      "13       4\n",
      "14       4\n",
      "15       1\n",
      "16       5\n",
      "17       5\n",
      "18       5\n",
      "19       4\n",
      "20       5\n",
      "21       5\n",
      "22       1\n",
      "23       1\n",
      "24       4\n",
      "25       5\n",
      "26       1\n",
      "27       1\n",
      "28       1\n",
      "29       4\n",
      "        ..\n",
      "26699    3\n",
      "26700    4\n",
      "26701    5\n",
      "26702    2\n",
      "26703    5\n",
      "26704    5\n",
      "26705    5\n",
      "26706    1\n",
      "26707    3\n",
      "26708    5\n",
      "26709    1\n",
      "26710    5\n",
      "26711    5\n",
      "26712    4\n",
      "26713    3\n",
      "26714    1\n",
      "26715    1\n",
      "26716    1\n",
      "26717    4\n",
      "26718    1\n",
      "26719    5\n",
      "26720    1\n",
      "26721    1\n",
      "26722    5\n",
      "26723    1\n",
      "26724    5\n",
      "26725    5\n",
      "26726    1\n",
      "26727    5\n",
      "26728    5\n",
      "Name: OutcomeType, Length: 26729, dtype: int64\n"
     ]
    }
   ],
   "source": [
    "print(dfY)"
   ]
  },
  {
   "cell_type": "markdown",
   "metadata": {},
   "source": [
    "### 11) 모든 견종이 Crawling한 list에 존재하나 줄임말 또는 표기법이 달라서 인식이 안되는 종이 30종 정도 있는것으로 확인하였음 . 종이 그렇게 많지 않기 때문에 노가다 작업진행"
   ]
  },
  {
   "cell_type": "code",
   "execution_count": 67,
   "metadata": {
    "collapsed": true
   },
   "outputs": [],
   "source": [
    "for index, item in enumerate(breed_remove_mix):\n",
    "    if item == 'chihuahua shorthair':\n",
    "        breed_remove_mix[index] = 'chihuahua'\n",
    "    elif item == 'collie smooth':\n",
    "        breed_remove_mix[index] = 'collie'\n",
    "    elif item == 'anatol shepherd':\n",
    "        breed_remove_mix[index] = 'anatolian shepherd dog'\n",
    "    elif item == 'port water dog':\n",
    "        breed_remove_mix[index] = 'portuguese water dog'\n",
    "    elif item == 'flat coat retriever':\n",
    "        breed_remove_mix[index] = 'flat-coated retriever'\n",
    "    elif item == 'pbgv':\n",
    "        breed_remove_mix[index] = 'petit basset griffon vendeen'\n",
    "    elif item == 'bruss griffon':\n",
    "        breed_remove_mix[index] = 'brussels griffon'\n",
    "    elif item == 'bluetick hound':\n",
    "        breed_remove_mix[index] = 'bluetick coonhound'\n",
    "    elif item == 'wire hair fox terrier':\n",
    "        breed_remove_mix[index] = 'wire fox terrier'\n",
    "    elif item == 'dachshund wirehair':\n",
    "        breed_remove_mix[index] = 'dachshund'\n",
    "    elif item == 'rhod ridgeback':\n",
    "        breed_remove_mix[index] = 'rhodesian ridgeback'\n",
    "    elif item == 'picardy sheepdog':\n",
    "        breed_remove_mix[index] = 'berger picard'\n",
    "    elif item == 'st. bernard rough coat':\n",
    "        breed_remove_mix[index] = 'st. bernard'\n",
    "    elif item == 'old english bulldog':\n",
    "        breed_remove_mix[index] = 'olde english bulldogge'\n",
    "    elif item == 'english bulldog':\n",
    "        breed_remove_mix[index] = 'olde english bulldogge'\n",
    "    elif item == 'chesa bay retr':\n",
    "        breed_remove_mix[index] = 'chesapeake bay retriever'\n",
    "    elif item == 'dachshund longhair':\n",
    "        breed_remove_mix[index] = 'dachshund'\n",
    "    elif item == 'chihuahua longhair':\n",
    "        breed_remove_mix[index] = 'chihuahua'\n",
    "    elif item == 'chinese sharpei':\n",
    "        breed_remove_mix[index] = 'shar-pei'\n",
    "    elif item == 'standard poodle':\n",
    "        breed_remove_mix[index] = 'poodle'\n",
    "    elif item == 'bull terrier miniature':\n",
    "        breed_remove_mix[index] = 'miniature bull terrier'\n",
    "    elif item =='st. bernard smooth coat':\n",
    "        breed_remove_mix[index] = 'st. bernard'\n",
    "    elif item =='redbone hound':\n",
    "        breed_remove_mix[index] = 'redbone coonhound'\n",
    "    elif item == 'cavalier span':\n",
    "        breed_remove_mix[index] = 'cavalier king charles spaniel'\n",
    "    elif item == 'collie rough':\n",
    "        breed_remove_mix[index] = 'collie'\n",
    "    elif item == 'german shorthair pointer':\n",
    "        breed_remove_mix[index] = 'german shorthaired pointer'\n",
    "    elif item == 'english pointer':\n",
    "        breed_remove_mix[index] = 'pointer'\n",
    "    elif item == 'mexican hairless':\n",
    "        breed_remove_mix[index] = 'xoloitzcuintli'\n",
    "    elif item =='dogo argentino':\n",
    "        breed_remove_mix[index] = 'argentine dogo'\n",
    "    elif item == 'queensland heeler':\n",
    "        breed_remove_mix[index] = 'australian cattle dog'\n",
    "    elif item == 'dachshund stan':\n",
    "        breed_remove_mix[index] = 'dachshund'\n",
    "    elif item == 'eng toy spaniel':\n",
    "        breed_remove_mix[index] = 'english toy spaniel'"
   ]
  },
  {
   "cell_type": "code",
   "execution_count": 68,
   "metadata": {},
   "outputs": [
    {
     "data": {
      "text/plain": [
       "38185"
      ]
     },
     "execution_count": 68,
     "metadata": {},
     "output_type": "execute_result"
    }
   ],
   "source": [
    "len(breed_remove_mix)"
   ]
  },
  {
   "cell_type": "markdown",
   "metadata": {},
   "source": [
    "### 12) 고양이 사이즈 -> 종류가 강아지 만큼 다양하지 않기 때문에 수작업 전처리 진행\n",
    "\n",
    "#### Reference: http://www.petguide.com/breeds/cat/domestic-longhair/"
   ]
  },
  {
   "cell_type": "code",
   "execution_count": 69,
   "metadata": {
    "collapsed": true
   },
   "outputs": [],
   "source": [
    "small_cat_list = ['munchkin longhair', 'oriental sh']\n",
    "medium_cat_list = ['exotic shorthair', 'persian', 'abyssinian', 'sphynx', 'siamese',\n",
    "                   'cornish rex', 'devon rex', 'burmese', 'tonkinese', 'russian blue', \n",
    "                   'manx', 'japanese bobtail', 'balinese', 'bombay', 'havana brown',\n",
    "                   'bengal', 'cymric', 'himalayan', 'snowshoe', 'javanese', 'havana brown', 'angora', 'turkish angora', \n",
    "                   'munchkin shorthair', 'scottish fold']\n",
    "large_cat_list = ['american shorthair', 'british shorthair', 'norwegian forest cat', 'ocicat',\n",
    "                  'turkish van', 'pixiebob shorthair', 'maine coon', 'ragdoll', 'american wirehair', 'chartreux']\n",
    "domestic = ['domestic longhair', 'domestic medium hair', 'domestic shorthair']"
   ]
  },
  {
   "cell_type": "markdown",
   "metadata": {},
   "source": [
    "고양이종에 domestic이 붙은 종은 북미지역에 서식하는 잡종 고양이를 뜻함. train 데이터에서도 압도적으로 많은 고양이들이 domestic 종이고 실제로도 북미지역 애완 고양이는 높은 비율로 domestic 잡종인것을 아래 참조 자료를 통해 확인하였음. 잡종인 만큼 size를 예측하기 힘들기 때문에 domestic이라는 카테고리를 따로 형성함. 내용은 아래 Reference 참고."
   ]
  },
  {
   "cell_type": "markdown",
   "metadata": {},
   "source": [
    "### 13) 개/고양이 Size 인자형성\n",
    "\n",
    "#### Reference: https://stackoverflow.com/questions/16380326/check-if-substring-is-in-a-list-of-strings"
   ]
  },
  {
   "cell_type": "code",
   "execution_count": 70,
   "metadata": {},
   "outputs": [
    {
     "data": {
      "text/html": [
       "<div>\n",
       "<style>\n",
       "    .dataframe thead tr:only-child th {\n",
       "        text-align: right;\n",
       "    }\n",
       "\n",
       "    .dataframe thead th {\n",
       "        text-align: left;\n",
       "    }\n",
       "\n",
       "    .dataframe tbody tr th {\n",
       "        vertical-align: top;\n",
       "    }\n",
       "</style>\n",
       "<table border=\"1\" class=\"dataframe\">\n",
       "  <thead>\n",
       "    <tr style=\"text-align: right;\">\n",
       "      <th></th>\n",
       "      <th>AnimalID</th>\n",
       "      <th>Name</th>\n",
       "      <th>AnimalType</th>\n",
       "      <th>SexuponOutcome</th>\n",
       "      <th>AgeuponOutcome</th>\n",
       "      <th>Breed</th>\n",
       "      <th>Color</th>\n",
       "      <th>Date</th>\n",
       "      <th>OutcomeYear</th>\n",
       "      <th>OutcomeMonth</th>\n",
       "      <th>OutcomeDay</th>\n",
       "      <th>OutcomeHour</th>\n",
       "      <th>OutcomeSeason</th>\n",
       "    </tr>\n",
       "  </thead>\n",
       "  <tbody>\n",
       "    <tr>\n",
       "      <th>11451</th>\n",
       "      <td>11452</td>\n",
       "      <td>0</td>\n",
       "      <td>0</td>\n",
       "      <td>Neutered Male</td>\n",
       "      <td>60.0</td>\n",
       "      <td>Domestic Shorthair Mix</td>\n",
       "      <td>Black</td>\n",
       "      <td>201407</td>\n",
       "      <td>2014</td>\n",
       "      <td>07</td>\n",
       "      <td>08</td>\n",
       "      <td>14</td>\n",
       "      <td>summer</td>\n",
       "    </tr>\n",
       "    <tr>\n",
       "      <th>11452</th>\n",
       "      <td>11453</td>\n",
       "      <td>0</td>\n",
       "      <td>0</td>\n",
       "      <td>Intact Female</td>\n",
       "      <td>14.0</td>\n",
       "      <td>Domestic Shorthair Mix</td>\n",
       "      <td>Blue</td>\n",
       "      <td>201410</td>\n",
       "      <td>2014</td>\n",
       "      <td>10</td>\n",
       "      <td>21</td>\n",
       "      <td>12</td>\n",
       "      <td>fall</td>\n",
       "    </tr>\n",
       "    <tr>\n",
       "      <th>11453</th>\n",
       "      <td>11454</td>\n",
       "      <td>0</td>\n",
       "      <td>0</td>\n",
       "      <td>Intact Female</td>\n",
       "      <td>365.0</td>\n",
       "      <td>Domestic Shorthair Mix</td>\n",
       "      <td>Calico</td>\n",
       "      <td>201409</td>\n",
       "      <td>2014</td>\n",
       "      <td>09</td>\n",
       "      <td>29</td>\n",
       "      <td>9:</td>\n",
       "      <td>fall</td>\n",
       "    </tr>\n",
       "    <tr>\n",
       "      <th>11454</th>\n",
       "      <td>11455</td>\n",
       "      <td>1</td>\n",
       "      <td>1</td>\n",
       "      <td>Neutered Male</td>\n",
       "      <td>2190.0</td>\n",
       "      <td>German Shepherd Mix</td>\n",
       "      <td>Black/Tan</td>\n",
       "      <td>201509</td>\n",
       "      <td>2015</td>\n",
       "      <td>09</td>\n",
       "      <td>05</td>\n",
       "      <td>17</td>\n",
       "      <td>fall</td>\n",
       "    </tr>\n",
       "    <tr>\n",
       "      <th>11455</th>\n",
       "      <td>11456</td>\n",
       "      <td>1</td>\n",
       "      <td>1</td>\n",
       "      <td>Intact Male</td>\n",
       "      <td>1460.0</td>\n",
       "      <td>Labrador Retriever</td>\n",
       "      <td>Cream</td>\n",
       "      <td>201407</td>\n",
       "      <td>2014</td>\n",
       "      <td>07</td>\n",
       "      <td>12</td>\n",
       "      <td>18</td>\n",
       "      <td>summer</td>\n",
       "    </tr>\n",
       "  </tbody>\n",
       "</table>\n",
       "</div>"
      ],
      "text/plain": [
       "      AnimalID  Name  AnimalType SexuponOutcome  AgeuponOutcome  \\\n",
       "11451    11452     0           0  Neutered Male            60.0   \n",
       "11452    11453     0           0  Intact Female            14.0   \n",
       "11453    11454     0           0  Intact Female           365.0   \n",
       "11454    11455     1           1  Neutered Male          2190.0   \n",
       "11455    11456     1           1    Intact Male          1460.0   \n",
       "\n",
       "                        Breed      Color    Date OutcomeYear OutcomeMonth  \\\n",
       "11451  Domestic Shorthair Mix      Black  201407        2014           07   \n",
       "11452  Domestic Shorthair Mix       Blue  201410        2014           10   \n",
       "11453  Domestic Shorthair Mix     Calico  201409        2014           09   \n",
       "11454     German Shepherd Mix  Black/Tan  201509        2015           09   \n",
       "11455      Labrador Retriever      Cream  201407        2014           07   \n",
       "\n",
       "      OutcomeDay OutcomeHour OutcomeSeason  \n",
       "11451         08          14        summer  \n",
       "11452         21          12          fall  \n",
       "11453         29          9:          fall  \n",
       "11454         05          17          fall  \n",
       "11455         12          18        summer  "
      ]
     },
     "execution_count": 70,
     "metadata": {},
     "output_type": "execute_result"
    }
   ],
   "source": [
    "data_combined.tail()"
   ]
  },
  {
   "cell_type": "code",
   "execution_count": 71,
   "metadata": {
    "collapsed": true
   },
   "outputs": [],
   "source": [
    "def convert_breed(type_list, breed_list, small_list, medium_list, large_list, giant_list,\n",
    "                  small_cat_list, medium_cat_list, large_cat_list, domestic_cat_list):\n",
    "    '''Reference: https://stackoverflow.com/questions/16380326/check-if-substring-is-in-a-list-of-strings\n",
    "    that is a really smart and succinct solution for checking substring existence in a list of strings'''\n",
    "    \n",
    "    '''The incoming list a list of breeds with the keyword \"mix\" removed and converted\n",
    "    to lower case. No need for extra preprocessing. Also the dog lists are all converted\n",
    "    to lower case as well. Type list is to check whether the breed belongs to dog or cat'''\n",
    "    if len(type_list) != len(breed_list):\n",
    "        print('Two lists must have equal length!')\n",
    "        return None\n",
    "    \n",
    "    '''Convert the list into a string format for easier processing'''\n",
    "    small_combined = '\\t'.join(small_list)\n",
    "    medium_combined = '\\t'.join(medium_list)\n",
    "    large_combined = '\\t'.join(large_list)\n",
    "    giant_combined = '\\t'.join(giant_list)\n",
    "    \n",
    "    breed_compile, excluded_list, mix_breed_list, cat_breed_list = [], [], [], []\n",
    "    for animal_type, breed in zip(type_list, breed_list):\n",
    "        if '/' in breed: #Mixed type categorization\n",
    "            mix_breed_list.append(breed)\n",
    "            breed_compile.append('mix')\n",
    "        elif animal_type == 0: #Cat breed categorization\n",
    "            cat_breed_list.append(breed)\n",
    "            if breed in small_cat_list:\n",
    "                breed_compile.append('small_cat')\n",
    "            elif breed in medium_cat_list:\n",
    "                breed_compile.append('medium_cat')\n",
    "            elif breed in large_cat_list:\n",
    "                breed_compile.append('large_cat')\n",
    "            elif breed in domestic_cat_list:\n",
    "                breed_compile.append('domestic')\n",
    "            else:\n",
    "                excluded_list.append(breed)\n",
    "        elif animal_type == 1: #Dog breed categorization\n",
    "            if breed in small_combined:\n",
    "                breed_compile.append('small')\n",
    "            elif breed in medium_combined:\n",
    "                breed_compile.append('medium')\n",
    "            elif breed in large_combined:\n",
    "                breed_compile.append('large')\n",
    "            elif breed in giant_combined:\n",
    "                breed_compile.append('giant')\n",
    "            else:\n",
    "                excluded_list.append(breed)\n",
    "                breed_compile.append('unknown')\n",
    "    return breed_compile, excluded_list, mix_breed_list, cat_breed_list"
   ]
  },
  {
   "cell_type": "code",
   "execution_count": 72,
   "metadata": {},
   "outputs": [
    {
     "name": "stdout",
     "output_type": "stream",
     "text": [
      "['unknown']\n"
     ]
    }
   ],
   "source": [
    "'''Compare the breed in the data to crawled size lists and create a list indicating\n",
    "the size of each breed. By zipping two lists, we can also ignore species that\n",
    "belong to cats. Some breed names were manually modified to fit the crawled list'''\n",
    "type_list = list(data_combined['AnimalType'])\n",
    "\n",
    "convert_list, excluded_list_dog, mix_breed_list_dog, cat_breed_list = convert_breed(type_list, \n",
    "                                     breed_remove_mix, small_dog_compile, \n",
    "                                     medium_dog_compile, large_dog_compile, giant_dog_compile,\n",
    "                                     small_cat_list, medium_cat_list, large_cat_list, domestic)\n",
    "\n",
    "'''With the manual correction to dog breed, this list should only contain unknown values'''\n",
    "excluded_unique_dog = list(set(excluded_list_dog))\n",
    "print(excluded_unique_dog)"
   ]
  },
  {
   "cell_type": "code",
   "execution_count": 73,
   "metadata": {},
   "outputs": [
    {
     "name": "stdout",
     "output_type": "stream",
     "text": [
      "{'bengal', 'domestic shorthair', 'sphynx', 'persian', 'devon rex', 'chartreux', 'oriental sh', 'domestic longhair', 'japanese bobtail', 'snowshoe', 'british shorthair', 'turkish van', 'javanese', 'domestic medium hair', 'munchkin shorthair', 'russian blue', 'angora', 'scottish fold', 'havana brown', 'abyssinian', 'manx', 'pixiebob shorthair', 'cymric', 'american shorthair', 'burmese', 'tonkinese', 'norwegian forest cat', 'cornish rex', 'balinese', 'munchkin longhair', 'exotic shorthair', 'maine coon', 'himalayan', 'ocicat', 'american wirehair', 'siamese', 'ragdoll', 'bombay', 'turkish angora'}\n"
     ]
    }
   ],
   "source": [
    "print(set(cat_breed_list))"
   ]
  },
  {
   "cell_type": "code",
   "execution_count": 74,
   "metadata": {},
   "outputs": [
    {
     "name": "stdout",
     "output_type": "stream",
     "text": [
      "38185\n"
     ]
    }
   ],
   "source": [
    "print(len(convert_list))"
   ]
  },
  {
   "cell_type": "code",
   "execution_count": 75,
   "metadata": {},
   "outputs": [
    {
     "data": {
      "text/html": [
       "<div>\n",
       "<style>\n",
       "    .dataframe thead tr:only-child th {\n",
       "        text-align: right;\n",
       "    }\n",
       "\n",
       "    .dataframe thead th {\n",
       "        text-align: left;\n",
       "    }\n",
       "\n",
       "    .dataframe tbody tr th {\n",
       "        vertical-align: top;\n",
       "    }\n",
       "</style>\n",
       "<table border=\"1\" class=\"dataframe\">\n",
       "  <thead>\n",
       "    <tr style=\"text-align: right;\">\n",
       "      <th></th>\n",
       "      <th>AnimalID</th>\n",
       "      <th>Name</th>\n",
       "      <th>AnimalType</th>\n",
       "      <th>SexuponOutcome</th>\n",
       "      <th>AgeuponOutcome</th>\n",
       "      <th>Breed</th>\n",
       "      <th>Color</th>\n",
       "      <th>Date</th>\n",
       "      <th>OutcomeYear</th>\n",
       "      <th>OutcomeMonth</th>\n",
       "      <th>OutcomeDay</th>\n",
       "      <th>OutcomeHour</th>\n",
       "      <th>OutcomeSeason</th>\n",
       "      <th>Size</th>\n",
       "    </tr>\n",
       "  </thead>\n",
       "  <tbody>\n",
       "    <tr>\n",
       "      <th>11451</th>\n",
       "      <td>11452</td>\n",
       "      <td>0</td>\n",
       "      <td>0</td>\n",
       "      <td>Neutered Male</td>\n",
       "      <td>60.0</td>\n",
       "      <td>Domestic Shorthair Mix</td>\n",
       "      <td>Black</td>\n",
       "      <td>201407</td>\n",
       "      <td>2014</td>\n",
       "      <td>07</td>\n",
       "      <td>08</td>\n",
       "      <td>14</td>\n",
       "      <td>summer</td>\n",
       "      <td>domestic</td>\n",
       "    </tr>\n",
       "    <tr>\n",
       "      <th>11452</th>\n",
       "      <td>11453</td>\n",
       "      <td>0</td>\n",
       "      <td>0</td>\n",
       "      <td>Intact Female</td>\n",
       "      <td>14.0</td>\n",
       "      <td>Domestic Shorthair Mix</td>\n",
       "      <td>Blue</td>\n",
       "      <td>201410</td>\n",
       "      <td>2014</td>\n",
       "      <td>10</td>\n",
       "      <td>21</td>\n",
       "      <td>12</td>\n",
       "      <td>fall</td>\n",
       "      <td>domestic</td>\n",
       "    </tr>\n",
       "    <tr>\n",
       "      <th>11453</th>\n",
       "      <td>11454</td>\n",
       "      <td>0</td>\n",
       "      <td>0</td>\n",
       "      <td>Intact Female</td>\n",
       "      <td>365.0</td>\n",
       "      <td>Domestic Shorthair Mix</td>\n",
       "      <td>Calico</td>\n",
       "      <td>201409</td>\n",
       "      <td>2014</td>\n",
       "      <td>09</td>\n",
       "      <td>29</td>\n",
       "      <td>9:</td>\n",
       "      <td>fall</td>\n",
       "      <td>domestic</td>\n",
       "    </tr>\n",
       "    <tr>\n",
       "      <th>11454</th>\n",
       "      <td>11455</td>\n",
       "      <td>1</td>\n",
       "      <td>1</td>\n",
       "      <td>Neutered Male</td>\n",
       "      <td>2190.0</td>\n",
       "      <td>German Shepherd Mix</td>\n",
       "      <td>Black/Tan</td>\n",
       "      <td>201509</td>\n",
       "      <td>2015</td>\n",
       "      <td>09</td>\n",
       "      <td>05</td>\n",
       "      <td>17</td>\n",
       "      <td>fall</td>\n",
       "      <td>large</td>\n",
       "    </tr>\n",
       "    <tr>\n",
       "      <th>11455</th>\n",
       "      <td>11456</td>\n",
       "      <td>1</td>\n",
       "      <td>1</td>\n",
       "      <td>Intact Male</td>\n",
       "      <td>1460.0</td>\n",
       "      <td>Labrador Retriever</td>\n",
       "      <td>Cream</td>\n",
       "      <td>201407</td>\n",
       "      <td>2014</td>\n",
       "      <td>07</td>\n",
       "      <td>12</td>\n",
       "      <td>18</td>\n",
       "      <td>summer</td>\n",
       "      <td>medium</td>\n",
       "    </tr>\n",
       "  </tbody>\n",
       "</table>\n",
       "</div>"
      ],
      "text/plain": [
       "      AnimalID  Name  AnimalType SexuponOutcome  AgeuponOutcome  \\\n",
       "11451    11452     0           0  Neutered Male            60.0   \n",
       "11452    11453     0           0  Intact Female            14.0   \n",
       "11453    11454     0           0  Intact Female           365.0   \n",
       "11454    11455     1           1  Neutered Male          2190.0   \n",
       "11455    11456     1           1    Intact Male          1460.0   \n",
       "\n",
       "                        Breed      Color    Date OutcomeYear OutcomeMonth  \\\n",
       "11451  Domestic Shorthair Mix      Black  201407        2014           07   \n",
       "11452  Domestic Shorthair Mix       Blue  201410        2014           10   \n",
       "11453  Domestic Shorthair Mix     Calico  201409        2014           09   \n",
       "11454     German Shepherd Mix  Black/Tan  201509        2015           09   \n",
       "11455      Labrador Retriever      Cream  201407        2014           07   \n",
       "\n",
       "      OutcomeDay OutcomeHour OutcomeSeason      Size  \n",
       "11451         08          14        summer  domestic  \n",
       "11452         21          12          fall  domestic  \n",
       "11453         29          9:          fall  domestic  \n",
       "11454         05          17          fall     large  \n",
       "11455         12          18        summer    medium  "
      ]
     },
     "execution_count": 75,
     "metadata": {},
     "output_type": "execute_result"
    }
   ],
   "source": [
    "'''Whew finally add the cleansed convert_dog_list to our data_train DataFrame'''\n",
    "data_combined['Size'] = convert_list\n",
    "data_combined.tail()"
   ]
  },
  {
   "cell_type": "markdown",
   "metadata": {},
   "source": [
    "#### Size column에 우리가 예상하는 값만 있는지 확인"
   ]
  },
  {
   "cell_type": "code",
   "execution_count": 76,
   "metadata": {},
   "outputs": [
    {
     "name": "stdout",
     "output_type": "stream",
     "text": [
      "['small', 'domestic', 'medium', 'mix', 'giant', 'medium_cat', 'large', 'large_cat', 'unknown', 'small_cat']\n"
     ]
    }
   ],
   "source": [
    "'''Confirm that only expected values small, medium, large, giant, unknown and domestic\n",
    "are present in the Size column'''\n",
    "size_check_list = list(data_combined['Size'].unique())\n",
    "print(size_check_list)"
   ]
  },
  {
   "cell_type": "markdown",
   "metadata": {},
   "source": [
    "#### 고양이 경우 앞서 말했듯이 domestic종이 다른 종에 비해 압도적으로 많은 것으로 확인됨. 따라서 차후 머신러닝 알고리즘 적용시 고양이와 개의 분류는 AnimalType에 의해서 이루어 질지 아니면 domestic이라는 종에 의해서 이루어 질지 확인해볼 필요가 있음\n",
    "\n",
    "#### 완변하진 않지만 각각 결과값에 따른 애완견 사이즈별 비율이 비슷한 형태를 하고 있는것으로 판단됨. 어쩌면 size가 생각보다 중요하지 않은 인자일수도? "
   ]
  },
  {
   "cell_type": "markdown",
   "metadata": {},
   "source": [
    "### 18) Breed와 Color를 Main과 Sub 그룹으로 각각 나누는 작업\n",
    "\n",
    "#### 우선 잡종중에서 3개 이상의 종이 섞인 케이스가 몇개인지 판단"
   ]
  },
  {
   "cell_type": "code",
   "execution_count": 77,
   "metadata": {},
   "outputs": [
    {
     "name": "stdout",
     "output_type": "stream",
     "text": [
      "10\n"
     ]
    }
   ],
   "source": [
    "check_breed = list(data_train['Breed'])\n",
    "count = 0\n",
    "for item in check_breed:\n",
    "    if item.count('/') == 2:\n",
    "        count += 1\n",
    "print(count)"
   ]
  },
  {
   "cell_type": "markdown",
   "metadata": {},
   "source": [
    "#### 10개밖에 없기때문에 잡종일 경우 main과 sub로만 분리 (원래 계획은 sub1, sub2로 나눌 계획이었음)"
   ]
  },
  {
   "cell_type": "code",
   "execution_count": 78,
   "metadata": {
    "collapsed": true
   },
   "outputs": [],
   "source": [
    "def main_sub_separator(separate_list):\n",
    "    '''This function separates the breed into main and sub breed columns'''\n",
    "    main, sub = [], []\n",
    "    for item in separate_list:\n",
    "        if item.count('/') == 0:\n",
    "            main.append(item)\n",
    "            sub.append('NA')\n",
    "        elif item.count('/') == 1 or item.count('/') == 2:\n",
    "            temp_list = item.split('/')\n",
    "            main.append(temp_list[0])\n",
    "            sub.append(temp_list[1])\n",
    "    return main, sub"
   ]
  },
  {
   "cell_type": "code",
   "execution_count": 79,
   "metadata": {
    "collapsed": true
   },
   "outputs": [],
   "source": [
    "#Animal Breed Separator\n",
    "main_breed, sub_breed = main_sub_separator(breed_remove_mix)\n",
    "data_combined['Main_Breed'], data_combined['Sub_Breed'] = main_breed, sub_breed"
   ]
  },
  {
   "cell_type": "code",
   "execution_count": 80,
   "metadata": {
    "collapsed": true
   },
   "outputs": [],
   "source": [
    "#Color Separator\n",
    "color_list = list(data_combined['Color'])\n",
    "main_color, sub_color = main_sub_separator(color_list)\n",
    "data_combined['Main_Color'], data_combined['Sub_Color'] = main_color, sub_color"
   ]
  },
  {
   "cell_type": "code",
   "execution_count": 81,
   "metadata": {},
   "outputs": [
    {
     "data": {
      "text/html": [
       "<div>\n",
       "<style>\n",
       "    .dataframe thead tr:only-child th {\n",
       "        text-align: right;\n",
       "    }\n",
       "\n",
       "    .dataframe thead th {\n",
       "        text-align: left;\n",
       "    }\n",
       "\n",
       "    .dataframe tbody tr th {\n",
       "        vertical-align: top;\n",
       "    }\n",
       "</style>\n",
       "<table border=\"1\" class=\"dataframe\">\n",
       "  <thead>\n",
       "    <tr style=\"text-align: right;\">\n",
       "      <th></th>\n",
       "      <th>AnimalID</th>\n",
       "      <th>Name</th>\n",
       "      <th>AnimalType</th>\n",
       "      <th>SexuponOutcome</th>\n",
       "      <th>AgeuponOutcome</th>\n",
       "      <th>Breed</th>\n",
       "      <th>Color</th>\n",
       "      <th>Date</th>\n",
       "      <th>OutcomeYear</th>\n",
       "      <th>OutcomeMonth</th>\n",
       "      <th>OutcomeDay</th>\n",
       "      <th>OutcomeHour</th>\n",
       "      <th>OutcomeSeason</th>\n",
       "      <th>Size</th>\n",
       "      <th>Main_Breed</th>\n",
       "      <th>Sub_Breed</th>\n",
       "      <th>Main_Color</th>\n",
       "      <th>Sub_Color</th>\n",
       "    </tr>\n",
       "  </thead>\n",
       "  <tbody>\n",
       "    <tr>\n",
       "      <th>0</th>\n",
       "      <td>A671945</td>\n",
       "      <td>1</td>\n",
       "      <td>1</td>\n",
       "      <td>Neutered Male</td>\n",
       "      <td>365.0</td>\n",
       "      <td>Shetland Sheepdog Mix</td>\n",
       "      <td>Brown/White</td>\n",
       "      <td>201402</td>\n",
       "      <td>2014</td>\n",
       "      <td>02</td>\n",
       "      <td>12</td>\n",
       "      <td>18</td>\n",
       "      <td>winter</td>\n",
       "      <td>small</td>\n",
       "      <td>shetland sheepdog</td>\n",
       "      <td>NA</td>\n",
       "      <td>Brown</td>\n",
       "      <td>White</td>\n",
       "    </tr>\n",
       "    <tr>\n",
       "      <th>1</th>\n",
       "      <td>A656520</td>\n",
       "      <td>1</td>\n",
       "      <td>0</td>\n",
       "      <td>Spayed Female</td>\n",
       "      <td>365.0</td>\n",
       "      <td>Domestic Shorthair Mix</td>\n",
       "      <td>Cream Tabby</td>\n",
       "      <td>201310</td>\n",
       "      <td>2013</td>\n",
       "      <td>10</td>\n",
       "      <td>13</td>\n",
       "      <td>12</td>\n",
       "      <td>fall</td>\n",
       "      <td>domestic</td>\n",
       "      <td>domestic shorthair</td>\n",
       "      <td>NA</td>\n",
       "      <td>Cream Tabby</td>\n",
       "      <td>NA</td>\n",
       "    </tr>\n",
       "    <tr>\n",
       "      <th>2</th>\n",
       "      <td>A686464</td>\n",
       "      <td>1</td>\n",
       "      <td>1</td>\n",
       "      <td>Neutered Male</td>\n",
       "      <td>730.0</td>\n",
       "      <td>Pit Bull Mix</td>\n",
       "      <td>Blue/White</td>\n",
       "      <td>201501</td>\n",
       "      <td>2015</td>\n",
       "      <td>01</td>\n",
       "      <td>31</td>\n",
       "      <td>12</td>\n",
       "      <td>winter</td>\n",
       "      <td>medium</td>\n",
       "      <td>pit bull</td>\n",
       "      <td>NA</td>\n",
       "      <td>Blue</td>\n",
       "      <td>White</td>\n",
       "    </tr>\n",
       "    <tr>\n",
       "      <th>3</th>\n",
       "      <td>A683430</td>\n",
       "      <td>0</td>\n",
       "      <td>0</td>\n",
       "      <td>Intact Male</td>\n",
       "      <td>21.0</td>\n",
       "      <td>Domestic Shorthair Mix</td>\n",
       "      <td>Blue Cream</td>\n",
       "      <td>201407</td>\n",
       "      <td>2014</td>\n",
       "      <td>07</td>\n",
       "      <td>11</td>\n",
       "      <td>19</td>\n",
       "      <td>summer</td>\n",
       "      <td>domestic</td>\n",
       "      <td>domestic shorthair</td>\n",
       "      <td>NA</td>\n",
       "      <td>Blue Cream</td>\n",
       "      <td>NA</td>\n",
       "    </tr>\n",
       "    <tr>\n",
       "      <th>4</th>\n",
       "      <td>A667013</td>\n",
       "      <td>0</td>\n",
       "      <td>1</td>\n",
       "      <td>Neutered Male</td>\n",
       "      <td>730.0</td>\n",
       "      <td>Lhasa Apso/Miniature Poodle</td>\n",
       "      <td>Tan</td>\n",
       "      <td>201311</td>\n",
       "      <td>2013</td>\n",
       "      <td>11</td>\n",
       "      <td>15</td>\n",
       "      <td>12</td>\n",
       "      <td>fall</td>\n",
       "      <td>mix</td>\n",
       "      <td>lhasa apso</td>\n",
       "      <td>miniature poodle</td>\n",
       "      <td>Tan</td>\n",
       "      <td>NA</td>\n",
       "    </tr>\n",
       "  </tbody>\n",
       "</table>\n",
       "</div>"
      ],
      "text/plain": [
       "  AnimalID  Name  AnimalType SexuponOutcome  AgeuponOutcome  \\\n",
       "0  A671945     1           1  Neutered Male           365.0   \n",
       "1  A656520     1           0  Spayed Female           365.0   \n",
       "2  A686464     1           1  Neutered Male           730.0   \n",
       "3  A683430     0           0    Intact Male            21.0   \n",
       "4  A667013     0           1  Neutered Male           730.0   \n",
       "\n",
       "                         Breed        Color    Date OutcomeYear OutcomeMonth  \\\n",
       "0        Shetland Sheepdog Mix  Brown/White  201402        2014           02   \n",
       "1       Domestic Shorthair Mix  Cream Tabby  201310        2013           10   \n",
       "2                 Pit Bull Mix   Blue/White  201501        2015           01   \n",
       "3       Domestic Shorthair Mix   Blue Cream  201407        2014           07   \n",
       "4  Lhasa Apso/Miniature Poodle          Tan  201311        2013           11   \n",
       "\n",
       "  OutcomeDay OutcomeHour OutcomeSeason      Size          Main_Breed  \\\n",
       "0         12          18        winter     small   shetland sheepdog   \n",
       "1         13          12          fall  domestic  domestic shorthair   \n",
       "2         31          12        winter    medium            pit bull   \n",
       "3         11          19        summer  domestic  domestic shorthair   \n",
       "4         15          12          fall       mix          lhasa apso   \n",
       "\n",
       "          Sub_Breed   Main_Color Sub_Color  \n",
       "0                NA        Brown     White  \n",
       "1                NA  Cream Tabby        NA  \n",
       "2                NA         Blue     White  \n",
       "3                NA   Blue Cream        NA  \n",
       "4  miniature poodle          Tan        NA  "
      ]
     },
     "execution_count": 81,
     "metadata": {},
     "output_type": "execute_result"
    }
   ],
   "source": [
    "#Check Data\n",
    "data_combined.head()"
   ]
  },
  {
   "cell_type": "code",
   "execution_count": 82,
   "metadata": {},
   "outputs": [
    {
     "data": {
      "text/html": [
       "<div>\n",
       "<style>\n",
       "    .dataframe thead tr:only-child th {\n",
       "        text-align: right;\n",
       "    }\n",
       "\n",
       "    .dataframe thead th {\n",
       "        text-align: left;\n",
       "    }\n",
       "\n",
       "    .dataframe tbody tr th {\n",
       "        vertical-align: top;\n",
       "    }\n",
       "</style>\n",
       "<table border=\"1\" class=\"dataframe\">\n",
       "  <thead>\n",
       "    <tr style=\"text-align: right;\">\n",
       "      <th></th>\n",
       "      <th>AnimalID</th>\n",
       "      <th>Name</th>\n",
       "      <th>AnimalType</th>\n",
       "      <th>SexuponOutcome</th>\n",
       "      <th>AgeuponOutcome</th>\n",
       "      <th>Breed</th>\n",
       "      <th>Color</th>\n",
       "      <th>Date</th>\n",
       "      <th>OutcomeYear</th>\n",
       "      <th>OutcomeMonth</th>\n",
       "      <th>OutcomeDay</th>\n",
       "      <th>OutcomeHour</th>\n",
       "      <th>OutcomeSeason</th>\n",
       "      <th>Size</th>\n",
       "      <th>Main_Breed</th>\n",
       "      <th>Sub_Breed</th>\n",
       "      <th>Main_Color</th>\n",
       "      <th>Sub_Color</th>\n",
       "    </tr>\n",
       "  </thead>\n",
       "  <tbody>\n",
       "    <tr>\n",
       "      <th>11451</th>\n",
       "      <td>11452</td>\n",
       "      <td>0</td>\n",
       "      <td>0</td>\n",
       "      <td>Neutered Male</td>\n",
       "      <td>60.0</td>\n",
       "      <td>Domestic Shorthair Mix</td>\n",
       "      <td>Black</td>\n",
       "      <td>201407</td>\n",
       "      <td>2014</td>\n",
       "      <td>07</td>\n",
       "      <td>08</td>\n",
       "      <td>14</td>\n",
       "      <td>summer</td>\n",
       "      <td>domestic</td>\n",
       "      <td>domestic shorthair</td>\n",
       "      <td>NA</td>\n",
       "      <td>Black</td>\n",
       "      <td>NA</td>\n",
       "    </tr>\n",
       "    <tr>\n",
       "      <th>11452</th>\n",
       "      <td>11453</td>\n",
       "      <td>0</td>\n",
       "      <td>0</td>\n",
       "      <td>Intact Female</td>\n",
       "      <td>14.0</td>\n",
       "      <td>Domestic Shorthair Mix</td>\n",
       "      <td>Blue</td>\n",
       "      <td>201410</td>\n",
       "      <td>2014</td>\n",
       "      <td>10</td>\n",
       "      <td>21</td>\n",
       "      <td>12</td>\n",
       "      <td>fall</td>\n",
       "      <td>domestic</td>\n",
       "      <td>domestic shorthair</td>\n",
       "      <td>NA</td>\n",
       "      <td>Blue</td>\n",
       "      <td>NA</td>\n",
       "    </tr>\n",
       "    <tr>\n",
       "      <th>11453</th>\n",
       "      <td>11454</td>\n",
       "      <td>0</td>\n",
       "      <td>0</td>\n",
       "      <td>Intact Female</td>\n",
       "      <td>365.0</td>\n",
       "      <td>Domestic Shorthair Mix</td>\n",
       "      <td>Calico</td>\n",
       "      <td>201409</td>\n",
       "      <td>2014</td>\n",
       "      <td>09</td>\n",
       "      <td>29</td>\n",
       "      <td>9:</td>\n",
       "      <td>fall</td>\n",
       "      <td>domestic</td>\n",
       "      <td>domestic shorthair</td>\n",
       "      <td>NA</td>\n",
       "      <td>Calico</td>\n",
       "      <td>NA</td>\n",
       "    </tr>\n",
       "    <tr>\n",
       "      <th>11454</th>\n",
       "      <td>11455</td>\n",
       "      <td>1</td>\n",
       "      <td>1</td>\n",
       "      <td>Neutered Male</td>\n",
       "      <td>2190.0</td>\n",
       "      <td>German Shepherd Mix</td>\n",
       "      <td>Black/Tan</td>\n",
       "      <td>201509</td>\n",
       "      <td>2015</td>\n",
       "      <td>09</td>\n",
       "      <td>05</td>\n",
       "      <td>17</td>\n",
       "      <td>fall</td>\n",
       "      <td>large</td>\n",
       "      <td>german shepherd</td>\n",
       "      <td>NA</td>\n",
       "      <td>Black</td>\n",
       "      <td>Tan</td>\n",
       "    </tr>\n",
       "    <tr>\n",
       "      <th>11455</th>\n",
       "      <td>11456</td>\n",
       "      <td>1</td>\n",
       "      <td>1</td>\n",
       "      <td>Intact Male</td>\n",
       "      <td>1460.0</td>\n",
       "      <td>Labrador Retriever</td>\n",
       "      <td>Cream</td>\n",
       "      <td>201407</td>\n",
       "      <td>2014</td>\n",
       "      <td>07</td>\n",
       "      <td>12</td>\n",
       "      <td>18</td>\n",
       "      <td>summer</td>\n",
       "      <td>medium</td>\n",
       "      <td>labrador retriever</td>\n",
       "      <td>NA</td>\n",
       "      <td>Cream</td>\n",
       "      <td>NA</td>\n",
       "    </tr>\n",
       "  </tbody>\n",
       "</table>\n",
       "</div>"
      ],
      "text/plain": [
       "      AnimalID  Name  AnimalType SexuponOutcome  AgeuponOutcome  \\\n",
       "11451    11452     0           0  Neutered Male            60.0   \n",
       "11452    11453     0           0  Intact Female            14.0   \n",
       "11453    11454     0           0  Intact Female           365.0   \n",
       "11454    11455     1           1  Neutered Male          2190.0   \n",
       "11455    11456     1           1    Intact Male          1460.0   \n",
       "\n",
       "                        Breed      Color    Date OutcomeYear OutcomeMonth  \\\n",
       "11451  Domestic Shorthair Mix      Black  201407        2014           07   \n",
       "11452  Domestic Shorthair Mix       Blue  201410        2014           10   \n",
       "11453  Domestic Shorthair Mix     Calico  201409        2014           09   \n",
       "11454     German Shepherd Mix  Black/Tan  201509        2015           09   \n",
       "11455      Labrador Retriever      Cream  201407        2014           07   \n",
       "\n",
       "      OutcomeDay OutcomeHour OutcomeSeason      Size          Main_Breed  \\\n",
       "11451         08          14        summer  domestic  domestic shorthair   \n",
       "11452         21          12          fall  domestic  domestic shorthair   \n",
       "11453         29          9:          fall  domestic  domestic shorthair   \n",
       "11454         05          17          fall     large     german shepherd   \n",
       "11455         12          18        summer    medium  labrador retriever   \n",
       "\n",
       "      Sub_Breed Main_Color Sub_Color  \n",
       "11451        NA      Black        NA  \n",
       "11452        NA       Blue        NA  \n",
       "11453        NA     Calico        NA  \n",
       "11454        NA      Black       Tan  \n",
       "11455        NA      Cream        NA  "
      ]
     },
     "execution_count": 82,
     "metadata": {},
     "output_type": "execute_result"
    }
   ],
   "source": [
    "#Check Data`\n",
    "data_combined.tail()"
   ]
  },
  {
   "cell_type": "markdown",
   "metadata": {},
   "source": [
    "### 개/고양이 선호도 랭킹 인자\n",
    "\n",
    "#### Reference: https://nishadikirielle.wordpress.com/2016/10/08/kaggle-competition-shelter-animal-problem-xgboost-approach/\n",
    "\n",
    "Size, 선호도 랭킹 웹사이트에 의하면 개는 2016년 선호도 랭킹 고양이는 2014년 손호도 랭킹 정보가 있다. 각각의 인자를 rank_dog와 rank_cat으로 구분하여서 형성. rank_dog일 경우 고양이거나 랭킹이 없을경우 0으로 설정, rank_cat의 경우 개이거나 랭킹이 없을경우 마찬가지로 0으로 설정.\n",
    "\n",
    "실제 들어갈 데이터는 랭킹이 아니라 maximum_ranking - actual_ranking이라는 인자로 넣을 계획. 이렇게 될 경우 높은 랭킹을 가진 종은 점수가 높을 것이고 낮은 랭킹을 가질경우 당연히 낮은 점수를 가지고 가게 될것이다.\n",
    "\n",
    "데이터 형성은 위쪽 Crawling에서 작성한 rank_dict_dog와 rank_dict_cat와 data_combined의 Main_Breed column을 이용한다."
   ]
  },
  {
   "cell_type": "code",
   "execution_count": 83,
   "metadata": {},
   "outputs": [
    {
     "data": {
      "text/plain": [
       "domestic      14845\n",
       "medium         8846\n",
       "small          6767\n",
       "mix            4357\n",
       "large          2059\n",
       "medium_cat      928\n",
       "giant           257\n",
       "large_cat       122\n",
       "small_cat         2\n",
       "unknown           2\n",
       "Name: Size, dtype: int64"
      ]
     },
     "execution_count": 83,
     "metadata": {},
     "output_type": "execute_result"
    }
   ],
   "source": [
    "data_combined['Size'].value_counts()"
   ]
  },
  {
   "cell_type": "code",
   "execution_count": 84,
   "metadata": {},
   "outputs": [
    {
     "data": {
      "text/plain": [
       "1    22251\n",
       "0    15934\n",
       "Name: AnimalType, dtype: int64"
      ]
     },
     "execution_count": 84,
     "metadata": {},
     "output_type": "execute_result"
    }
   ],
   "source": [
    "#1 for dog and 0 for cat\n",
    "data_combined['AnimalType'].value_counts()"
   ]
  },
  {
   "cell_type": "markdown",
   "metadata": {},
   "source": [
    "#### 고양이의 경우 전체 (train.csv + test.csv) 15934데이터중 14845개가 domestic type인것으로 확인되었다. 고양이는 굳이 선호도 랭킹을 적용할 필요없고 강아지 랭킹 column에 고양이일 경우도 그냥 0값으로 대체하는것이 좋을것을 판단됨."
   ]
  },
  {
   "cell_type": "code",
   "execution_count": 85,
   "metadata": {},
   "outputs": [
    {
     "data": {
      "text/plain": [
       "0                     shetland sheepdog\n",
       "1                    domestic shorthair\n",
       "2                              pit bull\n",
       "3                    domestic shorthair\n",
       "4                            lhasa apso\n",
       "5                         cairn terrier\n",
       "6                    domestic shorthair\n",
       "7                    domestic shorthair\n",
       "8             american pit bull terrier\n",
       "9                         cairn terrier\n",
       "10                   domestic shorthair\n",
       "11                  miniature schnauzer\n",
       "12                             pit bull\n",
       "13                    yorkshire terrier\n",
       "14                       great pyrenees\n",
       "15                   domestic shorthair\n",
       "16                   domestic shorthair\n",
       "17                             pit bull\n",
       "18                               angora\n",
       "19                flat-coated retriever\n",
       "20                australian cattle dog\n",
       "21                   domestic shorthair\n",
       "22                          plott hound\n",
       "23                      german shepherd\n",
       "24                      german shepherd\n",
       "25                   domestic shorthair\n",
       "26       american staffordshire terrier\n",
       "27                            chihuahua\n",
       "28                   domestic shorthair\n",
       "29                         russian blue\n",
       "                      ...              \n",
       "11426                             boxer\n",
       "11427         american pit bull terrier\n",
       "11428                    siberian husky\n",
       "11429                   german shepherd\n",
       "11430                domestic shorthair\n",
       "11431                domestic shorthair\n",
       "11432                           maltese\n",
       "11433                domestic shorthair\n",
       "11434              cardigan welsh corgi\n",
       "11435                domestic shorthair\n",
       "11436                domestic shorthair\n",
       "11437                chihuahua longhair\n",
       "11438                labrador retriever\n",
       "11439                          pit bull\n",
       "11440                domestic shorthair\n",
       "11441                          pit bull\n",
       "11442                         chihuahua\n",
       "11443                 domestic longhair\n",
       "11444                domestic shorthair\n",
       "11445                domestic shorthair\n",
       "11446                domestic shorthair\n",
       "11447                         chihuahua\n",
       "11448                labrador retriever\n",
       "11449                    bearded collie\n",
       "11450                     staffordshire\n",
       "11451                domestic shorthair\n",
       "11452                domestic shorthair\n",
       "11453                domestic shorthair\n",
       "11454                   german shepherd\n",
       "11455                labrador retriever\n",
       "Name: Main_Breed, Length: 38185, dtype: object"
      ]
     },
     "execution_count": 85,
     "metadata": {},
     "output_type": "execute_result"
    }
   ],
   "source": [
    "temp = data_combined['Main_Breed']\n",
    "temp"
   ]
  },
  {
   "cell_type": "code",
   "execution_count": 86,
   "metadata": {},
   "outputs": [
    {
     "data": {
      "text/plain": [
       "0         24.0\n",
       "1          NaN\n",
       "2          NaN\n",
       "3          NaN\n",
       "4         71.0\n",
       "5         70.0\n",
       "6          NaN\n",
       "7          NaN\n",
       "8          NaN\n",
       "9         70.0\n",
       "10         NaN\n",
       "11        17.0\n",
       "12         NaN\n",
       "13         9.0\n",
       "14        67.0\n",
       "15         NaN\n",
       "16         NaN\n",
       "17         NaN\n",
       "18         NaN\n",
       "19        89.0\n",
       "20        54.0\n",
       "21         NaN\n",
       "22       158.0\n",
       "23         2.0\n",
       "24         2.0\n",
       "25         NaN\n",
       "26        81.0\n",
       "27        30.0\n",
       "28         NaN\n",
       "29         NaN\n",
       "         ...  \n",
       "11426     10.0\n",
       "11427      NaN\n",
       "11428     12.0\n",
       "11429      2.0\n",
       "11430      NaN\n",
       "11431      NaN\n",
       "11432     33.0\n",
       "11433      NaN\n",
       "11434     69.0\n",
       "11435      NaN\n",
       "11436      NaN\n",
       "11437      NaN\n",
       "11438      1.0\n",
       "11439      NaN\n",
       "11440      NaN\n",
       "11441      NaN\n",
       "11442     30.0\n",
       "11443      NaN\n",
       "11444      NaN\n",
       "11445      NaN\n",
       "11446      NaN\n",
       "11447     30.0\n",
       "11448      1.0\n",
       "11449    126.0\n",
       "11450      NaN\n",
       "11451      NaN\n",
       "11452      NaN\n",
       "11453      NaN\n",
       "11454      2.0\n",
       "11455      1.0\n",
       "Name: Main_Breed, Length: 38185, dtype: float64"
      ]
     },
     "execution_count": 86,
     "metadata": {},
     "output_type": "execute_result"
    }
   ],
   "source": [
    "temp2 = temp.map(rank_dict_dog)\n",
    "temp2"
   ]
  },
  {
   "cell_type": "code",
   "execution_count": 87,
   "metadata": {},
   "outputs": [
    {
     "data": {
      "text/plain": [
       "0        166.0\n",
       "1          NaN\n",
       "2          NaN\n",
       "3          NaN\n",
       "4        119.0\n",
       "5        120.0\n",
       "6          NaN\n",
       "7          NaN\n",
       "8          NaN\n",
       "9        120.0\n",
       "10         NaN\n",
       "11       173.0\n",
       "12         NaN\n",
       "13       181.0\n",
       "14       123.0\n",
       "15         NaN\n",
       "16         NaN\n",
       "17         NaN\n",
       "18         NaN\n",
       "19       101.0\n",
       "20       136.0\n",
       "21         NaN\n",
       "22        32.0\n",
       "23       188.0\n",
       "24       188.0\n",
       "25         NaN\n",
       "26       109.0\n",
       "27       160.0\n",
       "28         NaN\n",
       "29         NaN\n",
       "         ...  \n",
       "11426    180.0\n",
       "11427      NaN\n",
       "11428    178.0\n",
       "11429    188.0\n",
       "11430      NaN\n",
       "11431      NaN\n",
       "11432    157.0\n",
       "11433      NaN\n",
       "11434    121.0\n",
       "11435      NaN\n",
       "11436      NaN\n",
       "11437      NaN\n",
       "11438    189.0\n",
       "11439      NaN\n",
       "11440      NaN\n",
       "11441      NaN\n",
       "11442    160.0\n",
       "11443      NaN\n",
       "11444      NaN\n",
       "11445      NaN\n",
       "11446      NaN\n",
       "11447    160.0\n",
       "11448    189.0\n",
       "11449     64.0\n",
       "11450      NaN\n",
       "11451      NaN\n",
       "11452      NaN\n",
       "11453      NaN\n",
       "11454    188.0\n",
       "11455    189.0\n",
       "Name: Main_Breed, Length: 38185, dtype: float64"
      ]
     },
     "execution_count": 87,
     "metadata": {},
     "output_type": "execute_result"
    }
   ],
   "source": [
    "temp2 = 190 - temp2\n",
    "temp2"
   ]
  },
  {
   "cell_type": "code",
   "execution_count": 88,
   "metadata": {},
   "outputs": [
    {
     "data": {
      "text/plain": [
       "0        166.0\n",
       "1          0.0\n",
       "2          0.0\n",
       "3          0.0\n",
       "4        119.0\n",
       "5        120.0\n",
       "6          0.0\n",
       "7          0.0\n",
       "8          0.0\n",
       "9        120.0\n",
       "10         0.0\n",
       "11       173.0\n",
       "12         0.0\n",
       "13       181.0\n",
       "14       123.0\n",
       "15         0.0\n",
       "16         0.0\n",
       "17         0.0\n",
       "18         0.0\n",
       "19       101.0\n",
       "20       136.0\n",
       "21         0.0\n",
       "22        32.0\n",
       "23       188.0\n",
       "24       188.0\n",
       "25         0.0\n",
       "26       109.0\n",
       "27       160.0\n",
       "28         0.0\n",
       "29         0.0\n",
       "         ...  \n",
       "11426    180.0\n",
       "11427      0.0\n",
       "11428    178.0\n",
       "11429    188.0\n",
       "11430      0.0\n",
       "11431      0.0\n",
       "11432    157.0\n",
       "11433      0.0\n",
       "11434    121.0\n",
       "11435      0.0\n",
       "11436      0.0\n",
       "11437      0.0\n",
       "11438    189.0\n",
       "11439      0.0\n",
       "11440      0.0\n",
       "11441      0.0\n",
       "11442    160.0\n",
       "11443      0.0\n",
       "11444      0.0\n",
       "11445      0.0\n",
       "11446      0.0\n",
       "11447    160.0\n",
       "11448    189.0\n",
       "11449     64.0\n",
       "11450      0.0\n",
       "11451      0.0\n",
       "11452      0.0\n",
       "11453      0.0\n",
       "11454    188.0\n",
       "11455    189.0\n",
       "Name: Main_Breed, Length: 38185, dtype: float64"
      ]
     },
     "execution_count": 88,
     "metadata": {},
     "output_type": "execute_result"
    }
   ],
   "source": [
    "temp2.fillna(0, inplace = True)\n",
    "temp2"
   ]
  },
  {
   "cell_type": "code",
   "execution_count": 89,
   "metadata": {},
   "outputs": [
    {
     "name": "stdout",
     "output_type": "stream",
     "text": [
      "<class 'pandas.core.series.Series'>\n",
      "(38185,)\n"
     ]
    }
   ],
   "source": [
    "print(type(temp2))\n",
    "print(temp2.shape)"
   ]
  },
  {
   "cell_type": "code",
   "execution_count": 90,
   "metadata": {
    "collapsed": true
   },
   "outputs": [],
   "source": [
    "data_combined['Rank'] = temp2"
   ]
  },
  {
   "cell_type": "code",
   "execution_count": 91,
   "metadata": {},
   "outputs": [
    {
     "data": {
      "text/html": [
       "<div>\n",
       "<style>\n",
       "    .dataframe thead tr:only-child th {\n",
       "        text-align: right;\n",
       "    }\n",
       "\n",
       "    .dataframe thead th {\n",
       "        text-align: left;\n",
       "    }\n",
       "\n",
       "    .dataframe tbody tr th {\n",
       "        vertical-align: top;\n",
       "    }\n",
       "</style>\n",
       "<table border=\"1\" class=\"dataframe\">\n",
       "  <thead>\n",
       "    <tr style=\"text-align: right;\">\n",
       "      <th></th>\n",
       "      <th>AnimalID</th>\n",
       "      <th>Name</th>\n",
       "      <th>AnimalType</th>\n",
       "      <th>SexuponOutcome</th>\n",
       "      <th>AgeuponOutcome</th>\n",
       "      <th>Breed</th>\n",
       "      <th>Color</th>\n",
       "      <th>Date</th>\n",
       "      <th>OutcomeYear</th>\n",
       "      <th>OutcomeMonth</th>\n",
       "      <th>OutcomeDay</th>\n",
       "      <th>OutcomeHour</th>\n",
       "      <th>OutcomeSeason</th>\n",
       "      <th>Size</th>\n",
       "      <th>Main_Breed</th>\n",
       "      <th>Sub_Breed</th>\n",
       "      <th>Main_Color</th>\n",
       "      <th>Sub_Color</th>\n",
       "      <th>Rank</th>\n",
       "    </tr>\n",
       "  </thead>\n",
       "  <tbody>\n",
       "    <tr>\n",
       "      <th>0</th>\n",
       "      <td>A671945</td>\n",
       "      <td>1</td>\n",
       "      <td>1</td>\n",
       "      <td>Neutered Male</td>\n",
       "      <td>365.0</td>\n",
       "      <td>Shetland Sheepdog Mix</td>\n",
       "      <td>Brown/White</td>\n",
       "      <td>201402</td>\n",
       "      <td>2014</td>\n",
       "      <td>02</td>\n",
       "      <td>12</td>\n",
       "      <td>18</td>\n",
       "      <td>winter</td>\n",
       "      <td>small</td>\n",
       "      <td>shetland sheepdog</td>\n",
       "      <td>NA</td>\n",
       "      <td>Brown</td>\n",
       "      <td>White</td>\n",
       "      <td>166.0</td>\n",
       "    </tr>\n",
       "    <tr>\n",
       "      <th>1</th>\n",
       "      <td>A656520</td>\n",
       "      <td>1</td>\n",
       "      <td>0</td>\n",
       "      <td>Spayed Female</td>\n",
       "      <td>365.0</td>\n",
       "      <td>Domestic Shorthair Mix</td>\n",
       "      <td>Cream Tabby</td>\n",
       "      <td>201310</td>\n",
       "      <td>2013</td>\n",
       "      <td>10</td>\n",
       "      <td>13</td>\n",
       "      <td>12</td>\n",
       "      <td>fall</td>\n",
       "      <td>domestic</td>\n",
       "      <td>domestic shorthair</td>\n",
       "      <td>NA</td>\n",
       "      <td>Cream Tabby</td>\n",
       "      <td>NA</td>\n",
       "      <td>0.0</td>\n",
       "    </tr>\n",
       "    <tr>\n",
       "      <th>2</th>\n",
       "      <td>A686464</td>\n",
       "      <td>1</td>\n",
       "      <td>1</td>\n",
       "      <td>Neutered Male</td>\n",
       "      <td>730.0</td>\n",
       "      <td>Pit Bull Mix</td>\n",
       "      <td>Blue/White</td>\n",
       "      <td>201501</td>\n",
       "      <td>2015</td>\n",
       "      <td>01</td>\n",
       "      <td>31</td>\n",
       "      <td>12</td>\n",
       "      <td>winter</td>\n",
       "      <td>medium</td>\n",
       "      <td>pit bull</td>\n",
       "      <td>NA</td>\n",
       "      <td>Blue</td>\n",
       "      <td>White</td>\n",
       "      <td>0.0</td>\n",
       "    </tr>\n",
       "    <tr>\n",
       "      <th>3</th>\n",
       "      <td>A683430</td>\n",
       "      <td>0</td>\n",
       "      <td>0</td>\n",
       "      <td>Intact Male</td>\n",
       "      <td>21.0</td>\n",
       "      <td>Domestic Shorthair Mix</td>\n",
       "      <td>Blue Cream</td>\n",
       "      <td>201407</td>\n",
       "      <td>2014</td>\n",
       "      <td>07</td>\n",
       "      <td>11</td>\n",
       "      <td>19</td>\n",
       "      <td>summer</td>\n",
       "      <td>domestic</td>\n",
       "      <td>domestic shorthair</td>\n",
       "      <td>NA</td>\n",
       "      <td>Blue Cream</td>\n",
       "      <td>NA</td>\n",
       "      <td>0.0</td>\n",
       "    </tr>\n",
       "    <tr>\n",
       "      <th>4</th>\n",
       "      <td>A667013</td>\n",
       "      <td>0</td>\n",
       "      <td>1</td>\n",
       "      <td>Neutered Male</td>\n",
       "      <td>730.0</td>\n",
       "      <td>Lhasa Apso/Miniature Poodle</td>\n",
       "      <td>Tan</td>\n",
       "      <td>201311</td>\n",
       "      <td>2013</td>\n",
       "      <td>11</td>\n",
       "      <td>15</td>\n",
       "      <td>12</td>\n",
       "      <td>fall</td>\n",
       "      <td>mix</td>\n",
       "      <td>lhasa apso</td>\n",
       "      <td>miniature poodle</td>\n",
       "      <td>Tan</td>\n",
       "      <td>NA</td>\n",
       "      <td>119.0</td>\n",
       "    </tr>\n",
       "    <tr>\n",
       "      <th>5</th>\n",
       "      <td>A677334</td>\n",
       "      <td>1</td>\n",
       "      <td>1</td>\n",
       "      <td>Intact Female</td>\n",
       "      <td>30.0</td>\n",
       "      <td>Cairn Terrier/Chihuahua Shorthair</td>\n",
       "      <td>Black/Tan</td>\n",
       "      <td>201404</td>\n",
       "      <td>2014</td>\n",
       "      <td>04</td>\n",
       "      <td>25</td>\n",
       "      <td>13</td>\n",
       "      <td>spring</td>\n",
       "      <td>mix</td>\n",
       "      <td>cairn terrier</td>\n",
       "      <td>chihuahua shorthair</td>\n",
       "      <td>Black</td>\n",
       "      <td>Tan</td>\n",
       "      <td>120.0</td>\n",
       "    </tr>\n",
       "    <tr>\n",
       "      <th>6</th>\n",
       "      <td>A699218</td>\n",
       "      <td>1</td>\n",
       "      <td>0</td>\n",
       "      <td>Intact Male</td>\n",
       "      <td>21.0</td>\n",
       "      <td>Domestic Shorthair Mix</td>\n",
       "      <td>Blue Tabby</td>\n",
       "      <td>201503</td>\n",
       "      <td>2015</td>\n",
       "      <td>03</td>\n",
       "      <td>28</td>\n",
       "      <td>13</td>\n",
       "      <td>spring</td>\n",
       "      <td>domestic</td>\n",
       "      <td>domestic shorthair</td>\n",
       "      <td>NA</td>\n",
       "      <td>Blue Tabby</td>\n",
       "      <td>NA</td>\n",
       "      <td>0.0</td>\n",
       "    </tr>\n",
       "    <tr>\n",
       "      <th>7</th>\n",
       "      <td>A701489</td>\n",
       "      <td>0</td>\n",
       "      <td>0</td>\n",
       "      <td>Unknown</td>\n",
       "      <td>21.0</td>\n",
       "      <td>Domestic Shorthair Mix</td>\n",
       "      <td>Brown Tabby</td>\n",
       "      <td>201504</td>\n",
       "      <td>2015</td>\n",
       "      <td>04</td>\n",
       "      <td>30</td>\n",
       "      <td>17</td>\n",
       "      <td>spring</td>\n",
       "      <td>domestic</td>\n",
       "      <td>domestic shorthair</td>\n",
       "      <td>NA</td>\n",
       "      <td>Brown Tabby</td>\n",
       "      <td>NA</td>\n",
       "      <td>0.0</td>\n",
       "    </tr>\n",
       "    <tr>\n",
       "      <th>8</th>\n",
       "      <td>A671784</td>\n",
       "      <td>1</td>\n",
       "      <td>1</td>\n",
       "      <td>Spayed Female</td>\n",
       "      <td>150.0</td>\n",
       "      <td>American Pit Bull Terrier Mix</td>\n",
       "      <td>Red/White</td>\n",
       "      <td>201402</td>\n",
       "      <td>2014</td>\n",
       "      <td>02</td>\n",
       "      <td>04</td>\n",
       "      <td>17</td>\n",
       "      <td>winter</td>\n",
       "      <td>medium</td>\n",
       "      <td>american pit bull terrier</td>\n",
       "      <td>NA</td>\n",
       "      <td>Red</td>\n",
       "      <td>White</td>\n",
       "      <td>0.0</td>\n",
       "    </tr>\n",
       "    <tr>\n",
       "      <th>9</th>\n",
       "      <td>A677747</td>\n",
       "      <td>0</td>\n",
       "      <td>1</td>\n",
       "      <td>Spayed Female</td>\n",
       "      <td>365.0</td>\n",
       "      <td>Cairn Terrier</td>\n",
       "      <td>White</td>\n",
       "      <td>201405</td>\n",
       "      <td>2014</td>\n",
       "      <td>05</td>\n",
       "      <td>03</td>\n",
       "      <td>07</td>\n",
       "      <td>spring</td>\n",
       "      <td>small</td>\n",
       "      <td>cairn terrier</td>\n",
       "      <td>NA</td>\n",
       "      <td>White</td>\n",
       "      <td>NA</td>\n",
       "      <td>120.0</td>\n",
       "    </tr>\n",
       "  </tbody>\n",
       "</table>\n",
       "</div>"
      ],
      "text/plain": [
       "  AnimalID  Name  AnimalType SexuponOutcome  AgeuponOutcome  \\\n",
       "0  A671945     1           1  Neutered Male           365.0   \n",
       "1  A656520     1           0  Spayed Female           365.0   \n",
       "2  A686464     1           1  Neutered Male           730.0   \n",
       "3  A683430     0           0    Intact Male            21.0   \n",
       "4  A667013     0           1  Neutered Male           730.0   \n",
       "5  A677334     1           1  Intact Female            30.0   \n",
       "6  A699218     1           0    Intact Male            21.0   \n",
       "7  A701489     0           0        Unknown            21.0   \n",
       "8  A671784     1           1  Spayed Female           150.0   \n",
       "9  A677747     0           1  Spayed Female           365.0   \n",
       "\n",
       "                               Breed        Color    Date OutcomeYear  \\\n",
       "0              Shetland Sheepdog Mix  Brown/White  201402        2014   \n",
       "1             Domestic Shorthair Mix  Cream Tabby  201310        2013   \n",
       "2                       Pit Bull Mix   Blue/White  201501        2015   \n",
       "3             Domestic Shorthair Mix   Blue Cream  201407        2014   \n",
       "4        Lhasa Apso/Miniature Poodle          Tan  201311        2013   \n",
       "5  Cairn Terrier/Chihuahua Shorthair    Black/Tan  201404        2014   \n",
       "6             Domestic Shorthair Mix   Blue Tabby  201503        2015   \n",
       "7             Domestic Shorthair Mix  Brown Tabby  201504        2015   \n",
       "8      American Pit Bull Terrier Mix    Red/White  201402        2014   \n",
       "9                      Cairn Terrier        White  201405        2014   \n",
       "\n",
       "  OutcomeMonth OutcomeDay OutcomeHour OutcomeSeason      Size  \\\n",
       "0           02         12          18        winter     small   \n",
       "1           10         13          12          fall  domestic   \n",
       "2           01         31          12        winter    medium   \n",
       "3           07         11          19        summer  domestic   \n",
       "4           11         15          12          fall       mix   \n",
       "5           04         25          13        spring       mix   \n",
       "6           03         28          13        spring  domestic   \n",
       "7           04         30          17        spring  domestic   \n",
       "8           02         04          17        winter    medium   \n",
       "9           05         03          07        spring     small   \n",
       "\n",
       "                  Main_Breed            Sub_Breed   Main_Color Sub_Color  \\\n",
       "0          shetland sheepdog                   NA        Brown     White   \n",
       "1         domestic shorthair                   NA  Cream Tabby        NA   \n",
       "2                   pit bull                   NA         Blue     White   \n",
       "3         domestic shorthair                   NA   Blue Cream        NA   \n",
       "4                 lhasa apso     miniature poodle          Tan        NA   \n",
       "5              cairn terrier  chihuahua shorthair        Black       Tan   \n",
       "6         domestic shorthair                   NA   Blue Tabby        NA   \n",
       "7         domestic shorthair                   NA  Brown Tabby        NA   \n",
       "8  american pit bull terrier                   NA          Red     White   \n",
       "9              cairn terrier                   NA        White        NA   \n",
       "\n",
       "    Rank  \n",
       "0  166.0  \n",
       "1    0.0  \n",
       "2    0.0  \n",
       "3    0.0  \n",
       "4  119.0  \n",
       "5  120.0  \n",
       "6    0.0  \n",
       "7    0.0  \n",
       "8    0.0  \n",
       "9  120.0  "
      ]
     },
     "execution_count": 91,
     "metadata": {},
     "output_type": "execute_result"
    }
   ],
   "source": [
    "#Data display\n",
    "data_combined.head(10)"
   ]
  },
  {
   "cell_type": "code",
   "execution_count": 92,
   "metadata": {},
   "outputs": [
    {
     "data": {
      "text/html": [
       "<div>\n",
       "<style>\n",
       "    .dataframe thead tr:only-child th {\n",
       "        text-align: right;\n",
       "    }\n",
       "\n",
       "    .dataframe thead th {\n",
       "        text-align: left;\n",
       "    }\n",
       "\n",
       "    .dataframe tbody tr th {\n",
       "        vertical-align: top;\n",
       "    }\n",
       "</style>\n",
       "<table border=\"1\" class=\"dataframe\">\n",
       "  <thead>\n",
       "    <tr style=\"text-align: right;\">\n",
       "      <th></th>\n",
       "      <th>AnimalID</th>\n",
       "      <th>Name</th>\n",
       "      <th>AnimalType</th>\n",
       "      <th>SexuponOutcome</th>\n",
       "      <th>AgeuponOutcome</th>\n",
       "      <th>Breed</th>\n",
       "      <th>Color</th>\n",
       "      <th>Date</th>\n",
       "      <th>OutcomeYear</th>\n",
       "      <th>OutcomeMonth</th>\n",
       "      <th>OutcomeDay</th>\n",
       "      <th>OutcomeHour</th>\n",
       "      <th>OutcomeSeason</th>\n",
       "      <th>Size</th>\n",
       "      <th>Main_Breed</th>\n",
       "      <th>Sub_Breed</th>\n",
       "      <th>Main_Color</th>\n",
       "      <th>Sub_Color</th>\n",
       "      <th>Rank</th>\n",
       "    </tr>\n",
       "  </thead>\n",
       "  <tbody>\n",
       "    <tr>\n",
       "      <th>11446</th>\n",
       "      <td>11447</td>\n",
       "      <td>0</td>\n",
       "      <td>0</td>\n",
       "      <td>Neutered Male</td>\n",
       "      <td>60.0</td>\n",
       "      <td>Domestic Shorthair Mix</td>\n",
       "      <td>Black</td>\n",
       "      <td>201507</td>\n",
       "      <td>2015</td>\n",
       "      <td>07</td>\n",
       "      <td>19</td>\n",
       "      <td>20</td>\n",
       "      <td>summer</td>\n",
       "      <td>domestic</td>\n",
       "      <td>domestic shorthair</td>\n",
       "      <td>NA</td>\n",
       "      <td>Black</td>\n",
       "      <td>NA</td>\n",
       "      <td>0.0</td>\n",
       "    </tr>\n",
       "    <tr>\n",
       "      <th>11447</th>\n",
       "      <td>11448</td>\n",
       "      <td>1</td>\n",
       "      <td>1</td>\n",
       "      <td>Spayed Female</td>\n",
       "      <td>365.0</td>\n",
       "      <td>Chihuahua Longhair Mix</td>\n",
       "      <td>Orange/Tan</td>\n",
       "      <td>201410</td>\n",
       "      <td>2014</td>\n",
       "      <td>10</td>\n",
       "      <td>19</td>\n",
       "      <td>12</td>\n",
       "      <td>fall</td>\n",
       "      <td>small</td>\n",
       "      <td>chihuahua</td>\n",
       "      <td>NA</td>\n",
       "      <td>Orange</td>\n",
       "      <td>Tan</td>\n",
       "      <td>160.0</td>\n",
       "    </tr>\n",
       "    <tr>\n",
       "      <th>11448</th>\n",
       "      <td>11449</td>\n",
       "      <td>0</td>\n",
       "      <td>1</td>\n",
       "      <td>Spayed Female</td>\n",
       "      <td>60.0</td>\n",
       "      <td>Labrador Retriever Mix</td>\n",
       "      <td>Brown</td>\n",
       "      <td>201408</td>\n",
       "      <td>2014</td>\n",
       "      <td>08</td>\n",
       "      <td>17</td>\n",
       "      <td>17</td>\n",
       "      <td>summer</td>\n",
       "      <td>medium</td>\n",
       "      <td>labrador retriever</td>\n",
       "      <td>NA</td>\n",
       "      <td>Brown</td>\n",
       "      <td>NA</td>\n",
       "      <td>189.0</td>\n",
       "    </tr>\n",
       "    <tr>\n",
       "      <th>11449</th>\n",
       "      <td>11450</td>\n",
       "      <td>1</td>\n",
       "      <td>1</td>\n",
       "      <td>Spayed Female</td>\n",
       "      <td>180.0</td>\n",
       "      <td>Bearded Collie Mix</td>\n",
       "      <td>Blue Merle/White</td>\n",
       "      <td>201507</td>\n",
       "      <td>2015</td>\n",
       "      <td>07</td>\n",
       "      <td>20</td>\n",
       "      <td>14</td>\n",
       "      <td>summer</td>\n",
       "      <td>medium</td>\n",
       "      <td>bearded collie</td>\n",
       "      <td>NA</td>\n",
       "      <td>Blue Merle</td>\n",
       "      <td>White</td>\n",
       "      <td>64.0</td>\n",
       "    </tr>\n",
       "    <tr>\n",
       "      <th>11450</th>\n",
       "      <td>11451</td>\n",
       "      <td>1</td>\n",
       "      <td>1</td>\n",
       "      <td>Neutered Male</td>\n",
       "      <td>300.0</td>\n",
       "      <td>Staffordshire Mix</td>\n",
       "      <td>Tan/White</td>\n",
       "      <td>201511</td>\n",
       "      <td>2015</td>\n",
       "      <td>11</td>\n",
       "      <td>05</td>\n",
       "      <td>17</td>\n",
       "      <td>fall</td>\n",
       "      <td>medium</td>\n",
       "      <td>staffordshire</td>\n",
       "      <td>NA</td>\n",
       "      <td>Tan</td>\n",
       "      <td>White</td>\n",
       "      <td>0.0</td>\n",
       "    </tr>\n",
       "    <tr>\n",
       "      <th>11451</th>\n",
       "      <td>11452</td>\n",
       "      <td>0</td>\n",
       "      <td>0</td>\n",
       "      <td>Neutered Male</td>\n",
       "      <td>60.0</td>\n",
       "      <td>Domestic Shorthair Mix</td>\n",
       "      <td>Black</td>\n",
       "      <td>201407</td>\n",
       "      <td>2014</td>\n",
       "      <td>07</td>\n",
       "      <td>08</td>\n",
       "      <td>14</td>\n",
       "      <td>summer</td>\n",
       "      <td>domestic</td>\n",
       "      <td>domestic shorthair</td>\n",
       "      <td>NA</td>\n",
       "      <td>Black</td>\n",
       "      <td>NA</td>\n",
       "      <td>0.0</td>\n",
       "    </tr>\n",
       "    <tr>\n",
       "      <th>11452</th>\n",
       "      <td>11453</td>\n",
       "      <td>0</td>\n",
       "      <td>0</td>\n",
       "      <td>Intact Female</td>\n",
       "      <td>14.0</td>\n",
       "      <td>Domestic Shorthair Mix</td>\n",
       "      <td>Blue</td>\n",
       "      <td>201410</td>\n",
       "      <td>2014</td>\n",
       "      <td>10</td>\n",
       "      <td>21</td>\n",
       "      <td>12</td>\n",
       "      <td>fall</td>\n",
       "      <td>domestic</td>\n",
       "      <td>domestic shorthair</td>\n",
       "      <td>NA</td>\n",
       "      <td>Blue</td>\n",
       "      <td>NA</td>\n",
       "      <td>0.0</td>\n",
       "    </tr>\n",
       "    <tr>\n",
       "      <th>11453</th>\n",
       "      <td>11454</td>\n",
       "      <td>0</td>\n",
       "      <td>0</td>\n",
       "      <td>Intact Female</td>\n",
       "      <td>365.0</td>\n",
       "      <td>Domestic Shorthair Mix</td>\n",
       "      <td>Calico</td>\n",
       "      <td>201409</td>\n",
       "      <td>2014</td>\n",
       "      <td>09</td>\n",
       "      <td>29</td>\n",
       "      <td>9:</td>\n",
       "      <td>fall</td>\n",
       "      <td>domestic</td>\n",
       "      <td>domestic shorthair</td>\n",
       "      <td>NA</td>\n",
       "      <td>Calico</td>\n",
       "      <td>NA</td>\n",
       "      <td>0.0</td>\n",
       "    </tr>\n",
       "    <tr>\n",
       "      <th>11454</th>\n",
       "      <td>11455</td>\n",
       "      <td>1</td>\n",
       "      <td>1</td>\n",
       "      <td>Neutered Male</td>\n",
       "      <td>2190.0</td>\n",
       "      <td>German Shepherd Mix</td>\n",
       "      <td>Black/Tan</td>\n",
       "      <td>201509</td>\n",
       "      <td>2015</td>\n",
       "      <td>09</td>\n",
       "      <td>05</td>\n",
       "      <td>17</td>\n",
       "      <td>fall</td>\n",
       "      <td>large</td>\n",
       "      <td>german shepherd</td>\n",
       "      <td>NA</td>\n",
       "      <td>Black</td>\n",
       "      <td>Tan</td>\n",
       "      <td>188.0</td>\n",
       "    </tr>\n",
       "    <tr>\n",
       "      <th>11455</th>\n",
       "      <td>11456</td>\n",
       "      <td>1</td>\n",
       "      <td>1</td>\n",
       "      <td>Intact Male</td>\n",
       "      <td>1460.0</td>\n",
       "      <td>Labrador Retriever</td>\n",
       "      <td>Cream</td>\n",
       "      <td>201407</td>\n",
       "      <td>2014</td>\n",
       "      <td>07</td>\n",
       "      <td>12</td>\n",
       "      <td>18</td>\n",
       "      <td>summer</td>\n",
       "      <td>medium</td>\n",
       "      <td>labrador retriever</td>\n",
       "      <td>NA</td>\n",
       "      <td>Cream</td>\n",
       "      <td>NA</td>\n",
       "      <td>189.0</td>\n",
       "    </tr>\n",
       "  </tbody>\n",
       "</table>\n",
       "</div>"
      ],
      "text/plain": [
       "      AnimalID  Name  AnimalType SexuponOutcome  AgeuponOutcome  \\\n",
       "11446    11447     0           0  Neutered Male            60.0   \n",
       "11447    11448     1           1  Spayed Female           365.0   \n",
       "11448    11449     0           1  Spayed Female            60.0   \n",
       "11449    11450     1           1  Spayed Female           180.0   \n",
       "11450    11451     1           1  Neutered Male           300.0   \n",
       "11451    11452     0           0  Neutered Male            60.0   \n",
       "11452    11453     0           0  Intact Female            14.0   \n",
       "11453    11454     0           0  Intact Female           365.0   \n",
       "11454    11455     1           1  Neutered Male          2190.0   \n",
       "11455    11456     1           1    Intact Male          1460.0   \n",
       "\n",
       "                        Breed             Color    Date OutcomeYear  \\\n",
       "11446  Domestic Shorthair Mix             Black  201507        2015   \n",
       "11447  Chihuahua Longhair Mix        Orange/Tan  201410        2014   \n",
       "11448  Labrador Retriever Mix             Brown  201408        2014   \n",
       "11449      Bearded Collie Mix  Blue Merle/White  201507        2015   \n",
       "11450       Staffordshire Mix         Tan/White  201511        2015   \n",
       "11451  Domestic Shorthair Mix             Black  201407        2014   \n",
       "11452  Domestic Shorthair Mix              Blue  201410        2014   \n",
       "11453  Domestic Shorthair Mix            Calico  201409        2014   \n",
       "11454     German Shepherd Mix         Black/Tan  201509        2015   \n",
       "11455      Labrador Retriever             Cream  201407        2014   \n",
       "\n",
       "      OutcomeMonth OutcomeDay OutcomeHour OutcomeSeason      Size  \\\n",
       "11446           07         19          20        summer  domestic   \n",
       "11447           10         19          12          fall     small   \n",
       "11448           08         17          17        summer    medium   \n",
       "11449           07         20          14        summer    medium   \n",
       "11450           11         05          17          fall    medium   \n",
       "11451           07         08          14        summer  domestic   \n",
       "11452           10         21          12          fall  domestic   \n",
       "11453           09         29          9:          fall  domestic   \n",
       "11454           09         05          17          fall     large   \n",
       "11455           07         12          18        summer    medium   \n",
       "\n",
       "               Main_Breed Sub_Breed  Main_Color Sub_Color   Rank  \n",
       "11446  domestic shorthair        NA       Black        NA    0.0  \n",
       "11447           chihuahua        NA      Orange       Tan  160.0  \n",
       "11448  labrador retriever        NA       Brown        NA  189.0  \n",
       "11449      bearded collie        NA  Blue Merle     White   64.0  \n",
       "11450       staffordshire        NA         Tan     White    0.0  \n",
       "11451  domestic shorthair        NA       Black        NA    0.0  \n",
       "11452  domestic shorthair        NA        Blue        NA    0.0  \n",
       "11453  domestic shorthair        NA      Calico        NA    0.0  \n",
       "11454     german shepherd        NA       Black       Tan  188.0  \n",
       "11455  labrador retriever        NA       Cream        NA  189.0  "
      ]
     },
     "execution_count": 92,
     "metadata": {},
     "output_type": "execute_result"
    }
   ],
   "source": [
    "#Data display\n",
    "data_combined.tail(10)"
   ]
  },
  {
   "cell_type": "code",
   "execution_count": 93,
   "metadata": {},
   "outputs": [
    {
     "data": {
      "text/plain": [
       "(38185, 19)"
      ]
     },
     "execution_count": 93,
     "metadata": {},
     "output_type": "execute_result"
    }
   ],
   "source": [
    "data_combined.shape"
   ]
  },
  {
   "cell_type": "markdown",
   "metadata": {},
   "source": [
    "### get_dummies함수 이용한 one hot encoding\n",
    "\n",
    "#### pandas의 get_dummies 함수를 사용하면 string값으로 되어있는 데이터를 one hot encoding 해줄뿐만 아니라 column name까지 깔끔하게 처리해준다!"
   ]
  },
  {
   "cell_type": "code",
   "execution_count": 94,
   "metadata": {
    "collapsed": true
   },
   "outputs": [],
   "source": [
    "main_color_gd = pd.get_dummies(data_combined[['Main_Color']])\n",
    "sub_color_gd = pd.get_dummies(data_combined[['Sub_Color']])\n",
    "main_breed_gd = pd.get_dummies(data_combined[['Main_Breed']])\n",
    "sub_breed_gd = pd.get_dummies(data_combined[['Sub_Breed']])\n",
    "year_gd = pd.get_dummies(data_combined[['OutcomeYear']])\n",
    "month_gd = pd.get_dummies(data_combined[['OutcomeMonth']])\n",
    "day_gd = pd.get_dummies(data_combined[['OutcomeDay']])\n",
    "hour_gd = pd.get_dummies(data_combined[['OutcomeHour']])\n",
    "size_gd = pd.get_dummies(data_combined['Size'])\n",
    "sex_gd = pd.get_dummies(data_combined['SexuponOutcome'])\n",
    "season_gd = pd.get_dummies(data_combined[['OutcomeSeason']])"
   ]
  },
  {
   "cell_type": "markdown",
   "metadata": {},
   "source": [
    "#### get_dummies가 적용된 feature 예제 "
   ]
  },
  {
   "cell_type": "code",
   "execution_count": 95,
   "metadata": {},
   "outputs": [
    {
     "data": {
      "text/html": [
       "<div>\n",
       "<style>\n",
       "    .dataframe thead tr:only-child th {\n",
       "        text-align: right;\n",
       "    }\n",
       "\n",
       "    .dataframe thead th {\n",
       "        text-align: left;\n",
       "    }\n",
       "\n",
       "    .dataframe tbody tr th {\n",
       "        vertical-align: top;\n",
       "    }\n",
       "</style>\n",
       "<table border=\"1\" class=\"dataframe\">\n",
       "  <thead>\n",
       "    <tr style=\"text-align: right;\">\n",
       "      <th></th>\n",
       "      <th>OutcomeYear_2013</th>\n",
       "      <th>OutcomeYear_2014</th>\n",
       "      <th>OutcomeYear_2015</th>\n",
       "      <th>OutcomeYear_2016</th>\n",
       "    </tr>\n",
       "  </thead>\n",
       "  <tbody>\n",
       "    <tr>\n",
       "      <th>0</th>\n",
       "      <td>0</td>\n",
       "      <td>1</td>\n",
       "      <td>0</td>\n",
       "      <td>0</td>\n",
       "    </tr>\n",
       "    <tr>\n",
       "      <th>1</th>\n",
       "      <td>1</td>\n",
       "      <td>0</td>\n",
       "      <td>0</td>\n",
       "      <td>0</td>\n",
       "    </tr>\n",
       "    <tr>\n",
       "      <th>2</th>\n",
       "      <td>0</td>\n",
       "      <td>0</td>\n",
       "      <td>1</td>\n",
       "      <td>0</td>\n",
       "    </tr>\n",
       "    <tr>\n",
       "      <th>3</th>\n",
       "      <td>0</td>\n",
       "      <td>1</td>\n",
       "      <td>0</td>\n",
       "      <td>0</td>\n",
       "    </tr>\n",
       "    <tr>\n",
       "      <th>4</th>\n",
       "      <td>1</td>\n",
       "      <td>0</td>\n",
       "      <td>0</td>\n",
       "      <td>0</td>\n",
       "    </tr>\n",
       "  </tbody>\n",
       "</table>\n",
       "</div>"
      ],
      "text/plain": [
       "   OutcomeYear_2013  OutcomeYear_2014  OutcomeYear_2015  OutcomeYear_2016\n",
       "0                 0                 1                 0                 0\n",
       "1                 1                 0                 0                 0\n",
       "2                 0                 0                 1                 0\n",
       "3                 0                 1                 0                 0\n",
       "4                 1                 0                 0                 0"
      ]
     },
     "execution_count": 95,
     "metadata": {},
     "output_type": "execute_result"
    }
   ],
   "source": [
    "year_gd.head()"
   ]
  },
  {
   "cell_type": "code",
   "execution_count": 96,
   "metadata": {},
   "outputs": [
    {
     "data": {
      "text/plain": [
       "(38185, 4)"
      ]
     },
     "execution_count": 96,
     "metadata": {},
     "output_type": "execute_result"
    }
   ],
   "source": [
    "year_gd.shape"
   ]
  },
  {
   "cell_type": "code",
   "execution_count": 97,
   "metadata": {},
   "outputs": [
    {
     "data": {
      "text/html": [
       "<div>\n",
       "<style>\n",
       "    .dataframe thead tr:only-child th {\n",
       "        text-align: right;\n",
       "    }\n",
       "\n",
       "    .dataframe thead th {\n",
       "        text-align: left;\n",
       "    }\n",
       "\n",
       "    .dataframe tbody tr th {\n",
       "        vertical-align: top;\n",
       "    }\n",
       "</style>\n",
       "<table border=\"1\" class=\"dataframe\">\n",
       "  <thead>\n",
       "    <tr style=\"text-align: right;\">\n",
       "      <th></th>\n",
       "      <th>domestic</th>\n",
       "      <th>giant</th>\n",
       "      <th>large</th>\n",
       "      <th>large_cat</th>\n",
       "      <th>medium</th>\n",
       "      <th>medium_cat</th>\n",
       "      <th>mix</th>\n",
       "      <th>small</th>\n",
       "      <th>small_cat</th>\n",
       "      <th>unknown</th>\n",
       "    </tr>\n",
       "  </thead>\n",
       "  <tbody>\n",
       "    <tr>\n",
       "      <th>0</th>\n",
       "      <td>0</td>\n",
       "      <td>0</td>\n",
       "      <td>0</td>\n",
       "      <td>0</td>\n",
       "      <td>0</td>\n",
       "      <td>0</td>\n",
       "      <td>0</td>\n",
       "      <td>1</td>\n",
       "      <td>0</td>\n",
       "      <td>0</td>\n",
       "    </tr>\n",
       "    <tr>\n",
       "      <th>1</th>\n",
       "      <td>1</td>\n",
       "      <td>0</td>\n",
       "      <td>0</td>\n",
       "      <td>0</td>\n",
       "      <td>0</td>\n",
       "      <td>0</td>\n",
       "      <td>0</td>\n",
       "      <td>0</td>\n",
       "      <td>0</td>\n",
       "      <td>0</td>\n",
       "    </tr>\n",
       "    <tr>\n",
       "      <th>2</th>\n",
       "      <td>0</td>\n",
       "      <td>0</td>\n",
       "      <td>0</td>\n",
       "      <td>0</td>\n",
       "      <td>1</td>\n",
       "      <td>0</td>\n",
       "      <td>0</td>\n",
       "      <td>0</td>\n",
       "      <td>0</td>\n",
       "      <td>0</td>\n",
       "    </tr>\n",
       "    <tr>\n",
       "      <th>3</th>\n",
       "      <td>1</td>\n",
       "      <td>0</td>\n",
       "      <td>0</td>\n",
       "      <td>0</td>\n",
       "      <td>0</td>\n",
       "      <td>0</td>\n",
       "      <td>0</td>\n",
       "      <td>0</td>\n",
       "      <td>0</td>\n",
       "      <td>0</td>\n",
       "    </tr>\n",
       "    <tr>\n",
       "      <th>4</th>\n",
       "      <td>0</td>\n",
       "      <td>0</td>\n",
       "      <td>0</td>\n",
       "      <td>0</td>\n",
       "      <td>0</td>\n",
       "      <td>0</td>\n",
       "      <td>1</td>\n",
       "      <td>0</td>\n",
       "      <td>0</td>\n",
       "      <td>0</td>\n",
       "    </tr>\n",
       "  </tbody>\n",
       "</table>\n",
       "</div>"
      ],
      "text/plain": [
       "   domestic  giant  large  large_cat  medium  medium_cat  mix  small  \\\n",
       "0         0      0      0          0       0           0    0      1   \n",
       "1         1      0      0          0       0           0    0      0   \n",
       "2         0      0      0          0       1           0    0      0   \n",
       "3         1      0      0          0       0           0    0      0   \n",
       "4         0      0      0          0       0           0    1      0   \n",
       "\n",
       "   small_cat  unknown  \n",
       "0          0        0  \n",
       "1          0        0  \n",
       "2          0        0  \n",
       "3          0        0  \n",
       "4          0        0  "
      ]
     },
     "execution_count": 97,
     "metadata": {},
     "output_type": "execute_result"
    }
   ],
   "source": [
    "size_gd.head()"
   ]
  },
  {
   "cell_type": "code",
   "execution_count": 98,
   "metadata": {},
   "outputs": [
    {
     "data": {
      "text/html": [
       "<div>\n",
       "<style>\n",
       "    .dataframe thead tr:only-child th {\n",
       "        text-align: right;\n",
       "    }\n",
       "\n",
       "    .dataframe thead th {\n",
       "        text-align: left;\n",
       "    }\n",
       "\n",
       "    .dataframe tbody tr th {\n",
       "        vertical-align: top;\n",
       "    }\n",
       "</style>\n",
       "<table border=\"1\" class=\"dataframe\">\n",
       "  <thead>\n",
       "    <tr style=\"text-align: right;\">\n",
       "      <th></th>\n",
       "      <th>Intact Female</th>\n",
       "      <th>Intact Male</th>\n",
       "      <th>Neutered Male</th>\n",
       "      <th>Spayed Female</th>\n",
       "      <th>Unknown</th>\n",
       "    </tr>\n",
       "  </thead>\n",
       "  <tbody>\n",
       "    <tr>\n",
       "      <th>0</th>\n",
       "      <td>0</td>\n",
       "      <td>0</td>\n",
       "      <td>1</td>\n",
       "      <td>0</td>\n",
       "      <td>0</td>\n",
       "    </tr>\n",
       "    <tr>\n",
       "      <th>1</th>\n",
       "      <td>0</td>\n",
       "      <td>0</td>\n",
       "      <td>0</td>\n",
       "      <td>1</td>\n",
       "      <td>0</td>\n",
       "    </tr>\n",
       "    <tr>\n",
       "      <th>2</th>\n",
       "      <td>0</td>\n",
       "      <td>0</td>\n",
       "      <td>1</td>\n",
       "      <td>0</td>\n",
       "      <td>0</td>\n",
       "    </tr>\n",
       "    <tr>\n",
       "      <th>3</th>\n",
       "      <td>0</td>\n",
       "      <td>1</td>\n",
       "      <td>0</td>\n",
       "      <td>0</td>\n",
       "      <td>0</td>\n",
       "    </tr>\n",
       "    <tr>\n",
       "      <th>4</th>\n",
       "      <td>0</td>\n",
       "      <td>0</td>\n",
       "      <td>1</td>\n",
       "      <td>0</td>\n",
       "      <td>0</td>\n",
       "    </tr>\n",
       "  </tbody>\n",
       "</table>\n",
       "</div>"
      ],
      "text/plain": [
       "   Intact Female  Intact Male  Neutered Male  Spayed Female  Unknown\n",
       "0              0            0              1              0        0\n",
       "1              0            0              0              1        0\n",
       "2              0            0              1              0        0\n",
       "3              0            1              0              0        0\n",
       "4              0            0              1              0        0"
      ]
     },
     "execution_count": 98,
     "metadata": {},
     "output_type": "execute_result"
    }
   ],
   "source": [
    "sex_gd.head()"
   ]
  },
  {
   "cell_type": "markdown",
   "metadata": {},
   "source": [
    "### train, test 데이터 분리\n",
    "\n",
    "get_dummies적용등 여러면에서 train.csv과 test.csv 데이터를 합쳐서 전처리 하는것이 더 수월하다고 판단되어서 진행하였음. 모델 최적화를 위해서 두 데이터를 나누는 작업을 진행.\n",
    "\n",
    "차후 용어가 헤깔릴수도 있기 때문에 정리하자면\n",
    "\n",
    "1) train.csv 또는 Kaggle training 데이터, test.csv 또는 Kaggle test 데이터는 각각 Kaggle Competition에서 제공해준 train, test데이터를 지칭한다\n",
    "\n",
    "2) 뒷쪽 모델 최적화에서 그냥 train 데이터 또는 test데이터는 train.csv에서 모델 검증을 위해 train_test_split을 통해 형성된 데이터를 지칭한다"
   ]
  },
  {
   "cell_type": "code",
   "execution_count": 99,
   "metadata": {
    "collapsed": true
   },
   "outputs": [],
   "source": [
    "data_train_final = data_combined.iloc[:26729, :]\n",
    "data_test_final = data_combined.iloc[26729:, :]"
   ]
  },
  {
   "cell_type": "code",
   "execution_count": 100,
   "metadata": {},
   "outputs": [
    {
     "name": "stdout",
     "output_type": "stream",
     "text": [
      "(26729, 19) (11456, 19)\n"
     ]
    }
   ],
   "source": [
    "#Train과 Test데이터 행 갯수는 각각 처음에 train.csv와 test.csv의 행 갯수와 동일해야 한다\n",
    "print(data_train_final.shape, data_test_final.shape)"
   ]
  },
  {
   "cell_type": "code",
   "execution_count": 101,
   "metadata": {},
   "outputs": [
    {
     "name": "stdout",
     "output_type": "stream",
     "text": [
      "(26729,)\n"
     ]
    }
   ],
   "source": [
    "print(dfY.shape)"
   ]
  },
  {
   "cell_type": "code",
   "execution_count": 102,
   "metadata": {},
   "outputs": [
    {
     "data": {
      "text/html": [
       "<div>\n",
       "<style>\n",
       "    .dataframe thead tr:only-child th {\n",
       "        text-align: right;\n",
       "    }\n",
       "\n",
       "    .dataframe thead th {\n",
       "        text-align: left;\n",
       "    }\n",
       "\n",
       "    .dataframe tbody tr th {\n",
       "        vertical-align: top;\n",
       "    }\n",
       "</style>\n",
       "<table border=\"1\" class=\"dataframe\">\n",
       "  <thead>\n",
       "    <tr style=\"text-align: right;\">\n",
       "      <th></th>\n",
       "      <th>AnimalID</th>\n",
       "      <th>Name</th>\n",
       "      <th>AnimalType</th>\n",
       "      <th>SexuponOutcome</th>\n",
       "      <th>AgeuponOutcome</th>\n",
       "      <th>Breed</th>\n",
       "      <th>Color</th>\n",
       "      <th>Date</th>\n",
       "      <th>OutcomeYear</th>\n",
       "      <th>OutcomeMonth</th>\n",
       "      <th>OutcomeDay</th>\n",
       "      <th>OutcomeHour</th>\n",
       "      <th>OutcomeSeason</th>\n",
       "      <th>Size</th>\n",
       "      <th>Main_Breed</th>\n",
       "      <th>Sub_Breed</th>\n",
       "      <th>Main_Color</th>\n",
       "      <th>Sub_Color</th>\n",
       "      <th>Rank</th>\n",
       "    </tr>\n",
       "  </thead>\n",
       "  <tbody>\n",
       "    <tr>\n",
       "      <th>0</th>\n",
       "      <td>A671945</td>\n",
       "      <td>1</td>\n",
       "      <td>1</td>\n",
       "      <td>Neutered Male</td>\n",
       "      <td>365.0</td>\n",
       "      <td>Shetland Sheepdog Mix</td>\n",
       "      <td>Brown/White</td>\n",
       "      <td>201402</td>\n",
       "      <td>2014</td>\n",
       "      <td>02</td>\n",
       "      <td>12</td>\n",
       "      <td>18</td>\n",
       "      <td>winter</td>\n",
       "      <td>small</td>\n",
       "      <td>shetland sheepdog</td>\n",
       "      <td>NA</td>\n",
       "      <td>Brown</td>\n",
       "      <td>White</td>\n",
       "      <td>166.0</td>\n",
       "    </tr>\n",
       "    <tr>\n",
       "      <th>1</th>\n",
       "      <td>A656520</td>\n",
       "      <td>1</td>\n",
       "      <td>0</td>\n",
       "      <td>Spayed Female</td>\n",
       "      <td>365.0</td>\n",
       "      <td>Domestic Shorthair Mix</td>\n",
       "      <td>Cream Tabby</td>\n",
       "      <td>201310</td>\n",
       "      <td>2013</td>\n",
       "      <td>10</td>\n",
       "      <td>13</td>\n",
       "      <td>12</td>\n",
       "      <td>fall</td>\n",
       "      <td>domestic</td>\n",
       "      <td>domestic shorthair</td>\n",
       "      <td>NA</td>\n",
       "      <td>Cream Tabby</td>\n",
       "      <td>NA</td>\n",
       "      <td>0.0</td>\n",
       "    </tr>\n",
       "    <tr>\n",
       "      <th>2</th>\n",
       "      <td>A686464</td>\n",
       "      <td>1</td>\n",
       "      <td>1</td>\n",
       "      <td>Neutered Male</td>\n",
       "      <td>730.0</td>\n",
       "      <td>Pit Bull Mix</td>\n",
       "      <td>Blue/White</td>\n",
       "      <td>201501</td>\n",
       "      <td>2015</td>\n",
       "      <td>01</td>\n",
       "      <td>31</td>\n",
       "      <td>12</td>\n",
       "      <td>winter</td>\n",
       "      <td>medium</td>\n",
       "      <td>pit bull</td>\n",
       "      <td>NA</td>\n",
       "      <td>Blue</td>\n",
       "      <td>White</td>\n",
       "      <td>0.0</td>\n",
       "    </tr>\n",
       "    <tr>\n",
       "      <th>3</th>\n",
       "      <td>A683430</td>\n",
       "      <td>0</td>\n",
       "      <td>0</td>\n",
       "      <td>Intact Male</td>\n",
       "      <td>21.0</td>\n",
       "      <td>Domestic Shorthair Mix</td>\n",
       "      <td>Blue Cream</td>\n",
       "      <td>201407</td>\n",
       "      <td>2014</td>\n",
       "      <td>07</td>\n",
       "      <td>11</td>\n",
       "      <td>19</td>\n",
       "      <td>summer</td>\n",
       "      <td>domestic</td>\n",
       "      <td>domestic shorthair</td>\n",
       "      <td>NA</td>\n",
       "      <td>Blue Cream</td>\n",
       "      <td>NA</td>\n",
       "      <td>0.0</td>\n",
       "    </tr>\n",
       "    <tr>\n",
       "      <th>4</th>\n",
       "      <td>A667013</td>\n",
       "      <td>0</td>\n",
       "      <td>1</td>\n",
       "      <td>Neutered Male</td>\n",
       "      <td>730.0</td>\n",
       "      <td>Lhasa Apso/Miniature Poodle</td>\n",
       "      <td>Tan</td>\n",
       "      <td>201311</td>\n",
       "      <td>2013</td>\n",
       "      <td>11</td>\n",
       "      <td>15</td>\n",
       "      <td>12</td>\n",
       "      <td>fall</td>\n",
       "      <td>mix</td>\n",
       "      <td>lhasa apso</td>\n",
       "      <td>miniature poodle</td>\n",
       "      <td>Tan</td>\n",
       "      <td>NA</td>\n",
       "      <td>119.0</td>\n",
       "    </tr>\n",
       "  </tbody>\n",
       "</table>\n",
       "</div>"
      ],
      "text/plain": [
       "  AnimalID  Name  AnimalType SexuponOutcome  AgeuponOutcome  \\\n",
       "0  A671945     1           1  Neutered Male           365.0   \n",
       "1  A656520     1           0  Spayed Female           365.0   \n",
       "2  A686464     1           1  Neutered Male           730.0   \n",
       "3  A683430     0           0    Intact Male            21.0   \n",
       "4  A667013     0           1  Neutered Male           730.0   \n",
       "\n",
       "                         Breed        Color    Date OutcomeYear OutcomeMonth  \\\n",
       "0        Shetland Sheepdog Mix  Brown/White  201402        2014           02   \n",
       "1       Domestic Shorthair Mix  Cream Tabby  201310        2013           10   \n",
       "2                 Pit Bull Mix   Blue/White  201501        2015           01   \n",
       "3       Domestic Shorthair Mix   Blue Cream  201407        2014           07   \n",
       "4  Lhasa Apso/Miniature Poodle          Tan  201311        2013           11   \n",
       "\n",
       "  OutcomeDay OutcomeHour OutcomeSeason      Size          Main_Breed  \\\n",
       "0         12          18        winter     small   shetland sheepdog   \n",
       "1         13          12          fall  domestic  domestic shorthair   \n",
       "2         31          12        winter    medium            pit bull   \n",
       "3         11          19        summer  domestic  domestic shorthair   \n",
       "4         15          12          fall       mix          lhasa apso   \n",
       "\n",
       "          Sub_Breed   Main_Color Sub_Color   Rank  \n",
       "0                NA        Brown     White  166.0  \n",
       "1                NA  Cream Tabby        NA    0.0  \n",
       "2                NA         Blue     White    0.0  \n",
       "3                NA   Blue Cream        NA    0.0  \n",
       "4  miniature poodle          Tan        NA  119.0  "
      ]
     },
     "execution_count": 102,
     "metadata": {},
     "output_type": "execute_result"
    }
   ],
   "source": [
    "data_train_final.head()"
   ]
  },
  {
   "cell_type": "code",
   "execution_count": 103,
   "metadata": {},
   "outputs": [
    {
     "data": {
      "text/html": [
       "<div>\n",
       "<style>\n",
       "    .dataframe thead tr:only-child th {\n",
       "        text-align: right;\n",
       "    }\n",
       "\n",
       "    .dataframe thead th {\n",
       "        text-align: left;\n",
       "    }\n",
       "\n",
       "    .dataframe tbody tr th {\n",
       "        vertical-align: top;\n",
       "    }\n",
       "</style>\n",
       "<table border=\"1\" class=\"dataframe\">\n",
       "  <thead>\n",
       "    <tr style=\"text-align: right;\">\n",
       "      <th></th>\n",
       "      <th>AnimalID</th>\n",
       "      <th>Name</th>\n",
       "      <th>AnimalType</th>\n",
       "      <th>SexuponOutcome</th>\n",
       "      <th>AgeuponOutcome</th>\n",
       "      <th>Breed</th>\n",
       "      <th>Color</th>\n",
       "      <th>Date</th>\n",
       "      <th>OutcomeYear</th>\n",
       "      <th>OutcomeMonth</th>\n",
       "      <th>OutcomeDay</th>\n",
       "      <th>OutcomeHour</th>\n",
       "      <th>OutcomeSeason</th>\n",
       "      <th>Size</th>\n",
       "      <th>Main_Breed</th>\n",
       "      <th>Sub_Breed</th>\n",
       "      <th>Main_Color</th>\n",
       "      <th>Sub_Color</th>\n",
       "      <th>Rank</th>\n",
       "    </tr>\n",
       "  </thead>\n",
       "  <tbody>\n",
       "    <tr>\n",
       "      <th>26724</th>\n",
       "      <td>A702446</td>\n",
       "      <td>0</td>\n",
       "      <td>0</td>\n",
       "      <td>Intact Male</td>\n",
       "      <td>30.0</td>\n",
       "      <td>Domestic Shorthair Mix</td>\n",
       "      <td>Brown Tabby/White</td>\n",
       "      <td>201505</td>\n",
       "      <td>2015</td>\n",
       "      <td>05</td>\n",
       "      <td>14</td>\n",
       "      <td>11</td>\n",
       "      <td>spring</td>\n",
       "      <td>domestic</td>\n",
       "      <td>domestic shorthair</td>\n",
       "      <td>NA</td>\n",
       "      <td>Brown Tabby</td>\n",
       "      <td>White</td>\n",
       "      <td>0.0</td>\n",
       "    </tr>\n",
       "    <tr>\n",
       "      <th>26725</th>\n",
       "      <td>A718934</td>\n",
       "      <td>0</td>\n",
       "      <td>0</td>\n",
       "      <td>Spayed Female</td>\n",
       "      <td>90.0</td>\n",
       "      <td>Domestic Shorthair Mix</td>\n",
       "      <td>Brown Tabby</td>\n",
       "      <td>201601</td>\n",
       "      <td>2016</td>\n",
       "      <td>01</td>\n",
       "      <td>20</td>\n",
       "      <td>18</td>\n",
       "      <td>winter</td>\n",
       "      <td>domestic</td>\n",
       "      <td>domestic shorthair</td>\n",
       "      <td>NA</td>\n",
       "      <td>Brown Tabby</td>\n",
       "      <td>NA</td>\n",
       "      <td>0.0</td>\n",
       "    </tr>\n",
       "    <tr>\n",
       "      <th>26726</th>\n",
       "      <td>A698128</td>\n",
       "      <td>1</td>\n",
       "      <td>1</td>\n",
       "      <td>Neutered Male</td>\n",
       "      <td>1460.0</td>\n",
       "      <td>Old English Bulldog Mix</td>\n",
       "      <td>White/Tan</td>\n",
       "      <td>201503</td>\n",
       "      <td>2015</td>\n",
       "      <td>03</td>\n",
       "      <td>09</td>\n",
       "      <td>13</td>\n",
       "      <td>spring</td>\n",
       "      <td>large</td>\n",
       "      <td>olde english bulldogge</td>\n",
       "      <td>NA</td>\n",
       "      <td>White</td>\n",
       "      <td>Tan</td>\n",
       "      <td>0.0</td>\n",
       "    </tr>\n",
       "    <tr>\n",
       "      <th>26727</th>\n",
       "      <td>A677478</td>\n",
       "      <td>0</td>\n",
       "      <td>0</td>\n",
       "      <td>Intact Male</td>\n",
       "      <td>28.0</td>\n",
       "      <td>Domestic Shorthair Mix</td>\n",
       "      <td>Black</td>\n",
       "      <td>201404</td>\n",
       "      <td>2014</td>\n",
       "      <td>04</td>\n",
       "      <td>27</td>\n",
       "      <td>12</td>\n",
       "      <td>spring</td>\n",
       "      <td>domestic</td>\n",
       "      <td>domestic shorthair</td>\n",
       "      <td>NA</td>\n",
       "      <td>Black</td>\n",
       "      <td>NA</td>\n",
       "      <td>0.0</td>\n",
       "    </tr>\n",
       "    <tr>\n",
       "      <th>26728</th>\n",
       "      <td>A706629</td>\n",
       "      <td>0</td>\n",
       "      <td>0</td>\n",
       "      <td>Intact Male</td>\n",
       "      <td>365.0</td>\n",
       "      <td>Domestic Shorthair Mix</td>\n",
       "      <td>Brown Tabby/White</td>\n",
       "      <td>201507</td>\n",
       "      <td>2015</td>\n",
       "      <td>07</td>\n",
       "      <td>02</td>\n",
       "      <td>09</td>\n",
       "      <td>summer</td>\n",
       "      <td>domestic</td>\n",
       "      <td>domestic shorthair</td>\n",
       "      <td>NA</td>\n",
       "      <td>Brown Tabby</td>\n",
       "      <td>White</td>\n",
       "      <td>0.0</td>\n",
       "    </tr>\n",
       "  </tbody>\n",
       "</table>\n",
       "</div>"
      ],
      "text/plain": [
       "      AnimalID  Name  AnimalType SexuponOutcome  AgeuponOutcome  \\\n",
       "26724  A702446     0           0    Intact Male            30.0   \n",
       "26725  A718934     0           0  Spayed Female            90.0   \n",
       "26726  A698128     1           1  Neutered Male          1460.0   \n",
       "26727  A677478     0           0    Intact Male            28.0   \n",
       "26728  A706629     0           0    Intact Male           365.0   \n",
       "\n",
       "                         Breed              Color    Date OutcomeYear  \\\n",
       "26724   Domestic Shorthair Mix  Brown Tabby/White  201505        2015   \n",
       "26725   Domestic Shorthair Mix        Brown Tabby  201601        2016   \n",
       "26726  Old English Bulldog Mix          White/Tan  201503        2015   \n",
       "26727   Domestic Shorthair Mix              Black  201404        2014   \n",
       "26728   Domestic Shorthair Mix  Brown Tabby/White  201507        2015   \n",
       "\n",
       "      OutcomeMonth OutcomeDay OutcomeHour OutcomeSeason      Size  \\\n",
       "26724           05         14          11        spring  domestic   \n",
       "26725           01         20          18        winter  domestic   \n",
       "26726           03         09          13        spring     large   \n",
       "26727           04         27          12        spring  domestic   \n",
       "26728           07         02          09        summer  domestic   \n",
       "\n",
       "                   Main_Breed Sub_Breed   Main_Color Sub_Color  Rank  \n",
       "26724      domestic shorthair        NA  Brown Tabby     White   0.0  \n",
       "26725      domestic shorthair        NA  Brown Tabby        NA   0.0  \n",
       "26726  olde english bulldogge        NA        White       Tan   0.0  \n",
       "26727      domestic shorthair        NA        Black        NA   0.0  \n",
       "26728      domestic shorthair        NA  Brown Tabby     White   0.0  "
      ]
     },
     "execution_count": 103,
     "metadata": {},
     "output_type": "execute_result"
    }
   ],
   "source": [
    "data_train_final.tail()"
   ]
  },
  {
   "cell_type": "code",
   "execution_count": 104,
   "metadata": {},
   "outputs": [
    {
     "data": {
      "text/html": [
       "<div>\n",
       "<style>\n",
       "    .dataframe thead tr:only-child th {\n",
       "        text-align: right;\n",
       "    }\n",
       "\n",
       "    .dataframe thead th {\n",
       "        text-align: left;\n",
       "    }\n",
       "\n",
       "    .dataframe tbody tr th {\n",
       "        vertical-align: top;\n",
       "    }\n",
       "</style>\n",
       "<table border=\"1\" class=\"dataframe\">\n",
       "  <thead>\n",
       "    <tr style=\"text-align: right;\">\n",
       "      <th></th>\n",
       "      <th>AnimalID</th>\n",
       "      <th>Name</th>\n",
       "      <th>AnimalType</th>\n",
       "      <th>SexuponOutcome</th>\n",
       "      <th>AgeuponOutcome</th>\n",
       "      <th>Breed</th>\n",
       "      <th>Color</th>\n",
       "      <th>Date</th>\n",
       "      <th>OutcomeYear</th>\n",
       "      <th>OutcomeMonth</th>\n",
       "      <th>OutcomeDay</th>\n",
       "      <th>OutcomeHour</th>\n",
       "      <th>OutcomeSeason</th>\n",
       "      <th>Size</th>\n",
       "      <th>Main_Breed</th>\n",
       "      <th>Sub_Breed</th>\n",
       "      <th>Main_Color</th>\n",
       "      <th>Sub_Color</th>\n",
       "      <th>Rank</th>\n",
       "    </tr>\n",
       "  </thead>\n",
       "  <tbody>\n",
       "    <tr>\n",
       "      <th>0</th>\n",
       "      <td>1</td>\n",
       "      <td>1</td>\n",
       "      <td>1</td>\n",
       "      <td>Intact Female</td>\n",
       "      <td>300.0</td>\n",
       "      <td>Labrador Retriever Mix</td>\n",
       "      <td>Red/White</td>\n",
       "      <td>201510</td>\n",
       "      <td>2015</td>\n",
       "      <td>10</td>\n",
       "      <td>12</td>\n",
       "      <td>12</td>\n",
       "      <td>fall</td>\n",
       "      <td>medium</td>\n",
       "      <td>labrador retriever</td>\n",
       "      <td>NA</td>\n",
       "      <td>Red</td>\n",
       "      <td>White</td>\n",
       "      <td>189.0</td>\n",
       "    </tr>\n",
       "    <tr>\n",
       "      <th>1</th>\n",
       "      <td>2</td>\n",
       "      <td>1</td>\n",
       "      <td>1</td>\n",
       "      <td>Spayed Female</td>\n",
       "      <td>730.0</td>\n",
       "      <td>German Shepherd/Siberian Husky</td>\n",
       "      <td>Black/Tan</td>\n",
       "      <td>201407</td>\n",
       "      <td>2014</td>\n",
       "      <td>07</td>\n",
       "      <td>26</td>\n",
       "      <td>17</td>\n",
       "      <td>summer</td>\n",
       "      <td>mix</td>\n",
       "      <td>german shepherd</td>\n",
       "      <td>siberian husky</td>\n",
       "      <td>Black</td>\n",
       "      <td>Tan</td>\n",
       "      <td>188.0</td>\n",
       "    </tr>\n",
       "    <tr>\n",
       "      <th>2</th>\n",
       "      <td>3</td>\n",
       "      <td>1</td>\n",
       "      <td>0</td>\n",
       "      <td>Neutered Male</td>\n",
       "      <td>365.0</td>\n",
       "      <td>Domestic Shorthair Mix</td>\n",
       "      <td>Brown Tabby</td>\n",
       "      <td>201601</td>\n",
       "      <td>2016</td>\n",
       "      <td>01</td>\n",
       "      <td>13</td>\n",
       "      <td>12</td>\n",
       "      <td>winter</td>\n",
       "      <td>domestic</td>\n",
       "      <td>domestic shorthair</td>\n",
       "      <td>NA</td>\n",
       "      <td>Brown Tabby</td>\n",
       "      <td>NA</td>\n",
       "      <td>0.0</td>\n",
       "    </tr>\n",
       "    <tr>\n",
       "      <th>3</th>\n",
       "      <td>4</td>\n",
       "      <td>1</td>\n",
       "      <td>1</td>\n",
       "      <td>Intact Male</td>\n",
       "      <td>120.0</td>\n",
       "      <td>Collie Smooth Mix</td>\n",
       "      <td>Tricolor</td>\n",
       "      <td>201312</td>\n",
       "      <td>2013</td>\n",
       "      <td>12</td>\n",
       "      <td>28</td>\n",
       "      <td>18</td>\n",
       "      <td>winter</td>\n",
       "      <td>medium</td>\n",
       "      <td>collie</td>\n",
       "      <td>NA</td>\n",
       "      <td>Tricolor</td>\n",
       "      <td>NA</td>\n",
       "      <td>153.0</td>\n",
       "    </tr>\n",
       "    <tr>\n",
       "      <th>4</th>\n",
       "      <td>5</td>\n",
       "      <td>1</td>\n",
       "      <td>1</td>\n",
       "      <td>Neutered Male</td>\n",
       "      <td>730.0</td>\n",
       "      <td>Miniature Poodle Mix</td>\n",
       "      <td>White</td>\n",
       "      <td>201509</td>\n",
       "      <td>2015</td>\n",
       "      <td>09</td>\n",
       "      <td>24</td>\n",
       "      <td>17</td>\n",
       "      <td>fall</td>\n",
       "      <td>small</td>\n",
       "      <td>miniature poodle</td>\n",
       "      <td>NA</td>\n",
       "      <td>White</td>\n",
       "      <td>NA</td>\n",
       "      <td>0.0</td>\n",
       "    </tr>\n",
       "  </tbody>\n",
       "</table>\n",
       "</div>"
      ],
      "text/plain": [
       "  AnimalID  Name  AnimalType SexuponOutcome  AgeuponOutcome  \\\n",
       "0        1     1           1  Intact Female           300.0   \n",
       "1        2     1           1  Spayed Female           730.0   \n",
       "2        3     1           0  Neutered Male           365.0   \n",
       "3        4     1           1    Intact Male           120.0   \n",
       "4        5     1           1  Neutered Male           730.0   \n",
       "\n",
       "                            Breed        Color    Date OutcomeYear  \\\n",
       "0          Labrador Retriever Mix    Red/White  201510        2015   \n",
       "1  German Shepherd/Siberian Husky    Black/Tan  201407        2014   \n",
       "2          Domestic Shorthair Mix  Brown Tabby  201601        2016   \n",
       "3               Collie Smooth Mix     Tricolor  201312        2013   \n",
       "4            Miniature Poodle Mix        White  201509        2015   \n",
       "\n",
       "  OutcomeMonth OutcomeDay OutcomeHour OutcomeSeason      Size  \\\n",
       "0           10         12          12          fall    medium   \n",
       "1           07         26          17        summer       mix   \n",
       "2           01         13          12        winter  domestic   \n",
       "3           12         28          18        winter    medium   \n",
       "4           09         24          17          fall     small   \n",
       "\n",
       "           Main_Breed       Sub_Breed   Main_Color Sub_Color   Rank  \n",
       "0  labrador retriever              NA          Red     White  189.0  \n",
       "1     german shepherd  siberian husky        Black       Tan  188.0  \n",
       "2  domestic shorthair              NA  Brown Tabby        NA    0.0  \n",
       "3              collie              NA     Tricolor        NA  153.0  \n",
       "4    miniature poodle              NA        White        NA    0.0  "
      ]
     },
     "execution_count": 104,
     "metadata": {},
     "output_type": "execute_result"
    }
   ],
   "source": [
    "data_test_final.head()"
   ]
  },
  {
   "cell_type": "code",
   "execution_count": 105,
   "metadata": {},
   "outputs": [
    {
     "data": {
      "text/html": [
       "<div>\n",
       "<style>\n",
       "    .dataframe thead tr:only-child th {\n",
       "        text-align: right;\n",
       "    }\n",
       "\n",
       "    .dataframe thead th {\n",
       "        text-align: left;\n",
       "    }\n",
       "\n",
       "    .dataframe tbody tr th {\n",
       "        vertical-align: top;\n",
       "    }\n",
       "</style>\n",
       "<table border=\"1\" class=\"dataframe\">\n",
       "  <thead>\n",
       "    <tr style=\"text-align: right;\">\n",
       "      <th></th>\n",
       "      <th>AnimalID</th>\n",
       "      <th>Name</th>\n",
       "      <th>AnimalType</th>\n",
       "      <th>SexuponOutcome</th>\n",
       "      <th>AgeuponOutcome</th>\n",
       "      <th>Breed</th>\n",
       "      <th>Color</th>\n",
       "      <th>Date</th>\n",
       "      <th>OutcomeYear</th>\n",
       "      <th>OutcomeMonth</th>\n",
       "      <th>OutcomeDay</th>\n",
       "      <th>OutcomeHour</th>\n",
       "      <th>OutcomeSeason</th>\n",
       "      <th>Size</th>\n",
       "      <th>Main_Breed</th>\n",
       "      <th>Sub_Breed</th>\n",
       "      <th>Main_Color</th>\n",
       "      <th>Sub_Color</th>\n",
       "      <th>Rank</th>\n",
       "    </tr>\n",
       "  </thead>\n",
       "  <tbody>\n",
       "    <tr>\n",
       "      <th>11451</th>\n",
       "      <td>11452</td>\n",
       "      <td>0</td>\n",
       "      <td>0</td>\n",
       "      <td>Neutered Male</td>\n",
       "      <td>60.0</td>\n",
       "      <td>Domestic Shorthair Mix</td>\n",
       "      <td>Black</td>\n",
       "      <td>201407</td>\n",
       "      <td>2014</td>\n",
       "      <td>07</td>\n",
       "      <td>08</td>\n",
       "      <td>14</td>\n",
       "      <td>summer</td>\n",
       "      <td>domestic</td>\n",
       "      <td>domestic shorthair</td>\n",
       "      <td>NA</td>\n",
       "      <td>Black</td>\n",
       "      <td>NA</td>\n",
       "      <td>0.0</td>\n",
       "    </tr>\n",
       "    <tr>\n",
       "      <th>11452</th>\n",
       "      <td>11453</td>\n",
       "      <td>0</td>\n",
       "      <td>0</td>\n",
       "      <td>Intact Female</td>\n",
       "      <td>14.0</td>\n",
       "      <td>Domestic Shorthair Mix</td>\n",
       "      <td>Blue</td>\n",
       "      <td>201410</td>\n",
       "      <td>2014</td>\n",
       "      <td>10</td>\n",
       "      <td>21</td>\n",
       "      <td>12</td>\n",
       "      <td>fall</td>\n",
       "      <td>domestic</td>\n",
       "      <td>domestic shorthair</td>\n",
       "      <td>NA</td>\n",
       "      <td>Blue</td>\n",
       "      <td>NA</td>\n",
       "      <td>0.0</td>\n",
       "    </tr>\n",
       "    <tr>\n",
       "      <th>11453</th>\n",
       "      <td>11454</td>\n",
       "      <td>0</td>\n",
       "      <td>0</td>\n",
       "      <td>Intact Female</td>\n",
       "      <td>365.0</td>\n",
       "      <td>Domestic Shorthair Mix</td>\n",
       "      <td>Calico</td>\n",
       "      <td>201409</td>\n",
       "      <td>2014</td>\n",
       "      <td>09</td>\n",
       "      <td>29</td>\n",
       "      <td>9:</td>\n",
       "      <td>fall</td>\n",
       "      <td>domestic</td>\n",
       "      <td>domestic shorthair</td>\n",
       "      <td>NA</td>\n",
       "      <td>Calico</td>\n",
       "      <td>NA</td>\n",
       "      <td>0.0</td>\n",
       "    </tr>\n",
       "    <tr>\n",
       "      <th>11454</th>\n",
       "      <td>11455</td>\n",
       "      <td>1</td>\n",
       "      <td>1</td>\n",
       "      <td>Neutered Male</td>\n",
       "      <td>2190.0</td>\n",
       "      <td>German Shepherd Mix</td>\n",
       "      <td>Black/Tan</td>\n",
       "      <td>201509</td>\n",
       "      <td>2015</td>\n",
       "      <td>09</td>\n",
       "      <td>05</td>\n",
       "      <td>17</td>\n",
       "      <td>fall</td>\n",
       "      <td>large</td>\n",
       "      <td>german shepherd</td>\n",
       "      <td>NA</td>\n",
       "      <td>Black</td>\n",
       "      <td>Tan</td>\n",
       "      <td>188.0</td>\n",
       "    </tr>\n",
       "    <tr>\n",
       "      <th>11455</th>\n",
       "      <td>11456</td>\n",
       "      <td>1</td>\n",
       "      <td>1</td>\n",
       "      <td>Intact Male</td>\n",
       "      <td>1460.0</td>\n",
       "      <td>Labrador Retriever</td>\n",
       "      <td>Cream</td>\n",
       "      <td>201407</td>\n",
       "      <td>2014</td>\n",
       "      <td>07</td>\n",
       "      <td>12</td>\n",
       "      <td>18</td>\n",
       "      <td>summer</td>\n",
       "      <td>medium</td>\n",
       "      <td>labrador retriever</td>\n",
       "      <td>NA</td>\n",
       "      <td>Cream</td>\n",
       "      <td>NA</td>\n",
       "      <td>189.0</td>\n",
       "    </tr>\n",
       "  </tbody>\n",
       "</table>\n",
       "</div>"
      ],
      "text/plain": [
       "      AnimalID  Name  AnimalType SexuponOutcome  AgeuponOutcome  \\\n",
       "11451    11452     0           0  Neutered Male            60.0   \n",
       "11452    11453     0           0  Intact Female            14.0   \n",
       "11453    11454     0           0  Intact Female           365.0   \n",
       "11454    11455     1           1  Neutered Male          2190.0   \n",
       "11455    11456     1           1    Intact Male          1460.0   \n",
       "\n",
       "                        Breed      Color    Date OutcomeYear OutcomeMonth  \\\n",
       "11451  Domestic Shorthair Mix      Black  201407        2014           07   \n",
       "11452  Domestic Shorthair Mix       Blue  201410        2014           10   \n",
       "11453  Domestic Shorthair Mix     Calico  201409        2014           09   \n",
       "11454     German Shepherd Mix  Black/Tan  201509        2015           09   \n",
       "11455      Labrador Retriever      Cream  201407        2014           07   \n",
       "\n",
       "      OutcomeDay OutcomeHour OutcomeSeason      Size          Main_Breed  \\\n",
       "11451         08          14        summer  domestic  domestic shorthair   \n",
       "11452         21          12          fall  domestic  domestic shorthair   \n",
       "11453         29          9:          fall  domestic  domestic shorthair   \n",
       "11454         05          17          fall     large     german shepherd   \n",
       "11455         12          18        summer    medium  labrador retriever   \n",
       "\n",
       "      Sub_Breed Main_Color Sub_Color   Rank  \n",
       "11451        NA      Black        NA    0.0  \n",
       "11452        NA       Blue        NA    0.0  \n",
       "11453        NA     Calico        NA    0.0  \n",
       "11454        NA      Black       Tan  188.0  \n",
       "11455        NA      Cream        NA  189.0  "
      ]
     },
     "execution_count": 105,
     "metadata": {},
     "output_type": "execute_result"
    }
   ],
   "source": [
    "data_test_final.tail()"
   ]
  },
  {
   "cell_type": "markdown",
   "metadata": {},
   "source": [
    "outcome_mapping = {'Adoption':1, 'Died':2, 'Euthanasia':3, 'Return_to_owner':4, 'Transfer':5}"
   ]
  },
  {
   "cell_type": "code",
   "execution_count": 106,
   "metadata": {},
   "outputs": [
    {
     "data": {
      "text/plain": [
       "0    4\n",
       "1    3\n",
       "2    1\n",
       "3    5\n",
       "4    5\n",
       "Name: OutcomeType, dtype: int64"
      ]
     },
     "execution_count": 106,
     "metadata": {},
     "output_type": "execute_result"
    }
   ],
   "source": [
    "dfY.head()"
   ]
  },
  {
   "cell_type": "code",
   "execution_count": 107,
   "metadata": {},
   "outputs": [
    {
     "data": {
      "text/plain": [
       "26724    5\n",
       "26725    5\n",
       "26726    1\n",
       "26727    5\n",
       "26728    5\n",
       "Name: OutcomeType, dtype: int64"
      ]
     },
     "execution_count": 107,
     "metadata": {},
     "output_type": "execute_result"
    }
   ],
   "source": [
    "dfY.tail()"
   ]
  },
  {
   "cell_type": "markdown",
   "metadata": {},
   "source": [
    "#### get_dummies적용된 DataFrame도 train과 test로 나눠줄 필요가 있다"
   ]
  },
  {
   "cell_type": "code",
   "execution_count": 108,
   "metadata": {
    "collapsed": true
   },
   "outputs": [],
   "source": [
    "#Train dummy variable features\n",
    "main_color_gd_train = main_color_gd.iloc[:26729, :]\n",
    "sub_color_gd_train = sub_color_gd.iloc[:26729, :]\n",
    "main_breed_gd_train = main_breed_gd.iloc[:26729, :]\n",
    "sub_breed_gd_train = sub_breed_gd.iloc[:26729, :]\n",
    "year_gd_train = year_gd.iloc[:26729, :]\n",
    "month_gd_train = month_gd.iloc[:26729, :]\n",
    "day_gd_train = day_gd.iloc[:26729, :]\n",
    "hour_gd_train = hour_gd.iloc[:26729, :]\n",
    "size_gd_train = size_gd.iloc[:26729, :]\n",
    "sex_gd_train = sex_gd.iloc[:26729, :]\n",
    "season_gd_train = season_gd.iloc[:26729, :]"
   ]
  },
  {
   "cell_type": "code",
   "execution_count": 109,
   "metadata": {},
   "outputs": [
    {
     "data": {
      "text/plain": [
       "(26729, 57)"
      ]
     },
     "execution_count": 109,
     "metadata": {},
     "output_type": "execute_result"
    }
   ],
   "source": [
    "main_color_gd_train.shape"
   ]
  },
  {
   "cell_type": "code",
   "execution_count": 110,
   "metadata": {
    "collapsed": true
   },
   "outputs": [],
   "source": [
    "#Test dummy variable features\n",
    "main_color_gd_test = main_color_gd.iloc[26729:, :]\n",
    "sub_color_gd_test = sub_color_gd.iloc[26729:, :]\n",
    "main_breed_gd_test = main_breed_gd.iloc[26729:, :]\n",
    "sub_breed_gd_test = sub_breed_gd.iloc[26729:, :]\n",
    "year_gd_test = year_gd.iloc[26729:, :]\n",
    "month_gd_test = month_gd.iloc[26729:, :]\n",
    "day_gd_test = day_gd.iloc[26729:, :]\n",
    "hour_gd_test = hour_gd.iloc[26729:, :]\n",
    "size_gd_test = size_gd.iloc[26729:, :]\n",
    "sex_gd_test = sex_gd.iloc[26729:, :]\n",
    "season_gd_test = season_gd.iloc[26729:, :]"
   ]
  },
  {
   "cell_type": "code",
   "execution_count": 111,
   "metadata": {},
   "outputs": [
    {
     "data": {
      "text/plain": [
       "(11456, 57)"
      ]
     },
     "execution_count": 111,
     "metadata": {},
     "output_type": "execute_result"
    }
   ],
   "source": [
    "main_color_gd_test.shape"
   ]
  },
  {
   "cell_type": "markdown",
   "metadata": {},
   "source": [
    "## Feature Selection\n",
    "\n",
    "#### Feature Preprocessing 마침. 생각보다 간단한 데이터 구조였슴에도 불구하고 데이터 전처리가 어마어마한 분량을 차지하고 있다."
   ]
  },
  {
   "cell_type": "code",
   "execution_count": 113,
   "metadata": {
    "collapsed": true
   },
   "outputs": [],
   "source": [
    "def greedy_selector(dfX_list, dfY):\n",
    "    '''This function performs greedy feature selection. dfX_list contains various combinations of features that will be used'''\n",
    "    train_compile, test_compile, logLoss_compile = [], [], []\n",
    "    \n",
    "    for dfX in dfX_list:\n",
    "        dfX_train, dfX_test, dfY_train, dfY_test = train_test_split(dfX, dfY, test_size = 0.25, random_state=0)\n",
    "        '''nthread parameter is the paralleization parameter. This forces XGBoost to utilize all the CPU power available'''\n",
    "        model_xgb = xgboost.XGBClassifier(n_estimators = 100, max_depth = 2, nthread = 3)\n",
    "        model_xgb.fit(dfX_train, dfY_train)\n",
    "\n",
    "        '''Let us save train and test accuracy along with log loss'''\n",
    "        y_pred_train = model_xgb.predict(dfX_train)\n",
    "        train_accuracy = accuracy_score(dfY_train, y_pred_train)\n",
    "        train_compile.append(train_accuracy)\n",
    "\n",
    "        y_pred_test = model_xgb.predict(dfX_test)\n",
    "        test_accuracy = accuracy_score(dfY_test, y_pred_test)\n",
    "        test_compile.append(test_accuracy)\n",
    "\n",
    "        y_proba = model_xgb.predict_proba(dfX_test)\n",
    "        logLoss = log_loss(dfY_test, y_proba)\n",
    "        logLoss_compile.append(logLoss)\n",
    "        \n",
    "    return train_compile, test_compile, logLoss_compile"
   ]
  },
  {
   "cell_type": "markdown",
   "metadata": {},
   "source": [
    "Feature Selection은 원래 feature_importance할 예정이었으나 위에 get_dummies method를 통해 본 결과 인자수가 어마어마 하다는것을 알수있다 (대략 530개 정도). 또한 인자끼리 관계도 또한 무시할수 없기 때문에 고민하던중, 우선 XGBoost를 이용해서 Greedy 한 방식으로 feature selection을 진행하기로 했다. 정식대로라면 사용하려는 feature마다 모델 최적화를 하면서 결과값을 비교하는것이 정상이지만 그렇게 할려하니 시간도 오래 걸리고 해서 차선책으로 Greedy방식으로 진행 해보기로 했다."
   ]
  },
  {
   "cell_type": "code",
   "execution_count": 114,
   "metadata": {
    "collapsed": true
   },
   "outputs": [],
   "source": [
    "'''dfY is always fixed'''\n",
    "\n",
    "dummy_cont = data_train_final[['Name', 'AnimalType', 'AgeuponOutcome', 'Rank']]\n",
    "\n",
    "dfX = pd.concat([dummy_cont, main_breed_gd_train, main_color_gd_train, month_gd_train, year_gd_train, sex_gd_train], axis = 1)\n",
    "dfX2 = pd.concat([dummy_cont, main_breed_gd_train, sub_breed_gd_train, main_color_gd_train, sub_color_gd_train, \n",
    "                  month_gd_train, year_gd_train, sex_gd_train], axis = 1)\n",
    "dfX3 = pd.concat([dummy_cont, size_gd_train, main_color_gd_train, sub_color_gd_train, month_gd_train, year_gd_train, \n",
    "                  sex_gd_train], axis = 1)\n",
    "dfX4 = pd.concat([dummy_cont, size_gd_train, main_breed_gd_train, sub_breed_gd_train, main_color_gd_train, \n",
    "                  sub_color_gd_train, month_gd_train, year_gd_train, sex_gd_train], axis = 1)\n",
    "dfX5 = pd.concat([dummy_cont, main_breed_gd_train, sub_breed_gd_train, main_color_gd_train, sub_color_gd_train, \n",
    "                  season_gd_train, sex_gd_train], axis = 1)\n",
    "dfX6 = pd.concat([dummy_cont, size_gd_train, main_breed_gd_train, sub_breed_gd_train, main_color_gd_train, sub_color_gd_train, \n",
    "                 year_gd_train, month_gd_train, day_gd_train, hour_gd_train, sex_gd_train], axis = 1)\n",
    "dfX7 = pd.concat([dummy_cont, size_gd_train, main_color_gd_train, sub_color_gd_train, \n",
    "                 year_gd_train, month_gd_train, day_gd_train, hour_gd_train, sex_gd_train], axis = 1)"
   ]
  },
  {
   "cell_type": "code",
   "execution_count": 114,
   "metadata": {},
   "outputs": [
    {
     "name": "stdout",
     "output_type": "stream",
     "text": [
      "Wall time: 3min 20s\n"
     ]
    }
   ],
   "source": [
    "%%time\n",
    "dfX_list = [dfX, dfX2, dfX3, dfX4, dfX5, dfX6, dfX7]\n",
    "train_compile, test_compile, logLoss_compile = greedy_selector(dfX_list, dfY)"
   ]
  },
  {
   "cell_type": "code",
   "execution_count": 115,
   "metadata": {},
   "outputs": [
    {
     "name": "stdout",
     "output_type": "stream",
     "text": [
      "Test accuracy:  [0.64581774652102353, 0.64791261409546608, 0.64806224749364061, 0.6468651803082448, 0.64701481370641922, 0.662127786922041, 0.66317522070926227]\n",
      "Log Loss performance:  [0.85218563278768833, 0.85168803279786598, 0.85329305565593117, 0.85050965815316537, 0.85128578288026613, 0.81691482576195862, 0.82003804793425006]\n"
     ]
    }
   ],
   "source": [
    "print('Test accuracy: ', test_compile)\n",
    "print('Log Loss performance: ', logLoss_compile)"
   ]
  },
  {
   "cell_type": "code",
   "execution_count": 116,
   "metadata": {},
   "outputs": [
    {
     "data": {
      "text/plain": [
       "Text(0.5,1,'Greedy Feature Selection Result')"
      ]
     },
     "execution_count": 116,
     "metadata": {},
     "output_type": "execute_result"
    },
    {
     "data": {
      "image/png": "[encoded data removed]",
      "text/plain": [
       "<matplotlib.figure.Figure at 0x23505682a20>"
      ]
     },
     "metadata": {},
     "output_type": "display_data"
    }
   ],
   "source": [
    "plt.figure(figsize = (7, 5))\n",
    "plt.plot(range(1, 8), train_compile, label = 'train_accuracy')\n",
    "plt.plot(range(1, 8), test_compile, label = 'test_accuracy')\n",
    "plt.legend()\n",
    "plt.xlabel('Feature Cases')\n",
    "plt.ylabel('Accuracy %')\n",
    "plt.title('Greedy Feature Selection Result')"
   ]
  },
  {
   "cell_type": "code",
   "execution_count": 117,
   "metadata": {},
   "outputs": [
    {
     "data": {
      "text/plain": [
       "Text(0.5,1,'Greedy Feature Selection Result')"
      ]
     },
     "execution_count": 117,
     "metadata": {},
     "output_type": "execute_result"
    },
    {
     "data": {
      "image/png": "[encoded data removed]",
      "text/plain": [
       "<matplotlib.figure.Figure at 0x23505ee7940>"
      ]
     },
     "metadata": {},
     "output_type": "display_data"
    }
   ],
   "source": [
    "plt.figure(figsize = (7, 5))\n",
    "plt.plot(range(1, 8), logLoss_compile)\n",
    "plt.xlabel('Feature Cases')\n",
    "plt.ylabel('Log Loss')\n",
    "plt.title('Greedy Feature Selection Result')"
   ]
  },
  {
   "cell_type": "code",
   "execution_count": 115,
   "metadata": {},
   "outputs": [
    {
     "data": {
      "text/plain": [
       "(26729, 603)"
      ]
     },
     "execution_count": 115,
     "metadata": {},
     "output_type": "execute_result"
    }
   ],
   "source": [
    "dfX6.shape"
   ]
  },
  {
   "cell_type": "markdown",
   "metadata": {},
   "source": [
    "### 데이터 split -> 결과가 제일 좋았던 6번 dfX적용"
   ]
  },
  {
   "cell_type": "code",
   "execution_count": 116,
   "metadata": {
    "collapsed": true
   },
   "outputs": [],
   "source": [
    "dfX_train, dfX_test, dfY_train, dfY_test = train_test_split(dfX6, dfY, test_size = 0.05, random_state = 0)"
   ]
  },
  {
   "cell_type": "code",
   "execution_count": 117,
   "metadata": {},
   "outputs": [
    {
     "data": {
      "text/plain": [
       "(1337, 603)"
      ]
     },
     "execution_count": 117,
     "metadata": {},
     "output_type": "execute_result"
    }
   ],
   "source": [
    "dfX_test.shape"
   ]
  },
  {
   "cell_type": "markdown",
   "metadata": {},
   "source": [
    "## Logistic Regression Model Optimization"
   ]
  },
  {
   "cell_type": "code",
   "execution_count": 121,
   "metadata": {
    "collapsed": true
   },
   "outputs": [],
   "source": [
    "def lr_optimizer_estimator(dfX, dfY):\n",
    "    '''This function is used to optimize the xgboost parameters using GridSearchCV from Scikit-learn'''\n",
    "    model_lr = LogisticRegression()\n",
    "    parameters = {'penalty': ['l1','l2'], 'C': [0.01, 0.1, 1, 10,100]}\n",
    "    \n",
    "    gs = GridSearchCV(estimator = model_lr, param_grid = parameters, scoring = 'neg_log_loss', cv = 10, n_jobs = 3)\n",
    "    %time gs = gs.fit(dfX, dfY)\n",
    "    return gs"
   ]
  },
  {
   "cell_type": "code",
   "execution_count": 122,
   "metadata": {},
   "outputs": [
    {
     "name": "stdout",
     "output_type": "stream",
     "text": [
      "Wall time: 2min 28s\n"
     ]
    }
   ],
   "source": [
    "gs = lr_optimizer_estimator(dfX_train, dfY_train)"
   ]
  },
  {
   "cell_type": "code",
   "execution_count": 123,
   "metadata": {},
   "outputs": [
    {
     "data": {
      "text/plain": [
       "array([-0.91794853, -0.89412886, -0.86500032, -0.86369715, -0.86215838,\n",
       "       -0.86258746, -0.88296169, -0.86535045, -0.91115111, -0.86708751])"
      ]
     },
     "execution_count": 123,
     "metadata": {},
     "output_type": "execute_result"
    }
   ],
   "source": [
    "gs.cv_results_[\"mean_test_score\"]"
   ]
  },
  {
   "cell_type": "code",
   "execution_count": 124,
   "metadata": {},
   "outputs": [
    {
     "name": "stdout",
     "output_type": "stream",
     "text": [
      "-0.862158379923\n",
      "{'C': 1, 'penalty': 'l1'}\n"
     ]
    }
   ],
   "source": [
    "print(gs.best_score_)\n",
    "print(gs.best_params_)"
   ]
  },
  {
   "cell_type": "markdown",
   "metadata": {},
   "source": [
    "### Logistic Regression: GridSearchCV 최적화 식 최종 test 검증"
   ]
  },
  {
   "cell_type": "code",
   "execution_count": 125,
   "metadata": {
    "collapsed": true
   },
   "outputs": [],
   "source": [
    "model_lr = LogisticRegression(penalty = 'l1', C = 1)\n",
    "model_lr.fit(dfX_train, dfY_train)\n",
    "\n",
    "y_pred_train = model_lr.predict(dfX_train)\n",
    "train_accuracy = accuracy_score(dfY_train, y_pred_train)\n",
    "\n",
    "y_pred_test = model_lr.predict(dfX_test)\n",
    "test_accuracy = accuracy_score(dfY_test, y_pred_test)\n",
    "\n",
    "y_proba = model_lr.predict_proba(dfX_test)\n",
    "performance = log_loss(dfY_test, y_proba)"
   ]
  },
  {
   "cell_type": "code",
   "execution_count": 126,
   "metadata": {},
   "outputs": [
    {
     "name": "stdout",
     "output_type": "stream",
     "text": [
      "Logistic Regression -----> Training accuracy: 0.661389,  Test accuracy: 0.659686,  log_loos:  0.832245\n"
     ]
    }
   ],
   "source": [
    "print('Logistic Regression -----> Training accuracy: %f,  Test accuracy: %f,  log_loos:  %f' % (train_accuracy, test_accuracy, performance))"
   ]
  },
  {
   "cell_type": "code",
   "execution_count": 127,
   "metadata": {},
   "outputs": [
    {
     "name": "stdout",
     "output_type": "stream",
     "text": [
      "             precision    recall  f1-score   support\n",
      "\n",
      "          1       0.64      0.85      0.73       540\n",
      "          2       0.00      0.00      0.00         5\n",
      "          3       0.71      0.14      0.24        70\n",
      "          4       0.55      0.36      0.43       252\n",
      "          5       0.73      0.68      0.70       470\n",
      "\n",
      "avg / total       0.66      0.66      0.64      1337\n",
      "\n"
     ]
    },
    {
     "name": "stderr",
     "output_type": "stream",
     "text": [
      "C:\\Users\\cck3\\Anaconda3\\lib\\site-packages\\sklearn\\metrics\\classification.py:1135: UndefinedMetricWarning: Precision and F-score are ill-defined and being set to 0.0 in labels with no predicted samples.\n",
      "  'precision', 'predicted', average, warn_for)\n"
     ]
    }
   ],
   "source": [
    "print(classification_report(dfY_test, y_pred_test))"
   ]
  },
  {
   "cell_type": "markdown",
   "metadata": {},
   "source": [
    "## Naive Bayesian Model Optimization\n",
    "\n",
    "#### Reference: https://www.analyticsvidhya.com/blog/2017/09/naive-bayes-explained/\n",
    "\n",
    "위 참조는 Naive Bayesian모델의 predict_proba 결과는 신용성이 떨어진다는 내용의 관련 자료임"
   ]
  },
  {
   "cell_type": "code",
   "execution_count": 128,
   "metadata": {
    "collapsed": true
   },
   "outputs": [],
   "source": [
    "model_NB = GaussianNB().fit(dfX_train, dfY_train)"
   ]
  },
  {
   "cell_type": "code",
   "execution_count": 129,
   "metadata": {
    "collapsed": true
   },
   "outputs": [],
   "source": [
    "y_pred_train = model_NB.predict(dfX_train)\n",
    "train_accuracy = accuracy_score(dfY_train, y_pred_train)\n",
    "\n",
    "y_pred_test = model_NB.predict(dfX_test)\n",
    "test_accuracy = accuracy_score(dfY_test, y_pred_test)\n",
    "\n",
    "y_proba = model_NB.predict_proba(dfX_test)\n",
    "performance = log_loss(dfY_test, y_proba)"
   ]
  },
  {
   "cell_type": "code",
   "execution_count": 130,
   "metadata": {},
   "outputs": [
    {
     "name": "stdout",
     "output_type": "stream",
     "text": [
      "ExtremeForest -----> Training accuracy: 0.158318,  Test accuracy: 0.140613,  log_loos:  26.074911\n"
     ]
    }
   ],
   "source": [
    "print('ExtremeForest -----> Training accuracy: %f,  Test accuracy: %f,  log_loos:  %f' % (train_accuracy, test_accuracy, performance))"
   ]
  },
  {
   "cell_type": "code",
   "execution_count": 131,
   "metadata": {},
   "outputs": [
    {
     "name": "stdout",
     "output_type": "stream",
     "text": [
      "             precision    recall  f1-score   support\n",
      "\n",
      "          1       0.65      0.12      0.21       540\n",
      "          2       0.00      0.60      0.01         5\n",
      "          3       0.07      0.16      0.10        70\n",
      "          4       0.35      0.30      0.32       252\n",
      "          5       0.41      0.07      0.11       470\n",
      "\n",
      "avg / total       0.48      0.14      0.19      1337\n",
      "\n"
     ]
    }
   ],
   "source": [
    "print(classification_report(dfY_test, y_pred_test))"
   ]
  },
  {
   "cell_type": "markdown",
   "metadata": {},
   "source": [
    "Naive Bayesian의 가정중 하나는 feature들이 독립적인(independence) 관계를 가진다는 거다. 하지만 앞서 EDA에서 봤듯이 shelter animal 데이터는 인자별 관계도가 매우 복잡하다. 어느정도 예상했지만 생각보다 더  Naive Bayesian 접근은 결론이 매우 좋지 않았다."
   ]
  },
  {
   "cell_type": "markdown",
   "metadata": {},
   "source": [
    "## Random Forest Model Optimization\n",
    "\n",
    "GridsearchCV 최적화"
   ]
  },
  {
   "cell_type": "code",
   "execution_count": 207,
   "metadata": {
    "collapsed": true
   },
   "outputs": [],
   "source": [
    "def forest_optimizer_estimator(dfX, dfY):\n",
    "    '''This function is used to optimize the xgboost parameters using GridSearchCV from Scikit-learn'''\n",
    "    model_forest = RandomForestClassifier(n_jobs = 3)\n",
    "    parameters = {'max_depth': [35, 40, 45, 50], 'n_estimators': [300, 500, 700]}\n",
    "    \n",
    "    gs = GridSearchCV(estimator = model_forest, param_grid = parameters, scoring = 'neg_log_loss', cv = 5, n_jobs = 3)\n",
    "    %time gs = gs.fit(dfX, dfY)\n",
    "    return gs"
   ]
  },
  {
   "cell_type": "code",
   "execution_count": 208,
   "metadata": {},
   "outputs": [
    {
     "name": "stdout",
     "output_type": "stream",
     "text": [
      "Wall time: 13min 57s\n",
      "Wall time: 13min 57s\n"
     ]
    }
   ],
   "source": [
    "%%time\n",
    "gs_estimator = forest_optimizer_estimator(dfX_train, dfY_train)"
   ]
  },
  {
   "cell_type": "code",
   "execution_count": 209,
   "metadata": {},
   "outputs": [
    {
     "data": {
      "text/plain": [
       "array([-0.81669827, -0.81467671, -0.81493703, -0.81509394, -0.81146839,\n",
       "       -0.81080907, -0.8198578 , -0.81068182, -0.81115033, -0.82529006,\n",
       "       -0.81907613, -0.81351662])"
      ]
     },
     "execution_count": 209,
     "metadata": {},
     "output_type": "execute_result"
    }
   ],
   "source": [
    "gs_estimator.cv_results_[\"mean_test_score\"]"
   ]
  },
  {
   "cell_type": "code",
   "execution_count": 210,
   "metadata": {},
   "outputs": [
    {
     "name": "stdout",
     "output_type": "stream",
     "text": [
      "-0.810681823481\n",
      "{'max_depth': 45, 'n_estimators': 500}\n"
     ]
    }
   ],
   "source": [
    "print(gs_estimator.best_score_)\n",
    "print(gs_estimator.best_params_)"
   ]
  },
  {
   "cell_type": "markdown",
   "metadata": {},
   "source": [
    "### Random Forest: GridSearchCV 최적화 식 최종 test 검증"
   ]
  },
  {
   "cell_type": "code",
   "execution_count": 211,
   "metadata": {
    "collapsed": true
   },
   "outputs": [],
   "source": [
    "model_forest = RandomForestClassifier(max_depth = 45, n_estimators = 500, n_jobs = 3)\n",
    "model_forest.fit(dfX_train, dfY_train)\n",
    "\n",
    "y_pred_train = model_forest.predict(dfX_train)\n",
    "train_accuracy = accuracy_score(dfY_train, y_pred_train)\n",
    "\n",
    "y_pred_test = model_forest.predict(dfX_test)\n",
    "test_accuracy = accuracy_score(dfY_test, y_pred_test)\n",
    "\n",
    "y_proba = model_forest.predict_proba(dfX_test)\n",
    "performance = log_loss(dfY_test, y_proba)"
   ]
  },
  {
   "cell_type": "code",
   "execution_count": 212,
   "metadata": {},
   "outputs": [
    {
     "name": "stdout",
     "output_type": "stream",
     "text": [
      "RandomForest -----> Training accuracy: 0.999724,  Test accuracy: 0.696335,  log_loos:  0.758476\n"
     ]
    }
   ],
   "source": [
    "print('RandomForest -----> Training accuracy: %f,  Test accuracy: %f,  log_loos:  %f' % (train_accuracy, test_accuracy, performance))"
   ]
  },
  {
   "cell_type": "code",
   "execution_count": 213,
   "metadata": {},
   "outputs": [
    {
     "name": "stdout",
     "output_type": "stream",
     "text": [
      "             precision    recall  f1-score   support\n",
      "\n",
      "          1       0.67      0.88      0.76       540\n",
      "          2       0.00      0.00      0.00         5\n",
      "          3       0.75      0.13      0.22        70\n",
      "          4       0.59      0.42      0.49       252\n",
      "          5       0.79      0.72      0.75       470\n",
      "\n",
      "avg / total       0.70      0.70      0.68      1337\n",
      "\n"
     ]
    },
    {
     "name": "stderr",
     "output_type": "stream",
     "text": [
      "C:\\Users\\cck3\\Anaconda3\\lib\\site-packages\\sklearn\\metrics\\classification.py:1135: UndefinedMetricWarning: Precision and F-score are ill-defined and being set to 0.0 in labels with no predicted samples.\n",
      "  'precision', 'predicted', average, warn_for)\n"
     ]
    }
   ],
   "source": [
    "print(classification_report(dfY_test, y_pred_test))"
   ]
  },
  {
   "cell_type": "markdown",
   "metadata": {},
   "source": [
    "확실히 linear한 Logistic Regression이나 인자간 독립가정을 하는 GaussianNB에 대비 Random Forest는 성능이 좋음."
   ]
  },
  {
   "cell_type": "markdown",
   "metadata": {},
   "source": [
    "## Extreme Forest Optimization"
   ]
  },
  {
   "cell_type": "code",
   "execution_count": 224,
   "metadata": {
    "collapsed": true
   },
   "outputs": [],
   "source": [
    "def exforest_optimizer_estimator(dfX, dfY):\n",
    "    '''This function is used to optimize the xgboost parameters using GridSearchCV from Scikit-learn'''\n",
    "    model_forest = ExtraTreesClassifier(n_jobs = 3)\n",
    "    parameters = {'max_depth': [35, 40, 45, 50], 'n_estimators': [300, 500, 700]}\n",
    "    \n",
    "    gs = GridSearchCV(estimator = model_forest, param_grid = parameters, scoring = 'neg_log_loss', cv = 5, n_jobs = 3)\n",
    "    %time gs = gs.fit(dfX, dfY)\n",
    "    return gs"
   ]
  },
  {
   "cell_type": "code",
   "execution_count": 225,
   "metadata": {},
   "outputs": [
    {
     "name": "stdout",
     "output_type": "stream",
     "text": [
      "Wall time: 13min 38s\n",
      "Wall time: 13min 38s\n"
     ]
    }
   ],
   "source": [
    "%%time\n",
    "gs_estimator = forest_optimizer_estimator(dfX_train, dfY_train)"
   ]
  },
  {
   "cell_type": "code",
   "execution_count": 226,
   "metadata": {},
   "outputs": [
    {
     "data": {
      "text/plain": [
       "array([-0.81736925, -0.81491665, -0.8155074 , -0.81730984, -0.81071711,\n",
       "       -0.81097546, -0.82194053, -0.81189796, -0.81159606, -0.82785918,\n",
       "       -0.81689767, -0.81165734])"
      ]
     },
     "execution_count": 226,
     "metadata": {},
     "output_type": "execute_result"
    }
   ],
   "source": [
    "gs_estimator.cv_results_[\"mean_test_score\"]"
   ]
  },
  {
   "cell_type": "code",
   "execution_count": 227,
   "metadata": {},
   "outputs": [
    {
     "name": "stdout",
     "output_type": "stream",
     "text": [
      "-0.810717105675\n",
      "{'max_depth': 40, 'n_estimators': 500}\n"
     ]
    }
   ],
   "source": [
    "print(gs_estimator.best_score_)\n",
    "print(gs_estimator.best_params_)"
   ]
  },
  {
   "cell_type": "markdown",
   "metadata": {},
   "source": [
    "### Extreme Forest: GridSearchCV 최적화 식 최종 test 검증"
   ]
  },
  {
   "cell_type": "code",
   "execution_count": 228,
   "metadata": {
    "collapsed": true
   },
   "outputs": [],
   "source": [
    "model_exforest = ExtraTreesClassifier(max_depth = 40, n_estimators = 500, n_jobs = -1)\n",
    "model_exforest.fit(dfX_train, dfY_train)\n",
    "\n",
    "y_pred_train = model_exforest.predict(dfX_train)\n",
    "train_accuracy = accuracy_score(dfY_train, y_pred_train)\n",
    "\n",
    "y_pred_test = model_exforest.predict(dfX_test)\n",
    "test_accuracy = accuracy_score(dfY_test, y_pred_test)\n",
    "\n",
    "y_proba = model_exforest.predict_proba(dfX_test)\n",
    "performance = log_loss(dfY_test, y_proba)"
   ]
  },
  {
   "cell_type": "code",
   "execution_count": 229,
   "metadata": {},
   "outputs": [
    {
     "name": "stdout",
     "output_type": "stream",
     "text": [
      "ExtremeForest -----> Training accuracy: 0.999724,  Test accuracy: 0.686612,  log_loos:  0.769533\n"
     ]
    }
   ],
   "source": [
    "print('ExtremeForest -----> Training accuracy: %f,  Test accuracy: %f,  log_loos:  %f' % (train_accuracy, test_accuracy, performance))"
   ]
  },
  {
   "cell_type": "code",
   "execution_count": 230,
   "metadata": {},
   "outputs": [
    {
     "name": "stdout",
     "output_type": "stream",
     "text": [
      "             precision    recall  f1-score   support\n",
      "\n",
      "          1       0.65      0.89      0.75       540\n",
      "          2       0.00      0.00      0.00         5\n",
      "          3       0.75      0.13      0.22        70\n",
      "          4       0.58      0.34      0.43       252\n",
      "          5       0.78      0.73      0.75       470\n",
      "\n",
      "avg / total       0.69      0.69      0.66      1337\n",
      "\n"
     ]
    },
    {
     "name": "stderr",
     "output_type": "stream",
     "text": [
      "C:\\Users\\cck3\\Anaconda3\\lib\\site-packages\\sklearn\\metrics\\classification.py:1135: UndefinedMetricWarning: Precision and F-score are ill-defined and being set to 0.0 in labels with no predicted samples.\n",
      "  'precision', 'predicted', average, warn_for)\n"
     ]
    }
   ],
   "source": [
    "print(classification_report(dfY_test, y_pred_test))"
   ]
  },
  {
   "cell_type": "markdown",
   "metadata": {},
   "source": [
    "RandomForest 대비 미비하게 성능이 낮은것으로 판단됨."
   ]
  },
  {
   "cell_type": "markdown",
   "metadata": {},
   "source": [
    "## XGBoost Model Optimization\n",
    "\n",
    "####  자세한 내용은 아래쪽 XGBoost: 최적화 방안 2 참조. max_depth를 6~10으로 조절하며 여러 XGBoost모델을 적용하는데 모델 개개인보다 합쳐진 모델결과가 더 좋은지 검증하기 위해 GridSearchCV를 이용해서 CV적용"
   ]
  },
  {
   "cell_type": "code",
   "execution_count": 118,
   "metadata": {
    "collapsed": true
   },
   "outputs": [],
   "source": [
    "def xgboost_optimizer_estimator(dfX, dfY):\n",
    "    '''This function is used to optimize the xgboost parameters using GridSearchCV from Scikit-learn'''\n",
    "    model_xgb = xgboost.XGBClassifier(nthread = -1)\n",
    "    parameters = {'max_depth': [5, 6, 7, 8, 9], 'n_estimators': [300, 500, 700]}\n",
    "    \n",
    "    gs = GridSearchCV(estimator = model_xgb, param_grid = parameters, scoring = 'neg_log_loss', cv = 4, n_jobs = -1)\n",
    "    %time gs = gs.fit(dfX, dfY)\n",
    "    return gs"
   ]
  },
  {
   "cell_type": "code",
   "execution_count": 119,
   "metadata": {},
   "outputs": [
    {
     "name": "stdout",
     "output_type": "stream",
     "text": [
      "Wall time: 5h 29min 6s\n",
      "Wall time: 5h 29min 6s\n"
     ]
    }
   ],
   "source": [
    "%%time\n",
    "gs_estimator = xgboost_optimizer_estimator(dfX_train, dfY_train)"
   ]
  },
  {
   "cell_type": "code",
   "execution_count": 120,
   "metadata": {},
   "outputs": [
    {
     "data": {
      "text/plain": [
       "array([-0.77058812, -0.77283854, -0.77710392, -0.76896378, -0.77475299,\n",
       "       -0.78203485, -0.76997248, -0.77839384, -0.78861915, -0.77202249,\n",
       "       -0.78319624, -0.79809887, -0.77682567, -0.79322886, -0.8122395 ])"
      ]
     },
     "execution_count": 120,
     "metadata": {},
     "output_type": "execute_result"
    }
   ],
   "source": [
    "gs_estimator.cv_results_[\"mean_test_score\"]"
   ]
  },
  {
   "cell_type": "code",
   "execution_count": 121,
   "metadata": {},
   "outputs": [
    {
     "name": "stdout",
     "output_type": "stream",
     "text": [
      "-0.768963775819\n",
      "{'max_depth': 6, 'n_estimators': 300}\n"
     ]
    }
   ],
   "source": [
    "print(gs_estimator.best_score_)\n",
    "print(gs_estimator.best_params_)"
   ]
  },
  {
   "cell_type": "markdown",
   "metadata": {},
   "source": [
    "### XGBoost: GridSearchCV 최적화 식 최종 test 검증"
   ]
  },
  {
   "cell_type": "code",
   "execution_count": 122,
   "metadata": {
    "collapsed": true
   },
   "outputs": [],
   "source": [
    "model_xgb = xgboost.XGBClassifier(max_depth = 6, n_estimators = 300, nthread = -1)\n",
    "model_xgb.fit(dfX_train, dfY_train)\n",
    "\n",
    "y_pred_train = model_xgb.predict(dfX_train)\n",
    "train_accuracy = accuracy_score(dfY_train, y_pred_train)\n",
    "\n",
    "y_pred_test = model_xgb.predict(dfX_test)\n",
    "test_accuracy = accuracy_score(dfY_test, y_pred_test)\n",
    "\n",
    "y_proba = model_xgb.predict_proba(dfX_test)\n",
    "performance = log_loss(dfY_test, y_proba)"
   ]
  },
  {
   "cell_type": "code",
   "execution_count": 123,
   "metadata": {},
   "outputs": [
    {
     "name": "stdout",
     "output_type": "stream",
     "text": [
      "XGBoost -----> Training accuracy: 0.746928,  Test accuracy: 0.703067,  log_loos:  0.727218\n"
     ]
    }
   ],
   "source": [
    "print('XGBoost -----> Training accuracy: %f,  Test accuracy: %f,  log_loos:  %f' % (train_accuracy, test_accuracy, performance))"
   ]
  },
  {
   "cell_type": "code",
   "execution_count": 124,
   "metadata": {},
   "outputs": [
    {
     "name": "stdout",
     "output_type": "stream",
     "text": [
      "             precision    recall  f1-score   support\n",
      "\n",
      "          1       0.70      0.84      0.77       540\n",
      "          2       0.00      0.00      0.00         5\n",
      "          3       0.62      0.30      0.40        70\n",
      "          4       0.55      0.49      0.52       252\n",
      "          5       0.78      0.73      0.75       470\n",
      "\n",
      "avg / total       0.70      0.70      0.69      1337\n",
      "\n"
     ]
    },
    {
     "name": "stderr",
     "output_type": "stream",
     "text": [
      "C:\\Users\\cck3\\Anaconda3\\lib\\site-packages\\sklearn\\metrics\\classification.py:1135: UndefinedMetricWarning: Precision and F-score are ill-defined and being set to 0.0 in labels with no predicted samples.\n",
      "  'precision', 'predicted', average, warn_for)\n"
     ]
    }
   ],
   "source": [
    "print(classification_report(dfY_test, y_pred_test))"
   ]
  },
  {
   "cell_type": "markdown",
   "metadata": {},
   "source": [
    "### XGBoost: 최적화 방안 2 (여러 XGBoost모델 결합)\n",
    "\n",
    "#### References: https://nishadikirielle.wordpress.com/2016/10/08/kaggle-competition-shelter-animal-problem-xgboost-approach/\n",
    "\n",
    "#### XGBoost Parameter Tuning: https://www.analyticsvidhya.com/blog/2016/03/complete-guide-parameter-tuning-xgboost-with-codes-python/\n",
    "\n",
    "원래 계획은 max_depth와 n_estimator를 한번에 GridSearchCV를 통한 최적화. 하지만 Runtime시간도 너무 길고 여러가지 튜닝을 하는데 시간적 한계가 있는것으로 판단되어서 차선책을 찾던중 좋은 방안 찾아냄.\n",
    "\n",
    "한개의 모델을 최적화 하는 것 보다 max_depth값을 변환하면서 예측한 결과를 바탕으로 평균성능을 뽑아내는 것이 더 잘 나온다는 참조 정보를 바탕으로 진행해봄. 모델 인자 튜닝 또한 윗 참조에서 사용한 값 적용."
   ]
  },
  {
   "cell_type": "code",
   "execution_count": 184,
   "metadata": {},
   "outputs": [
    {
     "name": "stdout",
     "output_type": "stream",
     "text": [
      "Wall time: 8min 2s\n"
     ]
    }
   ],
   "source": [
    "%%time\n",
    "model_xgb1 = xgboost.XGBClassifier(max_depth = 6, nthread = -1)\n",
    "model_xgb2 = xgboost.XGBClassifier(max_depth = 7, nthread = -1)\n",
    "model_xgb3 = xgboost.XGBClassifier(max_depth = 8, nthread = -1)\n",
    "model_xgb4 = xgboost.XGBClassifier(max_depth = 9, nthread = -1)\n",
    "model_xgb5 = xgboost.XGBClassifier(max_depth = 10, nthread = -1)\n",
    "\n",
    "model_xgb1.fit(dfX_train, dfY_train)\n",
    "model_xgb2.fit(dfX_train, dfY_train)\n",
    "model_xgb3.fit(dfX_train, dfY_train)\n",
    "model_xgb4.fit(dfX_train, dfY_train)\n",
    "model_xgb5.fit(dfX_train, dfY_train)"
   ]
  },
  {
   "cell_type": "code",
   "execution_count": 185,
   "metadata": {},
   "outputs": [
    {
     "name": "stdout",
     "output_type": "stream",
     "text": [
      "0.723351747761\n"
     ]
    }
   ],
   "source": [
    "y_proba1 = model_xgb1.predict_proba(dfX_test)\n",
    "y_proba2 = model_xgb2.predict_proba(dfX_test)\n",
    "y_proba3 = model_xgb3.predict_proba(dfX_test)\n",
    "y_proba4 = model_xgb4.predict_proba(dfX_test)\n",
    "y_proba5 = model_xgb5.predict_proba(dfX_test)\n",
    "\n",
    "y_proba_avg = (y_proba1 + y_proba2 + y_proba3 + y_proba4 + y_proba5) / 5\n",
    "performance = log_loss(dfY_test, y_proba_avg)\n",
    "print(performance)"
   ]
  },
  {
   "cell_type": "code",
   "execution_count": 186,
   "metadata": {},
   "outputs": [
    {
     "name": "stdout",
     "output_type": "stream",
     "text": [
      "[[ 0.4403069   0.00189122  0.04517928  0.04248049  0.47014213]\n",
      " [ 0.91116941  0.000976    0.00188891  0.02270332  0.06326236]\n",
      " [ 0.04161577  0.0018751   0.06232172  0.82963693  0.06455043]\n",
      " ..., \n",
      " [ 0.54510462  0.00197207  0.01608475  0.21323988  0.22359869]\n",
      " [ 0.00102887  0.00728544  0.0213183   0.00189307  0.96847427]\n",
      " [ 0.41574627  0.00132503  0.01893517  0.43060184  0.13339169]]\n"
     ]
    }
   ],
   "source": [
    "print(y_proba_avg)"
   ]
  },
  {
   "cell_type": "markdown",
   "metadata": {},
   "source": [
    "test검증 log_loss값이 매우 낮게 나왔지만 모델성능 향상을 위해 train에 95%의 데이터를 몰아줬기 때문에 test.csv 결과검증을 할때는 log-loss결과가 안좋아 질수도 있음."
   ]
  },
  {
   "cell_type": "markdown",
   "metadata": {},
   "source": [
    "### Feature importance 분석"
   ]
  },
  {
   "cell_type": "code",
   "execution_count": 199,
   "metadata": {},
   "outputs": [
    {
     "name": "stdout",
     "output_type": "stream",
     "text": [
      " 1 AgeuponOutcome                 0.111488\n",
      " 2 Name                           0.042192\n",
      " 3 Spayed Female                  0.030157\n",
      " 4 Intact Female                  0.029852\n",
      " 5 Neutered Male                  0.027187\n",
      " 6 Intact Male                    0.027119\n",
      " 7 Rank                           0.022768\n",
      " 8 OutcomeYear_2015               0.015451\n",
      " 9 OutcomeYear_2014               0.015230\n",
      "10 OutcomeHour_17                 0.014294\n",
      "11 Main_Color_Black               0.013549\n",
      "12 OutcomeHour_18                 0.013339\n",
      "13 Sub_Color_NA                   0.013164\n",
      "14 Sub_Color_White                0.012485\n",
      "15 OutcomeHour_09                 0.010309\n",
      "16 OutcomeMonth_12                0.010176\n",
      "17 OutcomeMonth_11                0.010022\n",
      "18 OutcomeMonth_10                0.009963\n",
      "19 AnimalType                     0.009921\n",
      "20 OutcomeHour_14                 0.009769\n",
      "21 Unknown                        0.009298\n",
      "22 OutcomeHour_11                 0.009209\n",
      "23 domestic                       0.009017\n",
      "24 OutcomeHour_16                 0.008909\n",
      "25 OutcomeHour_15                 0.008850\n",
      "26 OutcomeHour_12                 0.008814\n",
      "27 OutcomeMonth_01                0.008670\n",
      "28 OutcomeHour_13                 0.008588\n",
      "29 OutcomeMonth_07                0.008564\n",
      "30 Main_Breed_domestic shorthair  0.008468\n"
     ]
    },
    {
     "data": {
      "image/png": "[encoded data removed]",
      "text/plain": [
       "<matplotlib.figure.Figure at 0x268a2217c88>"
      ]
     },
     "metadata": {},
     "output_type": "display_data"
    }
   ],
   "source": [
    "'''Feature importance analysis code'''\n",
    "'''Reference: Python Machine Learning'''\n",
    "feat_labels = np.array(dfX6.columns)\n",
    "forest = RandomForestClassifier(n_estimators=1000, random_state=0, n_jobs = 3)\n",
    "forest.fit(dfX_train, dfY_train)\n",
    "\n",
    "importances = forest.feature_importances_\n",
    "indices = np.argsort(importances)[::-1]\n",
    "indices = indices[:30]\n",
    "\n",
    "for f in range(len(indices)):\n",
    "    print(\"%2d %-*s %f\" % (f + 1, 30, feat_labels[indices[f]], importances[indices[f]] ))\n",
    "\n",
    "plt.figure(figsize = (9, 7))\n",
    "plt.title(\"Feature importances\")\n",
    "plt.bar(range(len(indices)), importances[indices])\n",
    "plt.xticks(range(len(indices)), feat_labels[indices], rotation=90)\n",
    "plt.tight_layout()\n",
    "plt.show()"
   ]
  },
  {
   "cell_type": "markdown",
   "metadata": {},
   "source": [
    "다른 Kaggle참가자들과 비슷하게 DateTime에서 Year, Month, Day, Hour 결과를 적용할 경우 Breed와 Color인자보다 시간인자들이 더 중요하게 나오는 기이한 현상을 발견할수 있다.  밑에 Kaggle 결과값 논란 부분에서 더 자세하게 언급."
   ]
  },
  {
   "cell_type": "markdown",
   "metadata": {},
   "source": [
    "### ROC Curve and AUC score"
   ]
  },
  {
   "cell_type": "code",
   "execution_count": 202,
   "metadata": {
    "collapsed": true
   },
   "outputs": [],
   "source": [
    "from sklearn.preprocessing import label_binarize\n",
    "from sklearn.metrics import auc\n",
    "\n",
    "y_multi = label_binarize(dfY_test, classes=[1, 2, 3, 4, 5])"
   ]
  },
  {
   "cell_type": "code",
   "execution_count": 203,
   "metadata": {
    "collapsed": true
   },
   "outputs": [],
   "source": [
    "d1_multi = y_proba_avg"
   ]
  },
  {
   "cell_type": "code",
   "execution_count": 204,
   "metadata": {
    "collapsed": true
   },
   "outputs": [],
   "source": [
    "fpr10, tpr10, thresholds10 = roc_curve(y_multi[:, 0], d1_multi[:, 0])\n",
    "fpr11, tpr11, thresholds11 = roc_curve(y_multi[:, 1], d1_multi[:, 1])\n",
    "fpr12, tpr12, thresholds12 = roc_curve(y_multi[:, 2], d1_multi[:, 2])\n",
    "fpr13, tpr13, thresholds13 = roc_curve(y_multi[:, 3], d1_multi[:, 3])\n",
    "fpr14, tpr14, thresholds14 = roc_curve(y_multi[:, 4], d1_multi[:, 4])"
   ]
  },
  {
   "cell_type": "code",
   "execution_count": 205,
   "metadata": {},
   "outputs": [
    {
     "data": {
      "image/png": "[encoded data removed]",
      "text/plain": [
       "<matplotlib.figure.Figure at 0x268aa60c940>"
      ]
     },
     "metadata": {},
     "output_type": "display_data"
    }
   ],
   "source": [
    "plt.figure(figsize = (10, 7))\n",
    "plt.plot(fpr10, tpr10, label=\"Returned to owner\")\n",
    "plt.plot(fpr11, tpr11, label=\"Euthanasia\")\n",
    "plt.plot(fpr12, tpr12, label=\"Adoption\")\n",
    "plt.plot(fpr13, tpr13, label=\"Transfer\")\n",
    "plt.plot(fpr14, tpr14, label=\"Died\")\n",
    "plt.title('ROC curve for optimized XGBoost')\n",
    "plt.xlabel('False Positive Rate (Fallout)')\n",
    "plt.ylabel('True Positive Rate (Recall)')\n",
    "plt.legend()\n",
    "plt.grid(True)\n",
    "plt.show()"
   ]
  },
  {
   "cell_type": "code",
   "execution_count": 206,
   "metadata": {},
   "outputs": [
    {
     "name": "stdout",
     "output_type": "stream",
     "text": [
      "AUC for Returned to owner:  0.896435707979\n",
      "AUC for Euthanasia:  0.931231231231\n",
      "AUC for Adoption:  0.882252790619\n",
      "AUC for Transfer:  0.86044546851\n",
      "AUC for Died:  0.900341112665\n"
     ]
    }
   ],
   "source": [
    "#AUC\n",
    "print('AUC for Returned to owner: ', auc(fpr10, tpr10))\n",
    "print('AUC for Euthanasia: ', auc(fpr11, tpr11))\n",
    "print('AUC for Adoption: ', auc(fpr12, tpr12))\n",
    "print('AUC for Transfer: ', auc(fpr13, tpr13))\n",
    "print('AUC for Died: ', auc(fpr14, tpr14))"
   ]
  },
  {
   "cell_type": "markdown",
   "metadata": {},
   "source": [
    "## Kaggle test.csv 결과"
   ]
  },
  {
   "cell_type": "markdown",
   "metadata": {},
   "source": [
    "#### 여러 xgboost 모델을 결합한 결과"
   ]
  },
  {
   "cell_type": "code",
   "execution_count": 125,
   "metadata": {},
   "outputs": [
    {
     "name": "stdout",
     "output_type": "stream",
     "text": [
      "<class 'pandas.core.series.Series'>\n"
     ]
    }
   ],
   "source": [
    "dummy_cont_test = data_test_final[['Name', 'AnimalType', 'AgeuponOutcome', 'Rank']]\n",
    "test_id = data_test_final['AnimalID']\n",
    "print(type(test_id))"
   ]
  },
  {
   "cell_type": "code",
   "execution_count": 126,
   "metadata": {
    "collapsed": true
   },
   "outputs": [],
   "source": [
    "dfX_test_submission = pd.concat([dummy_cont_test, size_gd_test, main_breed_gd_test, sub_breed_gd_test, main_color_gd_test, \n",
    "                                 sub_color_gd_test, year_gd_test, month_gd_test, day_gd_test, hour_gd_test, sex_gd_test], axis = 1)"
   ]
  },
  {
   "cell_type": "code",
   "execution_count": 127,
   "metadata": {},
   "outputs": [
    {
     "data": {
      "text/plain": [
       "(11456, 603)"
      ]
     },
     "execution_count": 127,
     "metadata": {},
     "output_type": "execute_result"
    }
   ],
   "source": [
    "dfX_test_submission.shape"
   ]
  },
  {
   "cell_type": "code",
   "execution_count": 190,
   "metadata": {},
   "outputs": [
    {
     "name": "stdout",
     "output_type": "stream",
     "text": [
      "11456\n"
     ]
    }
   ],
   "source": [
    "y_proba1 = model_xgb1.predict_proba(dfX_test_submission)\n",
    "y_proba2 = model_xgb2.predict_proba(dfX_test_submission)\n",
    "y_proba3 = model_xgb3.predict_proba(dfX_test_submission)\n",
    "y_proba4 = model_xgb4.predict_proba(dfX_test_submission)\n",
    "y_proba5 = model_xgb5.predict_proba(dfX_test_submission)\n",
    "\n",
    "y_proba_avg_test = (y_proba1 + y_proba2 + y_proba3 + y_proba4 + y_proba5) / 5\n",
    "print(len(y_proba_avg_test))"
   ]
  },
  {
   "cell_type": "code",
   "execution_count": 191,
   "metadata": {},
   "outputs": [
    {
     "name": "stdout",
     "output_type": "stream",
     "text": [
      "[[ 0.0433468   0.00231239  0.02898893  0.18023679  0.74511516]\n",
      " [ 0.71029985  0.001306    0.01920843  0.2142266   0.05495911]\n",
      " [ 0.52747452  0.00238476  0.01344951  0.1459883   0.31070298]\n",
      " ..., \n",
      " [ 0.08338579  0.00725255  0.15052922  0.00962213  0.7492103 ]\n",
      " [ 0.34042332  0.00144291  0.0376688   0.53373939  0.08672564]\n",
      " [ 0.04370602  0.00223266  0.19047239  0.61265498  0.15093394]]\n"
     ]
    }
   ],
   "source": [
    "print(y_proba_avg_test)"
   ]
  },
  {
   "cell_type": "code",
   "execution_count": 192,
   "metadata": {
    "collapsed": true
   },
   "outputs": [],
   "source": [
    "y_proba_avg_test_df = pd.DataFrame(y_proba_avg_test, columns = ['Adoption', 'Died', 'Euthanasia', 'Return_to_owner', 'Transfer'])"
   ]
  },
  {
   "cell_type": "code",
   "execution_count": 193,
   "metadata": {},
   "outputs": [
    {
     "data": {
      "text/html": [
       "<div>\n",
       "<style>\n",
       "    .dataframe thead tr:only-child th {\n",
       "        text-align: right;\n",
       "    }\n",
       "\n",
       "    .dataframe thead th {\n",
       "        text-align: left;\n",
       "    }\n",
       "\n",
       "    .dataframe tbody tr th {\n",
       "        vertical-align: top;\n",
       "    }\n",
       "</style>\n",
       "<table border=\"1\" class=\"dataframe\">\n",
       "  <thead>\n",
       "    <tr style=\"text-align: right;\">\n",
       "      <th></th>\n",
       "      <th>Adoption</th>\n",
       "      <th>Died</th>\n",
       "      <th>Euthanasia</th>\n",
       "      <th>Return_to_owner</th>\n",
       "      <th>Transfer</th>\n",
       "    </tr>\n",
       "  </thead>\n",
       "  <tbody>\n",
       "    <tr>\n",
       "      <th>0</th>\n",
       "      <td>0.043347</td>\n",
       "      <td>0.002312</td>\n",
       "      <td>0.028989</td>\n",
       "      <td>0.180237</td>\n",
       "      <td>0.745115</td>\n",
       "    </tr>\n",
       "    <tr>\n",
       "      <th>1</th>\n",
       "      <td>0.710300</td>\n",
       "      <td>0.001306</td>\n",
       "      <td>0.019208</td>\n",
       "      <td>0.214227</td>\n",
       "      <td>0.054959</td>\n",
       "    </tr>\n",
       "    <tr>\n",
       "      <th>2</th>\n",
       "      <td>0.527475</td>\n",
       "      <td>0.002385</td>\n",
       "      <td>0.013450</td>\n",
       "      <td>0.145988</td>\n",
       "      <td>0.310703</td>\n",
       "    </tr>\n",
       "    <tr>\n",
       "      <th>3</th>\n",
       "      <td>0.178058</td>\n",
       "      <td>0.004473</td>\n",
       "      <td>0.053807</td>\n",
       "      <td>0.383758</td>\n",
       "      <td>0.379903</td>\n",
       "    </tr>\n",
       "    <tr>\n",
       "      <th>4</th>\n",
       "      <td>0.497551</td>\n",
       "      <td>0.001898</td>\n",
       "      <td>0.008882</td>\n",
       "      <td>0.399883</td>\n",
       "      <td>0.091786</td>\n",
       "    </tr>\n",
       "  </tbody>\n",
       "</table>\n",
       "</div>"
      ],
      "text/plain": [
       "   Adoption      Died  Euthanasia  Return_to_owner  Transfer\n",
       "0  0.043347  0.002312    0.028989         0.180237  0.745115\n",
       "1  0.710300  0.001306    0.019208         0.214227  0.054959\n",
       "2  0.527475  0.002385    0.013450         0.145988  0.310703\n",
       "3  0.178058  0.004473    0.053807         0.383758  0.379903\n",
       "4  0.497551  0.001898    0.008882         0.399883  0.091786"
      ]
     },
     "execution_count": 193,
     "metadata": {},
     "output_type": "execute_result"
    }
   ],
   "source": [
    "y_proba_avg_test_df.head()"
   ]
  },
  {
   "cell_type": "code",
   "execution_count": 194,
   "metadata": {
    "collapsed": true
   },
   "outputs": [],
   "source": [
    "y_proba_avg_test_df.to_csv('submission4.csv', index = False)"
   ]
  },
  {
   "cell_type": "markdown",
   "metadata": {},
   "source": [
    "First submission result is 0.78344 (testsize = 0.25), placing at 579th place.   2nd submission result is 0.77954 (testsize = 0.2). 3rd submission result is 0.77715 (testsize = 0.1). 4th (testsize = 0.05) submission result is 0.77666. 5th submission is done using the RandomForest model which ended in log loss value around 0.805"
   ]
  },
  {
   "cell_type": "markdown",
   "metadata": {},
   "source": [
    "#### Single XGBoost Result"
   ]
  },
  {
   "cell_type": "code",
   "execution_count": 132,
   "metadata": {
    "collapsed": true
   },
   "outputs": [],
   "source": [
    "y_proba_xgb = model_xgb.predict_proba(dfX_test_submission)"
   ]
  },
  {
   "cell_type": "code",
   "execution_count": 133,
   "metadata": {
    "collapsed": true
   },
   "outputs": [],
   "source": [
    "y_proba_xgb_test_df = pd.DataFrame(y_proba_xgb, columns = ['Adoption', 'Died', 'Euthanasia', 'Return_to_owner', 'Transfer'])"
   ]
  },
  {
   "cell_type": "code",
   "execution_count": 134,
   "metadata": {
    "collapsed": true
   },
   "outputs": [],
   "source": [
    "y_proba_xgb_test_df.to_csv('submission6.csv', index = False)"
   ]
  },
  {
   "cell_type": "markdown",
   "metadata": {},
   "source": [
    "Single XGBoost results in 0.77652 with the best result (testsize = 0.95)"
   ]
  },
  {
   "cell_type": "markdown",
   "metadata": {},
   "source": [
    "#### RandomForest 결과값"
   ]
  },
  {
   "cell_type": "code",
   "execution_count": 217,
   "metadata": {
    "collapsed": true
   },
   "outputs": [],
   "source": [
    "y_proba_forest = model_forest.predict_proba(dfX_test_submission)"
   ]
  },
  {
   "cell_type": "code",
   "execution_count": 218,
   "metadata": {
    "collapsed": true
   },
   "outputs": [],
   "source": [
    "y_proba_forest_test_df = pd.DataFrame(y_proba_forest, columns = ['Adoption', 'Died', 'Euthanasia', 'Return_to_owner', 'Transfer'])"
   ]
  },
  {
   "cell_type": "code",
   "execution_count": 219,
   "metadata": {
    "collapsed": true
   },
   "outputs": [],
   "source": [
    "y_proba_forest_test_df.to_csv('submission5.csv', index = False)"
   ]
  },
  {
   "cell_type": "markdown",
   "metadata": {},
   "source": [
    "random forest result in 0.809 (obviously not as good as XGBoost)"
   ]
  },
  {
   "cell_type": "markdown",
   "metadata": {},
   "source": [
    "## Kaggle 결과값 논란"
   ]
  },
  {
   "cell_type": "markdown",
   "metadata": {},
   "source": [
    "#### References:\n",
    "\n",
    "- http://blog.kaggle.com/2016/08/05/predicting-shelter-animal-outcomes-team-kaggle-for-the-paws-andras-zsom/\n",
    "- https://www.kaggle.com/c/shelter-animal-outcomes/discussion/22119\n",
    "- https://www.kaggle.com/c/shelter-animal-outcomes/discussion/19867"
   ]
  },
  {
   "cell_type": "markdown",
   "metadata": {},
   "source": [
    "Kaggle Train에 주어진 DataTime인자를 사용하는것은 형평성에 어긋난다는 지적이 있다. 왜냐하면 DateTime에 있는 day와 hour정보까지 사용하면, transfer같은 경우 같은날 같은시간에 대량으로 이루어 지는 경우가 있기 때문에 애완견의 특징이나 정보가 아닌 결과가 이루어진 특정 시간을 모델이 학습을 하면서 결과값은 좋아지지만 미래에 사용할 경우 말도 안되는 결과가 나오는 모델이 구성되게 된다. \n",
    "\n",
    "실제로 Kaggle 상위권 점수를 획득한 팀에서 분석해본 결과, train.csv에 있는 애완견의 특징만 가지고 분석을 했을경우 Log Loss값 0.8정도가 한계치라는 결론을 내렸다. \n",
    "\n",
    "추가로, https://data.austintexas.gov/ 홈페이지에 가면 Kaggle에 사용된 train.csv의 원본을 찾을수 있다. 심지어 제일 최근 (2017년 11월)까지 업데이트 된 정보를 얻을수 있으며 결과값 까지도 얻을수 있다. Kaggle에서 Log Loss 0.0으로 1등한 팀은 아마 모델을 돌린것이 아니라 이 결과값을 test.csv와 매칭해서 얻은 결과가 아닐까 생각된다.\n",
    "\n",
    "일부 Kaggle Discussion Board에서는 train.csv원본에 포함된 intake condition과 intake type인자를 Kaggle Data에 올려서 예측하는것이 더 공정하고 Kaggle에서 원래 의도했던 애완견의 특징에 따른 예측모델을 구성하는데 더 도움이 됐을꺼라는 의견이 있었다.\n",
    "\n",
    "https://data.austintexas.gov/ 에서 가지고온 Animal_Intake 자료와 Outcome자료를 참고로 한번 출력해 보겠다."
   ]
  },
  {
   "cell_type": "code",
   "execution_count": 196,
   "metadata": {
    "collapsed": true
   },
   "outputs": [],
   "source": [
    "intake = pd.read_csv('intake.csv')\n",
    "outcome = pd.read_csv('outcome.csv')"
   ]
  },
  {
   "cell_type": "code",
   "execution_count": 197,
   "metadata": {},
   "outputs": [
    {
     "data": {
      "text/html": [
       "<div>\n",
       "<style>\n",
       "    .dataframe thead tr:only-child th {\n",
       "        text-align: right;\n",
       "    }\n",
       "\n",
       "    .dataframe thead th {\n",
       "        text-align: left;\n",
       "    }\n",
       "\n",
       "    .dataframe tbody tr th {\n",
       "        vertical-align: top;\n",
       "    }\n",
       "</style>\n",
       "<table border=\"1\" class=\"dataframe\">\n",
       "  <thead>\n",
       "    <tr style=\"text-align: right;\">\n",
       "      <th></th>\n",
       "      <th>Animal ID</th>\n",
       "      <th>Name</th>\n",
       "      <th>DateTime</th>\n",
       "      <th>MonthYear</th>\n",
       "      <th>Found Location</th>\n",
       "      <th>Intake Type</th>\n",
       "      <th>Intake Condition</th>\n",
       "      <th>Animal Type</th>\n",
       "      <th>Sex upon Intake</th>\n",
       "      <th>Age upon Intake</th>\n",
       "      <th>Breed</th>\n",
       "      <th>Color</th>\n",
       "    </tr>\n",
       "  </thead>\n",
       "  <tbody>\n",
       "    <tr>\n",
       "      <th>0</th>\n",
       "      <td>A748291</td>\n",
       "      <td>*Madison</td>\n",
       "      <td>05/01/2017 02:26:00 PM</td>\n",
       "      <td>05/01/2017 02:26:00 PM</td>\n",
       "      <td>S Pleasant Valley Rd And E Riverside Dr in Aus...</td>\n",
       "      <td>Stray</td>\n",
       "      <td>Normal</td>\n",
       "      <td>Dog</td>\n",
       "      <td>Intact Female</td>\n",
       "      <td>10 months</td>\n",
       "      <td>Pit Bull Mix</td>\n",
       "      <td>Black</td>\n",
       "    </tr>\n",
       "    <tr>\n",
       "      <th>1</th>\n",
       "      <td>A750529</td>\n",
       "      <td>NaN</td>\n",
       "      <td>05/28/2017 01:22:00 PM</td>\n",
       "      <td>05/28/2017 01:22:00 PM</td>\n",
       "      <td>8312 North Ih 35 in Austin (TX)</td>\n",
       "      <td>Stray</td>\n",
       "      <td>Normal</td>\n",
       "      <td>Dog</td>\n",
       "      <td>Intact Female</td>\n",
       "      <td>5 months</td>\n",
       "      <td>Miniature Schnauzer Mix</td>\n",
       "      <td>White/Cream</td>\n",
       "    </tr>\n",
       "    <tr>\n",
       "      <th>2</th>\n",
       "      <td>A730601</td>\n",
       "      <td>NaN</td>\n",
       "      <td>07/07/2016 12:11:00 PM</td>\n",
       "      <td>07/07/2016 12:11:00 PM</td>\n",
       "      <td>1109 Shady Ln in Austin (TX)</td>\n",
       "      <td>Stray</td>\n",
       "      <td>Normal</td>\n",
       "      <td>Cat</td>\n",
       "      <td>Intact Male</td>\n",
       "      <td>7 months</td>\n",
       "      <td>Domestic Shorthair Mix</td>\n",
       "      <td>Blue Tabby</td>\n",
       "    </tr>\n",
       "    <tr>\n",
       "      <th>3</th>\n",
       "      <td>A748238</td>\n",
       "      <td>NaN</td>\n",
       "      <td>05/01/2017 10:53:00 AM</td>\n",
       "      <td>05/01/2017 10:53:00 AM</td>\n",
       "      <td>Airport Blvd And Oak Springs Dr in Austin (TX)</td>\n",
       "      <td>Stray</td>\n",
       "      <td>Normal</td>\n",
       "      <td>Dog</td>\n",
       "      <td>Intact Male</td>\n",
       "      <td>3 years</td>\n",
       "      <td>Bichon Frise Mix</td>\n",
       "      <td>White</td>\n",
       "    </tr>\n",
       "    <tr>\n",
       "      <th>4</th>\n",
       "      <td>A683644</td>\n",
       "      <td>*Zoey</td>\n",
       "      <td>07/13/2014 11:02:00 AM</td>\n",
       "      <td>07/13/2014 11:02:00 AM</td>\n",
       "      <td>Austin (TX)</td>\n",
       "      <td>Owner Surrender</td>\n",
       "      <td>Nursing</td>\n",
       "      <td>Dog</td>\n",
       "      <td>Intact Female</td>\n",
       "      <td>4 weeks</td>\n",
       "      <td>Border Collie Mix</td>\n",
       "      <td>Brown/White</td>\n",
       "    </tr>\n",
       "  </tbody>\n",
       "</table>\n",
       "</div>"
      ],
      "text/plain": [
       "  Animal ID      Name                DateTime               MonthYear  \\\n",
       "0   A748291  *Madison  05/01/2017 02:26:00 PM  05/01/2017 02:26:00 PM   \n",
       "1   A750529       NaN  05/28/2017 01:22:00 PM  05/28/2017 01:22:00 PM   \n",
       "2   A730601       NaN  07/07/2016 12:11:00 PM  07/07/2016 12:11:00 PM   \n",
       "3   A748238       NaN  05/01/2017 10:53:00 AM  05/01/2017 10:53:00 AM   \n",
       "4   A683644     *Zoey  07/13/2014 11:02:00 AM  07/13/2014 11:02:00 AM   \n",
       "\n",
       "                                      Found Location      Intake Type  \\\n",
       "0  S Pleasant Valley Rd And E Riverside Dr in Aus...            Stray   \n",
       "1                    8312 North Ih 35 in Austin (TX)            Stray   \n",
       "2                       1109 Shady Ln in Austin (TX)            Stray   \n",
       "3     Airport Blvd And Oak Springs Dr in Austin (TX)            Stray   \n",
       "4                                        Austin (TX)  Owner Surrender   \n",
       "\n",
       "  Intake Condition Animal Type Sex upon Intake Age upon Intake  \\\n",
       "0           Normal         Dog   Intact Female       10 months   \n",
       "1           Normal         Dog   Intact Female        5 months   \n",
       "2           Normal         Cat     Intact Male        7 months   \n",
       "3           Normal         Dog     Intact Male         3 years   \n",
       "4          Nursing         Dog   Intact Female         4 weeks   \n",
       "\n",
       "                     Breed        Color  \n",
       "0             Pit Bull Mix        Black  \n",
       "1  Miniature Schnauzer Mix  White/Cream  \n",
       "2   Domestic Shorthair Mix   Blue Tabby  \n",
       "3         Bichon Frise Mix        White  \n",
       "4        Border Collie Mix  Brown/White  "
      ]
     },
     "execution_count": 197,
     "metadata": {},
     "output_type": "execute_result"
    }
   ],
   "source": [
    "intake.head()"
   ]
  },
  {
   "cell_type": "code",
   "execution_count": 198,
   "metadata": {},
   "outputs": [
    {
     "data": {
      "text/html": [
       "<div>\n",
       "<style>\n",
       "    .dataframe thead tr:only-child th {\n",
       "        text-align: right;\n",
       "    }\n",
       "\n",
       "    .dataframe thead th {\n",
       "        text-align: left;\n",
       "    }\n",
       "\n",
       "    .dataframe tbody tr th {\n",
       "        vertical-align: top;\n",
       "    }\n",
       "</style>\n",
       "<table border=\"1\" class=\"dataframe\">\n",
       "  <thead>\n",
       "    <tr style=\"text-align: right;\">\n",
       "      <th></th>\n",
       "      <th>Animal ID</th>\n",
       "      <th>Name</th>\n",
       "      <th>DateTime</th>\n",
       "      <th>MonthYear</th>\n",
       "      <th>Date of Birth</th>\n",
       "      <th>Outcome Type</th>\n",
       "      <th>Outcome Subtype</th>\n",
       "      <th>Animal Type</th>\n",
       "      <th>Sex upon Outcome</th>\n",
       "      <th>Age upon Outcome</th>\n",
       "      <th>Breed</th>\n",
       "      <th>Color</th>\n",
       "    </tr>\n",
       "  </thead>\n",
       "  <tbody>\n",
       "    <tr>\n",
       "      <th>0</th>\n",
       "      <td>A741715</td>\n",
       "      <td>*Pebbles</td>\n",
       "      <td>01/11/2017 06:17:00 PM</td>\n",
       "      <td>01/11/2017 06:17:00 PM</td>\n",
       "      <td>03/07/2016</td>\n",
       "      <td>Adoption</td>\n",
       "      <td>NaN</td>\n",
       "      <td>Cat</td>\n",
       "      <td>Spayed Female</td>\n",
       "      <td>10 months</td>\n",
       "      <td>Domestic Shorthair Mix</td>\n",
       "      <td>Calico</td>\n",
       "    </tr>\n",
       "    <tr>\n",
       "      <th>1</th>\n",
       "      <td>A658751</td>\n",
       "      <td>Benji</td>\n",
       "      <td>11/13/2016 01:38:00 PM</td>\n",
       "      <td>11/13/2016 01:38:00 PM</td>\n",
       "      <td>07/14/2011</td>\n",
       "      <td>Return to Owner</td>\n",
       "      <td>NaN</td>\n",
       "      <td>Dog</td>\n",
       "      <td>Neutered Male</td>\n",
       "      <td>5 years</td>\n",
       "      <td>Border Terrier Mix</td>\n",
       "      <td>Tan</td>\n",
       "    </tr>\n",
       "    <tr>\n",
       "      <th>2</th>\n",
       "      <td>A721285</td>\n",
       "      <td>NaN</td>\n",
       "      <td>02/24/2016 02:42:00 PM</td>\n",
       "      <td>02/24/2016 02:42:00 PM</td>\n",
       "      <td>02/24/2014</td>\n",
       "      <td>Euthanasia</td>\n",
       "      <td>Suffering</td>\n",
       "      <td>Other</td>\n",
       "      <td>Unknown</td>\n",
       "      <td>2 years</td>\n",
       "      <td>Raccoon Mix</td>\n",
       "      <td>Black/Gray</td>\n",
       "    </tr>\n",
       "    <tr>\n",
       "      <th>3</th>\n",
       "      <td>A746650</td>\n",
       "      <td>Rose</td>\n",
       "      <td>04/07/2017 11:58:00 AM</td>\n",
       "      <td>04/07/2017 11:58:00 AM</td>\n",
       "      <td>04/06/2016</td>\n",
       "      <td>Return to Owner</td>\n",
       "      <td>NaN</td>\n",
       "      <td>Dog</td>\n",
       "      <td>Intact Female</td>\n",
       "      <td>1 year</td>\n",
       "      <td>Labrador Retriever/Jack Russell Terrier</td>\n",
       "      <td>Yellow</td>\n",
       "    </tr>\n",
       "    <tr>\n",
       "      <th>4</th>\n",
       "      <td>A750122</td>\n",
       "      <td>Happy Camper</td>\n",
       "      <td>05/24/2017 06:36:00 PM</td>\n",
       "      <td>05/24/2017 06:36:00 PM</td>\n",
       "      <td>04/08/2017</td>\n",
       "      <td>Transfer</td>\n",
       "      <td>Partner</td>\n",
       "      <td>Dog</td>\n",
       "      <td>Intact Male</td>\n",
       "      <td>1 month</td>\n",
       "      <td>Labrador Retriever Mix</td>\n",
       "      <td>Black</td>\n",
       "    </tr>\n",
       "  </tbody>\n",
       "</table>\n",
       "</div>"
      ],
      "text/plain": [
       "  Animal ID          Name                DateTime               MonthYear  \\\n",
       "0   A741715      *Pebbles  01/11/2017 06:17:00 PM  01/11/2017 06:17:00 PM   \n",
       "1   A658751         Benji  11/13/2016 01:38:00 PM  11/13/2016 01:38:00 PM   \n",
       "2   A721285           NaN  02/24/2016 02:42:00 PM  02/24/2016 02:42:00 PM   \n",
       "3   A746650          Rose  04/07/2017 11:58:00 AM  04/07/2017 11:58:00 AM   \n",
       "4   A750122  Happy Camper  05/24/2017 06:36:00 PM  05/24/2017 06:36:00 PM   \n",
       "\n",
       "  Date of Birth     Outcome Type Outcome Subtype Animal Type Sex upon Outcome  \\\n",
       "0    03/07/2016         Adoption             NaN         Cat    Spayed Female   \n",
       "1    07/14/2011  Return to Owner             NaN         Dog    Neutered Male   \n",
       "2    02/24/2014       Euthanasia       Suffering       Other          Unknown   \n",
       "3    04/06/2016  Return to Owner             NaN         Dog    Intact Female   \n",
       "4    04/08/2017         Transfer         Partner         Dog      Intact Male   \n",
       "\n",
       "  Age upon Outcome                                    Breed       Color  \n",
       "0        10 months                   Domestic Shorthair Mix      Calico  \n",
       "1          5 years                       Border Terrier Mix         Tan  \n",
       "2          2 years                              Raccoon Mix  Black/Gray  \n",
       "3           1 year  Labrador Retriever/Jack Russell Terrier      Yellow  \n",
       "4          1 month                   Labrador Retriever Mix       Black  "
      ]
     },
     "execution_count": 198,
     "metadata": {},
     "output_type": "execute_result"
    }
   ],
   "source": [
    "outcome.head()"
   ]
  },
  {
   "cell_type": "markdown",
   "metadata": {
    "collapsed": true
   },
   "source": [
    "### 기타 References:\n",
    "\n",
    "- https://cwpkuo.github.io/series/kaggle-animal-shelter/\n",
    "- https://ttran0.github.io/Austin-Animal-Shelter-Outcome-Analysis.html\n",
    "- https://issuu.com/terezdotcc/docs/final_kaggle_-_shelter_animal_outco\n",
    "- https://www.kaggle.com/andraszsom/dog-breeds-dog-groups\n",
    "- Python Machine Learning 2nd Edition, Sebastian Raschka & Vahid Mirjalili"
   ]
  }
 ],
 "metadata": {
  "kernelspec": {
   "display_name": "Python 3",
   "language": "python",
   "name": "python3"
  },
  "language_info": {
   "codemirror_mode": {
    "name": "ipython",
    "version": 3
   },
   "file_extension": ".py",
   "mimetype": "text/x-python",
   "name": "python",
   "nbconvert_exporter": "python",
   "pygments_lexer": "ipython3",
   "version": "3.6.3"
  }
 },
 "nbformat": 4,
 "nbformat_minor": 2
}
